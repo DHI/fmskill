{
  "cells": [
    {
      "cell_type": "markdown",
      "metadata": {},
      "source": [
        "# \n",
        "\n",
        "# c_bias\n",
        "\n",
        "``` python\n",
        "metrics.c_bias(obs, model)\n",
        "```\n",
        "\n",
        "Circular bias (mean error)\n",
        "\n",
        "## Parameters\n",
        "\n",
        "| Name  | Type      | Description                     | Default    |\n",
        "|-------|-----------|---------------------------------|------------|\n",
        "| obs   | ArrayLike | Observation in degrees (0, 360) | *required* |\n",
        "| model | ArrayLike | Model in degrees (0, 360)       | *required* |\n",
        "\n",
        "## Notes\n",
        "\n",
        "Range: $[-180., 180.]$; Best: 0.\n",
        "\n",
        "## Returns\n",
        "\n",
        "| Name | Type  | Description   |\n",
        "|------|-------|---------------|\n",
        "|      | float | Circular bias |\n",
        "\n",
        "## Examples\n",
        "\n",
        "``` python\n",
        ">>> obs = np.array([10., 355., 170.])\n",
        ">>> mod = np.array([20., 5., -180.])\n",
        ">>> c_bias(obs, mod)\n",
        "np.float64(10.0)\n",
        "```"
      ],
      "id": "7032f24a-4dc4-4de1-abcc-f7a32ce383ba"
    }
  ],
  "nbformat": 4,
  "nbformat_minor": 5,
  "metadata": {
    "kernelspec": {
      "display_name": "Python 3",
      "language": "python",
      "name": "python3"
    }
  }
}