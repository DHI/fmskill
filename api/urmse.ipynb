{
  "cells": [
    {
      "cell_type": "markdown",
      "metadata": {},
      "source": [
        "# \n",
        "\n",
        "# urmse\n",
        "\n",
        "``` python\n",
        "metrics.urmse(obs, model, weights=None)\n",
        "```\n",
        "\n",
        "Unbiased Root Mean Squared Error (uRMSE)\n",
        "\n",
        "$$\n",
        "res_i = model_i - obs_i\n",
        "$$\n",
        "\n",
        "$$\n",
        "res_{u,i} = res_i - \\overline {res}\n",
        "$$\n",
        "\n",
        "$$\n",
        "uRMSE = \\sqrt{\\frac{1}{n} \\sum_{i=1}^n res_{u,i}^2}\n",
        "$$\n",
        "\n",
        "Range: $[0, \\infty)$; Best: 0\n",
        "\n",
        "## See Also\n",
        "\n",
        "root_mean_squared_error"
      ],
      "id": "77bf204c-c268-48ce-ba9d-b3ef6c066fb2"
    }
  ],
  "nbformat": 4,
  "nbformat_minor": 5,
  "metadata": {
    "kernelspec": {
      "display_name": "Python 3",
      "language": "python",
      "name": "python3"
    }
  }
}