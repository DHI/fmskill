{
  "cells": [
    {
      "cell_type": "markdown",
      "metadata": {},
      "source": [
        "# \n",
        "\n",
        "# mef\n",
        "\n",
        "``` python\n",
        "metrics.mef(obs, model)\n",
        "```\n",
        "\n",
        "alias for model_efficiency_factor"
      ],
      "id": "f7410f13-9f63-413f-80e2-740b193dea62"
    }
  ],
  "nbformat": 4,
  "nbformat_minor": 5,
  "metadata": {
    "kernelspec": {
      "display_name": "Python 3",
      "language": "python",
      "name": "python3"
    }
  }
}