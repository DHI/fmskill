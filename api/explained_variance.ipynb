{
  "cells": [
    {
      "cell_type": "markdown",
      "metadata": {},
      "source": [
        "# \n",
        "\n",
        "# explained_variance\n",
        "\n",
        "``` python\n",
        "metrics.explained_variance(obs, model)\n",
        "```\n",
        "\n",
        "EV: Explained variance\n",
        "\n",
        "EV is the explained variance and measures the proportion \\[0 - 1\\] to\n",
        "which the model accounts for the variation (dispersion) of the\n",
        "observations.\n",
        "\n",
        "In cases with no bias, EV is equal to r2\n",
        "\n",
        "$$\n",
        "\\frac{ \\sum_{i=1}^n (obs_i - \\overline{obs})^2 -\n",
        "\\sum_{i=1}^n \\left( (obs_i - \\overline{obs}) -\n",
        "(model_i - \\overline{model}) \\right)^2}{\\sum_{i=1}^n\n",
        "(obs_i - \\overline{obs})^2}\n",
        "$$\n",
        "\n",
        "Range: \\[0, 1\\]; Best: 1\n",
        "\n",
        "## See Also\n",
        "\n",
        "r2"
      ],
      "id": "c5f46d1b-d44e-47d4-adff-b11ed670b043"
    }
  ],
  "nbformat": 4,
  "nbformat_minor": 5,
  "metadata": {
    "kernelspec": {
      "display_name": "Python 3",
      "language": "python",
      "name": "python3"
    }
  }
}