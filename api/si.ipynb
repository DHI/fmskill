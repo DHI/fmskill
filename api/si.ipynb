{
  "cells": [
    {
      "cell_type": "markdown",
      "metadata": {},
      "source": [
        "# \n",
        "\n",
        "# si\n",
        "\n",
        "``` python\n",
        "metrics.si(obs, model)\n",
        "```\n",
        "\n",
        "alias for scatter_index"
      ],
      "id": "576cdde0-d038-4312-82c3-5ca1ce56fe9f"
    }
  ],
  "nbformat": 4,
  "nbformat_minor": 5,
  "metadata": {
    "kernelspec": {
      "display_name": "Python 3",
      "language": "python",
      "name": "python3"
    }
  }
}