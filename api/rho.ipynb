{
  "cells": [
    {
      "cell_type": "markdown",
      "metadata": {},
      "source": [
        "# \n",
        "\n",
        "# rho\n",
        "\n",
        "``` python\n",
        "metrics.rho(obs, model)\n",
        "```\n",
        "\n",
        "alias for spearmanr"
      ],
      "id": "49654536-7044-462f-aaa5-740a59d3a726"
    }
  ],
  "nbformat": 4,
  "nbformat_minor": 5,
  "metadata": {
    "kernelspec": {
      "display_name": "Python 3",
      "language": "python",
      "name": "python3"
    }
  }
}