{
  "cells": [
    {
      "cell_type": "markdown",
      "metadata": {},
      "source": [
        "# \n",
        "\n",
        "# willmott\n",
        "\n",
        "``` python\n",
        "metrics.willmott(obs, model)\n",
        "```\n",
        "\n",
        "Willmott’s Index of Agreement\n",
        "\n",
        "A scaled representation of the predictive accuracy of the model against\n",
        "observations. A value of 1 indicates a perfect match, and 0 indicates no\n",
        "agreement at all.\n",
        "\n",
        "$$\n",
        "willmott = 1 - \\frac{\\frac{1}{n} \\sum_{i=1}^n(model_i - obs_i)^2}\n",
        "                    {\\frac{1}{n} \\sum_{i=1}^n(|model_i - \\overline{obs}| + |obs_i - \\overline{obs}|)^2}\n",
        "$$\n",
        "\n",
        "Range: \\[0, 1\\]; Best: 1\n",
        "\n",
        "## Examples\n",
        "\n",
        "``` python\n",
        ">>> obs = np.array([1.0, 1.1, 1.2, 1.3, 1.4, 1.4, 1.3])\n",
        ">>> model = np.array([1.02, 1.16, 1.3, 1.38, 1.49, 1.45, 1.32])\n",
        ">>> willmott(obs, model)\n",
        "np.float64(0.9501403174479723)\n",
        "```\n",
        "\n",
        "## Notes\n",
        "\n",
        "Willmott, C. J. 1981. “On the validation of models”. Physical Geography,\n",
        "2, 184–194."
      ],
      "id": "df16aa84-50e9-4806-beb1-888c98f2dcf2"
    }
  ],
  "nbformat": 4,
  "nbformat_minor": 5,
  "metadata": {
    "kernelspec": {
      "display_name": "Python 3",
      "language": "python",
      "name": "python3"
    }
  }
}