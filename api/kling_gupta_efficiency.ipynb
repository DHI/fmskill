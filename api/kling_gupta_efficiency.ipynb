{
  "cells": [
    {
      "cell_type": "markdown",
      "metadata": {},
      "source": [
        "# \n",
        "\n",
        "# kling_gupta_efficiency\n",
        "\n",
        "``` python\n",
        "metrics.kling_gupta_efficiency(obs, model)\n",
        "```\n",
        "\n",
        "Kling-Gupta Efficiency (KGE)\n",
        "\n",
        "$$\n",
        "KGE = 1 - \\sqrt{(r-1)^2 + \\left(\\frac{\\sigma_{mod}}{\\sigma_{obs}} - 1\\right)^2 +\n",
        "                            \\left(\\frac{\\mu_{mod}}{\\mu_{obs}} - 1\\right)^2 }\n",
        "$$\n",
        "\n",
        "where $r$ is the pearson correlation coefficient, $\\mu_{obs},\\mu_{mod}$\n",
        "and $\\sigma_{obs},\\sigma_{mod}$ is the mean and standard deviation of\n",
        "observations and model.\n",
        "\n",
        "Range: $(-\\infty, 1]$; Best: 1\n",
        "\n",
        "## Notes\n",
        "\n",
        "Gupta, H. V., Kling, H., Yilmaz, K. K. and Martinez, G. F., (2009),\n",
        "Decomposition of the mean squared error and NSE performance criteria:\n",
        "Implications for improving hydrological modelling, J. Hydrol., 377(1-2),\n",
        "80-91 <https://doi.org/10.1016/j.jhydrol.2009.08.003>\n",
        "\n",
        "Knoben, W. J. M., Freer, J. E., and Woods, R. A. (2019) Technical note:\n",
        "Inherent benchmark or not? Comparing Nash–Sutcliffe and Kling–Gupta\n",
        "efficiency scores, Hydrol. Earth Syst. Sci., 23, 4323-4331\n",
        "<https://doi.org/10.5194/hess-23-4323-2019>"
      ],
      "id": "d4970e90-7d11-4531-b5db-3e92cf44c7d8"
    }
  ],
  "nbformat": 4,
  "nbformat_minor": 5,
  "metadata": {
    "kernelspec": {
      "display_name": "Python 3",
      "language": "python",
      "name": "python3"
    }
  }
}