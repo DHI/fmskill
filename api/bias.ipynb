{
  "cells": [
    {
      "cell_type": "markdown",
      "metadata": {},
      "source": [
        "# \n",
        "\n",
        "# bias\n",
        "\n",
        "``` python\n",
        "metrics.bias(obs, model)\n",
        "```\n",
        "\n",
        "Bias (mean error)\n",
        "\n",
        "$$\n",
        "bias=\\frac{1}{n}\\sum_{i=1}^n (model_i - obs_i)\n",
        "$$\n",
        "\n",
        "Range: $(-\\infty, \\infty)$; Best: 0"
      ],
      "id": "dc2a4bac-bcde-45c7-8534-33dee86d3281"
    }
  ],
  "nbformat": 4,
  "nbformat_minor": 5,
  "metadata": {
    "kernelspec": {
      "display_name": "Python 3",
      "language": "python",
      "name": "python3"
    }
  }
}