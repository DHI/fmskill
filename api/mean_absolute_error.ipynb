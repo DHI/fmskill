{
  "cells": [
    {
      "cell_type": "markdown",
      "metadata": {},
      "source": [
        "# \n",
        "\n",
        "# mean_absolute_error\n",
        "\n",
        "``` python\n",
        "metrics.mean_absolute_error(obs, model, weights=None)\n",
        "```\n",
        "\n",
        "Mean Absolute Error (MAE)\n",
        "\n",
        "$$\n",
        "MAE=\\frac{1}{n}\\sum_{i=1}^n|model_i - obs_i|\n",
        "$$\n",
        "\n",
        "Range: $[0, \\infty)$; Best: 0"
      ],
      "id": "b97a2994-2ab2-4376-b85c-e40aab1cef42"
    }
  ],
  "nbformat": 4,
  "nbformat_minor": 5,
  "metadata": {
    "kernelspec": {
      "display_name": "Python 3",
      "language": "python",
      "name": "python3"
    }
  }
}