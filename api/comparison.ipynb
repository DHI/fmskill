{
  "cells": [
    {
      "cell_type": "markdown",
      "metadata": {},
      "source": [
        "# \n",
        "\n",
        "# comparison\n",
        "\n",
        "`comparison`\n",
        "\n",
        "Compare model output with observations.\n",
        "\n",
        "The `comparison` module contains different types of classes for single\n",
        "observation comparison (Comparer), and collections of Comparers\n",
        "(ComparerCollection)."
      ],
      "id": "f2ed7eca-f851-49ef-8ece-95024890ea57"
    }
  ],
  "nbformat": 4,
  "nbformat_minor": 5,
  "metadata": {
    "kernelspec": {
      "display_name": "Python 3",
      "language": "python",
      "name": "python3"
    }
  }
}