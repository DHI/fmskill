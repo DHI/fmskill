{
  "cells": [
    {
      "cell_type": "markdown",
      "metadata": {},
      "source": [
        "# \n",
        "\n",
        "# c_mae\n",
        "\n",
        "``` python\n",
        "metrics.c_mae(obs, model, weights=None)\n",
        "```\n",
        "\n",
        "alias for circular mean absolute error"
      ],
      "id": "0152341f-b366-4ad3-8373-651ba2a50398"
    }
  ],
  "nbformat": 4,
  "nbformat_minor": 5,
  "metadata": {
    "kernelspec": {
      "display_name": "Python 3",
      "language": "python",
      "name": "python3"
    }
  }
}