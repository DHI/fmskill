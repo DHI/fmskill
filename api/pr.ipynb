{
  "cells": [
    {
      "cell_type": "markdown",
      "metadata": {},
      "source": [
        "# \n",
        "\n",
        "# pr\n",
        "\n",
        "``` python\n",
        "metrics.pr(obs, model, inter_event_level=0.7, AAP=2, inter_event_time='36h')\n",
        "```\n",
        "\n",
        "alias for peak_ratio"
      ],
      "id": "a8d0a646-e9e2-4c7f-a5e1-c69a988b860d"
    }
  ],
  "nbformat": 4,
  "nbformat_minor": 5,
  "metadata": {
    "kernelspec": {
      "display_name": "Python 3",
      "language": "python",
      "name": "python3"
    }
  }
}