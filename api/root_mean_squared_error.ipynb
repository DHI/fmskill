{
  "cells": [
    {
      "cell_type": "markdown",
      "metadata": {},
      "source": [
        "# \n",
        "\n",
        "# root_mean_squared_error\n",
        "\n",
        "``` python\n",
        "metrics.root_mean_squared_error(obs, model, weights=None, unbiased=False)\n",
        "```\n",
        "\n",
        "Root Mean Squared Error (RMSE)\n",
        "\n",
        "$$\n",
        "res_i = model_i - obs_i\n",
        "$$\n",
        "\n",
        "$$\n",
        "RMSE=\\sqrt{\\frac{1}{n} \\sum_{i=1}^n res_i^2}\n",
        "$$\n",
        "\n",
        "Unbiased version:\n",
        "\n",
        "$$\n",
        "res_{u,i} = res_i - \\overline {res}\n",
        "$$\n",
        "\n",
        "$$\n",
        "uRMSE=\\sqrt{\\frac{1}{n} \\sum_{i=1}^n res_{u,i}^2}\n",
        "$$\n",
        "\n",
        "Range: $[0, \\infty)$; Best: 0"
      ],
      "id": "a4db9a8c-0496-4dc3-9830-ce12a830eaa8"
    }
  ],
  "nbformat": 4,
  "nbformat_minor": 5,
  "metadata": {
    "kernelspec": {
      "display_name": "Python 3",
      "language": "python",
      "name": "python3"
    }
  }
}