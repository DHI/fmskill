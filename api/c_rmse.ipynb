{
  "cells": [
    {
      "cell_type": "markdown",
      "metadata": {},
      "source": [
        "# \n",
        "\n",
        "# c_rmse\n",
        "\n",
        "``` python\n",
        "metrics.c_rmse(obs, model, weights=None)\n",
        "```\n",
        "\n",
        "alias for circular root mean squared error"
      ],
      "id": "b48ac769-2532-47bb-9f96-ab880cb9c1f7"
    }
  ],
  "nbformat": 4,
  "nbformat_minor": 5,
  "metadata": {
    "kernelspec": {
      "display_name": "Python 3",
      "language": "python",
      "name": "python3"
    }
  }
}