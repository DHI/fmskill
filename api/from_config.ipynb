{
  "cells": [
    {
      "cell_type": "markdown",
      "metadata": {},
      "source": [
        "# \n",
        "\n",
        "# from_config\n",
        "\n",
        "``` python\n",
        "from_config(conf, *, relative_path=True)\n",
        "```\n",
        "\n",
        "Load ComparerCollection from a config file (or dict)\n",
        "\n",
        "## Parameters\n",
        "\n",
        "| Name | Type | Description | Default |\n",
        "|-------|-----------|--------------------------------------------------|------|\n",
        "| conf | Union\\[str, Path, dict\\] | path to config file or dict with configuration | *required* |\n",
        "| relative_path |  | True: file paths are relative to configuration file, False: file paths are absolute (relative to the current directory), by default True | `True` |\n",
        "\n",
        "## Returns\n",
        "\n",
        "| Name | Type | Description |\n",
        "|--------|-----------------|-----------------------------------------------|\n",
        "|  | ComparerCollection | A ComparerCollection object from the given configuration |\n",
        "\n",
        "## Examples\n",
        "\n",
        "``` python\n",
        ">>> import modelskill as ms\n",
        ">>> cc = ms.from_config('Oresund.yml')\n",
        "```"
      ],
      "id": "4f507b9c-e765-4682-9ad6-08901d707139"
    }
  ],
  "nbformat": 4,
  "nbformat_minor": 5,
  "metadata": {
    "kernelspec": {
      "display_name": "Python 3",
      "language": "python",
      "name": "python3"
    }
  }
}