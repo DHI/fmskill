{
  "cells": [
    {
      "cell_type": "markdown",
      "metadata": {},
      "source": [
        "# \n",
        "\n",
        "# mape\n",
        "\n",
        "``` python\n",
        "metrics.mape(obs, model)\n",
        "```\n",
        "\n",
        "alias for mean_absolute_percentage_error"
      ],
      "id": "d850ff5b-ce10-420b-b98b-8be9a2848adf"
    }
  ],
  "nbformat": 4,
  "nbformat_minor": 5,
  "metadata": {
    "kernelspec": {
      "display_name": "Python 3",
      "language": "python",
      "name": "python3"
    }
  }
}