{
  "cells": [
    {
      "cell_type": "markdown",
      "metadata": {},
      "source": [
        "# \n",
        "\n",
        "# mae\n",
        "\n",
        "``` python\n",
        "metrics.mae(obs, model, weights=None)\n",
        "```\n",
        "\n",
        "alias for mean_absolute_error"
      ],
      "id": "afc0211a-aebb-4ea8-95ca-d3d56418dbb1"
    }
  ],
  "nbformat": 4,
  "nbformat_minor": 5,
  "metadata": {
    "kernelspec": {
      "display_name": "Python 3",
      "language": "python",
      "name": "python3"
    }
  }
}