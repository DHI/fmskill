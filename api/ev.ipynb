{
  "cells": [
    {
      "cell_type": "markdown",
      "metadata": {},
      "source": [
        "# \n",
        "\n",
        "# ev\n",
        "\n",
        "``` python\n",
        "metrics.ev(obs, model)\n",
        "```\n",
        "\n",
        "alias for explained_variance"
      ],
      "id": "2962a16e-ee3a-45b8-80aa-4c3fe2bd47b1"
    }
  ],
  "nbformat": 4,
  "nbformat_minor": 5,
  "metadata": {
    "kernelspec": {
      "display_name": "Python 3",
      "language": "python",
      "name": "python3"
    }
  }
}