{
  "cells": [
    {
      "cell_type": "markdown",
      "metadata": {},
      "source": [
        "# \n",
        "\n",
        "# r2\n",
        "\n",
        "``` python\n",
        "metrics.r2(obs, model)\n",
        "```\n",
        "\n",
        "Coefficient of determination (R2)\n",
        "\n",
        "Pronounced ‘R-squared’; the proportion of the variation in the dependent\n",
        "variable that is predictable from the independent variable(s), i.e. the\n",
        "proportion of explained variance.\n",
        "\n",
        "$$\n",
        "R^2 = 1 - \\frac{\\sum_{i=1}^n (model_i - obs_i)^2}\n",
        "                {\\sum_{i=1}^n (obs_i - \\overline {obs})^2}\n",
        "$$\n",
        "\n",
        "Range: $(-\\infty, 1]$; Best: 1\n",
        "\n",
        "## Notes\n",
        "\n",
        "r2 = nash_sutcliffe_efficiency(nse)\n",
        "\n",
        "## Examples\n",
        "\n",
        "``` python\n",
        ">>> obs = np.array([1.0,1.1,1.2,1.3,1.4])\n",
        ">>> model = np.array([1.09, 1.16, 1.3 , 1.38, 1.49])\n",
        ">>> r2(obs,model)\n",
        "np.float64(0.6379999999999998)\n",
        "```"
      ],
      "id": "e8b246d4-4090-4aff-8cf7-cf23a381ad2b"
    }
  ],
  "nbformat": 4,
  "nbformat_minor": 5,
  "metadata": {
    "kernelspec": {
      "display_name": "Python 3",
      "language": "python",
      "name": "python3"
    }
  }
}