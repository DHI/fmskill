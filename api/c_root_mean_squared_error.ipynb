{
  "cells": [
    {
      "cell_type": "markdown",
      "metadata": {},
      "source": [
        "# \n",
        "\n",
        "# c_root_mean_squared_error\n",
        "\n",
        "``` python\n",
        "metrics.c_root_mean_squared_error(obs, model, weights=None)\n",
        "```\n",
        "\n",
        "Circular root mean squared error\n",
        "\n",
        "## Parameters\n",
        "\n",
        "| Name    | Type      | Description                     | Default    |\n",
        "|---------|-----------|---------------------------------|------------|\n",
        "| obs     | ArrayLike | Observation in degrees (0, 360) | *required* |\n",
        "| model   | ArrayLike | Model in degrees (0, 360)       | *required* |\n",
        "| weights | ArrayLike | Weights, by default None        | `None`     |\n",
        "\n",
        "## Notes\n",
        "\n",
        "Range: \\[0, 180\\]; Best: 0\n",
        "\n",
        "## Returns\n",
        "\n",
        "| Name | Type  | Description                      |\n",
        "|------|-------|----------------------------------|\n",
        "|      | float | Circular root mean squared error |"
      ],
      "id": "240afb42-f780-452f-a9e2-ebdc0a15b06d"
    }
  ],
  "nbformat": 4,
  "nbformat_minor": 5,
  "metadata": {
    "kernelspec": {
      "display_name": "Python 3",
      "language": "python",
      "name": "python3"
    }
  }
}