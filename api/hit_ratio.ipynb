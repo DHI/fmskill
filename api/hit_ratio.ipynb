{
  "cells": [
    {
      "cell_type": "markdown",
      "metadata": {},
      "source": [
        "# \n",
        "\n",
        "# hit_ratio\n",
        "\n",
        "``` python\n",
        "metrics.hit_ratio(obs, model, a=0.1)\n",
        "```\n",
        "\n",
        "Fraction within obs ± acceptable deviation\n",
        "\n",
        "$$\n",
        "HR = \\frac{1}{n}\\sum_{i=1}^n I_{|(model_i - obs_i)|} < a\n",
        "$$\n",
        "\n",
        "Range: \\[0, 1\\]; Best: 1\n",
        "\n",
        "## Examples\n",
        "\n",
        "``` python\n",
        ">>> obs = np.array([1.0, 1.1, 1.2, 1.3, 1.4, 1.4, 1.3])\n",
        ">>> model = np.array([1.02, 1.16, 1.3, 1.38, 1.49, 1.45, 1.32])\n",
        ">>> hit_ratio(obs, model, a=0.05)\n",
        "np.float64(0.2857142857142857)\n",
        ">>> hit_ratio(obs, model, a=0.1)\n",
        "np.float64(0.8571428571428571)\n",
        ">>> hit_ratio(obs, model, a=0.15)\n",
        "np.float64(1.0)\n",
        "```"
      ],
      "id": "7fbeb58a-5b50-48e8-aad3-d42691a63927"
    }
  ],
  "nbformat": 4,
  "nbformat_minor": 5,
  "metadata": {
    "kernelspec": {
      "display_name": "Python 3",
      "language": "python",
      "name": "python3"
    }
  }
}