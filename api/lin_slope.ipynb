{
  "cells": [
    {
      "cell_type": "markdown",
      "metadata": {},
      "source": [
        "# \n",
        "\n",
        "# lin_slope\n",
        "\n",
        "``` python\n",
        "metrics.lin_slope(obs, model, reg_method='ols')\n",
        "```\n",
        "\n",
        "Slope of the regression line.\n",
        "\n",
        "$$\n",
        "slope = \\frac{\\sum_{i=1}^n (model_i - \\overline {model})(obs_i - \\overline {obs})}\n",
        "                {\\sum_{i=1}^n (obs_i - \\overline {obs})^2}\n",
        "$$\n",
        "\n",
        "Range: $(-\\infty, \\infty )$; Best: 1"
      ],
      "id": "6731a4ba-25fd-4fb7-9201-6561596b21a1"
    }
  ],
  "nbformat": 4,
  "nbformat_minor": 5,
  "metadata": {
    "kernelspec": {
      "display_name": "Python 3",
      "language": "python",
      "name": "python3"
    }
  }
}