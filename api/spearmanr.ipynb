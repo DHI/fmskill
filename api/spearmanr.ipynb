{
  "cells": [
    {
      "cell_type": "markdown",
      "metadata": {},
      "source": [
        "# \n",
        "\n",
        "# spearmanr\n",
        "\n",
        "``` python\n",
        "metrics.spearmanr(obs, model)\n",
        "```\n",
        "\n",
        "Spearman rank correlation coefficient\n",
        "\n",
        "The rank correlation coefficient is similar to the Pearson correlation\n",
        "coefficient but applied to ranked quantities and is useful to quantify a\n",
        "monotonous relationship\n",
        "\n",
        "$$\n",
        "\\rho = \\frac{\\sum_{i=1}^n (rmodel_i - \\overline{rmodel})(robs_i - \\overline{robs}) }\n",
        "                {\\sqrt{\\sum_{i=1}^n (rmodel_i - \\overline{rmodel})^2}\n",
        "                \\sqrt{\\sum_{i=1}^n (robs_i - \\overline{robs})^2} }\n",
        "$$\n",
        "\n",
        "Range: \\[-1, 1\\]; Best: 1\n",
        "\n",
        "## Examples\n",
        "\n",
        "``` python\n",
        ">>> obs = np.linspace(-20, 20, 100)\n",
        ">>> mod = np.tanh(obs)\n",
        ">>> rho(obs, mod)\n",
        "np.float64(0.9999759973116955)\n",
        ">>> spearmanr(obs, mod)\n",
        "np.float64(0.9999759973116955)\n",
        "```\n",
        "\n",
        "## See Also\n",
        "\n",
        "corrcoef"
      ],
      "id": "f5fa4f3c-db46-4ecd-9465-abfd8b42a3a3"
    }
  ],
  "nbformat": 4,
  "nbformat_minor": 5,
  "metadata": {
    "kernelspec": {
      "display_name": "Python 3",
      "language": "python",
      "name": "python3"
    }
  }
}