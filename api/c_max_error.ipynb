{
  "cells": [
    {
      "cell_type": "markdown",
      "metadata": {},
      "source": [
        "# \n",
        "\n",
        "# c_max_error\n",
        "\n",
        "``` python\n",
        "metrics.c_max_error(obs, model)\n",
        "```\n",
        "\n",
        "Circular max error\n",
        "\n",
        "## Parameters\n",
        "\n",
        "| Name  | Type      | Description                     | Default    |\n",
        "|-------|-----------|---------------------------------|------------|\n",
        "| obs   | ArrayLike | Observation in degrees (0, 360) | *required* |\n",
        "| model | ArrayLike | Model in degrees (0, 360)       | *required* |\n",
        "\n",
        "## Notes\n",
        "\n",
        "Range: $[0, \\infty)$; Best: 0\n",
        "\n",
        "## Returns\n",
        "\n",
        "| Name | Type  | Description        |\n",
        "|------|-------|--------------------|\n",
        "|      | float | Circular max error |\n",
        "\n",
        "## Examples\n",
        "\n",
        "``` python\n",
        ">>> obs = np.array([10., 350., 10.])\n",
        ">>> mod = np.array([20., 10., 350.])\n",
        ">>> c_max_error(obs, mod)\n",
        "np.float64(20.0)\n",
        "```"
      ],
      "id": "5baf6421-d5b8-4d66-89cd-1bcb357182af"
    }
  ],
  "nbformat": 4,
  "nbformat_minor": 5,
  "metadata": {
    "kernelspec": {
      "display_name": "Python 3",
      "language": "python",
      "name": "python3"
    }
  }
}