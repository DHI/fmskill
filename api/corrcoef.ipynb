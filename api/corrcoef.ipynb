{
  "cells": [
    {
      "cell_type": "markdown",
      "metadata": {},
      "source": [
        "# \n",
        "\n",
        "# corrcoef\n",
        "\n",
        "``` python\n",
        "metrics.corrcoef(obs, model, weights=None)\n",
        "```\n",
        "\n",
        "Pearson’s Correlation coefficient (CC)\n",
        "\n",
        "$$\n",
        "CC = \\frac{\\sum_{i=1}^n (model_i - \\overline{model})(obs_i - \\overline{obs}) }\n",
        "               {\\sqrt{\\sum_{i=1}^n (model_i - \\overline{model})^2}\n",
        "                \\sqrt{\\sum_{i=1}^n (obs_i - \\overline{obs})^2} }\n",
        "$$\n",
        "\n",
        "Range: \\[-1, 1\\]; Best: 1\n",
        "\n",
        "## See Also\n",
        "\n",
        "spearmanr np.corrcoef"
      ],
      "id": "b424edcd-8c46-4e8d-a25d-96c1375ffeb0"
    }
  ],
  "nbformat": 4,
  "nbformat_minor": 5,
  "metadata": {
    "kernelspec": {
      "display_name": "Python 3",
      "language": "python",
      "name": "python3"
    }
  }
}