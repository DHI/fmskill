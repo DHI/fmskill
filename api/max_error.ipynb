{
  "cells": [
    {
      "cell_type": "markdown",
      "metadata": {},
      "source": [
        "# \n",
        "\n",
        "# max_error\n",
        "\n",
        "``` python\n",
        "metrics.max_error(obs, model)\n",
        "```\n",
        "\n",
        "Max (absolute) error\n",
        "\n",
        "$$\n",
        "max_{error} = max(|model_i - obs_i|)\n",
        "$$\n",
        "\n",
        "Range: $[0, \\infty)$; Best: 0"
      ],
      "id": "0d80ca65-8366-4adc-a57f-479fce4e3ffd"
    }
  ],
  "nbformat": 4,
  "nbformat_minor": 5,
  "metadata": {
    "kernelspec": {
      "display_name": "Python 3",
      "language": "python",
      "name": "python3"
    }
  }
}