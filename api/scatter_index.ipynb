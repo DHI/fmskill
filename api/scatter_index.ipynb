{
  "cells": [
    {
      "cell_type": "markdown",
      "metadata": {},
      "source": [
        "# \n",
        "\n",
        "# scatter_index\n",
        "\n",
        "``` python\n",
        "metrics.scatter_index(obs, model)\n",
        "```\n",
        "\n",
        "Scatter index (SI)\n",
        "\n",
        "Which is the same as the unbiased-RMSE normalized by the absolute mean\n",
        "of the observations.\n",
        "\n",
        "$$\n",
        "\\frac{ \\sqrt{ \\frac{1}{n} \\sum_{i=1}^n \\left( (model_i - \\overline {model}) - (obs_i - \\overline {obs}) \\right)^2} }\n",
        "{\\frac{1}{n} \\sum_{i=1}^n | obs_i | }\n",
        "$$\n",
        "\n",
        "Range: $[0, \\infty)$; Best: 0"
      ],
      "id": "ac8797ff-210a-47c3-ae03-5d05c04998d2"
    }
  ],
  "nbformat": 4,
  "nbformat_minor": 5,
  "metadata": {
    "kernelspec": {
      "display_name": "Python 3",
      "language": "python",
      "name": "python3"
    }
  }
}