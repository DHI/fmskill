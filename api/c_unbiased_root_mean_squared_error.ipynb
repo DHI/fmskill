{
  "cells": [
    {
      "cell_type": "markdown",
      "metadata": {},
      "source": [
        "# \n",
        "\n",
        "# c_unbiased_root_mean_squared_error\n",
        "\n",
        "``` python\n",
        "metrics.c_unbiased_root_mean_squared_error(obs, model, weights=None)\n",
        "```\n",
        "\n",
        "Circular unbiased root mean squared error\n",
        "\n",
        "## Parameters\n",
        "\n",
        "| Name    | Type      | Description                     | Default    |\n",
        "|---------|-----------|---------------------------------|------------|\n",
        "| obs     | ArrayLike | Observation in degrees (0, 360) | *required* |\n",
        "| model   | ArrayLike | Model in degrees (0, 360)       | *required* |\n",
        "| weights | ArrayLike | Weights, by default None        | `None`     |\n",
        "\n",
        "## Notes\n",
        "\n",
        "Range: \\[0, 180\\]; Best: 0\n",
        "\n",
        "## Returns\n",
        "\n",
        "| Name | Type  | Description                               |\n",
        "|------|-------|-------------------------------------------|\n",
        "|      | float | Circular unbiased root mean squared error |"
      ],
      "id": "2a8ffcf8-c901-4df7-93c7-56ac3a400787"
    }
  ],
  "nbformat": 4,
  "nbformat_minor": 5,
  "metadata": {
    "kernelspec": {
      "display_name": "Python 3",
      "language": "python",
      "name": "python3"
    }
  }
}