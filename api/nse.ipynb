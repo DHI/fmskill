{
  "cells": [
    {
      "cell_type": "markdown",
      "metadata": {},
      "source": [
        "# \n",
        "\n",
        "# nse\n",
        "\n",
        "``` python\n",
        "metrics.nse(obs, model)\n",
        "```\n",
        "\n",
        "alias for nash_sutcliffe_efficiency"
      ],
      "id": "d9cb9f13-2589-4454-af47-2f09da5397f4"
    }
  ],
  "nbformat": 4,
  "nbformat_minor": 5,
  "metadata": {
    "kernelspec": {
      "display_name": "Python 3",
      "language": "python",
      "name": "python3"
    }
  }
}