{
  "cells": [
    {
      "cell_type": "markdown",
      "metadata": {},
      "source": [
        "# \n",
        "\n",
        "# nash_sutcliffe_efficiency\n",
        "\n",
        "``` python\n",
        "metrics.nash_sutcliffe_efficiency(obs, model)\n",
        "```\n",
        "\n",
        "Nash-Sutcliffe Efficiency (NSE)\n",
        "\n",
        "$$\n",
        "NSE = 1 - \\frac {\\sum _{i=1}^{n}\\left(model_{i} - obs_{i}\\right)^{2}}\n",
        "                {\\sum_{i=1}^{n}\\left(obs_{i} - {\\overline{obs}}\\right)^{2}}\n",
        "$$\n",
        "\n",
        "Range: $(-\\infty, 1]$; Best: 1\n",
        "\n",
        "## Notes\n",
        "\n",
        "r2 = nash_sutcliffe_efficiency(nse)\n",
        "\n",
        "Nash, J. E.; Sutcliffe, J. V. (1970). “River flow forecasting through\n",
        "conceptual models part I — A discussion of principles”. Journal of\n",
        "Hydrology. 10 (3): 282–290.\n",
        "<https://doi.org/10.1016/0022-1694(70)90255-6>"
      ],
      "id": "d9ad294d-ea4e-41ac-82b0-60042d5b9c8d"
    }
  ],
  "nbformat": 4,
  "nbformat_minor": 5,
  "metadata": {
    "kernelspec": {
      "display_name": "Python 3",
      "language": "python",
      "name": "python3"
    }
  }
}