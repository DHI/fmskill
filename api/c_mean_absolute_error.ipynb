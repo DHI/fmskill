{
  "cells": [
    {
      "cell_type": "markdown",
      "metadata": {},
      "source": [
        "# \n",
        "\n",
        "# c_mean_absolute_error\n",
        "\n",
        "``` python\n",
        "metrics.c_mean_absolute_error(obs, model, weights=None)\n",
        "```\n",
        "\n",
        "Circular mean absolute error\n",
        "\n",
        "## Parameters\n",
        "\n",
        "| Name    | Type      | Description                     | Default    |\n",
        "|---------|-----------|---------------------------------|------------|\n",
        "| obs     | ArrayLike | Observation in degrees (0, 360) | *required* |\n",
        "| model   | ArrayLike | Model in degrees (0, 360)       | *required* |\n",
        "| weights | ArrayLike | Weights, by default None        | `None`     |\n",
        "\n",
        "## Notes\n",
        "\n",
        "Range: \\[0, 180\\]; Best: 0\n",
        "\n",
        "## Returns\n",
        "\n",
        "| Name | Type  | Description                  |\n",
        "|------|-------|------------------------------|\n",
        "|      | float | Circular mean absolute error |"
      ],
      "id": "d685490e-4159-454d-8c50-25a9c5ea0bc6"
    }
  ],
  "nbformat": 4,
  "nbformat_minor": 5,
  "metadata": {
    "kernelspec": {
      "display_name": "Python 3",
      "language": "python",
      "name": "python3"
    }
  }
}