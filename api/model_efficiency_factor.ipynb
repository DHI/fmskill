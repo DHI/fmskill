{
  "cells": [
    {
      "cell_type": "markdown",
      "metadata": {},
      "source": [
        "# \n",
        "\n",
        "# model_efficiency_factor\n",
        "\n",
        "``` python\n",
        "metrics.model_efficiency_factor(obs, model)\n",
        "```\n",
        "\n",
        "Model Efficiency Factor (MEF)\n",
        "\n",
        "Scale independent RMSE, standardized by Stdev of observations\n",
        "\n",
        "$$\n",
        "MEF = \\frac{RMSE}{STDEV}=\\frac{\\sqrt{\\frac{1}{n} \\sum_{i=1}^n(model_i - obs_i)^2}}\n",
        "                                {\\sqrt{\\frac{1}{n} \\sum_{i=1}^n(obs_i - \\overline{obs})^2}}=\\sqrt{1-NSE}\n",
        "$$\n",
        "\n",
        "Range: $[0, \\infty)$; Best: 0\n",
        "\n",
        "## See Also\n",
        "\n",
        "nash_sutcliffe_efficiency root_mean_squared_error"
      ],
      "id": "88af5d8e-b44f-4d58-aa83-605db1e33a38"
    }
  ],
  "nbformat": 4,
  "nbformat_minor": 5,
  "metadata": {
    "kernelspec": {
      "display_name": "Python 3",
      "language": "python",
      "name": "python3"
    }
  }
}