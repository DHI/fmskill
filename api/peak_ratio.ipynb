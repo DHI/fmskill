{
  "cells": [
    {
      "cell_type": "markdown",
      "metadata": {},
      "source": [
        "# \n",
        "\n",
        "# peak_ratio\n",
        "\n",
        "``` python\n",
        "metrics.peak_ratio(\n",
        "    obs,\n",
        "    model,\n",
        "    inter_event_level=0.7,\n",
        "    AAP=2,\n",
        "    inter_event_time='36h',\n",
        ")\n",
        "```\n",
        "\n",
        "Peak Ratio\n",
        "\n",
        "PR is the mean of the largest-N individual ratios of identified peaks in\n",
        "the model / identified peaks in the measurements (N number of events\n",
        "defined by AAP). PR is calculated only for the joint-events, ie, events\n",
        "that ocurr simulateneously within a window +/- 0.5\\*inter_event_time.\n",
        "\n",
        "## Parameters\n",
        "\n",
        "| Name | Type | Description | Default |\n",
        "|-----------|------------|------------------------------------------|-------|\n",
        "| inter_event_level | float | Inter-event level threshold (default: 0.7). | `0.7` |\n",
        "| AAP | Union\\[int, float\\] | Average Annual Peaks (ie, Number of peaks per year, on average). (default: 2) | `2` |\n",
        "| inter_event_time | str | Maximum time interval between peaks (default: 36 hours). | `'36h'` |\n",
        "\n",
        "## Notes\n",
        "\n",
        "$\\frac{\\sum_{i=1}^{N_{joint-peaks}} (\\frac{Peak_{model_i}}{Peak_{obs_i}} )}{N_{joint-peaks}}$\n",
        "\n",
        "Range: $[0, \\infty)$; Best: 1.0"
      ],
      "id": "9836f7d0-fbc8-4280-9972-a6821ef8e540"
    }
  ],
  "nbformat": 4,
  "nbformat_minor": 5,
  "metadata": {
    "kernelspec": {
      "display_name": "Python 3",
      "language": "python",
      "name": "python3"
    }
  }
}