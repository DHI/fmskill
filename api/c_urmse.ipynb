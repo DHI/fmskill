{
  "cells": [
    {
      "cell_type": "markdown",
      "metadata": {},
      "source": [
        "# \n",
        "\n",
        "# c_urmse\n",
        "\n",
        "``` python\n",
        "metrics.c_urmse(obs, model, weights=None)\n",
        "```\n",
        "\n",
        "alias for circular unbiased root mean squared error"
      ],
      "id": "8e8f310a-11fa-493f-9be0-c949e3c5dd5e"
    }
  ],
  "nbformat": 4,
  "nbformat_minor": 5,
  "metadata": {
    "kernelspec": {
      "display_name": "Python 3",
      "language": "python",
      "name": "python3"
    }
  }
}