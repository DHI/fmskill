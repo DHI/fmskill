{
  "cells": [
    {
      "cell_type": "markdown",
      "metadata": {},
      "source": [
        "# \n",
        "\n",
        "# kge\n",
        "\n",
        "``` python\n",
        "metrics.kge(obs, model)\n",
        "```\n",
        "\n",
        "alias for kling_gupta_efficiency"
      ],
      "id": "5dad237e-5796-4a9f-ac6c-e1c46abc2da1"
    }
  ],
  "nbformat": 4,
  "nbformat_minor": 5,
  "metadata": {
    "kernelspec": {
      "display_name": "Python 3",
      "language": "python",
      "name": "python3"
    }
  }
}