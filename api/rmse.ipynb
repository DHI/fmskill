{
  "cells": [
    {
      "cell_type": "markdown",
      "metadata": {},
      "source": [
        "# \n",
        "\n",
        "# rmse\n",
        "\n",
        "``` python\n",
        "metrics.rmse(obs, model, weights=None, unbiased=False)\n",
        "```\n",
        "\n",
        "alias for root_mean_squared_error"
      ],
      "id": "3d3beaf0-9243-4a8c-b854-a3684ae1b01f"
    }
  ],
  "nbformat": 4,
  "nbformat_minor": 5,
  "metadata": {
    "kernelspec": {
      "display_name": "Python 3",
      "language": "python",
      "name": "python3"
    }
  }
}