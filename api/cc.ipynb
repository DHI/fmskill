{
  "cells": [
    {
      "cell_type": "markdown",
      "metadata": {},
      "source": [
        "# \n",
        "\n",
        "# cc\n",
        "\n",
        "``` python\n",
        "metrics.cc(obs, model, weights=None)\n",
        "```\n",
        "\n",
        "alias for corrcoef"
      ],
      "id": "a868855b-5720-42e3-a3b8-c785f01afab9"
    }
  ],
  "nbformat": 4,
  "nbformat_minor": 5,
  "metadata": {
    "kernelspec": {
      "display_name": "Python 3",
      "language": "python",
      "name": "python3"
    }
  }
}