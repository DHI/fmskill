{
 "metadata": {
  "language_info": {
   "codemirror_mode": {
    "name": "ipython",
    "version": 3
   },
   "file_extension": ".py",
   "mimetype": "text/x-python",
   "name": "python",
   "nbconvert_exporter": "python",
   "pygments_lexer": "ipython3",
   "version": "3.8.5-final"
  },
  "orig_nbformat": 2,
  "kernelspec": {
   "name": "python3",
   "display_name": "Python 3",
   "language": "python"
  }
 },
 "nbformat": 4,
 "nbformat_minor": 2,
 "cells": [
  {
   "cell_type": "code",
   "execution_count": 271,
   "metadata": {},
   "outputs": [],
   "source": [
    "import matplotlib.pyplot as plt\n",
    "from IPython.display import set_matplotlib_formats\n",
    "%matplotlib inline\n",
    "set_matplotlib_formats('png')"
   ]
  },
  {
   "cell_type": "code",
   "execution_count": 1,
   "metadata": {},
   "outputs": [
    {
     "output_type": "stream",
     "name": "stdout",
     "text": [
      "Support for PFS files in mikeio is experimental. The API is likely to change!\n"
     ]
    }
   ],
   "source": [
    "import numpy as np\n",
    "import mikeio\n",
    "from mikeio.pfs import PfsCore\n",
    "\n",
    "\n",
    "\n",
    "basefolder = \"C:\\data\\Lake\\work\"\n",
    "obsfolder = \"C:\\data\\Lake\\obs\"\n",
    "\n",
    "pfs = PfsCore(r\"C:\\data\\Lake\\template\\Lake.sw\")\n",
    "\n",
    "\n",
    "def run_simulation(charnock, roughness):\n",
    "    wind_section = pfs.section(\"SPECTRAL_WAVE_MODULE\").section(\"WIND\")\n",
    "    wind_section[\"background_Charnock_parameter\"] = charnock # 0.01\n",
    "\n",
    "    bf = pfs.section(\"SPECTRAL_WAVE_MODULE\").section(\"BOTTOM_FRICTION\")\n",
    "    bf.section(\"NIKURADSE_ROUGHNESS\")[\"constant_value\"] = roughness # 0.04\n",
    "\n",
    "    filename = os.path.join(basefolder,f\"lake.sw\")\n",
    "    pfs.write(filename)\n",
    "    cmdline = f\"FemEngineSW {filename}\"\n",
    "    os.system(cmdline)\n",
    "\n",
    "##########################################\n",
    "# TODO replace this part with mikefm_skill\n",
    "def calculate_residuals() -> np.ndarray:\n",
    "\n",
    "    resultsfolder = os.path.join(basefolder,f\"lake.sw - Result Files\")\n",
    "    \n",
    "    obs = mikeio.read(os.path.join(obsfolder, \"waves.dfs0\"), items=0).to_dataframe().iloc[:,0]\n",
    "    mod = mikeio.read(os.path.join(resultsfolder, \"waves.dfs0\"), items=0).to_dataframe().iloc[:,0]\n",
    "    result = (obs - mod).values\n",
    "\n",
    "    return result\n",
    "\n",
    "def loss(residuals:np.ndarray) -> float:\n",
    "\n",
    "    return np.sum(residuals**2)\n",
    "##########################################\n",
    "\n",
    "def f(x):\n",
    "    run_simulation(charnock=x[0], roughness=x[1])\n",
    "    res = calculate_residuals()\n",
    "    l = loss(res)\n",
    "    print(f\"{x}: {l}\")\n",
    "    return l"
   ]
  },
  {
   "cell_type": "code",
   "execution_count": 2,
   "metadata": {},
   "outputs": [
    {
     "output_type": "stream",
     "name": "stdout",
     "text": [
      "Wall time: 14.2 s\n"
     ]
    }
   ],
   "source": [
    "%%time\n",
    "run_simulation(charnock=0.008, roughness=0.05)"
   ]
  },
  {
   "cell_type": "code",
   "execution_count": 9,
   "metadata": {},
   "outputs": [
    {
     "output_type": "stream",
     "name": "stdout",
     "text": [
      "Wall time: 20 ms\n"
     ]
    }
   ],
   "source": [
    "%%time\n",
    "res = calculate_residuals()"
   ]
  },
  {
   "cell_type": "code",
   "execution_count": 10,
   "metadata": {},
   "outputs": [
    {
     "output_type": "stream",
     "name": "stdout",
     "text": [
      "Wall time: 0 ns\n"
     ]
    },
    {
     "output_type": "execute_result",
     "data": {
      "text/plain": [
       "0.0"
      ]
     },
     "metadata": {},
     "execution_count": 10
    }
   ],
   "source": [
    "%%time \n",
    "loss(res)"
   ]
  },
  {
   "cell_type": "code",
   "execution_count": 3,
   "metadata": {},
   "outputs": [
    {
     "output_type": "stream",
     "name": "stdout",
     "text": [
      "[0.012, 0.05]: 0.026709809955556465\n"
     ]
    },
    {
     "output_type": "execute_result",
     "data": {
      "text/plain": [
       "0.026709809955556465"
      ]
     },
     "metadata": {},
     "execution_count": 3
    }
   ],
   "source": [
    "f(x=[0.012, 0.05])"
   ]
  },
  {
   "cell_type": "code",
   "execution_count": 2,
   "metadata": {},
   "outputs": [
    {
     "output_type": "stream",
     "name": "stdout",
     "text": [
      "[0.01, 0.04]: 0.0\n"
     ]
    },
    {
     "output_type": "execute_result",
     "data": {
      "text/plain": [
       "0.0"
      ]
     },
     "metadata": {},
     "execution_count": 2
    }
   ],
   "source": [
    "f(x=[0.01, 0.04])"
   ]
  },
  {
   "source": [
    "# Local optimisation"
   ],
   "cell_type": "markdown",
   "metadata": {}
  },
  {
   "cell_type": "code",
   "execution_count": 4,
   "metadata": {},
   "outputs": [
    {
     "output_type": "stream",
     "name": "stdout",
     "text": [
      "[0.005 0.05 ]: 1.5997763371548446\n",
      "[0.00500001 0.05      ]: 1.5995399820172755\n",
      "[0.005      0.05000001]: 1.5997763371548446\n",
      "[0.1  0.05]: 2.0406743309020543\n",
      "[0.09999999 0.05      ]: 2.0406742558910667\n",
      "[0.1        0.05000001]: 2.0406743309020543\n",
      "[0.03665926 0.05      ]: 0.90600464686895\n",
      "[0.03665927 0.05      ]: 0.9060047768716852\n",
      "[0.03665926 0.05000001]: 0.90600464686895\n",
      "[0.01555974 0.05      ]: 0.13549154362341792\n",
      "[0.01555975 0.05      ]: 0.1354920420477045\n",
      "[0.01555974 0.05000001]: 0.13549154362341792\n",
      "[0.01553751 0.05      ]: 0.13447648193814862\n",
      "[0.01553752 0.05      ]: 0.13447695045524127\n",
      "[0.01553751 0.05000001]: 0.13447648193814862\n",
      "[0.01544863 0.05      ]: 0.1307306334811662\n",
      "[0.01544864 0.05      ]: 0.1307310171525359\n",
      "[0.01544863 0.05000001]: 0.1307306334811662\n",
      "[0.01507715 0.05      ]: 0.11740582139554691\n",
      "[0.01507716 0.05      ]: 0.11740610299577511\n",
      "[0.01507715 0.05000001]: 0.11740582139554691\n",
      "[0.01405228 0.05      ]: 0.08260306699704376\n",
      "[0.01405229 0.05      ]: 0.08260337851958349\n",
      "[0.01405228 0.05000001]: 0.08260306699704376\n",
      "[0.00995281 0.05      ]: 2.1782925302689425e-05\n",
      "[0.00995282 0.05      ]: 2.177408322146104e-05\n",
      "[0.00995281 0.05000001]: 2.1782925302689425e-05\n",
      "[0.01010881 0.05      ]: 0.00010279849393624469\n",
      "[0.01010882 0.05      ]: 0.0001028181168066921\n",
      "[0.01010881 0.05000001]: 0.00010279849393624469\n",
      "[0.01000231 0.05      ]: 5.103512094525864e-08\n",
      "[0.01000232 0.05      ]: 5.147875650459094e-08\n",
      "[0.01000231 0.05000001]: 5.103512094525864e-08\n",
      "[0.00999994 0.05      ]: 3.077126747852432e-11\n",
      "[0.00999995 0.05      ]: 2.0824812848544566e-11\n",
      "[0.00999994 0.05000001]: 3.077126747852432e-11\n",
      "[0.01 0.05]: 2.6485503243703357e-13\n",
      "[0.01000001 0.05      ]: 5.312219848035982e-13\n",
      "[0.01       0.05000001]: 2.6485503243703357e-13\n"
     ]
    }
   ],
   "source": [
    "from scipy.optimize import minimize\n",
    "\n",
    "r = minimize(f, x0=[0.005, 0.05], bounds=[(0.001, 0.1), (0.02, 0.06)])"
   ]
  },
  {
   "cell_type": "code",
   "execution_count": 5,
   "metadata": {},
   "outputs": [
    {
     "output_type": "execute_result",
     "data": {
      "text/plain": [
       "      fun: 2.6485503243703357e-13\n",
       " hess_inv: <2x2 LbfgsInvHessProduct with dtype=float64>\n",
       "      jac: array([2.66366952e-05, 0.00000000e+00])\n",
       "  message: b'CONVERGENCE: REL_REDUCTION_OF_F_<=_FACTR*EPSMCH'\n",
       "     nfev: 39\n",
       "      nit: 7\n",
       "     njev: 13\n",
       "   status: 0\n",
       "  success: True\n",
       "        x: array([0.01, 0.05])"
      ]
     },
     "metadata": {},
     "execution_count": 5
    }
   ],
   "source": [
    "r"
   ]
  },
  {
   "source": [
    "# Randomized search"
   ],
   "cell_type": "markdown",
   "metadata": {}
  },
  {
   "cell_type": "code",
   "execution_count": 11,
   "metadata": {},
   "outputs": [],
   "source": [
    "nruns = 50\n",
    "\n",
    "charnock  = np.random.uniform(0.001, 0.1,size=nruns)\n",
    "roughness = np.random.uniform(0.02, 0.06, size=nruns)"
   ]
  },
  {
   "cell_type": "code",
   "execution_count": 12,
   "metadata": {},
   "outputs": [
    {
     "output_type": "execute_result",
     "data": {
      "text/plain": [
       "array([0.05677372, 0.03747078])"
      ]
     },
     "metadata": {},
     "execution_count": 12
    }
   ],
   "source": [
    "parameters = np.column_stack([charnock, roughness])\n",
    "\n",
    "parameters[0]"
   ]
  },
  {
   "cell_type": "code",
   "execution_count": 13,
   "metadata": {},
   "outputs": [
    {
     "output_type": "execute_result",
     "data": {
      "text/plain": [
       "50"
      ]
     },
     "metadata": {},
     "execution_count": 13
    }
   ],
   "source": [
    "parameters.shape[0]"
   ]
  },
  {
   "cell_type": "code",
   "execution_count": 14,
   "metadata": {},
   "outputs": [
    {
     "output_type": "stream",
     "name": "stdout",
     "text": [
      "[0.05677372 0.03747078]: 1.4284998248165501\n",
      "[0.05719639 0.02739141]: 1.4375920339994543\n",
      "[0.05383127 0.02521651]: 1.3622926713065675\n",
      "[0.00149801 0.02585162]: 281.893532273492\n",
      "[0.06016472 0.02157516]: 1.4986291554278082\n",
      "[0.05886751 0.05554316]: 1.4715000479618712\n",
      "[0.01845206 0.04561965]: 0.24800606683798754\n",
      "[0.04634214 0.05425697]: 1.1848637527955679\n",
      "[0.051505   0.03514667]: 1.3083906661886626\n",
      "[0.04186436 0.03065061]: 1.0621768907683284\n",
      "[0.04208504 0.02290768]: 1.0689025738965505\n",
      "[0.00331564 0.03216372]: 284.9753976075552\n",
      "[0.09578222 0.02364584]: 2.0058598745118097\n",
      "[0.08756534 0.05892082]: 1.9190389224704132\n",
      "[0.07391059 0.04137774]: 1.738366366327605\n",
      "[0.08806737 0.03209156]: 1.9245780712624394\n",
      "[0.07055556 0.05761541]: 1.6837990676271166\n",
      "[0.07829503 0.02651143]: 1.801203980478623\n",
      "[0.00902378 0.03300948]: 0.0096310808885808\n",
      "[0.07348073 0.03818677]: 1.73163568857508\n",
      "[0.09669049 0.04624366]: 2.011967483656269\n",
      "[0.07069595 0.04352974]: 1.6860885813967932\n",
      "[0.00905121 0.02075961]: 0.009018782704981174\n",
      "[0.02771916 0.02099242]: 0.6075517218527775\n",
      "[0.01664011 0.04732746]: 0.1755558741810468\n",
      "[0.06071302 0.04963191]: 1.5064671814728512\n",
      "[0.06158958 0.03905197]: 1.5235228831776726\n",
      "[0.08078666 0.05286793]: 1.834214986010678\n",
      "[0.03770779 0.02722578]: 0.9390056350425835\n",
      "[0.05485332 0.04476429]: 1.385783814166985\n",
      "[0.03075364 0.04038375]: 0.7120907350629828\n",
      "[0.09756235 0.02458537]: 2.0210984180810785\n",
      "[0.08751085 0.04501974]: 1.9184375825872029\n",
      "[0.03358787 0.02339119]: 0.80868818078366\n",
      "[0.01027145 0.02631295]: 0.0006567215485698561\n",
      "[0.08343162 0.02339444]: 1.8719842930978101\n",
      "[0.00984198 0.05945902]: 0.00022546169201357203\n",
      "[0.07125534 0.05145145]: 1.695180045841345\n",
      "[0.02110497 0.04534372]: 0.3577696147962471\n",
      "[0.07347121 0.04153949]: 1.7314857507870327\n",
      "[0.02799582 0.05452663]: 0.6176209345024344\n",
      "[0.08672989 0.05511735]: 1.9097935656062546\n",
      "[0.0378648  0.02918199]: 0.9438840948995346\n",
      "[0.07375042 0.02970149]: 1.7358645923730325\n",
      "[0.09183939 0.05922072]: 1.9653723508331682\n",
      "[0.09220776 0.03556109]: 1.9691001351829438\n",
      "[0.07659603 0.0254285 ]: 1.7786870076647476\n",
      "[0.04902392 0.04248253]: 1.2519732303751223\n",
      "[0.02224804 0.0208157 ]: 0.40276267983986846\n",
      "[0.02487194 0.02961931]: 0.5043639635974354\n"
     ]
    }
   ],
   "source": [
    "obj_values = [f(x=parameters[i]) for i in range(nruns)]    "
   ]
  },
  {
   "cell_type": "code",
   "execution_count": 18,
   "metadata": {},
   "outputs": [],
   "source": [
    "import pandas as pd\n",
    "df = pd.DataFrame({'loss': obj_values, 'roughness': roughness, 'charnock': charnock})"
   ]
  },
  {
   "cell_type": "code",
   "execution_count": 20,
   "metadata": {},
   "outputs": [],
   "source": [
    "df.to_csv(\"calibration.csv\")"
   ]
  },
  {
   "cell_type": "code",
   "execution_count": 25,
   "metadata": {},
   "outputs": [],
   "source": [
    "df.index = df.index +1"
   ]
  },
  {
   "cell_type": "code",
   "execution_count": 272,
   "metadata": {},
   "outputs": [
    {
     "output_type": "execute_result",
     "data": {
      "text/plain": [
       "<AxesSubplot:title={'center':'Random search'}, xlabel='Iteration #', ylabel='Loss'>"
      ]
     },
     "metadata": {},
     "execution_count": 272
    },
    {
     "output_type": "display_data",
     "data": {
      "text/plain": "<Figure size 432x288 with 1 Axes>",
      "image/png": "[encoded data removed]"
     },
     "metadata": {
      "needs_background": "light"
     }
    }
   ],
   "source": [
    "df.loss.cummin().plot(ylabel=\"Loss\",xlabel=\"Iteration #\", title=\"Random search\")"
   ]
  },
  {
   "cell_type": "code",
   "execution_count": 273,
   "metadata": {},
   "outputs": [
    {
     "output_type": "execute_result",
     "data": {
      "text/plain": [
       "<AxesSubplot:xlabel='roughness', ylabel='loss'>"
      ]
     },
     "metadata": {},
     "execution_count": 273
    },
    {
     "output_type": "display_data",
     "data": {
      "text/plain": "<Figure size 432x288 with 1 Axes>",
      "image/png": "[encoded data removed]"
     },
     "metadata": {
      "needs_background": "light"
     }
    }
   ],
   "source": [
    "df.plot.scatter(x='roughness',y='loss',ylim=[0,1])"
   ]
  },
  {
   "cell_type": "code",
   "execution_count": 274,
   "metadata": {},
   "outputs": [
    {
     "output_type": "execute_result",
     "data": {
      "text/plain": [
       "<AxesSubplot:xlabel='charnock', ylabel='loss'>"
      ]
     },
     "metadata": {},
     "execution_count": 274
    },
    {
     "output_type": "display_data",
     "data": {
      "text/plain": "<Figure size 432x288 with 1 Axes>",
      "image/png": "[encoded data removed]"
     },
     "metadata": {
      "needs_background": "light"
     }
    }
   ],
   "source": [
    "df.plot.scatter(x='charnock',y='loss',ylim=[0,2])"
   ]
  },
  {
   "source": [
    "# Surrogate models\n",
    "*interpolation in parameter space*"
   ],
   "cell_type": "markdown",
   "metadata": {}
  },
  {
   "cell_type": "code",
   "execution_count": 275,
   "metadata": {},
   "outputs": [],
   "source": [
    "import gpflow\n",
    "from gpflow.utilities import print_summary"
   ]
  },
  {
   "cell_type": "code",
   "execution_count": 276,
   "metadata": {},
   "outputs": [
    {
     "output_type": "execute_result",
     "data": {
      "text/plain": [
       "(50, 2)"
      ]
     },
     "metadata": {},
     "execution_count": 276
    }
   ],
   "source": [
    "nsamples = 50\n",
    "X=df[['charnock','roughness']].values[:nsamples]\n",
    "X.shape"
   ]
  },
  {
   "cell_type": "code",
   "execution_count": 277,
   "metadata": {},
   "outputs": [],
   "source": [
    "Y = df['loss'].values.reshape(-1,1)[:nsamples]"
   ]
  },
  {
   "cell_type": "code",
   "execution_count": 278,
   "metadata": {},
   "outputs": [],
   "source": [
    "k = gpflow.kernels.SquaredExponential(lengthscales=[0.01,0.01])\n",
    "m = gpflow.models.GPR(data=(X, Y), kernel=k, mean_function=gpflow.mean_functions.Constant(Y.mean()))\n",
    "\n",
    "#m.kernel.lengthscales.assign([0.1,0.1])\n",
    "#gpflow.set_trainable(m.kernel.lengthscales, False)\n",
    "#opt = gpflow.optimizers.Scipy()\n",
    "#opt.minimize(m.training_loss, m.trainable_variables, options=dict(maxiter=100))"
   ]
  },
  {
   "cell_type": "code",
   "execution_count": 279,
   "metadata": {},
   "outputs": [
    {
     "output_type": "stream",
     "name": "stdout",
     "text": [
      "╒═════════════════════════╤═══════════╤══════════════════╤═════════╤═════════════╤═════════╤═════════╤════════════════════╕\n│ name                    │ class     │ transform        │ prior   │ trainable   │ shape   │ dtype   │ value              │\n╞═════════════════════════╪═══════════╪══════════════════╪═════════╪═════════════╪═════════╪═════════╪════════════════════╡\n│ GPR.mean_function.c     │ Parameter │ Identity         │         │ True        │ ()      │ float64 │ 12.552602258400068 │\n├─────────────────────────┼───────────┼──────────────────┼─────────┼─────────────┼─────────┼─────────┼────────────────────┤\n│ GPR.kernel.variance     │ Parameter │ Softplus         │         │ True        │ ()      │ float64 │ 0.9999999999999999 │\n├─────────────────────────┼───────────┼──────────────────┼─────────┼─────────────┼─────────┼─────────┼────────────────────┤\n│ GPR.kernel.lengthscales │ Parameter │ Softplus         │         │ True        │ (2,)    │ float64 │ [0.01 0.01]        │\n├─────────────────────────┼───────────┼──────────────────┼─────────┼─────────────┼─────────┼─────────┼────────────────────┤\n│ GPR.likelihood.variance │ Parameter │ Softplus + Shift │         │ True        │ ()      │ float64 │ 1.0                │\n╘═════════════════════════╧═══════════╧══════════════════╧═════════╧═════════════╧═════════╧═════════╧════════════════════╛\n"
     ]
    }
   ],
   "source": [
    "print_summary(m)"
   ]
  },
  {
   "cell_type": "code",
   "execution_count": 280,
   "metadata": {},
   "outputs": [],
   "source": [
    "x0 = np.linspace(X[:,0].min(),X[:,0].max())\n",
    "x1 = np.linspace(X[:,1].min(),X[:,1].max())\n",
    "\n",
    "xv, yv = np.meshgrid(x0,x1)\n",
    "xx = np.column_stack([xv.flatten(),yv.flatten()])"
   ]
  },
  {
   "cell_type": "code",
   "execution_count": 281,
   "metadata": {},
   "outputs": [],
   "source": [
    "mean, var = m.predict_f(xx)"
   ]
  },
  {
   "cell_type": "code",
   "execution_count": 282,
   "metadata": {},
   "outputs": [
    {
     "output_type": "display_data",
     "data": {
      "text/plain": "<Figure size 432x288 with 2 Axes>",
      "image/png": "[encoded data removed]"
     },
     "metadata": {
      "needs_background": "light"
     }
    }
   ],
   "source": [
    "plt.scatter(xx[:,0],xx[:,1],c=mean,vmax=1)\n",
    "plt.colorbar()\n",
    "plt.scatter(X[:,0],X[:,1],marker='+')\n",
    "plt.title(\"Mean\");\n",
    "plt.xlabel(\"Charnock\")\n",
    "plt.ylabel(\"Rougness\");\n"
   ]
  },
  {
   "cell_type": "code",
   "execution_count": 283,
   "metadata": {},
   "outputs": [
    {
     "output_type": "display_data",
     "data": {
      "text/plain": "<Figure size 432x288 with 2 Axes>",
      "image/png": "[encoded data removed]"
     },
     "metadata": {
      "needs_background": "light"
     }
    }
   ],
   "source": [
    "plt.scatter(xx[:,0], xx[:,1],c=mean - 2*np.sqrt(var),vmax=1)\n",
    "plt.colorbar()\n",
    "plt.title(\"Lower bound\");\n",
    "plt.xlabel(\"Charnock\")\n",
    "plt.ylabel(\"Rougness\");"
   ]
  },
  {
   "source": [
    "# Random forest"
   ],
   "cell_type": "markdown",
   "metadata": {}
  },
  {
   "cell_type": "code",
   "execution_count": 284,
   "metadata": {},
   "outputs": [
    {
     "output_type": "execute_result",
     "data": {
      "text/plain": [
       "RandomForestRegressor()"
      ]
     },
     "metadata": {},
     "execution_count": 284
    }
   ],
   "source": [
    "from sklearn.ensemble import RandomForestRegressor\n",
    "\n",
    "rf = RandomForestRegressor()\n",
    "\n",
    "rf.fit(X,Y)"
   ]
  },
  {
   "cell_type": "code",
   "execution_count": 285,
   "metadata": {},
   "outputs": [],
   "source": [
    "y_pred = rf.predict(xx)"
   ]
  },
  {
   "cell_type": "code",
   "execution_count": 286,
   "metadata": {},
   "outputs": [
    {
     "output_type": "display_data",
     "data": {
      "text/plain": "<Figure size 432x288 with 2 Axes>",
      "image/png": "[encoded data removed]"
     },
     "metadata": {
      "needs_background": "light"
     }
    }
   ],
   "source": [
    "plt.scatter(xx[:,0],xx[:,1],c=y_pred,vmax=1)\n",
    "plt.colorbar()\n",
    "plt.scatter(X[:,0],X[:,1],marker='+')\n",
    "plt.title(\"Random forest prediction\")\n",
    "plt.xlabel(\"Charnock\")\n",
    "plt.ylabel(\"Rougness\");"
   ]
  },
  {
   "cell_type": "code",
   "execution_count": null,
   "metadata": {},
   "outputs": [],
   "source": []
  }
 ]
}