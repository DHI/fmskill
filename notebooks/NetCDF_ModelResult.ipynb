{
 "metadata": {
  "language_info": {
   "codemirror_mode": {
    "name": "ipython",
    "version": 3
   },
   "file_extension": ".py",
   "mimetype": "text/x-python",
   "name": "python",
   "nbconvert_exporter": "python",
   "pygments_lexer": "ipython3",
   "version": "3.8.10"
  },
  "orig_nbformat": 2,
  "kernelspec": {
   "name": "python3810jvsc74a57bd01b27a185e5e38addd349bee67c436665dc7832e161e2a923b2540665280bf8fe",
   "display_name": "Python 3.8.10 64-bit ('base': conda)"
  }
 },
 "nbformat": 4,
 "nbformat_minor": 2,
 "cells": [
  {
   "cell_type": "code",
   "execution_count": 1,
   "metadata": {},
   "outputs": [],
   "source": [
    "import numpy as np\n",
    "import pandas as pd\n",
    "from fmskill import ModelResult, PointObservation, TrackObservation, Connector\n",
    "#from fmskill.model.xarray import XArrayModelResult, XArrayModelResultItem\n",
    "%load_ext autoreload\n",
    "%autoreload 2\n",
    "%matplotlib inline"
   ]
  },
  {
   "source": [
    "## Observations"
   ],
   "cell_type": "markdown",
   "metadata": {}
  },
  {
   "cell_type": "code",
   "execution_count": 2,
   "metadata": {},
   "outputs": [],
   "source": [
    "o1 = PointObservation('../tests/testdata/SW/HKNA_Hm0.dfs0', item=0, x=4.2420, y=52.6887, name=\"HKNA\")\n",
    "o2 = PointObservation(\"../tests/testdata/SW/eur_Hm0.dfs0\", item=0, x=3.2760, y=51.9990, name=\"EPL\")\n",
    "o3 = TrackObservation(\"../tests/testdata/SW/Alti_c2_Dutch.dfs0\", item=3, name=\"c2\")"
   ]
  },
  {
   "source": [
    "## MIKE ModelResult"
   ],
   "cell_type": "markdown",
   "metadata": {}
  },
  {
   "cell_type": "code",
   "execution_count": 3,
   "metadata": {},
   "outputs": [],
   "source": [
    "mr1 = ModelResult('../tests/testdata/SW/HKZN_local_2017_DutchCoast.dfsu', name='SW_1', item=0)"
   ]
  },
  {
   "source": [
    "## NetCDF ModelResult"
   ],
   "cell_type": "markdown",
   "metadata": {}
  },
  {
   "cell_type": "code",
   "execution_count": 4,
   "metadata": {},
   "outputs": [],
   "source": [
    "fn = r\"..\\tests\\testdata\\SW\\ERA5_DutchCoast.nc\""
   ]
  },
  {
   "cell_type": "code",
   "execution_count": 5,
   "metadata": {},
   "outputs": [],
   "source": [
    "mr = ModelResult(fn)"
   ]
  },
  {
   "cell_type": "code",
   "execution_count": 6,
   "metadata": {},
   "outputs": [
    {
     "output_type": "execute_result",
     "data": {
      "text/plain": [
       "<XArrayModelResult> 'ERA5_DutchCoast'\n",
       "- Item: 0: mwd\n",
       "- Item: 1: mwp\n",
       "- Item: 2: mp2\n",
       "- Item: 3: pp1d\n",
       "- Item: 4: swh"
      ]
     },
     "metadata": {},
     "execution_count": 6
    }
   ],
   "source": [
    "mr"
   ]
  },
  {
   "cell_type": "code",
   "execution_count": 7,
   "metadata": {},
   "outputs": [
    {
     "output_type": "execute_result",
     "data": {
      "text/plain": [
       "<xarray.Dataset>\n",
       "Dimensions:  (time: 67, x: 20, y: 11)\n",
       "Coordinates:\n",
       "  * x        (x) float32 -1.0 -0.5 0.0 0.5 1.0 1.5 ... 6.0 6.5 7.0 7.5 8.0 8.5\n",
       "  * y        (y) float32 55.0 54.5 54.0 53.5 53.0 52.5 52.0 51.5 51.0 50.5 50.0\n",
       "  * time     (time) datetime64[ns] 2017-10-27 ... 2017-10-29T18:00:00\n",
       "Data variables:\n",
       "    mwd      (time, y, x) float32 ...\n",
       "    mwp      (time, y, x) float32 ...\n",
       "    mp2      (time, y, x) float32 ...\n",
       "    pp1d     (time, y, x) float32 ...\n",
       "    swh      (time, y, x) float32 ...\n",
       "Attributes:\n",
       "    Conventions:  CF-1.6\n",
       "    history:      2021-06-07 12:25:02 GMT by grib_to_netcdf-2.16.0: /opt/ecmw..."
      ],
      "text/html": "<div><svg style=\"position: absolute; width: 0; height: 0; overflow: hidden\">\n<defs>\n<symbol id=\"icon-database\" viewBox=\"0 0 32 32\">\n<path d=\"M16 0c-8.837 0-16 2.239-16 5v4c0 2.761 7.163 5 16 5s16-2.239 16-5v-4c0-2.761-7.163-5-16-5z\"></path>\n<path d=\"M16 17c-8.837 0-16-2.239-16-5v6c0 2.761 7.163 5 16 5s16-2.239 16-5v-6c0 2.761-7.163 5-16 5z\"></path>\n<path d=\"M16 26c-8.837 0-16-2.239-16-5v6c0 2.761 7.163 5 16 5s16-2.239 16-5v-6c0 2.761-7.163 5-16 5z\"></path>\n</symbol>\n<symbol id=\"icon-file-text2\" viewBox=\"0 0 32 32\">\n<path d=\"M28.681 7.159c-0.694-0.947-1.662-2.053-2.724-3.116s-2.169-2.030-3.116-2.724c-1.612-1.182-2.393-1.319-2.841-1.319h-15.5c-1.378 0-2.5 1.121-2.5 2.5v27c0 1.378 1.122 2.5 2.5 2.5h23c1.378 0 2.5-1.122 2.5-2.5v-19.5c0-0.448-0.137-1.23-1.319-2.841zM24.543 5.457c0.959 0.959 1.712 1.825 2.268 2.543h-4.811v-4.811c0.718 0.556 1.584 1.309 2.543 2.268zM28 29.5c0 0.271-0.229 0.5-0.5 0.5h-23c-0.271 0-0.5-0.229-0.5-0.5v-27c0-0.271 0.229-0.5 0.5-0.5 0 0 15.499-0 15.5 0v7c0 0.552 0.448 1 1 1h7v19.5z\"></path>\n<path d=\"M23 26h-14c-0.552 0-1-0.448-1-1s0.448-1 1-1h14c0.552 0 1 0.448 1 1s-0.448 1-1 1z\"></path>\n<path d=\"M23 22h-14c-0.552 0-1-0.448-1-1s0.448-1 1-1h14c0.552 0 1 0.448 1 1s-0.448 1-1 1z\"></path>\n<path d=\"M23 18h-14c-0.552 0-1-0.448-1-1s0.448-1 1-1h14c0.552 0 1 0.448 1 1s-0.448 1-1 1z\"></path>\n</symbol>\n</defs>\n</svg>\n<style>/* CSS stylesheet for displaying xarray objects in jupyterlab.\n *\n */\n\n:root {\n  --xr-font-color0: var(--jp-content-font-color0, rgba(0, 0, 0, 1));\n  --xr-font-color2: var(--jp-content-font-color2, rgba(0, 0, 0, 0.54));\n  --xr-font-color3: var(--jp-content-font-color3, rgba(0, 0, 0, 0.38));\n  --xr-border-color: var(--jp-border-color2, #e0e0e0);\n  --xr-disabled-color: var(--jp-layout-color3, #bdbdbd);\n  --xr-background-color: var(--jp-layout-color0, white);\n  --xr-background-color-row-even: var(--jp-layout-color1, white);\n  --xr-background-color-row-odd: var(--jp-layout-color2, #eeeeee);\n}\n\nhtml[theme=dark],\nbody.vscode-dark {\n  --xr-font-color0: rgba(255, 255, 255, 1);\n  --xr-font-color2: rgba(255, 255, 255, 0.54);\n  --xr-font-color3: rgba(255, 255, 255, 0.38);\n  --xr-border-color: #1F1F1F;\n  --xr-disabled-color: #515151;\n  --xr-background-color: #111111;\n  --xr-background-color-row-even: #111111;\n  --xr-background-color-row-odd: #313131;\n}\n\n.xr-wrap {\n  display: block;\n  min-width: 300px;\n  max-width: 700px;\n}\n\n.xr-text-repr-fallback {\n  /* fallback to plain text repr when CSS is not injected (untrusted notebook) */\n  display: none;\n}\n\n.xr-header {\n  padding-top: 6px;\n  padding-bottom: 6px;\n  margin-bottom: 4px;\n  border-bottom: solid 1px var(--xr-border-color);\n}\n\n.xr-header > div,\n.xr-header > ul {\n  display: inline;\n  margin-top: 0;\n  margin-bottom: 0;\n}\n\n.xr-obj-type,\n.xr-array-name {\n  margin-left: 2px;\n  margin-right: 10px;\n}\n\n.xr-obj-type {\n  color: var(--xr-font-color2);\n}\n\n.xr-sections {\n  padding-left: 0 !important;\n  display: grid;\n  grid-template-columns: 150px auto auto 1fr 20px 20px;\n}\n\n.xr-section-item {\n  display: contents;\n}\n\n.xr-section-item input {\n  display: none;\n}\n\n.xr-section-item input + label {\n  color: var(--xr-disabled-color);\n}\n\n.xr-section-item input:enabled + label {\n  cursor: pointer;\n  color: var(--xr-font-color2);\n}\n\n.xr-section-item input:enabled + label:hover {\n  color: var(--xr-font-color0);\n}\n\n.xr-section-summary {\n  grid-column: 1;\n  color: var(--xr-font-color2);\n  font-weight: 500;\n}\n\n.xr-section-summary > span {\n  display: inline-block;\n  padding-left: 0.5em;\n}\n\n.xr-section-summary-in:disabled + label {\n  color: var(--xr-font-color2);\n}\n\n.xr-section-summary-in + label:before {\n  display: inline-block;\n  content: '►';\n  font-size: 11px;\n  width: 15px;\n  text-align: center;\n}\n\n.xr-section-summary-in:disabled + label:before {\n  color: var(--xr-disabled-color);\n}\n\n.xr-section-summary-in:checked + label:before {\n  content: '▼';\n}\n\n.xr-section-summary-in:checked + label > span {\n  display: none;\n}\n\n.xr-section-summary,\n.xr-section-inline-details {\n  padding-top: 4px;\n  padding-bottom: 4px;\n}\n\n.xr-section-inline-details {\n  grid-column: 2 / -1;\n}\n\n.xr-section-details {\n  display: none;\n  grid-column: 1 / -1;\n  margin-bottom: 5px;\n}\n\n.xr-section-summary-in:checked ~ .xr-section-details {\n  display: contents;\n}\n\n.xr-array-wrap {\n  grid-column: 1 / -1;\n  display: grid;\n  grid-template-columns: 20px auto;\n}\n\n.xr-array-wrap > label {\n  grid-column: 1;\n  vertical-align: top;\n}\n\n.xr-preview {\n  color: var(--xr-font-color3);\n}\n\n.xr-array-preview,\n.xr-array-data {\n  padding: 0 5px !important;\n  grid-column: 2;\n}\n\n.xr-array-data,\n.xr-array-in:checked ~ .xr-array-preview {\n  display: none;\n}\n\n.xr-array-in:checked ~ .xr-array-data,\n.xr-array-preview {\n  display: inline-block;\n}\n\n.xr-dim-list {\n  display: inline-block !important;\n  list-style: none;\n  padding: 0 !important;\n  margin: 0;\n}\n\n.xr-dim-list li {\n  display: inline-block;\n  padding: 0;\n  margin: 0;\n}\n\n.xr-dim-list:before {\n  content: '(';\n}\n\n.xr-dim-list:after {\n  content: ')';\n}\n\n.xr-dim-list li:not(:last-child):after {\n  content: ',';\n  padding-right: 5px;\n}\n\n.xr-has-index {\n  font-weight: bold;\n}\n\n.xr-var-list,\n.xr-var-item {\n  display: contents;\n}\n\n.xr-var-item > div,\n.xr-var-item label,\n.xr-var-item > .xr-var-name span {\n  background-color: var(--xr-background-color-row-even);\n  margin-bottom: 0;\n}\n\n.xr-var-item > .xr-var-name:hover span {\n  padding-right: 5px;\n}\n\n.xr-var-list > li:nth-child(odd) > div,\n.xr-var-list > li:nth-child(odd) > label,\n.xr-var-list > li:nth-child(odd) > .xr-var-name span {\n  background-color: var(--xr-background-color-row-odd);\n}\n\n.xr-var-name {\n  grid-column: 1;\n}\n\n.xr-var-dims {\n  grid-column: 2;\n}\n\n.xr-var-dtype {\n  grid-column: 3;\n  text-align: right;\n  color: var(--xr-font-color2);\n}\n\n.xr-var-preview {\n  grid-column: 4;\n}\n\n.xr-var-name,\n.xr-var-dims,\n.xr-var-dtype,\n.xr-preview,\n.xr-attrs dt {\n  white-space: nowrap;\n  overflow: hidden;\n  text-overflow: ellipsis;\n  padding-right: 10px;\n}\n\n.xr-var-name:hover,\n.xr-var-dims:hover,\n.xr-var-dtype:hover,\n.xr-attrs dt:hover {\n  overflow: visible;\n  width: auto;\n  z-index: 1;\n}\n\n.xr-var-attrs,\n.xr-var-data {\n  display: none;\n  background-color: var(--xr-background-color) !important;\n  padding-bottom: 5px !important;\n}\n\n.xr-var-attrs-in:checked ~ .xr-var-attrs,\n.xr-var-data-in:checked ~ .xr-var-data {\n  display: block;\n}\n\n.xr-var-data > table {\n  float: right;\n}\n\n.xr-var-name span,\n.xr-var-data,\n.xr-attrs {\n  padding-left: 25px !important;\n}\n\n.xr-attrs,\n.xr-var-attrs,\n.xr-var-data {\n  grid-column: 1 / -1;\n}\n\ndl.xr-attrs {\n  padding: 0;\n  margin: 0;\n  display: grid;\n  grid-template-columns: 125px auto;\n}\n\n.xr-attrs dt,\n.xr-attrs dd {\n  padding: 0;\n  margin: 0;\n  float: left;\n  padding-right: 10px;\n  width: auto;\n}\n\n.xr-attrs dt {\n  font-weight: normal;\n  grid-column: 1;\n}\n\n.xr-attrs dt:hover span {\n  display: inline-block;\n  background: var(--xr-background-color);\n  padding-right: 10px;\n}\n\n.xr-attrs dd {\n  grid-column: 2;\n  white-space: pre-wrap;\n  word-break: break-all;\n}\n\n.xr-icon-database,\n.xr-icon-file-text2 {\n  display: inline-block;\n  vertical-align: middle;\n  width: 1em;\n  height: 1.5em !important;\n  stroke-width: 0;\n  stroke: currentColor;\n  fill: currentColor;\n}\n</style><pre class='xr-text-repr-fallback'>&lt;xarray.Dataset&gt;\nDimensions:  (time: 67, x: 20, y: 11)\nCoordinates:\n  * x        (x) float32 -1.0 -0.5 0.0 0.5 1.0 1.5 ... 6.0 6.5 7.0 7.5 8.0 8.5\n  * y        (y) float32 55.0 54.5 54.0 53.5 53.0 52.5 52.0 51.5 51.0 50.5 50.0\n  * time     (time) datetime64[ns] 2017-10-27 ... 2017-10-29T18:00:00\nData variables:\n    mwd      (time, y, x) float32 332.3 330.0 327.9 325.3 ... nan nan nan nan\n    mwp      (time, y, x) float32 4.44 4.744 5.034 5.258 ... nan nan nan nan\n    mp2      (time, y, x) float32 3.381 3.684 3.921 4.097 ... nan nan nan nan\n    pp1d     (time, y, x) float32 5.221 5.343 5.766 6.099 ... nan nan nan nan\n    swh      (time, y, x) float32 0.8702 1.222 1.393 1.519 ... nan nan nan nan\nAttributes:\n    Conventions:  CF-1.6\n    history:      2021-06-07 12:25:02 GMT by grib_to_netcdf-2.16.0: /opt/ecmw...</pre><div class='xr-wrap' hidden><div class='xr-header'><div class='xr-obj-type'>xarray.Dataset</div></div><ul class='xr-sections'><li class='xr-section-item'><input id='section-0e8a1ad1-6e74-4bdb-af59-00ee6ff07cdb' class='xr-section-summary-in' type='checkbox' disabled ><label for='section-0e8a1ad1-6e74-4bdb-af59-00ee6ff07cdb' class='xr-section-summary'  title='Expand/collapse section'>Dimensions:</label><div class='xr-section-inline-details'><ul class='xr-dim-list'><li><span class='xr-has-index'>time</span>: 67</li><li><span class='xr-has-index'>x</span>: 20</li><li><span class='xr-has-index'>y</span>: 11</li></ul></div><div class='xr-section-details'></div></li><li class='xr-section-item'><input id='section-fbd67963-50da-4a1f-907a-4d97ab764228' class='xr-section-summary-in' type='checkbox'  checked><label for='section-fbd67963-50da-4a1f-907a-4d97ab764228' class='xr-section-summary' >Coordinates: <span>(3)</span></label><div class='xr-section-inline-details'></div><div class='xr-section-details'><ul class='xr-var-list'><li class='xr-var-item'><div class='xr-var-name'><span class='xr-has-index'>x</span></div><div class='xr-var-dims'>(x)</div><div class='xr-var-dtype'>float32</div><div class='xr-var-preview xr-preview'>-1.0 -0.5 0.0 0.5 ... 7.5 8.0 8.5</div><input id='attrs-c7bbc8e2-dc0a-4074-9822-188dc8edefca' class='xr-var-attrs-in' type='checkbox' ><label for='attrs-c7bbc8e2-dc0a-4074-9822-188dc8edefca' title='Show/Hide attributes'><svg class='icon xr-icon-file-text2'><use xlink:href='#icon-file-text2'></use></svg></label><input id='data-ef7ce856-6df9-4d51-a5c7-13470d2b0d1a' class='xr-var-data-in' type='checkbox'><label for='data-ef7ce856-6df9-4d51-a5c7-13470d2b0d1a' title='Show/Hide data repr'><svg class='icon xr-icon-database'><use xlink:href='#icon-database'></use></svg></label><div class='xr-var-attrs'><dl class='xr-attrs'><dt><span>units :</span></dt><dd>degrees_east</dd><dt><span>long_name :</span></dt><dd>longitude</dd></dl></div><div class='xr-var-data'><pre>array([-1. , -0.5,  0. ,  0.5,  1. ,  1.5,  2. ,  2.5,  3. ,  3.5,  4. ,  4.5,\n        5. ,  5.5,  6. ,  6.5,  7. ,  7.5,  8. ,  8.5], dtype=float32)</pre></div></li><li class='xr-var-item'><div class='xr-var-name'><span class='xr-has-index'>y</span></div><div class='xr-var-dims'>(y)</div><div class='xr-var-dtype'>float32</div><div class='xr-var-preview xr-preview'>55.0 54.5 54.0 ... 51.0 50.5 50.0</div><input id='attrs-796e2150-e3d6-48c9-898e-0c7191480f20' class='xr-var-attrs-in' type='checkbox' ><label for='attrs-796e2150-e3d6-48c9-898e-0c7191480f20' title='Show/Hide attributes'><svg class='icon xr-icon-file-text2'><use xlink:href='#icon-file-text2'></use></svg></label><input id='data-f21fd406-efa6-45af-b36d-0cee154167c0' class='xr-var-data-in' type='checkbox'><label for='data-f21fd406-efa6-45af-b36d-0cee154167c0' title='Show/Hide data repr'><svg class='icon xr-icon-database'><use xlink:href='#icon-database'></use></svg></label><div class='xr-var-attrs'><dl class='xr-attrs'><dt><span>units :</span></dt><dd>degrees_north</dd><dt><span>long_name :</span></dt><dd>latitude</dd></dl></div><div class='xr-var-data'><pre>array([55. , 54.5, 54. , 53.5, 53. , 52.5, 52. , 51.5, 51. , 50.5, 50. ],\n      dtype=float32)</pre></div></li><li class='xr-var-item'><div class='xr-var-name'><span class='xr-has-index'>time</span></div><div class='xr-var-dims'>(time)</div><div class='xr-var-dtype'>datetime64[ns]</div><div class='xr-var-preview xr-preview'>2017-10-27 ... 2017-10-29T18:00:00</div><input id='attrs-4ef4f030-2b42-4fd1-a7b9-9d17e9b08ced' class='xr-var-attrs-in' type='checkbox' ><label for='attrs-4ef4f030-2b42-4fd1-a7b9-9d17e9b08ced' title='Show/Hide attributes'><svg class='icon xr-icon-file-text2'><use xlink:href='#icon-file-text2'></use></svg></label><input id='data-89bd4f55-f246-411b-9f64-52b7aa32c696' class='xr-var-data-in' type='checkbox'><label for='data-89bd4f55-f246-411b-9f64-52b7aa32c696' title='Show/Hide data repr'><svg class='icon xr-icon-database'><use xlink:href='#icon-database'></use></svg></label><div class='xr-var-attrs'><dl class='xr-attrs'><dt><span>long_name :</span></dt><dd>time</dd></dl></div><div class='xr-var-data'><pre>array([&#x27;2017-10-27T00:00:00.000000000&#x27;, &#x27;2017-10-27T01:00:00.000000000&#x27;,\n       &#x27;2017-10-27T02:00:00.000000000&#x27;, &#x27;2017-10-27T03:00:00.000000000&#x27;,\n       &#x27;2017-10-27T04:00:00.000000000&#x27;, &#x27;2017-10-27T05:00:00.000000000&#x27;,\n       &#x27;2017-10-27T06:00:00.000000000&#x27;, &#x27;2017-10-27T07:00:00.000000000&#x27;,\n       &#x27;2017-10-27T08:00:00.000000000&#x27;, &#x27;2017-10-27T09:00:00.000000000&#x27;,\n       &#x27;2017-10-27T10:00:00.000000000&#x27;, &#x27;2017-10-27T11:00:00.000000000&#x27;,\n       &#x27;2017-10-27T12:00:00.000000000&#x27;, &#x27;2017-10-27T13:00:00.000000000&#x27;,\n       &#x27;2017-10-27T14:00:00.000000000&#x27;, &#x27;2017-10-27T15:00:00.000000000&#x27;,\n       &#x27;2017-10-27T16:00:00.000000000&#x27;, &#x27;2017-10-27T17:00:00.000000000&#x27;,\n       &#x27;2017-10-27T18:00:00.000000000&#x27;, &#x27;2017-10-27T19:00:00.000000000&#x27;,\n       &#x27;2017-10-27T20:00:00.000000000&#x27;, &#x27;2017-10-27T21:00:00.000000000&#x27;,\n       &#x27;2017-10-27T22:00:00.000000000&#x27;, &#x27;2017-10-27T23:00:00.000000000&#x27;,\n       &#x27;2017-10-28T00:00:00.000000000&#x27;, &#x27;2017-10-28T01:00:00.000000000&#x27;,\n       &#x27;2017-10-28T02:00:00.000000000&#x27;, &#x27;2017-10-28T03:00:00.000000000&#x27;,\n       &#x27;2017-10-28T04:00:00.000000000&#x27;, &#x27;2017-10-28T05:00:00.000000000&#x27;,\n       &#x27;2017-10-28T06:00:00.000000000&#x27;, &#x27;2017-10-28T07:00:00.000000000&#x27;,\n       &#x27;2017-10-28T08:00:00.000000000&#x27;, &#x27;2017-10-28T09:00:00.000000000&#x27;,\n       &#x27;2017-10-28T10:00:00.000000000&#x27;, &#x27;2017-10-28T11:00:00.000000000&#x27;,\n       &#x27;2017-10-28T12:00:00.000000000&#x27;, &#x27;2017-10-28T13:00:00.000000000&#x27;,\n       &#x27;2017-10-28T14:00:00.000000000&#x27;, &#x27;2017-10-28T15:00:00.000000000&#x27;,\n       &#x27;2017-10-28T16:00:00.000000000&#x27;, &#x27;2017-10-28T17:00:00.000000000&#x27;,\n       &#x27;2017-10-28T18:00:00.000000000&#x27;, &#x27;2017-10-28T19:00:00.000000000&#x27;,\n       &#x27;2017-10-28T20:00:00.000000000&#x27;, &#x27;2017-10-28T21:00:00.000000000&#x27;,\n       &#x27;2017-10-28T22:00:00.000000000&#x27;, &#x27;2017-10-28T23:00:00.000000000&#x27;,\n       &#x27;2017-10-29T00:00:00.000000000&#x27;, &#x27;2017-10-29T01:00:00.000000000&#x27;,\n       &#x27;2017-10-29T02:00:00.000000000&#x27;, &#x27;2017-10-29T03:00:00.000000000&#x27;,\n       &#x27;2017-10-29T04:00:00.000000000&#x27;, &#x27;2017-10-29T05:00:00.000000000&#x27;,\n       &#x27;2017-10-29T06:00:00.000000000&#x27;, &#x27;2017-10-29T07:00:00.000000000&#x27;,\n       &#x27;2017-10-29T08:00:00.000000000&#x27;, &#x27;2017-10-29T09:00:00.000000000&#x27;,\n       &#x27;2017-10-29T10:00:00.000000000&#x27;, &#x27;2017-10-29T11:00:00.000000000&#x27;,\n       &#x27;2017-10-29T12:00:00.000000000&#x27;, &#x27;2017-10-29T13:00:00.000000000&#x27;,\n       &#x27;2017-10-29T14:00:00.000000000&#x27;, &#x27;2017-10-29T15:00:00.000000000&#x27;,\n       &#x27;2017-10-29T16:00:00.000000000&#x27;, &#x27;2017-10-29T17:00:00.000000000&#x27;,\n       &#x27;2017-10-29T18:00:00.000000000&#x27;], dtype=&#x27;datetime64[ns]&#x27;)</pre></div></li></ul></div></li><li class='xr-section-item'><input id='section-388b00df-11f0-48e2-a144-2c62215870e9' class='xr-section-summary-in' type='checkbox'  checked><label for='section-388b00df-11f0-48e2-a144-2c62215870e9' class='xr-section-summary' >Data variables: <span>(5)</span></label><div class='xr-section-inline-details'></div><div class='xr-section-details'><ul class='xr-var-list'><li class='xr-var-item'><div class='xr-var-name'><span>mwd</span></div><div class='xr-var-dims'>(time, y, x)</div><div class='xr-var-dtype'>float32</div><div class='xr-var-preview xr-preview'>...</div><input id='attrs-a0460a2e-8847-4b62-b2e3-5af6bf598769' class='xr-var-attrs-in' type='checkbox' ><label for='attrs-a0460a2e-8847-4b62-b2e3-5af6bf598769' title='Show/Hide attributes'><svg class='icon xr-icon-file-text2'><use xlink:href='#icon-file-text2'></use></svg></label><input id='data-170af931-6079-4039-9216-9945f7fc42cd' class='xr-var-data-in' type='checkbox'><label for='data-170af931-6079-4039-9216-9945f7fc42cd' title='Show/Hide data repr'><svg class='icon xr-icon-database'><use xlink:href='#icon-database'></use></svg></label><div class='xr-var-attrs'><dl class='xr-attrs'><dt><span>units :</span></dt><dd>Degree true</dd><dt><span>long_name :</span></dt><dd>Mean wave direction</dd></dl></div><div class='xr-var-data'><pre>array([[[332.30542 , 329.98718 , ..., 300.44882 , 296.3397  ],\n        [       nan,        nan, ..., 300.48727 , 293.57098 ],\n        ...,\n        [254.97388 , 260.30255 , ...,        nan,        nan],\n        [262.857   , 266.2904  , ...,        nan,        nan]],\n\n       [[337.59564 , 334.65665 , ..., 302.95383 , 298.92163 ],\n        [       nan,        nan, ..., 302.70663 , 295.9002  ],\n        ...,\n        [259.29724 , 265.43344 , ...,        nan,        nan],\n        [266.2904  , 270.53137 , ...,        nan,        nan]],\n\n       ...,\n\n       [[  6.086761,   0.428497, ..., 324.37836 , 321.93927 ],\n        [       nan,        nan, ..., 326.2901  , 320.60986 ],\n        ...,\n        [328.73468 , 346.539   , ...,        nan,        nan],\n        [336.1399  , 347.01147 , ...,        nan,        nan]],\n\n       [[  6.388901,   0.813034, ..., 324.5871  , 322.2249  ],\n        [       nan,        nan, ..., 326.4439  , 320.9779  ],\n        ...,\n        [345.50073 , 357.07    , ...,        nan,        nan],\n        [351.181   , 356.75687 , ...,        nan,        nan]]], dtype=float32)</pre></div></li><li class='xr-var-item'><div class='xr-var-name'><span>mwp</span></div><div class='xr-var-dims'>(time, y, x)</div><div class='xr-var-dtype'>float32</div><div class='xr-var-preview xr-preview'>...</div><input id='attrs-bbeafb86-136c-422d-bb4a-aae118e7a280' class='xr-var-attrs-in' type='checkbox' ><label for='attrs-bbeafb86-136c-422d-bb4a-aae118e7a280' title='Show/Hide attributes'><svg class='icon xr-icon-file-text2'><use xlink:href='#icon-file-text2'></use></svg></label><input id='data-8a4fbbc9-ccd8-48ce-b0d6-f18be31564cb' class='xr-var-data-in' type='checkbox'><label for='data-8a4fbbc9-ccd8-48ce-b0d6-f18be31564cb' title='Show/Hide data repr'><svg class='icon xr-icon-database'><use xlink:href='#icon-database'></use></svg></label><div class='xr-var-attrs'><dl class='xr-attrs'><dt><span>units :</span></dt><dd>s</dd><dt><span>long_name :</span></dt><dd>Mean wave period</dd></dl></div><div class='xr-var-data'><pre>array([[[4.439693, 4.744041, ..., 6.447595, 5.899815],\n        [     nan,      nan, ..., 6.212597, 5.65404 ],\n        ...,\n        [6.205334, 5.801177, ...,      nan,      nan],\n        [8.043139, 7.669205, ...,      nan,      nan]],\n\n       [[4.692028, 4.95186 , ..., 6.47407 , 5.90614 ],\n        [     nan,      nan, ..., 6.262033, 5.689652],\n        ...,\n        [5.881071, 5.423494, ...,      nan,      nan],\n        [7.568693, 7.100104, ...,      nan,      nan]],\n\n       ...,\n\n       [[8.567489, 8.596307, ..., 8.454559, 7.229434],\n        [     nan,      nan, ..., 8.422227, 7.11299 ],\n        ...,\n        [4.306613, 4.284824, ...,      nan,      nan],\n        [4.577692, 4.576755, ...,      nan,      nan]],\n\n       [[8.497904, 8.516882, ..., 8.453856, 7.236698],\n        [     nan,      nan, ..., 8.429021, 7.125174],\n        ...,\n        [4.224845, 4.223673, ...,      nan,      nan],\n        [4.499672, 4.534816, ...,      nan,      nan]]], dtype=float32)</pre></div></li><li class='xr-var-item'><div class='xr-var-name'><span>mp2</span></div><div class='xr-var-dims'>(time, y, x)</div><div class='xr-var-dtype'>float32</div><div class='xr-var-preview xr-preview'>...</div><input id='attrs-c35e62da-f27e-45c3-a0d8-8cefe6e8d06a' class='xr-var-attrs-in' type='checkbox' ><label for='attrs-c35e62da-f27e-45c3-a0d8-8cefe6e8d06a' title='Show/Hide attributes'><svg class='icon xr-icon-file-text2'><use xlink:href='#icon-file-text2'></use></svg></label><input id='data-1ba31185-f5d1-4095-a6c2-ff61d3d7691a' class='xr-var-data-in' type='checkbox'><label for='data-1ba31185-f5d1-4095-a6c2-ff61d3d7691a' title='Show/Hide data repr'><svg class='icon xr-icon-database'><use xlink:href='#icon-database'></use></svg></label><div class='xr-var-attrs'><dl class='xr-attrs'><dt><span>units :</span></dt><dd>s</dd><dt><span>long_name :</span></dt><dd>Mean zero-crossing wave period</dd></dl></div><div class='xr-var-data'><pre>array([[[3.380553, 3.684037, ..., 5.08779 , 4.612505],\n        [     nan,      nan, ..., 4.909118, 4.441819],\n        ...,\n        [3.484005, 3.248498, ...,      nan,      nan],\n        [4.819781, 4.322208, ...,      nan,      nan]],\n\n       [[3.580028, 3.852309, ..., 5.113235, 4.611577],\n        [     nan,      nan, ..., 4.946449, 4.466707],\n        ...,\n        [3.281373, 3.106972, ...,      nan,      nan],\n        [4.192011, 3.778203, ...,      nan,      nan]],\n\n       ...,\n\n       [[6.337016, 6.533519, ..., 6.508817, 5.483768],\n        [     nan,      nan, ..., 6.475199, 5.262192],\n        ...,\n        [3.198537, 3.282859, ...,      nan,      nan],\n        [3.567398, 3.636304, ...,      nan,      nan]],\n\n       [[6.29504 , 6.475757, ..., 6.519774, 5.503084],\n        [     nan,      nan, ..., 6.495072, 5.28968 ],\n        ...,\n        [3.162505, 3.262986, ...,      nan,      nan],\n        [3.538053, 3.628318, ...,      nan,      nan]]], dtype=float32)</pre></div></li><li class='xr-var-item'><div class='xr-var-name'><span>pp1d</span></div><div class='xr-var-dims'>(time, y, x)</div><div class='xr-var-dtype'>float32</div><div class='xr-var-preview xr-preview'>...</div><input id='attrs-142deeaa-e836-4795-9e11-205fda1491af' class='xr-var-attrs-in' type='checkbox' ><label for='attrs-142deeaa-e836-4795-9e11-205fda1491af' title='Show/Hide attributes'><svg class='icon xr-icon-file-text2'><use xlink:href='#icon-file-text2'></use></svg></label><input id='data-b8e55491-e0fd-49ad-8842-d770d7c25538' class='xr-var-data-in' type='checkbox'><label for='data-b8e55491-e0fd-49ad-8842-d770d7c25538' title='Show/Hide data repr'><svg class='icon xr-icon-database'><use xlink:href='#icon-database'></use></svg></label><div class='xr-var-attrs'><dl class='xr-attrs'><dt><span>units :</span></dt><dd>s</dd><dt><span>long_name :</span></dt><dd>Peak wave period</dd></dl></div><div class='xr-var-data'><pre>array([[[ 5.22063 ,  5.343474, ...,  7.585318,       nan],\n        [      nan,       nan, ...,  7.295176,  6.304007],\n        ...,\n        [ 9.963221, 10.035907, ...,       nan,       nan],\n        [10.52278 , 10.567233, ...,       nan,       nan]],\n\n       [[ 5.540807,  5.720419, ...,  7.616554,       nan],\n        [      nan,       nan, ...,  7.36666 ,  6.315721],\n        ...,\n        [ 9.935287, 10.010077, ...,       nan,       nan],\n        [10.460908, 10.50536 , ...,       nan,       nan]],\n\n       ...,\n\n       [[10.247355, 10.30983 , ..., 10.341066,       nan],\n        [      nan,       nan, ..., 10.370501, 10.155747],\n        ...,\n        [ 5.663051,  4.05856 , ...,       nan,       nan],\n        [ 5.607786,  4.396759, ...,       nan,       nan]],\n\n       [[10.210412, 10.25036 , ..., 10.25967 ,       nan],\n        [      nan,       nan, ..., 10.299618, 10.117903],\n        ...,\n        [ 3.90598 ,  4.224956, ...,       nan,       nan],\n        [ 4.281122,  4.438207, ...,       nan,       nan]]], dtype=float32)</pre></div></li><li class='xr-var-item'><div class='xr-var-name'><span>swh</span></div><div class='xr-var-dims'>(time, y, x)</div><div class='xr-var-dtype'>float32</div><div class='xr-var-preview xr-preview'>...</div><input id='attrs-c812c2dc-5dfe-46f7-af3b-2419976b0e46' class='xr-var-attrs-in' type='checkbox' ><label for='attrs-c812c2dc-5dfe-46f7-af3b-2419976b0e46' title='Show/Hide attributes'><svg class='icon xr-icon-file-text2'><use xlink:href='#icon-file-text2'></use></svg></label><input id='data-503f0a05-041c-41df-9ae5-0199aa399708' class='xr-var-data-in' type='checkbox'><label for='data-503f0a05-041c-41df-9ae5-0199aa399708' title='Show/Hide data repr'><svg class='icon xr-icon-database'><use xlink:href='#icon-database'></use></svg></label><div class='xr-var-attrs'><dl class='xr-attrs'><dt><span>units :</span></dt><dd>m</dd><dt><span>long_name :</span></dt><dd>Significant height of combined wind waves and swell</dd></dl></div><div class='xr-var-data'><pre>array([[[0.870232, 1.221927, ..., 2.530895, 2.027717],\n        [     nan,      nan, ..., 2.351693, 1.757944],\n        ...,\n        [0.459568, 0.494349, ...,      nan,      nan],\n        [0.565677, 0.532132, ...,      nan,      nan]],\n\n       [[0.957802, 1.355401, ..., 2.620055, 2.093749],\n        [     nan,      nan, ..., 2.434144, 1.798728],\n        ...,\n        [0.475458, 0.521892, ...,      nan,      nan],\n        [0.583685, 0.557202, ...,      nan,      nan]],\n\n       ...,\n\n       [[2.931142, 3.54908 , ..., 4.048197, 2.953388],\n        [     nan,      nan, ..., 3.946856, 2.480754],\n        ...,\n        [0.793961, 0.929201, ...,      nan,      nan],\n        [1.092866, 1.187499, ...,      nan,      nan]],\n\n       [[2.875528, 3.490111, ..., 4.120231, 3.031778],\n        [     nan,      nan, ..., 4.013946, 2.543254],\n        ...,\n        [0.79449 , 0.937322, ...,      nan,      nan],\n        [1.098163, 1.188381, ...,      nan,      nan]]], dtype=float32)</pre></div></li></ul></div></li><li class='xr-section-item'><input id='section-d3ff3773-de0c-416a-bc78-e8240604fc9d' class='xr-section-summary-in' type='checkbox'  checked><label for='section-d3ff3773-de0c-416a-bc78-e8240604fc9d' class='xr-section-summary' >Attributes: <span>(2)</span></label><div class='xr-section-inline-details'></div><div class='xr-section-details'><dl class='xr-attrs'><dt><span>Conventions :</span></dt><dd>CF-1.6</dd><dt><span>history :</span></dt><dd>2021-06-07 12:25:02 GMT by grib_to_netcdf-2.16.0: /opt/ecmwf/eccodes/bin/grib_to_netcdf -S param -o /cache/data8/adaptor.mars.internal-1623068689.815175-27387-9-f370172c-9b84-4760-b5e5-32e00e3964bd.nc /cache/tmp/f370172c-9b84-4760-b5e5-32e00e3964bd-adaptor.mars.internal-1623068689.81571-27387-2-tmp.grib</dd></dl></div></li></ul></div></div>"
     },
     "metadata": {},
     "execution_count": 7
    }
   ],
   "source": [
    "mr.ds  # mr contains the xr.Dataset"
   ]
  },
  {
   "source": [
    "## ModelResultItem\n",
    "We can select an item from the NetCDF file be using square brackets refering either to the item name or number. "
   ],
   "cell_type": "markdown",
   "metadata": {}
  },
  {
   "cell_type": "code",
   "execution_count": 8,
   "metadata": {},
   "outputs": [
    {
     "output_type": "execute_result",
     "data": {
      "text/plain": [
       "<XArrayModelResultItem> 'ERA5_DutchCoast'\n",
       "- Item: swh"
      ]
     },
     "metadata": {},
     "execution_count": 8
    }
   ],
   "source": [
    "mr['swh']"
   ]
  },
  {
   "source": [
    "## Test extract from XArray"
   ],
   "cell_type": "markdown",
   "metadata": {}
  },
  {
   "cell_type": "code",
   "execution_count": 9,
   "metadata": {},
   "outputs": [
    {
     "output_type": "error",
     "ename": "NotImplementedError",
     "evalue": "",
     "traceback": [
      "\u001b[1;31m---------------------------------------------------------------------------\u001b[0m",
      "\u001b[1;31mNotImplementedError\u001b[0m                       Traceback (most recent call last)",
      "\u001b[1;32m<ipython-input-9-1296092e0ef4>\u001b[0m in \u001b[0;36m<module>\u001b[1;34m\u001b[0m\n\u001b[1;32m----> 1\u001b[1;33m \u001b[0mmr\u001b[0m\u001b[1;33m[\u001b[0m\u001b[1;34m'swh'\u001b[0m\u001b[1;33m]\u001b[0m\u001b[1;33m.\u001b[0m\u001b[0mextract_observation\u001b[0m\u001b[1;33m(\u001b[0m\u001b[0mo1\u001b[0m\u001b[1;33m)\u001b[0m\u001b[1;33m\u001b[0m\u001b[1;33m\u001b[0m\u001b[0m\n\u001b[0m",
      "\u001b[1;32mc:\\users\\jem\\source\\fmskill\\fmskill\\model\\xarray.py\u001b[0m in \u001b[0;36mextract_observation\u001b[1;34m(self, observation)\u001b[0m\n\u001b[0;32m    112\u001b[0m             \u001b[0mA\u001b[0m \u001b[0mcomparer\u001b[0m \u001b[0mobject\u001b[0m \u001b[1;32mfor\u001b[0m \u001b[0mfurther\u001b[0m \u001b[0manalysis\u001b[0m \u001b[1;32mor\u001b[0m \u001b[0mplotting\u001b[0m\u001b[1;33m\u001b[0m\u001b[1;33m\u001b[0m\u001b[0m\n\u001b[0;32m    113\u001b[0m         \"\"\"\n\u001b[1;32m--> 114\u001b[1;33m         \u001b[1;32mraise\u001b[0m \u001b[0mNotImplementedError\u001b[0m\u001b[1;33m(\u001b[0m\u001b[1;33m)\u001b[0m\u001b[1;33m\u001b[0m\u001b[1;33m\u001b[0m\u001b[0m\n\u001b[0m\u001b[0;32m    115\u001b[0m         \u001b[1;32mif\u001b[0m \u001b[0misinstance\u001b[0m\u001b[1;33m(\u001b[0m\u001b[0mobservation\u001b[0m\u001b[1;33m,\u001b[0m \u001b[0mPointObservation\u001b[0m\u001b[1;33m)\u001b[0m\u001b[1;33m:\u001b[0m\u001b[1;33m\u001b[0m\u001b[1;33m\u001b[0m\u001b[0m\n\u001b[0;32m    116\u001b[0m             \u001b[1;32mpass\u001b[0m\u001b[1;33m\u001b[0m\u001b[1;33m\u001b[0m\u001b[0m\n",
      "\u001b[1;31mNotImplementedError\u001b[0m: "
     ]
    }
   ],
   "source": [
    "mr['swh'].extract_observation(o1)"
   ]
  },
  {
   "source": [
    "## Connect"
   ],
   "cell_type": "markdown",
   "metadata": {}
  },
  {
   "cell_type": "code",
   "execution_count": null,
   "metadata": {},
   "outputs": [],
   "source": [
    "# con = Connector([o1,o2,o3],mr)"
   ]
  }
 ]
}