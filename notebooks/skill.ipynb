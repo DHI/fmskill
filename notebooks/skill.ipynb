{
 "metadata": {
  "language_info": {
   "codemirror_mode": {
    "name": "ipython",
    "version": 3
   },
   "file_extension": ".py",
   "mimetype": "text/x-python",
   "name": "python",
   "nbconvert_exporter": "python",
   "pygments_lexer": "ipython3",
   "version": "3.8.5-final"
  },
  "orig_nbformat": 2,
  "kernelspec": {
   "name": "python3",
   "display_name": "Python 3",
   "language": "python"
  }
 },
 "nbformat": 4,
 "nbformat_minor": 2,
 "cells": [
  {
   "source": [
    "# Skill per station"
   ],
   "cell_type": "markdown",
   "metadata": {}
  },
  {
   "cell_type": "code",
   "execution_count": 1,
   "metadata": {},
   "outputs": [],
   "source": [
    "from fmskill.model import ModelResult\n",
    "from fmskill.observation import PointObservation"
   ]
  },
  {
   "cell_type": "code",
   "execution_count": 2,
   "metadata": {},
   "outputs": [
    {
     "output_type": "execute_result",
     "data": {
      "text/plain": [
       "{'Klagshamn': PointObservation: Klagshamn, x=366844, y=6154291,\n",
       " 'Drogden': PointObservation: Drogden, x=355568, y=6156863}"
      ]
     },
     "metadata": {},
     "execution_count": 2
    }
   ],
   "source": [
    "mr = ModelResult(\"../tests/testdata/Oresund2D.dfsu\")\n",
    "\n",
    "fn_klagshamn = \"../tests/testdata/smhi_2095_klagshamn.dfs0\"\n",
    "mr.add_observation(PointObservation(fn_klagshamn, item=0, x=366844, y=6154291, name=\"Klagshamn\"), item=0)\n",
    "fn_drogden = \"../tests/testdata/dmi_30357_Drogden_Fyr.dfs0\"\n",
    "mr.add_observation(PointObservation(fn_drogden, item=0, x=355568, y=6156863, name=\"Drogden\"), item=0)\n",
    "mr.observations"
   ]
  },
  {
   "cell_type": "code",
   "execution_count": 3,
   "metadata": {},
   "outputs": [
    {
     "output_type": "stream",
     "name": "stderr",
     "text": [
      "100%|██████████| 51/51 [00:00<00:00, 4249.72it/s]\n",
      "100%|██████████| 51/51 [00:00<00:00, 5667.98it/s]\n"
     ]
    }
   ],
   "source": [
    "collection = mr.extract()"
   ]
  },
  {
   "cell_type": "code",
   "execution_count": 4,
   "metadata": {},
   "outputs": [
    {
     "output_type": "stream",
     "name": "stderr",
     "text": [
      "c:\\users\\jem\\source\\fmskill\\fmskill\\metrics.py:31: UserWarning: Observation is zero, consider to use another metric than MAPE\n  warnings.warn(\"Observation is zero, consider to use another metric than MAPE\")\n"
     ]
    },
    {
     "output_type": "execute_result",
     "data": {
      "text/plain": [
       "               n  bias  rmse  mape    cc    si    r2\n",
       "observation                                         \n",
       "Klagshamn    167  0.18  0.19   NaN  0.84  0.32 -1.19\n",
       "Drogden      996  0.26  0.28   NaN  0.51  0.53 -0.91"
      ],
      "text/html": "<div>\n<style scoped>\n    .dataframe tbody tr th:only-of-type {\n        vertical-align: middle;\n    }\n\n    .dataframe tbody tr th {\n        vertical-align: top;\n    }\n\n    .dataframe thead th {\n        text-align: right;\n    }\n</style>\n<table border=\"1\" class=\"dataframe\">\n  <thead>\n    <tr style=\"text-align: right;\">\n      <th></th>\n      <th>n</th>\n      <th>bias</th>\n      <th>rmse</th>\n      <th>mape</th>\n      <th>cc</th>\n      <th>si</th>\n      <th>r2</th>\n    </tr>\n    <tr>\n      <th>observation</th>\n      <th></th>\n      <th></th>\n      <th></th>\n      <th></th>\n      <th></th>\n      <th></th>\n      <th></th>\n    </tr>\n  </thead>\n  <tbody>\n    <tr>\n      <th>Klagshamn</th>\n      <td>167</td>\n      <td>0.18</td>\n      <td>0.19</td>\n      <td>NaN</td>\n      <td>0.84</td>\n      <td>0.32</td>\n      <td>-1.19</td>\n    </tr>\n    <tr>\n      <th>Drogden</th>\n      <td>996</td>\n      <td>0.26</td>\n      <td>0.28</td>\n      <td>NaN</td>\n      <td>0.51</td>\n      <td>0.53</td>\n      <td>-0.91</td>\n    </tr>\n  </tbody>\n</table>\n</div>"
     },
     "metadata": {},
     "execution_count": 4
    }
   ],
   "source": [
    "report = collection.skill_df()\n",
    "report.round(2)"
   ]
  }
 ]
}