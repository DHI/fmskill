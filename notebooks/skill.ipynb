{
 "metadata": {
  "language_info": {
   "codemirror_mode": {
    "name": "ipython",
    "version": 3
   },
   "file_extension": ".py",
   "mimetype": "text/x-python",
   "name": "python",
   "nbconvert_exporter": "python",
   "pygments_lexer": "ipython3",
   "version": "3.8.5-final"
  },
  "orig_nbformat": 2,
  "kernelspec": {
   "name": "python3",
   "display_name": "Python 3",
   "language": "python"
  }
 },
 "nbformat": 4,
 "nbformat_minor": 2,
 "cells": [
  {
   "source": [
    "# Skill per station"
   ],
   "cell_type": "markdown",
   "metadata": {}
  },
  {
   "cell_type": "code",
   "execution_count": 1,
   "metadata": {},
   "outputs": [],
   "source": [
    "from mikefm_skill.model import ModelResult\n",
    "from mikefm_skill.observation import PointObservation\n",
    "from mikefm_skill.metrics import root_mean_squared_error, mean_absolute_error"
   ]
  },
  {
   "cell_type": "code",
   "execution_count": 2,
   "metadata": {},
   "outputs": [
    {
     "output_type": "stream",
     "name": "stderr",
     "text": [
      "100%|██████████| 51/51 [00:00<00:00, 10140.29it/s]\n",
      "100%|██████████| 51/51 [00:00<00:00, 12752.44it/s]\n"
     ]
    }
   ],
   "source": [
    "mr = ModelResult(\"../tests/testdata/Oresund2D.dfsu\")\n",
    "\n",
    "mr.add_observation(PointObservation(\"../tests/testdata/smhi_2095_klagshamn.dfs0\", 0.36684415E+06, 0.61542916E+07, name=\"Klagshamn\") , item=0)\n",
    "mr.add_observation(PointObservation(\"../tests/testdata/dmi_30357_Drogden_Fyr.dfs0\", 355568.0, 6156863.0), item=0)\n",
    "\n",
    "collection = mr.extract()\n"
   ]
  },
  {
   "cell_type": "code",
   "execution_count": 3,
   "metadata": {},
   "outputs": [
    {
     "output_type": "execute_result",
     "data": {
      "text/plain": [
       "[PointObservation: Klagshamn, x=366844.15, y=6154291.6,\n",
       " PointObservation: dmi_30357_Drogden_Fyr, x=355568.0, y=6156863.0]"
      ]
     },
     "metadata": {},
     "execution_count": 3
    }
   ],
   "source": [
    "mr.observations"
   ]
  },
  {
   "cell_type": "code",
   "execution_count": 6,
   "metadata": {},
   "outputs": [
    {
     "output_type": "execute_result",
     "data": {
      "text/plain": [
       "                       root_mean_squared_error  mean_absolute_error\n",
       "Klagshamn                                 0.19                 0.18\n",
       "dmi_30357_Drogden_Fyr                     0.28                 0.26"
      ],
      "text/html": "<div>\n<style scoped>\n    .dataframe tbody tr th:only-of-type {\n        vertical-align: middle;\n    }\n\n    .dataframe tbody tr th {\n        vertical-align: top;\n    }\n\n    .dataframe thead th {\n        text-align: right;\n    }\n</style>\n<table border=\"1\" class=\"dataframe\">\n  <thead>\n    <tr style=\"text-align: right;\">\n      <th></th>\n      <th>root_mean_squared_error</th>\n      <th>mean_absolute_error</th>\n    </tr>\n  </thead>\n  <tbody>\n    <tr>\n      <th>Klagshamn</th>\n      <td>0.19</td>\n      <td>0.18</td>\n    </tr>\n    <tr>\n      <th>dmi_30357_Drogden_Fyr</th>\n      <td>0.28</td>\n      <td>0.26</td>\n    </tr>\n  </tbody>\n</table>\n</div>"
     },
     "metadata": {},
     "execution_count": 6
    }
   ],
   "source": [
    "report = collection.skill_report(metrics=[root_mean_squared_error, mean_absolute_error])\n",
    "report.round(2)"
   ]
  },
  {
   "cell_type": "code",
   "execution_count": null,
   "metadata": {},
   "outputs": [],
   "source": []
  }
 ]
}