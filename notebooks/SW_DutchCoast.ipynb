{
 "cells": [
  {
   "cell_type": "code",
   "execution_count": 1,
   "metadata": {},
   "outputs": [],
   "source": [
    "import numpy as np\n",
    "from fmskill.model import ModelResult\n",
    "from fmskill.observation import PointObservation, TrackObservation\n",
    "import fmskill.metrics as mtr"
   ]
  },
  {
   "cell_type": "code",
   "execution_count": 2,
   "metadata": {},
   "outputs": [],
   "source": [
    "import matplotlib.pyplot as plt\n",
    "from IPython.display import set_matplotlib_formats\n",
    "set_matplotlib_formats('png')"
   ]
  },
  {
   "cell_type": "code",
   "execution_count": 3,
   "metadata": {},
   "outputs": [
    {
     "output_type": "execute_result",
     "data": {
      "text/plain": [
       "Dfsu2D\n",
       "Number of elements: 958\n",
       "Number of nodes: 570\n",
       "Projection: LONG/LAT\n",
       "Number of items: 15\n",
       "Time: 23 steps with dt=10800.0s\n",
       "      2017-10-27 00:00:00 -- 2017-10-29 18:00:00"
      ]
     },
     "metadata": {},
     "execution_count": 3
    }
   ],
   "source": [
    "fn = '../tests/testdata/SW/HKZN_local_2017_DutchCoast.dfsu'\n",
    "mr = ModelResult(fn, name='HKZN_local')\n",
    "mr.dfs"
   ]
  },
  {
   "cell_type": "code",
   "execution_count": 4,
   "metadata": {},
   "outputs": [],
   "source": [
    "o1 = PointObservation('../tests/testdata/SW/HKNA_Hm0.dfs0', item=0, x=4.2420, y=52.6887, name=\"HKNA\")\n",
    "o2 = PointObservation(\"../tests/testdata/SW/eur_Hm0.dfs0\", item=0, x=3.2760, y=51.9990, name=\"EPL\")"
   ]
  },
  {
   "cell_type": "code",
   "execution_count": 5,
   "metadata": {},
   "outputs": [
    {
     "output_type": "display_data",
     "data": {
      "text/plain": "<Figure size 432x288 with 1 Axes>",
      "image/png": "[encoded data removed]"
     },
     "metadata": {
      "needs_background": "light"
     }
    }
   ],
   "source": [
    "o1.hist();"
   ]
  },
  {
   "cell_type": "code",
   "execution_count": 6,
   "metadata": {},
   "outputs": [
    {
     "output_type": "display_data",
     "data": {
      "text/plain": "<Figure size 432x288 with 1 Axes>",
      "image/png": "[encoded data removed]"
     },
     "metadata": {
      "needs_background": "light"
     }
    }
   ],
   "source": [
    "o1.plot(); "
   ]
  },
  {
   "cell_type": "code",
   "execution_count": 7,
   "metadata": {},
   "outputs": [
    {
     "output_type": "execute_result",
     "data": {
      "text/plain": [
       "                            Longitude   Latitude    swh\n",
       "2017-10-27 12:52:52.337098   2.422854  51.253353  1.638\n",
       "2017-10-27 12:52:53.280494   2.413789  51.310268  1.383\n",
       "2017-10-27 12:52:54.224001   2.404711  51.367184  1.791\n",
       "2017-10-27 12:52:55.167398   2.395619  51.424099  1.700\n",
       "2017-10-27 12:52:56.110895   2.386516  51.481014  1.800"
      ],
      "text/html": "<div>\n<style scoped>\n    .dataframe tbody tr th:only-of-type {\n        vertical-align: middle;\n    }\n\n    .dataframe tbody tr th {\n        vertical-align: top;\n    }\n\n    .dataframe thead th {\n        text-align: right;\n    }\n</style>\n<table border=\"1\" class=\"dataframe\">\n  <thead>\n    <tr style=\"text-align: right;\">\n      <th></th>\n      <th>Longitude</th>\n      <th>Latitude</th>\n      <th>swh</th>\n    </tr>\n  </thead>\n  <tbody>\n    <tr>\n      <th>2017-10-27 12:52:52.337098</th>\n      <td>2.422854</td>\n      <td>51.253353</td>\n      <td>1.638</td>\n    </tr>\n    <tr>\n      <th>2017-10-27 12:52:53.280494</th>\n      <td>2.413789</td>\n      <td>51.310268</td>\n      <td>1.383</td>\n    </tr>\n    <tr>\n      <th>2017-10-27 12:52:54.224001</th>\n      <td>2.404711</td>\n      <td>51.367184</td>\n      <td>1.791</td>\n    </tr>\n    <tr>\n      <th>2017-10-27 12:52:55.167398</th>\n      <td>2.395619</td>\n      <td>51.424099</td>\n      <td>1.700</td>\n    </tr>\n    <tr>\n      <th>2017-10-27 12:52:56.110895</th>\n      <td>2.386516</td>\n      <td>51.481014</td>\n      <td>1.800</td>\n    </tr>\n  </tbody>\n</table>\n</div>"
     },
     "metadata": {},
     "execution_count": 7
    }
   ],
   "source": [
    "o3 = TrackObservation(\"../tests/testdata/SW/Alti_c2_Dutch.dfs0\", item=3, name=\"c2\")\n",
    "o3.df.head()"
   ]
  },
  {
   "cell_type": "code",
   "execution_count": 8,
   "metadata": {},
   "outputs": [
    {
     "output_type": "execute_result",
     "data": {
      "text/plain": [
       "<shapely.geometry.multipoint.MultiPoint at 0x1ea54b44b80>"
      ],
      "image/svg+xml": "<svg xmlns=\"http://www.w3.org/2000/svg\" xmlns:xlink=\"http://www.w3.org/1999/xlink\" width=\"100.0\" height=\"100.0\" viewBox=\"-0.41737085342407226 50.877267065048215 10.1543234539032 9.497323627471928\" preserveAspectRatio=\"xMinYMin meet\"><g transform=\"matrix(1,0,0,-1,0,111.25185775756836)\"><g><circle cx=\"2.422854423522949\" cy=\"51.253353118896484\" r=\"0.30462970361709596\" stroke=\"#555555\" stroke-width=\"0.101543234539032\" fill=\"#66cc99\" opacity=\"0.6\" /><circle cx=\"2.4137887954711914\" cy=\"51.31026840209961\" r=\"0.30462970361709596\" stroke=\"#555555\" stroke-width=\"0.101543234539032\" fill=\"#66cc99\" opacity=\"0.6\" /><circle cx=\"2.404710531234741\" cy=\"51.367183685302734\" r=\"0.30462970361709596\" stroke=\"#555555\" stroke-width=\"0.101543234539032\" fill=\"#66cc99\" opacity=\"0.6\" /><circle cx=\"2.3956193923950195\" cy=\"51.42409896850586\" r=\"0.30462970361709596\" stroke=\"#555555\" stroke-width=\"0.101543234539032\" fill=\"#66cc99\" opacity=\"0.6\" /><circle cx=\"2.3865156173706055\" cy=\"51.481014251708984\" r=\"0.30462970361709596\" stroke=\"#555555\" stroke-width=\"0.101543234539032\" fill=\"#66cc99\" opacity=\"0.6\" /><circle cx=\"2.377398729324341\" cy=\"51.537925720214844\" r=\"0.30462970361709596\" stroke=\"#555555\" stroke-width=\"0.101543234539032\" fill=\"#66cc99\" opacity=\"0.6\" /><circle cx=\"2.368269205093384\" cy=\"51.5948371887207\" r=\"0.30462970361709596\" stroke=\"#555555\" stroke-width=\"0.101543234539032\" fill=\"#66cc99\" opacity=\"0.6\" /><circle cx=\"2.359126567840576\" cy=\"51.65174865722656\" r=\"0.30462970361709596\" stroke=\"#555555\" stroke-width=\"0.101543234539032\" fill=\"#66cc99\" opacity=\"0.6\" /><circle cx=\"2.349971055984497\" cy=\"51.70866012573242\" r=\"0.30462970361709596\" stroke=\"#555555\" stroke-width=\"0.101543234539032\" fill=\"#66cc99\" opacity=\"0.6\" /><circle cx=\"2.3408021926879883\" cy=\"51.76557159423828\" r=\"0.30462970361709596\" stroke=\"#555555\" stroke-width=\"0.101543234539032\" fill=\"#66cc99\" opacity=\"0.6\" /><circle cx=\"2.331620454788208\" cy=\"51.822479248046875\" r=\"0.30462970361709596\" stroke=\"#555555\" stroke-width=\"0.101543234539032\" fill=\"#66cc99\" opacity=\"0.6\" /><circle cx=\"2.322425365447998\" cy=\"51.87938690185547\" r=\"0.30462970361709596\" stroke=\"#555555\" stroke-width=\"0.101543234539032\" fill=\"#66cc99\" opacity=\"0.6\" /><circle cx=\"2.3132169246673584\" cy=\"51.93629455566406\" r=\"0.30462970361709596\" stroke=\"#555555\" stroke-width=\"0.101543234539032\" fill=\"#66cc99\" opacity=\"0.6\" /><circle cx=\"2.303995370864868\" cy=\"51.99319839477539\" r=\"0.30462970361709596\" stroke=\"#555555\" stroke-width=\"0.101543234539032\" fill=\"#66cc99\" opacity=\"0.6\" /><circle cx=\"2.2947604656219482\" cy=\"52.050106048583984\" r=\"0.30462970361709596\" stroke=\"#555555\" stroke-width=\"0.101543234539032\" fill=\"#66cc99\" opacity=\"0.6\" /><circle cx=\"2.2855119705200195\" cy=\"52.10700988769531\" r=\"0.30462970361709596\" stroke=\"#555555\" stroke-width=\"0.101543234539032\" fill=\"#66cc99\" opacity=\"0.6\" /><circle cx=\"2.276249885559082\" cy=\"52.16391372680664\" r=\"0.30462970361709596\" stroke=\"#555555\" stroke-width=\"0.101543234539032\" fill=\"#66cc99\" opacity=\"0.6\" /><circle cx=\"2.266974449157715\" cy=\"52.22081756591797\" r=\"0.30462970361709596\" stroke=\"#555555\" stroke-width=\"0.101543234539032\" fill=\"#66cc99\" opacity=\"0.6\" /><circle cx=\"2.2576851844787598\" cy=\"52.27771759033203\" r=\"0.30462970361709596\" stroke=\"#555555\" stroke-width=\"0.101543234539032\" fill=\"#66cc99\" opacity=\"0.6\" /><circle cx=\"2.248382329940796\" cy=\"52.334617614746094\" r=\"0.30462970361709596\" stroke=\"#555555\" stroke-width=\"0.101543234539032\" fill=\"#66cc99\" opacity=\"0.6\" /><circle cx=\"2.239065647125244\" cy=\"52.391517639160156\" r=\"0.30462970361709596\" stroke=\"#555555\" stroke-width=\"0.101543234539032\" fill=\"#66cc99\" opacity=\"0.6\" /><circle cx=\"2.2297351360321045\" cy=\"52.44841766357422\" r=\"0.30462970361709596\" stroke=\"#555555\" stroke-width=\"0.101543234539032\" fill=\"#66cc99\" opacity=\"0.6\" /><circle cx=\"2.220390796661377\" cy=\"52.50531768798828\" r=\"0.30462970361709596\" stroke=\"#555555\" stroke-width=\"0.101543234539032\" fill=\"#66cc99\" opacity=\"0.6\" /><circle cx=\"2.2110323905944824\" cy=\"52.56221389770508\" r=\"0.30462970361709596\" stroke=\"#555555\" stroke-width=\"0.101543234539032\" fill=\"#66cc99\" opacity=\"0.6\" /><circle cx=\"2.20166015625\" cy=\"52.619110107421875\" r=\"0.30462970361709596\" stroke=\"#555555\" stroke-width=\"0.101543234539032\" fill=\"#66cc99\" opacity=\"0.6\" /><circle cx=\"2.1922736167907715\" cy=\"52.67600631713867\" r=\"0.30462970361709596\" stroke=\"#555555\" stroke-width=\"0.101543234539032\" fill=\"#66cc99\" opacity=\"0.6\" /><circle cx=\"2.182873010635376\" cy=\"52.73290252685547\" r=\"0.30462970361709596\" stroke=\"#555555\" stroke-width=\"0.101543234539032\" fill=\"#66cc99\" opacity=\"0.6\" /><circle cx=\"2.1734580993652344\" cy=\"52.789794921875\" r=\"0.30462970361709596\" stroke=\"#555555\" stroke-width=\"0.101543234539032\" fill=\"#66cc99\" opacity=\"0.6\" /><circle cx=\"2.164029121398926\" cy=\"52.8466911315918\" r=\"0.30462970361709596\" stroke=\"#555555\" stroke-width=\"0.101543234539032\" fill=\"#66cc99\" opacity=\"0.6\" /><circle cx=\"2.154585838317871\" cy=\"52.90358352661133\" r=\"0.30462970361709596\" stroke=\"#555555\" stroke-width=\"0.101543234539032\" fill=\"#66cc99\" opacity=\"0.6\" /><circle cx=\"2.145128011703491\" cy=\"52.960472106933594\" r=\"0.30462970361709596\" stroke=\"#555555\" stroke-width=\"0.101543234539032\" fill=\"#66cc99\" opacity=\"0.6\" /><circle cx=\"2.135655641555786\" cy=\"53.017364501953125\" r=\"0.30462970361709596\" stroke=\"#555555\" stroke-width=\"0.101543234539032\" fill=\"#66cc99\" opacity=\"0.6\" /><circle cx=\"2.126168727874756\" cy=\"53.07425308227539\" r=\"0.30462970361709596\" stroke=\"#555555\" stroke-width=\"0.101543234539032\" fill=\"#66cc99\" opacity=\"0.6\" /><circle cx=\"2.1166672706604004\" cy=\"53.131141662597656\" r=\"0.30462970361709596\" stroke=\"#555555\" stroke-width=\"0.101543234539032\" fill=\"#66cc99\" opacity=\"0.6\" /><circle cx=\"2.1071510314941406\" cy=\"53.18803024291992\" r=\"0.30462970361709596\" stroke=\"#555555\" stroke-width=\"0.101543234539032\" fill=\"#66cc99\" opacity=\"0.6\" /><circle cx=\"2.0976202487945557\" cy=\"53.24491882324219\" r=\"0.30462970361709596\" stroke=\"#555555\" stroke-width=\"0.101543234539032\" fill=\"#66cc99\" opacity=\"0.6\" /><circle cx=\"2.0880744457244873\" cy=\"53.30180358886719\" r=\"0.30462970361709596\" stroke=\"#555555\" stroke-width=\"0.101543234539032\" fill=\"#66cc99\" opacity=\"0.6\" /><circle cx=\"2.0785138607025146\" cy=\"53.35868835449219\" r=\"0.30462970361709596\" stroke=\"#555555\" stroke-width=\"0.101543234539032\" fill=\"#66cc99\" opacity=\"0.6\" /><circle cx=\"2.0689380168914795\" cy=\"53.41557312011719\" r=\"0.30462970361709596\" stroke=\"#555555\" stroke-width=\"0.101543234539032\" fill=\"#66cc99\" opacity=\"0.6\" /><circle cx=\"2.05934739112854\" cy=\"53.47245788574219\" r=\"0.30462970361709596\" stroke=\"#555555\" stroke-width=\"0.101543234539032\" fill=\"#66cc99\" opacity=\"0.6\" /><circle cx=\"2.049741744995117\" cy=\"53.52933883666992\" r=\"0.30462970361709596\" stroke=\"#555555\" stroke-width=\"0.101543234539032\" fill=\"#66cc99\" opacity=\"0.6\" /><circle cx=\"2.0401206016540527\" cy=\"53.58622360229492\" r=\"0.30462970361709596\" stroke=\"#555555\" stroke-width=\"0.101543234539032\" fill=\"#66cc99\" opacity=\"0.6\" /><circle cx=\"2.030484437942505\" cy=\"53.643104553222656\" r=\"0.30462970361709596\" stroke=\"#555555\" stroke-width=\"0.101543234539032\" fill=\"#66cc99\" opacity=\"0.6\" /><circle cx=\"2.0208330154418945\" cy=\"53.69998550415039\" r=\"0.30462970361709596\" stroke=\"#555555\" stroke-width=\"0.101543234539032\" fill=\"#66cc99\" opacity=\"0.6\" /><circle cx=\"2.0111660957336426\" cy=\"53.75686264038086\" r=\"0.30462970361709596\" stroke=\"#555555\" stroke-width=\"0.101543234539032\" fill=\"#66cc99\" opacity=\"0.6\" /><circle cx=\"2.001483678817749\" cy=\"53.81373977661133\" r=\"0.30462970361709596\" stroke=\"#555555\" stroke-width=\"0.101543234539032\" fill=\"#66cc99\" opacity=\"0.6\" /><circle cx=\"1.9917856454849243\" cy=\"53.8706169128418\" r=\"0.30462970361709596\" stroke=\"#555555\" stroke-width=\"0.101543234539032\" fill=\"#66cc99\" opacity=\"0.6\" /><circle cx=\"1.982072114944458\" cy=\"53.927494049072266\" r=\"0.30462970361709596\" stroke=\"#555555\" stroke-width=\"0.101543234539032\" fill=\"#66cc99\" opacity=\"0.6\" /><circle cx=\"1.972342848777771\" cy=\"53.984371185302734\" r=\"0.30462970361709596\" stroke=\"#555555\" stroke-width=\"0.101543234539032\" fill=\"#66cc99\" opacity=\"0.6\" /><circle cx=\"1.9625978469848633\" cy=\"54.04124450683594\" r=\"0.30462970361709596\" stroke=\"#555555\" stroke-width=\"0.101543234539032\" fill=\"#66cc99\" opacity=\"0.6\" /><circle cx=\"1.9528368711471558\" cy=\"54.09811782836914\" r=\"0.30462970361709596\" stroke=\"#555555\" stroke-width=\"0.101543234539032\" fill=\"#66cc99\" opacity=\"0.6\" /><circle cx=\"1.943060040473938\" cy=\"54.154991149902344\" r=\"0.30462970361709596\" stroke=\"#555555\" stroke-width=\"0.101543234539032\" fill=\"#66cc99\" opacity=\"0.6\" /><circle cx=\"1.93326735496521\" cy=\"54.21186447143555\" r=\"0.30462970361709596\" stroke=\"#555555\" stroke-width=\"0.101543234539032\" fill=\"#66cc99\" opacity=\"0.6\" /><circle cx=\"1.9234583377838135\" cy=\"54.268733978271484\" r=\"0.30462970361709596\" stroke=\"#555555\" stroke-width=\"0.101543234539032\" fill=\"#66cc99\" opacity=\"0.6\" /><circle cx=\"1.9136333465576172\" cy=\"54.32560729980469\" r=\"0.30462970361709596\" stroke=\"#555555\" stroke-width=\"0.101543234539032\" fill=\"#66cc99\" opacity=\"0.6\" /><circle cx=\"1.9037920236587524\" cy=\"54.382476806640625\" r=\"0.30462970361709596\" stroke=\"#555555\" stroke-width=\"0.101543234539032\" fill=\"#66cc99\" opacity=\"0.6\" /><circle cx=\"1.8939343690872192\" cy=\"54.4393424987793\" r=\"0.30462970361709596\" stroke=\"#555555\" stroke-width=\"0.101543234539032\" fill=\"#66cc99\" opacity=\"0.6\" /><circle cx=\"1.8840603828430176\" cy=\"54.496212005615234\" r=\"0.30462970361709596\" stroke=\"#555555\" stroke-width=\"0.101543234539032\" fill=\"#66cc99\" opacity=\"0.6\" /><circle cx=\"1.874169945716858\" cy=\"54.553077697753906\" r=\"0.30462970361709596\" stroke=\"#555555\" stroke-width=\"0.101543234539032\" fill=\"#66cc99\" opacity=\"0.6\" /><circle cx=\"1.8642628192901611\" cy=\"54.60994338989258\" r=\"0.30462970361709596\" stroke=\"#555555\" stroke-width=\"0.101543234539032\" fill=\"#66cc99\" opacity=\"0.6\" /><circle cx=\"1.8543391227722168\" cy=\"54.66680908203125\" r=\"0.30462970361709596\" stroke=\"#555555\" stroke-width=\"0.101543234539032\" fill=\"#66cc99\" opacity=\"0.6\" /><circle cx=\"1.8443987369537354\" cy=\"54.723670959472656\" r=\"0.30462970361709596\" stroke=\"#555555\" stroke-width=\"0.101543234539032\" fill=\"#66cc99\" opacity=\"0.6\" /><circle cx=\"1.8344415426254272\" cy=\"54.78053665161133\" r=\"0.30462970361709596\" stroke=\"#555555\" stroke-width=\"0.101543234539032\" fill=\"#66cc99\" opacity=\"0.6\" /><circle cx=\"1.824467420578003\" cy=\"54.837398529052734\" r=\"0.30462970361709596\" stroke=\"#555555\" stroke-width=\"0.101543234539032\" fill=\"#66cc99\" opacity=\"0.6\" /><circle cx=\"1.8144763708114624\" cy=\"54.89426040649414\" r=\"0.30462970361709596\" stroke=\"#555555\" stroke-width=\"0.101543234539032\" fill=\"#66cc99\" opacity=\"0.6\" /><circle cx=\"1.8044682741165161\" cy=\"54.95111846923828\" r=\"0.30462970361709596\" stroke=\"#555555\" stroke-width=\"0.101543234539032\" fill=\"#66cc99\" opacity=\"0.6\" /><circle cx=\"1.794443130493164\" cy=\"55.00798034667969\" r=\"0.30462970361709596\" stroke=\"#555555\" stroke-width=\"0.101543234539032\" fill=\"#66cc99\" opacity=\"0.6\" /><circle cx=\"1.7844008207321167\" cy=\"55.06483840942383\" r=\"0.30462970361709596\" stroke=\"#555555\" stroke-width=\"0.101543234539032\" fill=\"#66cc99\" opacity=\"0.6\" /><circle cx=\"1.7743409872055054\" cy=\"55.12169647216797\" r=\"0.30462970361709596\" stroke=\"#555555\" stroke-width=\"0.101543234539032\" fill=\"#66cc99\" opacity=\"0.6\" /><circle cx=\"1.7642638683319092\" cy=\"55.178550720214844\" r=\"0.30462970361709596\" stroke=\"#555555\" stroke-width=\"0.101543234539032\" fill=\"#66cc99\" opacity=\"0.6\" /><circle cx=\"1.7541693449020386\" cy=\"55.235408782958984\" r=\"0.30462970361709596\" stroke=\"#555555\" stroke-width=\"0.101543234539032\" fill=\"#66cc99\" opacity=\"0.6\" /><circle cx=\"1.744057059288025\" cy=\"55.29226303100586\" r=\"0.30462970361709596\" stroke=\"#555555\" stroke-width=\"0.101543234539032\" fill=\"#66cc99\" opacity=\"0.6\" /><circle cx=\"1.7339272499084473\" cy=\"55.349117279052734\" r=\"0.30462970361709596\" stroke=\"#555555\" stroke-width=\"0.101543234539032\" fill=\"#66cc99\" opacity=\"0.6\" /><circle cx=\"1.7237797975540161\" cy=\"55.40597152709961\" r=\"0.30462970361709596\" stroke=\"#555555\" stroke-width=\"0.101543234539032\" fill=\"#66cc99\" opacity=\"0.6\" /><circle cx=\"1.7136143445968628\" cy=\"55.46282196044922\" r=\"0.30462970361709596\" stroke=\"#555555\" stroke-width=\"0.101543234539032\" fill=\"#66cc99\" opacity=\"0.6\" /><circle cx=\"1.7034311294555664\" cy=\"55.51967239379883\" r=\"0.30462970361709596\" stroke=\"#555555\" stroke-width=\"0.101543234539032\" fill=\"#66cc99\" opacity=\"0.6\" /><circle cx=\"1.6932297945022583\" cy=\"55.57652282714844\" r=\"0.30462970361709596\" stroke=\"#555555\" stroke-width=\"0.101543234539032\" fill=\"#66cc99\" opacity=\"0.6\" /><circle cx=\"1.683010458946228\" cy=\"55.63337326049805\" r=\"0.30462970361709596\" stroke=\"#555555\" stroke-width=\"0.101543234539032\" fill=\"#66cc99\" opacity=\"0.6\" /><circle cx=\"1.672772765159607\" cy=\"55.690223693847656\" r=\"0.30462970361709596\" stroke=\"#555555\" stroke-width=\"0.101543234539032\" fill=\"#66cc99\" opacity=\"0.6\" /><circle cx=\"1.6625169515609741\" cy=\"55.7470703125\" r=\"0.30462970361709596\" stroke=\"#555555\" stroke-width=\"0.101543234539032\" fill=\"#66cc99\" opacity=\"0.6\" /><circle cx=\"1.6522427797317505\" cy=\"55.803916931152344\" r=\"0.30462970361709596\" stroke=\"#555555\" stroke-width=\"0.101543234539032\" fill=\"#66cc99\" opacity=\"0.6\" /><circle cx=\"1.6419501304626465\" cy=\"55.86076354980469\" r=\"0.30462970361709596\" stroke=\"#555555\" stroke-width=\"0.101543234539032\" fill=\"#66cc99\" opacity=\"0.6\" /><circle cx=\"1.6316388845443726\" cy=\"55.917606353759766\" r=\"0.30462970361709596\" stroke=\"#555555\" stroke-width=\"0.101543234539032\" fill=\"#66cc99\" opacity=\"0.6\" /><circle cx=\"1.6213090419769287\" cy=\"55.974449157714844\" r=\"0.30462970361709596\" stroke=\"#555555\" stroke-width=\"0.101543234539032\" fill=\"#66cc99\" opacity=\"0.6\" /><circle cx=\"1.6109603643417358\" cy=\"56.03129196166992\" r=\"0.30462970361709596\" stroke=\"#555555\" stroke-width=\"0.101543234539032\" fill=\"#66cc99\" opacity=\"0.6\" /><circle cx=\"1.6005929708480835\" cy=\"56.088134765625\" r=\"0.30462970361709596\" stroke=\"#555555\" stroke-width=\"0.101543234539032\" fill=\"#66cc99\" opacity=\"0.6\" /><circle cx=\"1.5902066230773926\" cy=\"56.14497756958008\" r=\"0.30462970361709596\" stroke=\"#555555\" stroke-width=\"0.101543234539032\" fill=\"#66cc99\" opacity=\"0.6\" /><circle cx=\"1.579801082611084\" cy=\"56.20181655883789\" r=\"0.30462970361709596\" stroke=\"#555555\" stroke-width=\"0.101543234539032\" fill=\"#66cc99\" opacity=\"0.6\" /><circle cx=\"1.5693765878677368\" cy=\"56.2586555480957\" r=\"0.30462970361709596\" stroke=\"#555555\" stroke-width=\"0.101543234539032\" fill=\"#66cc99\" opacity=\"0.6\" /><circle cx=\"1.5589327812194824\" cy=\"56.315494537353516\" r=\"0.30462970361709596\" stroke=\"#555555\" stroke-width=\"0.101543234539032\" fill=\"#66cc99\" opacity=\"0.6\" /><circle cx=\"1.5484696626663208\" cy=\"56.37233352661133\" r=\"0.30462970361709596\" stroke=\"#555555\" stroke-width=\"0.101543234539032\" fill=\"#66cc99\" opacity=\"0.6\" /><circle cx=\"1.537987232208252\" cy=\"56.429168701171875\" r=\"0.30462970361709596\" stroke=\"#555555\" stroke-width=\"0.101543234539032\" fill=\"#66cc99\" opacity=\"0.6\" /><circle cx=\"1.5274851322174072\" cy=\"56.48600387573242\" r=\"0.30462970361709596\" stroke=\"#555555\" stroke-width=\"0.101543234539032\" fill=\"#66cc99\" opacity=\"0.6\" /><circle cx=\"1.5169633626937866\" cy=\"56.54283905029297\" r=\"0.30462970361709596\" stroke=\"#555555\" stroke-width=\"0.101543234539032\" fill=\"#66cc99\" opacity=\"0.6\" /><circle cx=\"1.5064220428466797\" cy=\"56.59967041015625\" r=\"0.30462970361709596\" stroke=\"#555555\" stroke-width=\"0.101543234539032\" fill=\"#66cc99\" opacity=\"0.6\" /><circle cx=\"1.4958608150482178\" cy=\"56.6565055847168\" r=\"0.30462970361709596\" stroke=\"#555555\" stroke-width=\"0.101543234539032\" fill=\"#66cc99\" opacity=\"0.6\" /><circle cx=\"1.4852796792984009\" cy=\"56.71333694458008\" r=\"0.30462970361709596\" stroke=\"#555555\" stroke-width=\"0.101543234539032\" fill=\"#66cc99\" opacity=\"0.6\" /><circle cx=\"1.4746785163879395\" cy=\"56.77016830444336\" r=\"0.30462970361709596\" stroke=\"#555555\" stroke-width=\"0.101543234539032\" fill=\"#66cc99\" opacity=\"0.6\" /><circle cx=\"1.464057207107544\" cy=\"56.826995849609375\" r=\"0.30462970361709596\" stroke=\"#555555\" stroke-width=\"0.101543234539032\" fill=\"#66cc99\" opacity=\"0.6\" /><circle cx=\"1.4534156322479248\" cy=\"56.883827209472656\" r=\"0.30462970361709596\" stroke=\"#555555\" stroke-width=\"0.101543234539032\" fill=\"#66cc99\" opacity=\"0.6\" /><circle cx=\"1.4427536725997925\" cy=\"56.94065475463867\" r=\"0.30462970361709596\" stroke=\"#555555\" stroke-width=\"0.101543234539032\" fill=\"#66cc99\" opacity=\"0.6\" /><circle cx=\"1.432071328163147\" cy=\"56.99748229980469\" r=\"0.30462970361709596\" stroke=\"#555555\" stroke-width=\"0.101543234539032\" fill=\"#66cc99\" opacity=\"0.6\" /><circle cx=\"1.4213684797286987\" cy=\"57.05430603027344\" r=\"0.30462970361709596\" stroke=\"#555555\" stroke-width=\"0.101543234539032\" fill=\"#66cc99\" opacity=\"0.6\" /><circle cx=\"1.4106448888778687\" cy=\"57.11113357543945\" r=\"0.30462970361709596\" stroke=\"#555555\" stroke-width=\"0.101543234539032\" fill=\"#66cc99\" opacity=\"0.6\" /><circle cx=\"1.3999005556106567\" cy=\"57.1679573059082\" r=\"0.30462970361709596\" stroke=\"#555555\" stroke-width=\"0.101543234539032\" fill=\"#66cc99\" opacity=\"0.6\" /><circle cx=\"1.3891352415084839\" cy=\"57.22478103637695\" r=\"0.30462970361709596\" stroke=\"#555555\" stroke-width=\"0.101543234539032\" fill=\"#66cc99\" opacity=\"0.6\" /><circle cx=\"1.3783490657806396\" cy=\"57.28160095214844\" r=\"0.30462970361709596\" stroke=\"#555555\" stroke-width=\"0.101543234539032\" fill=\"#66cc99\" opacity=\"0.6\" /><circle cx=\"1.367541790008545\" cy=\"57.33842468261719\" r=\"0.30462970361709596\" stroke=\"#555555\" stroke-width=\"0.101543234539032\" fill=\"#66cc99\" opacity=\"0.6\" /><circle cx=\"1.3567131757736206\" cy=\"57.39524459838867\" r=\"0.30462970361709596\" stroke=\"#555555\" stroke-width=\"0.101543234539032\" fill=\"#66cc99\" opacity=\"0.6\" /><circle cx=\"1.3458633422851562\" cy=\"57.452064514160156\" r=\"0.30462970361709596\" stroke=\"#555555\" stroke-width=\"0.101543234539032\" fill=\"#66cc99\" opacity=\"0.6\" /><circle cx=\"1.3349920511245728\" cy=\"57.508880615234375\" r=\"0.30462970361709596\" stroke=\"#555555\" stroke-width=\"0.101543234539032\" fill=\"#66cc99\" opacity=\"0.6\" /><circle cx=\"1.3240991830825806\" cy=\"57.56570053100586\" r=\"0.30462970361709596\" stroke=\"#555555\" stroke-width=\"0.101543234539032\" fill=\"#66cc99\" opacity=\"0.6\" /><circle cx=\"1.3131846189498901\" cy=\"57.62251663208008\" r=\"0.30462970361709596\" stroke=\"#555555\" stroke-width=\"0.101543234539032\" fill=\"#66cc99\" opacity=\"0.6\" /><circle cx=\"1.3022483587265015\" cy=\"57.6793327331543\" r=\"0.30462970361709596\" stroke=\"#555555\" stroke-width=\"0.101543234539032\" fill=\"#66cc99\" opacity=\"0.6\" /><circle cx=\"1.291290044784546\" cy=\"57.73614501953125\" r=\"0.30462970361709596\" stroke=\"#555555\" stroke-width=\"0.101543234539032\" fill=\"#66cc99\" opacity=\"0.6\" /><circle cx=\"1.2803099155426025\" cy=\"57.79296112060547\" r=\"0.30462970361709596\" stroke=\"#555555\" stroke-width=\"0.101543234539032\" fill=\"#66cc99\" opacity=\"0.6\" /><circle cx=\"1.2693074941635132\" cy=\"57.84977340698242\" r=\"0.30462970361709596\" stroke=\"#555555\" stroke-width=\"0.101543234539032\" fill=\"#66cc99\" opacity=\"0.6\" /><circle cx=\"1.2582828998565674\" cy=\"57.906585693359375\" r=\"0.30462970361709596\" stroke=\"#555555\" stroke-width=\"0.101543234539032\" fill=\"#66cc99\" opacity=\"0.6\" /><circle cx=\"1.247235894203186\" cy=\"57.96339416503906\" r=\"0.30462970361709596\" stroke=\"#555555\" stroke-width=\"0.101543234539032\" fill=\"#66cc99\" opacity=\"0.6\" /><circle cx=\"1.2361664772033691\" cy=\"58.02020263671875\" r=\"0.30462970361709596\" stroke=\"#555555\" stroke-width=\"0.101543234539032\" fill=\"#66cc99\" opacity=\"0.6\" /><circle cx=\"1.2250745296478271\" cy=\"58.07701110839844\" r=\"0.30462970361709596\" stroke=\"#555555\" stroke-width=\"0.101543234539032\" fill=\"#66cc99\" opacity=\"0.6\" /><circle cx=\"1.2139596939086914\" cy=\"58.133819580078125\" r=\"0.30462970361709596\" stroke=\"#555555\" stroke-width=\"0.101543234539032\" fill=\"#66cc99\" opacity=\"0.6\" /><circle cx=\"1.202821969985962\" cy=\"58.19062805175781\" r=\"0.30462970361709596\" stroke=\"#555555\" stroke-width=\"0.101543234539032\" fill=\"#66cc99\" opacity=\"0.6\" /><circle cx=\"1.1916613578796387\" cy=\"58.247432708740234\" r=\"0.30462970361709596\" stroke=\"#555555\" stroke-width=\"0.101543234539032\" fill=\"#66cc99\" opacity=\"0.6\" /><circle cx=\"1.1804776191711426\" cy=\"58.304237365722656\" r=\"0.30462970361709596\" stroke=\"#555555\" stroke-width=\"0.101543234539032\" fill=\"#66cc99\" opacity=\"0.6\" /><circle cx=\"1.1692707538604736\" cy=\"58.36104202270508\" r=\"0.30462970361709596\" stroke=\"#555555\" stroke-width=\"0.101543234539032\" fill=\"#66cc99\" opacity=\"0.6\" /><circle cx=\"1.1580404043197632\" cy=\"58.4178466796875\" r=\"0.30462970361709596\" stroke=\"#555555\" stroke-width=\"0.101543234539032\" fill=\"#66cc99\" opacity=\"0.6\" /><circle cx=\"1.1467864513397217\" cy=\"58.474647521972656\" r=\"0.30462970361709596\" stroke=\"#555555\" stroke-width=\"0.101543234539032\" fill=\"#66cc99\" opacity=\"0.6\" /><circle cx=\"1.1355091333389282\" cy=\"58.53144836425781\" r=\"0.30462970361709596\" stroke=\"#555555\" stroke-width=\"0.101543234539032\" fill=\"#66cc99\" opacity=\"0.6\" /><circle cx=\"1.1242079734802246\" cy=\"58.58824920654297\" r=\"0.30462970361709596\" stroke=\"#555555\" stroke-width=\"0.101543234539032\" fill=\"#66cc99\" opacity=\"0.6\" /><circle cx=\"1.1128829717636108\" cy=\"58.64504623413086\" r=\"0.30462970361709596\" stroke=\"#555555\" stroke-width=\"0.101543234539032\" fill=\"#66cc99\" opacity=\"0.6\" /><circle cx=\"1.1015338897705078\" cy=\"58.70184326171875\" r=\"0.30462970361709596\" stroke=\"#555555\" stroke-width=\"0.101543234539032\" fill=\"#66cc99\" opacity=\"0.6\" /><circle cx=\"1.090160846710205\" cy=\"58.75864028930664\" r=\"0.30462970361709596\" stroke=\"#555555\" stroke-width=\"0.101543234539032\" fill=\"#66cc99\" opacity=\"0.6\" /><circle cx=\"1.0787633657455444\" cy=\"58.81543731689453\" r=\"0.30462970361709596\" stroke=\"#555555\" stroke-width=\"0.101543234539032\" fill=\"#66cc99\" opacity=\"0.6\" /><circle cx=\"1.0673415660858154\" cy=\"58.87223434448242\" r=\"0.30462970361709596\" stroke=\"#555555\" stroke-width=\"0.101543234539032\" fill=\"#66cc99\" opacity=\"0.6\" /><circle cx=\"1.055895209312439\" cy=\"58.92902755737305\" r=\"0.30462970361709596\" stroke=\"#555555\" stroke-width=\"0.101543234539032\" fill=\"#66cc99\" opacity=\"0.6\" /><circle cx=\"1.0444241762161255\" cy=\"58.98582077026367\" r=\"0.30462970361709596\" stroke=\"#555555\" stroke-width=\"0.101543234539032\" fill=\"#66cc99\" opacity=\"0.6\" /><circle cx=\"1.0329283475875854\" cy=\"59.04261016845703\" r=\"0.30462970361709596\" stroke=\"#555555\" stroke-width=\"0.101543234539032\" fill=\"#66cc99\" opacity=\"0.6\" /><circle cx=\"1.0214077234268188\" cy=\"59.099403381347656\" r=\"0.30462970361709596\" stroke=\"#555555\" stroke-width=\"0.101543234539032\" fill=\"#66cc99\" opacity=\"0.6\" /><circle cx=\"1.009861946105957\" cy=\"59.156192779541016\" r=\"0.30462970361709596\" stroke=\"#555555\" stroke-width=\"0.101543234539032\" fill=\"#66cc99\" opacity=\"0.6\" /><circle cx=\"0.9982908964157104\" cy=\"59.212982177734375\" r=\"0.30462970361709596\" stroke=\"#555555\" stroke-width=\"0.101543234539032\" fill=\"#66cc99\" opacity=\"0.6\" /><circle cx=\"0.9866943955421448\" cy=\"59.26976776123047\" r=\"0.30462970361709596\" stroke=\"#555555\" stroke-width=\"0.101543234539032\" fill=\"#66cc99\" opacity=\"0.6\" /><circle cx=\"0.9750725030899048\" cy=\"59.32655715942383\" r=\"0.30462970361709596\" stroke=\"#555555\" stroke-width=\"0.101543234539032\" fill=\"#66cc99\" opacity=\"0.6\" /><circle cx=\"0.9634249806404114\" cy=\"59.38334274291992\" r=\"0.30462970361709596\" stroke=\"#555555\" stroke-width=\"0.101543234539032\" fill=\"#66cc99\" opacity=\"0.6\" /><circle cx=\"0.9517515897750854\" cy=\"59.44012451171875\" r=\"0.30462970361709596\" stroke=\"#555555\" stroke-width=\"0.101543234539032\" fill=\"#66cc99\" opacity=\"0.6\" /><circle cx=\"0.9400523900985718\" cy=\"59.496910095214844\" r=\"0.30462970361709596\" stroke=\"#555555\" stroke-width=\"0.101543234539032\" fill=\"#66cc99\" opacity=\"0.6\" /><circle cx=\"0.9283270239830017\" cy=\"59.55369186401367\" r=\"0.30462970361709596\" stroke=\"#555555\" stroke-width=\"0.101543234539032\" fill=\"#66cc99\" opacity=\"0.6\" /><circle cx=\"0.9165753722190857\" cy=\"59.6104736328125\" r=\"0.30462970361709596\" stroke=\"#555555\" stroke-width=\"0.101543234539032\" fill=\"#66cc99\" opacity=\"0.6\" /><circle cx=\"0.9047974944114685\" cy=\"59.66725540161133\" r=\"0.30462970361709596\" stroke=\"#555555\" stroke-width=\"0.101543234539032\" fill=\"#66cc99\" opacity=\"0.6\" /><circle cx=\"0.8929929733276367\" cy=\"59.724037170410156\" r=\"0.30462970361709596\" stroke=\"#555555\" stroke-width=\"0.101543234539032\" fill=\"#66cc99\" opacity=\"0.6\" /><circle cx=\"0.8811619281768799\" cy=\"59.78081512451172\" r=\"0.30462970361709596\" stroke=\"#555555\" stroke-width=\"0.101543234539032\" fill=\"#66cc99\" opacity=\"0.6\" /><circle cx=\"0.8693038821220398\" cy=\"59.83759307861328\" r=\"0.30462970361709596\" stroke=\"#555555\" stroke-width=\"0.101543234539032\" fill=\"#66cc99\" opacity=\"0.6\" /><circle cx=\"0.8574190139770508\" cy=\"59.89436721801758\" r=\"0.30462970361709596\" stroke=\"#555555\" stroke-width=\"0.101543234539032\" fill=\"#66cc99\" opacity=\"0.6\" /><circle cx=\"0.8455069065093994\" cy=\"59.95114517211914\" r=\"0.30462970361709596\" stroke=\"#555555\" stroke-width=\"0.101543234539032\" fill=\"#66cc99\" opacity=\"0.6\" /><circle cx=\"9.36086654663086\" cy=\"58.47673797607422\" r=\"0.30462970361709596\" stroke=\"#555555\" stroke-width=\"0.101543234539032\" fill=\"#66cc99\" opacity=\"0.6\" /><circle cx=\"9.349609375\" cy=\"58.41990661621094\" r=\"0.30462970361709596\" stroke=\"#555555\" stroke-width=\"0.101543234539032\" fill=\"#66cc99\" opacity=\"0.6\" /><circle cx=\"9.33837604522705\" cy=\"58.363075256347656\" r=\"0.30462970361709596\" stroke=\"#555555\" stroke-width=\"0.101543234539032\" fill=\"#66cc99\" opacity=\"0.6\" /><circle cx=\"9.327165603637695\" cy=\"58.306243896484375\" r=\"0.30462970361709596\" stroke=\"#555555\" stroke-width=\"0.101543234539032\" fill=\"#66cc99\" opacity=\"0.6\" /><circle cx=\"9.315978050231934\" cy=\"58.249412536621094\" r=\"0.30462970361709596\" stroke=\"#555555\" stroke-width=\"0.101543234539032\" fill=\"#66cc99\" opacity=\"0.6\" /><circle cx=\"9.304814338684082\" cy=\"58.19257736206055\" r=\"0.30462970361709596\" stroke=\"#555555\" stroke-width=\"0.101543234539032\" fill=\"#66cc99\" opacity=\"0.6\" /><circle cx=\"9.293673515319824\" cy=\"58.1357421875\" r=\"0.30462970361709596\" stroke=\"#555555\" stroke-width=\"0.101543234539032\" fill=\"#66cc99\" opacity=\"0.6\" /><circle cx=\"9.28255558013916\" cy=\"58.07890319824219\" r=\"0.30462970361709596\" stroke=\"#555555\" stroke-width=\"0.101543234539032\" fill=\"#66cc99\" opacity=\"0.6\" /><circle cx=\"9.27146053314209\" cy=\"58.02206802368164\" r=\"0.30462970361709596\" stroke=\"#555555\" stroke-width=\"0.101543234539032\" fill=\"#66cc99\" opacity=\"0.6\" /><circle cx=\"9.260387420654297\" cy=\"57.96522903442383\" r=\"0.30462970361709596\" stroke=\"#555555\" stroke-width=\"0.101543234539032\" fill=\"#66cc99\" opacity=\"0.6\" /><circle cx=\"9.249337196350098\" cy=\"57.908390045166016\" r=\"0.30462970361709596\" stroke=\"#555555\" stroke-width=\"0.101543234539032\" fill=\"#66cc99\" opacity=\"0.6\" /><circle cx=\"9.238309860229492\" cy=\"57.8515510559082\" r=\"0.30462970361709596\" stroke=\"#555555\" stroke-width=\"0.101543234539032\" fill=\"#66cc99\" opacity=\"0.6\" /><circle cx=\"9.227304458618164\" cy=\"57.794708251953125\" r=\"0.30462970361709596\" stroke=\"#555555\" stroke-width=\"0.101543234539032\" fill=\"#66cc99\" opacity=\"0.6\" /><circle cx=\"9.216320991516113\" cy=\"57.73786544799805\" r=\"0.30462970361709596\" stroke=\"#555555\" stroke-width=\"0.101543234539032\" fill=\"#66cc99\" opacity=\"0.6\" /><circle cx=\"9.20535945892334\" cy=\"57.68102264404297\" r=\"0.30462970361709596\" stroke=\"#555555\" stroke-width=\"0.101543234539032\" fill=\"#66cc99\" opacity=\"0.6\" /><circle cx=\"9.194419860839844\" cy=\"57.62417984008789\" r=\"0.30462970361709596\" stroke=\"#555555\" stroke-width=\"0.101543234539032\" fill=\"#66cc99\" opacity=\"0.6\" /><circle cx=\"9.183502197265625\" cy=\"57.56733322143555\" r=\"0.30462970361709596\" stroke=\"#555555\" stroke-width=\"0.101543234539032\" fill=\"#66cc99\" opacity=\"0.6\" /><circle cx=\"9.172606468200684\" cy=\"57.5104866027832\" r=\"0.30462970361709596\" stroke=\"#555555\" stroke-width=\"0.101543234539032\" fill=\"#66cc99\" opacity=\"0.6\" /><circle cx=\"9.161731719970703\" cy=\"57.45363998413086\" r=\"0.30462970361709596\" stroke=\"#555555\" stroke-width=\"0.101543234539032\" fill=\"#66cc99\" opacity=\"0.6\" /><circle cx=\"9.15087890625\" cy=\"57.39678955078125\" r=\"0.30462970361709596\" stroke=\"#555555\" stroke-width=\"0.101543234539032\" fill=\"#66cc99\" opacity=\"0.6\" /><circle cx=\"9.140047073364258\" cy=\"57.339942932128906\" r=\"0.30462970361709596\" stroke=\"#555555\" stroke-width=\"0.101543234539032\" fill=\"#66cc99\" opacity=\"0.6\" /><circle cx=\"1.492964506149292\" cy=\"51.58572006225586\" r=\"0.30462970361709596\" stroke=\"#555555\" stroke-width=\"0.101543234539032\" fill=\"#66cc99\" opacity=\"0.6\" /><circle cx=\"1.4838240146636963\" cy=\"51.64263153076172\" r=\"0.30462970361709596\" stroke=\"#555555\" stroke-width=\"0.101543234539032\" fill=\"#66cc99\" opacity=\"0.6\" /><circle cx=\"1.474670648574829\" cy=\"51.69953918457031\" r=\"0.30462970361709596\" stroke=\"#555555\" stroke-width=\"0.101543234539032\" fill=\"#66cc99\" opacity=\"0.6\" /><circle cx=\"1.231909155845642\" cy=\"53.17884063720703\" r=\"0.30462970361709596\" stroke=\"#555555\" stroke-width=\"0.101543234539032\" fill=\"#66cc99\" opacity=\"0.6\" /><circle cx=\"1.222380518913269\" cy=\"53.23572540283203\" r=\"0.30462970361709596\" stroke=\"#555555\" stroke-width=\"0.101543234539032\" fill=\"#66cc99\" opacity=\"0.6\" /><circle cx=\"1.2128372192382812\" cy=\"53.29261016845703\" r=\"0.30462970361709596\" stroke=\"#555555\" stroke-width=\"0.101543234539032\" fill=\"#66cc99\" opacity=\"0.6\" /><circle cx=\"1.20327889919281\" cy=\"53.349491119384766\" r=\"0.30462970361709596\" stroke=\"#555555\" stroke-width=\"0.101543234539032\" fill=\"#66cc99\" opacity=\"0.6\" /><circle cx=\"1.193705677986145\" cy=\"53.406375885009766\" r=\"0.30462970361709596\" stroke=\"#555555\" stroke-width=\"0.101543234539032\" fill=\"#66cc99\" opacity=\"0.6\" /><circle cx=\"1.1841175556182861\" cy=\"53.4632568359375\" r=\"0.30462970361709596\" stroke=\"#555555\" stroke-width=\"0.101543234539032\" fill=\"#66cc99\" opacity=\"0.6\" /><circle cx=\"1.1745140552520752\" cy=\"53.520137786865234\" r=\"0.30462970361709596\" stroke=\"#555555\" stroke-width=\"0.101543234539032\" fill=\"#66cc99\" opacity=\"0.6\" /><circle cx=\"1.1648956537246704\" cy=\"53.5770149230957\" r=\"0.30462970361709596\" stroke=\"#555555\" stroke-width=\"0.101543234539032\" fill=\"#66cc99\" opacity=\"0.6\" /><circle cx=\"1.1552618741989136\" cy=\"53.63389587402344\" r=\"0.30462970361709596\" stroke=\"#555555\" stroke-width=\"0.101543234539032\" fill=\"#66cc99\" opacity=\"0.6\" /><circle cx=\"1.1456129550933838\" cy=\"53.690773010253906\" r=\"0.30462970361709596\" stroke=\"#555555\" stroke-width=\"0.101543234539032\" fill=\"#66cc99\" opacity=\"0.6\" /><circle cx=\"1.1359485387802124\" cy=\"53.747650146484375\" r=\"0.30462970361709596\" stroke=\"#555555\" stroke-width=\"0.101543234539032\" fill=\"#66cc99\" opacity=\"0.6\" /><circle cx=\"1.1262686252593994\" cy=\"53.80452346801758\" r=\"0.30462970361709596\" stroke=\"#555555\" stroke-width=\"0.101543234539032\" fill=\"#66cc99\" opacity=\"0.6\" /><circle cx=\"1.1165730953216553\" cy=\"53.86140060424805\" r=\"0.30462970361709596\" stroke=\"#555555\" stroke-width=\"0.101543234539032\" fill=\"#66cc99\" opacity=\"0.6\" /><circle cx=\"1.1068620681762695\" cy=\"53.91827392578125\" r=\"0.30462970361709596\" stroke=\"#555555\" stroke-width=\"0.101543234539032\" fill=\"#66cc99\" opacity=\"0.6\" /><circle cx=\"1.097135305404663\" cy=\"53.97514724731445\" r=\"0.30462970361709596\" stroke=\"#555555\" stroke-width=\"0.101543234539032\" fill=\"#66cc99\" opacity=\"0.6\" /><circle cx=\"1.087392807006836\" cy=\"54.032020568847656\" r=\"0.30462970361709596\" stroke=\"#555555\" stroke-width=\"0.101543234539032\" fill=\"#66cc99\" opacity=\"0.6\" /><circle cx=\"1.0776344537734985\" cy=\"54.088890075683594\" r=\"0.30462970361709596\" stroke=\"#555555\" stroke-width=\"0.101543234539032\" fill=\"#66cc99\" opacity=\"0.6\" /><circle cx=\"1.0678602457046509\" cy=\"54.1457633972168\" r=\"0.30462970361709596\" stroke=\"#555555\" stroke-width=\"0.101543234539032\" fill=\"#66cc99\" opacity=\"0.6\" /><circle cx=\"1.0580699443817139\" cy=\"54.202632904052734\" r=\"0.30462970361709596\" stroke=\"#555555\" stroke-width=\"0.101543234539032\" fill=\"#66cc99\" opacity=\"0.6\" /><circle cx=\"1.0482635498046875\" cy=\"54.25950241088867\" r=\"0.30462970361709596\" stroke=\"#555555\" stroke-width=\"0.101543234539032\" fill=\"#66cc99\" opacity=\"0.6\" /><circle cx=\"1.0384411811828613\" cy=\"54.316368103027344\" r=\"0.30462970361709596\" stroke=\"#555555\" stroke-width=\"0.101543234539032\" fill=\"#66cc99\" opacity=\"0.6\" /><circle cx=\"1.0286024808883667\" cy=\"54.37323760986328\" r=\"0.30462970361709596\" stroke=\"#555555\" stroke-width=\"0.101543234539032\" fill=\"#66cc99\" opacity=\"0.6\" /><circle cx=\"1.0187474489212036\" cy=\"54.43010330200195\" r=\"0.30462970361709596\" stroke=\"#555555\" stroke-width=\"0.101543234539032\" fill=\"#66cc99\" opacity=\"0.6\" /><circle cx=\"1.008876085281372\" cy=\"54.486968994140625\" r=\"0.30462970361709596\" stroke=\"#555555\" stroke-width=\"0.101543234539032\" fill=\"#66cc99\" opacity=\"0.6\" /><circle cx=\"0.9989882707595825\" cy=\"54.54383087158203\" r=\"0.30462970361709596\" stroke=\"#555555\" stroke-width=\"0.101543234539032\" fill=\"#66cc99\" opacity=\"0.6\" /><circle cx=\"0.9890838861465454\" cy=\"54.6006965637207\" r=\"0.30462970361709596\" stroke=\"#555555\" stroke-width=\"0.101543234539032\" fill=\"#66cc99\" opacity=\"0.6\" /><circle cx=\"0.979162871837616\" cy=\"54.65755844116211\" r=\"0.30462970361709596\" stroke=\"#555555\" stroke-width=\"0.101543234539032\" fill=\"#66cc99\" opacity=\"0.6\" /><circle cx=\"0.969225287437439\" cy=\"54.714420318603516\" r=\"0.30462970361709596\" stroke=\"#555555\" stroke-width=\"0.101543234539032\" fill=\"#66cc99\" opacity=\"0.6\" /><circle cx=\"0.9592707753181458\" cy=\"54.77128219604492\" r=\"0.30462970361709596\" stroke=\"#555555\" stroke-width=\"0.101543234539032\" fill=\"#66cc99\" opacity=\"0.6\" /><circle cx=\"0.9492995142936707\" cy=\"54.82814025878906\" r=\"0.30462970361709596\" stroke=\"#555555\" stroke-width=\"0.101543234539032\" fill=\"#66cc99\" opacity=\"0.6\" /><circle cx=\"0.9393112063407898\" cy=\"54.8849983215332\" r=\"0.30462970361709596\" stroke=\"#555555\" stroke-width=\"0.101543234539032\" fill=\"#66cc99\" opacity=\"0.6\" /><circle cx=\"0.9293057918548584\" cy=\"54.94186019897461\" r=\"0.30462970361709596\" stroke=\"#555555\" stroke-width=\"0.101543234539032\" fill=\"#66cc99\" opacity=\"0.6\" /><circle cx=\"0.919283390045166\" cy=\"54.998714447021484\" r=\"0.30462970361709596\" stroke=\"#555555\" stroke-width=\"0.101543234539032\" fill=\"#66cc99\" opacity=\"0.6\" /><circle cx=\"0.9092437028884888\" cy=\"55.055572509765625\" r=\"0.30462970361709596\" stroke=\"#555555\" stroke-width=\"0.101543234539032\" fill=\"#66cc99\" opacity=\"0.6\" /><circle cx=\"0.8991867899894714\" cy=\"55.1124267578125\" r=\"0.30462970361709596\" stroke=\"#555555\" stroke-width=\"0.101543234539032\" fill=\"#66cc99\" opacity=\"0.6\" /><circle cx=\"0.8891124725341797\" cy=\"55.169281005859375\" r=\"0.30462970361709596\" stroke=\"#555555\" stroke-width=\"0.101543234539032\" fill=\"#66cc99\" opacity=\"0.6\" /><circle cx=\"0.8790205717086792\" cy=\"55.22613525390625\" r=\"0.30462970361709596\" stroke=\"#555555\" stroke-width=\"0.101543234539032\" fill=\"#66cc99\" opacity=\"0.6\" /><circle cx=\"0.8689113259315491\" cy=\"55.282989501953125\" r=\"0.30462970361709596\" stroke=\"#555555\" stroke-width=\"0.101543234539032\" fill=\"#66cc99\" opacity=\"0.6\" /><circle cx=\"0.8587843775749207\" cy=\"55.339839935302734\" r=\"0.30462970361709596\" stroke=\"#555555\" stroke-width=\"0.101543234539032\" fill=\"#66cc99\" opacity=\"0.6\" /><circle cx=\"0.848639726638794\" cy=\"55.396690368652344\" r=\"0.30462970361709596\" stroke=\"#555555\" stroke-width=\"0.101543234539032\" fill=\"#66cc99\" opacity=\"0.6\" /><circle cx=\"0.8384771943092346\" cy=\"55.45354080200195\" r=\"0.30462970361709596\" stroke=\"#555555\" stroke-width=\"0.101543234539032\" fill=\"#66cc99\" opacity=\"0.6\" /><circle cx=\"0.8282967805862427\" cy=\"55.51039123535156\" r=\"0.30462970361709596\" stroke=\"#555555\" stroke-width=\"0.101543234539032\" fill=\"#66cc99\" opacity=\"0.6\" /><circle cx=\"0.8180984258651733\" cy=\"55.567237854003906\" r=\"0.30462970361709596\" stroke=\"#555555\" stroke-width=\"0.101543234539032\" fill=\"#66cc99\" opacity=\"0.6\" /><circle cx=\"0.8078818917274475\" cy=\"55.624088287353516\" r=\"0.30462970361709596\" stroke=\"#555555\" stroke-width=\"0.101543234539032\" fill=\"#66cc99\" opacity=\"0.6\" /><circle cx=\"0.7976472973823547\" cy=\"55.68093490600586\" r=\"0.30462970361709596\" stroke=\"#555555\" stroke-width=\"0.101543234539032\" fill=\"#66cc99\" opacity=\"0.6\" /><circle cx=\"0.7873944044113159\" cy=\"55.73777770996094\" r=\"0.30462970361709596\" stroke=\"#555555\" stroke-width=\"0.101543234539032\" fill=\"#66cc99\" opacity=\"0.6\" /><circle cx=\"0.777123212814331\" cy=\"55.79462432861328\" r=\"0.30462970361709596\" stroke=\"#555555\" stroke-width=\"0.101543234539032\" fill=\"#66cc99\" opacity=\"0.6\" /><circle cx=\"0.766833484172821\" cy=\"55.85146713256836\" r=\"0.30462970361709596\" stroke=\"#555555\" stroke-width=\"0.101543234539032\" fill=\"#66cc99\" opacity=\"0.6\" /><circle cx=\"0.7565252184867859\" cy=\"55.90830993652344\" r=\"0.30462970361709596\" stroke=\"#555555\" stroke-width=\"0.101543234539032\" fill=\"#66cc99\" opacity=\"0.6\" /><circle cx=\"0.7461984157562256\" cy=\"55.965152740478516\" r=\"0.30462970361709596\" stroke=\"#555555\" stroke-width=\"0.101543234539032\" fill=\"#66cc99\" opacity=\"0.6\" /><circle cx=\"0.7358527183532715\" cy=\"56.02199172973633\" r=\"0.30462970361709596\" stroke=\"#555555\" stroke-width=\"0.101543234539032\" fill=\"#66cc99\" opacity=\"0.6\" /><circle cx=\"0.7254883050918579\" cy=\"56.078834533691406\" r=\"0.30462970361709596\" stroke=\"#555555\" stroke-width=\"0.101543234539032\" fill=\"#66cc99\" opacity=\"0.6\" /><circle cx=\"0.7151049971580505\" cy=\"56.13567352294922\" r=\"0.30462970361709596\" stroke=\"#555555\" stroke-width=\"0.101543234539032\" fill=\"#66cc99\" opacity=\"0.6\" /><circle cx=\"0.704702615737915\" cy=\"56.19251251220703\" r=\"0.30462970361709596\" stroke=\"#555555\" stroke-width=\"0.101543234539032\" fill=\"#66cc99\" opacity=\"0.6\" /><circle cx=\"0.6942811012268066\" cy=\"56.24934768676758\" r=\"0.30462970361709596\" stroke=\"#555555\" stroke-width=\"0.101543234539032\" fill=\"#66cc99\" opacity=\"0.6\" /><circle cx=\"0.6838403940200806\" cy=\"56.306182861328125\" r=\"0.30462970361709596\" stroke=\"#555555\" stroke-width=\"0.101543234539032\" fill=\"#66cc99\" opacity=\"0.6\" /><circle cx=\"0.6733803749084473\" cy=\"56.36302185058594\" r=\"0.30462970361709596\" stroke=\"#555555\" stroke-width=\"0.101543234539032\" fill=\"#66cc99\" opacity=\"0.6\" /><circle cx=\"0.6629011034965515\" cy=\"56.41985321044922\" r=\"0.30462970361709596\" stroke=\"#555555\" stroke-width=\"0.101543234539032\" fill=\"#66cc99\" opacity=\"0.6\" /><circle cx=\"0.6524021029472351\" cy=\"56.476688385009766\" r=\"0.30462970361709596\" stroke=\"#555555\" stroke-width=\"0.101543234539032\" fill=\"#66cc99\" opacity=\"0.6\" /><circle cx=\"0.6418836116790771\" cy=\"56.53351974487305\" r=\"0.30462970361709596\" stroke=\"#555555\" stroke-width=\"0.101543234539032\" fill=\"#66cc99\" opacity=\"0.6\" /><circle cx=\"0.6313453912734985\" cy=\"56.59035110473633\" r=\"0.30462970361709596\" stroke=\"#555555\" stroke-width=\"0.101543234539032\" fill=\"#66cc99\" opacity=\"0.6\" /><circle cx=\"0.6207873821258545\" cy=\"56.64718246459961\" r=\"0.30462970361709596\" stroke=\"#555555\" stroke-width=\"0.101543234539032\" fill=\"#66cc99\" opacity=\"0.6\" /><circle cx=\"0.6102094054222107\" cy=\"56.70401382446289\" r=\"0.30462970361709596\" stroke=\"#555555\" stroke-width=\"0.101543234539032\" fill=\"#66cc99\" opacity=\"0.6\" /><circle cx=\"0.5996115207672119\" cy=\"56.760841369628906\" r=\"0.30462970361709596\" stroke=\"#555555\" stroke-width=\"0.101543234539032\" fill=\"#66cc99\" opacity=\"0.6\" /><circle cx=\"0.5889933705329895\" cy=\"56.81766891479492\" r=\"0.30462970361709596\" stroke=\"#555555\" stroke-width=\"0.101543234539032\" fill=\"#66cc99\" opacity=\"0.6\" /><circle cx=\"0.5783551931381226\" cy=\"56.87449645996094\" r=\"0.30462970361709596\" stroke=\"#555555\" stroke-width=\"0.101543234539032\" fill=\"#66cc99\" opacity=\"0.6\" /><circle cx=\"0.5676965117454529\" cy=\"56.93132400512695\" r=\"0.30462970361709596\" stroke=\"#555555\" stroke-width=\"0.101543234539032\" fill=\"#66cc99\" opacity=\"0.6\" /><circle cx=\"0.5570173859596252\" cy=\"56.9881477355957\" r=\"0.30462970361709596\" stroke=\"#555555\" stroke-width=\"0.101543234539032\" fill=\"#66cc99\" opacity=\"0.6\" /><circle cx=\"0.5463178157806396\" cy=\"57.04497146606445\" r=\"0.30462970361709596\" stroke=\"#555555\" stroke-width=\"0.101543234539032\" fill=\"#66cc99\" opacity=\"0.6\" /><circle cx=\"0.5355976223945618\" cy=\"57.1017951965332\" r=\"0.30462970361709596\" stroke=\"#555555\" stroke-width=\"0.101543234539032\" fill=\"#66cc99\" opacity=\"0.6\" /><circle cx=\"0.5248565077781677\" cy=\"57.15861892700195\" r=\"0.30462970361709596\" stroke=\"#555555\" stroke-width=\"0.101543234539032\" fill=\"#66cc99\" opacity=\"0.6\" /><circle cx=\"0.5140945911407471\" cy=\"57.2154426574707\" r=\"0.30462970361709596\" stroke=\"#555555\" stroke-width=\"0.101543234539032\" fill=\"#66cc99\" opacity=\"0.6\" /><circle cx=\"0.503311812877655\" cy=\"57.27226257324219\" r=\"0.30462970361709596\" stroke=\"#555555\" stroke-width=\"0.101543234539032\" fill=\"#66cc99\" opacity=\"0.6\" /><circle cx=\"0.4925079047679901\" cy=\"57.32908248901367\" r=\"0.30462970361709596\" stroke=\"#555555\" stroke-width=\"0.101543234539032\" fill=\"#66cc99\" opacity=\"0.6\" /><circle cx=\"0.481682687997818\" cy=\"57.38589859008789\" r=\"0.30462970361709596\" stroke=\"#555555\" stroke-width=\"0.101543234539032\" fill=\"#66cc99\" opacity=\"0.6\" /><circle cx=\"0.4708363115787506\" cy=\"57.442718505859375\" r=\"0.30462970361709596\" stroke=\"#555555\" stroke-width=\"0.101543234539032\" fill=\"#66cc99\" opacity=\"0.6\" /><circle cx=\"0.4599683880805969\" cy=\"57.499534606933594\" r=\"0.30462970361709596\" stroke=\"#555555\" stroke-width=\"0.101543234539032\" fill=\"#66cc99\" opacity=\"0.6\" /><circle cx=\"0.4381679892539978\" cy=\"57.613162994384766\" r=\"0.30462970361709596\" stroke=\"#555555\" stroke-width=\"0.101543234539032\" fill=\"#66cc99\" opacity=\"0.6\" /><circle cx=\"0.42723509669303894\" cy=\"57.669979095458984\" r=\"0.30462970361709596\" stroke=\"#555555\" stroke-width=\"0.101543234539032\" fill=\"#66cc99\" opacity=\"0.6\" /><circle cx=\"0.41628050804138184\" cy=\"57.72679138183594\" r=\"0.30462970361709596\" stroke=\"#555555\" stroke-width=\"0.101543234539032\" fill=\"#66cc99\" opacity=\"0.6\" /><circle cx=\"0.4053038954734802\" cy=\"57.78360366821289\" r=\"0.30462970361709596\" stroke=\"#555555\" stroke-width=\"0.101543234539032\" fill=\"#66cc99\" opacity=\"0.6\" /><circle cx=\"0.39430510997772217\" cy=\"57.840415954589844\" r=\"0.30462970361709596\" stroke=\"#555555\" stroke-width=\"0.101543234539032\" fill=\"#66cc99\" opacity=\"0.6\" /><circle cx=\"0.3832840025424957\" cy=\"57.89722442626953\" r=\"0.30462970361709596\" stroke=\"#555555\" stroke-width=\"0.101543234539032\" fill=\"#66cc99\" opacity=\"0.6\" /><circle cx=\"0.3722406029701233\" cy=\"57.95403289794922\" r=\"0.30462970361709596\" stroke=\"#555555\" stroke-width=\"0.101543234539032\" fill=\"#66cc99\" opacity=\"0.6\" /><circle cx=\"0.3611747920513153\" cy=\"58.010841369628906\" r=\"0.30462970361709596\" stroke=\"#555555\" stroke-width=\"0.101543234539032\" fill=\"#66cc99\" opacity=\"0.6\" /><circle cx=\"0.3500863015651703\" cy=\"58.067649841308594\" r=\"0.30462970361709596\" stroke=\"#555555\" stroke-width=\"0.101543234539032\" fill=\"#66cc99\" opacity=\"0.6\" /><circle cx=\"0.338975191116333\" cy=\"58.124454498291016\" r=\"0.30462970361709596\" stroke=\"#555555\" stroke-width=\"0.101543234539032\" fill=\"#66cc99\" opacity=\"0.6\" /><circle cx=\"0.327841192483902\" cy=\"58.18125915527344\" r=\"0.30462970361709596\" stroke=\"#555555\" stroke-width=\"0.101543234539032\" fill=\"#66cc99\" opacity=\"0.6\" /><circle cx=\"0.31668418645858765\" cy=\"58.23806381225586\" r=\"0.30462970361709596\" stroke=\"#555555\" stroke-width=\"0.101543234539032\" fill=\"#66cc99\" opacity=\"0.6\" /><circle cx=\"0.3055042028427124\" cy=\"58.29486846923828\" r=\"0.30462970361709596\" stroke=\"#555555\" stroke-width=\"0.101543234539032\" fill=\"#66cc99\" opacity=\"0.6\" /><circle cx=\"0.29430091381073\" cy=\"58.35166931152344\" r=\"0.30462970361709596\" stroke=\"#555555\" stroke-width=\"0.101543234539032\" fill=\"#66cc99\" opacity=\"0.6\" /><circle cx=\"0.283074289560318\" cy=\"58.408470153808594\" r=\"0.30462970361709596\" stroke=\"#555555\" stroke-width=\"0.101543234539032\" fill=\"#66cc99\" opacity=\"0.6\" /><circle cx=\"0.27182430028915405\" cy=\"58.46527099609375\" r=\"0.30462970361709596\" stroke=\"#555555\" stroke-width=\"0.101543234539032\" fill=\"#66cc99\" opacity=\"0.6\" /><circle cx=\"0.2605505883693695\" cy=\"58.522071838378906\" r=\"0.30462970361709596\" stroke=\"#555555\" stroke-width=\"0.101543234539032\" fill=\"#66cc99\" opacity=\"0.6\" /><circle cx=\"0.2492533028125763\" cy=\"58.5788688659668\" r=\"0.30462970361709596\" stroke=\"#555555\" stroke-width=\"0.101543234539032\" fill=\"#66cc99\" opacity=\"0.6\" /><circle cx=\"0.23793210089206696\" cy=\"58.63566589355469\" r=\"0.30462970361709596\" stroke=\"#555555\" stroke-width=\"0.101543234539032\" fill=\"#66cc99\" opacity=\"0.6\" /><circle cx=\"0.22658699750900269\" cy=\"58.69246292114258\" r=\"0.30462970361709596\" stroke=\"#555555\" stroke-width=\"0.101543234539032\" fill=\"#66cc99\" opacity=\"0.6\" /><circle cx=\"0.21521779894828796\" cy=\"58.74925994873047\" r=\"0.30462970361709596\" stroke=\"#555555\" stroke-width=\"0.101543234539032\" fill=\"#66cc99\" opacity=\"0.6\" /><circle cx=\"0.20382429659366608\" cy=\"58.806053161621094\" r=\"0.30462970361709596\" stroke=\"#555555\" stroke-width=\"0.101543234539032\" fill=\"#66cc99\" opacity=\"0.6\" /><circle cx=\"0.1924062967300415\" cy=\"58.86284637451172\" r=\"0.30462970361709596\" stroke=\"#555555\" stroke-width=\"0.101543234539032\" fill=\"#66cc99\" opacity=\"0.6\" /><circle cx=\"0.1809639036655426\" cy=\"58.919639587402344\" r=\"0.30462970361709596\" stroke=\"#555555\" stroke-width=\"0.101543234539032\" fill=\"#66cc99\" opacity=\"0.6\" /><circle cx=\"0.16949689388275146\" cy=\"58.9764289855957\" r=\"0.30462970361709596\" stroke=\"#555555\" stroke-width=\"0.101543234539032\" fill=\"#66cc99\" opacity=\"0.6\" /><circle cx=\"0.1580049991607666\" cy=\"59.03322219848633\" r=\"0.30462970361709596\" stroke=\"#555555\" stroke-width=\"0.101543234539032\" fill=\"#66cc99\" opacity=\"0.6\" /><circle cx=\"0.14648829400539398\" cy=\"59.09001159667969\" r=\"0.30462970361709596\" stroke=\"#555555\" stroke-width=\"0.101543234539032\" fill=\"#66cc99\" opacity=\"0.6\" /><circle cx=\"0.13494649529457092\" cy=\"59.14680099487305\" r=\"0.30462970361709596\" stroke=\"#555555\" stroke-width=\"0.101543234539032\" fill=\"#66cc99\" opacity=\"0.6\" /><circle cx=\"0.12337949872016907\" cy=\"59.20358657836914\" r=\"0.30462970361709596\" stroke=\"#555555\" stroke-width=\"0.101543234539032\" fill=\"#66cc99\" opacity=\"0.6\" /><circle cx=\"0.1117871031165123\" cy=\"59.260372161865234\" r=\"0.30462970361709596\" stroke=\"#555555\" stroke-width=\"0.101543234539032\" fill=\"#66cc99\" opacity=\"0.6\" /><circle cx=\"0.10016930103302002\" cy=\"59.31715774536133\" r=\"0.30462970361709596\" stroke=\"#555555\" stroke-width=\"0.101543234539032\" fill=\"#66cc99\" opacity=\"0.6\" /><circle cx=\"0.08852580189704895\" cy=\"59.37394332885742\" r=\"0.30462970361709596\" stroke=\"#555555\" stroke-width=\"0.101543234539032\" fill=\"#66cc99\" opacity=\"0.6\" /><circle cx=\"0.0768565982580185\" cy=\"59.430728912353516\" r=\"0.30462970361709596\" stroke=\"#555555\" stroke-width=\"0.101543234539032\" fill=\"#66cc99\" opacity=\"0.6\" /><circle cx=\"0.06516149640083313\" cy=\"59.487510681152344\" r=\"0.30462970361709596\" stroke=\"#555555\" stroke-width=\"0.101543234539032\" fill=\"#66cc99\" opacity=\"0.6\" /><circle cx=\"0.05344029888510704\" cy=\"59.54429244995117\" r=\"0.30462970361709596\" stroke=\"#555555\" stroke-width=\"0.101543234539032\" fill=\"#66cc99\" opacity=\"0.6\" /><circle cx=\"0.04169299826025963\" cy=\"59.601070404052734\" r=\"0.30462970361709596\" stroke=\"#555555\" stroke-width=\"0.101543234539032\" fill=\"#66cc99\" opacity=\"0.6\" /><circle cx=\"0.029919199645519257\" cy=\"59.65785217285156\" r=\"0.30462970361709596\" stroke=\"#555555\" stroke-width=\"0.101543234539032\" fill=\"#66cc99\" opacity=\"0.6\" /><circle cx=\"0.018119100481271744\" cy=\"59.714630126953125\" r=\"0.30462970361709596\" stroke=\"#555555\" stroke-width=\"0.101543234539032\" fill=\"#66cc99\" opacity=\"0.6\" /><circle cx=\"0.006292200181633234\" cy=\"59.77140808105469\" r=\"0.30462970361709596\" stroke=\"#555555\" stroke-width=\"0.101543234539032\" fill=\"#66cc99\" opacity=\"0.6\" /><circle cx=\"-0.005561499856412411\" cy=\"59.828182220458984\" r=\"0.30462970361709596\" stroke=\"#555555\" stroke-width=\"0.101543234539032\" fill=\"#66cc99\" opacity=\"0.6\" /><circle cx=\"-0.01744209975004196\" cy=\"59.88496017456055\" r=\"0.30462970361709596\" stroke=\"#555555\" stroke-width=\"0.101543234539032\" fill=\"#66cc99\" opacity=\"0.6\" /><circle cx=\"-0.02934980019927025\" cy=\"59.941734313964844\" r=\"0.30462970361709596\" stroke=\"#555555\" stroke-width=\"0.101543234539032\" fill=\"#66cc99\" opacity=\"0.6\" /><circle cx=\"-0.041284799575805664\" cy=\"59.998504638671875\" r=\"0.30462970361709596\" stroke=\"#555555\" stroke-width=\"0.101543234539032\" fill=\"#66cc99\" opacity=\"0.6\" /></g></g></svg>"
     },
     "metadata": {},
     "execution_count": 8
    }
   ],
   "source": [
    "o3.geometry"
   ]
  },
  {
   "cell_type": "code",
   "execution_count": 9,
   "metadata": {},
   "outputs": [
    {
     "output_type": "execute_result",
     "data": {
      "text/plain": [
       "{'HKNA': PointObservation: HKNA, x=4.242, y=52.6887,\n",
       " 'EPL': PointObservation: EPL, x=3.276, y=51.999,\n",
       " 'c2': TrackObservation: c2, n=298}"
      ]
     },
     "metadata": {},
     "execution_count": 9
    }
   ],
   "source": [
    "mr.add_observation(o1, item=0)\n",
    "mr.add_observation(o2, item=0)\n",
    "mr.add_observation(o3, item=0)\n",
    "mr.observations"
   ]
  },
  {
   "cell_type": "code",
   "execution_count": 10,
   "metadata": {},
   "outputs": [
    {
     "output_type": "display_data",
     "data": {
      "text/plain": "<Figure size 432x288 with 1 Axes>",
      "image/png": "[encoded data removed]"
     },
     "metadata": {
      "needs_background": "light"
     }
    }
   ],
   "source": [
    "mr.plot_observation_positions();"
   ]
  },
  {
   "cell_type": "code",
   "execution_count": 11,
   "metadata": {},
   "outputs": [],
   "source": [
    "cc = mr.extract()"
   ]
  },
  {
   "cell_type": "code",
   "execution_count": 12,
   "metadata": {},
   "outputs": [
    {
     "output_type": "execute_result",
     "data": {
      "text/plain": [
       "<ComparerCollection>\n",
       "PointComparer: HKNA\n",
       "PointComparer: EPL\n",
       "TrackComparer: c2"
      ]
     },
     "metadata": {},
     "execution_count": 12
    }
   ],
   "source": [
    "cc"
   ]
  },
  {
   "cell_type": "code",
   "execution_count": 13,
   "metadata": {},
   "outputs": [
    {
     "output_type": "execute_result",
     "data": {
      "text/plain": [
       "               n  bias  rmse  urmse   mae    cc    si    r2\n",
       "observation                                                \n",
       "HKNA         385 -0.20  0.35   0.29  0.25  0.97  0.09  0.99\n",
       "EPL           66 -0.08  0.22   0.20  0.18  0.97  0.07  0.99\n",
       "c2           113 -0.00  0.35   0.35  0.29  0.97  0.12  0.99"
      ],
      "text/html": "<div>\n<style scoped>\n    .dataframe tbody tr th:only-of-type {\n        vertical-align: middle;\n    }\n\n    .dataframe tbody tr th {\n        vertical-align: top;\n    }\n\n    .dataframe thead th {\n        text-align: right;\n    }\n</style>\n<table border=\"1\" class=\"dataframe\">\n  <thead>\n    <tr style=\"text-align: right;\">\n      <th></th>\n      <th>n</th>\n      <th>bias</th>\n      <th>rmse</th>\n      <th>urmse</th>\n      <th>mae</th>\n      <th>cc</th>\n      <th>si</th>\n      <th>r2</th>\n    </tr>\n    <tr>\n      <th>observation</th>\n      <th></th>\n      <th></th>\n      <th></th>\n      <th></th>\n      <th></th>\n      <th></th>\n      <th></th>\n      <th></th>\n    </tr>\n  </thead>\n  <tbody>\n    <tr>\n      <th>HKNA</th>\n      <td>385</td>\n      <td>-0.20</td>\n      <td>0.35</td>\n      <td>0.29</td>\n      <td>0.25</td>\n      <td>0.97</td>\n      <td>0.09</td>\n      <td>0.99</td>\n    </tr>\n    <tr>\n      <th>EPL</th>\n      <td>66</td>\n      <td>-0.08</td>\n      <td>0.22</td>\n      <td>0.20</td>\n      <td>0.18</td>\n      <td>0.97</td>\n      <td>0.07</td>\n      <td>0.99</td>\n    </tr>\n    <tr>\n      <th>c2</th>\n      <td>113</td>\n      <td>-0.00</td>\n      <td>0.35</td>\n      <td>0.35</td>\n      <td>0.29</td>\n      <td>0.97</td>\n      <td>0.12</td>\n      <td>0.99</td>\n    </tr>\n  </tbody>\n</table>\n</div>"
     },
     "metadata": {},
     "execution_count": 13
    }
   ],
   "source": [
    "cc.skill().round(2)"
   ]
  },
  {
   "cell_type": "code",
   "execution_count": 14,
   "metadata": {},
   "outputs": [
    {
     "output_type": "execute_result",
     "data": {
      "text/plain": [
       "               n  mean_absolute_error\n",
       "observation                          \n",
       "c2           113             0.294585"
      ],
      "text/html": "<div>\n<style scoped>\n    .dataframe tbody tr th:only-of-type {\n        vertical-align: middle;\n    }\n\n    .dataframe tbody tr th {\n        vertical-align: top;\n    }\n\n    .dataframe thead th {\n        text-align: right;\n    }\n</style>\n<table border=\"1\" class=\"dataframe\">\n  <thead>\n    <tr style=\"text-align: right;\">\n      <th></th>\n      <th>n</th>\n      <th>mean_absolute_error</th>\n    </tr>\n    <tr>\n      <th>observation</th>\n      <th></th>\n      <th></th>\n    </tr>\n  </thead>\n  <tbody>\n    <tr>\n      <th>c2</th>\n      <td>113</td>\n      <td>0.294585</td>\n    </tr>\n  </tbody>\n</table>\n</div>"
     },
     "metadata": {},
     "execution_count": 14
    }
   ],
   "source": [
    "cc[\"c2\"].skill(metrics=[mtr.mean_absolute_error])"
   ]
  },
  {
   "cell_type": "code",
   "execution_count": 15,
   "metadata": {},
   "outputs": [
    {
     "output_type": "display_data",
     "data": {
      "text/plain": "<Figure size 864x432 with 1 Axes>",
      "image/png": "[encoded data removed]"
     },
     "metadata": {
      "needs_background": "light"
     }
    }
   ],
   "source": [
    "cc[\"HKNA\"].plot_timeseries(figsize=(12,6));"
   ]
  },
  {
   "cell_type": "code",
   "execution_count": 16,
   "metadata": {},
   "outputs": [
    {
     "output_type": "display_data",
     "data": {
      "application/vnd.plotly.v1+json": {
       "config": {
        "plotlyServerURL": "https://plot.ly"
       },
       "data": [
        {
         "line": {
          "color": "#004165"
         },
         "name": "HKZN_local",
         "type": "scatter",
         "x": [
          "2017-10-27T00:00:00",
          "2017-10-27T03:00:00",
          "2017-10-27T06:00:00",
          "2017-10-27T09:00:00",
          "2017-10-27T12:00:00",
          "2017-10-27T15:00:00",
          "2017-10-27T18:00:00",
          "2017-10-27T21:00:00",
          "2017-10-28T00:00:00",
          "2017-10-28T03:00:00",
          "2017-10-28T06:00:00",
          "2017-10-28T09:00:00",
          "2017-10-28T12:00:00",
          "2017-10-28T15:00:00",
          "2017-10-28T18:00:00",
          "2017-10-28T21:00:00",
          "2017-10-29T00:00:00",
          "2017-10-29T03:00:00",
          "2017-10-29T06:00:00",
          "2017-10-29T09:00:00",
          "2017-10-29T12:00:00",
          "2017-10-29T15:00:00",
          "2017-10-29T18:00:00"
         ],
         "y": [
          1.5797287225723267,
          1.7945095300674438,
          1.9933656454086304,
          2.2484540939331055,
          2.1624858379364014,
          1.8930269479751587,
          1.8805941343307495,
          1.7819037437438965,
          1.819505214691162,
          2.1193060874938965,
          2.506195068359375,
          2.6303439140319824,
          2.7131879329681396,
          3.053407907485962,
          3.606905937194824,
          3.837244987487793,
          4.370694637298584,
          4.792234897613525,
          4.630319118499756,
          4.153286933898926,
          3.960529327392578,
          3.577984094619751,
          3.249600410461426
         ]
        },
        {
         "marker": {
          "color": "#d62728"
         },
         "mode": "markers",
         "name": "Observation",
         "type": "scatter",
         "x": [
          "2017-10-27T00:10:00",
          "2017-10-27T00:19:59.999994",
          "2017-10-27T00:29:59.999999",
          "2017-10-27T00:39:59.999993",
          "2017-10-27T00:49:59.999998",
          "2017-10-27T00:59:59.999992",
          "2017-10-27T01:09:59.999997",
          "2017-10-27T01:19:59.999991",
          "2017-10-27T01:29:59.999996",
          "2017-10-27T01:40:00",
          "2017-10-27T01:49:59.999994",
          "2017-10-27T01:59:59.999999",
          "2017-10-27T02:09:59.999993",
          "2017-10-27T02:19:59.999998",
          "2017-10-27T02:29:59.999992",
          "2017-10-27T02:39:59.999997",
          "2017-10-27T02:49:59.999991",
          "2017-10-27T02:59:59.999996",
          "2017-10-27T03:10:00",
          "2017-10-27T03:19:59.999994",
          "2017-10-27T03:29:59.999999",
          "2017-10-27T03:39:59.999993",
          "2017-10-27T03:49:59.999998",
          "2017-10-27T03:59:59.999992",
          "2017-10-27T04:09:59.999997",
          "2017-10-27T04:19:59.999991",
          "2017-10-27T04:29:59.999996",
          "2017-10-27T04:40:00",
          "2017-10-27T04:49:59.999994",
          "2017-10-27T04:59:59.999999",
          "2017-10-27T05:09:59.999993",
          "2017-10-27T05:19:59.999998",
          "2017-10-27T05:29:59.999992",
          "2017-10-27T05:39:59.999997",
          "2017-10-27T05:49:59.999991",
          "2017-10-27T05:59:59.999996",
          "2017-10-27T06:10:00",
          "2017-10-27T06:19:59.999994",
          "2017-10-27T06:29:59.999999",
          "2017-10-27T06:39:59.999993",
          "2017-10-27T06:49:59.999998",
          "2017-10-27T06:59:59.999992",
          "2017-10-27T07:09:59.999997",
          "2017-10-27T07:19:59.999991",
          "2017-10-27T07:29:59.999996",
          "2017-10-27T07:40:00",
          "2017-10-27T07:49:59.999994",
          "2017-10-27T07:59:59.999999",
          "2017-10-27T08:09:59.999993",
          "2017-10-27T08:19:59.999998",
          "2017-10-27T08:29:59.999992",
          "2017-10-27T08:39:59.999997",
          "2017-10-27T08:49:59.999991",
          "2017-10-27T08:59:59.999996",
          "2017-10-27T09:10:00",
          "2017-10-27T09:19:59.999994",
          "2017-10-27T09:29:59.999999",
          "2017-10-27T09:39:59.999993",
          "2017-10-27T09:49:59.999998",
          "2017-10-27T09:59:59.999992",
          "2017-10-27T10:09:59.999997",
          "2017-10-27T10:19:59.999991",
          "2017-10-27T10:29:59.999996",
          "2017-10-27T10:40:00",
          "2017-10-27T10:49:59.999994",
          "2017-10-27T10:59:59.999999",
          "2017-10-27T11:09:59.999993",
          "2017-10-27T11:19:59.999998",
          "2017-10-27T11:29:59.999992",
          "2017-10-27T11:39:59.999997",
          "2017-10-27T11:49:59.999991",
          "2017-10-27T11:59:59.999996",
          "2017-10-27T12:10:00",
          "2017-10-27T12:19:59.999994",
          "2017-10-27T12:29:59.999999",
          "2017-10-27T12:39:59.999993",
          "2017-10-27T12:49:59.999998",
          "2017-10-27T12:59:59.999992",
          "2017-10-27T13:09:59.999997",
          "2017-10-27T13:19:59.999991",
          "2017-10-27T13:29:59.999996",
          "2017-10-27T13:40:00",
          "2017-10-27T13:49:59.999994",
          "2017-10-27T13:59:59.999999",
          "2017-10-27T14:09:59.999993",
          "2017-10-27T14:19:59.999998",
          "2017-10-27T14:29:59.999992",
          "2017-10-27T14:39:59.999997",
          "2017-10-27T14:49:59.999991",
          "2017-10-27T14:59:59.999996",
          "2017-10-27T15:10:00",
          "2017-10-27T15:19:59.999994",
          "2017-10-27T15:29:59.999999",
          "2017-10-27T15:39:59.999993",
          "2017-10-27T15:49:59.999998",
          "2017-10-27T15:59:59.999992",
          "2017-10-27T16:09:59.999997",
          "2017-10-27T16:19:59.999991",
          "2017-10-27T16:29:59.999996",
          "2017-10-27T16:40:00",
          "2017-10-27T16:49:59.999994",
          "2017-10-27T16:59:59.999999",
          "2017-10-27T17:09:59.999993",
          "2017-10-27T17:19:59.999998",
          "2017-10-27T17:29:59.999992",
          "2017-10-27T17:39:59.999997",
          "2017-10-27T17:49:59.999991",
          "2017-10-27T17:59:59.999996",
          "2017-10-27T18:10:00",
          "2017-10-27T18:19:59.999994",
          "2017-10-27T18:29:59.999999",
          "2017-10-27T18:39:59.999993",
          "2017-10-27T18:49:59.999998",
          "2017-10-27T18:59:59.999992",
          "2017-10-27T19:09:59.999997",
          "2017-10-27T19:19:59.999991",
          "2017-10-27T19:29:59.999996",
          "2017-10-27T19:40:00",
          "2017-10-27T19:49:59.999994",
          "2017-10-27T19:59:59.999999",
          "2017-10-27T20:09:59.999993",
          "2017-10-27T20:19:59.999998",
          "2017-10-27T20:29:59.999992",
          "2017-10-27T20:39:59.999997",
          "2017-10-27T20:49:59.999991",
          "2017-10-27T20:59:59.999996",
          "2017-10-27T21:10:00",
          "2017-10-27T21:19:59.999994",
          "2017-10-27T21:29:59.999999",
          "2017-10-27T21:39:59.999993",
          "2017-10-27T21:49:59.999998",
          "2017-10-27T21:59:59.999992",
          "2017-10-27T22:09:59.999997",
          "2017-10-27T22:19:59.999991",
          "2017-10-27T22:29:59.999996",
          "2017-10-27T22:40:00",
          "2017-10-27T22:49:59.999994",
          "2017-10-27T22:59:59.999999",
          "2017-10-27T23:09:59.999993",
          "2017-10-27T23:19:59.999998",
          "2017-10-27T23:29:59.999992",
          "2017-10-27T23:39:59.999997",
          "2017-10-27T23:49:59.999991",
          "2017-10-28T01:09:59.999997",
          "2017-10-28T01:19:59.999991",
          "2017-10-28T01:29:59.999996",
          "2017-10-28T01:40:00",
          "2017-10-28T01:49:59.999994",
          "2017-10-28T01:59:59.999999",
          "2017-10-28T02:09:59.999993",
          "2017-10-28T02:19:59.999998",
          "2017-10-28T02:29:59.999992",
          "2017-10-28T02:39:59.999997",
          "2017-10-28T02:49:59.999991",
          "2017-10-28T02:59:59.999996",
          "2017-10-28T03:10:00",
          "2017-10-28T03:19:59.999994",
          "2017-10-28T03:29:59.999999",
          "2017-10-28T03:39:59.999993",
          "2017-10-28T03:49:59.999998",
          "2017-10-28T03:59:59.999992",
          "2017-10-28T04:09:59.999997",
          "2017-10-28T04:19:59.999991",
          "2017-10-28T04:29:59.999996",
          "2017-10-28T04:40:00",
          "2017-10-28T04:49:59.999994",
          "2017-10-28T04:59:59.999999",
          "2017-10-28T05:09:59.999993",
          "2017-10-28T05:19:59.999998",
          "2017-10-28T05:29:59.999992",
          "2017-10-28T05:39:59.999997",
          "2017-10-28T05:49:59.999991",
          "2017-10-28T05:59:59.999996",
          "2017-10-28T06:10:00",
          "2017-10-28T06:19:59.999994",
          "2017-10-28T06:29:59.999999",
          "2017-10-28T06:39:59.999993",
          "2017-10-28T06:49:59.999998",
          "2017-10-28T06:59:59.999992",
          "2017-10-28T07:09:59.999997",
          "2017-10-28T07:19:59.999991",
          "2017-10-28T07:29:59.999996",
          "2017-10-28T07:40:00",
          "2017-10-28T07:49:59.999994",
          "2017-10-28T07:59:59.999999",
          "2017-10-28T08:09:59.999993",
          "2017-10-28T08:19:59.999998",
          "2017-10-28T08:29:59.999992",
          "2017-10-28T08:39:59.999997",
          "2017-10-28T08:49:59.999991",
          "2017-10-28T08:59:59.999996",
          "2017-10-28T09:10:00",
          "2017-10-28T09:19:59.999994",
          "2017-10-28T09:29:59.999999",
          "2017-10-28T09:39:59.999993",
          "2017-10-28T09:49:59.999998",
          "2017-10-28T09:59:59.999992",
          "2017-10-28T10:09:59.999997",
          "2017-10-28T10:19:59.999991",
          "2017-10-28T10:29:59.999996",
          "2017-10-28T10:40:00",
          "2017-10-28T10:49:59.999994",
          "2017-10-28T10:59:59.999999",
          "2017-10-28T11:09:59.999993",
          "2017-10-28T11:19:59.999998",
          "2017-10-28T11:29:59.999992",
          "2017-10-28T11:39:59.999997",
          "2017-10-28T11:49:59.999991",
          "2017-10-28T11:59:59.999996",
          "2017-10-28T12:10:00",
          "2017-10-28T12:19:59.999994",
          "2017-10-28T12:29:59.999999",
          "2017-10-28T12:39:59.999993",
          "2017-10-28T12:49:59.999998",
          "2017-10-28T12:59:59.999992",
          "2017-10-28T13:09:59.999997",
          "2017-10-28T13:19:59.999991",
          "2017-10-28T13:29:59.999996",
          "2017-10-28T13:40:00",
          "2017-10-28T13:49:59.999994",
          "2017-10-28T13:59:59.999999",
          "2017-10-28T14:09:59.999993",
          "2017-10-28T14:19:59.999998",
          "2017-10-28T14:29:59.999992",
          "2017-10-28T14:39:59.999997",
          "2017-10-28T14:49:59.999991",
          "2017-10-28T14:59:59.999996",
          "2017-10-28T15:10:00",
          "2017-10-28T15:19:59.999994",
          "2017-10-28T15:29:59.999999",
          "2017-10-28T15:39:59.999993",
          "2017-10-28T15:49:59.999998",
          "2017-10-28T15:59:59.999992",
          "2017-10-28T16:09:59.999997",
          "2017-10-28T16:19:59.999991",
          "2017-10-28T16:29:59.999996",
          "2017-10-28T16:40:00",
          "2017-10-28T16:49:59.999994",
          "2017-10-28T16:59:59.999999",
          "2017-10-28T17:09:59.999993",
          "2017-10-28T17:19:59.999998",
          "2017-10-28T17:29:59.999992",
          "2017-10-28T17:39:59.999997",
          "2017-10-28T17:49:59.999991",
          "2017-10-28T17:59:59.999996",
          "2017-10-28T18:10:00",
          "2017-10-28T18:19:59.999994",
          "2017-10-28T18:29:59.999999",
          "2017-10-28T18:39:59.999993",
          "2017-10-28T18:49:59.999998",
          "2017-10-28T18:59:59.999992",
          "2017-10-28T19:09:59.999997",
          "2017-10-28T19:19:59.999991",
          "2017-10-28T19:29:59.999996",
          "2017-10-28T19:40:00",
          "2017-10-28T19:49:59.999994",
          "2017-10-28T19:59:59.999999",
          "2017-10-28T20:09:59.999993",
          "2017-10-28T20:19:59.999998",
          "2017-10-28T20:29:59.999992",
          "2017-10-28T20:39:59.999997",
          "2017-10-28T20:49:59.999991",
          "2017-10-28T20:59:59.999996",
          "2017-10-28T21:10:00",
          "2017-10-28T21:19:59.999994",
          "2017-10-28T21:29:59.999999",
          "2017-10-28T21:39:59.999993",
          "2017-10-28T21:49:59.999998",
          "2017-10-28T21:59:59.999992",
          "2017-10-28T22:09:59.999997",
          "2017-10-28T22:19:59.999991",
          "2017-10-28T22:29:59.999996",
          "2017-10-28T22:40:00",
          "2017-10-28T22:49:59.999994",
          "2017-10-28T22:59:59.999999",
          "2017-10-28T23:09:59.999993",
          "2017-10-28T23:19:59.999998",
          "2017-10-28T23:29:59.999992",
          "2017-10-28T23:39:59.999997",
          "2017-10-28T23:49:59.999991",
          "2017-10-28T23:59:59.999996",
          "2017-10-29T00:10:00",
          "2017-10-29T00:19:59.999994",
          "2017-10-29T00:29:59.999999",
          "2017-10-29T00:39:59.999993",
          "2017-10-29T00:49:59.999998",
          "2017-10-29T00:59:59.999992",
          "2017-10-29T01:09:59.999997",
          "2017-10-29T01:19:59.999991",
          "2017-10-29T01:49:59.999994",
          "2017-10-29T01:59:59.999999",
          "2017-10-29T02:09:59.999993",
          "2017-10-29T02:19:59.999998",
          "2017-10-29T02:29:59.999992",
          "2017-10-29T02:39:59.999997",
          "2017-10-29T02:49:59.999991",
          "2017-10-29T02:59:59.999996",
          "2017-10-29T03:10:00",
          "2017-10-29T03:19:59.999994",
          "2017-10-29T03:29:59.999999",
          "2017-10-29T03:39:59.999993",
          "2017-10-29T03:49:59.999998",
          "2017-10-29T03:59:59.999992",
          "2017-10-29T04:09:59.999997",
          "2017-10-29T04:19:59.999991",
          "2017-10-29T04:29:59.999996",
          "2017-10-29T04:40:00",
          "2017-10-29T04:49:59.999994",
          "2017-10-29T04:59:59.999999",
          "2017-10-29T05:09:59.999993",
          "2017-10-29T05:19:59.999998",
          "2017-10-29T05:29:59.999992",
          "2017-10-29T05:39:59.999997",
          "2017-10-29T05:49:59.999991",
          "2017-10-29T05:59:59.999996",
          "2017-10-29T06:10:00",
          "2017-10-29T06:19:59.999994",
          "2017-10-29T06:29:59.999999",
          "2017-10-29T06:39:59.999993",
          "2017-10-29T06:49:59.999998",
          "2017-10-29T06:59:59.999992",
          "2017-10-29T07:09:59.999997",
          "2017-10-29T07:19:59.999991",
          "2017-10-29T07:29:59.999996",
          "2017-10-29T07:40:00",
          "2017-10-29T07:49:59.999994",
          "2017-10-29T07:59:59.999999",
          "2017-10-29T08:09:59.999993",
          "2017-10-29T08:19:59.999998",
          "2017-10-29T08:29:59.999992",
          "2017-10-29T08:39:59.999997",
          "2017-10-29T08:49:59.999991",
          "2017-10-29T08:59:59.999996",
          "2017-10-29T09:10:00",
          "2017-10-29T09:19:59.999994",
          "2017-10-29T09:29:59.999999",
          "2017-10-29T09:39:59.999993",
          "2017-10-29T09:49:59.999998",
          "2017-10-29T09:59:59.999992",
          "2017-10-29T10:09:59.999997",
          "2017-10-29T10:19:59.999991",
          "2017-10-29T10:29:59.999996",
          "2017-10-29T10:40:00",
          "2017-10-29T10:49:59.999994",
          "2017-10-29T10:59:59.999999",
          "2017-10-29T11:09:59.999993",
          "2017-10-29T11:19:59.999998",
          "2017-10-29T11:29:59.999992",
          "2017-10-29T11:39:59.999997",
          "2017-10-29T11:49:59.999991",
          "2017-10-29T11:59:59.999996",
          "2017-10-29T12:10:00",
          "2017-10-29T12:19:59.999994",
          "2017-10-29T12:29:59.999999",
          "2017-10-29T12:39:59.999993",
          "2017-10-29T12:49:59.999998",
          "2017-10-29T12:59:59.999992",
          "2017-10-29T13:09:59.999997",
          "2017-10-29T13:19:59.999991",
          "2017-10-29T13:29:59.999996",
          "2017-10-29T13:40:00",
          "2017-10-29T13:49:59.999994",
          "2017-10-29T13:59:59.999999",
          "2017-10-29T14:09:59.999993",
          "2017-10-29T14:19:59.999998",
          "2017-10-29T14:29:59.999992",
          "2017-10-29T14:39:59.999997",
          "2017-10-29T14:49:59.999991",
          "2017-10-29T15:10:00",
          "2017-10-29T15:19:59.999994",
          "2017-10-29T15:29:59.999999",
          "2017-10-29T15:39:59.999993",
          "2017-10-29T15:59:59.999992",
          "2017-10-29T16:09:59.999997",
          "2017-10-29T16:19:59.999991",
          "2017-10-29T16:29:59.999996",
          "2017-10-29T16:40:00",
          "2017-10-29T16:49:59.999994",
          "2017-10-29T16:59:59.999999",
          "2017-10-29T17:09:59.999993",
          "2017-10-29T17:19:59.999998",
          "2017-10-29T17:29:59.999992",
          "2017-10-29T17:39:59.999997",
          "2017-10-29T17:49:59.999991",
          "2017-10-29T17:59:59.999996"
         ],
         "y": [
          1.464840054512024,
          1.503909945487976,
          1.4453099966049194,
          1.4453099966049194,
          1.5234400033950806,
          1.5429699420928955,
          1.503909945487976,
          1.464840054512024,
          1.5234400033950806,
          1.5625,
          1.5820300579071045,
          1.660159945487976,
          1.660159945487976,
          1.621090054512024,
          1.5625,
          1.7382800579071045,
          1.777340054512024,
          1.816409945487976,
          1.7382800579071045,
          1.71875,
          1.7578099966049194,
          1.71875,
          1.816409945487976,
          1.933590054512024,
          1.9531199932098389,
          1.8554699420928955,
          1.816409945487976,
          1.933590054512024,
          1.972659945487976,
          2.0507800579071045,
          1.875,
          1.9921900033950806,
          2.0898399353027344,
          2.265619993209839,
          2.2851600646972656,
          2.109380006790161,
          2.148439884185791,
          2.382810115814209,
          2.4023399353027344,
          2.34375,
          2.4804699420928955,
          2.6367199420928955,
          2.5585899353027344,
          2.5585899353027344,
          2.5195300579071045,
          2.578119993209839,
          2.4023399353027344,
          2.5585899353027344,
          2.578119993209839,
          2.34375,
          2.4414100646972656,
          2.5195300579071045,
          2.6757800579071045,
          2.9101600646972656,
          2.6367199420928955,
          2.4414100646972656,
          2.382810115814209,
          2.34375,
          2.5585899353027344,
          2.5195300579071045,
          2.4023399353027344,
          2.5195300579071045,
          2.421880006790161,
          2.539060115814209,
          2.5,
          2.460939884185791,
          2.460939884185791,
          2.3632800579071045,
          2.382810115814209,
          2.3242199420928955,
          2.226560115814209,
          2.070310115814209,
          2.2460899353027344,
          2.4804699420928955,
          2.460939884185791,
          2.2851600646972656,
          2.0507800579071045,
          2.304689884185791,
          2.265619993209839,
          2.304689884185791,
          2.382810115814209,
          2.382810115814209,
          2.1875,
          2.2070300579071045,
          2.2460899353027344,
          2.1679699420928955,
          2.148439884185791,
          2.070310115814209,
          2.109380006790161,
          2.265619993209839,
          2.109380006790161,
          2.0898399353027344,
          2.070310115814209,
          2.109380006790161,
          2.2070300579071045,
          1.9921900033950806,
          1.9921900033950806,
          2.0507800579071045,
          2.03125,
          2.070310115814209,
          2.2070300579071045,
          2.109380006790161,
          2.0117199420928955,
          2.1289100646972656,
          2.070310115814209,
          2.03125,
          1.875,
          1.8359400033950806,
          2.0117199420928955,
          2.0117199420928955,
          1.9531199932098389,
          1.8945300579071045,
          1.9921900033950806,
          2.0117199420928955,
          2.0507800579071045,
          2.03125,
          2.0898399353027344,
          2.070310115814209,
          2.0117199420928955,
          1.875,
          1.8359400033950806,
          1.875,
          1.9531199932098389,
          2.0507800579071045,
          1.933590054512024,
          1.875,
          1.875,
          1.875,
          1.7968800067901611,
          1.7382800579071045,
          1.816409945487976,
          1.875,
          1.875,
          1.875,
          1.8554699420928955,
          1.816409945487976,
          1.8359400033950806,
          1.7578099966049194,
          1.816409945487976,
          1.8359400033950806,
          1.7968800067901611,
          1.816409945487976,
          1.816409945487976,
          2.03125,
          2.0898399353027344,
          2.0898399353027344,
          2.0117199420928955,
          2.0117199420928955,
          2.0117199420928955,
          2.109380006790161,
          2.1679699420928955,
          2.148439884185791,
          2.2070300579071045,
          2.226560115814209,
          2.1875,
          2.1289100646972656,
          2.1679699420928955,
          2.265619993209839,
          2.148439884185791,
          2.1289100646972656,
          2.1289100646972656,
          2.2460899353027344,
          2.34375,
          2.5,
          2.539060115814209,
          2.3632800579071045,
          2.4023399353027344,
          2.578119993209839,
          2.460939884185791,
          2.4023399353027344,
          2.3632800579071045,
          2.3632800579071045,
          2.148439884185791,
          2.34375,
          2.4414100646972656,
          2.6757800579071045,
          2.734380006790161,
          2.5585899353027344,
          2.5,
          2.4804699420928955,
          2.7148399353027344,
          2.734380006790161,
          2.617189884185791,
          2.695310115814209,
          2.8125,
          2.773439884185791,
          2.695310115814209,
          2.7539100646972656,
          2.7148399353027344,
          2.734380006790161,
          2.617189884185791,
          2.8320300579071045,
          2.8125,
          2.578119993209839,
          2.7929699420928955,
          2.890619993209839,
          3.2226600646972656,
          3.085939884185791,
          2.8710899353027344,
          2.929689884185791,
          2.890619993209839,
          2.929689884185791,
          2.8125,
          2.9101600646972656,
          2.96875,
          2.9492199420928955,
          2.890619993209839,
          2.9492199420928955,
          3.125,
          2.8320300579071045,
          3.0273399353027344,
          3.0273399353027344,
          2.9492199420928955,
          2.8125,
          2.851560115814209,
          2.890619993209839,
          3.125,
          3.085939884185791,
          3.0664100646972656,
          3.242189884185791,
          3.203119993209839,
          3.007810115814209,
          3.125,
          3.4179699420928955,
          3.0273399353027344,
          3.164060115814209,
          3.164060115814209,
          3.046880006790161,
          3.1445300579071045,
          3.1445300579071045,
          3.320310115814209,
          3.242189884185791,
          3.3007800579071045,
          3.359380006790161,
          3.1835899353027344,
          3.007810115814209,
          3.085939884185791,
          3.164060115814209,
          3.2617199420928955,
          3.203119993209839,
          3.242189884185791,
          3.671880006790161,
          3.5742199420928955,
          3.3789100646972656,
          3.203119993209839,
          3.3007800579071045,
          3.710939884185791,
          3.7695300579071045,
          3.7695300579071045,
          3.476560115814209,
          3.4179699420928955,
          3.671880006790161,
          3.6523399353027344,
          3.4375,
          3.4960899353027344,
          3.945310115814209,
          3.632810115814209,
          3.828119993209839,
          4.160160064697266,
          4.160160064697266,
          3.9648399353027344,
          3.7695300579071045,
          3.945310115814209,
          3.984380006790161,
          4.023439884185791,
          3.9648399353027344,
          4.023439884185791,
          4.023439884185791,
          3.9648399353027344,
          3.7304699420928955,
          3.8085899353027344,
          3.8867199420928955,
          4.511720180511475,
          4.277339935302734,
          3.945310115814209,
          4.179689884185791,
          4.238279819488525,
          4.375,
          4.589839935302734,
          4.453120231628418,
          4.472660064697266,
          4.375,
          4.433589935302734,
          4.511720180511475,
          4.433589935302734,
          4.042970180511475,
          4.394529819488525,
          4.589839935302734,
          4.707029819488525,
          4.6875,
          4.765620231628418,
          4.433589935302734,
          4.277339935302734,
          4.492189884185791,
          4.6875,
          4.765620231628418,
          4.726560115814209,
          5.136720180511475,
          5.253910064697266,
          5.234379768371582,
          5.664060115814209,
          5.507810115814209,
          5.351560115814209,
          5.15625,
          5.273439884185791,
          5.800779819488525,
          5.546879768371582,
          5.722660064697266,
          5.253910064697266,
          5.644529819488525,
          5.742189884185791,
          5.996089935302734,
          5.917970180511475,
          5.390620231628418,
          4.960939884185791,
          4.84375,
          4.609379768371582,
          4.882810115814209,
          5.117189884185791,
          5.371089935302734,
          4.902339935302734,
          5.136720180511475,
          5.078120231628418,
          4.921879768371582,
          5.429689884185791,
          5.507810115814209,
          5.039060115814209,
          4.84375,
          4.355470180511475,
          4.492189884185791,
          4.726560115814209,
          4.941410064697266,
          5.195310115814209,
          5.117189884185791,
          5.019529819488525,
          5.15625,
          4.882810115814209,
          4.84375,
          4.921879768371582,
          4.882810115814209,
          4.511720180511475,
          4.589839935302734,
          4.804689884185791,
          4.453120231628418,
          4.238279819488525,
          4.21875,
          4.492189884185791,
          4.667970180511475,
          4.589839935302734,
          4.355470180511475,
          4.316410064697266,
          4.121089935302734,
          4.238279819488525,
          4.53125,
          4.804689884185791,
          4.453120231628418,
          4.609379768371582,
          4.316410064697266,
          4.414060115814209,
          4.394529819488525,
          4.101560115814209,
          4.042970180511475,
          4.335939884185791,
          4.6875,
          4.472660064697266,
          4.140620231628418,
          4.140620231628418,
          3.6523399353027344,
          4.101560115814209,
          4.023439884185791,
          3.632810115814209,
          3.7304699420928955,
          3.5742199420928955,
          3.75,
          3.789060115814209,
          3.632810115814209,
          3.4179699420928955,
          3.6132800579071045,
          3.5742199420928955,
          3.4960899353027344,
          3.515619993209839,
          3.476560115814209,
          3.4570300579071045,
          3.5351600646972656,
          3.320310115814209
         ]
        }
       ],
       "layout": {
        "template": {
         "data": {
          "bar": [
           {
            "error_x": {
             "color": "#2a3f5f"
            },
            "error_y": {
             "color": "#2a3f5f"
            },
            "marker": {
             "line": {
              "color": "#E5ECF6",
              "width": 0.5
             }
            },
            "type": "bar"
           }
          ],
          "barpolar": [
           {
            "marker": {
             "line": {
              "color": "#E5ECF6",
              "width": 0.5
             }
            },
            "type": "barpolar"
           }
          ],
          "carpet": [
           {
            "aaxis": {
             "endlinecolor": "#2a3f5f",
             "gridcolor": "white",
             "linecolor": "white",
             "minorgridcolor": "white",
             "startlinecolor": "#2a3f5f"
            },
            "baxis": {
             "endlinecolor": "#2a3f5f",
             "gridcolor": "white",
             "linecolor": "white",
             "minorgridcolor": "white",
             "startlinecolor": "#2a3f5f"
            },
            "type": "carpet"
           }
          ],
          "choropleth": [
           {
            "colorbar": {
             "outlinewidth": 0,
             "ticks": ""
            },
            "type": "choropleth"
           }
          ],
          "contour": [
           {
            "colorbar": {
             "outlinewidth": 0,
             "ticks": ""
            },
            "colorscale": [
             [
              0,
              "#0d0887"
             ],
             [
              0.1111111111111111,
              "#46039f"
             ],
             [
              0.2222222222222222,
              "#7201a8"
             ],
             [
              0.3333333333333333,
              "#9c179e"
             ],
             [
              0.4444444444444444,
              "#bd3786"
             ],
             [
              0.5555555555555556,
              "#d8576b"
             ],
             [
              0.6666666666666666,
              "#ed7953"
             ],
             [
              0.7777777777777778,
              "#fb9f3a"
             ],
             [
              0.8888888888888888,
              "#fdca26"
             ],
             [
              1,
              "#f0f921"
             ]
            ],
            "type": "contour"
           }
          ],
          "contourcarpet": [
           {
            "colorbar": {
             "outlinewidth": 0,
             "ticks": ""
            },
            "type": "contourcarpet"
           }
          ],
          "heatmap": [
           {
            "colorbar": {
             "outlinewidth": 0,
             "ticks": ""
            },
            "colorscale": [
             [
              0,
              "#0d0887"
             ],
             [
              0.1111111111111111,
              "#46039f"
             ],
             [
              0.2222222222222222,
              "#7201a8"
             ],
             [
              0.3333333333333333,
              "#9c179e"
             ],
             [
              0.4444444444444444,
              "#bd3786"
             ],
             [
              0.5555555555555556,
              "#d8576b"
             ],
             [
              0.6666666666666666,
              "#ed7953"
             ],
             [
              0.7777777777777778,
              "#fb9f3a"
             ],
             [
              0.8888888888888888,
              "#fdca26"
             ],
             [
              1,
              "#f0f921"
             ]
            ],
            "type": "heatmap"
           }
          ],
          "heatmapgl": [
           {
            "colorbar": {
             "outlinewidth": 0,
             "ticks": ""
            },
            "colorscale": [
             [
              0,
              "#0d0887"
             ],
             [
              0.1111111111111111,
              "#46039f"
             ],
             [
              0.2222222222222222,
              "#7201a8"
             ],
             [
              0.3333333333333333,
              "#9c179e"
             ],
             [
              0.4444444444444444,
              "#bd3786"
             ],
             [
              0.5555555555555556,
              "#d8576b"
             ],
             [
              0.6666666666666666,
              "#ed7953"
             ],
             [
              0.7777777777777778,
              "#fb9f3a"
             ],
             [
              0.8888888888888888,
              "#fdca26"
             ],
             [
              1,
              "#f0f921"
             ]
            ],
            "type": "heatmapgl"
           }
          ],
          "histogram": [
           {
            "marker": {
             "colorbar": {
              "outlinewidth": 0,
              "ticks": ""
             }
            },
            "type": "histogram"
           }
          ],
          "histogram2d": [
           {
            "colorbar": {
             "outlinewidth": 0,
             "ticks": ""
            },
            "colorscale": [
             [
              0,
              "#0d0887"
             ],
             [
              0.1111111111111111,
              "#46039f"
             ],
             [
              0.2222222222222222,
              "#7201a8"
             ],
             [
              0.3333333333333333,
              "#9c179e"
             ],
             [
              0.4444444444444444,
              "#bd3786"
             ],
             [
              0.5555555555555556,
              "#d8576b"
             ],
             [
              0.6666666666666666,
              "#ed7953"
             ],
             [
              0.7777777777777778,
              "#fb9f3a"
             ],
             [
              0.8888888888888888,
              "#fdca26"
             ],
             [
              1,
              "#f0f921"
             ]
            ],
            "type": "histogram2d"
           }
          ],
          "histogram2dcontour": [
           {
            "colorbar": {
             "outlinewidth": 0,
             "ticks": ""
            },
            "colorscale": [
             [
              0,
              "#0d0887"
             ],
             [
              0.1111111111111111,
              "#46039f"
             ],
             [
              0.2222222222222222,
              "#7201a8"
             ],
             [
              0.3333333333333333,
              "#9c179e"
             ],
             [
              0.4444444444444444,
              "#bd3786"
             ],
             [
              0.5555555555555556,
              "#d8576b"
             ],
             [
              0.6666666666666666,
              "#ed7953"
             ],
             [
              0.7777777777777778,
              "#fb9f3a"
             ],
             [
              0.8888888888888888,
              "#fdca26"
             ],
             [
              1,
              "#f0f921"
             ]
            ],
            "type": "histogram2dcontour"
           }
          ],
          "mesh3d": [
           {
            "colorbar": {
             "outlinewidth": 0,
             "ticks": ""
            },
            "type": "mesh3d"
           }
          ],
          "parcoords": [
           {
            "line": {
             "colorbar": {
              "outlinewidth": 0,
              "ticks": ""
             }
            },
            "type": "parcoords"
           }
          ],
          "pie": [
           {
            "automargin": true,
            "type": "pie"
           }
          ],
          "scatter": [
           {
            "marker": {
             "colorbar": {
              "outlinewidth": 0,
              "ticks": ""
             }
            },
            "type": "scatter"
           }
          ],
          "scatter3d": [
           {
            "line": {
             "colorbar": {
              "outlinewidth": 0,
              "ticks": ""
             }
            },
            "marker": {
             "colorbar": {
              "outlinewidth": 0,
              "ticks": ""
             }
            },
            "type": "scatter3d"
           }
          ],
          "scattercarpet": [
           {
            "marker": {
             "colorbar": {
              "outlinewidth": 0,
              "ticks": ""
             }
            },
            "type": "scattercarpet"
           }
          ],
          "scattergeo": [
           {
            "marker": {
             "colorbar": {
              "outlinewidth": 0,
              "ticks": ""
             }
            },
            "type": "scattergeo"
           }
          ],
          "scattergl": [
           {
            "marker": {
             "colorbar": {
              "outlinewidth": 0,
              "ticks": ""
             }
            },
            "type": "scattergl"
           }
          ],
          "scattermapbox": [
           {
            "marker": {
             "colorbar": {
              "outlinewidth": 0,
              "ticks": ""
             }
            },
            "type": "scattermapbox"
           }
          ],
          "scatterpolar": [
           {
            "marker": {
             "colorbar": {
              "outlinewidth": 0,
              "ticks": ""
             }
            },
            "type": "scatterpolar"
           }
          ],
          "scatterpolargl": [
           {
            "marker": {
             "colorbar": {
              "outlinewidth": 0,
              "ticks": ""
             }
            },
            "type": "scatterpolargl"
           }
          ],
          "scatterternary": [
           {
            "marker": {
             "colorbar": {
              "outlinewidth": 0,
              "ticks": ""
             }
            },
            "type": "scatterternary"
           }
          ],
          "surface": [
           {
            "colorbar": {
             "outlinewidth": 0,
             "ticks": ""
            },
            "colorscale": [
             [
              0,
              "#0d0887"
             ],
             [
              0.1111111111111111,
              "#46039f"
             ],
             [
              0.2222222222222222,
              "#7201a8"
             ],
             [
              0.3333333333333333,
              "#9c179e"
             ],
             [
              0.4444444444444444,
              "#bd3786"
             ],
             [
              0.5555555555555556,
              "#d8576b"
             ],
             [
              0.6666666666666666,
              "#ed7953"
             ],
             [
              0.7777777777777778,
              "#fb9f3a"
             ],
             [
              0.8888888888888888,
              "#fdca26"
             ],
             [
              1,
              "#f0f921"
             ]
            ],
            "type": "surface"
           }
          ],
          "table": [
           {
            "cells": {
             "fill": {
              "color": "#EBF0F8"
             },
             "line": {
              "color": "white"
             }
            },
            "header": {
             "fill": {
              "color": "#C8D4E3"
             },
             "line": {
              "color": "white"
             }
            },
            "type": "table"
           }
          ]
         },
         "layout": {
          "annotationdefaults": {
           "arrowcolor": "#2a3f5f",
           "arrowhead": 0,
           "arrowwidth": 1
          },
          "autotypenumbers": "strict",
          "coloraxis": {
           "colorbar": {
            "outlinewidth": 0,
            "ticks": ""
           }
          },
          "colorscale": {
           "diverging": [
            [
             0,
             "#8e0152"
            ],
            [
             0.1,
             "#c51b7d"
            ],
            [
             0.2,
             "#de77ae"
            ],
            [
             0.3,
             "#f1b6da"
            ],
            [
             0.4,
             "#fde0ef"
            ],
            [
             0.5,
             "#f7f7f7"
            ],
            [
             0.6,
             "#e6f5d0"
            ],
            [
             0.7,
             "#b8e186"
            ],
            [
             0.8,
             "#7fbc41"
            ],
            [
             0.9,
             "#4d9221"
            ],
            [
             1,
             "#276419"
            ]
           ],
           "sequential": [
            [
             0,
             "#0d0887"
            ],
            [
             0.1111111111111111,
             "#46039f"
            ],
            [
             0.2222222222222222,
             "#7201a8"
            ],
            [
             0.3333333333333333,
             "#9c179e"
            ],
            [
             0.4444444444444444,
             "#bd3786"
            ],
            [
             0.5555555555555556,
             "#d8576b"
            ],
            [
             0.6666666666666666,
             "#ed7953"
            ],
            [
             0.7777777777777778,
             "#fb9f3a"
            ],
            [
             0.8888888888888888,
             "#fdca26"
            ],
            [
             1,
             "#f0f921"
            ]
           ],
           "sequentialminus": [
            [
             0,
             "#0d0887"
            ],
            [
             0.1111111111111111,
             "#46039f"
            ],
            [
             0.2222222222222222,
             "#7201a8"
            ],
            [
             0.3333333333333333,
             "#9c179e"
            ],
            [
             0.4444444444444444,
             "#bd3786"
            ],
            [
             0.5555555555555556,
             "#d8576b"
            ],
            [
             0.6666666666666666,
             "#ed7953"
            ],
            [
             0.7777777777777778,
             "#fb9f3a"
            ],
            [
             0.8888888888888888,
             "#fdca26"
            ],
            [
             1,
             "#f0f921"
            ]
           ]
          },
          "colorway": [
           "#636efa",
           "#EF553B",
           "#00cc96",
           "#ab63fa",
           "#FFA15A",
           "#19d3f3",
           "#FF6692",
           "#B6E880",
           "#FF97FF",
           "#FECB52"
          ],
          "font": {
           "color": "#2a3f5f"
          },
          "geo": {
           "bgcolor": "white",
           "lakecolor": "white",
           "landcolor": "#E5ECF6",
           "showlakes": true,
           "showland": true,
           "subunitcolor": "white"
          },
          "hoverlabel": {
           "align": "left"
          },
          "hovermode": "closest",
          "mapbox": {
           "style": "light"
          },
          "paper_bgcolor": "white",
          "plot_bgcolor": "#E5ECF6",
          "polar": {
           "angularaxis": {
            "gridcolor": "white",
            "linecolor": "white",
            "ticks": ""
           },
           "bgcolor": "#E5ECF6",
           "radialaxis": {
            "gridcolor": "white",
            "linecolor": "white",
            "ticks": ""
           }
          },
          "scene": {
           "xaxis": {
            "backgroundcolor": "#E5ECF6",
            "gridcolor": "white",
            "gridwidth": 2,
            "linecolor": "white",
            "showbackground": true,
            "ticks": "",
            "zerolinecolor": "white"
           },
           "yaxis": {
            "backgroundcolor": "#E5ECF6",
            "gridcolor": "white",
            "gridwidth": 2,
            "linecolor": "white",
            "showbackground": true,
            "ticks": "",
            "zerolinecolor": "white"
           },
           "zaxis": {
            "backgroundcolor": "#E5ECF6",
            "gridcolor": "white",
            "gridwidth": 2,
            "linecolor": "white",
            "showbackground": true,
            "ticks": "",
            "zerolinecolor": "white"
           }
          },
          "shapedefaults": {
           "line": {
            "color": "#2a3f5f"
           }
          },
          "ternary": {
           "aaxis": {
            "gridcolor": "white",
            "linecolor": "white",
            "ticks": ""
           },
           "baxis": {
            "gridcolor": "white",
            "linecolor": "white",
            "ticks": ""
           },
           "bgcolor": "#E5ECF6",
           "caxis": {
            "gridcolor": "white",
            "linecolor": "white",
            "ticks": ""
           }
          },
          "title": {
           "x": 0.05
          },
          "xaxis": {
           "automargin": true,
           "gridcolor": "white",
           "linecolor": "white",
           "ticks": "",
           "title": {
            "standoff": 15
           },
           "zerolinecolor": "white",
           "zerolinewidth": 2
          },
          "yaxis": {
           "automargin": true,
           "gridcolor": "white",
           "linecolor": "white",
           "ticks": "",
           "title": {
            "standoff": 15
           },
           "zerolinecolor": "white",
           "zerolinewidth": 2
          }
         }
        },
        "title": {
         "text": "HKNA"
        },
        "width": 1000,
        "yaxis": {
         "title": {
          "text": "Significant wave height [m]"
         }
        }
       }
      }
     },
     "metadata": {}
    }
   ],
   "source": [
    "cc[\"HKNA\"].plot_timeseries(width=1000,backend=\"plotly\")"
   ]
  },
  {
   "cell_type": "code",
   "execution_count": 17,
   "metadata": {},
   "outputs": [
    {
     "output_type": "display_data",
     "data": {
      "text/plain": "<Figure size 864x864 with 2 Axes>",
      "image/png": "[encoded data removed]"
     },
     "metadata": {
      "needs_background": "light"
     }
    }
   ],
   "source": [
    "cc[\"EPL\"].scatter(figsize=(12,12), show_hist=True) #, ylim=[2,8], xlim=[1,10])"
   ]
  },
  {
   "cell_type": "code",
   "execution_count": 18,
   "metadata": {},
   "outputs": [
    {
     "output_type": "display_data",
     "data": {
      "application/vnd.plotly.v1+json": {
       "config": {
        "plotlyServerURL": "https://plot.ly"
       },
       "data": [
        {
         "line": {
          "color": "red"
         },
         "mode": "lines",
         "name": "Fit: y=1.00x-0.09",
         "type": "scatter",
         "x": [
          1.0299999713897705,
          1.2400000095367432,
          1.340000033378601,
          1.5499999523162842,
          1.659999966621399,
          1.7999999523162842,
          2.0199999809265137,
          2.0799999237060547,
          2.0799999237060547,
          2.1500000953674316,
          2.200000047683716,
          2.1500000953674316,
          2.1500000953674316,
          2.0899999141693115,
          2.0199999809265137,
          2.0299999713897705,
          1.8899999856948853,
          1.75,
          1.690000057220459,
          1.7699999809265137,
          1.4800000190734863,
          1.5,
          1.5800000429153442,
          1.690000057220459,
          1.8200000524520874,
          1.8600000143051147,
          2.109999895095825,
          2.2799999713897705,
          2.319999933242798,
          2.3299999237060547,
          2.2899999618530273,
          2.430000066757202,
          2.440000057220459,
          2.4200000762939453,
          2.4800000190734863,
          2.4600000381469727,
          2.7799999713897705,
          2.7200000286102295,
          2.740000009536743,
          2.619999885559082,
          2.799999952316284,
          2.990000009536743,
          2.9100000858306885,
          2.9600000381469727,
          3.319999933242798,
          2.869999885559082,
          3.2699999809265137,
          3.390000104904175,
          3.359999895095825,
          4.130000114440918,
          4.070000171661377,
          4.010000228881836,
          4.269999980926514,
          3.9700000286102295,
          4.159999847412109,
          3.890000104904175,
          4.179999828338623,
          3.630000114440918,
          3.799999952316284,
          3.4700000286102295,
          3.4600000381469727,
          3.369999885559082,
          3.240000009536743,
          3.2300000190734863,
          3.359999895095825,
          3.2300000190734863
         ],
         "y": [
          0.9481511422169109,
          1.1590159030501495,
          1.259427699623128,
          1.470292340756206,
          1.5807453050164664,
          1.7213217723385719,
          1.9422277008590925,
          2.002474706982783,
          2.002474706982783,
          2.072763120194077,
          2.122968958630486,
          2.072763120194077,
          2.072763120194077,
          2.012515874670065,
          1.9422277008590925,
          1.952268868546374,
          1.8116924012242686,
          1.671115933902163,
          1.6108689277784725,
          1.6911982692767265,
          1.4000041669452337,
          1.4200865023197973,
          1.5004159635182122,
          1.6108689277784725,
          1.7414042274132961,
          1.7815688981624234,
          2.0325982100446285,
          2.20329830012874,
          2.243462970877867,
          2.253504138565149,
          2.213339467816022,
          2.353916054838288,
          2.36395722252557,
          2.3438748871510064,
          2.404121893274697,
          2.3840395579001337,
          2.705357163293472,
          2.645110157169781,
          2.6651924925443446,
          2.5446982408966417,
          2.7254394986680355,
          2.9162219241267104,
          2.8358925826284564,
          2.8860984210648652,
          3.2475806972073307,
          2.7957276724790074,
          3.1973748587709214,
          3.3178691104186244,
          3.2877453679564574,
          4.06091623747844,
          4.00066923135475,
          3.9404222252310586,
          4.201492585100385,
          3.9002573150816104,
          4.091039501139964,
          3.819927973583356,
          4.111121836514528,
          3.5588573743137086,
          3.7295572249974986,
          3.3981984519168784,
          3.388157284229597,
          3.2977865356437395,
          3.1672513557090762,
          3.1572101880217947,
          3.2877453679564574,
          3.1572101880217947
         ]
        },
        {
         "line": {
          "color": "blue"
         },
         "mode": "lines",
         "name": "1:1",
         "type": "scatter",
         "x": [
          1.0299999713897705,
          4.269999980926514
         ],
         "y": [
          1.0299999713897705,
          4.269999980926514
         ]
        },
        {
         "line": {
          "color": "gray"
         },
         "mode": "lines",
         "name": "Q-Q",
         "type": "scatter",
         "x": [
          1.0299999713897705,
          1.4884210636741235,
          1.647368399720443,
          1.7552631528753984,
          1.8473684474041587,
          2.0210526115015934,
          2.085263076581453,
          2.1500000953674316,
          2.2836841784025492,
          2.401052675749126,
          2.4642105604472913,
          2.7326315955111857,
          2.8721051592575875,
          3.1036842245804617,
          3.2668420892012744,
          3.363157786821064,
          3.46736845217253,
          3.90263167180513,
          4.1047369806390055,
          4.269999980926514
         ],
         "y": [
          1.4408187867754945,
          1.52173258132892,
          1.6126464709237767,
          1.702466059114532,
          1.7371378949543983,
          1.7897057240048602,
          1.8590054134444605,
          1.9239307621203061,
          1.993014038556523,
          2.18898078012716,
          2.2236559390886126,
          2.468543014876558,
          2.9005217758946005,
          3.122601923200893,
          3.2880054983422484,
          3.44503440372623,
          3.714539293717423,
          3.835585887003579,
          3.997908483509223,
          4.183969974354789
         ]
        },
        {
         "colorscale": [
          [
           0,
           "rgba(0,0,0,0)"
          ],
          [
           0.1,
           "purple"
          ],
          [
           0.5,
           "green"
          ],
          [
           1,
           "yellow"
          ]
         ],
         "type": "histogram2d",
         "x": [
          1.0299999713897705,
          1.2400000095367432,
          1.340000033378601,
          1.5499999523162842,
          1.659999966621399,
          1.7999999523162842,
          2.0199999809265137,
          2.0799999237060547,
          2.0799999237060547,
          2.1500000953674316,
          2.200000047683716,
          2.1500000953674316,
          2.1500000953674316,
          2.0899999141693115,
          2.0199999809265137,
          2.0299999713897705,
          1.8899999856948853,
          1.75,
          1.690000057220459,
          1.7699999809265137,
          1.4800000190734863,
          1.5,
          1.5800000429153442,
          1.690000057220459,
          1.8200000524520874,
          1.8600000143051147,
          2.109999895095825,
          2.2799999713897705,
          2.319999933242798,
          2.3299999237060547,
          2.2899999618530273,
          2.430000066757202,
          2.440000057220459,
          2.4200000762939453,
          2.4800000190734863,
          2.4600000381469727,
          2.7799999713897705,
          2.7200000286102295,
          2.740000009536743,
          2.619999885559082,
          2.799999952316284,
          2.990000009536743,
          2.9100000858306885,
          2.9600000381469727,
          3.319999933242798,
          2.869999885559082,
          3.2699999809265137,
          3.390000104904175,
          3.359999895095825,
          4.130000114440918,
          4.070000171661377,
          4.010000228881836,
          4.269999980926514,
          3.9700000286102295,
          4.159999847412109,
          3.890000104904175,
          4.179999828338623,
          3.630000114440918,
          3.799999952316284,
          3.4700000286102295,
          3.4600000381469727,
          3.369999885559082,
          3.240000009536743,
          3.2300000190734863,
          3.359999895095825,
          3.2300000190734863
         ],
         "xbins": {
          "size": 0.16200000047683716
         },
         "y": [
          1.5224156777064006,
          1.6147077877528684,
          1.7069998977796472,
          1.7344013055165608,
          1.761802713052891,
          1.7892041205833755,
          1.8476531902949016,
          1.90610225990394,
          1.9645513295005097,
          1.9447362820307414,
          1.9249212344656597,
          1.9051061869048052,
          1.84953776995341,
          1.7939693530874778,
          1.7384009362334003,
          1.7196238835652669,
          1.700846831019848,
          1.6820697784784349,
          1.6016527811686199,
          1.5212357839634794,
          1.4408187867754945,
          1.4713373978932698,
          1.5018560091394033,
          1.5323746203790263,
          1.6440918445587158,
          1.7558090685844776,
          1.8675262925864062,
          1.9546667734781902,
          2.041807254081117,
          2.128947734665454,
          2.1624956130981445,
          2.196043491334898,
          2.229591369564494,
          2.2220731576283774,
          2.214554945634264,
          2.2070367336417545,
          2.3064091205596924,
          2.4057815074072675,
          2.5051538942336435,
          2.6358975569407144,
          2.7666412193454226,
          2.897384881722239,
          2.956985870997111,
          3.016586859970096,
          3.076187848930366,
          3.184170961380005,
          3.2921540736230646,
          3.4001371858430876,
          3.5765018463134766,
          3.7528665064260402,
          3.9292311665009794,
          4.014144102732341,
          4.099057038552623,
          4.183969974354789,
          4.079777240753174,
          3.9755845070774365,
          3.871391773423927,
          3.828872283299764,
          3.7863527934119343,
          3.7438333035331754,
          3.632516066233317,
          3.521198829110087,
          3.409881592010604,
          3.33131210009257,
          3.252742608455311,
          3.1741731168348135
         ],
         "ybins": {
          "size": 0.16200000047683716
         }
        },
        {
         "marker": {
          "color": "black"
         },
         "mode": "markers",
         "name": "Data",
         "type": "scatter",
         "x": [
          1.0299999713897705,
          1.2400000095367432,
          1.340000033378601,
          1.5499999523162842,
          1.659999966621399,
          1.7999999523162842,
          2.0199999809265137,
          2.0799999237060547,
          2.0799999237060547,
          2.1500000953674316,
          2.200000047683716,
          2.1500000953674316,
          2.1500000953674316,
          2.0899999141693115,
          2.0199999809265137,
          2.0299999713897705,
          1.8899999856948853,
          1.75,
          1.690000057220459,
          1.7699999809265137,
          1.4800000190734863,
          1.5,
          1.5800000429153442,
          1.690000057220459,
          1.8200000524520874,
          1.8600000143051147,
          2.109999895095825,
          2.2799999713897705,
          2.319999933242798,
          2.3299999237060547,
          2.2899999618530273,
          2.430000066757202,
          2.440000057220459,
          2.4200000762939453,
          2.4800000190734863,
          2.4600000381469727,
          2.7799999713897705,
          2.7200000286102295,
          2.740000009536743,
          2.619999885559082,
          2.799999952316284,
          2.990000009536743,
          2.9100000858306885,
          2.9600000381469727,
          3.319999933242798,
          2.869999885559082,
          3.2699999809265137,
          3.390000104904175,
          3.359999895095825,
          4.130000114440918,
          4.070000171661377,
          4.010000228881836,
          4.269999980926514,
          3.9700000286102295,
          4.159999847412109,
          3.890000104904175,
          4.179999828338623,
          3.630000114440918,
          3.799999952316284,
          3.4700000286102295,
          3.4600000381469727,
          3.369999885559082,
          3.240000009536743,
          3.2300000190734863,
          3.359999895095825,
          3.2300000190734863
         ],
         "y": [
          1.5224156777064006,
          1.6147077877528684,
          1.7069998977796472,
          1.7344013055165608,
          1.761802713052891,
          1.7892041205833755,
          1.8476531902949016,
          1.90610225990394,
          1.9645513295005097,
          1.9447362820307414,
          1.9249212344656597,
          1.9051061869048052,
          1.84953776995341,
          1.7939693530874778,
          1.7384009362334003,
          1.7196238835652669,
          1.700846831019848,
          1.6820697784784349,
          1.6016527811686199,
          1.5212357839634794,
          1.4408187867754945,
          1.4713373978932698,
          1.5018560091394033,
          1.5323746203790263,
          1.6440918445587158,
          1.7558090685844776,
          1.8675262925864062,
          1.9546667734781902,
          2.041807254081117,
          2.128947734665454,
          2.1624956130981445,
          2.196043491334898,
          2.229591369564494,
          2.2220731576283774,
          2.214554945634264,
          2.2070367336417545,
          2.3064091205596924,
          2.4057815074072675,
          2.5051538942336435,
          2.6358975569407144,
          2.7666412193454226,
          2.897384881722239,
          2.956985870997111,
          3.016586859970096,
          3.076187848930366,
          3.184170961380005,
          3.2921540736230646,
          3.4001371858430876,
          3.5765018463134766,
          3.7528665064260402,
          3.9292311665009794,
          4.014144102732341,
          4.099057038552623,
          4.183969974354789,
          4.079777240753174,
          3.9755845070774365,
          3.871391773423927,
          3.828872283299764,
          3.7863527934119343,
          3.7438333035331754,
          3.632516066233317,
          3.521198829110087,
          3.409881592010604,
          3.33131210009257,
          3.252742608455311,
          3.1741731168348135
         ]
        }
       ],
       "layout": {
        "height": 700,
        "legend": {
         "x": 0.01,
         "y": 0.99
        },
        "template": {
         "data": {
          "bar": [
           {
            "error_x": {
             "color": "#2a3f5f"
            },
            "error_y": {
             "color": "#2a3f5f"
            },
            "marker": {
             "line": {
              "color": "#E5ECF6",
              "width": 0.5
             }
            },
            "type": "bar"
           }
          ],
          "barpolar": [
           {
            "marker": {
             "line": {
              "color": "#E5ECF6",
              "width": 0.5
             }
            },
            "type": "barpolar"
           }
          ],
          "carpet": [
           {
            "aaxis": {
             "endlinecolor": "#2a3f5f",
             "gridcolor": "white",
             "linecolor": "white",
             "minorgridcolor": "white",
             "startlinecolor": "#2a3f5f"
            },
            "baxis": {
             "endlinecolor": "#2a3f5f",
             "gridcolor": "white",
             "linecolor": "white",
             "minorgridcolor": "white",
             "startlinecolor": "#2a3f5f"
            },
            "type": "carpet"
           }
          ],
          "choropleth": [
           {
            "colorbar": {
             "outlinewidth": 0,
             "ticks": ""
            },
            "type": "choropleth"
           }
          ],
          "contour": [
           {
            "colorbar": {
             "outlinewidth": 0,
             "ticks": ""
            },
            "colorscale": [
             [
              0,
              "#0d0887"
             ],
             [
              0.1111111111111111,
              "#46039f"
             ],
             [
              0.2222222222222222,
              "#7201a8"
             ],
             [
              0.3333333333333333,
              "#9c179e"
             ],
             [
              0.4444444444444444,
              "#bd3786"
             ],
             [
              0.5555555555555556,
              "#d8576b"
             ],
             [
              0.6666666666666666,
              "#ed7953"
             ],
             [
              0.7777777777777778,
              "#fb9f3a"
             ],
             [
              0.8888888888888888,
              "#fdca26"
             ],
             [
              1,
              "#f0f921"
             ]
            ],
            "type": "contour"
           }
          ],
          "contourcarpet": [
           {
            "colorbar": {
             "outlinewidth": 0,
             "ticks": ""
            },
            "type": "contourcarpet"
           }
          ],
          "heatmap": [
           {
            "colorbar": {
             "outlinewidth": 0,
             "ticks": ""
            },
            "colorscale": [
             [
              0,
              "#0d0887"
             ],
             [
              0.1111111111111111,
              "#46039f"
             ],
             [
              0.2222222222222222,
              "#7201a8"
             ],
             [
              0.3333333333333333,
              "#9c179e"
             ],
             [
              0.4444444444444444,
              "#bd3786"
             ],
             [
              0.5555555555555556,
              "#d8576b"
             ],
             [
              0.6666666666666666,
              "#ed7953"
             ],
             [
              0.7777777777777778,
              "#fb9f3a"
             ],
             [
              0.8888888888888888,
              "#fdca26"
             ],
             [
              1,
              "#f0f921"
             ]
            ],
            "type": "heatmap"
           }
          ],
          "heatmapgl": [
           {
            "colorbar": {
             "outlinewidth": 0,
             "ticks": ""
            },
            "colorscale": [
             [
              0,
              "#0d0887"
             ],
             [
              0.1111111111111111,
              "#46039f"
             ],
             [
              0.2222222222222222,
              "#7201a8"
             ],
             [
              0.3333333333333333,
              "#9c179e"
             ],
             [
              0.4444444444444444,
              "#bd3786"
             ],
             [
              0.5555555555555556,
              "#d8576b"
             ],
             [
              0.6666666666666666,
              "#ed7953"
             ],
             [
              0.7777777777777778,
              "#fb9f3a"
             ],
             [
              0.8888888888888888,
              "#fdca26"
             ],
             [
              1,
              "#f0f921"
             ]
            ],
            "type": "heatmapgl"
           }
          ],
          "histogram": [
           {
            "marker": {
             "colorbar": {
              "outlinewidth": 0,
              "ticks": ""
             }
            },
            "type": "histogram"
           }
          ],
          "histogram2d": [
           {
            "colorbar": {
             "outlinewidth": 0,
             "ticks": ""
            },
            "colorscale": [
             [
              0,
              "#0d0887"
             ],
             [
              0.1111111111111111,
              "#46039f"
             ],
             [
              0.2222222222222222,
              "#7201a8"
             ],
             [
              0.3333333333333333,
              "#9c179e"
             ],
             [
              0.4444444444444444,
              "#bd3786"
             ],
             [
              0.5555555555555556,
              "#d8576b"
             ],
             [
              0.6666666666666666,
              "#ed7953"
             ],
             [
              0.7777777777777778,
              "#fb9f3a"
             ],
             [
              0.8888888888888888,
              "#fdca26"
             ],
             [
              1,
              "#f0f921"
             ]
            ],
            "type": "histogram2d"
           }
          ],
          "histogram2dcontour": [
           {
            "colorbar": {
             "outlinewidth": 0,
             "ticks": ""
            },
            "colorscale": [
             [
              0,
              "#0d0887"
             ],
             [
              0.1111111111111111,
              "#46039f"
             ],
             [
              0.2222222222222222,
              "#7201a8"
             ],
             [
              0.3333333333333333,
              "#9c179e"
             ],
             [
              0.4444444444444444,
              "#bd3786"
             ],
             [
              0.5555555555555556,
              "#d8576b"
             ],
             [
              0.6666666666666666,
              "#ed7953"
             ],
             [
              0.7777777777777778,
              "#fb9f3a"
             ],
             [
              0.8888888888888888,
              "#fdca26"
             ],
             [
              1,
              "#f0f921"
             ]
            ],
            "type": "histogram2dcontour"
           }
          ],
          "mesh3d": [
           {
            "colorbar": {
             "outlinewidth": 0,
             "ticks": ""
            },
            "type": "mesh3d"
           }
          ],
          "parcoords": [
           {
            "line": {
             "colorbar": {
              "outlinewidth": 0,
              "ticks": ""
             }
            },
            "type": "parcoords"
           }
          ],
          "pie": [
           {
            "automargin": true,
            "type": "pie"
           }
          ],
          "scatter": [
           {
            "marker": {
             "colorbar": {
              "outlinewidth": 0,
              "ticks": ""
             }
            },
            "type": "scatter"
           }
          ],
          "scatter3d": [
           {
            "line": {
             "colorbar": {
              "outlinewidth": 0,
              "ticks": ""
             }
            },
            "marker": {
             "colorbar": {
              "outlinewidth": 0,
              "ticks": ""
             }
            },
            "type": "scatter3d"
           }
          ],
          "scattercarpet": [
           {
            "marker": {
             "colorbar": {
              "outlinewidth": 0,
              "ticks": ""
             }
            },
            "type": "scattercarpet"
           }
          ],
          "scattergeo": [
           {
            "marker": {
             "colorbar": {
              "outlinewidth": 0,
              "ticks": ""
             }
            },
            "type": "scattergeo"
           }
          ],
          "scattergl": [
           {
            "marker": {
             "colorbar": {
              "outlinewidth": 0,
              "ticks": ""
             }
            },
            "type": "scattergl"
           }
          ],
          "scattermapbox": [
           {
            "marker": {
             "colorbar": {
              "outlinewidth": 0,
              "ticks": ""
             }
            },
            "type": "scattermapbox"
           }
          ],
          "scatterpolar": [
           {
            "marker": {
             "colorbar": {
              "outlinewidth": 0,
              "ticks": ""
             }
            },
            "type": "scatterpolar"
           }
          ],
          "scatterpolargl": [
           {
            "marker": {
             "colorbar": {
              "outlinewidth": 0,
              "ticks": ""
             }
            },
            "type": "scatterpolargl"
           }
          ],
          "scatterternary": [
           {
            "marker": {
             "colorbar": {
              "outlinewidth": 0,
              "ticks": ""
             }
            },
            "type": "scatterternary"
           }
          ],
          "surface": [
           {
            "colorbar": {
             "outlinewidth": 0,
             "ticks": ""
            },
            "colorscale": [
             [
              0,
              "#0d0887"
             ],
             [
              0.1111111111111111,
              "#46039f"
             ],
             [
              0.2222222222222222,
              "#7201a8"
             ],
             [
              0.3333333333333333,
              "#9c179e"
             ],
             [
              0.4444444444444444,
              "#bd3786"
             ],
             [
              0.5555555555555556,
              "#d8576b"
             ],
             [
              0.6666666666666666,
              "#ed7953"
             ],
             [
              0.7777777777777778,
              "#fb9f3a"
             ],
             [
              0.8888888888888888,
              "#fdca26"
             ],
             [
              1,
              "#f0f921"
             ]
            ],
            "type": "surface"
           }
          ],
          "table": [
           {
            "cells": {
             "fill": {
              "color": "#EBF0F8"
             },
             "line": {
              "color": "white"
             }
            },
            "header": {
             "fill": {
              "color": "#C8D4E3"
             },
             "line": {
              "color": "white"
             }
            },
            "type": "table"
           }
          ]
         },
         "layout": {
          "annotationdefaults": {
           "arrowcolor": "#2a3f5f",
           "arrowhead": 0,
           "arrowwidth": 1
          },
          "autotypenumbers": "strict",
          "coloraxis": {
           "colorbar": {
            "outlinewidth": 0,
            "ticks": ""
           }
          },
          "colorscale": {
           "diverging": [
            [
             0,
             "#8e0152"
            ],
            [
             0.1,
             "#c51b7d"
            ],
            [
             0.2,
             "#de77ae"
            ],
            [
             0.3,
             "#f1b6da"
            ],
            [
             0.4,
             "#fde0ef"
            ],
            [
             0.5,
             "#f7f7f7"
            ],
            [
             0.6,
             "#e6f5d0"
            ],
            [
             0.7,
             "#b8e186"
            ],
            [
             0.8,
             "#7fbc41"
            ],
            [
             0.9,
             "#4d9221"
            ],
            [
             1,
             "#276419"
            ]
           ],
           "sequential": [
            [
             0,
             "#0d0887"
            ],
            [
             0.1111111111111111,
             "#46039f"
            ],
            [
             0.2222222222222222,
             "#7201a8"
            ],
            [
             0.3333333333333333,
             "#9c179e"
            ],
            [
             0.4444444444444444,
             "#bd3786"
            ],
            [
             0.5555555555555556,
             "#d8576b"
            ],
            [
             0.6666666666666666,
             "#ed7953"
            ],
            [
             0.7777777777777778,
             "#fb9f3a"
            ],
            [
             0.8888888888888888,
             "#fdca26"
            ],
            [
             1,
             "#f0f921"
            ]
           ],
           "sequentialminus": [
            [
             0,
             "#0d0887"
            ],
            [
             0.1111111111111111,
             "#46039f"
            ],
            [
             0.2222222222222222,
             "#7201a8"
            ],
            [
             0.3333333333333333,
             "#9c179e"
            ],
            [
             0.4444444444444444,
             "#bd3786"
            ],
            [
             0.5555555555555556,
             "#d8576b"
            ],
            [
             0.6666666666666666,
             "#ed7953"
            ],
            [
             0.7777777777777778,
             "#fb9f3a"
            ],
            [
             0.8888888888888888,
             "#fdca26"
            ],
            [
             1,
             "#f0f921"
            ]
           ]
          },
          "colorway": [
           "#636efa",
           "#EF553B",
           "#00cc96",
           "#ab63fa",
           "#FFA15A",
           "#19d3f3",
           "#FF6692",
           "#B6E880",
           "#FF97FF",
           "#FECB52"
          ],
          "font": {
           "color": "#2a3f5f"
          },
          "geo": {
           "bgcolor": "white",
           "lakecolor": "white",
           "landcolor": "#E5ECF6",
           "showlakes": true,
           "showland": true,
           "subunitcolor": "white"
          },
          "hoverlabel": {
           "align": "left"
          },
          "hovermode": "closest",
          "mapbox": {
           "style": "light"
          },
          "paper_bgcolor": "white",
          "plot_bgcolor": "#E5ECF6",
          "polar": {
           "angularaxis": {
            "gridcolor": "white",
            "linecolor": "white",
            "ticks": ""
           },
           "bgcolor": "#E5ECF6",
           "radialaxis": {
            "gridcolor": "white",
            "linecolor": "white",
            "ticks": ""
           }
          },
          "scene": {
           "xaxis": {
            "backgroundcolor": "#E5ECF6",
            "gridcolor": "white",
            "gridwidth": 2,
            "linecolor": "white",
            "showbackground": true,
            "ticks": "",
            "zerolinecolor": "white"
           },
           "yaxis": {
            "backgroundcolor": "#E5ECF6",
            "gridcolor": "white",
            "gridwidth": 2,
            "linecolor": "white",
            "showbackground": true,
            "ticks": "",
            "zerolinecolor": "white"
           },
           "zaxis": {
            "backgroundcolor": "#E5ECF6",
            "gridcolor": "white",
            "gridwidth": 2,
            "linecolor": "white",
            "showbackground": true,
            "ticks": "",
            "zerolinecolor": "white"
           }
          },
          "shapedefaults": {
           "line": {
            "color": "#2a3f5f"
           }
          },
          "ternary": {
           "aaxis": {
            "gridcolor": "white",
            "linecolor": "white",
            "ticks": ""
           },
           "baxis": {
            "gridcolor": "white",
            "linecolor": "white",
            "ticks": ""
           },
           "bgcolor": "#E5ECF6",
           "caxis": {
            "gridcolor": "white",
            "linecolor": "white",
            "ticks": ""
           }
          },
          "title": {
           "x": 0.05
          },
          "xaxis": {
           "automargin": true,
           "gridcolor": "white",
           "linecolor": "white",
           "ticks": "",
           "title": {
            "standoff": 15
           },
           "zerolinecolor": "white",
           "zerolinewidth": 2
          },
          "yaxis": {
           "automargin": true,
           "gridcolor": "white",
           "linecolor": "white",
           "ticks": "",
           "title": {
            "standoff": 15
           },
           "zerolinecolor": "white",
           "zerolinewidth": 2
          }
         }
        },
        "title": {
         "text": "HKZN_local vs EPL",
         "x": 0.5,
         "xanchor": "center",
         "y": 0.9,
         "yanchor": "top"
        },
        "width": 700,
        "xaxis": {
         "range": [
          1.0299999713897705,
          4.269999980926514
         ],
         "title": {
          "text": "Observation, Significant wave height [m]"
         }
        },
        "yaxis": {
         "range": [
          1.0299999713897705,
          4.269999980926514
         ],
         "scaleanchor": "x",
         "scaleratio": 1,
         "title": {
          "text": "Model, Significant wave height [m]"
         }
        }
       }
      }
     },
     "metadata": {}
    }
   ],
   "source": [
    "cc[\"EPL\"].scatter(show_hist=True, backend='plotly', width=700, height=700) #,xlim=[-1,11])"
   ]
  },
  {
   "cell_type": "code",
   "execution_count": 19,
   "metadata": {},
   "outputs": [
    {
     "output_type": "display_data",
     "data": {
      "text/plain": "<Figure size 432x288 with 1 Axes>",
      "image/png": "[encoded data removed]"
     },
     "metadata": {
      "needs_background": "light"
     }
    }
   ],
   "source": [
    "cc[\"c2\"].hist(bins=20)"
   ]
  },
  {
   "cell_type": "code",
   "execution_count": 20,
   "metadata": {},
   "outputs": [
    {
     "output_type": "display_data",
     "data": {
      "text/plain": "<Figure size 576x576 with 2 Axes>",
      "image/png": "[encoded data removed]"
     },
     "metadata": {
      "needs_background": "light"
     }
    }
   ],
   "source": [
    "cc[\"HKNA\"].scatter(binsize=0.25, cmap=\"viridis\")"
   ]
  },
  {
   "cell_type": "markdown",
   "metadata": {},
   "source": [
    "## Automatic reporting"
   ]
  },
  {
   "cell_type": "code",
   "execution_count": 21,
   "metadata": {},
   "outputs": [],
   "source": [
    "from fmskill.report import Reporter\n",
    "rep = Reporter(mr)"
   ]
  },
  {
   "cell_type": "code",
   "execution_count": 22,
   "metadata": {},
   "outputs": [],
   "source": [
    "%%capture \n",
    "rep.markdown(); "
   ]
  }
 ],
 "metadata": {
  "kernelspec": {
   "display_name": "Python 3",
   "language": "python",
   "name": "python3"
  },
  "language_info": {
   "codemirror_mode": {
    "name": "ipython",
    "version": 3
   },
   "file_extension": ".py",
   "mimetype": "text/x-python",
   "name": "python",
   "nbconvert_exporter": "python",
   "pygments_lexer": "ipython3",
   "version": "3.8.5-final"
  }
 },
 "nbformat": 4,
 "nbformat_minor": 4
}