{
 "metadata": {
  "language_info": {
   "codemirror_mode": {
    "name": "ipython",
    "version": 3
   },
   "file_extension": ".py",
   "mimetype": "text/x-python",
   "name": "python",
   "nbconvert_exporter": "python",
   "pygments_lexer": "ipython3",
   "version": "3.8.5-final"
  },
  "orig_nbformat": 2,
  "kernelspec": {
   "name": "python3",
   "display_name": "Python 3",
   "language": "python"
  }
 },
 "nbformat": 4,
 "nbformat_minor": 2,
 "cells": [
  {
   "source": [
    "# Multi model comparison"
   ],
   "cell_type": "markdown",
   "metadata": {}
  },
  {
   "cell_type": "code",
   "execution_count": 1,
   "metadata": {},
   "outputs": [],
   "source": [
    "import numpy as np\n",
    "from mikefm_skill.model import ModelResult, ModelResultCollection\n",
    "from mikefm_skill.observation import PointObservation, TrackObservation"
   ]
  },
  {
   "cell_type": "code",
   "execution_count": 2,
   "metadata": {},
   "outputs": [],
   "source": [
    "%load_ext autoreload\n",
    "%autoreload 2"
   ]
  },
  {
   "source": [
    "## Define observations"
   ],
   "cell_type": "markdown",
   "metadata": {}
  },
  {
   "cell_type": "code",
   "execution_count": 3,
   "metadata": {},
   "outputs": [],
   "source": [
    "o1 = PointObservation('../tests/testdata/SW/HKNA_Hm0.dfs0', item=0, x=4.2420, y=52.6887, name=\"HKNA\")\n",
    "o2 = PointObservation(\"../tests/testdata/SW/eur_Hm0.dfs0\", item=0, x=3.2760, y=51.9990, name=\"EPL\")\n",
    "o3 = TrackObservation(\"../tests/testdata/SW/Alti_c2_Dutch.dfs0\", item=3, name=\"c2\")"
   ]
  },
  {
   "source": [
    "## Define first model"
   ],
   "cell_type": "markdown",
   "metadata": {}
  },
  {
   "cell_type": "code",
   "execution_count": 4,
   "metadata": {},
   "outputs": [],
   "source": [
    "fn = '../tests/testdata/SW/HKZN_local_2017_DutchCoast.dfsu'\n",
    "mr1 = ModelResult(fn, name='SW_1')"
   ]
  },
  {
   "cell_type": "code",
   "execution_count": 5,
   "metadata": {},
   "outputs": [],
   "source": [
    "mr1.add_observation(o1, item=0)\n",
    "mr1.add_observation(o2, item=1)\n",
    "mr1.add_observation(o3, item=2)"
   ]
  },
  {
   "source": [
    "## Define second model"
   ],
   "cell_type": "markdown",
   "metadata": {}
  },
  {
   "cell_type": "code",
   "execution_count": 6,
   "metadata": {},
   "outputs": [],
   "source": [
    "fn = '../tests/testdata/SW/HKZN_local_2017_DutchCoast_v2.dfsu'\n",
    "mr2 = ModelResult(fn, name='SW_2')"
   ]
  },
  {
   "cell_type": "code",
   "execution_count": 7,
   "metadata": {},
   "outputs": [],
   "source": [
    "mr2.add_observation(o1, item=0)\n",
    "mr2.add_observation(o2, item=1)\n",
    "mr2.add_observation(o3, item=2)"
   ]
  },
  {
   "source": [
    "## Extract model results"
   ],
   "cell_type": "markdown",
   "metadata": {}
  },
  {
   "cell_type": "code",
   "execution_count": 8,
   "metadata": {},
   "outputs": [],
   "source": [
    "cc1 = mr1.extract()\n",
    "cc2 = mr2.extract()"
   ]
  },
  {
   "cell_type": "code",
   "execution_count": 9,
   "metadata": {},
   "outputs": [
    {
     "output_type": "stream",
     "name": "stdout",
     "text": [
      "          bias      rmse  corr_coef  scatter_index\nHKNA -0.195266  0.352283   0.971082       0.088488\nEPL   2.306616  2.455242   0.972921       0.306539\nc2    6.247629  6.407545   0.883197       0.479235\n          bias      rmse  corr_coef  scatter_index\nHKNA -0.101189  0.293247   0.971082       0.083062\nEPL   2.306616  2.455242   0.972921       0.306539\nc2    6.247629  6.407545   0.883197       0.479235\n"
     ]
    }
   ],
   "source": [
    "print(cc1.skill_report())\n",
    "print(cc2.skill_report())"
   ]
  },
  {
   "source": [
    "## Collection of model results"
   ],
   "cell_type": "markdown",
   "metadata": {}
  },
  {
   "cell_type": "code",
   "execution_count": 10,
   "metadata": {},
   "outputs": [],
   "source": [
    "fn = '../tests/testdata/SW/HKZN_local_2017_DutchCoast.dfsu'\n",
    "mr1 = ModelResult(fn, name='SW_1')\n",
    "fn = '../tests/testdata/SW/HKZN_local_2017_DutchCoast_v2.dfsu'\n",
    "mr2 = ModelResult(fn, name='SW_2')"
   ]
  },
  {
   "cell_type": "code",
   "execution_count": 11,
   "metadata": {},
   "outputs": [
    {
     "output_type": "execute_result",
     "data": {
      "text/plain": [
       "<mikefm_skill.ModelResult>\n",
       "../tests/testdata/SW/HKZN_local_2017_DutchCoast.dfsu"
      ]
     },
     "metadata": {},
     "execution_count": 11
    }
   ],
   "source": [
    "mrc = ModelResultCollection([mr1, mr2])\n",
    "mrc['SW_1']"
   ]
  },
  {
   "cell_type": "code",
   "execution_count": 12,
   "metadata": {},
   "outputs": [],
   "source": [
    "mrc.add_observation(o1, item=0)\n",
    "mrc.add_observation(o2, item=0)\n",
    "mrc.add_observation(o3, item=0)"
   ]
  },
  {
   "cell_type": "code",
   "execution_count": 13,
   "metadata": {},
   "outputs": [],
   "source": [
    "cc = mrc.extract()"
   ]
  },
  {
   "cell_type": "code",
   "execution_count": 14,
   "metadata": {},
   "outputs": [],
   "source": [
    "#cc.skill_report(model='SW_1')"
   ]
  },
  {
   "source": [
    "## MultiModel Comparer"
   ],
   "cell_type": "markdown",
   "metadata": {}
  },
  {
   "cell_type": "code",
   "execution_count": 15,
   "metadata": {},
   "outputs": [],
   "source": [
    "ds_model_11 = mr1._extract_point_dfsu(o1, item=0)\n",
    "ds_model_21 = mr2._extract_point_dfsu(o1, item=0)"
   ]
  },
  {
   "cell_type": "code",
   "execution_count": 16,
   "metadata": {},
   "outputs": [],
   "source": [
    "from mikefm_skill.compare import PointComparer"
   ]
  },
  {
   "cell_type": "code",
   "execution_count": 17,
   "metadata": {},
   "outputs": [
    {
     "output_type": "execute_result",
     "data": {
      "text/plain": [
       "<PointComparer>\n",
       "Observation: HKNA"
      ]
     },
     "metadata": {},
     "execution_count": 17
    }
   ],
   "source": [
    "mmc = PointComparer(o1, [ds_model_11, ds_model_21])\n",
    "mmc"
   ]
  },
  {
   "cell_type": "code",
   "execution_count": 18,
   "metadata": {},
   "outputs": [
    {
     "output_type": "execute_result",
     "data": {
      "text/plain": [
       "                            Observation      SW_1      SW_2\n",
       "2017-10-27 00:10:00.000000      1.46484  1.591661  1.593077\n",
       "2017-10-27 00:19:59.999994      1.50391  1.603593  1.605845\n",
       "2017-10-27 00:29:59.999999      1.44531  1.615526  1.618612\n",
       "2017-10-27 00:39:59.999993      1.44531  1.627458  1.631380\n",
       "2017-10-27 00:49:59.999998      1.52344  1.639390  1.644147"
      ],
      "text/html": "<div>\n<style scoped>\n    .dataframe tbody tr th:only-of-type {\n        vertical-align: middle;\n    }\n\n    .dataframe tbody tr th {\n        vertical-align: top;\n    }\n\n    .dataframe thead th {\n        text-align: right;\n    }\n</style>\n<table border=\"1\" class=\"dataframe\">\n  <thead>\n    <tr style=\"text-align: right;\">\n      <th></th>\n      <th>Observation</th>\n      <th>SW_1</th>\n      <th>SW_2</th>\n    </tr>\n  </thead>\n  <tbody>\n    <tr>\n      <th>2017-10-27 00:10:00.000000</th>\n      <td>1.46484</td>\n      <td>1.591661</td>\n      <td>1.593077</td>\n    </tr>\n    <tr>\n      <th>2017-10-27 00:19:59.999994</th>\n      <td>1.50391</td>\n      <td>1.603593</td>\n      <td>1.605845</td>\n    </tr>\n    <tr>\n      <th>2017-10-27 00:29:59.999999</th>\n      <td>1.44531</td>\n      <td>1.615526</td>\n      <td>1.618612</td>\n    </tr>\n    <tr>\n      <th>2017-10-27 00:39:59.999993</th>\n      <td>1.44531</td>\n      <td>1.627458</td>\n      <td>1.631380</td>\n    </tr>\n    <tr>\n      <th>2017-10-27 00:49:59.999998</th>\n      <td>1.52344</td>\n      <td>1.639390</td>\n      <td>1.644147</td>\n    </tr>\n  </tbody>\n</table>\n</div>"
     },
     "metadata": {},
     "execution_count": 18
    }
   ],
   "source": [
    "mmc.df.head()"
   ]
  },
  {
   "cell_type": "code",
   "execution_count": 19,
   "metadata": {},
   "outputs": [
    {
     "output_type": "execute_result",
     "data": {
      "text/plain": [
       "<AxesSubplot:>"
      ]
     },
     "metadata": {},
     "execution_count": 19
    },
    {
     "output_type": "display_data",
     "data": {
      "text/plain": "<Figure size 432x288 with 1 Axes>",
      "image/svg+xml": "<?xml version=\"1.0\" encoding=\"utf-8\" standalone=\"no\"?>\r\n<!DOCTYPE svg PUBLIC \"-//W3C//DTD SVG 1.1//EN\"\r\n  \"http://www.w3.org/Graphics/SVG/1.1/DTD/svg11.dtd\">\r\n<!-- Created with matplotlib (https://matplotlib.org/) -->\r\n<svg height=\"248.101971pt\" version=\"1.1\" viewBox=\"0 0 378.528736 248.101971\" width=\"378.528736pt\" xmlns=\"http://www.w3.org/2000/svg\" xmlns:xlink=\"http://www.w3.org/1999/xlink\">\r\n <metadata>\r\n  <rdf:RDF xmlns:cc=\"http://creativecommons.org/ns#\" xmlns:dc=\"http://purl.org/dc/elements/1.1/\" xmlns:rdf=\"http://www.w3.org/1999/02/22-rdf-syntax-ns#\">\r\n   <cc:Work>\r\n    <dc:type rdf:resource=\"http://purl.org/dc/dcmitype/StillImage\"/>\r\n    <dc:date>2021-02-16T14:22:41.580130</dc:date>\r\n    <dc:format>image/svg+xml</dc:format>\r\n    <dc:creator>\r\n     <cc:Agent>\r\n      <dc:title>Matplotlib v3.3.2, https://matplotlib.org/</dc:title>\r\n     </cc:Agent>\r\n    </dc:creator>\r\n   </cc:Work>\r\n  </rdf:RDF>\r\n </metadata>\r\n <defs>\r\n  <style type=\"text/css\">*{stroke-linecap:butt;stroke-linejoin:round;}</style>\r\n </defs>\r\n <g id=\"figure_1\">\r\n  <g id=\"patch_1\">\r\n   <path d=\"M 0 248.101971 \r\nL 378.528736 248.101971 \r\nL 378.528736 0 \r\nL 0 0 \r\nz\r\n\" style=\"fill:none;\"/>\r\n  </g>\r\n  <g id=\"axes_1\">\r\n   <g id=\"patch_2\">\r\n    <path d=\"M 36.528736 203.04 \r\nL 371.328736 203.04 \r\nL 371.328736 7.2 \r\nL 36.528736 7.2 \r\nz\r\n\" style=\"fill:#ffffff;\"/>\r\n   </g>\r\n   <g id=\"matplotlib.axis_1\">\r\n    <g id=\"xtick_1\">\r\n     <g id=\"line2d_1\">\r\n      <defs>\r\n       <path d=\"M 0 0 \r\nL 0 3.5 \r\n\" id=\"m6eecbbed8c\" style=\"stroke:#000000;stroke-width:0.8;\"/>\r\n      </defs>\r\n      <g>\r\n       <use style=\"stroke:#000000;stroke-width:0.8;\" x=\"50.976377\" xlink:href=\"#m6eecbbed8c\" y=\"203.04\"/>\r\n      </g>\r\n     </g>\r\n     <g id=\"text_1\">\r\n      <!-- 10-27 00 -->\r\n      <g transform=\"translate(10.999219 239.100909)rotate(-30)scale(0.1 -0.1)\">\r\n       <defs>\r\n        <path d=\"M 12.40625 8.296875 \r\nL 28.515625 8.296875 \r\nL 28.515625 63.921875 \r\nL 10.984375 60.40625 \r\nL 10.984375 69.390625 \r\nL 28.421875 72.90625 \r\nL 38.28125 72.90625 \r\nL 38.28125 8.296875 \r\nL 54.390625 8.296875 \r\nL 54.390625 0 \r\nL 12.40625 0 \r\nz\r\n\" id=\"DejaVuSans-49\"/>\r\n        <path d=\"M 31.78125 66.40625 \r\nQ 24.171875 66.40625 20.328125 58.90625 \r\nQ 16.5 51.421875 16.5 36.375 \r\nQ 16.5 21.390625 20.328125 13.890625 \r\nQ 24.171875 6.390625 31.78125 6.390625 \r\nQ 39.453125 6.390625 43.28125 13.890625 \r\nQ 47.125 21.390625 47.125 36.375 \r\nQ 47.125 51.421875 43.28125 58.90625 \r\nQ 39.453125 66.40625 31.78125 66.40625 \r\nz\r\nM 31.78125 74.21875 \r\nQ 44.046875 74.21875 50.515625 64.515625 \r\nQ 56.984375 54.828125 56.984375 36.375 \r\nQ 56.984375 17.96875 50.515625 8.265625 \r\nQ 44.046875 -1.421875 31.78125 -1.421875 \r\nQ 19.53125 -1.421875 13.0625 8.265625 \r\nQ 6.59375 17.96875 6.59375 36.375 \r\nQ 6.59375 54.828125 13.0625 64.515625 \r\nQ 19.53125 74.21875 31.78125 74.21875 \r\nz\r\n\" id=\"DejaVuSans-48\"/>\r\n        <path d=\"M 4.890625 31.390625 \r\nL 31.203125 31.390625 \r\nL 31.203125 23.390625 \r\nL 4.890625 23.390625 \r\nz\r\n\" id=\"DejaVuSans-45\"/>\r\n        <path d=\"M 19.1875 8.296875 \r\nL 53.609375 8.296875 \r\nL 53.609375 0 \r\nL 7.328125 0 \r\nL 7.328125 8.296875 \r\nQ 12.9375 14.109375 22.625 23.890625 \r\nQ 32.328125 33.6875 34.8125 36.53125 \r\nQ 39.546875 41.84375 41.421875 45.53125 \r\nQ 43.3125 49.21875 43.3125 52.78125 \r\nQ 43.3125 58.59375 39.234375 62.25 \r\nQ 35.15625 65.921875 28.609375 65.921875 \r\nQ 23.96875 65.921875 18.8125 64.3125 \r\nQ 13.671875 62.703125 7.8125 59.421875 \r\nL 7.8125 69.390625 \r\nQ 13.765625 71.78125 18.9375 73 \r\nQ 24.125 74.21875 28.421875 74.21875 \r\nQ 39.75 74.21875 46.484375 68.546875 \r\nQ 53.21875 62.890625 53.21875 53.421875 \r\nQ 53.21875 48.921875 51.53125 44.890625 \r\nQ 49.859375 40.875 45.40625 35.40625 \r\nQ 44.1875 33.984375 37.640625 27.21875 \r\nQ 31.109375 20.453125 19.1875 8.296875 \r\nz\r\n\" id=\"DejaVuSans-50\"/>\r\n        <path d=\"M 8.203125 72.90625 \r\nL 55.078125 72.90625 \r\nL 55.078125 68.703125 \r\nL 28.609375 0 \r\nL 18.3125 0 \r\nL 43.21875 64.59375 \r\nL 8.203125 64.59375 \r\nz\r\n\" id=\"DejaVuSans-55\"/>\r\n        <path id=\"DejaVuSans-32\"/>\r\n       </defs>\r\n       <use xlink:href=\"#DejaVuSans-49\"/>\r\n       <use x=\"63.623047\" xlink:href=\"#DejaVuSans-48\"/>\r\n       <use x=\"127.246094\" xlink:href=\"#DejaVuSans-45\"/>\r\n       <use x=\"163.330078\" xlink:href=\"#DejaVuSans-50\"/>\r\n       <use x=\"226.953125\" xlink:href=\"#DejaVuSans-55\"/>\r\n       <use x=\"290.576172\" xlink:href=\"#DejaVuSans-32\"/>\r\n       <use x=\"322.363281\" xlink:href=\"#DejaVuSans-48\"/>\r\n       <use x=\"385.986328\" xlink:href=\"#DejaVuSans-48\"/>\r\n      </g>\r\n     </g>\r\n    </g>\r\n    <g id=\"xtick_2\">\r\n     <g id=\"line2d_2\">\r\n      <g>\r\n       <use style=\"stroke:#000000;stroke-width:0.8;\" x=\"106.455318\" xlink:href=\"#m6eecbbed8c\" y=\"203.04\"/>\r\n      </g>\r\n     </g>\r\n     <g id=\"text_2\">\r\n      <!-- 10-27 12 -->\r\n      <g transform=\"translate(66.47816 239.100909)rotate(-30)scale(0.1 -0.1)\">\r\n       <use xlink:href=\"#DejaVuSans-49\"/>\r\n       <use x=\"63.623047\" xlink:href=\"#DejaVuSans-48\"/>\r\n       <use x=\"127.246094\" xlink:href=\"#DejaVuSans-45\"/>\r\n       <use x=\"163.330078\" xlink:href=\"#DejaVuSans-50\"/>\r\n       <use x=\"226.953125\" xlink:href=\"#DejaVuSans-55\"/>\r\n       <use x=\"290.576172\" xlink:href=\"#DejaVuSans-32\"/>\r\n       <use x=\"322.363281\" xlink:href=\"#DejaVuSans-49\"/>\r\n       <use x=\"385.986328\" xlink:href=\"#DejaVuSans-50\"/>\r\n      </g>\r\n     </g>\r\n    </g>\r\n    <g id=\"xtick_3\">\r\n     <g id=\"line2d_3\">\r\n      <g>\r\n       <use style=\"stroke:#000000;stroke-width:0.8;\" x=\"161.934259\" xlink:href=\"#m6eecbbed8c\" y=\"203.04\"/>\r\n      </g>\r\n     </g>\r\n     <g id=\"text_3\">\r\n      <!-- 10-28 00 -->\r\n      <g transform=\"translate(121.957101 239.100909)rotate(-30)scale(0.1 -0.1)\">\r\n       <defs>\r\n        <path d=\"M 31.78125 34.625 \r\nQ 24.75 34.625 20.71875 30.859375 \r\nQ 16.703125 27.09375 16.703125 20.515625 \r\nQ 16.703125 13.921875 20.71875 10.15625 \r\nQ 24.75 6.390625 31.78125 6.390625 \r\nQ 38.8125 6.390625 42.859375 10.171875 \r\nQ 46.921875 13.96875 46.921875 20.515625 \r\nQ 46.921875 27.09375 42.890625 30.859375 \r\nQ 38.875 34.625 31.78125 34.625 \r\nz\r\nM 21.921875 38.8125 \r\nQ 15.578125 40.375 12.03125 44.71875 \r\nQ 8.5 49.078125 8.5 55.328125 \r\nQ 8.5 64.0625 14.71875 69.140625 \r\nQ 20.953125 74.21875 31.78125 74.21875 \r\nQ 42.671875 74.21875 48.875 69.140625 \r\nQ 55.078125 64.0625 55.078125 55.328125 \r\nQ 55.078125 49.078125 51.53125 44.71875 \r\nQ 48 40.375 41.703125 38.8125 \r\nQ 48.828125 37.15625 52.796875 32.3125 \r\nQ 56.78125 27.484375 56.78125 20.515625 \r\nQ 56.78125 9.90625 50.3125 4.234375 \r\nQ 43.84375 -1.421875 31.78125 -1.421875 \r\nQ 19.734375 -1.421875 13.25 4.234375 \r\nQ 6.78125 9.90625 6.78125 20.515625 \r\nQ 6.78125 27.484375 10.78125 32.3125 \r\nQ 14.796875 37.15625 21.921875 38.8125 \r\nz\r\nM 18.3125 54.390625 \r\nQ 18.3125 48.734375 21.84375 45.5625 \r\nQ 25.390625 42.390625 31.78125 42.390625 \r\nQ 38.140625 42.390625 41.71875 45.5625 \r\nQ 45.3125 48.734375 45.3125 54.390625 \r\nQ 45.3125 60.0625 41.71875 63.234375 \r\nQ 38.140625 66.40625 31.78125 66.40625 \r\nQ 25.390625 66.40625 21.84375 63.234375 \r\nQ 18.3125 60.0625 18.3125 54.390625 \r\nz\r\n\" id=\"DejaVuSans-56\"/>\r\n       </defs>\r\n       <use xlink:href=\"#DejaVuSans-49\"/>\r\n       <use x=\"63.623047\" xlink:href=\"#DejaVuSans-48\"/>\r\n       <use x=\"127.246094\" xlink:href=\"#DejaVuSans-45\"/>\r\n       <use x=\"163.330078\" xlink:href=\"#DejaVuSans-50\"/>\r\n       <use x=\"226.953125\" xlink:href=\"#DejaVuSans-56\"/>\r\n       <use x=\"290.576172\" xlink:href=\"#DejaVuSans-32\"/>\r\n       <use x=\"322.363281\" xlink:href=\"#DejaVuSans-48\"/>\r\n       <use x=\"385.986328\" xlink:href=\"#DejaVuSans-48\"/>\r\n      </g>\r\n     </g>\r\n    </g>\r\n    <g id=\"xtick_4\">\r\n     <g id=\"line2d_4\">\r\n      <g>\r\n       <use style=\"stroke:#000000;stroke-width:0.8;\" x=\"217.4132\" xlink:href=\"#m6eecbbed8c\" y=\"203.04\"/>\r\n      </g>\r\n     </g>\r\n     <g id=\"text_4\">\r\n      <!-- 10-28 12 -->\r\n      <g transform=\"translate(177.436043 239.100909)rotate(-30)scale(0.1 -0.1)\">\r\n       <use xlink:href=\"#DejaVuSans-49\"/>\r\n       <use x=\"63.623047\" xlink:href=\"#DejaVuSans-48\"/>\r\n       <use x=\"127.246094\" xlink:href=\"#DejaVuSans-45\"/>\r\n       <use x=\"163.330078\" xlink:href=\"#DejaVuSans-50\"/>\r\n       <use x=\"226.953125\" xlink:href=\"#DejaVuSans-56\"/>\r\n       <use x=\"290.576172\" xlink:href=\"#DejaVuSans-32\"/>\r\n       <use x=\"322.363281\" xlink:href=\"#DejaVuSans-49\"/>\r\n       <use x=\"385.986328\" xlink:href=\"#DejaVuSans-50\"/>\r\n      </g>\r\n     </g>\r\n    </g>\r\n    <g id=\"xtick_5\">\r\n     <g id=\"line2d_5\">\r\n      <g>\r\n       <use style=\"stroke:#000000;stroke-width:0.8;\" x=\"272.892142\" xlink:href=\"#m6eecbbed8c\" y=\"203.04\"/>\r\n      </g>\r\n     </g>\r\n     <g id=\"text_5\">\r\n      <!-- 10-29 00 -->\r\n      <g transform=\"translate(232.914984 239.100909)rotate(-30)scale(0.1 -0.1)\">\r\n       <defs>\r\n        <path d=\"M 10.984375 1.515625 \r\nL 10.984375 10.5 \r\nQ 14.703125 8.734375 18.5 7.8125 \r\nQ 22.3125 6.890625 25.984375 6.890625 \r\nQ 35.75 6.890625 40.890625 13.453125 \r\nQ 46.046875 20.015625 46.78125 33.40625 \r\nQ 43.953125 29.203125 39.59375 26.953125 \r\nQ 35.25 24.703125 29.984375 24.703125 \r\nQ 19.046875 24.703125 12.671875 31.3125 \r\nQ 6.296875 37.9375 6.296875 49.421875 \r\nQ 6.296875 60.640625 12.9375 67.421875 \r\nQ 19.578125 74.21875 30.609375 74.21875 \r\nQ 43.265625 74.21875 49.921875 64.515625 \r\nQ 56.59375 54.828125 56.59375 36.375 \r\nQ 56.59375 19.140625 48.40625 8.859375 \r\nQ 40.234375 -1.421875 26.421875 -1.421875 \r\nQ 22.703125 -1.421875 18.890625 -0.6875 \r\nQ 15.09375 0.046875 10.984375 1.515625 \r\nz\r\nM 30.609375 32.421875 \r\nQ 37.25 32.421875 41.125 36.953125 \r\nQ 45.015625 41.5 45.015625 49.421875 \r\nQ 45.015625 57.28125 41.125 61.84375 \r\nQ 37.25 66.40625 30.609375 66.40625 \r\nQ 23.96875 66.40625 20.09375 61.84375 \r\nQ 16.21875 57.28125 16.21875 49.421875 \r\nQ 16.21875 41.5 20.09375 36.953125 \r\nQ 23.96875 32.421875 30.609375 32.421875 \r\nz\r\n\" id=\"DejaVuSans-57\"/>\r\n       </defs>\r\n       <use xlink:href=\"#DejaVuSans-49\"/>\r\n       <use x=\"63.623047\" xlink:href=\"#DejaVuSans-48\"/>\r\n       <use x=\"127.246094\" xlink:href=\"#DejaVuSans-45\"/>\r\n       <use x=\"163.330078\" xlink:href=\"#DejaVuSans-50\"/>\r\n       <use x=\"226.953125\" xlink:href=\"#DejaVuSans-57\"/>\r\n       <use x=\"290.576172\" xlink:href=\"#DejaVuSans-32\"/>\r\n       <use x=\"322.363281\" xlink:href=\"#DejaVuSans-48\"/>\r\n       <use x=\"385.986328\" xlink:href=\"#DejaVuSans-48\"/>\r\n      </g>\r\n     </g>\r\n    </g>\r\n    <g id=\"xtick_6\">\r\n     <g id=\"line2d_6\">\r\n      <g>\r\n       <use style=\"stroke:#000000;stroke-width:0.8;\" x=\"328.371083\" xlink:href=\"#m6eecbbed8c\" y=\"203.04\"/>\r\n      </g>\r\n     </g>\r\n     <g id=\"text_6\">\r\n      <!-- 10-29 12 -->\r\n      <g transform=\"translate(288.393925 239.100909)rotate(-30)scale(0.1 -0.1)\">\r\n       <use xlink:href=\"#DejaVuSans-49\"/>\r\n       <use x=\"63.623047\" xlink:href=\"#DejaVuSans-48\"/>\r\n       <use x=\"127.246094\" xlink:href=\"#DejaVuSans-45\"/>\r\n       <use x=\"163.330078\" xlink:href=\"#DejaVuSans-50\"/>\r\n       <use x=\"226.953125\" xlink:href=\"#DejaVuSans-57\"/>\r\n       <use x=\"290.576172\" xlink:href=\"#DejaVuSans-32\"/>\r\n       <use x=\"322.363281\" xlink:href=\"#DejaVuSans-49\"/>\r\n       <use x=\"385.986328\" xlink:href=\"#DejaVuSans-50\"/>\r\n      </g>\r\n     </g>\r\n    </g>\r\n   </g>\r\n   <g id=\"matplotlib.axis_2\">\r\n    <g id=\"ytick_1\">\r\n     <g id=\"line2d_7\">\r\n      <defs>\r\n       <path d=\"M 0 0 \r\nL -3.5 0 \r\n\" id=\"meffb6e51c3\" style=\"stroke:#000000;stroke-width:0.8;\"/>\r\n      </defs>\r\n      <g>\r\n       <use style=\"stroke:#000000;stroke-width:0.8;\" x=\"36.528736\" xlink:href=\"#meffb6e51c3\" y=\"172.437508\"/>\r\n      </g>\r\n     </g>\r\n     <g id=\"text_7\">\r\n      <!-- 2 -->\r\n      <g transform=\"translate(23.166236 176.236727)scale(0.1 -0.1)\">\r\n       <use xlink:href=\"#DejaVuSans-50\"/>\r\n      </g>\r\n     </g>\r\n    </g>\r\n    <g id=\"ytick_2\">\r\n     <g id=\"line2d_8\">\r\n      <g>\r\n       <use style=\"stroke:#000000;stroke-width:0.8;\" x=\"36.528736\" xlink:href=\"#meffb6e51c3\" y=\"133.315343\"/>\r\n      </g>\r\n     </g>\r\n     <g id=\"text_8\">\r\n      <!-- 3 -->\r\n      <g transform=\"translate(23.166236 137.114562)scale(0.1 -0.1)\">\r\n       <defs>\r\n        <path d=\"M 40.578125 39.3125 \r\nQ 47.65625 37.796875 51.625 33 \r\nQ 55.609375 28.21875 55.609375 21.1875 \r\nQ 55.609375 10.40625 48.1875 4.484375 \r\nQ 40.765625 -1.421875 27.09375 -1.421875 \r\nQ 22.515625 -1.421875 17.65625 -0.515625 \r\nQ 12.796875 0.390625 7.625 2.203125 \r\nL 7.625 11.71875 \r\nQ 11.71875 9.328125 16.59375 8.109375 \r\nQ 21.484375 6.890625 26.8125 6.890625 \r\nQ 36.078125 6.890625 40.9375 10.546875 \r\nQ 45.796875 14.203125 45.796875 21.1875 \r\nQ 45.796875 27.640625 41.28125 31.265625 \r\nQ 36.765625 34.90625 28.71875 34.90625 \r\nL 20.21875 34.90625 \r\nL 20.21875 43.015625 \r\nL 29.109375 43.015625 \r\nQ 36.375 43.015625 40.234375 45.921875 \r\nQ 44.09375 48.828125 44.09375 54.296875 \r\nQ 44.09375 59.90625 40.109375 62.90625 \r\nQ 36.140625 65.921875 28.71875 65.921875 \r\nQ 24.65625 65.921875 20.015625 65.03125 \r\nQ 15.375 64.15625 9.8125 62.3125 \r\nL 9.8125 71.09375 \r\nQ 15.4375 72.65625 20.34375 73.4375 \r\nQ 25.25 74.21875 29.59375 74.21875 \r\nQ 40.828125 74.21875 47.359375 69.109375 \r\nQ 53.90625 64.015625 53.90625 55.328125 \r\nQ 53.90625 49.265625 50.4375 45.09375 \r\nQ 46.96875 40.921875 40.578125 39.3125 \r\nz\r\n\" id=\"DejaVuSans-51\"/>\r\n       </defs>\r\n       <use xlink:href=\"#DejaVuSans-51\"/>\r\n      </g>\r\n     </g>\r\n    </g>\r\n    <g id=\"ytick_3\">\r\n     <g id=\"line2d_9\">\r\n      <g>\r\n       <use style=\"stroke:#000000;stroke-width:0.8;\" x=\"36.528736\" xlink:href=\"#meffb6e51c3\" y=\"94.193178\"/>\r\n      </g>\r\n     </g>\r\n     <g id=\"text_9\">\r\n      <!-- 4 -->\r\n      <g transform=\"translate(23.166236 97.992397)scale(0.1 -0.1)\">\r\n       <defs>\r\n        <path d=\"M 37.796875 64.3125 \r\nL 12.890625 25.390625 \r\nL 37.796875 25.390625 \r\nz\r\nM 35.203125 72.90625 \r\nL 47.609375 72.90625 \r\nL 47.609375 25.390625 \r\nL 58.015625 25.390625 \r\nL 58.015625 17.1875 \r\nL 47.609375 17.1875 \r\nL 47.609375 0 \r\nL 37.796875 0 \r\nL 37.796875 17.1875 \r\nL 4.890625 17.1875 \r\nL 4.890625 26.703125 \r\nz\r\n\" id=\"DejaVuSans-52\"/>\r\n       </defs>\r\n       <use xlink:href=\"#DejaVuSans-52\"/>\r\n      </g>\r\n     </g>\r\n    </g>\r\n    <g id=\"ytick_4\">\r\n     <g id=\"line2d_10\">\r\n      <g>\r\n       <use style=\"stroke:#000000;stroke-width:0.8;\" x=\"36.528736\" xlink:href=\"#meffb6e51c3\" y=\"55.071013\"/>\r\n      </g>\r\n     </g>\r\n     <g id=\"text_10\">\r\n      <!-- 5 -->\r\n      <g transform=\"translate(23.166236 58.870232)scale(0.1 -0.1)\">\r\n       <defs>\r\n        <path d=\"M 10.796875 72.90625 \r\nL 49.515625 72.90625 \r\nL 49.515625 64.59375 \r\nL 19.828125 64.59375 \r\nL 19.828125 46.734375 \r\nQ 21.96875 47.46875 24.109375 47.828125 \r\nQ 26.265625 48.1875 28.421875 48.1875 \r\nQ 40.625 48.1875 47.75 41.5 \r\nQ 54.890625 34.8125 54.890625 23.390625 \r\nQ 54.890625 11.625 47.5625 5.09375 \r\nQ 40.234375 -1.421875 26.90625 -1.421875 \r\nQ 22.3125 -1.421875 17.546875 -0.640625 \r\nQ 12.796875 0.140625 7.71875 1.703125 \r\nL 7.71875 11.625 \r\nQ 12.109375 9.234375 16.796875 8.0625 \r\nQ 21.484375 6.890625 26.703125 6.890625 \r\nQ 35.15625 6.890625 40.078125 11.328125 \r\nQ 45.015625 15.765625 45.015625 23.390625 \r\nQ 45.015625 31 40.078125 35.4375 \r\nQ 35.15625 39.890625 26.703125 39.890625 \r\nQ 22.75 39.890625 18.8125 39.015625 \r\nQ 14.890625 38.140625 10.796875 36.28125 \r\nz\r\n\" id=\"DejaVuSans-53\"/>\r\n       </defs>\r\n       <use xlink:href=\"#DejaVuSans-53\"/>\r\n      </g>\r\n     </g>\r\n    </g>\r\n    <g id=\"ytick_5\">\r\n     <g id=\"line2d_11\">\r\n      <g>\r\n       <use style=\"stroke:#000000;stroke-width:0.8;\" x=\"36.528736\" xlink:href=\"#meffb6e51c3\" y=\"15.948848\"/>\r\n      </g>\r\n     </g>\r\n     <g id=\"text_11\">\r\n      <!-- 6 -->\r\n      <g transform=\"translate(23.166236 19.748067)scale(0.1 -0.1)\">\r\n       <defs>\r\n        <path d=\"M 33.015625 40.375 \r\nQ 26.375 40.375 22.484375 35.828125 \r\nQ 18.609375 31.296875 18.609375 23.390625 \r\nQ 18.609375 15.53125 22.484375 10.953125 \r\nQ 26.375 6.390625 33.015625 6.390625 \r\nQ 39.65625 6.390625 43.53125 10.953125 \r\nQ 47.40625 15.53125 47.40625 23.390625 \r\nQ 47.40625 31.296875 43.53125 35.828125 \r\nQ 39.65625 40.375 33.015625 40.375 \r\nz\r\nM 52.59375 71.296875 \r\nL 52.59375 62.3125 \r\nQ 48.875 64.0625 45.09375 64.984375 \r\nQ 41.3125 65.921875 37.59375 65.921875 \r\nQ 27.828125 65.921875 22.671875 59.328125 \r\nQ 17.53125 52.734375 16.796875 39.40625 \r\nQ 19.671875 43.65625 24.015625 45.921875 \r\nQ 28.375 48.1875 33.59375 48.1875 \r\nQ 44.578125 48.1875 50.953125 41.515625 \r\nQ 57.328125 34.859375 57.328125 23.390625 \r\nQ 57.328125 12.15625 50.6875 5.359375 \r\nQ 44.046875 -1.421875 33.015625 -1.421875 \r\nQ 20.359375 -1.421875 13.671875 8.265625 \r\nQ 6.984375 17.96875 6.984375 36.375 \r\nQ 6.984375 53.65625 15.1875 63.9375 \r\nQ 23.390625 74.21875 37.203125 74.21875 \r\nQ 40.921875 74.21875 44.703125 73.484375 \r\nQ 48.484375 72.75 52.59375 71.296875 \r\nz\r\n\" id=\"DejaVuSans-54\"/>\r\n       </defs>\r\n       <use xlink:href=\"#DejaVuSans-54\"/>\r\n      </g>\r\n     </g>\r\n    </g>\r\n   </g>\r\n   <g id=\"line2d_12\">\r\n    <path clip-path=\"url(#p15ad7323df)\" d=\"M 51.746917 193.374124 \r\nL 52.517458 191.845625 \r\nL 53.287999 194.138182 \r\nL 54.05854 194.138182 \r\nL 54.829081 191.081567 \r\nL 55.599622 190.317513 \r\nL 57.140703 193.374124 \r\nL 57.911244 191.081567 \r\nL 58.681785 189.553455 \r\nL 59.452326 188.789397 \r\nL 60.222867 185.732787 \r\nL 60.993408 185.732787 \r\nL 61.763948 187.261285 \r\nL 62.534489 189.553455 \r\nL 63.30503 182.676559 \r\nL 64.846112 179.619948 \r\nL 65.616653 182.676559 \r\nL 66.387194 183.440617 \r\nL 67.157734 181.912505 \r\nL 67.928275 183.440617 \r\nL 68.698816 179.619948 \r\nL 69.469357 175.035609 \r\nL 70.239898 174.271555 \r\nL 71.010439 178.091837 \r\nL 71.78098 179.619948 \r\nL 72.55152 175.035609 \r\nL 73.322061 173.50711 \r\nL 74.092602 170.450882 \r\nL 74.863143 177.327779 \r\nL 75.633684 172.743052 \r\nL 76.404225 168.922775 \r\nL 77.174766 162.045879 \r\nL 77.945306 161.281429 \r\nL 78.715847 168.158325 \r\nL 79.486388 166.630218 \r\nL 80.256929 157.461147 \r\nL 81.02747 156.697099 \r\nL 81.798011 158.989264 \r\nL 83.339092 147.527645 \r\nL 84.109633 150.58426 \r\nL 84.880174 150.58426 \r\nL 85.650715 152.112367 \r\nL 86.421256 149.820202 \r\nL 87.191797 156.697099 \r\nL 87.962337 150.58426 \r\nL 88.732878 149.820202 \r\nL 89.503419 158.989264 \r\nL 90.27396 155.168591 \r\nL 91.044501 152.112367 \r\nL 91.815042 145.999529 \r\nL 92.585583 136.830076 \r\nL 93.356123 147.527645 \r\nL 94.126664 155.168591 \r\nL 94.897205 157.461147 \r\nL 95.667746 158.989264 \r\nL 96.438287 150.58426 \r\nL 97.208828 152.112367 \r\nL 97.979368 156.697099 \r\nL 98.749909 152.112367 \r\nL 99.52045 155.932649 \r\nL 100.290991 151.348309 \r\nL 101.832073 154.404542 \r\nL 102.602614 154.404542 \r\nL 103.373154 158.225206 \r\nL 104.143695 157.461147 \r\nL 104.914236 159.753322 \r\nL 105.684777 163.573986 \r\nL 106.455318 169.686824 \r\nL 107.225859 162.809937 \r\nL 107.9964 153.640484 \r\nL 108.76694 154.404542 \r\nL 109.537481 161.281429 \r\nL 110.308022 170.450882 \r\nL 111.078563 160.51738 \r\nL 111.849104 162.045879 \r\nL 112.619645 160.51738 \r\nL 113.390186 157.461147 \r\nL 114.160726 157.461147 \r\nL 114.931267 165.102102 \r\nL 115.701808 164.338044 \r\nL 116.472349 162.809937 \r\nL 117.24289 165.86616 \r\nL 118.013431 166.630218 \r\nL 118.783971 169.686824 \r\nL 119.554512 168.158325 \r\nL 120.325053 162.045879 \r\nL 121.095594 168.158325 \r\nL 122.636676 169.686824 \r\nL 123.407217 168.158325 \r\nL 124.177757 164.338044 \r\nL 124.948298 172.743052 \r\nL 125.718839 172.743052 \r\nL 126.48938 170.450882 \r\nL 127.259921 171.21494 \r\nL 128.030462 169.686824 \r\nL 128.801003 164.338044 \r\nL 130.342084 171.978998 \r\nL 131.112625 167.394267 \r\nL 131.883166 169.686824 \r\nL 132.653707 171.21494 \r\nL 133.424248 177.327779 \r\nL 134.194789 178.85589 \r\nL 134.965329 171.978998 \r\nL 135.73587 171.978998 \r\nL 137.276952 176.56372 \r\nL 138.047493 172.743052 \r\nL 138.818034 171.978998 \r\nL 139.588574 170.450882 \r\nL 140.359115 171.21494 \r\nL 141.129656 168.922775 \r\nL 141.900197 169.686824 \r\nL 142.670738 171.978998 \r\nL 143.441279 177.327779 \r\nL 144.21182 178.85589 \r\nL 144.98236 177.327779 \r\nL 145.752901 174.271555 \r\nL 146.523442 170.450882 \r\nL 147.293983 175.035609 \r\nL 148.064524 177.327779 \r\nL 149.605606 177.327779 \r\nL 150.376146 180.384002 \r\nL 151.146687 182.676559 \r\nL 151.917228 179.619948 \r\nL 152.687769 177.327779 \r\nL 154.228851 177.327779 \r\nL 154.999392 178.091837 \r\nL 155.769932 179.619948 \r\nL 156.540473 178.85589 \r\nL 157.311014 181.912505 \r\nL 158.081555 179.619948 \r\nL 158.852096 178.85589 \r\nL 159.622637 180.384002 \r\nL 160.393177 179.619948 \r\nL 161.163718 179.619948 \r\nL 167.328045 171.21494 \r\nL 168.098586 168.922775 \r\nL 168.869127 168.922775 \r\nL 169.639668 171.978998 \r\nL 171.180749 171.978998 \r\nL 171.95129 168.158325 \r\nL 172.721831 165.86616 \r\nL 173.492372 166.630218 \r\nL 174.262913 164.338044 \r\nL 175.033454 163.573986 \r\nL 175.803995 165.102102 \r\nL 176.574535 167.394267 \r\nL 177.345076 165.86616 \r\nL 178.115617 162.045879 \r\nL 178.886158 166.630218 \r\nL 179.656699 167.394267 \r\nL 180.42724 167.394267 \r\nL 181.19778 162.809937 \r\nL 181.968321 158.989264 \r\nL 182.738862 152.876425 \r\nL 183.509403 151.348309 \r\nL 184.279944 158.225206 \r\nL 185.050485 156.697099 \r\nL 185.821026 149.820202 \r\nL 186.591566 154.404542 \r\nL 187.362107 156.697099 \r\nL 188.132648 158.225206 \r\nL 188.903189 158.225206 \r\nL 189.67373 166.630218 \r\nL 190.444271 158.989264 \r\nL 191.214812 155.168591 \r\nL 191.985352 145.999529 \r\nL 192.755893 143.706972 \r\nL 193.526434 150.58426 \r\nL 194.296975 152.876425 \r\nL 195.067516 153.640484 \r\nL 195.838057 144.471422 \r\nL 196.608597 143.706972 \r\nL 197.379138 148.291703 \r\nL 198.149679 145.235471 \r\nL 198.92022 140.650749 \r\nL 199.690761 142.178865 \r\nL 200.461302 145.235471 \r\nL 201.231843 142.942914 \r\nL 202.002383 144.471422 \r\nL 202.772924 143.706972 \r\nL 203.543465 148.291703 \r\nL 204.314006 139.886691 \r\nL 205.084547 140.650749 \r\nL 205.855088 149.820202 \r\nL 206.625629 141.414807 \r\nL 207.396169 137.594526 \r\nL 208.16671 124.604399 \r\nL 208.937251 129.953189 \r\nL 209.707792 138.358584 \r\nL 210.478333 136.066027 \r\nL 211.248874 137.594526 \r\nL 212.019415 136.066027 \r\nL 212.789955 140.650749 \r\nL 213.560496 136.830076 \r\nL 214.331037 134.537911 \r\nL 215.101578 135.301969 \r\nL 215.872119 137.594526 \r\nL 216.64266 135.301969 \r\nL 217.4132 128.425072 \r\nL 218.183741 139.886691 \r\nL 218.954282 132.245746 \r\nL 219.724823 132.245746 \r\nL 220.495364 135.301969 \r\nL 221.265905 140.650749 \r\nL 222.806986 137.594526 \r\nL 223.577527 128.425072 \r\nL 224.348068 129.953189 \r\nL 225.118609 130.717237 \r\nL 225.88915 123.84035 \r\nL 226.659691 125.368849 \r\nL 227.430232 133.009794 \r\nL 228.200772 128.425072 \r\nL 228.971313 116.963454 \r\nL 229.741854 132.245746 \r\nL 230.512395 126.896956 \r\nL 231.282936 126.896956 \r\nL 232.053477 131.481296 \r\nL 232.824018 127.661014 \r\nL 233.594558 127.661014 \r\nL 234.365099 120.784118 \r\nL 235.13564 123.84035 \r\nL 236.676722 119.255619 \r\nL 238.217803 133.009794 \r\nL 239.758885 126.896956 \r\nL 240.529426 123.076292 \r\nL 241.299967 125.368849 \r\nL 242.070508 123.84035 \r\nL 242.841049 107.029942 \r\nL 243.611589 110.850616 \r\nL 245.152671 125.368849 \r\nL 245.923212 121.548176 \r\nL 246.693753 105.501836 \r\nL 247.464294 103.209661 \r\nL 248.234835 103.209661 \r\nL 249.005375 114.67128 \r\nL 249.775916 116.963454 \r\nL 250.546457 107.029942 \r\nL 251.316998 107.794392 \r\nL 252.087539 116.199396 \r\nL 252.85808 113.907231 \r\nL 253.628621 96.332765 \r\nL 254.399161 108.558441 \r\nL 255.169702 100.917496 \r\nL 255.940243 87.92737 \r\nL 256.710784 87.92737 \r\nL 258.251866 103.209661 \r\nL 259.022406 96.332765 \r\nL 260.563488 93.276159 \r\nL 261.334029 95.568716 \r\nL 262.10457 93.276159 \r\nL 262.875111 93.276159 \r\nL 263.645652 95.568716 \r\nL 264.416192 104.737777 \r\nL 265.957274 98.624939 \r\nL 266.727815 74.173577 \r\nL 267.498356 83.343039 \r\nL 268.268897 96.332765 \r\nL 269.039438 87.163321 \r\nL 269.809978 84.871156 \r\nL 270.580519 79.522366 \r\nL 271.35106 71.117363 \r\nL 272.121601 76.466134 \r\nL 272.892142 75.701693 \r\nL 273.662683 79.522366 \r\nL 274.433224 77.230201 \r\nL 275.203764 74.173577 \r\nL 275.974305 77.230201 \r\nL 276.744846 92.512091 \r\nL 277.515387 78.758317 \r\nL 278.285928 71.117363 \r\nL 279.056469 66.532641 \r\nL 281.368091 67.29669 \r\nL 282.138632 64.240457 \r\nL 282.909173 77.230201 \r\nL 283.679714 83.343039 \r\nL 285.220795 67.29669 \r\nL 285.991336 64.240457 \r\nL 286.761877 65.768573 \r\nL 287.532418 49.722224 \r\nL 288.302959 45.137502 \r\nL 289.0735 45.901569 \r\nL 289.844041 29.091544 \r\nL 291.385122 41.31722 \r\nL 292.155663 48.958175 \r\nL 292.926204 44.373453 \r\nL 293.696745 23.742773 \r\nL 294.467286 33.675892 \r\nL 295.237826 26.798987 \r\nL 296.008367 45.137502 \r\nL 296.778908 29.855611 \r\nL 297.549449 26.034938 \r\nL 298.31999 16.101818 \r\nL 299.090531 19.158032 \r\nL 299.861072 39.789104 \r\nL 300.631612 56.599129 \r\nL 301.402153 61.183851 \r\nL 302.172694 70.352922 \r\nL 303.713776 50.486291 \r\nL 304.484317 40.553171 \r\nL 305.254858 58.891686 \r\nL 306.025398 49.722224 \r\nL 306.795939 52.01478 \r\nL 307.56648 58.127246 \r\nL 308.337021 38.260614 \r\nL 309.107562 35.204382 \r\nL 309.878103 53.542897 \r\nL 310.648644 61.183851 \r\nL 311.419184 80.286415 \r\nL 312.189725 74.937644 \r\nL 314.501348 47.430058 \r\nL 315.271889 50.486291 \r\nL 316.042429 54.306964 \r\nL 316.81297 48.958175 \r\nL 317.583511 59.655735 \r\nL 318.354052 61.183851 \r\nL 319.124593 58.127246 \r\nL 319.895134 59.655735 \r\nL 320.665675 74.173577 \r\nL 321.436215 71.117363 \r\nL 322.206756 62.711968 \r\nL 322.977297 76.466134 \r\nL 323.747838 84.871156 \r\nL 324.518379 85.635204 \r\nL 325.28892 74.937644 \r\nL 326.059461 68.060738 \r\nL 326.830001 71.117363 \r\nL 327.600542 80.286415 \r\nL 328.371083 81.814531 \r\nL 329.141624 89.455878 \r\nL 329.912165 84.871156 \r\nL 331.453247 62.711968 \r\nL 332.223787 76.466134 \r\nL 332.994328 70.352922 \r\nL 333.764869 81.814531 \r\nL 334.53541 77.99425 \r\nL 335.305951 78.758317 \r\nL 336.076492 90.219926 \r\nL 336.847032 92.512091 \r\nL 337.617573 81.050482 \r\nL 338.388114 67.29669 \r\nL 339.158655 75.701693 \r\nL 339.929196 88.69181 \r\nL 340.699737 88.69181 \r\nL 341.470278 107.794392 \r\nL 343.011359 90.219926 \r\nL 343.7819 93.276159 \r\nL 344.552441 108.558441 \r\nL 345.322982 104.737777 \r\nL 346.864064 110.850616 \r\nL 347.634604 103.973719 \r\nL 348.405145 102.445603 \r\nL 349.175686 108.558441 \r\nL 349.946227 116.963454 \r\nL 350.716768 109.322499 \r\nL 351.487309 110.850616 \r\nL 352.25785 113.907231 \r\nL 353.02839 113.143173 \r\nL 353.798931 114.67128 \r\nL 354.569472 115.435338 \r\nL 355.340013 112.378723 \r\nL 356.110554 120.784118 \r\nL 356.110554 120.784118 \r\n\" style=\"fill:none;stroke:#1f77b4;stroke-linecap:square;stroke-width:1.5;\"/>\r\n   </g>\r\n   <g id=\"line2d_13\">\r\n    <path clip-path=\"url(#p15ad7323df)\" d=\"M 51.746917 188.412614 \r\nL 67.157734 179.180126 \r\nL 79.486388 172.142635 \r\nL 92.585583 162.717446 \r\nL 106.455318 166.08071 \r\nL 120.325053 176.622525 \r\nL 134.194789 177.108924 \r\nL 148.064524 180.969906 \r\nL 161.163718 179.58058 \r\nL 168.098586 174.286028 \r\nL 175.803995 167.769996 \r\nL 189.67373 152.634061 \r\nL 204.314006 147.597032 \r\nL 217.4132 144.536052 \r\nL 231.282936 131.22591 \r\nL 245.152671 109.571869 \r\nL 259.022406 100.560506 \r\nL 272.892142 79.690801 \r\nL 286.761877 63.199234 \r\nL 300.631612 69.533729 \r\nL 314.501348 88.196261 \r\nL 328.371083 95.737356 \r\nL 343.011359 111.417081 \r\nL 356.110554 123.550435 \r\nL 356.110554 123.550435 \r\n\" style=\"fill:none;stroke:#ff7f0e;stroke-linecap:square;stroke-width:1.5;\"/>\r\n   </g>\r\n   <g id=\"line2d_14\">\r\n    <path clip-path=\"url(#p15ad7323df)\" d=\"M 51.746917 188.357206 \r\nL 67.157734 178.478443 \r\nL 78.715847 171.54156 \r\nL 92.585583 160.863373 \r\nL 106.455318 164.462071 \r\nL 120.325053 175.741813 \r\nL 134.194789 176.262257 \r\nL 148.064524 180.393507 \r\nL 161.163718 178.906931 \r\nL 168.098586 173.241759 \r\nL 175.803995 166.2696 \r\nL 189.67373 150.074151 \r\nL 204.314006 144.684533 \r\nL 217.4132 141.409285 \r\nL 231.282936 127.167433 \r\nL 245.152671 103.997607 \r\nL 259.022406 94.355448 \r\nL 272.892142 72.024868 \r\nL 286.761877 54.378897 \r\nL 300.631612 61.156802 \r\nL 314.501348 81.125718 \r\nL 328.371083 89.194672 \r\nL 343.011359 105.971988 \r\nL 356.110554 118.954678 \r\nL 356.110554 118.954678 \r\n\" style=\"fill:none;stroke:#2ca02c;stroke-linecap:square;stroke-width:1.5;\"/>\r\n   </g>\r\n   <g id=\"patch_3\">\r\n    <path d=\"M 36.528736 203.04 \r\nL 36.528736 7.2 \r\n\" style=\"fill:none;stroke:#000000;stroke-linecap:square;stroke-linejoin:miter;stroke-width:0.8;\"/>\r\n   </g>\r\n   <g id=\"patch_4\">\r\n    <path d=\"M 371.328736 203.04 \r\nL 371.328736 7.2 \r\n\" style=\"fill:none;stroke:#000000;stroke-linecap:square;stroke-linejoin:miter;stroke-width:0.8;\"/>\r\n   </g>\r\n   <g id=\"patch_5\">\r\n    <path d=\"M 36.528736 203.04 \r\nL 371.328736 203.04 \r\n\" style=\"fill:none;stroke:#000000;stroke-linecap:square;stroke-linejoin:miter;stroke-width:0.8;\"/>\r\n   </g>\r\n   <g id=\"patch_6\">\r\n    <path d=\"M 36.528736 7.2 \r\nL 371.328736 7.2 \r\n\" style=\"fill:none;stroke:#000000;stroke-linecap:square;stroke-linejoin:miter;stroke-width:0.8;\"/>\r\n   </g>\r\n   <g id=\"legend_1\">\r\n    <g id=\"patch_7\">\r\n     <path d=\"M 43.528736 59.790625 \r\nL 136.424048 59.790625 \r\nQ 138.424048 59.790625 138.424048 57.790625 \r\nL 138.424048 14.2 \r\nQ 138.424048 12.2 136.424048 12.2 \r\nL 43.528736 12.2 \r\nQ 41.528736 12.2 41.528736 14.2 \r\nL 41.528736 57.790625 \r\nQ 41.528736 59.790625 43.528736 59.790625 \r\nz\r\n\" style=\"fill:#ffffff;opacity:0.8;stroke:#cccccc;stroke-linejoin:miter;\"/>\r\n    </g>\r\n    <g id=\"line2d_15\">\r\n     <path d=\"M 45.528736 20.298437 \r\nL 65.528736 20.298437 \r\n\" style=\"fill:none;stroke:#1f77b4;stroke-linecap:square;stroke-width:1.5;\"/>\r\n    </g>\r\n    <g id=\"line2d_16\"/>\r\n    <g id=\"text_12\">\r\n     <!-- Observation -->\r\n     <g transform=\"translate(73.528736 23.798437)scale(0.1 -0.1)\">\r\n      <defs>\r\n       <path d=\"M 39.40625 66.21875 \r\nQ 28.65625 66.21875 22.328125 58.203125 \r\nQ 16.015625 50.203125 16.015625 36.375 \r\nQ 16.015625 22.609375 22.328125 14.59375 \r\nQ 28.65625 6.59375 39.40625 6.59375 \r\nQ 50.140625 6.59375 56.421875 14.59375 \r\nQ 62.703125 22.609375 62.703125 36.375 \r\nQ 62.703125 50.203125 56.421875 58.203125 \r\nQ 50.140625 66.21875 39.40625 66.21875 \r\nz\r\nM 39.40625 74.21875 \r\nQ 54.734375 74.21875 63.90625 63.9375 \r\nQ 73.09375 53.65625 73.09375 36.375 \r\nQ 73.09375 19.140625 63.90625 8.859375 \r\nQ 54.734375 -1.421875 39.40625 -1.421875 \r\nQ 24.03125 -1.421875 14.8125 8.828125 \r\nQ 5.609375 19.09375 5.609375 36.375 \r\nQ 5.609375 53.65625 14.8125 63.9375 \r\nQ 24.03125 74.21875 39.40625 74.21875 \r\nz\r\n\" id=\"DejaVuSans-79\"/>\r\n       <path d=\"M 48.6875 27.296875 \r\nQ 48.6875 37.203125 44.609375 42.84375 \r\nQ 40.53125 48.484375 33.40625 48.484375 \r\nQ 26.265625 48.484375 22.1875 42.84375 \r\nQ 18.109375 37.203125 18.109375 27.296875 \r\nQ 18.109375 17.390625 22.1875 11.75 \r\nQ 26.265625 6.109375 33.40625 6.109375 \r\nQ 40.53125 6.109375 44.609375 11.75 \r\nQ 48.6875 17.390625 48.6875 27.296875 \r\nz\r\nM 18.109375 46.390625 \r\nQ 20.953125 51.265625 25.265625 53.625 \r\nQ 29.59375 56 35.59375 56 \r\nQ 45.5625 56 51.78125 48.09375 \r\nQ 58.015625 40.1875 58.015625 27.296875 \r\nQ 58.015625 14.40625 51.78125 6.484375 \r\nQ 45.5625 -1.421875 35.59375 -1.421875 \r\nQ 29.59375 -1.421875 25.265625 0.953125 \r\nQ 20.953125 3.328125 18.109375 8.203125 \r\nL 18.109375 0 \r\nL 9.078125 0 \r\nL 9.078125 75.984375 \r\nL 18.109375 75.984375 \r\nz\r\n\" id=\"DejaVuSans-98\"/>\r\n       <path d=\"M 44.28125 53.078125 \r\nL 44.28125 44.578125 \r\nQ 40.484375 46.53125 36.375 47.5 \r\nQ 32.28125 48.484375 27.875 48.484375 \r\nQ 21.1875 48.484375 17.84375 46.4375 \r\nQ 14.5 44.390625 14.5 40.28125 \r\nQ 14.5 37.15625 16.890625 35.375 \r\nQ 19.28125 33.59375 26.515625 31.984375 \r\nL 29.59375 31.296875 \r\nQ 39.15625 29.25 43.1875 25.515625 \r\nQ 47.21875 21.78125 47.21875 15.09375 \r\nQ 47.21875 7.46875 41.1875 3.015625 \r\nQ 35.15625 -1.421875 24.609375 -1.421875 \r\nQ 20.21875 -1.421875 15.453125 -0.5625 \r\nQ 10.6875 0.296875 5.421875 2 \r\nL 5.421875 11.28125 \r\nQ 10.40625 8.6875 15.234375 7.390625 \r\nQ 20.0625 6.109375 24.8125 6.109375 \r\nQ 31.15625 6.109375 34.5625 8.28125 \r\nQ 37.984375 10.453125 37.984375 14.40625 \r\nQ 37.984375 18.0625 35.515625 20.015625 \r\nQ 33.0625 21.96875 24.703125 23.78125 \r\nL 21.578125 24.515625 \r\nQ 13.234375 26.265625 9.515625 29.90625 \r\nQ 5.8125 33.546875 5.8125 39.890625 \r\nQ 5.8125 47.609375 11.28125 51.796875 \r\nQ 16.75 56 26.8125 56 \r\nQ 31.78125 56 36.171875 55.265625 \r\nQ 40.578125 54.546875 44.28125 53.078125 \r\nz\r\n\" id=\"DejaVuSans-115\"/>\r\n       <path d=\"M 56.203125 29.59375 \r\nL 56.203125 25.203125 \r\nL 14.890625 25.203125 \r\nQ 15.484375 15.921875 20.484375 11.0625 \r\nQ 25.484375 6.203125 34.421875 6.203125 \r\nQ 39.59375 6.203125 44.453125 7.46875 \r\nQ 49.3125 8.734375 54.109375 11.28125 \r\nL 54.109375 2.78125 \r\nQ 49.265625 0.734375 44.1875 -0.34375 \r\nQ 39.109375 -1.421875 33.890625 -1.421875 \r\nQ 20.796875 -1.421875 13.15625 6.1875 \r\nQ 5.515625 13.8125 5.515625 26.8125 \r\nQ 5.515625 40.234375 12.765625 48.109375 \r\nQ 20.015625 56 32.328125 56 \r\nQ 43.359375 56 49.78125 48.890625 \r\nQ 56.203125 41.796875 56.203125 29.59375 \r\nz\r\nM 47.21875 32.234375 \r\nQ 47.125 39.59375 43.09375 43.984375 \r\nQ 39.0625 48.390625 32.421875 48.390625 \r\nQ 24.90625 48.390625 20.390625 44.140625 \r\nQ 15.875 39.890625 15.1875 32.171875 \r\nz\r\n\" id=\"DejaVuSans-101\"/>\r\n       <path d=\"M 41.109375 46.296875 \r\nQ 39.59375 47.171875 37.8125 47.578125 \r\nQ 36.03125 48 33.890625 48 \r\nQ 26.265625 48 22.1875 43.046875 \r\nQ 18.109375 38.09375 18.109375 28.8125 \r\nL 18.109375 0 \r\nL 9.078125 0 \r\nL 9.078125 54.6875 \r\nL 18.109375 54.6875 \r\nL 18.109375 46.1875 \r\nQ 20.953125 51.171875 25.484375 53.578125 \r\nQ 30.03125 56 36.53125 56 \r\nQ 37.453125 56 38.578125 55.875 \r\nQ 39.703125 55.765625 41.0625 55.515625 \r\nz\r\n\" id=\"DejaVuSans-114\"/>\r\n       <path d=\"M 2.984375 54.6875 \r\nL 12.5 54.6875 \r\nL 29.59375 8.796875 \r\nL 46.6875 54.6875 \r\nL 56.203125 54.6875 \r\nL 35.6875 0 \r\nL 23.484375 0 \r\nz\r\n\" id=\"DejaVuSans-118\"/>\r\n       <path d=\"M 34.28125 27.484375 \r\nQ 23.390625 27.484375 19.1875 25 \r\nQ 14.984375 22.515625 14.984375 16.5 \r\nQ 14.984375 11.71875 18.140625 8.90625 \r\nQ 21.296875 6.109375 26.703125 6.109375 \r\nQ 34.1875 6.109375 38.703125 11.40625 \r\nQ 43.21875 16.703125 43.21875 25.484375 \r\nL 43.21875 27.484375 \r\nz\r\nM 52.203125 31.203125 \r\nL 52.203125 0 \r\nL 43.21875 0 \r\nL 43.21875 8.296875 \r\nQ 40.140625 3.328125 35.546875 0.953125 \r\nQ 30.953125 -1.421875 24.3125 -1.421875 \r\nQ 15.921875 -1.421875 10.953125 3.296875 \r\nQ 6 8.015625 6 15.921875 \r\nQ 6 25.140625 12.171875 29.828125 \r\nQ 18.359375 34.515625 30.609375 34.515625 \r\nL 43.21875 34.515625 \r\nL 43.21875 35.40625 \r\nQ 43.21875 41.609375 39.140625 45 \r\nQ 35.0625 48.390625 27.6875 48.390625 \r\nQ 23 48.390625 18.546875 47.265625 \r\nQ 14.109375 46.140625 10.015625 43.890625 \r\nL 10.015625 52.203125 \r\nQ 14.9375 54.109375 19.578125 55.046875 \r\nQ 24.21875 56 28.609375 56 \r\nQ 40.484375 56 46.34375 49.84375 \r\nQ 52.203125 43.703125 52.203125 31.203125 \r\nz\r\n\" id=\"DejaVuSans-97\"/>\r\n       <path d=\"M 18.3125 70.21875 \r\nL 18.3125 54.6875 \r\nL 36.8125 54.6875 \r\nL 36.8125 47.703125 \r\nL 18.3125 47.703125 \r\nL 18.3125 18.015625 \r\nQ 18.3125 11.328125 20.140625 9.421875 \r\nQ 21.96875 7.515625 27.59375 7.515625 \r\nL 36.8125 7.515625 \r\nL 36.8125 0 \r\nL 27.59375 0 \r\nQ 17.1875 0 13.234375 3.875 \r\nQ 9.28125 7.765625 9.28125 18.015625 \r\nL 9.28125 47.703125 \r\nL 2.6875 47.703125 \r\nL 2.6875 54.6875 \r\nL 9.28125 54.6875 \r\nL 9.28125 70.21875 \r\nz\r\n\" id=\"DejaVuSans-116\"/>\r\n       <path d=\"M 9.421875 54.6875 \r\nL 18.40625 54.6875 \r\nL 18.40625 0 \r\nL 9.421875 0 \r\nz\r\nM 9.421875 75.984375 \r\nL 18.40625 75.984375 \r\nL 18.40625 64.59375 \r\nL 9.421875 64.59375 \r\nz\r\n\" id=\"DejaVuSans-105\"/>\r\n       <path d=\"M 30.609375 48.390625 \r\nQ 23.390625 48.390625 19.1875 42.75 \r\nQ 14.984375 37.109375 14.984375 27.296875 \r\nQ 14.984375 17.484375 19.15625 11.84375 \r\nQ 23.34375 6.203125 30.609375 6.203125 \r\nQ 37.796875 6.203125 41.984375 11.859375 \r\nQ 46.1875 17.53125 46.1875 27.296875 \r\nQ 46.1875 37.015625 41.984375 42.703125 \r\nQ 37.796875 48.390625 30.609375 48.390625 \r\nz\r\nM 30.609375 56 \r\nQ 42.328125 56 49.015625 48.375 \r\nQ 55.71875 40.765625 55.71875 27.296875 \r\nQ 55.71875 13.875 49.015625 6.21875 \r\nQ 42.328125 -1.421875 30.609375 -1.421875 \r\nQ 18.84375 -1.421875 12.171875 6.21875 \r\nQ 5.515625 13.875 5.515625 27.296875 \r\nQ 5.515625 40.765625 12.171875 48.375 \r\nQ 18.84375 56 30.609375 56 \r\nz\r\n\" id=\"DejaVuSans-111\"/>\r\n       <path d=\"M 54.890625 33.015625 \r\nL 54.890625 0 \r\nL 45.90625 0 \r\nL 45.90625 32.71875 \r\nQ 45.90625 40.484375 42.875 44.328125 \r\nQ 39.84375 48.1875 33.796875 48.1875 \r\nQ 26.515625 48.1875 22.3125 43.546875 \r\nQ 18.109375 38.921875 18.109375 30.90625 \r\nL 18.109375 0 \r\nL 9.078125 0 \r\nL 9.078125 54.6875 \r\nL 18.109375 54.6875 \r\nL 18.109375 46.1875 \r\nQ 21.34375 51.125 25.703125 53.5625 \r\nQ 30.078125 56 35.796875 56 \r\nQ 45.21875 56 50.046875 50.171875 \r\nQ 54.890625 44.34375 54.890625 33.015625 \r\nz\r\n\" id=\"DejaVuSans-110\"/>\r\n      </defs>\r\n      <use xlink:href=\"#DejaVuSans-79\"/>\r\n      <use x=\"78.710938\" xlink:href=\"#DejaVuSans-98\"/>\r\n      <use x=\"142.1875\" xlink:href=\"#DejaVuSans-115\"/>\r\n      <use x=\"194.287109\" xlink:href=\"#DejaVuSans-101\"/>\r\n      <use x=\"255.810547\" xlink:href=\"#DejaVuSans-114\"/>\r\n      <use x=\"296.923828\" xlink:href=\"#DejaVuSans-118\"/>\r\n      <use x=\"356.103516\" xlink:href=\"#DejaVuSans-97\"/>\r\n      <use x=\"417.382812\" xlink:href=\"#DejaVuSans-116\"/>\r\n      <use x=\"456.591797\" xlink:href=\"#DejaVuSans-105\"/>\r\n      <use x=\"484.375\" xlink:href=\"#DejaVuSans-111\"/>\r\n      <use x=\"545.556641\" xlink:href=\"#DejaVuSans-110\"/>\r\n     </g>\r\n    </g>\r\n    <g id=\"line2d_17\">\r\n     <path d=\"M 45.528736 34.976562 \r\nL 65.528736 34.976562 \r\n\" style=\"fill:none;stroke:#ff7f0e;stroke-linecap:square;stroke-width:1.5;\"/>\r\n    </g>\r\n    <g id=\"line2d_18\"/>\r\n    <g id=\"text_13\">\r\n     <!-- SW_1 -->\r\n     <g transform=\"translate(73.528736 38.476562)scale(0.1 -0.1)\">\r\n      <defs>\r\n       <path d=\"M 53.515625 70.515625 \r\nL 53.515625 60.890625 \r\nQ 47.90625 63.578125 42.921875 64.890625 \r\nQ 37.9375 66.21875 33.296875 66.21875 \r\nQ 25.25 66.21875 20.875 63.09375 \r\nQ 16.5 59.96875 16.5 54.203125 \r\nQ 16.5 49.359375 19.40625 46.890625 \r\nQ 22.3125 44.4375 30.421875 42.921875 \r\nL 36.375 41.703125 \r\nQ 47.40625 39.59375 52.65625 34.296875 \r\nQ 57.90625 29 57.90625 20.125 \r\nQ 57.90625 9.515625 50.796875 4.046875 \r\nQ 43.703125 -1.421875 29.984375 -1.421875 \r\nQ 24.8125 -1.421875 18.96875 -0.25 \r\nQ 13.140625 0.921875 6.890625 3.21875 \r\nL 6.890625 13.375 \r\nQ 12.890625 10.015625 18.65625 8.296875 \r\nQ 24.421875 6.59375 29.984375 6.59375 \r\nQ 38.421875 6.59375 43.015625 9.90625 \r\nQ 47.609375 13.234375 47.609375 19.390625 \r\nQ 47.609375 24.75 44.3125 27.78125 \r\nQ 41.015625 30.8125 33.5 32.328125 \r\nL 27.484375 33.5 \r\nQ 16.453125 35.6875 11.515625 40.375 \r\nQ 6.59375 45.0625 6.59375 53.421875 \r\nQ 6.59375 63.09375 13.40625 68.65625 \r\nQ 20.21875 74.21875 32.171875 74.21875 \r\nQ 37.3125 74.21875 42.625 73.28125 \r\nQ 47.953125 72.359375 53.515625 70.515625 \r\nz\r\n\" id=\"DejaVuSans-83\"/>\r\n       <path d=\"M 3.328125 72.90625 \r\nL 13.28125 72.90625 \r\nL 28.609375 11.28125 \r\nL 43.890625 72.90625 \r\nL 54.984375 72.90625 \r\nL 70.3125 11.28125 \r\nL 85.59375 72.90625 \r\nL 95.609375 72.90625 \r\nL 77.296875 0 \r\nL 64.890625 0 \r\nL 49.515625 63.28125 \r\nL 33.984375 0 \r\nL 21.578125 0 \r\nz\r\n\" id=\"DejaVuSans-87\"/>\r\n       <path d=\"M 50.984375 -16.609375 \r\nL 50.984375 -23.578125 \r\nL -0.984375 -23.578125 \r\nL -0.984375 -16.609375 \r\nz\r\n\" id=\"DejaVuSans-95\"/>\r\n      </defs>\r\n      <use xlink:href=\"#DejaVuSans-83\"/>\r\n      <use x=\"63.476562\" xlink:href=\"#DejaVuSans-87\"/>\r\n      <use x=\"162.353516\" xlink:href=\"#DejaVuSans-95\"/>\r\n      <use x=\"212.353516\" xlink:href=\"#DejaVuSans-49\"/>\r\n     </g>\r\n    </g>\r\n    <g id=\"line2d_19\">\r\n     <path d=\"M 45.528736 49.932812 \r\nL 65.528736 49.932812 \r\n\" style=\"fill:none;stroke:#2ca02c;stroke-linecap:square;stroke-width:1.5;\"/>\r\n    </g>\r\n    <g id=\"line2d_20\"/>\r\n    <g id=\"text_14\">\r\n     <!-- SW_2 -->\r\n     <g transform=\"translate(73.528736 53.432812)scale(0.1 -0.1)\">\r\n      <use xlink:href=\"#DejaVuSans-83\"/>\r\n      <use x=\"63.476562\" xlink:href=\"#DejaVuSans-87\"/>\r\n      <use x=\"162.353516\" xlink:href=\"#DejaVuSans-95\"/>\r\n      <use x=\"212.353516\" xlink:href=\"#DejaVuSans-50\"/>\r\n     </g>\r\n    </g>\r\n   </g>\r\n  </g>\r\n </g>\r\n <defs>\r\n  <clipPath id=\"p15ad7323df\">\r\n   <rect height=\"195.84\" width=\"334.8\" x=\"36.528736\" y=\"7.2\"/>\r\n  </clipPath>\r\n </defs>\r\n</svg>\r\n",
      "image/png": "[encoded data removed]"
     },
     "metadata": {
      "needs_background": "light"
     }
    }
   ],
   "source": [
    "mmc.df.plot()"
   ]
  },
  {
   "cell_type": "code",
   "execution_count": 20,
   "metadata": {},
   "outputs": [
    {
     "output_type": "execute_result",
     "data": {
      "text/plain": [
       "                         SW_1\n",
       "2017-10-27 00:00:00  1.579729\n",
       "2017-10-27 03:00:00  1.794510\n",
       "2017-10-27 06:00:00  1.993366\n",
       "2017-10-27 09:00:00  2.248454\n",
       "2017-10-27 12:00:00  2.162486"
      ],
      "text/html": "<div>\n<style scoped>\n    .dataframe tbody tr th:only-of-type {\n        vertical-align: middle;\n    }\n\n    .dataframe tbody tr th {\n        vertical-align: top;\n    }\n\n    .dataframe thead th {\n        text-align: right;\n    }\n</style>\n<table border=\"1\" class=\"dataframe\">\n  <thead>\n    <tr style=\"text-align: right;\">\n      <th></th>\n      <th>SW_1</th>\n    </tr>\n  </thead>\n  <tbody>\n    <tr>\n      <th>2017-10-27 00:00:00</th>\n      <td>1.579729</td>\n    </tr>\n    <tr>\n      <th>2017-10-27 03:00:00</th>\n      <td>1.794510</td>\n    </tr>\n    <tr>\n      <th>2017-10-27 06:00:00</th>\n      <td>1.993366</td>\n    </tr>\n    <tr>\n      <th>2017-10-27 09:00:00</th>\n      <td>2.248454</td>\n    </tr>\n    <tr>\n      <th>2017-10-27 12:00:00</th>\n      <td>2.162486</td>\n    </tr>\n  </tbody>\n</table>\n</div>"
     },
     "metadata": {},
     "execution_count": 20
    }
   ],
   "source": [
    "mmc.mod_data[mmc.mod_names[0]].head()"
   ]
  },
  {
   "cell_type": "code",
   "execution_count": 21,
   "metadata": {},
   "outputs": [
    {
     "output_type": "display_data",
     "data": {
      "application/vnd.plotly.v1+json": {
       "config": {
        "plotlyServerURL": "https://plot.ly"
       },
       "data": [
        {
         "line": {
          "color": "#004165"
         },
         "name": "SW_1",
         "type": "scatter",
         "x": [
          "2017-10-27T00:00:00",
          "2017-10-27T03:00:00",
          "2017-10-27T06:00:00",
          "2017-10-27T09:00:00",
          "2017-10-27T12:00:00",
          "2017-10-27T15:00:00",
          "2017-10-27T18:00:00",
          "2017-10-27T21:00:00",
          "2017-10-28T00:00:00",
          "2017-10-28T03:00:00",
          "2017-10-28T06:00:00",
          "2017-10-28T09:00:00",
          "2017-10-28T12:00:00",
          "2017-10-28T15:00:00",
          "2017-10-28T18:00:00",
          "2017-10-28T21:00:00",
          "2017-10-29T00:00:00",
          "2017-10-29T03:00:00",
          "2017-10-29T06:00:00",
          "2017-10-29T09:00:00",
          "2017-10-29T12:00:00",
          "2017-10-29T15:00:00",
          "2017-10-29T18:00:00"
         ],
         "y": [
          1.5797287225723267,
          1.7945095300674438,
          1.9933656454086304,
          2.2484540939331055,
          2.1624858379364014,
          1.8930269479751587,
          1.8805941343307495,
          1.7819037437438965,
          1.819505214691162,
          2.1193060874938965,
          2.506195068359375,
          2.6303439140319824,
          2.7131879329681396,
          3.053407907485962,
          3.606905937194824,
          3.837244987487793,
          4.370694637298584,
          4.792234897613525,
          4.630319118499756,
          4.153286933898926,
          3.960529327392578,
          3.577984094619751,
          3.249600410461426
         ]
        },
        {
         "line": {
          "color": "#63CEFF"
         },
         "name": "SW_2",
         "type": "scatter",
         "x": [
          "2017-10-27T00:00:00",
          "2017-10-27T03:00:00",
          "2017-10-27T06:00:00",
          "2017-10-27T09:00:00",
          "2017-10-27T12:00:00",
          "2017-10-27T15:00:00",
          "2017-10-27T18:00:00",
          "2017-10-27T21:00:00",
          "2017-10-28T00:00:00",
          "2017-10-28T03:00:00",
          "2017-10-28T06:00:00",
          "2017-10-28T09:00:00",
          "2017-10-28T12:00:00",
          "2017-10-28T15:00:00",
          "2017-10-28T18:00:00",
          "2017-10-28T21:00:00",
          "2017-10-29T00:00:00",
          "2017-10-29T03:00:00",
          "2017-10-29T06:00:00",
          "2017-10-29T09:00:00",
          "2017-10-29T12:00:00",
          "2017-10-29T15:00:00",
          "2017-10-29T18:00:00"
         ],
         "y": [
          1.5803097486495972,
          1.8101252317428589,
          2.0229012966156006,
          2.2958459854125977,
          2.203859806060791,
          1.9155387878417969,
          1.902235746383667,
          1.7966370582580566,
          1.836870551109314,
          2.1576576232910156,
          2.5716288089752197,
          2.704468011856079,
          2.7931110858917236,
          3.157146453857422,
          3.749389410018921,
          3.99585223197937,
          4.566643238067627,
          5.017691135406494,
          4.8444414138793945,
          4.334016799926758,
          4.1277666091918945,
          3.718442916870117,
          3.367072343826294
         ]
        },
        {
         "marker": {
          "color": "#d62728"
         },
         "mode": "markers",
         "name": "Observation",
         "type": "scatter",
         "x": [
          "2017-10-27T00:10:00",
          "2017-10-27T00:19:59.999994",
          "2017-10-27T00:29:59.999999",
          "2017-10-27T00:39:59.999993",
          "2017-10-27T00:49:59.999998",
          "2017-10-27T00:59:59.999992",
          "2017-10-27T01:09:59.999997",
          "2017-10-27T01:19:59.999991",
          "2017-10-27T01:29:59.999996",
          "2017-10-27T01:40:00",
          "2017-10-27T01:49:59.999994",
          "2017-10-27T01:59:59.999999",
          "2017-10-27T02:09:59.999993",
          "2017-10-27T02:19:59.999998",
          "2017-10-27T02:29:59.999992",
          "2017-10-27T02:39:59.999997",
          "2017-10-27T02:49:59.999991",
          "2017-10-27T02:59:59.999996",
          "2017-10-27T03:10:00",
          "2017-10-27T03:19:59.999994",
          "2017-10-27T03:29:59.999999",
          "2017-10-27T03:39:59.999993",
          "2017-10-27T03:49:59.999998",
          "2017-10-27T03:59:59.999992",
          "2017-10-27T04:09:59.999997",
          "2017-10-27T04:19:59.999991",
          "2017-10-27T04:29:59.999996",
          "2017-10-27T04:40:00",
          "2017-10-27T04:49:59.999994",
          "2017-10-27T04:59:59.999999",
          "2017-10-27T05:09:59.999993",
          "2017-10-27T05:19:59.999998",
          "2017-10-27T05:29:59.999992",
          "2017-10-27T05:39:59.999997",
          "2017-10-27T05:49:59.999991",
          "2017-10-27T05:59:59.999996",
          "2017-10-27T06:10:00",
          "2017-10-27T06:19:59.999994",
          "2017-10-27T06:29:59.999999",
          "2017-10-27T06:39:59.999993",
          "2017-10-27T06:49:59.999998",
          "2017-10-27T06:59:59.999992",
          "2017-10-27T07:09:59.999997",
          "2017-10-27T07:19:59.999991",
          "2017-10-27T07:29:59.999996",
          "2017-10-27T07:40:00",
          "2017-10-27T07:49:59.999994",
          "2017-10-27T07:59:59.999999",
          "2017-10-27T08:09:59.999993",
          "2017-10-27T08:19:59.999998",
          "2017-10-27T08:29:59.999992",
          "2017-10-27T08:39:59.999997",
          "2017-10-27T08:49:59.999991",
          "2017-10-27T08:59:59.999996",
          "2017-10-27T09:10:00",
          "2017-10-27T09:19:59.999994",
          "2017-10-27T09:29:59.999999",
          "2017-10-27T09:39:59.999993",
          "2017-10-27T09:49:59.999998",
          "2017-10-27T09:59:59.999992",
          "2017-10-27T10:09:59.999997",
          "2017-10-27T10:19:59.999991",
          "2017-10-27T10:29:59.999996",
          "2017-10-27T10:40:00",
          "2017-10-27T10:49:59.999994",
          "2017-10-27T10:59:59.999999",
          "2017-10-27T11:09:59.999993",
          "2017-10-27T11:19:59.999998",
          "2017-10-27T11:29:59.999992",
          "2017-10-27T11:39:59.999997",
          "2017-10-27T11:49:59.999991",
          "2017-10-27T11:59:59.999996",
          "2017-10-27T12:10:00",
          "2017-10-27T12:19:59.999994",
          "2017-10-27T12:29:59.999999",
          "2017-10-27T12:39:59.999993",
          "2017-10-27T12:49:59.999998",
          "2017-10-27T12:59:59.999992",
          "2017-10-27T13:09:59.999997",
          "2017-10-27T13:19:59.999991",
          "2017-10-27T13:29:59.999996",
          "2017-10-27T13:40:00",
          "2017-10-27T13:49:59.999994",
          "2017-10-27T13:59:59.999999",
          "2017-10-27T14:09:59.999993",
          "2017-10-27T14:19:59.999998",
          "2017-10-27T14:29:59.999992",
          "2017-10-27T14:39:59.999997",
          "2017-10-27T14:49:59.999991",
          "2017-10-27T14:59:59.999996",
          "2017-10-27T15:10:00",
          "2017-10-27T15:19:59.999994",
          "2017-10-27T15:29:59.999999",
          "2017-10-27T15:39:59.999993",
          "2017-10-27T15:49:59.999998",
          "2017-10-27T15:59:59.999992",
          "2017-10-27T16:09:59.999997",
          "2017-10-27T16:19:59.999991",
          "2017-10-27T16:29:59.999996",
          "2017-10-27T16:40:00",
          "2017-10-27T16:49:59.999994",
          "2017-10-27T16:59:59.999999",
          "2017-10-27T17:09:59.999993",
          "2017-10-27T17:19:59.999998",
          "2017-10-27T17:29:59.999992",
          "2017-10-27T17:39:59.999997",
          "2017-10-27T17:49:59.999991",
          "2017-10-27T17:59:59.999996",
          "2017-10-27T18:10:00",
          "2017-10-27T18:19:59.999994",
          "2017-10-27T18:29:59.999999",
          "2017-10-27T18:39:59.999993",
          "2017-10-27T18:49:59.999998",
          "2017-10-27T18:59:59.999992",
          "2017-10-27T19:09:59.999997",
          "2017-10-27T19:19:59.999991",
          "2017-10-27T19:29:59.999996",
          "2017-10-27T19:40:00",
          "2017-10-27T19:49:59.999994",
          "2017-10-27T19:59:59.999999",
          "2017-10-27T20:09:59.999993",
          "2017-10-27T20:19:59.999998",
          "2017-10-27T20:29:59.999992",
          "2017-10-27T20:39:59.999997",
          "2017-10-27T20:49:59.999991",
          "2017-10-27T20:59:59.999996",
          "2017-10-27T21:10:00",
          "2017-10-27T21:19:59.999994",
          "2017-10-27T21:29:59.999999",
          "2017-10-27T21:39:59.999993",
          "2017-10-27T21:49:59.999998",
          "2017-10-27T21:59:59.999992",
          "2017-10-27T22:09:59.999997",
          "2017-10-27T22:19:59.999991",
          "2017-10-27T22:29:59.999996",
          "2017-10-27T22:40:00",
          "2017-10-27T22:49:59.999994",
          "2017-10-27T22:59:59.999999",
          "2017-10-27T23:09:59.999993",
          "2017-10-27T23:19:59.999998",
          "2017-10-27T23:29:59.999992",
          "2017-10-27T23:39:59.999997",
          "2017-10-27T23:49:59.999991",
          "2017-10-28T01:09:59.999997",
          "2017-10-28T01:19:59.999991",
          "2017-10-28T01:29:59.999996",
          "2017-10-28T01:40:00",
          "2017-10-28T01:49:59.999994",
          "2017-10-28T01:59:59.999999",
          "2017-10-28T02:09:59.999993",
          "2017-10-28T02:19:59.999998",
          "2017-10-28T02:29:59.999992",
          "2017-10-28T02:39:59.999997",
          "2017-10-28T02:49:59.999991",
          "2017-10-28T02:59:59.999996",
          "2017-10-28T03:10:00",
          "2017-10-28T03:19:59.999994",
          "2017-10-28T03:29:59.999999",
          "2017-10-28T03:39:59.999993",
          "2017-10-28T03:49:59.999998",
          "2017-10-28T03:59:59.999992",
          "2017-10-28T04:09:59.999997",
          "2017-10-28T04:19:59.999991",
          "2017-10-28T04:29:59.999996",
          "2017-10-28T04:40:00",
          "2017-10-28T04:49:59.999994",
          "2017-10-28T04:59:59.999999",
          "2017-10-28T05:09:59.999993",
          "2017-10-28T05:19:59.999998",
          "2017-10-28T05:29:59.999992",
          "2017-10-28T05:39:59.999997",
          "2017-10-28T05:49:59.999991",
          "2017-10-28T05:59:59.999996",
          "2017-10-28T06:10:00",
          "2017-10-28T06:19:59.999994",
          "2017-10-28T06:29:59.999999",
          "2017-10-28T06:39:59.999993",
          "2017-10-28T06:49:59.999998",
          "2017-10-28T06:59:59.999992",
          "2017-10-28T07:09:59.999997",
          "2017-10-28T07:19:59.999991",
          "2017-10-28T07:29:59.999996",
          "2017-10-28T07:40:00",
          "2017-10-28T07:49:59.999994",
          "2017-10-28T07:59:59.999999",
          "2017-10-28T08:09:59.999993",
          "2017-10-28T08:19:59.999998",
          "2017-10-28T08:29:59.999992",
          "2017-10-28T08:39:59.999997",
          "2017-10-28T08:49:59.999991",
          "2017-10-28T08:59:59.999996",
          "2017-10-28T09:10:00",
          "2017-10-28T09:19:59.999994",
          "2017-10-28T09:29:59.999999",
          "2017-10-28T09:39:59.999993",
          "2017-10-28T09:49:59.999998",
          "2017-10-28T09:59:59.999992",
          "2017-10-28T10:09:59.999997",
          "2017-10-28T10:19:59.999991",
          "2017-10-28T10:29:59.999996",
          "2017-10-28T10:40:00",
          "2017-10-28T10:49:59.999994",
          "2017-10-28T10:59:59.999999",
          "2017-10-28T11:09:59.999993",
          "2017-10-28T11:19:59.999998",
          "2017-10-28T11:29:59.999992",
          "2017-10-28T11:39:59.999997",
          "2017-10-28T11:49:59.999991",
          "2017-10-28T11:59:59.999996",
          "2017-10-28T12:10:00",
          "2017-10-28T12:19:59.999994",
          "2017-10-28T12:29:59.999999",
          "2017-10-28T12:39:59.999993",
          "2017-10-28T12:49:59.999998",
          "2017-10-28T12:59:59.999992",
          "2017-10-28T13:09:59.999997",
          "2017-10-28T13:19:59.999991",
          "2017-10-28T13:29:59.999996",
          "2017-10-28T13:40:00",
          "2017-10-28T13:49:59.999994",
          "2017-10-28T13:59:59.999999",
          "2017-10-28T14:09:59.999993",
          "2017-10-28T14:19:59.999998",
          "2017-10-28T14:29:59.999992",
          "2017-10-28T14:39:59.999997",
          "2017-10-28T14:49:59.999991",
          "2017-10-28T14:59:59.999996",
          "2017-10-28T15:10:00",
          "2017-10-28T15:19:59.999994",
          "2017-10-28T15:29:59.999999",
          "2017-10-28T15:39:59.999993",
          "2017-10-28T15:49:59.999998",
          "2017-10-28T15:59:59.999992",
          "2017-10-28T16:09:59.999997",
          "2017-10-28T16:19:59.999991",
          "2017-10-28T16:29:59.999996",
          "2017-10-28T16:40:00",
          "2017-10-28T16:49:59.999994",
          "2017-10-28T16:59:59.999999",
          "2017-10-28T17:09:59.999993",
          "2017-10-28T17:19:59.999998",
          "2017-10-28T17:29:59.999992",
          "2017-10-28T17:39:59.999997",
          "2017-10-28T17:49:59.999991",
          "2017-10-28T17:59:59.999996",
          "2017-10-28T18:10:00",
          "2017-10-28T18:19:59.999994",
          "2017-10-28T18:29:59.999999",
          "2017-10-28T18:39:59.999993",
          "2017-10-28T18:49:59.999998",
          "2017-10-28T18:59:59.999992",
          "2017-10-28T19:09:59.999997",
          "2017-10-28T19:19:59.999991",
          "2017-10-28T19:29:59.999996",
          "2017-10-28T19:40:00",
          "2017-10-28T19:49:59.999994",
          "2017-10-28T19:59:59.999999",
          "2017-10-28T20:09:59.999993",
          "2017-10-28T20:19:59.999998",
          "2017-10-28T20:29:59.999992",
          "2017-10-28T20:39:59.999997",
          "2017-10-28T20:49:59.999991",
          "2017-10-28T20:59:59.999996",
          "2017-10-28T21:10:00",
          "2017-10-28T21:19:59.999994",
          "2017-10-28T21:29:59.999999",
          "2017-10-28T21:39:59.999993",
          "2017-10-28T21:49:59.999998",
          "2017-10-28T21:59:59.999992",
          "2017-10-28T22:09:59.999997",
          "2017-10-28T22:19:59.999991",
          "2017-10-28T22:29:59.999996",
          "2017-10-28T22:40:00",
          "2017-10-28T22:49:59.999994",
          "2017-10-28T22:59:59.999999",
          "2017-10-28T23:09:59.999993",
          "2017-10-28T23:19:59.999998",
          "2017-10-28T23:29:59.999992",
          "2017-10-28T23:39:59.999997",
          "2017-10-28T23:49:59.999991",
          "2017-10-28T23:59:59.999996",
          "2017-10-29T00:10:00",
          "2017-10-29T00:19:59.999994",
          "2017-10-29T00:29:59.999999",
          "2017-10-29T00:39:59.999993",
          "2017-10-29T00:49:59.999998",
          "2017-10-29T00:59:59.999992",
          "2017-10-29T01:09:59.999997",
          "2017-10-29T01:19:59.999991",
          "2017-10-29T01:49:59.999994",
          "2017-10-29T01:59:59.999999",
          "2017-10-29T02:09:59.999993",
          "2017-10-29T02:19:59.999998",
          "2017-10-29T02:29:59.999992",
          "2017-10-29T02:39:59.999997",
          "2017-10-29T02:49:59.999991",
          "2017-10-29T02:59:59.999996",
          "2017-10-29T03:10:00",
          "2017-10-29T03:19:59.999994",
          "2017-10-29T03:29:59.999999",
          "2017-10-29T03:39:59.999993",
          "2017-10-29T03:49:59.999998",
          "2017-10-29T03:59:59.999992",
          "2017-10-29T04:09:59.999997",
          "2017-10-29T04:19:59.999991",
          "2017-10-29T04:29:59.999996",
          "2017-10-29T04:40:00",
          "2017-10-29T04:49:59.999994",
          "2017-10-29T04:59:59.999999",
          "2017-10-29T05:09:59.999993",
          "2017-10-29T05:19:59.999998",
          "2017-10-29T05:29:59.999992",
          "2017-10-29T05:39:59.999997",
          "2017-10-29T05:49:59.999991",
          "2017-10-29T05:59:59.999996",
          "2017-10-29T06:10:00",
          "2017-10-29T06:19:59.999994",
          "2017-10-29T06:29:59.999999",
          "2017-10-29T06:39:59.999993",
          "2017-10-29T06:49:59.999998",
          "2017-10-29T06:59:59.999992",
          "2017-10-29T07:09:59.999997",
          "2017-10-29T07:19:59.999991",
          "2017-10-29T07:29:59.999996",
          "2017-10-29T07:40:00",
          "2017-10-29T07:49:59.999994",
          "2017-10-29T07:59:59.999999",
          "2017-10-29T08:09:59.999993",
          "2017-10-29T08:19:59.999998",
          "2017-10-29T08:29:59.999992",
          "2017-10-29T08:39:59.999997",
          "2017-10-29T08:49:59.999991",
          "2017-10-29T08:59:59.999996",
          "2017-10-29T09:10:00",
          "2017-10-29T09:19:59.999994",
          "2017-10-29T09:29:59.999999",
          "2017-10-29T09:39:59.999993",
          "2017-10-29T09:49:59.999998",
          "2017-10-29T09:59:59.999992",
          "2017-10-29T10:09:59.999997",
          "2017-10-29T10:19:59.999991",
          "2017-10-29T10:29:59.999996",
          "2017-10-29T10:40:00",
          "2017-10-29T10:49:59.999994",
          "2017-10-29T10:59:59.999999",
          "2017-10-29T11:09:59.999993",
          "2017-10-29T11:19:59.999998",
          "2017-10-29T11:29:59.999992",
          "2017-10-29T11:39:59.999997",
          "2017-10-29T11:49:59.999991",
          "2017-10-29T11:59:59.999996",
          "2017-10-29T12:10:00",
          "2017-10-29T12:19:59.999994",
          "2017-10-29T12:29:59.999999",
          "2017-10-29T12:39:59.999993",
          "2017-10-29T12:49:59.999998",
          "2017-10-29T12:59:59.999992",
          "2017-10-29T13:09:59.999997",
          "2017-10-29T13:19:59.999991",
          "2017-10-29T13:29:59.999996",
          "2017-10-29T13:40:00",
          "2017-10-29T13:49:59.999994",
          "2017-10-29T13:59:59.999999",
          "2017-10-29T14:09:59.999993",
          "2017-10-29T14:19:59.999998",
          "2017-10-29T14:29:59.999992",
          "2017-10-29T14:39:59.999997",
          "2017-10-29T14:49:59.999991",
          "2017-10-29T15:10:00",
          "2017-10-29T15:19:59.999994",
          "2017-10-29T15:29:59.999999",
          "2017-10-29T15:39:59.999993",
          "2017-10-29T15:59:59.999992",
          "2017-10-29T16:09:59.999997",
          "2017-10-29T16:19:59.999991",
          "2017-10-29T16:29:59.999996",
          "2017-10-29T16:40:00",
          "2017-10-29T16:49:59.999994",
          "2017-10-29T16:59:59.999999",
          "2017-10-29T17:09:59.999993",
          "2017-10-29T17:19:59.999998",
          "2017-10-29T17:29:59.999992",
          "2017-10-29T17:39:59.999997",
          "2017-10-29T17:49:59.999991",
          "2017-10-29T17:59:59.999996"
         ],
         "y": [
          1.464840054512024,
          1.503909945487976,
          1.4453099966049194,
          1.4453099966049194,
          1.5234400033950806,
          1.5429699420928955,
          1.503909945487976,
          1.464840054512024,
          1.5234400033950806,
          1.5625,
          1.5820300579071045,
          1.660159945487976,
          1.660159945487976,
          1.621090054512024,
          1.5625,
          1.7382800579071045,
          1.777340054512024,
          1.816409945487976,
          1.7382800579071045,
          1.71875,
          1.7578099966049194,
          1.71875,
          1.816409945487976,
          1.933590054512024,
          1.9531199932098389,
          1.8554699420928955,
          1.816409945487976,
          1.933590054512024,
          1.972659945487976,
          2.0507800579071045,
          1.875,
          1.9921900033950806,
          2.0898399353027344,
          2.265619993209839,
          2.2851600646972656,
          2.109380006790161,
          2.148439884185791,
          2.382810115814209,
          2.4023399353027344,
          2.34375,
          2.4804699420928955,
          2.6367199420928955,
          2.5585899353027344,
          2.5585899353027344,
          2.5195300579071045,
          2.578119993209839,
          2.4023399353027344,
          2.5585899353027344,
          2.578119993209839,
          2.34375,
          2.4414100646972656,
          2.5195300579071045,
          2.6757800579071045,
          2.9101600646972656,
          2.6367199420928955,
          2.4414100646972656,
          2.382810115814209,
          2.34375,
          2.5585899353027344,
          2.5195300579071045,
          2.4023399353027344,
          2.5195300579071045,
          2.421880006790161,
          2.539060115814209,
          2.5,
          2.460939884185791,
          2.460939884185791,
          2.3632800579071045,
          2.382810115814209,
          2.3242199420928955,
          2.226560115814209,
          2.070310115814209,
          2.2460899353027344,
          2.4804699420928955,
          2.460939884185791,
          2.2851600646972656,
          2.0507800579071045,
          2.304689884185791,
          2.265619993209839,
          2.304689884185791,
          2.382810115814209,
          2.382810115814209,
          2.1875,
          2.2070300579071045,
          2.2460899353027344,
          2.1679699420928955,
          2.148439884185791,
          2.070310115814209,
          2.109380006790161,
          2.265619993209839,
          2.109380006790161,
          2.0898399353027344,
          2.070310115814209,
          2.109380006790161,
          2.2070300579071045,
          1.9921900033950806,
          1.9921900033950806,
          2.0507800579071045,
          2.03125,
          2.070310115814209,
          2.2070300579071045,
          2.109380006790161,
          2.0117199420928955,
          2.1289100646972656,
          2.070310115814209,
          2.03125,
          1.875,
          1.8359400033950806,
          2.0117199420928955,
          2.0117199420928955,
          1.9531199932098389,
          1.8945300579071045,
          1.9921900033950806,
          2.0117199420928955,
          2.0507800579071045,
          2.03125,
          2.0898399353027344,
          2.070310115814209,
          2.0117199420928955,
          1.875,
          1.8359400033950806,
          1.875,
          1.9531199932098389,
          2.0507800579071045,
          1.933590054512024,
          1.875,
          1.875,
          1.875,
          1.7968800067901611,
          1.7382800579071045,
          1.816409945487976,
          1.875,
          1.875,
          1.875,
          1.8554699420928955,
          1.816409945487976,
          1.8359400033950806,
          1.7578099966049194,
          1.816409945487976,
          1.8359400033950806,
          1.7968800067901611,
          1.816409945487976,
          1.816409945487976,
          2.03125,
          2.0898399353027344,
          2.0898399353027344,
          2.0117199420928955,
          2.0117199420928955,
          2.0117199420928955,
          2.109380006790161,
          2.1679699420928955,
          2.148439884185791,
          2.2070300579071045,
          2.226560115814209,
          2.1875,
          2.1289100646972656,
          2.1679699420928955,
          2.265619993209839,
          2.148439884185791,
          2.1289100646972656,
          2.1289100646972656,
          2.2460899353027344,
          2.34375,
          2.5,
          2.539060115814209,
          2.3632800579071045,
          2.4023399353027344,
          2.578119993209839,
          2.460939884185791,
          2.4023399353027344,
          2.3632800579071045,
          2.3632800579071045,
          2.148439884185791,
          2.34375,
          2.4414100646972656,
          2.6757800579071045,
          2.734380006790161,
          2.5585899353027344,
          2.5,
          2.4804699420928955,
          2.7148399353027344,
          2.734380006790161,
          2.617189884185791,
          2.695310115814209,
          2.8125,
          2.773439884185791,
          2.695310115814209,
          2.7539100646972656,
          2.7148399353027344,
          2.734380006790161,
          2.617189884185791,
          2.8320300579071045,
          2.8125,
          2.578119993209839,
          2.7929699420928955,
          2.890619993209839,
          3.2226600646972656,
          3.085939884185791,
          2.8710899353027344,
          2.929689884185791,
          2.890619993209839,
          2.929689884185791,
          2.8125,
          2.9101600646972656,
          2.96875,
          2.9492199420928955,
          2.890619993209839,
          2.9492199420928955,
          3.125,
          2.8320300579071045,
          3.0273399353027344,
          3.0273399353027344,
          2.9492199420928955,
          2.8125,
          2.851560115814209,
          2.890619993209839,
          3.125,
          3.085939884185791,
          3.0664100646972656,
          3.242189884185791,
          3.203119993209839,
          3.007810115814209,
          3.125,
          3.4179699420928955,
          3.0273399353027344,
          3.164060115814209,
          3.164060115814209,
          3.046880006790161,
          3.1445300579071045,
          3.1445300579071045,
          3.320310115814209,
          3.242189884185791,
          3.3007800579071045,
          3.359380006790161,
          3.1835899353027344,
          3.007810115814209,
          3.085939884185791,
          3.164060115814209,
          3.2617199420928955,
          3.203119993209839,
          3.242189884185791,
          3.671880006790161,
          3.5742199420928955,
          3.3789100646972656,
          3.203119993209839,
          3.3007800579071045,
          3.710939884185791,
          3.7695300579071045,
          3.7695300579071045,
          3.476560115814209,
          3.4179699420928955,
          3.671880006790161,
          3.6523399353027344,
          3.4375,
          3.4960899353027344,
          3.945310115814209,
          3.632810115814209,
          3.828119993209839,
          4.160160064697266,
          4.160160064697266,
          3.9648399353027344,
          3.7695300579071045,
          3.945310115814209,
          3.984380006790161,
          4.023439884185791,
          3.9648399353027344,
          4.023439884185791,
          4.023439884185791,
          3.9648399353027344,
          3.7304699420928955,
          3.8085899353027344,
          3.8867199420928955,
          4.511720180511475,
          4.277339935302734,
          3.945310115814209,
          4.179689884185791,
          4.238279819488525,
          4.375,
          4.589839935302734,
          4.453120231628418,
          4.472660064697266,
          4.375,
          4.433589935302734,
          4.511720180511475,
          4.433589935302734,
          4.042970180511475,
          4.394529819488525,
          4.589839935302734,
          4.707029819488525,
          4.6875,
          4.765620231628418,
          4.433589935302734,
          4.277339935302734,
          4.492189884185791,
          4.6875,
          4.765620231628418,
          4.726560115814209,
          5.136720180511475,
          5.253910064697266,
          5.234379768371582,
          5.664060115814209,
          5.507810115814209,
          5.351560115814209,
          5.15625,
          5.273439884185791,
          5.800779819488525,
          5.546879768371582,
          5.722660064697266,
          5.253910064697266,
          5.644529819488525,
          5.742189884185791,
          5.996089935302734,
          5.917970180511475,
          5.390620231628418,
          4.960939884185791,
          4.84375,
          4.609379768371582,
          4.882810115814209,
          5.117189884185791,
          5.371089935302734,
          4.902339935302734,
          5.136720180511475,
          5.078120231628418,
          4.921879768371582,
          5.429689884185791,
          5.507810115814209,
          5.039060115814209,
          4.84375,
          4.355470180511475,
          4.492189884185791,
          4.726560115814209,
          4.941410064697266,
          5.195310115814209,
          5.117189884185791,
          5.019529819488525,
          5.15625,
          4.882810115814209,
          4.84375,
          4.921879768371582,
          4.882810115814209,
          4.511720180511475,
          4.589839935302734,
          4.804689884185791,
          4.453120231628418,
          4.238279819488525,
          4.21875,
          4.492189884185791,
          4.667970180511475,
          4.589839935302734,
          4.355470180511475,
          4.316410064697266,
          4.121089935302734,
          4.238279819488525,
          4.53125,
          4.804689884185791,
          4.453120231628418,
          4.609379768371582,
          4.316410064697266,
          4.414060115814209,
          4.394529819488525,
          4.101560115814209,
          4.042970180511475,
          4.335939884185791,
          4.6875,
          4.472660064697266,
          4.140620231628418,
          4.140620231628418,
          3.6523399353027344,
          4.101560115814209,
          4.023439884185791,
          3.632810115814209,
          3.7304699420928955,
          3.5742199420928955,
          3.75,
          3.789060115814209,
          3.632810115814209,
          3.4179699420928955,
          3.6132800579071045,
          3.5742199420928955,
          3.4960899353027344,
          3.515619993209839,
          3.476560115814209,
          3.4570300579071045,
          3.5351600646972656,
          3.320310115814209
         ]
        }
       ],
       "layout": {
        "template": {
         "data": {
          "bar": [
           {
            "error_x": {
             "color": "#2a3f5f"
            },
            "error_y": {
             "color": "#2a3f5f"
            },
            "marker": {
             "line": {
              "color": "#E5ECF6",
              "width": 0.5
             }
            },
            "type": "bar"
           }
          ],
          "barpolar": [
           {
            "marker": {
             "line": {
              "color": "#E5ECF6",
              "width": 0.5
             }
            },
            "type": "barpolar"
           }
          ],
          "carpet": [
           {
            "aaxis": {
             "endlinecolor": "#2a3f5f",
             "gridcolor": "white",
             "linecolor": "white",
             "minorgridcolor": "white",
             "startlinecolor": "#2a3f5f"
            },
            "baxis": {
             "endlinecolor": "#2a3f5f",
             "gridcolor": "white",
             "linecolor": "white",
             "minorgridcolor": "white",
             "startlinecolor": "#2a3f5f"
            },
            "type": "carpet"
           }
          ],
          "choropleth": [
           {
            "colorbar": {
             "outlinewidth": 0,
             "ticks": ""
            },
            "type": "choropleth"
           }
          ],
          "contour": [
           {
            "colorbar": {
             "outlinewidth": 0,
             "ticks": ""
            },
            "colorscale": [
             [
              0,
              "#0d0887"
             ],
             [
              0.1111111111111111,
              "#46039f"
             ],
             [
              0.2222222222222222,
              "#7201a8"
             ],
             [
              0.3333333333333333,
              "#9c179e"
             ],
             [
              0.4444444444444444,
              "#bd3786"
             ],
             [
              0.5555555555555556,
              "#d8576b"
             ],
             [
              0.6666666666666666,
              "#ed7953"
             ],
             [
              0.7777777777777778,
              "#fb9f3a"
             ],
             [
              0.8888888888888888,
              "#fdca26"
             ],
             [
              1,
              "#f0f921"
             ]
            ],
            "type": "contour"
           }
          ],
          "contourcarpet": [
           {
            "colorbar": {
             "outlinewidth": 0,
             "ticks": ""
            },
            "type": "contourcarpet"
           }
          ],
          "heatmap": [
           {
            "colorbar": {
             "outlinewidth": 0,
             "ticks": ""
            },
            "colorscale": [
             [
              0,
              "#0d0887"
             ],
             [
              0.1111111111111111,
              "#46039f"
             ],
             [
              0.2222222222222222,
              "#7201a8"
             ],
             [
              0.3333333333333333,
              "#9c179e"
             ],
             [
              0.4444444444444444,
              "#bd3786"
             ],
             [
              0.5555555555555556,
              "#d8576b"
             ],
             [
              0.6666666666666666,
              "#ed7953"
             ],
             [
              0.7777777777777778,
              "#fb9f3a"
             ],
             [
              0.8888888888888888,
              "#fdca26"
             ],
             [
              1,
              "#f0f921"
             ]
            ],
            "type": "heatmap"
           }
          ],
          "heatmapgl": [
           {
            "colorbar": {
             "outlinewidth": 0,
             "ticks": ""
            },
            "colorscale": [
             [
              0,
              "#0d0887"
             ],
             [
              0.1111111111111111,
              "#46039f"
             ],
             [
              0.2222222222222222,
              "#7201a8"
             ],
             [
              0.3333333333333333,
              "#9c179e"
             ],
             [
              0.4444444444444444,
              "#bd3786"
             ],
             [
              0.5555555555555556,
              "#d8576b"
             ],
             [
              0.6666666666666666,
              "#ed7953"
             ],
             [
              0.7777777777777778,
              "#fb9f3a"
             ],
             [
              0.8888888888888888,
              "#fdca26"
             ],
             [
              1,
              "#f0f921"
             ]
            ],
            "type": "heatmapgl"
           }
          ],
          "histogram": [
           {
            "marker": {
             "colorbar": {
              "outlinewidth": 0,
              "ticks": ""
             }
            },
            "type": "histogram"
           }
          ],
          "histogram2d": [
           {
            "colorbar": {
             "outlinewidth": 0,
             "ticks": ""
            },
            "colorscale": [
             [
              0,
              "#0d0887"
             ],
             [
              0.1111111111111111,
              "#46039f"
             ],
             [
              0.2222222222222222,
              "#7201a8"
             ],
             [
              0.3333333333333333,
              "#9c179e"
             ],
             [
              0.4444444444444444,
              "#bd3786"
             ],
             [
              0.5555555555555556,
              "#d8576b"
             ],
             [
              0.6666666666666666,
              "#ed7953"
             ],
             [
              0.7777777777777778,
              "#fb9f3a"
             ],
             [
              0.8888888888888888,
              "#fdca26"
             ],
             [
              1,
              "#f0f921"
             ]
            ],
            "type": "histogram2d"
           }
          ],
          "histogram2dcontour": [
           {
            "colorbar": {
             "outlinewidth": 0,
             "ticks": ""
            },
            "colorscale": [
             [
              0,
              "#0d0887"
             ],
             [
              0.1111111111111111,
              "#46039f"
             ],
             [
              0.2222222222222222,
              "#7201a8"
             ],
             [
              0.3333333333333333,
              "#9c179e"
             ],
             [
              0.4444444444444444,
              "#bd3786"
             ],
             [
              0.5555555555555556,
              "#d8576b"
             ],
             [
              0.6666666666666666,
              "#ed7953"
             ],
             [
              0.7777777777777778,
              "#fb9f3a"
             ],
             [
              0.8888888888888888,
              "#fdca26"
             ],
             [
              1,
              "#f0f921"
             ]
            ],
            "type": "histogram2dcontour"
           }
          ],
          "mesh3d": [
           {
            "colorbar": {
             "outlinewidth": 0,
             "ticks": ""
            },
            "type": "mesh3d"
           }
          ],
          "parcoords": [
           {
            "line": {
             "colorbar": {
              "outlinewidth": 0,
              "ticks": ""
             }
            },
            "type": "parcoords"
           }
          ],
          "pie": [
           {
            "automargin": true,
            "type": "pie"
           }
          ],
          "scatter": [
           {
            "marker": {
             "colorbar": {
              "outlinewidth": 0,
              "ticks": ""
             }
            },
            "type": "scatter"
           }
          ],
          "scatter3d": [
           {
            "line": {
             "colorbar": {
              "outlinewidth": 0,
              "ticks": ""
             }
            },
            "marker": {
             "colorbar": {
              "outlinewidth": 0,
              "ticks": ""
             }
            },
            "type": "scatter3d"
           }
          ],
          "scattercarpet": [
           {
            "marker": {
             "colorbar": {
              "outlinewidth": 0,
              "ticks": ""
             }
            },
            "type": "scattercarpet"
           }
          ],
          "scattergeo": [
           {
            "marker": {
             "colorbar": {
              "outlinewidth": 0,
              "ticks": ""
             }
            },
            "type": "scattergeo"
           }
          ],
          "scattergl": [
           {
            "marker": {
             "colorbar": {
              "outlinewidth": 0,
              "ticks": ""
             }
            },
            "type": "scattergl"
           }
          ],
          "scattermapbox": [
           {
            "marker": {
             "colorbar": {
              "outlinewidth": 0,
              "ticks": ""
             }
            },
            "type": "scattermapbox"
           }
          ],
          "scatterpolar": [
           {
            "marker": {
             "colorbar": {
              "outlinewidth": 0,
              "ticks": ""
             }
            },
            "type": "scatterpolar"
           }
          ],
          "scatterpolargl": [
           {
            "marker": {
             "colorbar": {
              "outlinewidth": 0,
              "ticks": ""
             }
            },
            "type": "scatterpolargl"
           }
          ],
          "scatterternary": [
           {
            "marker": {
             "colorbar": {
              "outlinewidth": 0,
              "ticks": ""
             }
            },
            "type": "scatterternary"
           }
          ],
          "surface": [
           {
            "colorbar": {
             "outlinewidth": 0,
             "ticks": ""
            },
            "colorscale": [
             [
              0,
              "#0d0887"
             ],
             [
              0.1111111111111111,
              "#46039f"
             ],
             [
              0.2222222222222222,
              "#7201a8"
             ],
             [
              0.3333333333333333,
              "#9c179e"
             ],
             [
              0.4444444444444444,
              "#bd3786"
             ],
             [
              0.5555555555555556,
              "#d8576b"
             ],
             [
              0.6666666666666666,
              "#ed7953"
             ],
             [
              0.7777777777777778,
              "#fb9f3a"
             ],
             [
              0.8888888888888888,
              "#fdca26"
             ],
             [
              1,
              "#f0f921"
             ]
            ],
            "type": "surface"
           }
          ],
          "table": [
           {
            "cells": {
             "fill": {
              "color": "#EBF0F8"
             },
             "line": {
              "color": "white"
             }
            },
            "header": {
             "fill": {
              "color": "#C8D4E3"
             },
             "line": {
              "color": "white"
             }
            },
            "type": "table"
           }
          ]
         },
         "layout": {
          "annotationdefaults": {
           "arrowcolor": "#2a3f5f",
           "arrowhead": 0,
           "arrowwidth": 1
          },
          "autotypenumbers": "strict",
          "coloraxis": {
           "colorbar": {
            "outlinewidth": 0,
            "ticks": ""
           }
          },
          "colorscale": {
           "diverging": [
            [
             0,
             "#8e0152"
            ],
            [
             0.1,
             "#c51b7d"
            ],
            [
             0.2,
             "#de77ae"
            ],
            [
             0.3,
             "#f1b6da"
            ],
            [
             0.4,
             "#fde0ef"
            ],
            [
             0.5,
             "#f7f7f7"
            ],
            [
             0.6,
             "#e6f5d0"
            ],
            [
             0.7,
             "#b8e186"
            ],
            [
             0.8,
             "#7fbc41"
            ],
            [
             0.9,
             "#4d9221"
            ],
            [
             1,
             "#276419"
            ]
           ],
           "sequential": [
            [
             0,
             "#0d0887"
            ],
            [
             0.1111111111111111,
             "#46039f"
            ],
            [
             0.2222222222222222,
             "#7201a8"
            ],
            [
             0.3333333333333333,
             "#9c179e"
            ],
            [
             0.4444444444444444,
             "#bd3786"
            ],
            [
             0.5555555555555556,
             "#d8576b"
            ],
            [
             0.6666666666666666,
             "#ed7953"
            ],
            [
             0.7777777777777778,
             "#fb9f3a"
            ],
            [
             0.8888888888888888,
             "#fdca26"
            ],
            [
             1,
             "#f0f921"
            ]
           ],
           "sequentialminus": [
            [
             0,
             "#0d0887"
            ],
            [
             0.1111111111111111,
             "#46039f"
            ],
            [
             0.2222222222222222,
             "#7201a8"
            ],
            [
             0.3333333333333333,
             "#9c179e"
            ],
            [
             0.4444444444444444,
             "#bd3786"
            ],
            [
             0.5555555555555556,
             "#d8576b"
            ],
            [
             0.6666666666666666,
             "#ed7953"
            ],
            [
             0.7777777777777778,
             "#fb9f3a"
            ],
            [
             0.8888888888888888,
             "#fdca26"
            ],
            [
             1,
             "#f0f921"
            ]
           ]
          },
          "colorway": [
           "#636efa",
           "#EF553B",
           "#00cc96",
           "#ab63fa",
           "#FFA15A",
           "#19d3f3",
           "#FF6692",
           "#B6E880",
           "#FF97FF",
           "#FECB52"
          ],
          "font": {
           "color": "#2a3f5f"
          },
          "geo": {
           "bgcolor": "white",
           "lakecolor": "white",
           "landcolor": "#E5ECF6",
           "showlakes": true,
           "showland": true,
           "subunitcolor": "white"
          },
          "hoverlabel": {
           "align": "left"
          },
          "hovermode": "closest",
          "mapbox": {
           "style": "light"
          },
          "paper_bgcolor": "white",
          "plot_bgcolor": "#E5ECF6",
          "polar": {
           "angularaxis": {
            "gridcolor": "white",
            "linecolor": "white",
            "ticks": ""
           },
           "bgcolor": "#E5ECF6",
           "radialaxis": {
            "gridcolor": "white",
            "linecolor": "white",
            "ticks": ""
           }
          },
          "scene": {
           "xaxis": {
            "backgroundcolor": "#E5ECF6",
            "gridcolor": "white",
            "gridwidth": 2,
            "linecolor": "white",
            "showbackground": true,
            "ticks": "",
            "zerolinecolor": "white"
           },
           "yaxis": {
            "backgroundcolor": "#E5ECF6",
            "gridcolor": "white",
            "gridwidth": 2,
            "linecolor": "white",
            "showbackground": true,
            "ticks": "",
            "zerolinecolor": "white"
           },
           "zaxis": {
            "backgroundcolor": "#E5ECF6",
            "gridcolor": "white",
            "gridwidth": 2,
            "linecolor": "white",
            "showbackground": true,
            "ticks": "",
            "zerolinecolor": "white"
           }
          },
          "shapedefaults": {
           "line": {
            "color": "#2a3f5f"
           }
          },
          "ternary": {
           "aaxis": {
            "gridcolor": "white",
            "linecolor": "white",
            "ticks": ""
           },
           "baxis": {
            "gridcolor": "white",
            "linecolor": "white",
            "ticks": ""
           },
           "bgcolor": "#E5ECF6",
           "caxis": {
            "gridcolor": "white",
            "linecolor": "white",
            "ticks": ""
           }
          },
          "title": {
           "x": 0.05
          },
          "xaxis": {
           "automargin": true,
           "gridcolor": "white",
           "linecolor": "white",
           "ticks": "",
           "title": {
            "standoff": 15
           },
           "zerolinecolor": "white",
           "zerolinewidth": 2
          },
          "yaxis": {
           "automargin": true,
           "gridcolor": "white",
           "linecolor": "white",
           "ticks": "",
           "title": {
            "standoff": 15
           },
           "zerolinecolor": "white",
           "zerolinewidth": 2
          }
         }
        },
        "title": {
         "text": "HKNA"
        },
        "yaxis": {
         "title": {
          "text": "Significant wave height [m]"
         }
        }
       }
      }
     },
     "metadata": {}
    }
   ],
   "source": [
    "ax = mmc.plot_timeseries(backend='plotly', figsize=(12,6))"
   ]
  },
  {
   "cell_type": "code",
   "execution_count": null,
   "metadata": {},
   "outputs": [],
   "source": []
  }
 ]
}