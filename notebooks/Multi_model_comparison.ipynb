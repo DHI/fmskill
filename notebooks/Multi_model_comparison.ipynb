{
 "metadata": {
  "language_info": {
   "codemirror_mode": {
    "name": "ipython",
    "version": 3
   },
   "file_extension": ".py",
   "mimetype": "text/x-python",
   "name": "python",
   "nbconvert_exporter": "python",
   "pygments_lexer": "ipython3",
   "version": "3.8.10"
  },
  "orig_nbformat": 2,
  "kernelspec": {
   "name": "python3",
   "display_name": "Python 3.8.10 64-bit ('base': conda)"
  },
  "interpreter": {
   "hash": "fa576ebcd40e010bdc0ae86b06ce09151f3424f9e9aed6893ff04f39a9299d89"
  }
 },
 "nbformat": 4,
 "nbformat_minor": 2,
 "cells": [
  {
   "cell_type": "markdown",
   "source": [
    "# Multi model comparison"
   ],
   "metadata": {}
  },
  {
   "cell_type": "code",
   "execution_count": 1,
   "source": [
    "import numpy as np\r\n",
    "from fmskill.model import ModelResult\r\n",
    "from fmskill import PointObservation, TrackObservation, Connector"
   ],
   "outputs": [],
   "metadata": {}
  },
  {
   "cell_type": "markdown",
   "source": [
    "## Define observations"
   ],
   "metadata": {}
  },
  {
   "cell_type": "code",
   "execution_count": 2,
   "source": [
    "fldr = '../tests/testdata/SW/'\r\n",
    "o1 = PointObservation(fldr + 'HKNA_Hm0.dfs0', item=0, x=4.2420, y=52.6887, name=\"HKNA\")\r\n",
    "o2 = PointObservation(fldr + \"eur_Hm0.dfs0\", item=0, x=3.2760, y=51.9990, name=\"EPL\")\r\n",
    "o3 = TrackObservation(fldr + \"Alti_c2_Dutch.dfs0\", item=3, name=\"c2\")"
   ],
   "outputs": [],
   "metadata": {}
  },
  {
   "cell_type": "markdown",
   "source": [
    "## Define models"
   ],
   "metadata": {}
  },
  {
   "cell_type": "code",
   "execution_count": 3,
   "source": [
    "mr1 = ModelResult(fldr + 'HKZN_local_2017_DutchCoast.dfsu', name='SW_1', item=0)\r\n",
    "mr2 = ModelResult(fldr + 'HKZN_local_2017_DutchCoast_v2.dfsu', name='SW_2', item=0)"
   ],
   "outputs": [],
   "metadata": {}
  },
  {
   "cell_type": "markdown",
   "source": [
    "## Connect observations and model results"
   ],
   "metadata": {}
  },
  {
   "cell_type": "code",
   "execution_count": 4,
   "source": [
    "con = Connector([o1, o2, o3], [mr1, mr2])\r\n",
    "con"
   ],
   "outputs": [
    {
     "output_type": "execute_result",
     "data": {
      "text/plain": [
       "<Connector> with \n",
       " -<PointConnector> obs=HKNA(n=564) :: 2 models=[SW_1, SW_2]\n",
       " -<PointConnector> obs=EPL(n=95) :: 2 models=[SW_1, SW_2]\n",
       " -<TrackConnector> obs=c2(n=298) :: 2 models=[SW_1, SW_2]"
      ]
     },
     "metadata": {},
     "execution_count": 4
    }
   ],
   "metadata": {}
  },
  {
   "cell_type": "code",
   "execution_count": 5,
   "source": [
    "con.modelresults"
   ],
   "outputs": [
    {
     "output_type": "execute_result",
     "data": {
      "text/plain": [
       "{'SW_1': <DfsModelResultItem> 'SW_1'\n",
       " File: ../tests/testdata/SW/HKZN_local_2017_DutchCoast.dfsu\n",
       " - Item: 0: Sign. Wave Height <Significant wave height> (meter),\n",
       " 'SW_2': <DfsModelResultItem> 'SW_2'\n",
       " File: ../tests/testdata/SW/HKZN_local_2017_DutchCoast_v2.dfsu\n",
       " - Item: 0: Sign. Wave Height <Significant wave height> (meter)}"
      ]
     },
     "metadata": {},
     "execution_count": 5
    }
   ],
   "metadata": {}
  },
  {
   "cell_type": "code",
   "execution_count": 6,
   "source": [
    "con.plot_observation_positions();"
   ],
   "outputs": [
    {
     "output_type": "display_data",
     "data": {
      "image/png": "[encoded data removed]",
      "text/plain": [
       "<Figure size 432x288 with 1 Axes>"
      ]
     },
     "metadata": {
      "needs_background": "light"
     }
    }
   ],
   "metadata": {}
  },
  {
   "cell_type": "code",
   "execution_count": 7,
   "source": [
    "con.plot_temporal_coverage();"
   ],
   "outputs": [
    {
     "output_type": "display_data",
     "data": {
      "image/png": "[encoded data removed]",
      "text/plain": [
       "<Figure size 504x162 with 1 Axes>"
      ]
     },
     "metadata": {
      "needs_background": "light"
     }
    }
   ],
   "metadata": {}
  },
  {
   "cell_type": "code",
   "execution_count": 8,
   "source": [
    "cc = con.extract()    # returns a collection of comparisons"
   ],
   "outputs": [],
   "metadata": {}
  },
  {
   "cell_type": "code",
   "execution_count": 9,
   "source": [
    "cc[\"EPL\"]   # select a single comparer from the collection like this"
   ],
   "outputs": [
    {
     "output_type": "execute_result",
     "data": {
      "text/plain": [
       "<PointComparer>\n",
       "Observation: EPL, n_points=67\n",
       " Model: SW_1, rmse=0.224\n",
       " Model: SW_2, rmse=0.232"
      ]
     },
     "metadata": {},
     "execution_count": 9
    }
   ],
   "metadata": {}
  },
  {
   "cell_type": "markdown",
   "source": [
    "## Perform analysis\n",
    "You can perform simple filtering on specific `observation` or specific `model`. You can refer to observations and models using their _name_ or _index_. \n",
    "\n",
    "The main analysis methods are:\n",
    "* skill()\n",
    "* mean_skill()\n",
    "* scatter()\n",
    "* taylor()"
   ],
   "metadata": {}
  },
  {
   "cell_type": "code",
   "execution_count": 10,
   "source": [
    "cc.skill()"
   ],
   "outputs": [
    {
     "output_type": "execute_result",
     "data": {
      "text/html": [
       "<div>\n",
       "<style scoped>\n",
       "    .dataframe tbody tr th:only-of-type {\n",
       "        vertical-align: middle;\n",
       "    }\n",
       "\n",
       "    .dataframe tbody tr th {\n",
       "        vertical-align: top;\n",
       "    }\n",
       "\n",
       "    .dataframe thead th {\n",
       "        text-align: right;\n",
       "    }\n",
       "</style>\n",
       "<table border=\"1\" class=\"dataframe\">\n",
       "  <thead>\n",
       "    <tr style=\"text-align: right;\">\n",
       "      <th></th>\n",
       "      <th></th>\n",
       "      <th>n</th>\n",
       "      <th>bias</th>\n",
       "      <th>rmse</th>\n",
       "      <th>urmse</th>\n",
       "      <th>mae</th>\n",
       "      <th>cc</th>\n",
       "      <th>si</th>\n",
       "      <th>r2</th>\n",
       "    </tr>\n",
       "    <tr>\n",
       "      <th>model</th>\n",
       "      <th>observation</th>\n",
       "      <th></th>\n",
       "      <th></th>\n",
       "      <th></th>\n",
       "      <th></th>\n",
       "      <th></th>\n",
       "      <th></th>\n",
       "      <th></th>\n",
       "      <th></th>\n",
       "    </tr>\n",
       "  </thead>\n",
       "  <tbody>\n",
       "    <tr>\n",
       "      <th rowspan=\"3\" valign=\"top\">SW_1</th>\n",
       "      <th>EPL</th>\n",
       "      <td>67</td>\n",
       "      <td>-0.066597</td>\n",
       "      <td>0.223597</td>\n",
       "      <td>0.213449</td>\n",
       "      <td>0.188513</td>\n",
       "      <td>0.969846</td>\n",
       "      <td>0.078296</td>\n",
       "      <td>0.932596</td>\n",
       "    </tr>\n",
       "    <tr>\n",
       "      <th>HKNA</th>\n",
       "      <td>386</td>\n",
       "      <td>-0.194260</td>\n",
       "      <td>0.351964</td>\n",
       "      <td>0.293499</td>\n",
       "      <td>0.251839</td>\n",
       "      <td>0.971194</td>\n",
       "      <td>0.088669</td>\n",
       "      <td>0.905300</td>\n",
       "    </tr>\n",
       "    <tr>\n",
       "      <th>c2</th>\n",
       "      <td>113</td>\n",
       "      <td>-0.001210</td>\n",
       "      <td>0.351796</td>\n",
       "      <td>0.351794</td>\n",
       "      <td>0.294585</td>\n",
       "      <td>0.974335</td>\n",
       "      <td>0.118511</td>\n",
       "      <td>0.899507</td>\n",
       "    </tr>\n",
       "    <tr>\n",
       "      <th rowspan=\"3\" valign=\"top\">SW_2</th>\n",
       "      <th>EPL</th>\n",
       "      <td>67</td>\n",
       "      <td>-0.000199</td>\n",
       "      <td>0.232479</td>\n",
       "      <td>0.232479</td>\n",
       "      <td>0.198294</td>\n",
       "      <td>0.969846</td>\n",
       "      <td>0.085276</td>\n",
       "      <td>0.927134</td>\n",
       "    </tr>\n",
       "    <tr>\n",
       "      <th>HKNA</th>\n",
       "      <td>386</td>\n",
       "      <td>-0.100426</td>\n",
       "      <td>0.293033</td>\n",
       "      <td>0.275287</td>\n",
       "      <td>0.214422</td>\n",
       "      <td>0.971194</td>\n",
       "      <td>0.083167</td>\n",
       "      <td>0.934358</td>\n",
       "    </tr>\n",
       "    <tr>\n",
       "      <th>c2</th>\n",
       "      <td>113</td>\n",
       "      <td>0.081431</td>\n",
       "      <td>0.430268</td>\n",
       "      <td>0.422492</td>\n",
       "      <td>0.357138</td>\n",
       "      <td>0.974335</td>\n",
       "      <td>0.142327</td>\n",
       "      <td>0.849675</td>\n",
       "    </tr>\n",
       "  </tbody>\n",
       "</table>\n",
       "</div>"
      ],
      "text/plain": [
       "                     n      bias      rmse     urmse       mae        cc  \\\n",
       "model observation                                                          \n",
       "SW_1  EPL           67 -0.066597  0.223597  0.213449  0.188513  0.969846   \n",
       "      HKNA         386 -0.194260  0.351964  0.293499  0.251839  0.971194   \n",
       "      c2           113 -0.001210  0.351796  0.351794  0.294585  0.974335   \n",
       "SW_2  EPL           67 -0.000199  0.232479  0.232479  0.198294  0.969846   \n",
       "      HKNA         386 -0.100426  0.293033  0.275287  0.214422  0.971194   \n",
       "      c2           113  0.081431  0.430268  0.422492  0.357138  0.974335   \n",
       "\n",
       "                         si        r2  \n",
       "model observation                      \n",
       "SW_1  EPL          0.078296  0.932596  \n",
       "      HKNA         0.088669  0.905300  \n",
       "      c2           0.118511  0.899507  \n",
       "SW_2  EPL          0.085276  0.927134  \n",
       "      HKNA         0.083167  0.934358  \n",
       "      c2           0.142327  0.849675  "
      ]
     },
     "metadata": {},
     "execution_count": 10
    }
   ],
   "metadata": {}
  },
  {
   "cell_type": "code",
   "execution_count": 11,
   "source": [
    "cc.skill(observation=\"c2\")"
   ],
   "outputs": [
    {
     "output_type": "execute_result",
     "data": {
      "text/html": [
       "<div>\n",
       "<style scoped>\n",
       "    .dataframe tbody tr th:only-of-type {\n",
       "        vertical-align: middle;\n",
       "    }\n",
       "\n",
       "    .dataframe tbody tr th {\n",
       "        vertical-align: top;\n",
       "    }\n",
       "\n",
       "    .dataframe thead th {\n",
       "        text-align: right;\n",
       "    }\n",
       "</style>\n",
       "<table border=\"1\" class=\"dataframe\">\n",
       "  <thead>\n",
       "    <tr style=\"text-align: right;\">\n",
       "      <th></th>\n",
       "      <th>observation</th>\n",
       "      <th>n</th>\n",
       "      <th>bias</th>\n",
       "      <th>rmse</th>\n",
       "      <th>urmse</th>\n",
       "      <th>mae</th>\n",
       "      <th>cc</th>\n",
       "      <th>si</th>\n",
       "      <th>r2</th>\n",
       "    </tr>\n",
       "    <tr>\n",
       "      <th>model</th>\n",
       "      <th></th>\n",
       "      <th></th>\n",
       "      <th></th>\n",
       "      <th></th>\n",
       "      <th></th>\n",
       "      <th></th>\n",
       "      <th></th>\n",
       "      <th></th>\n",
       "      <th></th>\n",
       "    </tr>\n",
       "  </thead>\n",
       "  <tbody>\n",
       "    <tr>\n",
       "      <th>SW_1</th>\n",
       "      <td>c2</td>\n",
       "      <td>113</td>\n",
       "      <td>-0.001210</td>\n",
       "      <td>0.351796</td>\n",
       "      <td>0.351794</td>\n",
       "      <td>0.294585</td>\n",
       "      <td>0.974335</td>\n",
       "      <td>0.118511</td>\n",
       "      <td>0.899507</td>\n",
       "    </tr>\n",
       "    <tr>\n",
       "      <th>SW_2</th>\n",
       "      <td>c2</td>\n",
       "      <td>113</td>\n",
       "      <td>0.081431</td>\n",
       "      <td>0.430268</td>\n",
       "      <td>0.422492</td>\n",
       "      <td>0.357138</td>\n",
       "      <td>0.974335</td>\n",
       "      <td>0.142327</td>\n",
       "      <td>0.849675</td>\n",
       "    </tr>\n",
       "  </tbody>\n",
       "</table>\n",
       "</div>"
      ],
      "text/plain": [
       "      observation    n      bias      rmse     urmse       mae        cc  \\\n",
       "model                                                                      \n",
       "SW_1           c2  113 -0.001210  0.351796  0.351794  0.294585  0.974335   \n",
       "SW_2           c2  113  0.081431  0.430268  0.422492  0.357138  0.974335   \n",
       "\n",
       "             si        r2  \n",
       "model                      \n",
       "SW_1   0.118511  0.899507  \n",
       "SW_2   0.142327  0.849675  "
      ]
     },
     "metadata": {},
     "execution_count": 11
    }
   ],
   "metadata": {}
  },
  {
   "cell_type": "code",
   "execution_count": 12,
   "source": [
    "cc.mean_skill(model=0, observation=[0,\"c2\"])"
   ],
   "outputs": [
    {
     "output_type": "execute_result",
     "data": {
      "text/html": [
       "<div>\n",
       "<style scoped>\n",
       "    .dataframe tbody tr th:only-of-type {\n",
       "        vertical-align: middle;\n",
       "    }\n",
       "\n",
       "    .dataframe tbody tr th {\n",
       "        vertical-align: top;\n",
       "    }\n",
       "\n",
       "    .dataframe thead th {\n",
       "        text-align: right;\n",
       "    }\n",
       "</style>\n",
       "<table border=\"1\" class=\"dataframe\">\n",
       "  <thead>\n",
       "    <tr style=\"text-align: right;\">\n",
       "      <th></th>\n",
       "      <th>n</th>\n",
       "      <th>bias</th>\n",
       "      <th>rmse</th>\n",
       "      <th>urmse</th>\n",
       "      <th>mae</th>\n",
       "      <th>cc</th>\n",
       "      <th>si</th>\n",
       "      <th>r2</th>\n",
       "    </tr>\n",
       "    <tr>\n",
       "      <th>model</th>\n",
       "      <th></th>\n",
       "      <th></th>\n",
       "      <th></th>\n",
       "      <th></th>\n",
       "      <th></th>\n",
       "      <th></th>\n",
       "      <th></th>\n",
       "      <th></th>\n",
       "    </tr>\n",
       "  </thead>\n",
       "  <tbody>\n",
       "    <tr>\n",
       "      <th>SW_1</th>\n",
       "      <td>499</td>\n",
       "      <td>-0.097735</td>\n",
       "      <td>0.35188</td>\n",
       "      <td>0.322647</td>\n",
       "      <td>0.273212</td>\n",
       "      <td>0.972764</td>\n",
       "      <td>0.10359</td>\n",
       "      <td>0.902404</td>\n",
       "    </tr>\n",
       "  </tbody>\n",
       "</table>\n",
       "</div>"
      ],
      "text/plain": [
       "         n      bias     rmse     urmse       mae        cc       si        r2\n",
       "model                                                                         \n",
       "SW_1   499 -0.097735  0.35188  0.322647  0.273212  0.972764  0.10359  0.902404"
      ]
     },
     "metadata": {},
     "execution_count": 12
    }
   ],
   "metadata": {}
  },
  {
   "cell_type": "code",
   "execution_count": 13,
   "source": [
    "cc.scatter(model='SW_1', cmap='OrRd')"
   ],
   "outputs": [
    {
     "output_type": "display_data",
     "data": {
      "image/png": "[encoded data removed]",
      "text/plain": [
       "<Figure size 576x576 with 2 Axes>"
      ]
     },
     "metadata": {
      "needs_background": "light"
     }
    }
   ],
   "metadata": {}
  },
  {
   "cell_type": "code",
   "execution_count": 14,
   "source": [
    "cc.taylor(normalize_std=True, aggregate_observations=False)"
   ],
   "outputs": [
    {
     "output_type": "display_data",
     "data": {
      "image/png": "[encoded data removed]",
      "text/plain": [
       "<Figure size 504x504 with 1 Axes>"
      ]
     },
     "metadata": {
      "needs_background": "light"
     }
    }
   ],
   "metadata": {}
  },
  {
   "cell_type": "markdown",
   "source": [
    "### Time series plot (specifically for point comparisons)\n",
    "If you select an comparison from the collection which is a PointComparer, you can do a time series plot"
   ],
   "metadata": {}
  },
  {
   "cell_type": "code",
   "execution_count": 15,
   "source": [
    "cc['EPL'].plot_timeseries(figsize=(12,4));"
   ],
   "outputs": [
    {
     "output_type": "display_data",
     "data": {
      "image/png": "[encoded data removed]",
      "text/plain": [
       "<Figure size 864x288 with 1 Axes>"
      ]
     },
     "metadata": {
      "needs_background": "light"
     }
    }
   ],
   "metadata": {}
  },
  {
   "cell_type": "markdown",
   "source": [
    "## Filtering on time\n",
    "Use the `start` and `end` arguments to do your analysis on part of the time series"
   ],
   "metadata": {}
  },
  {
   "cell_type": "code",
   "execution_count": 16,
   "source": [
    "cc.skill(model=\"SW_1\", end='2017-10-28')"
   ],
   "outputs": [
    {
     "output_type": "execute_result",
     "data": {
      "text/html": [
       "<div>\n",
       "<style scoped>\n",
       "    .dataframe tbody tr th:only-of-type {\n",
       "        vertical-align: middle;\n",
       "    }\n",
       "\n",
       "    .dataframe tbody tr th {\n",
       "        vertical-align: top;\n",
       "    }\n",
       "\n",
       "    .dataframe thead th {\n",
       "        text-align: right;\n",
       "    }\n",
       "</style>\n",
       "<table border=\"1\" class=\"dataframe\">\n",
       "  <thead>\n",
       "    <tr style=\"text-align: right;\">\n",
       "      <th></th>\n",
       "      <th>model</th>\n",
       "      <th>n</th>\n",
       "      <th>bias</th>\n",
       "      <th>rmse</th>\n",
       "      <th>urmse</th>\n",
       "      <th>mae</th>\n",
       "      <th>cc</th>\n",
       "      <th>si</th>\n",
       "      <th>r2</th>\n",
       "    </tr>\n",
       "    <tr>\n",
       "      <th>observation</th>\n",
       "      <th></th>\n",
       "      <th></th>\n",
       "      <th></th>\n",
       "      <th></th>\n",
       "      <th></th>\n",
       "      <th></th>\n",
       "      <th></th>\n",
       "      <th></th>\n",
       "      <th></th>\n",
       "    </tr>\n",
       "  </thead>\n",
       "  <tbody>\n",
       "    <tr>\n",
       "      <th>EPL</th>\n",
       "      <td>SW_1</td>\n",
       "      <td>48</td>\n",
       "      <td>-0.100116</td>\n",
       "      <td>0.238728</td>\n",
       "      <td>0.216720</td>\n",
       "      <td>0.203709</td>\n",
       "      <td>0.919574</td>\n",
       "      <td>0.097755</td>\n",
       "      <td>0.812073</td>\n",
       "    </tr>\n",
       "    <tr>\n",
       "      <th>HKNA</th>\n",
       "      <td>SW_1</td>\n",
       "      <td>281</td>\n",
       "      <td>-0.097075</td>\n",
       "      <td>0.203241</td>\n",
       "      <td>0.178559</td>\n",
       "      <td>0.164563</td>\n",
       "      <td>0.968106</td>\n",
       "      <td>0.067642</td>\n",
       "      <td>0.916126</td>\n",
       "    </tr>\n",
       "    <tr>\n",
       "      <th>c2</th>\n",
       "      <td>SW_1</td>\n",
       "      <td>72</td>\n",
       "      <td>-0.188193</td>\n",
       "      <td>0.313787</td>\n",
       "      <td>0.251089</td>\n",
       "      <td>0.258661</td>\n",
       "      <td>0.478554</td>\n",
       "      <td>0.122423</td>\n",
       "      <td>-1.420894</td>\n",
       "    </tr>\n",
       "  </tbody>\n",
       "</table>\n",
       "</div>"
      ],
      "text/plain": [
       "            model    n      bias      rmse     urmse       mae        cc  \\\n",
       "observation                                                                \n",
       "EPL          SW_1   48 -0.100116  0.238728  0.216720  0.203709  0.919574   \n",
       "HKNA         SW_1  281 -0.097075  0.203241  0.178559  0.164563  0.968106   \n",
       "c2           SW_1   72 -0.188193  0.313787  0.251089  0.258661  0.478554   \n",
       "\n",
       "                   si        r2  \n",
       "observation                      \n",
       "EPL          0.097755  0.812073  \n",
       "HKNA         0.067642  0.916126  \n",
       "c2           0.122423 -1.420894  "
      ]
     },
     "metadata": {},
     "execution_count": 16
    }
   ],
   "metadata": {}
  },
  {
   "cell_type": "code",
   "execution_count": 17,
   "source": [
    "cc.scatter(model='SW_2', start='2017-10-28', cmap='OrRd', figsize=(6,7))"
   ],
   "outputs": [
    {
     "output_type": "display_data",
     "data": {
      "image/png": "[encoded data removed]",
      "text/plain": [
       "<Figure size 432x504 with 2 Axes>"
      ]
     },
     "metadata": {
      "needs_background": "light"
     }
    }
   ],
   "metadata": {}
  },
  {
   "cell_type": "markdown",
   "source": [
    "## Filtering on area\n",
    "You can do you analysis in a specific `area` by providing a bounding box or a closed polygon"
   ],
   "metadata": {}
  },
  {
   "cell_type": "code",
   "execution_count": 18,
   "source": [
    "bbox = np.array([0.5,52.5,5,54])\r\n",
    "polygon = np.array([[6,51],[0,55],[0,51],[6,51]])"
   ],
   "outputs": [],
   "metadata": {}
  },
  {
   "cell_type": "code",
   "execution_count": 19,
   "source": [
    "ax = con.plot_observation_positions();\r\n",
    "ax.plot([bbox[0],bbox[2],bbox[2],bbox[0],bbox[0]],[bbox[1],bbox[1],bbox[3],bbox[3],bbox[1]]);\r\n",
    "ax.plot(polygon[:,0],polygon[:,1]);"
   ],
   "outputs": [
    {
     "output_type": "display_data",
     "data": {
      "image/png": "[encoded data removed]",
      "text/plain": [
       "<Figure size 432x288 with 1 Axes>"
      ]
     },
     "metadata": {
      "needs_background": "light"
     }
    }
   ],
   "metadata": {}
  },
  {
   "cell_type": "code",
   "execution_count": 20,
   "source": [
    "cc.skill(model=\"SW_1\", area=bbox)"
   ],
   "outputs": [
    {
     "output_type": "execute_result",
     "data": {
      "text/html": [
       "<div>\n",
       "<style scoped>\n",
       "    .dataframe tbody tr th:only-of-type {\n",
       "        vertical-align: middle;\n",
       "    }\n",
       "\n",
       "    .dataframe tbody tr th {\n",
       "        vertical-align: top;\n",
       "    }\n",
       "\n",
       "    .dataframe thead th {\n",
       "        text-align: right;\n",
       "    }\n",
       "</style>\n",
       "<table border=\"1\" class=\"dataframe\">\n",
       "  <thead>\n",
       "    <tr style=\"text-align: right;\">\n",
       "      <th></th>\n",
       "      <th>model</th>\n",
       "      <th>n</th>\n",
       "      <th>bias</th>\n",
       "      <th>rmse</th>\n",
       "      <th>urmse</th>\n",
       "      <th>mae</th>\n",
       "      <th>cc</th>\n",
       "      <th>si</th>\n",
       "      <th>r2</th>\n",
       "    </tr>\n",
       "    <tr>\n",
       "      <th>observation</th>\n",
       "      <th></th>\n",
       "      <th></th>\n",
       "      <th></th>\n",
       "      <th></th>\n",
       "      <th></th>\n",
       "      <th></th>\n",
       "      <th></th>\n",
       "      <th></th>\n",
       "      <th></th>\n",
       "    </tr>\n",
       "  </thead>\n",
       "  <tbody>\n",
       "    <tr>\n",
       "      <th>HKNA</th>\n",
       "      <td>SW_1</td>\n",
       "      <td>386</td>\n",
       "      <td>-0.19426</td>\n",
       "      <td>0.351964</td>\n",
       "      <td>0.293499</td>\n",
       "      <td>0.251839</td>\n",
       "      <td>0.971194</td>\n",
       "      <td>0.088669</td>\n",
       "      <td>0.905300</td>\n",
       "    </tr>\n",
       "    <tr>\n",
       "      <th>c2</th>\n",
       "      <td>SW_1</td>\n",
       "      <td>42</td>\n",
       "      <td>-0.05587</td>\n",
       "      <td>0.388404</td>\n",
       "      <td>0.384365</td>\n",
       "      <td>0.336023</td>\n",
       "      <td>0.952688</td>\n",
       "      <td>0.139796</td>\n",
       "      <td>0.749645</td>\n",
       "    </tr>\n",
       "  </tbody>\n",
       "</table>\n",
       "</div>"
      ],
      "text/plain": [
       "            model    n     bias      rmse     urmse       mae        cc  \\\n",
       "observation                                                               \n",
       "HKNA         SW_1  386 -0.19426  0.351964  0.293499  0.251839  0.971194   \n",
       "c2           SW_1   42 -0.05587  0.388404  0.384365  0.336023  0.952688   \n",
       "\n",
       "                   si        r2  \n",
       "observation                      \n",
       "HKNA         0.088669  0.905300  \n",
       "c2           0.139796  0.749645  "
      ]
     },
     "metadata": {},
     "execution_count": 20
    }
   ],
   "metadata": {}
  },
  {
   "cell_type": "code",
   "execution_count": 21,
   "source": [
    "cc.scatter(model=\"SW_2\", area=polygon, backend='plotly')"
   ],
   "outputs": [
    {
     "output_type": "display_data",
     "data": {
      "application/vnd.plotly.v1+json": {
       "config": {
        "plotlyServerURL": "https://plot.ly"
       },
       "data": [
        {
         "line": {
          "color": "red"
         },
         "mode": "lines",
         "name": "Fit: y=1.18x-0.49",
         "type": "scatter",
         "x": [
          0.9200000166893005,
          1.0299999713897705,
          1.2400000095367432,
          1.340000033378601,
          1.5499999523162842,
          1.659999966621399,
          1.7999999523162842,
          2.0199999809265137,
          2.0799999237060547,
          2.0799999237060547,
          2.1500000953674316,
          2.200000047683716,
          2.1500000953674316,
          1.6380001306533813,
          1.3830000162124634,
          1.7910001277923584,
          1.7000000476837158,
          1.8000000715255737,
          1.75600004196167,
          1.9280000925064087,
          1.8540000915527344,
          1.7980000972747803,
          1.6990001201629639,
          2.0199999809265137,
          1.8600001335144043,
          2.127000093460083,
          2.0840001106262207,
          1.8220001459121704,
          2.196000099182129,
          2.001000165939331,
          2.080000162124634,
          2.0510001182556152,
          1.7030000686645508,
          1.9880000352859497,
          2.059000015258789,
          2.057000160217285,
          2.1500000953674316,
          2,
          2.3360002040863037,
          1.9760000705718994,
          2.4800000190734863,
          2.075000047683716,
          2.125,
          2,
          2.1700000762939453,
          1.937000036239624,
          2.0450000762939453,
          2.319000005722046,
          1.9190001487731934,
          2.367000102996826,
          1.8980001211166382,
          2.236999988555908,
          1.9830000400543213,
          1.8230000734329224,
          2.0810000896453857,
          2.2080001831054688,
          2.1500000953674316,
          2.0899999141693115,
          2.0199999809265137,
          2.0299999713897705,
          1.8899999856948853,
          1.75,
          1.690000057220459,
          1.7699999809265137,
          1.4800000190734863,
          1.5,
          1.5800000429153442,
          1.690000057220459,
          1.8200000524520874,
          1.8600000143051147,
          2.109999895095825,
          2.2799999713897705,
          2.319999933242798,
          2.3299999237060547,
          2.2899999618530273,
          2.430000066757202,
          2.440000057220459,
          2.4200000762939453,
          2.4800000190734863,
          2.4600000381469727,
          2.7799999713897705,
          2.7200000286102295,
          2.740000009536743,
          2.619999885559082,
          2.799999952316284,
          2.990000009536743,
          2.9100000858306885,
          2.9600000381469727,
          3.319999933242798,
          2.869999885559082,
          3.2699999809265137,
          3.390000104904175,
          3.359999895095825,
          4.130000114440918,
          4.070000171661377,
          4.010000228881836,
          4.269999980926514,
          3.9700000286102295,
          4.159999847412109,
          3.890000104904175,
          4.179999828338623,
          3.630000114440918,
          3.799999952316284,
          3.4700000286102295,
          1.406000018119812,
          1.5280001163482666,
          1.696000099182129,
          2.7200000286102295,
          2.877000093460083,
          2.9650001525878906,
          3.56000018119812,
          3.4030001163482666,
          3.389000177383423,
          3.1030001640319824,
          3.5220000743865967,
          3.562000274658203,
          3.5990002155303955,
          4.255000114440918,
          4.021000385284424,
          4.044000148773193,
          4.193000316619873,
          4.455000400543213,
          4.005000114440918,
          4.565000057220459,
          4.13700008392334,
          4.743000030517578,
          4.51200008392334,
          3.4600000381469727,
          3.369999885559082,
          3.240000009536743,
          3.2300000190734863,
          3.359999895095825,
          3.2300000190734863
         ],
         "y": [
          0.5977953097795903,
          0.7278054357611528,
          0.9760067326613611,
          1.0941978331326383,
          1.342398989138109,
          1.47240918556704,
          1.637876669868933,
          1.8978970627267957,
          1.9688116384727192,
          1.9688116384727192,
          2.0515455919657724,
          2.110641071754042,
          2.0515455919657724,
          1.4464073435338864,
          1.1450199739294977,
          1.6272396807596774,
          1.5196857102923937,
          1.6378768107636708,
          1.5858727040131506,
          1.7891614080953264,
          1.7017000134718447,
          1.6355130197510874,
          1.518503885233471,
          1.8978970627267957,
          1.708791527404332,
          2.0243616430842204,
          1.9735395022873612,
          1.6638789345862994,
          2.1059134897288754,
          1.8754409776598857,
          1.9688119202621945,
          1.9345364574481554,
          1.5232314672586371,
          1.8600759838412504,
          1.9439916214984887,
          1.941627971380643,
          2.0515455919657724,
          1.8742588708114876,
          2.271381114925506,
          1.8458930968710132,
          2.441576040357828,
          1.9629022313886297,
          2.0219977111769,
          1.8742588708114876,
          2.07518378388108,
          1.7997985380993202,
          1.9274449435156682,
          2.2512883981869667,
          1.778524278091333,
          2.3080202278573907,
          1.7537041202223649,
          2.154371698618414,
          1.8541664358624232,
          1.6650607596452223,
          1.9699937453211174,
          2.12009651759385,
          2.0515455919657724,
          1.980630734430373,
          1.8978970627267957,
          1.9097161586844495,
          1.7442486743825563,
          1.5787811900806634,
          1.5078666143347397,
          1.6024193819959711,
          1.2596653174345311,
          1.2833035093498393,
          1.3778564179058084,
          1.5078666143347397,
          1.661515002678979,
          1.7087913865095947,
          2.004268926345681,
          2.2051938394152737,
          2.2524702232458895,
          2.2642893192035434,
          2.2170129353729275,
          2.382480560569558,
          2.3942996565272123,
          2.370661464611904,
          2.441576040357828,
          2.41793784844252,
          2.796149200876922,
          2.7252346251309985,
          2.748872817046306,
          2.6070433837649833,
          2.81978739279223,
          3.0443504977771303,
          2.9497977301158986,
          3.0088932099041683,
          3.434380946169186,
          2.9025210644958075,
          3.3752854663809164,
          3.5171148996622392,
          3.481657329999802,
          4.391728845897058,
          4.320814270151134,
          4.24989969440521,
          4.557196189304213,
          4.202623028785119,
          4.4271858519805445,
          4.1080702611238875,
          4.450824043895852,
          3.8007734844354095,
          4.001698115715527,
          3.611667667323471,
          1.1722039228110495,
          1.3163971471049554,
          1.514958128267227,
          2.7252346251309985,
          2.9107946852766933,
          3.014802898777733,
          3.718039812731832,
          3.532479752586137,
          3.515933074603316,
          3.177906592067043,
          3.6731270790190615,
          3.7204037446391522,
          3.764134371503525,
          4.53946768626247,
          4.262900897211262,
          4.2900845643033385,
          4.4661894603987005,
          4.775850168994499,
          4.2439900055316455,
          4.905859942739218,
          4.400002184888468,
          5.116240019859143,
          4.843218705984705,
          3.5998485713658166,
          3.493476425957456,
          3.3398281785079544,
          3.3280090825503006,
          3.481657329999802,
          3.3280090825503006
         ]
        },
        {
         "line": {
          "color": "blue"
         },
         "mode": "lines",
         "name": "1:1",
         "type": "scatter",
         "x": [
          0.9200000166893005,
          4.902866131177962
         ],
         "y": [
          0.9200000166893005,
          4.902866131177962
         ]
        },
        {
         "line": {
          "color": "gray"
         },
         "mode": "lines",
         "name": "Q-Q",
         "type": "scatter",
         "x": [
          0.9200000166893005,
          1.4989473694249202,
          1.690000057220459,
          1.7677894642478542,
          1.822789562375922,
          1.9256316862608258,
          2.000684324063753,
          2.054789618441933,
          2.082736943897448,
          2.1500000953674316,
          2.2573684014772115,
          2.389315881227192,
          2.6568420435252937,
          2.8874211436823787,
          3.2326315955111853,
          3.389210688440423,
          3.567842370585391,
          4.011158140082109,
          4.180684064563952,
          4.743000030517578
         ],
         "y": [
          1.4047407018644815,
          1.4894444949701529,
          1.5213287013842345,
          1.5413543334924074,
          1.6147965276450442,
          1.6871043988400876,
          1.7450218652922187,
          1.7741011049869497,
          1.811486256492806,
          1.8836644109961098,
          1.9289684546621222,
          2.1830881938599704,
          2.3970313574138435,
          3.1378867291567607,
          3.4236308942761333,
          3.8979365198235763,
          4.017367989011023,
          4.208824413832535,
          4.562803488787627,
          4.902866131177962
         ]
        },
        {
         "colorscale": [
          [
           0,
           "rgba(0,0,0,0)"
          ],
          [
           0.1,
           "purple"
          ],
          [
           0.5,
           "green"
          ],
          [
           1,
           "yellow"
          ]
         ],
         "type": "histogram2d",
         "x": [
          0.9200000166893005,
          1.0299999713897705,
          1.2400000095367432,
          1.340000033378601,
          1.5499999523162842,
          1.659999966621399,
          1.7999999523162842,
          2.0199999809265137,
          2.0799999237060547,
          2.0799999237060547,
          2.1500000953674316,
          2.200000047683716,
          2.1500000953674316,
          1.6380001306533813,
          1.3830000162124634,
          1.7910001277923584,
          1.7000000476837158,
          1.8000000715255737,
          1.75600004196167,
          1.9280000925064087,
          1.8540000915527344,
          1.7980000972747803,
          1.6990001201629639,
          2.0199999809265137,
          1.8600001335144043,
          2.127000093460083,
          2.0840001106262207,
          1.8220001459121704,
          2.196000099182129,
          2.001000165939331,
          2.080000162124634,
          2.0510001182556152,
          1.7030000686645508,
          1.9880000352859497,
          2.059000015258789,
          2.057000160217285,
          2.1500000953674316,
          2,
          2.3360002040863037,
          1.9760000705718994,
          2.4800000190734863,
          2.075000047683716,
          2.125,
          2,
          2.1700000762939453,
          1.937000036239624,
          2.0450000762939453,
          2.319000005722046,
          1.9190001487731934,
          2.367000102996826,
          1.8980001211166382,
          2.236999988555908,
          1.9830000400543213,
          1.8230000734329224,
          2.0810000896453857,
          2.2080001831054688,
          2.1500000953674316,
          2.0899999141693115,
          2.0199999809265137,
          2.0299999713897705,
          1.8899999856948853,
          1.75,
          1.690000057220459,
          1.7699999809265137,
          1.4800000190734863,
          1.5,
          1.5800000429153442,
          1.690000057220459,
          1.8200000524520874,
          1.8600000143051147,
          2.109999895095825,
          2.2799999713897705,
          2.319999933242798,
          2.3299999237060547,
          2.2899999618530273,
          2.430000066757202,
          2.440000057220459,
          2.4200000762939453,
          2.4800000190734863,
          2.4600000381469727,
          2.7799999713897705,
          2.7200000286102295,
          2.740000009536743,
          2.619999885559082,
          2.799999952316284,
          2.990000009536743,
          2.9100000858306885,
          2.9600000381469727,
          3.319999933242798,
          2.869999885559082,
          3.2699999809265137,
          3.390000104904175,
          3.359999895095825,
          4.130000114440918,
          4.070000171661377,
          4.010000228881836,
          4.269999980926514,
          3.9700000286102295,
          4.159999847412109,
          3.890000104904175,
          4.179999828338623,
          3.630000114440918,
          3.799999952316284,
          3.4700000286102295,
          1.406000018119812,
          1.5280001163482666,
          1.696000099182129,
          2.7200000286102295,
          2.877000093460083,
          2.9650001525878906,
          3.56000018119812,
          3.4030001163482666,
          3.389000177383423,
          3.1030001640319824,
          3.5220000743865967,
          3.562000274658203,
          3.5990002155303955,
          4.255000114440918,
          4.021000385284424,
          4.044000148773193,
          4.193000316619873,
          4.455000400543213,
          4.005000114440918,
          4.565000057220459,
          4.13700008392334,
          4.743000030517578,
          4.51200008392334,
          3.4600000381469727,
          3.369999885559082,
          3.240000009536743,
          3.2300000190734863,
          3.359999895095825,
          3.2300000190734863
         ],
         "xbins": {
          "size": 0.19115000069141388
         },
         "y": [
          1.4202321767807007,
          1.5189847548802693,
          1.6177373329798381,
          1.7164899110794067,
          1.7458093961079915,
          1.7751288811365764,
          1.8044483661651611,
          1.8669888973236084,
          1.9295294284820557,
          1.992069959640503,
          1.9708678325017293,
          1.9496657053629558,
          1.9284635782241821,
          1.4047407018644815,
          1.489464228386347,
          1.489445480647968,
          1.4894267527694813,
          1.4710817478629825,
          1.546298040546575,
          1.5462882250769039,
          1.5462784200049762,
          1.5391146539340408,
          1.5391074213814728,
          1.5391001888289044,
          1.4272530108541246,
          1.541358403093395,
          1.5413548879302208,
          1.541351376490736,
          1.5791989441060683,
          1.52132905210389,
          1.5213257202671628,
          1.521322384897205,
          1.5243678029288183,
          1.6759173311953628,
          1.675913075208509,
          1.679515592621752,
          1.679510375273536,
          1.6795051523926077,
          1.7429031906411931,
          1.745033936208221,
          1.7450287213817783,
          1.7450235120795163,
          1.745018297253074,
          1.7741038076824611,
          1.7741018320722932,
          1.7740998585549326,
          1.812896460753569,
          1.8128964840000867,
          1.8232979549410389,
          1.8232979354143806,
          1.8836636454662132,
          1.8836650999730167,
          1.8836665529390286,
          1.897148812947174,
          1.897148981204408,
          1.9236615383194335,
          1.8690054019292195,
          1.809547225634257,
          1.7500890493392944,
          1.7299975951512654,
          1.7099061409632366,
          1.6898146867752075,
          1.6037685076395671,
          1.5177223285039265,
          1.4316761493682861,
          1.464331030845642,
          1.496985912322998,
          1.529640793800354,
          1.6491782267888386,
          1.7687156597773235,
          1.888253092765808,
          1.981493393580119,
          2.0747336943944297,
          2.1679739952087402,
          2.2038702170054116,
          2.2397664388020835,
          2.275662660598755,
          2.267618179321289,
          2.2595736980438232,
          2.2515292167663574,
          2.3578577041625977,
          2.464186191558838,
          2.570514678955078,
          2.7104103565216064,
          2.8503060340881348,
          2.990201711654663,
          3.0539747873942056,
          3.1177478631337485,
          3.181520938873291,
          3.297062873840332,
          3.412604808807373,
          3.528146743774414,
          3.7168569564819336,
          3.905567169189453,
          4.094277381896973,
          4.185134251912435,
          4.275991121927897,
          4.366847991943359,
          4.255361715952556,
          4.143875439961751,
          4.032389163970947,
          3.98689333597819,
          3.941397507985433,
          3.895901679992676,
          1.7812629196808074,
          1.7812692304800177,
          1.7022155054792762,
          3.2970543655647164,
          3.297016351774533,
          3.95292592962468,
          3.9528745382110273,
          3.9528232012374307,
          4.017410749154619,
          4.017359971484099,
          4.208922229125632,
          4.208870630226576,
          4.208818976609707,
          4.20876737771065,
          4.5602153017490865,
          4.560160838460745,
          4.609499558818869,
          4.609445178346898,
          4.60939085548136,
          4.727590482091461,
          4.902866131177962,
          4.902810599275163,
          4.902755008483815,
          3.7767922083536782,
          3.657682736714681,
          3.5385732650756836,
          3.4545039335886636,
          3.370434602101644,
          3.286365270614624
         ],
         "ybins": {
          "size": 0.19115000069141388
         }
        },
        {
         "marker": {
          "color": "black"
         },
         "mode": "markers",
         "name": "Data",
         "type": "scatter",
         "x": [
          0.9200000166893005,
          1.0299999713897705,
          1.2400000095367432,
          1.340000033378601,
          1.5499999523162842,
          1.659999966621399,
          1.7999999523162842,
          2.0199999809265137,
          2.0799999237060547,
          2.0799999237060547,
          2.1500000953674316,
          2.200000047683716,
          2.1500000953674316,
          1.6380001306533813,
          1.3830000162124634,
          1.7910001277923584,
          1.7000000476837158,
          1.8000000715255737,
          1.75600004196167,
          1.9280000925064087,
          1.8540000915527344,
          1.7980000972747803,
          1.6990001201629639,
          2.0199999809265137,
          1.8600001335144043,
          2.127000093460083,
          2.0840001106262207,
          1.8220001459121704,
          2.196000099182129,
          2.001000165939331,
          2.080000162124634,
          2.0510001182556152,
          1.7030000686645508,
          1.9880000352859497,
          2.059000015258789,
          2.057000160217285,
          2.1500000953674316,
          2,
          2.3360002040863037,
          1.9760000705718994,
          2.4800000190734863,
          2.075000047683716,
          2.125,
          2,
          2.1700000762939453,
          1.937000036239624,
          2.0450000762939453,
          2.319000005722046,
          1.9190001487731934,
          2.367000102996826,
          1.8980001211166382,
          2.236999988555908,
          1.9830000400543213,
          1.8230000734329224,
          2.0810000896453857,
          2.2080001831054688,
          2.1500000953674316,
          2.0899999141693115,
          2.0199999809265137,
          2.0299999713897705,
          1.8899999856948853,
          1.75,
          1.690000057220459,
          1.7699999809265137,
          1.4800000190734863,
          1.5,
          1.5800000429153442,
          1.690000057220459,
          1.8200000524520874,
          1.8600000143051147,
          2.109999895095825,
          2.2799999713897705,
          2.319999933242798,
          2.3299999237060547,
          2.2899999618530273,
          2.430000066757202,
          2.440000057220459,
          2.4200000762939453,
          2.4800000190734863,
          2.4600000381469727,
          2.7799999713897705,
          2.7200000286102295,
          2.740000009536743,
          2.619999885559082,
          2.799999952316284,
          2.990000009536743,
          2.9100000858306885,
          2.9600000381469727,
          3.319999933242798,
          2.869999885559082,
          3.2699999809265137,
          3.390000104904175,
          3.359999895095825,
          4.130000114440918,
          4.070000171661377,
          4.010000228881836,
          4.269999980926514,
          3.9700000286102295,
          4.159999847412109,
          3.890000104904175,
          4.179999828338623,
          3.630000114440918,
          3.799999952316284,
          3.4700000286102295,
          1.406000018119812,
          1.5280001163482666,
          1.696000099182129,
          2.7200000286102295,
          2.877000093460083,
          2.9650001525878906,
          3.56000018119812,
          3.4030001163482666,
          3.389000177383423,
          3.1030001640319824,
          3.5220000743865967,
          3.562000274658203,
          3.5990002155303955,
          4.255000114440918,
          4.021000385284424,
          4.044000148773193,
          4.193000316619873,
          4.455000400543213,
          4.005000114440918,
          4.565000057220459,
          4.13700008392334,
          4.743000030517578,
          4.51200008392334,
          3.4600000381469727,
          3.369999885559082,
          3.240000009536743,
          3.2300000190734863,
          3.359999895095825,
          3.2300000190734863
         ],
         "y": [
          1.4202321767807007,
          1.5189847548802693,
          1.6177373329798381,
          1.7164899110794067,
          1.7458093961079915,
          1.7751288811365764,
          1.8044483661651611,
          1.8669888973236084,
          1.9295294284820557,
          1.992069959640503,
          1.9708678325017293,
          1.9496657053629558,
          1.9284635782241821,
          1.4047407018644815,
          1.489464228386347,
          1.489445480647968,
          1.4894267527694813,
          1.4710817478629825,
          1.546298040546575,
          1.5462882250769039,
          1.5462784200049762,
          1.5391146539340408,
          1.5391074213814728,
          1.5391001888289044,
          1.4272530108541246,
          1.541358403093395,
          1.5413548879302208,
          1.541351376490736,
          1.5791989441060683,
          1.52132905210389,
          1.5213257202671628,
          1.521322384897205,
          1.5243678029288183,
          1.6759173311953628,
          1.675913075208509,
          1.679515592621752,
          1.679510375273536,
          1.6795051523926077,
          1.7429031906411931,
          1.745033936208221,
          1.7450287213817783,
          1.7450235120795163,
          1.745018297253074,
          1.7741038076824611,
          1.7741018320722932,
          1.7740998585549326,
          1.812896460753569,
          1.8128964840000867,
          1.8232979549410389,
          1.8232979354143806,
          1.8836636454662132,
          1.8836650999730167,
          1.8836665529390286,
          1.897148812947174,
          1.897148981204408,
          1.9236615383194335,
          1.8690054019292195,
          1.809547225634257,
          1.7500890493392944,
          1.7299975951512654,
          1.7099061409632366,
          1.6898146867752075,
          1.6037685076395671,
          1.5177223285039265,
          1.4316761493682861,
          1.464331030845642,
          1.496985912322998,
          1.529640793800354,
          1.6491782267888386,
          1.7687156597773235,
          1.888253092765808,
          1.981493393580119,
          2.0747336943944297,
          2.1679739952087402,
          2.2038702170054116,
          2.2397664388020835,
          2.275662660598755,
          2.267618179321289,
          2.2595736980438232,
          2.2515292167663574,
          2.3578577041625977,
          2.464186191558838,
          2.570514678955078,
          2.7104103565216064,
          2.8503060340881348,
          2.990201711654663,
          3.0539747873942056,
          3.1177478631337485,
          3.181520938873291,
          3.297062873840332,
          3.412604808807373,
          3.528146743774414,
          3.7168569564819336,
          3.905567169189453,
          4.094277381896973,
          4.185134251912435,
          4.275991121927897,
          4.366847991943359,
          4.255361715952556,
          4.143875439961751,
          4.032389163970947,
          3.98689333597819,
          3.941397507985433,
          3.895901679992676,
          1.7812629196808074,
          1.7812692304800177,
          1.7022155054792762,
          3.2970543655647164,
          3.297016351774533,
          3.95292592962468,
          3.9528745382110273,
          3.9528232012374307,
          4.017410749154619,
          4.017359971484099,
          4.208922229125632,
          4.208870630226576,
          4.208818976609707,
          4.20876737771065,
          4.5602153017490865,
          4.560160838460745,
          4.609499558818869,
          4.609445178346898,
          4.60939085548136,
          4.727590482091461,
          4.902866131177962,
          4.902810599275163,
          4.902755008483815,
          3.7767922083536782,
          3.657682736714681,
          3.5385732650756836,
          3.4545039335886636,
          3.370434602101644,
          3.286365270614624
         ]
        }
       ],
       "layout": {
        "height": 600,
        "legend": {
         "x": 0.01,
         "y": 0.99
        },
        "template": {
         "data": {
          "bar": [
           {
            "error_x": {
             "color": "#2a3f5f"
            },
            "error_y": {
             "color": "#2a3f5f"
            },
            "marker": {
             "line": {
              "color": "#E5ECF6",
              "width": 0.5
             }
            },
            "type": "bar"
           }
          ],
          "barpolar": [
           {
            "marker": {
             "line": {
              "color": "#E5ECF6",
              "width": 0.5
             }
            },
            "type": "barpolar"
           }
          ],
          "carpet": [
           {
            "aaxis": {
             "endlinecolor": "#2a3f5f",
             "gridcolor": "white",
             "linecolor": "white",
             "minorgridcolor": "white",
             "startlinecolor": "#2a3f5f"
            },
            "baxis": {
             "endlinecolor": "#2a3f5f",
             "gridcolor": "white",
             "linecolor": "white",
             "minorgridcolor": "white",
             "startlinecolor": "#2a3f5f"
            },
            "type": "carpet"
           }
          ],
          "choropleth": [
           {
            "colorbar": {
             "outlinewidth": 0,
             "ticks": ""
            },
            "type": "choropleth"
           }
          ],
          "contour": [
           {
            "colorbar": {
             "outlinewidth": 0,
             "ticks": ""
            },
            "colorscale": [
             [
              0,
              "#0d0887"
             ],
             [
              0.1111111111111111,
              "#46039f"
             ],
             [
              0.2222222222222222,
              "#7201a8"
             ],
             [
              0.3333333333333333,
              "#9c179e"
             ],
             [
              0.4444444444444444,
              "#bd3786"
             ],
             [
              0.5555555555555556,
              "#d8576b"
             ],
             [
              0.6666666666666666,
              "#ed7953"
             ],
             [
              0.7777777777777778,
              "#fb9f3a"
             ],
             [
              0.8888888888888888,
              "#fdca26"
             ],
             [
              1,
              "#f0f921"
             ]
            ],
            "type": "contour"
           }
          ],
          "contourcarpet": [
           {
            "colorbar": {
             "outlinewidth": 0,
             "ticks": ""
            },
            "type": "contourcarpet"
           }
          ],
          "heatmap": [
           {
            "colorbar": {
             "outlinewidth": 0,
             "ticks": ""
            },
            "colorscale": [
             [
              0,
              "#0d0887"
             ],
             [
              0.1111111111111111,
              "#46039f"
             ],
             [
              0.2222222222222222,
              "#7201a8"
             ],
             [
              0.3333333333333333,
              "#9c179e"
             ],
             [
              0.4444444444444444,
              "#bd3786"
             ],
             [
              0.5555555555555556,
              "#d8576b"
             ],
             [
              0.6666666666666666,
              "#ed7953"
             ],
             [
              0.7777777777777778,
              "#fb9f3a"
             ],
             [
              0.8888888888888888,
              "#fdca26"
             ],
             [
              1,
              "#f0f921"
             ]
            ],
            "type": "heatmap"
           }
          ],
          "heatmapgl": [
           {
            "colorbar": {
             "outlinewidth": 0,
             "ticks": ""
            },
            "colorscale": [
             [
              0,
              "#0d0887"
             ],
             [
              0.1111111111111111,
              "#46039f"
             ],
             [
              0.2222222222222222,
              "#7201a8"
             ],
             [
              0.3333333333333333,
              "#9c179e"
             ],
             [
              0.4444444444444444,
              "#bd3786"
             ],
             [
              0.5555555555555556,
              "#d8576b"
             ],
             [
              0.6666666666666666,
              "#ed7953"
             ],
             [
              0.7777777777777778,
              "#fb9f3a"
             ],
             [
              0.8888888888888888,
              "#fdca26"
             ],
             [
              1,
              "#f0f921"
             ]
            ],
            "type": "heatmapgl"
           }
          ],
          "histogram": [
           {
            "marker": {
             "colorbar": {
              "outlinewidth": 0,
              "ticks": ""
             }
            },
            "type": "histogram"
           }
          ],
          "histogram2d": [
           {
            "colorbar": {
             "outlinewidth": 0,
             "ticks": ""
            },
            "colorscale": [
             [
              0,
              "#0d0887"
             ],
             [
              0.1111111111111111,
              "#46039f"
             ],
             [
              0.2222222222222222,
              "#7201a8"
             ],
             [
              0.3333333333333333,
              "#9c179e"
             ],
             [
              0.4444444444444444,
              "#bd3786"
             ],
             [
              0.5555555555555556,
              "#d8576b"
             ],
             [
              0.6666666666666666,
              "#ed7953"
             ],
             [
              0.7777777777777778,
              "#fb9f3a"
             ],
             [
              0.8888888888888888,
              "#fdca26"
             ],
             [
              1,
              "#f0f921"
             ]
            ],
            "type": "histogram2d"
           }
          ],
          "histogram2dcontour": [
           {
            "colorbar": {
             "outlinewidth": 0,
             "ticks": ""
            },
            "colorscale": [
             [
              0,
              "#0d0887"
             ],
             [
              0.1111111111111111,
              "#46039f"
             ],
             [
              0.2222222222222222,
              "#7201a8"
             ],
             [
              0.3333333333333333,
              "#9c179e"
             ],
             [
              0.4444444444444444,
              "#bd3786"
             ],
             [
              0.5555555555555556,
              "#d8576b"
             ],
             [
              0.6666666666666666,
              "#ed7953"
             ],
             [
              0.7777777777777778,
              "#fb9f3a"
             ],
             [
              0.8888888888888888,
              "#fdca26"
             ],
             [
              1,
              "#f0f921"
             ]
            ],
            "type": "histogram2dcontour"
           }
          ],
          "mesh3d": [
           {
            "colorbar": {
             "outlinewidth": 0,
             "ticks": ""
            },
            "type": "mesh3d"
           }
          ],
          "parcoords": [
           {
            "line": {
             "colorbar": {
              "outlinewidth": 0,
              "ticks": ""
             }
            },
            "type": "parcoords"
           }
          ],
          "pie": [
           {
            "automargin": true,
            "type": "pie"
           }
          ],
          "scatter": [
           {
            "marker": {
             "colorbar": {
              "outlinewidth": 0,
              "ticks": ""
             }
            },
            "type": "scatter"
           }
          ],
          "scatter3d": [
           {
            "line": {
             "colorbar": {
              "outlinewidth": 0,
              "ticks": ""
             }
            },
            "marker": {
             "colorbar": {
              "outlinewidth": 0,
              "ticks": ""
             }
            },
            "type": "scatter3d"
           }
          ],
          "scattercarpet": [
           {
            "marker": {
             "colorbar": {
              "outlinewidth": 0,
              "ticks": ""
             }
            },
            "type": "scattercarpet"
           }
          ],
          "scattergeo": [
           {
            "marker": {
             "colorbar": {
              "outlinewidth": 0,
              "ticks": ""
             }
            },
            "type": "scattergeo"
           }
          ],
          "scattergl": [
           {
            "marker": {
             "colorbar": {
              "outlinewidth": 0,
              "ticks": ""
             }
            },
            "type": "scattergl"
           }
          ],
          "scattermapbox": [
           {
            "marker": {
             "colorbar": {
              "outlinewidth": 0,
              "ticks": ""
             }
            },
            "type": "scattermapbox"
           }
          ],
          "scatterpolar": [
           {
            "marker": {
             "colorbar": {
              "outlinewidth": 0,
              "ticks": ""
             }
            },
            "type": "scatterpolar"
           }
          ],
          "scatterpolargl": [
           {
            "marker": {
             "colorbar": {
              "outlinewidth": 0,
              "ticks": ""
             }
            },
            "type": "scatterpolargl"
           }
          ],
          "scatterternary": [
           {
            "marker": {
             "colorbar": {
              "outlinewidth": 0,
              "ticks": ""
             }
            },
            "type": "scatterternary"
           }
          ],
          "surface": [
           {
            "colorbar": {
             "outlinewidth": 0,
             "ticks": ""
            },
            "colorscale": [
             [
              0,
              "#0d0887"
             ],
             [
              0.1111111111111111,
              "#46039f"
             ],
             [
              0.2222222222222222,
              "#7201a8"
             ],
             [
              0.3333333333333333,
              "#9c179e"
             ],
             [
              0.4444444444444444,
              "#bd3786"
             ],
             [
              0.5555555555555556,
              "#d8576b"
             ],
             [
              0.6666666666666666,
              "#ed7953"
             ],
             [
              0.7777777777777778,
              "#fb9f3a"
             ],
             [
              0.8888888888888888,
              "#fdca26"
             ],
             [
              1,
              "#f0f921"
             ]
            ],
            "type": "surface"
           }
          ],
          "table": [
           {
            "cells": {
             "fill": {
              "color": "#EBF0F8"
             },
             "line": {
              "color": "white"
             }
            },
            "header": {
             "fill": {
              "color": "#C8D4E3"
             },
             "line": {
              "color": "white"
             }
            },
            "type": "table"
           }
          ]
         },
         "layout": {
          "annotationdefaults": {
           "arrowcolor": "#2a3f5f",
           "arrowhead": 0,
           "arrowwidth": 1
          },
          "autotypenumbers": "strict",
          "coloraxis": {
           "colorbar": {
            "outlinewidth": 0,
            "ticks": ""
           }
          },
          "colorscale": {
           "diverging": [
            [
             0,
             "#8e0152"
            ],
            [
             0.1,
             "#c51b7d"
            ],
            [
             0.2,
             "#de77ae"
            ],
            [
             0.3,
             "#f1b6da"
            ],
            [
             0.4,
             "#fde0ef"
            ],
            [
             0.5,
             "#f7f7f7"
            ],
            [
             0.6,
             "#e6f5d0"
            ],
            [
             0.7,
             "#b8e186"
            ],
            [
             0.8,
             "#7fbc41"
            ],
            [
             0.9,
             "#4d9221"
            ],
            [
             1,
             "#276419"
            ]
           ],
           "sequential": [
            [
             0,
             "#0d0887"
            ],
            [
             0.1111111111111111,
             "#46039f"
            ],
            [
             0.2222222222222222,
             "#7201a8"
            ],
            [
             0.3333333333333333,
             "#9c179e"
            ],
            [
             0.4444444444444444,
             "#bd3786"
            ],
            [
             0.5555555555555556,
             "#d8576b"
            ],
            [
             0.6666666666666666,
             "#ed7953"
            ],
            [
             0.7777777777777778,
             "#fb9f3a"
            ],
            [
             0.8888888888888888,
             "#fdca26"
            ],
            [
             1,
             "#f0f921"
            ]
           ],
           "sequentialminus": [
            [
             0,
             "#0d0887"
            ],
            [
             0.1111111111111111,
             "#46039f"
            ],
            [
             0.2222222222222222,
             "#7201a8"
            ],
            [
             0.3333333333333333,
             "#9c179e"
            ],
            [
             0.4444444444444444,
             "#bd3786"
            ],
            [
             0.5555555555555556,
             "#d8576b"
            ],
            [
             0.6666666666666666,
             "#ed7953"
            ],
            [
             0.7777777777777778,
             "#fb9f3a"
            ],
            [
             0.8888888888888888,
             "#fdca26"
            ],
            [
             1,
             "#f0f921"
            ]
           ]
          },
          "colorway": [
           "#636efa",
           "#EF553B",
           "#00cc96",
           "#ab63fa",
           "#FFA15A",
           "#19d3f3",
           "#FF6692",
           "#B6E880",
           "#FF97FF",
           "#FECB52"
          ],
          "font": {
           "color": "#2a3f5f"
          },
          "geo": {
           "bgcolor": "white",
           "lakecolor": "white",
           "landcolor": "#E5ECF6",
           "showlakes": true,
           "showland": true,
           "subunitcolor": "white"
          },
          "hoverlabel": {
           "align": "left"
          },
          "hovermode": "closest",
          "mapbox": {
           "style": "light"
          },
          "paper_bgcolor": "white",
          "plot_bgcolor": "#E5ECF6",
          "polar": {
           "angularaxis": {
            "gridcolor": "white",
            "linecolor": "white",
            "ticks": ""
           },
           "bgcolor": "#E5ECF6",
           "radialaxis": {
            "gridcolor": "white",
            "linecolor": "white",
            "ticks": ""
           }
          },
          "scene": {
           "xaxis": {
            "backgroundcolor": "#E5ECF6",
            "gridcolor": "white",
            "gridwidth": 2,
            "linecolor": "white",
            "showbackground": true,
            "ticks": "",
            "zerolinecolor": "white"
           },
           "yaxis": {
            "backgroundcolor": "#E5ECF6",
            "gridcolor": "white",
            "gridwidth": 2,
            "linecolor": "white",
            "showbackground": true,
            "ticks": "",
            "zerolinecolor": "white"
           },
           "zaxis": {
            "backgroundcolor": "#E5ECF6",
            "gridcolor": "white",
            "gridwidth": 2,
            "linecolor": "white",
            "showbackground": true,
            "ticks": "",
            "zerolinecolor": "white"
           }
          },
          "shapedefaults": {
           "line": {
            "color": "#2a3f5f"
           }
          },
          "ternary": {
           "aaxis": {
            "gridcolor": "white",
            "linecolor": "white",
            "ticks": ""
           },
           "baxis": {
            "gridcolor": "white",
            "linecolor": "white",
            "ticks": ""
           },
           "bgcolor": "#E5ECF6",
           "caxis": {
            "gridcolor": "white",
            "linecolor": "white",
            "ticks": ""
           }
          },
          "title": {
           "x": 0.05
          },
          "xaxis": {
           "automargin": true,
           "gridcolor": "white",
           "linecolor": "white",
           "ticks": "",
           "title": {
            "standoff": 15
           },
           "zerolinecolor": "white",
           "zerolinewidth": 2
          },
          "yaxis": {
           "automargin": true,
           "gridcolor": "white",
           "linecolor": "white",
           "ticks": "",
           "title": {
            "standoff": 15
           },
           "zerolinecolor": "white",
           "zerolinewidth": 2
          }
         }
        },
        "title": {
         "text": "SW_2 vs Observations",
         "x": 0.5,
         "xanchor": "center",
         "y": 0.9,
         "yanchor": "top"
        },
        "width": 600,
        "xaxis": {
         "range": [
          0.9200000166893005,
          4.902866131177962
         ],
         "title": {
          "text": "Observation, Significant wave height [m]"
         }
        },
        "yaxis": {
         "range": [
          0.9200000166893005,
          4.902866131177962
         ],
         "scaleanchor": "x",
         "scaleratio": 1,
         "title": {
          "text": "Model, Significant wave height [m]"
         }
        }
       }
      }
     },
     "metadata": {}
    }
   ],
   "metadata": {}
  },
  {
   "cell_type": "markdown",
   "source": [
    "## Skill object\n",
    "\n",
    "The skill() and mean_skill() methods return a skill object that can visualize results in various ways. The primary methods of the skill object are:\n",
    "\n",
    "* style()\n",
    "* plot_bar()\n",
    "* plot_line()\n",
    "* plot_grid()\n",
    "* sel()"
   ],
   "metadata": {}
  },
  {
   "cell_type": "code",
   "execution_count": 22,
   "source": [
    "s = cc.skill()"
   ],
   "outputs": [],
   "metadata": {}
  },
  {
   "cell_type": "code",
   "execution_count": 23,
   "source": [
    "s.style()"
   ],
   "outputs": [
    {
     "output_type": "execute_result",
     "data": {
      "text/html": [
       "<style type=\"text/css\">\n",
       "#T_d9c23_row0_col1 {\n",
       "  background-color: #a9c6fd;\n",
       "  color: #000000;\n",
       "}\n",
       "#T_d9c23_row0_col2, #T_d9c23_row0_col3, #T_d9c23_row0_col4, #T_d9c23_row0_col6, #T_d9c23_row2_col5, #T_d9c23_row4_col7 {\n",
       "  background-color: #fff7ec;\n",
       "  color: #000000;\n",
       "  text-decoration: underline;\n",
       "  font-style: italic;\n",
       "  font-weight: bold;\n",
       "}\n",
       "#T_d9c23_row0_col5, #T_d9c23_row3_col5, #T_d9c23_row5_col2, #T_d9c23_row5_col3, #T_d9c23_row5_col4, #T_d9c23_row5_col6, #T_d9c23_row5_col7 {\n",
       "  background-color: #7f0000;\n",
       "  color: #f1f1f1;\n",
       "}\n",
       "#T_d9c23_row0_col7 {\n",
       "  background-color: #fff5e6;\n",
       "  color: #000000;\n",
       "}\n",
       "#T_d9c23_row1_col1 {\n",
       "  background-color: #3b4cc0;\n",
       "  color: #f1f1f1;\n",
       "}\n",
       "#T_d9c23_row1_col2 {\n",
       "  background-color: #ef6548;\n",
       "  color: #f1f1f1;\n",
       "}\n",
       "#T_d9c23_row1_col3 {\n",
       "  background-color: #fdb881;\n",
       "  color: #000000;\n",
       "}\n",
       "#T_d9c23_row1_col4 {\n",
       "  background-color: #fdba83;\n",
       "  color: #000000;\n",
       "}\n",
       "#T_d9c23_row1_col5, #T_d9c23_row4_col5 {\n",
       "  background-color: #e0442f;\n",
       "  color: #f1f1f1;\n",
       "}\n",
       "#T_d9c23_row1_col6 {\n",
       "  background-color: #fee2bc;\n",
       "  color: #000000;\n",
       "}\n",
       "#T_d9c23_row1_col7 {\n",
       "  background-color: #fdc28b;\n",
       "  color: #000000;\n",
       "}\n",
       "#T_d9c23_row2_col1 {\n",
       "  background-color: #dcdddd;\n",
       "  color: #000000;\n",
       "}\n",
       "#T_d9c23_row2_col2 {\n",
       "  background-color: #f06749;\n",
       "  color: #f1f1f1;\n",
       "}\n",
       "#T_d9c23_row2_col3 {\n",
       "  background-color: #e8553c;\n",
       "  color: #f1f1f1;\n",
       "}\n",
       "#T_d9c23_row2_col4 {\n",
       "  background-color: #ee6246;\n",
       "  color: #f1f1f1;\n",
       "}\n",
       "#T_d9c23_row2_col6 {\n",
       "  background-color: #ef6447;\n",
       "  color: #f1f1f1;\n",
       "}\n",
       "#T_d9c23_row2_col7 {\n",
       "  background-color: #fdad77;\n",
       "  color: #000000;\n",
       "}\n",
       "#T_d9c23_row3_col1 {\n",
       "  background-color: #dcdddd;\n",
       "  color: #000000;\n",
       "  text-decoration: underline;\n",
       "  font-style: italic;\n",
       "  font-weight: bold;\n",
       "}\n",
       "#T_d9c23_row3_col2 {\n",
       "  background-color: #fff2e0;\n",
       "  color: #000000;\n",
       "}\n",
       "#T_d9c23_row3_col3 {\n",
       "  background-color: #feecd2;\n",
       "  color: #000000;\n",
       "}\n",
       "#T_d9c23_row3_col4 {\n",
       "  background-color: #fff0dc;\n",
       "  color: #000000;\n",
       "}\n",
       "#T_d9c23_row3_col6 {\n",
       "  background-color: #feeace;\n",
       "  color: #000000;\n",
       "}\n",
       "#T_d9c23_row3_col7 {\n",
       "  background-color: #feedd4;\n",
       "  color: #000000;\n",
       "}\n",
       "#T_d9c23_row4_col1 {\n",
       "  background-color: #89acfd;\n",
       "  color: #000000;\n",
       "}\n",
       "#T_d9c23_row4_col2 {\n",
       "  background-color: #fdc38c;\n",
       "  color: #000000;\n",
       "}\n",
       "#T_d9c23_row4_col3 {\n",
       "  background-color: #fdcb95;\n",
       "  color: #000000;\n",
       "}\n",
       "#T_d9c23_row4_col4 {\n",
       "  background-color: #fee4bf;\n",
       "  color: #000000;\n",
       "}\n",
       "#T_d9c23_row4_col6 {\n",
       "  background-color: #feeed7;\n",
       "  color: #000000;\n",
       "}\n",
       "#T_d9c23_row5_col1 {\n",
       "  background-color: #f7a98b;\n",
       "  color: #000000;\n",
       "}\n",
       "#T_d9c23_row5_col5 {\n",
       "  background-color: #fff7ec;\n",
       "  color: #000000;\n",
       "}\n",
       "</style>\n",
       "<table id=\"T_d9c23_\">\n",
       "  <thead>\n",
       "    <tr>\n",
       "      <th class=\"blank\" >&nbsp;</th>\n",
       "      <th class=\"blank level0\" >&nbsp;</th>\n",
       "      <th class=\"col_heading level0 col0\" >n</th>\n",
       "      <th class=\"col_heading level0 col1\" >bias</th>\n",
       "      <th class=\"col_heading level0 col2\" >rmse</th>\n",
       "      <th class=\"col_heading level0 col3\" >urmse</th>\n",
       "      <th class=\"col_heading level0 col4\" >mae</th>\n",
       "      <th class=\"col_heading level0 col5\" >cc</th>\n",
       "      <th class=\"col_heading level0 col6\" >si</th>\n",
       "      <th class=\"col_heading level0 col7\" >r2</th>\n",
       "    </tr>\n",
       "    <tr>\n",
       "      <th class=\"index_name level0\" >model</th>\n",
       "      <th class=\"index_name level1\" >observation</th>\n",
       "      <th class=\"blank col0\" >&nbsp;</th>\n",
       "      <th class=\"blank col1\" >&nbsp;</th>\n",
       "      <th class=\"blank col2\" >&nbsp;</th>\n",
       "      <th class=\"blank col3\" >&nbsp;</th>\n",
       "      <th class=\"blank col4\" >&nbsp;</th>\n",
       "      <th class=\"blank col5\" >&nbsp;</th>\n",
       "      <th class=\"blank col6\" >&nbsp;</th>\n",
       "      <th class=\"blank col7\" >&nbsp;</th>\n",
       "    </tr>\n",
       "  </thead>\n",
       "  <tbody>\n",
       "    <tr>\n",
       "      <th id=\"T_d9c23_level0_row0\" class=\"row_heading level0 row0\" rowspan=\"3\">SW_1</th>\n",
       "      <th id=\"T_d9c23_level1_row0\" class=\"row_heading level1 row0\" >EPL</th>\n",
       "      <td id=\"T_d9c23_row0_col0\" class=\"data row0 col0\" >67</td>\n",
       "      <td id=\"T_d9c23_row0_col1\" class=\"data row0 col1\" >-0.067</td>\n",
       "      <td id=\"T_d9c23_row0_col2\" class=\"data row0 col2\" >0.224</td>\n",
       "      <td id=\"T_d9c23_row0_col3\" class=\"data row0 col3\" >0.213</td>\n",
       "      <td id=\"T_d9c23_row0_col4\" class=\"data row0 col4\" >0.189</td>\n",
       "      <td id=\"T_d9c23_row0_col5\" class=\"data row0 col5\" >0.970</td>\n",
       "      <td id=\"T_d9c23_row0_col6\" class=\"data row0 col6\" >0.078</td>\n",
       "      <td id=\"T_d9c23_row0_col7\" class=\"data row0 col7\" >0.933</td>\n",
       "    </tr>\n",
       "    <tr>\n",
       "      <th id=\"T_d9c23_level1_row1\" class=\"row_heading level1 row1\" >HKNA</th>\n",
       "      <td id=\"T_d9c23_row1_col0\" class=\"data row1 col0\" >386</td>\n",
       "      <td id=\"T_d9c23_row1_col1\" class=\"data row1 col1\" >-0.194</td>\n",
       "      <td id=\"T_d9c23_row1_col2\" class=\"data row1 col2\" >0.352</td>\n",
       "      <td id=\"T_d9c23_row1_col3\" class=\"data row1 col3\" >0.293</td>\n",
       "      <td id=\"T_d9c23_row1_col4\" class=\"data row1 col4\" >0.252</td>\n",
       "      <td id=\"T_d9c23_row1_col5\" class=\"data row1 col5\" >0.971</td>\n",
       "      <td id=\"T_d9c23_row1_col6\" class=\"data row1 col6\" >0.089</td>\n",
       "      <td id=\"T_d9c23_row1_col7\" class=\"data row1 col7\" >0.905</td>\n",
       "    </tr>\n",
       "    <tr>\n",
       "      <th id=\"T_d9c23_level1_row2\" class=\"row_heading level1 row2\" >c2</th>\n",
       "      <td id=\"T_d9c23_row2_col0\" class=\"data row2 col0\" >113</td>\n",
       "      <td id=\"T_d9c23_row2_col1\" class=\"data row2 col1\" >-0.001</td>\n",
       "      <td id=\"T_d9c23_row2_col2\" class=\"data row2 col2\" >0.352</td>\n",
       "      <td id=\"T_d9c23_row2_col3\" class=\"data row2 col3\" >0.352</td>\n",
       "      <td id=\"T_d9c23_row2_col4\" class=\"data row2 col4\" >0.295</td>\n",
       "      <td id=\"T_d9c23_row2_col5\" class=\"data row2 col5\" >0.974</td>\n",
       "      <td id=\"T_d9c23_row2_col6\" class=\"data row2 col6\" >0.119</td>\n",
       "      <td id=\"T_d9c23_row2_col7\" class=\"data row2 col7\" >0.900</td>\n",
       "    </tr>\n",
       "    <tr>\n",
       "      <th id=\"T_d9c23_level0_row3\" class=\"row_heading level0 row3\" rowspan=\"3\">SW_2</th>\n",
       "      <th id=\"T_d9c23_level1_row3\" class=\"row_heading level1 row3\" >EPL</th>\n",
       "      <td id=\"T_d9c23_row3_col0\" class=\"data row3 col0\" >67</td>\n",
       "      <td id=\"T_d9c23_row3_col1\" class=\"data row3 col1\" >-0.000</td>\n",
       "      <td id=\"T_d9c23_row3_col2\" class=\"data row3 col2\" >0.232</td>\n",
       "      <td id=\"T_d9c23_row3_col3\" class=\"data row3 col3\" >0.232</td>\n",
       "      <td id=\"T_d9c23_row3_col4\" class=\"data row3 col4\" >0.198</td>\n",
       "      <td id=\"T_d9c23_row3_col5\" class=\"data row3 col5\" >0.970</td>\n",
       "      <td id=\"T_d9c23_row3_col6\" class=\"data row3 col6\" >0.085</td>\n",
       "      <td id=\"T_d9c23_row3_col7\" class=\"data row3 col7\" >0.927</td>\n",
       "    </tr>\n",
       "    <tr>\n",
       "      <th id=\"T_d9c23_level1_row4\" class=\"row_heading level1 row4\" >HKNA</th>\n",
       "      <td id=\"T_d9c23_row4_col0\" class=\"data row4 col0\" >386</td>\n",
       "      <td id=\"T_d9c23_row4_col1\" class=\"data row4 col1\" >-0.100</td>\n",
       "      <td id=\"T_d9c23_row4_col2\" class=\"data row4 col2\" >0.293</td>\n",
       "      <td id=\"T_d9c23_row4_col3\" class=\"data row4 col3\" >0.275</td>\n",
       "      <td id=\"T_d9c23_row4_col4\" class=\"data row4 col4\" >0.214</td>\n",
       "      <td id=\"T_d9c23_row4_col5\" class=\"data row4 col5\" >0.971</td>\n",
       "      <td id=\"T_d9c23_row4_col6\" class=\"data row4 col6\" >0.083</td>\n",
       "      <td id=\"T_d9c23_row4_col7\" class=\"data row4 col7\" >0.934</td>\n",
       "    </tr>\n",
       "    <tr>\n",
       "      <th id=\"T_d9c23_level1_row5\" class=\"row_heading level1 row5\" >c2</th>\n",
       "      <td id=\"T_d9c23_row5_col0\" class=\"data row5 col0\" >113</td>\n",
       "      <td id=\"T_d9c23_row5_col1\" class=\"data row5 col1\" >0.081</td>\n",
       "      <td id=\"T_d9c23_row5_col2\" class=\"data row5 col2\" >0.430</td>\n",
       "      <td id=\"T_d9c23_row5_col3\" class=\"data row5 col3\" >0.422</td>\n",
       "      <td id=\"T_d9c23_row5_col4\" class=\"data row5 col4\" >0.357</td>\n",
       "      <td id=\"T_d9c23_row5_col5\" class=\"data row5 col5\" >0.974</td>\n",
       "      <td id=\"T_d9c23_row5_col6\" class=\"data row5 col6\" >0.142</td>\n",
       "      <td id=\"T_d9c23_row5_col7\" class=\"data row5 col7\" >0.850</td>\n",
       "    </tr>\n",
       "  </tbody>\n",
       "</table>\n"
      ],
      "text/plain": [
       "<pandas.io.formats.style.Styler at 0x1e4aa2a5a00>"
      ]
     },
     "metadata": {},
     "execution_count": 23
    }
   ],
   "metadata": {}
  },
  {
   "cell_type": "code",
   "execution_count": 24,
   "source": [
    "s.style(columns='rmse')"
   ],
   "outputs": [
    {
     "output_type": "execute_result",
     "data": {
      "text/html": [
       "<style type=\"text/css\">\n",
       "#T_4565c_row0_col2 {\n",
       "  background-color: #fff7ec;\n",
       "  color: #000000;\n",
       "  text-decoration: underline;\n",
       "  font-style: italic;\n",
       "  font-weight: bold;\n",
       "}\n",
       "#T_4565c_row0_col3, #T_4565c_row0_col4, #T_4565c_row0_col6, #T_4565c_row2_col5, #T_4565c_row3_col1, #T_4565c_row4_col7 {\n",
       "  text-decoration: underline;\n",
       "  font-style: italic;\n",
       "  font-weight: bold;\n",
       "}\n",
       "#T_4565c_row1_col2 {\n",
       "  background-color: #ef6548;\n",
       "  color: #f1f1f1;\n",
       "}\n",
       "#T_4565c_row2_col2 {\n",
       "  background-color: #f06749;\n",
       "  color: #f1f1f1;\n",
       "}\n",
       "#T_4565c_row3_col2 {\n",
       "  background-color: #fff2e0;\n",
       "  color: #000000;\n",
       "}\n",
       "#T_4565c_row4_col2 {\n",
       "  background-color: #fdc38c;\n",
       "  color: #000000;\n",
       "}\n",
       "#T_4565c_row5_col2 {\n",
       "  background-color: #7f0000;\n",
       "  color: #f1f1f1;\n",
       "}\n",
       "</style>\n",
       "<table id=\"T_4565c_\">\n",
       "  <thead>\n",
       "    <tr>\n",
       "      <th class=\"blank\" >&nbsp;</th>\n",
       "      <th class=\"blank level0\" >&nbsp;</th>\n",
       "      <th class=\"col_heading level0 col0\" >n</th>\n",
       "      <th class=\"col_heading level0 col1\" >bias</th>\n",
       "      <th class=\"col_heading level0 col2\" >rmse</th>\n",
       "      <th class=\"col_heading level0 col3\" >urmse</th>\n",
       "      <th class=\"col_heading level0 col4\" >mae</th>\n",
       "      <th class=\"col_heading level0 col5\" >cc</th>\n",
       "      <th class=\"col_heading level0 col6\" >si</th>\n",
       "      <th class=\"col_heading level0 col7\" >r2</th>\n",
       "    </tr>\n",
       "    <tr>\n",
       "      <th class=\"index_name level0\" >model</th>\n",
       "      <th class=\"index_name level1\" >observation</th>\n",
       "      <th class=\"blank col0\" >&nbsp;</th>\n",
       "      <th class=\"blank col1\" >&nbsp;</th>\n",
       "      <th class=\"blank col2\" >&nbsp;</th>\n",
       "      <th class=\"blank col3\" >&nbsp;</th>\n",
       "      <th class=\"blank col4\" >&nbsp;</th>\n",
       "      <th class=\"blank col5\" >&nbsp;</th>\n",
       "      <th class=\"blank col6\" >&nbsp;</th>\n",
       "      <th class=\"blank col7\" >&nbsp;</th>\n",
       "    </tr>\n",
       "  </thead>\n",
       "  <tbody>\n",
       "    <tr>\n",
       "      <th id=\"T_4565c_level0_row0\" class=\"row_heading level0 row0\" rowspan=\"3\">SW_1</th>\n",
       "      <th id=\"T_4565c_level1_row0\" class=\"row_heading level1 row0\" >EPL</th>\n",
       "      <td id=\"T_4565c_row0_col0\" class=\"data row0 col0\" >67</td>\n",
       "      <td id=\"T_4565c_row0_col1\" class=\"data row0 col1\" >-0.067</td>\n",
       "      <td id=\"T_4565c_row0_col2\" class=\"data row0 col2\" >0.224</td>\n",
       "      <td id=\"T_4565c_row0_col3\" class=\"data row0 col3\" >0.213</td>\n",
       "      <td id=\"T_4565c_row0_col4\" class=\"data row0 col4\" >0.189</td>\n",
       "      <td id=\"T_4565c_row0_col5\" class=\"data row0 col5\" >0.970</td>\n",
       "      <td id=\"T_4565c_row0_col6\" class=\"data row0 col6\" >0.078</td>\n",
       "      <td id=\"T_4565c_row0_col7\" class=\"data row0 col7\" >0.933</td>\n",
       "    </tr>\n",
       "    <tr>\n",
       "      <th id=\"T_4565c_level1_row1\" class=\"row_heading level1 row1\" >HKNA</th>\n",
       "      <td id=\"T_4565c_row1_col0\" class=\"data row1 col0\" >386</td>\n",
       "      <td id=\"T_4565c_row1_col1\" class=\"data row1 col1\" >-0.194</td>\n",
       "      <td id=\"T_4565c_row1_col2\" class=\"data row1 col2\" >0.352</td>\n",
       "      <td id=\"T_4565c_row1_col3\" class=\"data row1 col3\" >0.293</td>\n",
       "      <td id=\"T_4565c_row1_col4\" class=\"data row1 col4\" >0.252</td>\n",
       "      <td id=\"T_4565c_row1_col5\" class=\"data row1 col5\" >0.971</td>\n",
       "      <td id=\"T_4565c_row1_col6\" class=\"data row1 col6\" >0.089</td>\n",
       "      <td id=\"T_4565c_row1_col7\" class=\"data row1 col7\" >0.905</td>\n",
       "    </tr>\n",
       "    <tr>\n",
       "      <th id=\"T_4565c_level1_row2\" class=\"row_heading level1 row2\" >c2</th>\n",
       "      <td id=\"T_4565c_row2_col0\" class=\"data row2 col0\" >113</td>\n",
       "      <td id=\"T_4565c_row2_col1\" class=\"data row2 col1\" >-0.001</td>\n",
       "      <td id=\"T_4565c_row2_col2\" class=\"data row2 col2\" >0.352</td>\n",
       "      <td id=\"T_4565c_row2_col3\" class=\"data row2 col3\" >0.352</td>\n",
       "      <td id=\"T_4565c_row2_col4\" class=\"data row2 col4\" >0.295</td>\n",
       "      <td id=\"T_4565c_row2_col5\" class=\"data row2 col5\" >0.974</td>\n",
       "      <td id=\"T_4565c_row2_col6\" class=\"data row2 col6\" >0.119</td>\n",
       "      <td id=\"T_4565c_row2_col7\" class=\"data row2 col7\" >0.900</td>\n",
       "    </tr>\n",
       "    <tr>\n",
       "      <th id=\"T_4565c_level0_row3\" class=\"row_heading level0 row3\" rowspan=\"3\">SW_2</th>\n",
       "      <th id=\"T_4565c_level1_row3\" class=\"row_heading level1 row3\" >EPL</th>\n",
       "      <td id=\"T_4565c_row3_col0\" class=\"data row3 col0\" >67</td>\n",
       "      <td id=\"T_4565c_row3_col1\" class=\"data row3 col1\" >-0.000</td>\n",
       "      <td id=\"T_4565c_row3_col2\" class=\"data row3 col2\" >0.232</td>\n",
       "      <td id=\"T_4565c_row3_col3\" class=\"data row3 col3\" >0.232</td>\n",
       "      <td id=\"T_4565c_row3_col4\" class=\"data row3 col4\" >0.198</td>\n",
       "      <td id=\"T_4565c_row3_col5\" class=\"data row3 col5\" >0.970</td>\n",
       "      <td id=\"T_4565c_row3_col6\" class=\"data row3 col6\" >0.085</td>\n",
       "      <td id=\"T_4565c_row3_col7\" class=\"data row3 col7\" >0.927</td>\n",
       "    </tr>\n",
       "    <tr>\n",
       "      <th id=\"T_4565c_level1_row4\" class=\"row_heading level1 row4\" >HKNA</th>\n",
       "      <td id=\"T_4565c_row4_col0\" class=\"data row4 col0\" >386</td>\n",
       "      <td id=\"T_4565c_row4_col1\" class=\"data row4 col1\" >-0.100</td>\n",
       "      <td id=\"T_4565c_row4_col2\" class=\"data row4 col2\" >0.293</td>\n",
       "      <td id=\"T_4565c_row4_col3\" class=\"data row4 col3\" >0.275</td>\n",
       "      <td id=\"T_4565c_row4_col4\" class=\"data row4 col4\" >0.214</td>\n",
       "      <td id=\"T_4565c_row4_col5\" class=\"data row4 col5\" >0.971</td>\n",
       "      <td id=\"T_4565c_row4_col6\" class=\"data row4 col6\" >0.083</td>\n",
       "      <td id=\"T_4565c_row4_col7\" class=\"data row4 col7\" >0.934</td>\n",
       "    </tr>\n",
       "    <tr>\n",
       "      <th id=\"T_4565c_level1_row5\" class=\"row_heading level1 row5\" >c2</th>\n",
       "      <td id=\"T_4565c_row5_col0\" class=\"data row5 col0\" >113</td>\n",
       "      <td id=\"T_4565c_row5_col1\" class=\"data row5 col1\" >0.081</td>\n",
       "      <td id=\"T_4565c_row5_col2\" class=\"data row5 col2\" >0.430</td>\n",
       "      <td id=\"T_4565c_row5_col3\" class=\"data row5 col3\" >0.422</td>\n",
       "      <td id=\"T_4565c_row5_col4\" class=\"data row5 col4\" >0.357</td>\n",
       "      <td id=\"T_4565c_row5_col5\" class=\"data row5 col5\" >0.974</td>\n",
       "      <td id=\"T_4565c_row5_col6\" class=\"data row5 col6\" >0.142</td>\n",
       "      <td id=\"T_4565c_row5_col7\" class=\"data row5 col7\" >0.850</td>\n",
       "    </tr>\n",
       "  </tbody>\n",
       "</table>\n"
      ],
      "text/plain": [
       "<pandas.io.formats.style.Styler at 0x1e4aa4f2610>"
      ]
     },
     "metadata": {},
     "execution_count": 24
    }
   ],
   "metadata": {}
  },
  {
   "cell_type": "code",
   "execution_count": 25,
   "source": [
    "s.plot_bar('rmse');"
   ],
   "outputs": [
    {
     "output_type": "display_data",
     "data": {
      "image/png": "[encoded data removed]",
      "text/plain": [
       "<Figure size 432x288 with 1 Axes>"
      ]
     },
     "metadata": {
      "needs_background": "light"
     }
    }
   ],
   "metadata": {}
  },
  {
   "cell_type": "code",
   "execution_count": 26,
   "source": [
    "s = cc.skill(by=['model','freq:12H'], metrics=['bias','rmse','si'])"
   ],
   "outputs": [],
   "metadata": {}
  },
  {
   "cell_type": "code",
   "execution_count": 27,
   "source": [
    "s.style()"
   ],
   "outputs": [
    {
     "output_type": "execute_result",
     "data": {
      "text/html": [
       "<style type=\"text/css\">\n",
       "#T_9bf55_row0_col1 {\n",
       "  background-color: #bbd1f8;\n",
       "  color: #000000;\n",
       "}\n",
       "#T_9bf55_row0_col2 {\n",
       "  background-color: #fdd6a2;\n",
       "  color: #000000;\n",
       "}\n",
       "#T_9bf55_row0_col3, #T_9bf55_row4_col2 {\n",
       "  background-color: #7f0000;\n",
       "  color: #f1f1f1;\n",
       "}\n",
       "#T_9bf55_row1_col1 {\n",
       "  background-color: #9fbfff;\n",
       "  color: #000000;\n",
       "}\n",
       "#T_9bf55_row1_col2 {\n",
       "  background-color: #fdd7a4;\n",
       "  color: #000000;\n",
       "}\n",
       "#T_9bf55_row1_col3 {\n",
       "  background-color: #ea5a3f;\n",
       "  color: #f1f1f1;\n",
       "}\n",
       "#T_9bf55_row2_col1 {\n",
       "  background-color: #b6cefa;\n",
       "  color: #000000;\n",
       "}\n",
       "#T_9bf55_row2_col2 {\n",
       "  background-color: #feefda;\n",
       "  color: #000000;\n",
       "}\n",
       "#T_9bf55_row2_col3 {\n",
       "  background-color: #fff7ec;\n",
       "  color: #000000;\n",
       "}\n",
       "#T_9bf55_row3_col1 {\n",
       "  background-color: #d1dae9;\n",
       "  color: #000000;\n",
       "}\n",
       "#T_9bf55_row3_col2 {\n",
       "  background-color: #fee9ca;\n",
       "  color: #000000;\n",
       "}\n",
       "#T_9bf55_row3_col3 {\n",
       "  background-color: #fff3e2;\n",
       "  color: #000000;\n",
       "}\n",
       "#T_9bf55_row4_col1 {\n",
       "  background-color: #3b4cc0;\n",
       "  color: #f1f1f1;\n",
       "}\n",
       "#T_9bf55_row4_col3 {\n",
       "  background-color: #f67c52;\n",
       "  color: #f1f1f1;\n",
       "}\n",
       "#T_9bf55_row5_col1 {\n",
       "  background-color: #dedcdb;\n",
       "  color: #000000;\n",
       "  text-decoration: underline;\n",
       "  font-style: italic;\n",
       "  font-weight: bold;\n",
       "}\n",
       "#T_9bf55_row5_col2 {\n",
       "  background-color: #f16c4b;\n",
       "  color: #f1f1f1;\n",
       "}\n",
       "#T_9bf55_row5_col3 {\n",
       "  background-color: #bd0e09;\n",
       "  color: #f1f1f1;\n",
       "}\n",
       "#T_9bf55_row6_col1 {\n",
       "  background-color: #c5d6f2;\n",
       "  color: #000000;\n",
       "}\n",
       "#T_9bf55_row6_col2 {\n",
       "  background-color: #fdddb1;\n",
       "  color: #000000;\n",
       "}\n",
       "#T_9bf55_row6_col3 {\n",
       "  background-color: #ab0000;\n",
       "  color: #f1f1f1;\n",
       "}\n",
       "#T_9bf55_row7_col1 {\n",
       "  background-color: #a7c5fe;\n",
       "  color: #000000;\n",
       "}\n",
       "#T_9bf55_row7_col2 {\n",
       "  background-color: #fdd9aa;\n",
       "  color: #000000;\n",
       "}\n",
       "#T_9bf55_row7_col3 {\n",
       "  background-color: #dd3e2a;\n",
       "  color: #f1f1f1;\n",
       "}\n",
       "#T_9bf55_row8_col1 {\n",
       "  background-color: #cbd8ee;\n",
       "  color: #000000;\n",
       "}\n",
       "#T_9bf55_row8_col2, #T_9bf55_row8_col3 {\n",
       "  background-color: #fff7ec;\n",
       "  color: #000000;\n",
       "  text-decoration: underline;\n",
       "  font-style: italic;\n",
       "  font-weight: bold;\n",
       "}\n",
       "#T_9bf55_row9_col1 {\n",
       "  background-color: #f2c9b4;\n",
       "  color: #000000;\n",
       "}\n",
       "#T_9bf55_row9_col2 {\n",
       "  background-color: #fddeb3;\n",
       "  color: #000000;\n",
       "}\n",
       "#T_9bf55_row9_col3 {\n",
       "  background-color: #feeacc;\n",
       "  color: #000000;\n",
       "}\n",
       "#T_9bf55_row10_col1 {\n",
       "  background-color: #86a9fc;\n",
       "  color: #f1f1f1;\n",
       "}\n",
       "#T_9bf55_row10_col2 {\n",
       "  background-color: #da3724;\n",
       "  color: #f1f1f1;\n",
       "}\n",
       "#T_9bf55_row10_col3 {\n",
       "  background-color: #f77f53;\n",
       "  color: #f1f1f1;\n",
       "}\n",
       "#T_9bf55_row11_col1 {\n",
       "  background-color: #f7aa8c;\n",
       "  color: #000000;\n",
       "}\n",
       "#T_9bf55_row11_col2 {\n",
       "  background-color: #dc3a27;\n",
       "  color: #f1f1f1;\n",
       "}\n",
       "#T_9bf55_row11_col3 {\n",
       "  background-color: #9c0000;\n",
       "  color: #f1f1f1;\n",
       "}\n",
       "</style>\n",
       "<table id=\"T_9bf55_\">\n",
       "  <thead>\n",
       "    <tr>\n",
       "      <th class=\"blank\" >&nbsp;</th>\n",
       "      <th class=\"blank level0\" >&nbsp;</th>\n",
       "      <th class=\"col_heading level0 col0\" >n</th>\n",
       "      <th class=\"col_heading level0 col1\" >bias</th>\n",
       "      <th class=\"col_heading level0 col2\" >rmse</th>\n",
       "      <th class=\"col_heading level0 col3\" >si</th>\n",
       "    </tr>\n",
       "    <tr>\n",
       "      <th class=\"index_name level0\" >model</th>\n",
       "      <th class=\"index_name level1\" >datetime</th>\n",
       "      <th class=\"blank col0\" >&nbsp;</th>\n",
       "      <th class=\"blank col1\" >&nbsp;</th>\n",
       "      <th class=\"blank col2\" >&nbsp;</th>\n",
       "      <th class=\"blank col3\" >&nbsp;</th>\n",
       "    </tr>\n",
       "  </thead>\n",
       "  <tbody>\n",
       "    <tr>\n",
       "      <th id=\"T_9bf55_level0_row0\" class=\"row_heading level0 row0\" rowspan=\"6\">SW_1</th>\n",
       "      <th id=\"T_9bf55_level1_row0\" class=\"row_heading level1 row0\" >2017-10-27 00:00:00</th>\n",
       "      <td id=\"T_9bf55_row0_col0\" class=\"data row0 col0\" >84</td>\n",
       "      <td id=\"T_9bf55_row0_col1\" class=\"data row0 col1\" >-0.096</td>\n",
       "      <td id=\"T_9bf55_row0_col2\" class=\"data row0 col2\" >0.257</td>\n",
       "      <td id=\"T_9bf55_row0_col3\" class=\"data row0 col3\" >0.114</td>\n",
       "    </tr>\n",
       "    <tr>\n",
       "      <th id=\"T_9bf55_level1_row1\" class=\"row_heading level1 row1\" >2017-10-27 12:00:00</th>\n",
       "      <td id=\"T_9bf55_row1_col0\" class=\"data row1 col0\" >156</td>\n",
       "      <td id=\"T_9bf55_row1_col1\" class=\"data row1 col1\" >-0.166</td>\n",
       "      <td id=\"T_9bf55_row1_col2\" class=\"data row1 col2\" >0.253</td>\n",
       "      <td id=\"T_9bf55_row1_col3\" class=\"data row1 col3\" >0.094</td>\n",
       "    </tr>\n",
       "    <tr>\n",
       "      <th id=\"T_9bf55_level1_row2\" class=\"row_heading level1 row2\" >2017-10-28 00:00:00</th>\n",
       "      <td id=\"T_9bf55_row2_col0\" class=\"data row2 col0\" >77</td>\n",
       "      <td id=\"T_9bf55_row2_col1\" class=\"data row2 col1\" >-0.111</td>\n",
       "      <td id=\"T_9bf55_row2_col2\" class=\"data row2 col2\" >0.178</td>\n",
       "      <td id=\"T_9bf55_row2_col3\" class=\"data row2 col3\" >0.056</td>\n",
       "    </tr>\n",
       "    <tr>\n",
       "      <th id=\"T_9bf55_level1_row3\" class=\"row_heading level1 row3\" >2017-10-28 12:00:00</th>\n",
       "      <td id=\"T_9bf55_row3_col0\" class=\"data row3 col0\" >84</td>\n",
       "      <td id=\"T_9bf55_row3_col1\" class=\"data row3 col1\" >-0.037</td>\n",
       "      <td id=\"T_9bf55_row3_col2\" class=\"data row3 col2\" >0.204</td>\n",
       "      <td id=\"T_9bf55_row3_col3\" class=\"data row3 col3\" >0.058</td>\n",
       "    </tr>\n",
       "    <tr>\n",
       "      <th id=\"T_9bf55_level1_row4\" class=\"row_heading level1 row4\" >2017-10-29 00:00:00</th>\n",
       "      <td id=\"T_9bf55_row4_col0\" class=\"data row4 col0\" >82</td>\n",
       "      <td id=\"T_9bf55_row4_col1\" class=\"data row4 col1\" >-0.421</td>\n",
       "      <td id=\"T_9bf55_row4_col2\" class=\"data row4 col2\" >0.596</td>\n",
       "      <td id=\"T_9bf55_row4_col3\" class=\"data row4 col3\" >0.088</td>\n",
       "    </tr>\n",
       "    <tr>\n",
       "      <th id=\"T_9bf55_level1_row5\" class=\"row_heading level1 row5\" >2017-10-29 12:00:00</th>\n",
       "      <td id=\"T_9bf55_row5_col0\" class=\"data row5 col0\" >83</td>\n",
       "      <td id=\"T_9bf55_row5_col1\" class=\"data row5 col1\" >0.007</td>\n",
       "      <td id=\"T_9bf55_row5_col2\" class=\"data row5 col2\" >0.419</td>\n",
       "      <td id=\"T_9bf55_row5_col3\" class=\"data row5 col3\" >0.105</td>\n",
       "    </tr>\n",
       "    <tr>\n",
       "      <th id=\"T_9bf55_level0_row6\" class=\"row_heading level0 row6\" rowspan=\"6\">SW_2</th>\n",
       "      <th id=\"T_9bf55_level1_row6\" class=\"row_heading level1 row6\" >2017-10-27 00:00:00</th>\n",
       "      <td id=\"T_9bf55_row6_col0\" class=\"data row6 col0\" >84</td>\n",
       "      <td id=\"T_9bf55_row6_col1\" class=\"data row6 col1\" >-0.070</td>\n",
       "      <td id=\"T_9bf55_row6_col2\" class=\"data row6 col2\" >0.236</td>\n",
       "      <td id=\"T_9bf55_row6_col3\" class=\"data row6 col3\" >0.108</td>\n",
       "    </tr>\n",
       "    <tr>\n",
       "      <th id=\"T_9bf55_level1_row7\" class=\"row_heading level1 row7\" >2017-10-27 12:00:00</th>\n",
       "      <td id=\"T_9bf55_row7_col0\" class=\"data row7 col0\" >156</td>\n",
       "      <td id=\"T_9bf55_row7_col1\" class=\"data row7 col1\" >-0.146</td>\n",
       "      <td id=\"T_9bf55_row7_col2\" class=\"data row7 col2\" >0.247</td>\n",
       "      <td id=\"T_9bf55_row7_col3\" class=\"data row7 col3\" >0.098</td>\n",
       "    </tr>\n",
       "    <tr>\n",
       "      <th id=\"T_9bf55_level1_row8\" class=\"row_heading level1 row8\" >2017-10-28 00:00:00</th>\n",
       "      <td id=\"T_9bf55_row8_col0\" class=\"data row8 col0\" >77</td>\n",
       "      <td id=\"T_9bf55_row8_col1\" class=\"data row8 col1\" >-0.056</td>\n",
       "      <td id=\"T_9bf55_row8_col2\" class=\"data row8 col2\" >0.150</td>\n",
       "      <td id=\"T_9bf55_row8_col3\" class=\"data row8 col3\" >0.056</td>\n",
       "    </tr>\n",
       "    <tr>\n",
       "      <th id=\"T_9bf55_level1_row9\" class=\"row_heading level1 row9\" >2017-10-28 12:00:00</th>\n",
       "      <td id=\"T_9bf55_row9_col0\" class=\"data row9 col0\" >84</td>\n",
       "      <td id=\"T_9bf55_row9_col1\" class=\"data row9 col1\" >0.091</td>\n",
       "      <td id=\"T_9bf55_row9_col2\" class=\"data row9 col2\" >0.234</td>\n",
       "      <td id=\"T_9bf55_row9_col3\" class=\"data row9 col3\" >0.062</td>\n",
       "    </tr>\n",
       "    <tr>\n",
       "      <th id=\"T_9bf55_level1_row10\" class=\"row_heading level1 row10\" >2017-10-29 00:00:00</th>\n",
       "      <td id=\"T_9bf55_row10_col0\" class=\"data row10 col0\" >82</td>\n",
       "      <td id=\"T_9bf55_row10_col1\" class=\"data row10 col1\" >-0.226</td>\n",
       "      <td id=\"T_9bf55_row10_col2\" class=\"data row10 col2\" >0.477</td>\n",
       "      <td id=\"T_9bf55_row10_col3\" class=\"data row10 col3\" >0.088</td>\n",
       "    </tr>\n",
       "    <tr>\n",
       "      <th id=\"T_9bf55_level1_row11\" class=\"row_heading level1 row11\" >2017-10-29 12:00:00</th>\n",
       "      <td id=\"T_9bf55_row11_col0\" class=\"data row11 col0\" >83</td>\n",
       "      <td id=\"T_9bf55_row11_col1\" class=\"data row11 col1\" >0.173</td>\n",
       "      <td id=\"T_9bf55_row11_col2\" class=\"data row11 col2\" >0.472</td>\n",
       "      <td id=\"T_9bf55_row11_col3\" class=\"data row11 col3\" >0.110</td>\n",
       "    </tr>\n",
       "  </tbody>\n",
       "</table>\n"
      ],
      "text/plain": [
       "<pandas.io.formats.style.Styler at 0x1e4a273d130>"
      ]
     },
     "metadata": {},
     "execution_count": 27
    }
   ],
   "metadata": {}
  },
  {
   "cell_type": "code",
   "execution_count": 28,
   "source": [
    "s.plot_line('rmse', title='Hm0 rmse [m]');"
   ],
   "outputs": [
    {
     "output_type": "display_data",
     "data": {
      "image/png": "[encoded data removed]",
      "text/plain": [
       "<Figure size 432x288 with 1 Axes>"
      ]
     },
     "metadata": {
      "needs_background": "light"
     }
    }
   ],
   "metadata": {}
  },
  {
   "cell_type": "code",
   "execution_count": 29,
   "source": [
    "s.plot_grid('si', fmt='0.1%', title='Hm0 Scatter index');"
   ],
   "outputs": [
    {
     "output_type": "display_data",
     "data": {
      "image/png": "[encoded data removed]",
      "text/plain": [
       "<Figure size 432x144 with 1 Axes>"
      ]
     },
     "metadata": {
      "needs_background": "light"
     }
    }
   ],
   "metadata": {}
  },
  {
   "cell_type": "markdown",
   "source": [
    "### The sel() method can subset the skill object \n",
    "\n",
    "A new skill object will be returned"
   ],
   "metadata": {}
  },
  {
   "cell_type": "code",
   "execution_count": 30,
   "source": [
    "s = cc.skill()\r\n",
    "s.style()"
   ],
   "outputs": [
    {
     "output_type": "execute_result",
     "data": {
      "text/html": [
       "<style type=\"text/css\">\n",
       "#T_353ef_row0_col1 {\n",
       "  background-color: #a9c6fd;\n",
       "  color: #000000;\n",
       "}\n",
       "#T_353ef_row0_col2, #T_353ef_row0_col3, #T_353ef_row0_col4, #T_353ef_row0_col6, #T_353ef_row2_col5, #T_353ef_row4_col7 {\n",
       "  background-color: #fff7ec;\n",
       "  color: #000000;\n",
       "  text-decoration: underline;\n",
       "  font-style: italic;\n",
       "  font-weight: bold;\n",
       "}\n",
       "#T_353ef_row0_col5, #T_353ef_row3_col5, #T_353ef_row5_col2, #T_353ef_row5_col3, #T_353ef_row5_col4, #T_353ef_row5_col6, #T_353ef_row5_col7 {\n",
       "  background-color: #7f0000;\n",
       "  color: #f1f1f1;\n",
       "}\n",
       "#T_353ef_row0_col7 {\n",
       "  background-color: #fff5e6;\n",
       "  color: #000000;\n",
       "}\n",
       "#T_353ef_row1_col1 {\n",
       "  background-color: #3b4cc0;\n",
       "  color: #f1f1f1;\n",
       "}\n",
       "#T_353ef_row1_col2 {\n",
       "  background-color: #ef6548;\n",
       "  color: #f1f1f1;\n",
       "}\n",
       "#T_353ef_row1_col3 {\n",
       "  background-color: #fdb881;\n",
       "  color: #000000;\n",
       "}\n",
       "#T_353ef_row1_col4 {\n",
       "  background-color: #fdba83;\n",
       "  color: #000000;\n",
       "}\n",
       "#T_353ef_row1_col5, #T_353ef_row4_col5 {\n",
       "  background-color: #e0442f;\n",
       "  color: #f1f1f1;\n",
       "}\n",
       "#T_353ef_row1_col6 {\n",
       "  background-color: #fee2bc;\n",
       "  color: #000000;\n",
       "}\n",
       "#T_353ef_row1_col7 {\n",
       "  background-color: #fdc28b;\n",
       "  color: #000000;\n",
       "}\n",
       "#T_353ef_row2_col1 {\n",
       "  background-color: #dcdddd;\n",
       "  color: #000000;\n",
       "}\n",
       "#T_353ef_row2_col2 {\n",
       "  background-color: #f06749;\n",
       "  color: #f1f1f1;\n",
       "}\n",
       "#T_353ef_row2_col3 {\n",
       "  background-color: #e8553c;\n",
       "  color: #f1f1f1;\n",
       "}\n",
       "#T_353ef_row2_col4 {\n",
       "  background-color: #ee6246;\n",
       "  color: #f1f1f1;\n",
       "}\n",
       "#T_353ef_row2_col6 {\n",
       "  background-color: #ef6447;\n",
       "  color: #f1f1f1;\n",
       "}\n",
       "#T_353ef_row2_col7 {\n",
       "  background-color: #fdad77;\n",
       "  color: #000000;\n",
       "}\n",
       "#T_353ef_row3_col1 {\n",
       "  background-color: #dcdddd;\n",
       "  color: #000000;\n",
       "  text-decoration: underline;\n",
       "  font-style: italic;\n",
       "  font-weight: bold;\n",
       "}\n",
       "#T_353ef_row3_col2 {\n",
       "  background-color: #fff2e0;\n",
       "  color: #000000;\n",
       "}\n",
       "#T_353ef_row3_col3 {\n",
       "  background-color: #feecd2;\n",
       "  color: #000000;\n",
       "}\n",
       "#T_353ef_row3_col4 {\n",
       "  background-color: #fff0dc;\n",
       "  color: #000000;\n",
       "}\n",
       "#T_353ef_row3_col6 {\n",
       "  background-color: #feeace;\n",
       "  color: #000000;\n",
       "}\n",
       "#T_353ef_row3_col7 {\n",
       "  background-color: #feedd4;\n",
       "  color: #000000;\n",
       "}\n",
       "#T_353ef_row4_col1 {\n",
       "  background-color: #89acfd;\n",
       "  color: #000000;\n",
       "}\n",
       "#T_353ef_row4_col2 {\n",
       "  background-color: #fdc38c;\n",
       "  color: #000000;\n",
       "}\n",
       "#T_353ef_row4_col3 {\n",
       "  background-color: #fdcb95;\n",
       "  color: #000000;\n",
       "}\n",
       "#T_353ef_row4_col4 {\n",
       "  background-color: #fee4bf;\n",
       "  color: #000000;\n",
       "}\n",
       "#T_353ef_row4_col6 {\n",
       "  background-color: #feeed7;\n",
       "  color: #000000;\n",
       "}\n",
       "#T_353ef_row5_col1 {\n",
       "  background-color: #f7a98b;\n",
       "  color: #000000;\n",
       "}\n",
       "#T_353ef_row5_col5 {\n",
       "  background-color: #fff7ec;\n",
       "  color: #000000;\n",
       "}\n",
       "</style>\n",
       "<table id=\"T_353ef_\">\n",
       "  <thead>\n",
       "    <tr>\n",
       "      <th class=\"blank\" >&nbsp;</th>\n",
       "      <th class=\"blank level0\" >&nbsp;</th>\n",
       "      <th class=\"col_heading level0 col0\" >n</th>\n",
       "      <th class=\"col_heading level0 col1\" >bias</th>\n",
       "      <th class=\"col_heading level0 col2\" >rmse</th>\n",
       "      <th class=\"col_heading level0 col3\" >urmse</th>\n",
       "      <th class=\"col_heading level0 col4\" >mae</th>\n",
       "      <th class=\"col_heading level0 col5\" >cc</th>\n",
       "      <th class=\"col_heading level0 col6\" >si</th>\n",
       "      <th class=\"col_heading level0 col7\" >r2</th>\n",
       "    </tr>\n",
       "    <tr>\n",
       "      <th class=\"index_name level0\" >model</th>\n",
       "      <th class=\"index_name level1\" >observation</th>\n",
       "      <th class=\"blank col0\" >&nbsp;</th>\n",
       "      <th class=\"blank col1\" >&nbsp;</th>\n",
       "      <th class=\"blank col2\" >&nbsp;</th>\n",
       "      <th class=\"blank col3\" >&nbsp;</th>\n",
       "      <th class=\"blank col4\" >&nbsp;</th>\n",
       "      <th class=\"blank col5\" >&nbsp;</th>\n",
       "      <th class=\"blank col6\" >&nbsp;</th>\n",
       "      <th class=\"blank col7\" >&nbsp;</th>\n",
       "    </tr>\n",
       "  </thead>\n",
       "  <tbody>\n",
       "    <tr>\n",
       "      <th id=\"T_353ef_level0_row0\" class=\"row_heading level0 row0\" rowspan=\"3\">SW_1</th>\n",
       "      <th id=\"T_353ef_level1_row0\" class=\"row_heading level1 row0\" >EPL</th>\n",
       "      <td id=\"T_353ef_row0_col0\" class=\"data row0 col0\" >67</td>\n",
       "      <td id=\"T_353ef_row0_col1\" class=\"data row0 col1\" >-0.067</td>\n",
       "      <td id=\"T_353ef_row0_col2\" class=\"data row0 col2\" >0.224</td>\n",
       "      <td id=\"T_353ef_row0_col3\" class=\"data row0 col3\" >0.213</td>\n",
       "      <td id=\"T_353ef_row0_col4\" class=\"data row0 col4\" >0.189</td>\n",
       "      <td id=\"T_353ef_row0_col5\" class=\"data row0 col5\" >0.970</td>\n",
       "      <td id=\"T_353ef_row0_col6\" class=\"data row0 col6\" >0.078</td>\n",
       "      <td id=\"T_353ef_row0_col7\" class=\"data row0 col7\" >0.933</td>\n",
       "    </tr>\n",
       "    <tr>\n",
       "      <th id=\"T_353ef_level1_row1\" class=\"row_heading level1 row1\" >HKNA</th>\n",
       "      <td id=\"T_353ef_row1_col0\" class=\"data row1 col0\" >386</td>\n",
       "      <td id=\"T_353ef_row1_col1\" class=\"data row1 col1\" >-0.194</td>\n",
       "      <td id=\"T_353ef_row1_col2\" class=\"data row1 col2\" >0.352</td>\n",
       "      <td id=\"T_353ef_row1_col3\" class=\"data row1 col3\" >0.293</td>\n",
       "      <td id=\"T_353ef_row1_col4\" class=\"data row1 col4\" >0.252</td>\n",
       "      <td id=\"T_353ef_row1_col5\" class=\"data row1 col5\" >0.971</td>\n",
       "      <td id=\"T_353ef_row1_col6\" class=\"data row1 col6\" >0.089</td>\n",
       "      <td id=\"T_353ef_row1_col7\" class=\"data row1 col7\" >0.905</td>\n",
       "    </tr>\n",
       "    <tr>\n",
       "      <th id=\"T_353ef_level1_row2\" class=\"row_heading level1 row2\" >c2</th>\n",
       "      <td id=\"T_353ef_row2_col0\" class=\"data row2 col0\" >113</td>\n",
       "      <td id=\"T_353ef_row2_col1\" class=\"data row2 col1\" >-0.001</td>\n",
       "      <td id=\"T_353ef_row2_col2\" class=\"data row2 col2\" >0.352</td>\n",
       "      <td id=\"T_353ef_row2_col3\" class=\"data row2 col3\" >0.352</td>\n",
       "      <td id=\"T_353ef_row2_col4\" class=\"data row2 col4\" >0.295</td>\n",
       "      <td id=\"T_353ef_row2_col5\" class=\"data row2 col5\" >0.974</td>\n",
       "      <td id=\"T_353ef_row2_col6\" class=\"data row2 col6\" >0.119</td>\n",
       "      <td id=\"T_353ef_row2_col7\" class=\"data row2 col7\" >0.900</td>\n",
       "    </tr>\n",
       "    <tr>\n",
       "      <th id=\"T_353ef_level0_row3\" class=\"row_heading level0 row3\" rowspan=\"3\">SW_2</th>\n",
       "      <th id=\"T_353ef_level1_row3\" class=\"row_heading level1 row3\" >EPL</th>\n",
       "      <td id=\"T_353ef_row3_col0\" class=\"data row3 col0\" >67</td>\n",
       "      <td id=\"T_353ef_row3_col1\" class=\"data row3 col1\" >-0.000</td>\n",
       "      <td id=\"T_353ef_row3_col2\" class=\"data row3 col2\" >0.232</td>\n",
       "      <td id=\"T_353ef_row3_col3\" class=\"data row3 col3\" >0.232</td>\n",
       "      <td id=\"T_353ef_row3_col4\" class=\"data row3 col4\" >0.198</td>\n",
       "      <td id=\"T_353ef_row3_col5\" class=\"data row3 col5\" >0.970</td>\n",
       "      <td id=\"T_353ef_row3_col6\" class=\"data row3 col6\" >0.085</td>\n",
       "      <td id=\"T_353ef_row3_col7\" class=\"data row3 col7\" >0.927</td>\n",
       "    </tr>\n",
       "    <tr>\n",
       "      <th id=\"T_353ef_level1_row4\" class=\"row_heading level1 row4\" >HKNA</th>\n",
       "      <td id=\"T_353ef_row4_col0\" class=\"data row4 col0\" >386</td>\n",
       "      <td id=\"T_353ef_row4_col1\" class=\"data row4 col1\" >-0.100</td>\n",
       "      <td id=\"T_353ef_row4_col2\" class=\"data row4 col2\" >0.293</td>\n",
       "      <td id=\"T_353ef_row4_col3\" class=\"data row4 col3\" >0.275</td>\n",
       "      <td id=\"T_353ef_row4_col4\" class=\"data row4 col4\" >0.214</td>\n",
       "      <td id=\"T_353ef_row4_col5\" class=\"data row4 col5\" >0.971</td>\n",
       "      <td id=\"T_353ef_row4_col6\" class=\"data row4 col6\" >0.083</td>\n",
       "      <td id=\"T_353ef_row4_col7\" class=\"data row4 col7\" >0.934</td>\n",
       "    </tr>\n",
       "    <tr>\n",
       "      <th id=\"T_353ef_level1_row5\" class=\"row_heading level1 row5\" >c2</th>\n",
       "      <td id=\"T_353ef_row5_col0\" class=\"data row5 col0\" >113</td>\n",
       "      <td id=\"T_353ef_row5_col1\" class=\"data row5 col1\" >0.081</td>\n",
       "      <td id=\"T_353ef_row5_col2\" class=\"data row5 col2\" >0.430</td>\n",
       "      <td id=\"T_353ef_row5_col3\" class=\"data row5 col3\" >0.422</td>\n",
       "      <td id=\"T_353ef_row5_col4\" class=\"data row5 col4\" >0.357</td>\n",
       "      <td id=\"T_353ef_row5_col5\" class=\"data row5 col5\" >0.974</td>\n",
       "      <td id=\"T_353ef_row5_col6\" class=\"data row5 col6\" >0.142</td>\n",
       "      <td id=\"T_353ef_row5_col7\" class=\"data row5 col7\" >0.850</td>\n",
       "    </tr>\n",
       "  </tbody>\n",
       "</table>\n"
      ],
      "text/plain": [
       "<pandas.io.formats.style.Styler at 0x1e4aa518b20>"
      ]
     },
     "metadata": {},
     "execution_count": 30
    }
   ],
   "metadata": {}
  },
  {
   "cell_type": "code",
   "execution_count": 31,
   "source": [
    "s.sel(model='SW_1').style()"
   ],
   "outputs": [
    {
     "output_type": "execute_result",
     "data": {
      "text/html": [
       "<style type=\"text/css\">\n",
       "#T_9f42e_row0_col2 {\n",
       "  background-color: #a9c6fd;\n",
       "  color: #000000;\n",
       "}\n",
       "#T_9f42e_row0_col3, #T_9f42e_row0_col4, #T_9f42e_row0_col5, #T_9f42e_row0_col7, #T_9f42e_row0_col8, #T_9f42e_row2_col6 {\n",
       "  background-color: #fff7ec;\n",
       "  color: #000000;\n",
       "  text-decoration: underline;\n",
       "  font-style: italic;\n",
       "  font-weight: bold;\n",
       "}\n",
       "#T_9f42e_row0_col6, #T_9f42e_row1_col3, #T_9f42e_row2_col3, #T_9f42e_row2_col4, #T_9f42e_row2_col5, #T_9f42e_row2_col7, #T_9f42e_row2_col8 {\n",
       "  background-color: #7f0000;\n",
       "  color: #f1f1f1;\n",
       "}\n",
       "#T_9f42e_row1_col2 {\n",
       "  background-color: #3b4cc0;\n",
       "  color: #f1f1f1;\n",
       "}\n",
       "#T_9f42e_row1_col4 {\n",
       "  background-color: #f4734e;\n",
       "  color: #f1f1f1;\n",
       "}\n",
       "#T_9f42e_row1_col5 {\n",
       "  background-color: #f26e4c;\n",
       "  color: #f1f1f1;\n",
       "}\n",
       "#T_9f42e_row1_col6 {\n",
       "  background-color: #e0442f;\n",
       "  color: #f1f1f1;\n",
       "}\n",
       "#T_9f42e_row1_col7 {\n",
       "  background-color: #fdd29c;\n",
       "  color: #000000;\n",
       "}\n",
       "#T_9f42e_row1_col8 {\n",
       "  background-color: #c1120c;\n",
       "  color: #f1f1f1;\n",
       "}\n",
       "#T_9f42e_row2_col2 {\n",
       "  background-color: #dcdddd;\n",
       "  color: #000000;\n",
       "  text-decoration: underline;\n",
       "  font-style: italic;\n",
       "  font-weight: bold;\n",
       "}\n",
       "</style>\n",
       "<table id=\"T_9f42e_\">\n",
       "  <thead>\n",
       "    <tr>\n",
       "      <th class=\"blank level0\" >&nbsp;</th>\n",
       "      <th class=\"col_heading level0 col0\" >model</th>\n",
       "      <th class=\"col_heading level0 col1\" >n</th>\n",
       "      <th class=\"col_heading level0 col2\" >bias</th>\n",
       "      <th class=\"col_heading level0 col3\" >rmse</th>\n",
       "      <th class=\"col_heading level0 col4\" >urmse</th>\n",
       "      <th class=\"col_heading level0 col5\" >mae</th>\n",
       "      <th class=\"col_heading level0 col6\" >cc</th>\n",
       "      <th class=\"col_heading level0 col7\" >si</th>\n",
       "      <th class=\"col_heading level0 col8\" >r2</th>\n",
       "    </tr>\n",
       "    <tr>\n",
       "      <th class=\"index_name level0\" >observation</th>\n",
       "      <th class=\"blank col0\" >&nbsp;</th>\n",
       "      <th class=\"blank col1\" >&nbsp;</th>\n",
       "      <th class=\"blank col2\" >&nbsp;</th>\n",
       "      <th class=\"blank col3\" >&nbsp;</th>\n",
       "      <th class=\"blank col4\" >&nbsp;</th>\n",
       "      <th class=\"blank col5\" >&nbsp;</th>\n",
       "      <th class=\"blank col6\" >&nbsp;</th>\n",
       "      <th class=\"blank col7\" >&nbsp;</th>\n",
       "      <th class=\"blank col8\" >&nbsp;</th>\n",
       "    </tr>\n",
       "  </thead>\n",
       "  <tbody>\n",
       "    <tr>\n",
       "      <th id=\"T_9f42e_level0_row0\" class=\"row_heading level0 row0\" >EPL</th>\n",
       "      <td id=\"T_9f42e_row0_col0\" class=\"data row0 col0\" >SW_1</td>\n",
       "      <td id=\"T_9f42e_row0_col1\" class=\"data row0 col1\" >67</td>\n",
       "      <td id=\"T_9f42e_row0_col2\" class=\"data row0 col2\" >-0.067</td>\n",
       "      <td id=\"T_9f42e_row0_col3\" class=\"data row0 col3\" >0.224</td>\n",
       "      <td id=\"T_9f42e_row0_col4\" class=\"data row0 col4\" >0.213</td>\n",
       "      <td id=\"T_9f42e_row0_col5\" class=\"data row0 col5\" >0.189</td>\n",
       "      <td id=\"T_9f42e_row0_col6\" class=\"data row0 col6\" >0.970</td>\n",
       "      <td id=\"T_9f42e_row0_col7\" class=\"data row0 col7\" >0.078</td>\n",
       "      <td id=\"T_9f42e_row0_col8\" class=\"data row0 col8\" >0.933</td>\n",
       "    </tr>\n",
       "    <tr>\n",
       "      <th id=\"T_9f42e_level0_row1\" class=\"row_heading level0 row1\" >HKNA</th>\n",
       "      <td id=\"T_9f42e_row1_col0\" class=\"data row1 col0\" >SW_1</td>\n",
       "      <td id=\"T_9f42e_row1_col1\" class=\"data row1 col1\" >386</td>\n",
       "      <td id=\"T_9f42e_row1_col2\" class=\"data row1 col2\" >-0.194</td>\n",
       "      <td id=\"T_9f42e_row1_col3\" class=\"data row1 col3\" >0.352</td>\n",
       "      <td id=\"T_9f42e_row1_col4\" class=\"data row1 col4\" >0.293</td>\n",
       "      <td id=\"T_9f42e_row1_col5\" class=\"data row1 col5\" >0.252</td>\n",
       "      <td id=\"T_9f42e_row1_col6\" class=\"data row1 col6\" >0.971</td>\n",
       "      <td id=\"T_9f42e_row1_col7\" class=\"data row1 col7\" >0.089</td>\n",
       "      <td id=\"T_9f42e_row1_col8\" class=\"data row1 col8\" >0.905</td>\n",
       "    </tr>\n",
       "    <tr>\n",
       "      <th id=\"T_9f42e_level0_row2\" class=\"row_heading level0 row2\" >c2</th>\n",
       "      <td id=\"T_9f42e_row2_col0\" class=\"data row2 col0\" >SW_1</td>\n",
       "      <td id=\"T_9f42e_row2_col1\" class=\"data row2 col1\" >113</td>\n",
       "      <td id=\"T_9f42e_row2_col2\" class=\"data row2 col2\" >-0.001</td>\n",
       "      <td id=\"T_9f42e_row2_col3\" class=\"data row2 col3\" >0.352</td>\n",
       "      <td id=\"T_9f42e_row2_col4\" class=\"data row2 col4\" >0.352</td>\n",
       "      <td id=\"T_9f42e_row2_col5\" class=\"data row2 col5\" >0.295</td>\n",
       "      <td id=\"T_9f42e_row2_col6\" class=\"data row2 col6\" >0.974</td>\n",
       "      <td id=\"T_9f42e_row2_col7\" class=\"data row2 col7\" >0.119</td>\n",
       "      <td id=\"T_9f42e_row2_col8\" class=\"data row2 col8\" >0.900</td>\n",
       "    </tr>\n",
       "  </tbody>\n",
       "</table>\n"
      ],
      "text/plain": [
       "<pandas.io.formats.style.Styler at 0x1e4aa629d60>"
      ]
     },
     "metadata": {},
     "execution_count": 31
    }
   ],
   "metadata": {}
  },
  {
   "cell_type": "code",
   "execution_count": 32,
   "source": [
    "s.sel(observation='HKNA').style()"
   ],
   "outputs": [
    {
     "output_type": "execute_result",
     "data": {
      "text/html": [
       "<style type=\"text/css\">\n",
       "#T_8c757_row0_col2 {\n",
       "  background-color: #3b4cc0;\n",
       "  color: #f1f1f1;\n",
       "}\n",
       "#T_8c757_row0_col3, #T_8c757_row0_col4, #T_8c757_row0_col5, #T_8c757_row0_col7, #T_8c757_row0_col8, #T_8c757_row1_col6 {\n",
       "  background-color: #7f0000;\n",
       "  color: #f1f1f1;\n",
       "}\n",
       "#T_8c757_row0_col6, #T_8c757_row1_col3, #T_8c757_row1_col4, #T_8c757_row1_col5, #T_8c757_row1_col7, #T_8c757_row1_col8 {\n",
       "  background-color: #fff7ec;\n",
       "  color: #000000;\n",
       "  text-decoration: underline;\n",
       "  font-style: italic;\n",
       "  font-weight: bold;\n",
       "}\n",
       "#T_8c757_row1_col2 {\n",
       "  background-color: #89acfd;\n",
       "  color: #000000;\n",
       "  text-decoration: underline;\n",
       "  font-style: italic;\n",
       "  font-weight: bold;\n",
       "}\n",
       "</style>\n",
       "<table id=\"T_8c757_\">\n",
       "  <thead>\n",
       "    <tr>\n",
       "      <th class=\"blank level0\" >&nbsp;</th>\n",
       "      <th class=\"col_heading level0 col0\" >observation</th>\n",
       "      <th class=\"col_heading level0 col1\" >n</th>\n",
       "      <th class=\"col_heading level0 col2\" >bias</th>\n",
       "      <th class=\"col_heading level0 col3\" >rmse</th>\n",
       "      <th class=\"col_heading level0 col4\" >urmse</th>\n",
       "      <th class=\"col_heading level0 col5\" >mae</th>\n",
       "      <th class=\"col_heading level0 col6\" >cc</th>\n",
       "      <th class=\"col_heading level0 col7\" >si</th>\n",
       "      <th class=\"col_heading level0 col8\" >r2</th>\n",
       "    </tr>\n",
       "    <tr>\n",
       "      <th class=\"index_name level0\" >model</th>\n",
       "      <th class=\"blank col0\" >&nbsp;</th>\n",
       "      <th class=\"blank col1\" >&nbsp;</th>\n",
       "      <th class=\"blank col2\" >&nbsp;</th>\n",
       "      <th class=\"blank col3\" >&nbsp;</th>\n",
       "      <th class=\"blank col4\" >&nbsp;</th>\n",
       "      <th class=\"blank col5\" >&nbsp;</th>\n",
       "      <th class=\"blank col6\" >&nbsp;</th>\n",
       "      <th class=\"blank col7\" >&nbsp;</th>\n",
       "      <th class=\"blank col8\" >&nbsp;</th>\n",
       "    </tr>\n",
       "  </thead>\n",
       "  <tbody>\n",
       "    <tr>\n",
       "      <th id=\"T_8c757_level0_row0\" class=\"row_heading level0 row0\" >SW_1</th>\n",
       "      <td id=\"T_8c757_row0_col0\" class=\"data row0 col0\" >HKNA</td>\n",
       "      <td id=\"T_8c757_row0_col1\" class=\"data row0 col1\" >386</td>\n",
       "      <td id=\"T_8c757_row0_col2\" class=\"data row0 col2\" >-0.194</td>\n",
       "      <td id=\"T_8c757_row0_col3\" class=\"data row0 col3\" >0.352</td>\n",
       "      <td id=\"T_8c757_row0_col4\" class=\"data row0 col4\" >0.293</td>\n",
       "      <td id=\"T_8c757_row0_col5\" class=\"data row0 col5\" >0.252</td>\n",
       "      <td id=\"T_8c757_row0_col6\" class=\"data row0 col6\" >0.971</td>\n",
       "      <td id=\"T_8c757_row0_col7\" class=\"data row0 col7\" >0.089</td>\n",
       "      <td id=\"T_8c757_row0_col8\" class=\"data row0 col8\" >0.905</td>\n",
       "    </tr>\n",
       "    <tr>\n",
       "      <th id=\"T_8c757_level0_row1\" class=\"row_heading level0 row1\" >SW_2</th>\n",
       "      <td id=\"T_8c757_row1_col0\" class=\"data row1 col0\" >HKNA</td>\n",
       "      <td id=\"T_8c757_row1_col1\" class=\"data row1 col1\" >386</td>\n",
       "      <td id=\"T_8c757_row1_col2\" class=\"data row1 col2\" >-0.100</td>\n",
       "      <td id=\"T_8c757_row1_col3\" class=\"data row1 col3\" >0.293</td>\n",
       "      <td id=\"T_8c757_row1_col4\" class=\"data row1 col4\" >0.275</td>\n",
       "      <td id=\"T_8c757_row1_col5\" class=\"data row1 col5\" >0.214</td>\n",
       "      <td id=\"T_8c757_row1_col6\" class=\"data row1 col6\" >0.971</td>\n",
       "      <td id=\"T_8c757_row1_col7\" class=\"data row1 col7\" >0.083</td>\n",
       "      <td id=\"T_8c757_row1_col8\" class=\"data row1 col8\" >0.934</td>\n",
       "    </tr>\n",
       "  </tbody>\n",
       "</table>\n"
      ],
      "text/plain": [
       "<pandas.io.formats.style.Styler at 0x1e4aa4f28e0>"
      ]
     },
     "metadata": {},
     "execution_count": 32
    }
   ],
   "metadata": {}
  },
  {
   "cell_type": "code",
   "execution_count": 33,
   "source": [
    "s.sel('rmse>0.25').style()"
   ],
   "outputs": [
    {
     "output_type": "execute_result",
     "data": {
      "text/html": [
       "<style type=\"text/css\">\n",
       "#T_fa855_row0_col1 {\n",
       "  background-color: #3b4cc0;\n",
       "  color: #f1f1f1;\n",
       "}\n",
       "#T_fa855_row0_col2, #T_fa855_row1_col2 {\n",
       "  background-color: #fda872;\n",
       "  color: #000000;\n",
       "}\n",
       "#T_fa855_row0_col3 {\n",
       "  background-color: #fee8c9;\n",
       "  color: #000000;\n",
       "}\n",
       "#T_fa855_row0_col4 {\n",
       "  background-color: #fdd19b;\n",
       "  color: #000000;\n",
       "}\n",
       "#T_fa855_row0_col5, #T_fa855_row2_col5, #T_fa855_row3_col2, #T_fa855_row3_col3, #T_fa855_row3_col4, #T_fa855_row3_col6, #T_fa855_row3_col7 {\n",
       "  background-color: #7f0000;\n",
       "  color: #f1f1f1;\n",
       "}\n",
       "#T_fa855_row0_col6 {\n",
       "  background-color: #feecd2;\n",
       "  color: #000000;\n",
       "}\n",
       "#T_fa855_row0_col7 {\n",
       "  background-color: #fdc28b;\n",
       "  color: #000000;\n",
       "}\n",
       "#T_fa855_row1_col1 {\n",
       "  background-color: #dcdddd;\n",
       "  color: #000000;\n",
       "  text-decoration: underline;\n",
       "  font-style: italic;\n",
       "  font-weight: bold;\n",
       "}\n",
       "#T_fa855_row1_col3 {\n",
       "  background-color: #fa8656;\n",
       "  color: #f1f1f1;\n",
       "}\n",
       "#T_fa855_row1_col4 {\n",
       "  background-color: #f67a51;\n",
       "  color: #f1f1f1;\n",
       "}\n",
       "#T_fa855_row1_col5, #T_fa855_row2_col2, #T_fa855_row2_col3, #T_fa855_row2_col4, #T_fa855_row2_col6, #T_fa855_row2_col7 {\n",
       "  background-color: #fff7ec;\n",
       "  color: #000000;\n",
       "  text-decoration: underline;\n",
       "  font-style: italic;\n",
       "  font-weight: bold;\n",
       "}\n",
       "#T_fa855_row1_col6 {\n",
       "  background-color: #f26e4c;\n",
       "  color: #f1f1f1;\n",
       "}\n",
       "#T_fa855_row1_col7 {\n",
       "  background-color: #fdad77;\n",
       "  color: #000000;\n",
       "}\n",
       "#T_fa855_row2_col1 {\n",
       "  background-color: #89acfd;\n",
       "  color: #000000;\n",
       "}\n",
       "#T_fa855_row3_col1 {\n",
       "  background-color: #f7a98b;\n",
       "  color: #000000;\n",
       "}\n",
       "#T_fa855_row3_col5 {\n",
       "  background-color: #fff7ec;\n",
       "  color: #000000;\n",
       "}\n",
       "</style>\n",
       "<table id=\"T_fa855_\">\n",
       "  <thead>\n",
       "    <tr>\n",
       "      <th class=\"blank\" >&nbsp;</th>\n",
       "      <th class=\"blank level0\" >&nbsp;</th>\n",
       "      <th class=\"col_heading level0 col0\" >n</th>\n",
       "      <th class=\"col_heading level0 col1\" >bias</th>\n",
       "      <th class=\"col_heading level0 col2\" >rmse</th>\n",
       "      <th class=\"col_heading level0 col3\" >urmse</th>\n",
       "      <th class=\"col_heading level0 col4\" >mae</th>\n",
       "      <th class=\"col_heading level0 col5\" >cc</th>\n",
       "      <th class=\"col_heading level0 col6\" >si</th>\n",
       "      <th class=\"col_heading level0 col7\" >r2</th>\n",
       "    </tr>\n",
       "    <tr>\n",
       "      <th class=\"index_name level0\" >model</th>\n",
       "      <th class=\"index_name level1\" >observation</th>\n",
       "      <th class=\"blank col0\" >&nbsp;</th>\n",
       "      <th class=\"blank col1\" >&nbsp;</th>\n",
       "      <th class=\"blank col2\" >&nbsp;</th>\n",
       "      <th class=\"blank col3\" >&nbsp;</th>\n",
       "      <th class=\"blank col4\" >&nbsp;</th>\n",
       "      <th class=\"blank col5\" >&nbsp;</th>\n",
       "      <th class=\"blank col6\" >&nbsp;</th>\n",
       "      <th class=\"blank col7\" >&nbsp;</th>\n",
       "    </tr>\n",
       "  </thead>\n",
       "  <tbody>\n",
       "    <tr>\n",
       "      <th id=\"T_fa855_level0_row0\" class=\"row_heading level0 row0\" rowspan=\"2\">SW_1</th>\n",
       "      <th id=\"T_fa855_level1_row0\" class=\"row_heading level1 row0\" >HKNA</th>\n",
       "      <td id=\"T_fa855_row0_col0\" class=\"data row0 col0\" >386</td>\n",
       "      <td id=\"T_fa855_row0_col1\" class=\"data row0 col1\" >-0.194</td>\n",
       "      <td id=\"T_fa855_row0_col2\" class=\"data row0 col2\" >0.352</td>\n",
       "      <td id=\"T_fa855_row0_col3\" class=\"data row0 col3\" >0.293</td>\n",
       "      <td id=\"T_fa855_row0_col4\" class=\"data row0 col4\" >0.252</td>\n",
       "      <td id=\"T_fa855_row0_col5\" class=\"data row0 col5\" >0.971</td>\n",
       "      <td id=\"T_fa855_row0_col6\" class=\"data row0 col6\" >0.089</td>\n",
       "      <td id=\"T_fa855_row0_col7\" class=\"data row0 col7\" >0.905</td>\n",
       "    </tr>\n",
       "    <tr>\n",
       "      <th id=\"T_fa855_level1_row1\" class=\"row_heading level1 row1\" >c2</th>\n",
       "      <td id=\"T_fa855_row1_col0\" class=\"data row1 col0\" >113</td>\n",
       "      <td id=\"T_fa855_row1_col1\" class=\"data row1 col1\" >-0.001</td>\n",
       "      <td id=\"T_fa855_row1_col2\" class=\"data row1 col2\" >0.352</td>\n",
       "      <td id=\"T_fa855_row1_col3\" class=\"data row1 col3\" >0.352</td>\n",
       "      <td id=\"T_fa855_row1_col4\" class=\"data row1 col4\" >0.295</td>\n",
       "      <td id=\"T_fa855_row1_col5\" class=\"data row1 col5\" >0.974</td>\n",
       "      <td id=\"T_fa855_row1_col6\" class=\"data row1 col6\" >0.119</td>\n",
       "      <td id=\"T_fa855_row1_col7\" class=\"data row1 col7\" >0.900</td>\n",
       "    </tr>\n",
       "    <tr>\n",
       "      <th id=\"T_fa855_level0_row2\" class=\"row_heading level0 row2\" rowspan=\"2\">SW_2</th>\n",
       "      <th id=\"T_fa855_level1_row2\" class=\"row_heading level1 row2\" >HKNA</th>\n",
       "      <td id=\"T_fa855_row2_col0\" class=\"data row2 col0\" >386</td>\n",
       "      <td id=\"T_fa855_row2_col1\" class=\"data row2 col1\" >-0.100</td>\n",
       "      <td id=\"T_fa855_row2_col2\" class=\"data row2 col2\" >0.293</td>\n",
       "      <td id=\"T_fa855_row2_col3\" class=\"data row2 col3\" >0.275</td>\n",
       "      <td id=\"T_fa855_row2_col4\" class=\"data row2 col4\" >0.214</td>\n",
       "      <td id=\"T_fa855_row2_col5\" class=\"data row2 col5\" >0.971</td>\n",
       "      <td id=\"T_fa855_row2_col6\" class=\"data row2 col6\" >0.083</td>\n",
       "      <td id=\"T_fa855_row2_col7\" class=\"data row2 col7\" >0.934</td>\n",
       "    </tr>\n",
       "    <tr>\n",
       "      <th id=\"T_fa855_level1_row3\" class=\"row_heading level1 row3\" >c2</th>\n",
       "      <td id=\"T_fa855_row3_col0\" class=\"data row3 col0\" >113</td>\n",
       "      <td id=\"T_fa855_row3_col1\" class=\"data row3 col1\" >0.081</td>\n",
       "      <td id=\"T_fa855_row3_col2\" class=\"data row3 col2\" >0.430</td>\n",
       "      <td id=\"T_fa855_row3_col3\" class=\"data row3 col3\" >0.422</td>\n",
       "      <td id=\"T_fa855_row3_col4\" class=\"data row3 col4\" >0.357</td>\n",
       "      <td id=\"T_fa855_row3_col5\" class=\"data row3 col5\" >0.974</td>\n",
       "      <td id=\"T_fa855_row3_col6\" class=\"data row3 col6\" >0.142</td>\n",
       "      <td id=\"T_fa855_row3_col7\" class=\"data row3 col7\" >0.850</td>\n",
       "    </tr>\n",
       "  </tbody>\n",
       "</table>\n"
      ],
      "text/plain": [
       "<pandas.io.formats.style.Styler at 0x1e4aa69cbb0>"
      ]
     },
     "metadata": {},
     "execution_count": 33
    }
   ],
   "metadata": {}
  },
  {
   "cell_type": "code",
   "execution_count": 34,
   "source": [
    "s.sel('rmse>0.3', columns=['rmse','mae']).style()"
   ],
   "outputs": [
    {
     "output_type": "execute_result",
     "data": {
      "text/html": [
       "<style type=\"text/css\">\n",
       "#T_dbc67_row0_col0 {\n",
       "  background-color: #fff7ec;\n",
       "  color: #000000;\n",
       "}\n",
       "#T_dbc67_row0_col1, #T_dbc67_row1_col0 {\n",
       "  background-color: #fff7ec;\n",
       "  color: #000000;\n",
       "  text-decoration: underline;\n",
       "  font-style: italic;\n",
       "  font-weight: bold;\n",
       "}\n",
       "#T_dbc67_row1_col1 {\n",
       "  background-color: #fdb07a;\n",
       "  color: #000000;\n",
       "}\n",
       "#T_dbc67_row2_col0, #T_dbc67_row2_col1 {\n",
       "  background-color: #7f0000;\n",
       "  color: #f1f1f1;\n",
       "}\n",
       "</style>\n",
       "<table id=\"T_dbc67_\">\n",
       "  <thead>\n",
       "    <tr>\n",
       "      <th class=\"blank\" >&nbsp;</th>\n",
       "      <th class=\"blank level0\" >&nbsp;</th>\n",
       "      <th class=\"col_heading level0 col0\" >rmse</th>\n",
       "      <th class=\"col_heading level0 col1\" >mae</th>\n",
       "    </tr>\n",
       "    <tr>\n",
       "      <th class=\"index_name level0\" >model</th>\n",
       "      <th class=\"index_name level1\" >observation</th>\n",
       "      <th class=\"blank col0\" >&nbsp;</th>\n",
       "      <th class=\"blank col1\" >&nbsp;</th>\n",
       "    </tr>\n",
       "  </thead>\n",
       "  <tbody>\n",
       "    <tr>\n",
       "      <th id=\"T_dbc67_level0_row0\" class=\"row_heading level0 row0\" rowspan=\"2\">SW_1</th>\n",
       "      <th id=\"T_dbc67_level1_row0\" class=\"row_heading level1 row0\" >HKNA</th>\n",
       "      <td id=\"T_dbc67_row0_col0\" class=\"data row0 col0\" >0.352</td>\n",
       "      <td id=\"T_dbc67_row0_col1\" class=\"data row0 col1\" >0.252</td>\n",
       "    </tr>\n",
       "    <tr>\n",
       "      <th id=\"T_dbc67_level1_row1\" class=\"row_heading level1 row1\" >c2</th>\n",
       "      <td id=\"T_dbc67_row1_col0\" class=\"data row1 col0\" >0.352</td>\n",
       "      <td id=\"T_dbc67_row1_col1\" class=\"data row1 col1\" >0.295</td>\n",
       "    </tr>\n",
       "    <tr>\n",
       "      <th id=\"T_dbc67_level0_row2\" class=\"row_heading level0 row2\" >SW_2</th>\n",
       "      <th id=\"T_dbc67_level1_row2\" class=\"row_heading level1 row2\" >c2</th>\n",
       "      <td id=\"T_dbc67_row2_col0\" class=\"data row2 col0\" >0.430</td>\n",
       "      <td id=\"T_dbc67_row2_col1\" class=\"data row2 col1\" >0.357</td>\n",
       "    </tr>\n",
       "  </tbody>\n",
       "</table>\n"
      ],
      "text/plain": [
       "<pandas.io.formats.style.Styler at 0x1e4a25711f0>"
      ]
     },
     "metadata": {},
     "execution_count": 34
    }
   ],
   "metadata": {}
  },
  {
   "cell_type": "code",
   "execution_count": null,
   "source": [],
   "outputs": [],
   "metadata": {}
  }
 ]
}