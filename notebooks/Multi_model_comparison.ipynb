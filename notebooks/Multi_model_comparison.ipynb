{
 "metadata": {
  "language_info": {
   "codemirror_mode": {
    "name": "ipython",
    "version": 3
   },
   "file_extension": ".py",
   "mimetype": "text/x-python",
   "name": "python",
   "nbconvert_exporter": "python",
   "pygments_lexer": "ipython3",
   "version": "3.8.5-final"
  },
  "orig_nbformat": 2,
  "kernelspec": {
   "name": "python3",
   "display_name": "Python 3",
   "language": "python"
  }
 },
 "nbformat": 4,
 "nbformat_minor": 2,
 "cells": [
  {
   "source": [
    "# Multi model comparison"
   ],
   "cell_type": "markdown",
   "metadata": {}
  },
  {
   "cell_type": "code",
   "execution_count": 1,
   "metadata": {},
   "outputs": [],
   "source": [
    "import numpy as np\n",
    "from mikefm_skill.model import ModelResult, ModelResultCollection\n",
    "from mikefm_skill.observation import PointObservation, TrackObservation"
   ]
  },
  {
   "cell_type": "code",
   "execution_count": 2,
   "metadata": {},
   "outputs": [],
   "source": [
    "%load_ext autoreload\n",
    "%autoreload 2"
   ]
  },
  {
   "source": [
    "## Define observations"
   ],
   "cell_type": "markdown",
   "metadata": {}
  },
  {
   "cell_type": "code",
   "execution_count": 3,
   "metadata": {},
   "outputs": [],
   "source": [
    "o1 = PointObservation('../tests/testdata/SW/HKNA_Hm0.dfs0', item=0, x=4.2420, y=52.6887, name=\"HKNA\")\n",
    "o2 = PointObservation(\"../tests/testdata/SW/eur_Hm0.dfs0\", item=0, x=3.2760, y=51.9990, name=\"EPL\")\n",
    "o3 = TrackObservation(\"../tests/testdata/SW/Alti_c2_Dutch.dfs0\", item=3, name=\"c2\")"
   ]
  },
  {
   "source": [
    "## Define first model"
   ],
   "cell_type": "markdown",
   "metadata": {}
  },
  {
   "cell_type": "code",
   "execution_count": 4,
   "metadata": {},
   "outputs": [],
   "source": [
    "fn = '../tests/testdata/SW/HKZN_local_2017_DutchCoast.dfsu'\n",
    "mr1 = ModelResult(fn, name='SW_1')"
   ]
  },
  {
   "source": [
    "## Define second model"
   ],
   "cell_type": "markdown",
   "metadata": {}
  },
  {
   "cell_type": "code",
   "execution_count": 5,
   "metadata": {},
   "outputs": [],
   "source": [
    "fn = '../tests/testdata/SW/HKZN_local_2017_DutchCoast_v2.dfsu'\n",
    "mr2 = ModelResult(fn, name='SW_2')"
   ]
  },
  {
   "source": [
    "## Collection of model results"
   ],
   "cell_type": "markdown",
   "metadata": {}
  },
  {
   "cell_type": "code",
   "execution_count": 6,
   "metadata": {},
   "outputs": [
    {
     "output_type": "execute_result",
     "data": {
      "text/plain": [
       "{'SW_1': <mikefm_skill.ModelResult>\n",
       " ../tests/testdata/SW/HKZN_local_2017_DutchCoast.dfsu,\n",
       " 'SW_2': <mikefm_skill.ModelResult>\n",
       " ../tests/testdata/SW/HKZN_local_2017_DutchCoast_v2.dfsu}"
      ]
     },
     "metadata": {},
     "execution_count": 6
    }
   ],
   "source": [
    "mrc = ModelResultCollection([mr1, mr2])\n",
    "mrc.modelresults"
   ]
  },
  {
   "cell_type": "code",
   "execution_count": 7,
   "metadata": {},
   "outputs": [],
   "source": [
    "mrc.add_observation(o1, item=0)\n",
    "mrc.add_observation(o2, item=0)\n",
    "mrc.add_observation(o3, item=0)"
   ]
  },
  {
   "cell_type": "code",
   "execution_count": 8,
   "metadata": {},
   "outputs": [
    {
     "output_type": "execute_result",
     "data": {
      "text/plain": [
       "{'HKNA': PointObservation: HKNA, x=4.242, y=52.6887,\n",
       " 'EPL': PointObservation: EPL, x=3.276, y=51.999,\n",
       " 'c2': TrackObservation: c2, n=298}"
      ]
     },
     "metadata": {},
     "execution_count": 8
    }
   ],
   "source": [
    "mrc.observations"
   ]
  },
  {
   "cell_type": "code",
   "execution_count": 9,
   "metadata": {},
   "outputs": [],
   "source": [
    "cc = mrc.extract()"
   ]
  },
  {
   "cell_type": "code",
   "execution_count": 10,
   "metadata": {},
   "outputs": [
    {
     "output_type": "execute_result",
     "data": {
      "text/plain": [
       "          bias      rmse  corr_coef  scatter_index\n",
       "HKNA -0.195266  0.352283   0.971082       0.088488\n",
       "EPL  -0.075335  0.216357   0.972467       0.073902\n",
       "c2   -0.001210  0.351796   0.974335       0.118511"
      ],
      "text/html": "<div>\n<style scoped>\n    .dataframe tbody tr th:only-of-type {\n        vertical-align: middle;\n    }\n\n    .dataframe tbody tr th {\n        vertical-align: top;\n    }\n\n    .dataframe thead th {\n        text-align: right;\n    }\n</style>\n<table border=\"1\" class=\"dataframe\">\n  <thead>\n    <tr style=\"text-align: right;\">\n      <th></th>\n      <th>bias</th>\n      <th>rmse</th>\n      <th>corr_coef</th>\n      <th>scatter_index</th>\n    </tr>\n  </thead>\n  <tbody>\n    <tr>\n      <th>HKNA</th>\n      <td>-0.195266</td>\n      <td>0.352283</td>\n      <td>0.971082</td>\n      <td>0.088488</td>\n    </tr>\n    <tr>\n      <th>EPL</th>\n      <td>-0.075335</td>\n      <td>0.216357</td>\n      <td>0.972467</td>\n      <td>0.073902</td>\n    </tr>\n    <tr>\n      <th>c2</th>\n      <td>-0.001210</td>\n      <td>0.351796</td>\n      <td>0.974335</td>\n      <td>0.118511</td>\n    </tr>\n  </tbody>\n</table>\n</div>"
     },
     "metadata": {},
     "execution_count": 10
    }
   ],
   "source": [
    "cc.skill_report(model=\"SW_1\")"
   ]
  },
  {
   "cell_type": "code",
   "execution_count": 11,
   "metadata": {},
   "outputs": [
    {
     "output_type": "execute_result",
     "data": {
      "text/plain": [
       "          bias      rmse  corr_coef  scatter_index\n",
       "HKNA -0.101189  0.293247   0.971082       0.083062\n",
       "EPL  -0.007782  0.225996   0.972467       0.082298\n",
       "c2    0.081431  0.430268   0.974335       0.142327"
      ],
      "text/html": "<div>\n<style scoped>\n    .dataframe tbody tr th:only-of-type {\n        vertical-align: middle;\n    }\n\n    .dataframe tbody tr th {\n        vertical-align: top;\n    }\n\n    .dataframe thead th {\n        text-align: right;\n    }\n</style>\n<table border=\"1\" class=\"dataframe\">\n  <thead>\n    <tr style=\"text-align: right;\">\n      <th></th>\n      <th>bias</th>\n      <th>rmse</th>\n      <th>corr_coef</th>\n      <th>scatter_index</th>\n    </tr>\n  </thead>\n  <tbody>\n    <tr>\n      <th>HKNA</th>\n      <td>-0.101189</td>\n      <td>0.293247</td>\n      <td>0.971082</td>\n      <td>0.083062</td>\n    </tr>\n    <tr>\n      <th>EPL</th>\n      <td>-0.007782</td>\n      <td>0.225996</td>\n      <td>0.972467</td>\n      <td>0.082298</td>\n    </tr>\n    <tr>\n      <th>c2</th>\n      <td>0.081431</td>\n      <td>0.430268</td>\n      <td>0.974335</td>\n      <td>0.142327</td>\n    </tr>\n  </tbody>\n</table>\n</div>"
     },
     "metadata": {},
     "execution_count": 11
    }
   ],
   "source": [
    "cc.skill_report(model=\"SW_2\")"
   ]
  },
  {
   "source": [
    "## MultiModel Comparer (single point)"
   ],
   "cell_type": "markdown",
   "metadata": {}
  },
  {
   "cell_type": "code",
   "execution_count": 12,
   "metadata": {},
   "outputs": [],
   "source": [
    "ds_model_11 = mr1._extract_point_dfsu(o1, item=0)\n",
    "ds_model_21 = mr2._extract_point_dfsu(o1, item=0)"
   ]
  },
  {
   "cell_type": "code",
   "execution_count": 13,
   "metadata": {},
   "outputs": [],
   "source": [
    "from mikefm_skill.compare import PointComparer"
   ]
  },
  {
   "cell_type": "code",
   "execution_count": 14,
   "metadata": {},
   "outputs": [
    {
     "output_type": "execute_result",
     "data": {
      "text/plain": [
       "<PointComparer>\n",
       "Observation: HKNA"
      ]
     },
     "metadata": {},
     "execution_count": 14
    }
   ],
   "source": [
    "mmc = PointComparer(o1, [ds_model_11, ds_model_21])\n",
    "mmc"
   ]
  },
  {
   "cell_type": "code",
   "execution_count": 15,
   "metadata": {},
   "outputs": [
    {
     "output_type": "execute_result",
     "data": {
      "text/plain": [
       "                            Observation      SW_1      SW_2\n",
       "2017-10-27 00:10:00.000000      1.46484  1.591661  1.593077\n",
       "2017-10-27 00:19:59.999994      1.50391  1.603593  1.605845\n",
       "2017-10-27 00:29:59.999999      1.44531  1.615526  1.618612\n",
       "2017-10-27 00:39:59.999993      1.44531  1.627458  1.631380\n",
       "2017-10-27 00:49:59.999998      1.52344  1.639390  1.644147"
      ],
      "text/html": "<div>\n<style scoped>\n    .dataframe tbody tr th:only-of-type {\n        vertical-align: middle;\n    }\n\n    .dataframe tbody tr th {\n        vertical-align: top;\n    }\n\n    .dataframe thead th {\n        text-align: right;\n    }\n</style>\n<table border=\"1\" class=\"dataframe\">\n  <thead>\n    <tr style=\"text-align: right;\">\n      <th></th>\n      <th>Observation</th>\n      <th>SW_1</th>\n      <th>SW_2</th>\n    </tr>\n  </thead>\n  <tbody>\n    <tr>\n      <th>2017-10-27 00:10:00.000000</th>\n      <td>1.46484</td>\n      <td>1.591661</td>\n      <td>1.593077</td>\n    </tr>\n    <tr>\n      <th>2017-10-27 00:19:59.999994</th>\n      <td>1.50391</td>\n      <td>1.603593</td>\n      <td>1.605845</td>\n    </tr>\n    <tr>\n      <th>2017-10-27 00:29:59.999999</th>\n      <td>1.44531</td>\n      <td>1.615526</td>\n      <td>1.618612</td>\n    </tr>\n    <tr>\n      <th>2017-10-27 00:39:59.999993</th>\n      <td>1.44531</td>\n      <td>1.627458</td>\n      <td>1.631380</td>\n    </tr>\n    <tr>\n      <th>2017-10-27 00:49:59.999998</th>\n      <td>1.52344</td>\n      <td>1.639390</td>\n      <td>1.644147</td>\n    </tr>\n  </tbody>\n</table>\n</div>"
     },
     "metadata": {},
     "execution_count": 15
    }
   ],
   "source": [
    "mmc.df.head()"
   ]
  },
  {
   "cell_type": "code",
   "execution_count": 16,
   "metadata": {},
   "outputs": [
    {
     "output_type": "execute_result",
     "data": {
      "text/plain": [
       "<AxesSubplot:title={'center':'HKNA'}, ylabel='Significant wave height [m]'>"
      ]
     },
     "metadata": {},
     "execution_count": 16
    },
    {
     "output_type": "display_data",
     "data": {
      "text/plain": "<Figure size 720x432 with 1 Axes>",
      "image/svg+xml": "<?xml version=\"1.0\" encoding=\"utf-8\" standalone=\"no\"?>\r\n<!DOCTYPE svg PUBLIC \"-//W3C//DTD SVG 1.1//EN\"\r\n  \"http://www.w3.org/Graphics/SVG/1.1/DTD/svg11.dtd\">\r\n<!-- Created with matplotlib (https://matplotlib.org/) -->\r\n<svg height=\"394.751875pt\" version=\"1.1\" viewBox=\"0 0 599.440625 394.751875\" width=\"599.440625pt\" xmlns=\"http://www.w3.org/2000/svg\" xmlns:xlink=\"http://www.w3.org/1999/xlink\">\r\n <metadata>\r\n  <rdf:RDF xmlns:cc=\"http://creativecommons.org/ns#\" xmlns:dc=\"http://purl.org/dc/elements/1.1/\" xmlns:rdf=\"http://www.w3.org/1999/02/22-rdf-syntax-ns#\">\r\n   <cc:Work>\r\n    <dc:type rdf:resource=\"http://purl.org/dc/dcmitype/StillImage\"/>\r\n    <dc:date>2021-02-16T18:03:50.682529</dc:date>\r\n    <dc:format>image/svg+xml</dc:format>\r\n    <dc:creator>\r\n     <cc:Agent>\r\n      <dc:title>Matplotlib v3.3.2, https://matplotlib.org/</dc:title>\r\n     </cc:Agent>\r\n    </dc:creator>\r\n   </cc:Work>\r\n  </rdf:RDF>\r\n </metadata>\r\n <defs>\r\n  <style type=\"text/css\">*{stroke-linecap:butt;stroke-linejoin:round;}</style>\r\n </defs>\r\n <g id=\"figure_1\">\r\n  <g id=\"patch_1\">\r\n   <path d=\"M 0 394.751875 \r\nL 599.440625 394.751875 \r\nL 599.440625 0 \r\nL 0 0 \r\nz\r\n\" style=\"fill:none;\"/>\r\n  </g>\r\n  <g id=\"axes_1\">\r\n   <g id=\"patch_2\">\r\n    <path d=\"M 34.240625 348.478125 \r\nL 592.240625 348.478125 \r\nL 592.240625 22.318125 \r\nL 34.240625 22.318125 \r\nz\r\n\" style=\"fill:#ffffff;\"/>\r\n   </g>\r\n   <g id=\"PathCollection_1\">\r\n    <defs>\r\n     <path d=\"M 0 1.5 \r\nC 0.397805 1.5 0.77937 1.341951 1.06066 1.06066 \r\nC 1.341951 0.77937 1.5 0.397805 1.5 0 \r\nC 1.5 -0.397805 1.341951 -0.77937 1.06066 -1.06066 \r\nC 0.77937 -1.341951 0.397805 -1.5 0 -1.5 \r\nC -0.397805 -1.5 -0.77937 -1.341951 -1.06066 -1.06066 \r\nC -1.341951 -0.77937 -1.5 -0.397805 -1.5 0 \r\nC -1.5 0.397805 -1.341951 0.77937 -1.06066 1.06066 \r\nC -0.77937 1.341951 -0.397805 1.5 0 1.5 \r\nz\r\n\" id=\"mcbfbc2e438\" style=\"stroke:#d62728;\"/>\r\n    </defs>\r\n    <g clip-path=\"url(#p3678506cd9)\">\r\n     <use style=\"fill:#d62728;stroke:#d62728;\" x=\"34.240625\" xlink:href=\"#mcbfbc2e438\" y=\"332.380177\"/>\r\n     <use style=\"fill:#d62728;stroke:#d62728;\" x=\"34.240625\" xlink:href=\"#mcbfbc2e438\" y=\"329.834552\"/>\r\n     <use style=\"fill:#d62728;stroke:#d62728;\" x=\"34.240625\" xlink:href=\"#mcbfbc2e438\" y=\"333.65267\"/>\r\n     <use style=\"fill:#d62728;stroke:#d62728;\" x=\"34.240625\" xlink:href=\"#mcbfbc2e438\" y=\"333.65267\"/>\r\n     <use style=\"fill:#d62728;stroke:#d62728;\" x=\"34.240625\" xlink:href=\"#mcbfbc2e438\" y=\"328.562058\"/>\r\n     <use style=\"fill:#d62728;stroke:#d62728;\" x=\"34.240625\" xlink:href=\"#mcbfbc2e438\" y=\"327.289572\"/>\r\n     <use style=\"fill:#d62728;stroke:#d62728;\" x=\"42.69517\" xlink:href=\"#mcbfbc2e438\" y=\"329.834552\"/>\r\n     <use style=\"fill:#d62728;stroke:#d62728;\" x=\"42.69517\" xlink:href=\"#mcbfbc2e438\" y=\"332.380177\"/>\r\n     <use style=\"fill:#d62728;stroke:#d62728;\" x=\"42.69517\" xlink:href=\"#mcbfbc2e438\" y=\"328.562058\"/>\r\n     <use style=\"fill:#d62728;stroke:#d62728;\" x=\"42.69517\" xlink:href=\"#mcbfbc2e438\" y=\"326.017078\"/>\r\n     <use style=\"fill:#d62728;stroke:#d62728;\" x=\"42.69517\" xlink:href=\"#mcbfbc2e438\" y=\"324.744584\"/>\r\n     <use style=\"fill:#d62728;stroke:#d62728;\" x=\"42.69517\" xlink:href=\"#mcbfbc2e438\" y=\"319.653979\"/>\r\n     <use style=\"fill:#d62728;stroke:#d62728;\" x=\"51.149716\" xlink:href=\"#mcbfbc2e438\" y=\"319.653979\"/>\r\n     <use style=\"fill:#d62728;stroke:#d62728;\" x=\"51.149716\" xlink:href=\"#mcbfbc2e438\" y=\"322.199604\"/>\r\n     <use style=\"fill:#d62728;stroke:#d62728;\" x=\"51.149716\" xlink:href=\"#mcbfbc2e438\" y=\"326.017078\"/>\r\n     <use style=\"fill:#d62728;stroke:#d62728;\" x=\"51.149716\" xlink:href=\"#mcbfbc2e438\" y=\"314.564011\"/>\r\n     <use style=\"fill:#d62728;stroke:#d62728;\" x=\"51.149716\" xlink:href=\"#mcbfbc2e438\" y=\"312.019031\"/>\r\n     <use style=\"fill:#d62728;stroke:#d62728;\" x=\"51.149716\" xlink:href=\"#mcbfbc2e438\" y=\"309.473407\"/>\r\n     <use style=\"fill:#d62728;stroke:#d62728;\" x=\"59.604261\" xlink:href=\"#mcbfbc2e438\" y=\"314.564011\"/>\r\n     <use style=\"fill:#d62728;stroke:#d62728;\" x=\"59.604261\" xlink:href=\"#mcbfbc2e438\" y=\"315.836505\"/>\r\n     <use style=\"fill:#d62728;stroke:#d62728;\" x=\"59.604261\" xlink:href=\"#mcbfbc2e438\" y=\"313.291525\"/>\r\n     <use style=\"fill:#d62728;stroke:#d62728;\" x=\"59.604261\" xlink:href=\"#mcbfbc2e438\" y=\"315.836505\"/>\r\n     <use style=\"fill:#d62728;stroke:#d62728;\" x=\"59.604261\" xlink:href=\"#mcbfbc2e438\" y=\"309.473407\"/>\r\n     <use style=\"fill:#d62728;stroke:#d62728;\" x=\"59.604261\" xlink:href=\"#mcbfbc2e438\" y=\"301.838459\"/>\r\n     <use style=\"fill:#d62728;stroke:#d62728;\" x=\"68.058807\" xlink:href=\"#mcbfbc2e438\" y=\"300.565973\"/>\r\n     <use style=\"fill:#d62728;stroke:#d62728;\" x=\"68.058807\" xlink:href=\"#mcbfbc2e438\" y=\"306.928427\"/>\r\n     <use style=\"fill:#d62728;stroke:#d62728;\" x=\"68.058807\" xlink:href=\"#mcbfbc2e438\" y=\"309.473407\"/>\r\n     <use style=\"fill:#d62728;stroke:#d62728;\" x=\"68.058807\" xlink:href=\"#mcbfbc2e438\" y=\"301.838459\"/>\r\n     <use style=\"fill:#d62728;stroke:#d62728;\" x=\"68.058807\" xlink:href=\"#mcbfbc2e438\" y=\"299.292834\"/>\r\n     <use style=\"fill:#d62728;stroke:#d62728;\" x=\"68.058807\" xlink:href=\"#mcbfbc2e438\" y=\"294.202866\"/>\r\n     <use style=\"fill:#d62728;stroke:#d62728;\" x=\"76.513352\" xlink:href=\"#mcbfbc2e438\" y=\"305.655933\"/>\r\n     <use style=\"fill:#d62728;stroke:#d62728;\" x=\"76.513352\" xlink:href=\"#mcbfbc2e438\" y=\"298.02034\"/>\r\n     <use style=\"fill:#d62728;stroke:#d62728;\" x=\"76.513352\" xlink:href=\"#mcbfbc2e438\" y=\"291.657894\"/>\r\n     <use style=\"fill:#d62728;stroke:#d62728;\" x=\"76.513352\" xlink:href=\"#mcbfbc2e438\" y=\"280.204828\"/>\r\n     <use style=\"fill:#d62728;stroke:#d62728;\" x=\"76.513352\" xlink:href=\"#mcbfbc2e438\" y=\"278.931681\"/>\r\n     <use style=\"fill:#d62728;stroke:#d62728;\" x=\"76.513352\" xlink:href=\"#mcbfbc2e438\" y=\"290.384748\"/>\r\n     <use style=\"fill:#d62728;stroke:#d62728;\" x=\"84.967898\" xlink:href=\"#mcbfbc2e438\" y=\"287.839775\"/>\r\n     <use style=\"fill:#d62728;stroke:#d62728;\" x=\"84.967898\" xlink:href=\"#mcbfbc2e438\" y=\"272.569227\"/>\r\n     <use style=\"fill:#d62728;stroke:#d62728;\" x=\"84.967898\" xlink:href=\"#mcbfbc2e438\" y=\"271.296749\"/>\r\n     <use style=\"fill:#d62728;stroke:#d62728;\" x=\"84.967898\" xlink:href=\"#mcbfbc2e438\" y=\"275.114215\"/>\r\n     <use style=\"fill:#d62728;stroke:#d62728;\" x=\"84.967898\" xlink:href=\"#mcbfbc2e438\" y=\"266.206136\"/>\r\n     <use style=\"fill:#d62728;stroke:#d62728;\" x=\"84.967898\" xlink:href=\"#mcbfbc2e438\" y=\"256.025564\"/>\r\n     <use style=\"fill:#d62728;stroke:#d62728;\" x=\"93.422443\" xlink:href=\"#mcbfbc2e438\" y=\"261.116176\"/>\r\n     <use style=\"fill:#d62728;stroke:#d62728;\" x=\"93.422443\" xlink:href=\"#mcbfbc2e438\" y=\"261.116176\"/>\r\n     <use style=\"fill:#d62728;stroke:#d62728;\" x=\"93.422443\" xlink:href=\"#mcbfbc2e438\" y=\"263.661149\"/>\r\n     <use style=\"fill:#d62728;stroke:#d62728;\" x=\"93.422443\" xlink:href=\"#mcbfbc2e438\" y=\"259.843682\"/>\r\n     <use style=\"fill:#d62728;stroke:#d62728;\" x=\"93.422443\" xlink:href=\"#mcbfbc2e438\" y=\"271.296749\"/>\r\n     <use style=\"fill:#d62728;stroke:#d62728;\" x=\"93.422443\" xlink:href=\"#mcbfbc2e438\" y=\"261.116176\"/>\r\n     <use style=\"fill:#d62728;stroke:#d62728;\" x=\"101.876989\" xlink:href=\"#mcbfbc2e438\" y=\"259.843682\"/>\r\n     <use style=\"fill:#d62728;stroke:#d62728;\" x=\"101.876989\" xlink:href=\"#mcbfbc2e438\" y=\"275.114215\"/>\r\n     <use style=\"fill:#d62728;stroke:#d62728;\" x=\"101.876989\" xlink:href=\"#mcbfbc2e438\" y=\"268.751109\"/>\r\n     <use style=\"fill:#d62728;stroke:#d62728;\" x=\"101.876989\" xlink:href=\"#mcbfbc2e438\" y=\"263.661149\"/>\r\n     <use style=\"fill:#d62728;stroke:#d62728;\" x=\"101.876989\" xlink:href=\"#mcbfbc2e438\" y=\"253.480576\"/>\r\n     <use style=\"fill:#d62728;stroke:#d62728;\" x=\"101.876989\" xlink:href=\"#mcbfbc2e438\" y=\"238.209391\"/>\r\n     <use style=\"fill:#d62728;stroke:#d62728;\" x=\"110.331534\" xlink:href=\"#mcbfbc2e438\" y=\"256.025564\"/>\r\n     <use style=\"fill:#d62728;stroke:#d62728;\" x=\"110.331534\" xlink:href=\"#mcbfbc2e438\" y=\"268.751109\"/>\r\n     <use style=\"fill:#d62728;stroke:#d62728;\" x=\"110.331534\" xlink:href=\"#mcbfbc2e438\" y=\"272.569227\"/>\r\n     <use style=\"fill:#d62728;stroke:#d62728;\" x=\"110.331534\" xlink:href=\"#mcbfbc2e438\" y=\"275.114215\"/>\r\n     <use style=\"fill:#d62728;stroke:#d62728;\" x=\"110.331534\" xlink:href=\"#mcbfbc2e438\" y=\"261.116176\"/>\r\n     <use style=\"fill:#d62728;stroke:#d62728;\" x=\"110.331534\" xlink:href=\"#mcbfbc2e438\" y=\"263.661149\"/>\r\n     <use style=\"fill:#d62728;stroke:#d62728;\" x=\"118.78608\" xlink:href=\"#mcbfbc2e438\" y=\"271.296749\"/>\r\n     <use style=\"fill:#d62728;stroke:#d62728;\" x=\"118.78608\" xlink:href=\"#mcbfbc2e438\" y=\"263.661149\"/>\r\n     <use style=\"fill:#d62728;stroke:#d62728;\" x=\"118.78608\" xlink:href=\"#mcbfbc2e438\" y=\"270.023603\"/>\r\n     <use style=\"fill:#d62728;stroke:#d62728;\" x=\"118.78608\" xlink:href=\"#mcbfbc2e438\" y=\"262.388655\"/>\r\n     <use style=\"fill:#d62728;stroke:#d62728;\" x=\"118.78608\" xlink:href=\"#mcbfbc2e438\" y=\"264.933642\"/>\r\n     <use style=\"fill:#d62728;stroke:#d62728;\" x=\"118.78608\" xlink:href=\"#mcbfbc2e438\" y=\"267.47863\"/>\r\n     <use style=\"fill:#d62728;stroke:#d62728;\" x=\"127.240625\" xlink:href=\"#mcbfbc2e438\" y=\"267.47863\"/>\r\n     <use style=\"fill:#d62728;stroke:#d62728;\" x=\"127.240625\" xlink:href=\"#mcbfbc2e438\" y=\"273.841721\"/>\r\n     <use style=\"fill:#d62728;stroke:#d62728;\" x=\"127.240625\" xlink:href=\"#mcbfbc2e438\" y=\"272.569227\"/>\r\n     <use style=\"fill:#d62728;stroke:#d62728;\" x=\"127.240625\" xlink:href=\"#mcbfbc2e438\" y=\"276.386709\"/>\r\n     <use style=\"fill:#d62728;stroke:#d62728;\" x=\"127.240625\" xlink:href=\"#mcbfbc2e438\" y=\"282.7498\"/>\r\n     <use style=\"fill:#d62728;stroke:#d62728;\" x=\"127.240625\" xlink:href=\"#mcbfbc2e438\" y=\"292.930372\"/>\r\n     <use style=\"fill:#d62728;stroke:#d62728;\" x=\"135.69517\" xlink:href=\"#mcbfbc2e438\" y=\"281.477321\"/>\r\n     <use style=\"fill:#d62728;stroke:#d62728;\" x=\"135.69517\" xlink:href=\"#mcbfbc2e438\" y=\"266.206136\"/>\r\n     <use style=\"fill:#d62728;stroke:#d62728;\" x=\"135.69517\" xlink:href=\"#mcbfbc2e438\" y=\"267.47863\"/>\r\n     <use style=\"fill:#d62728;stroke:#d62728;\" x=\"135.69517\" xlink:href=\"#mcbfbc2e438\" y=\"278.931681\"/>\r\n     <use style=\"fill:#d62728;stroke:#d62728;\" x=\"135.69517\" xlink:href=\"#mcbfbc2e438\" y=\"294.202866\"/>\r\n     <use style=\"fill:#d62728;stroke:#d62728;\" x=\"135.69517\" xlink:href=\"#mcbfbc2e438\" y=\"277.659203\"/>\r\n     <use style=\"fill:#d62728;stroke:#d62728;\" x=\"144.149716\" xlink:href=\"#mcbfbc2e438\" y=\"280.204828\"/>\r\n     <use style=\"fill:#d62728;stroke:#d62728;\" x=\"144.149716\" xlink:href=\"#mcbfbc2e438\" y=\"277.659203\"/>\r\n     <use style=\"fill:#d62728;stroke:#d62728;\" x=\"144.149716\" xlink:href=\"#mcbfbc2e438\" y=\"272.569227\"/>\r\n     <use style=\"fill:#d62728;stroke:#d62728;\" x=\"144.149716\" xlink:href=\"#mcbfbc2e438\" y=\"272.569227\"/>\r\n     <use style=\"fill:#d62728;stroke:#d62728;\" x=\"144.149716\" xlink:href=\"#mcbfbc2e438\" y=\"285.294788\"/>\r\n     <use style=\"fill:#d62728;stroke:#d62728;\" x=\"144.149716\" xlink:href=\"#mcbfbc2e438\" y=\"284.022294\"/>\r\n     <use style=\"fill:#d62728;stroke:#d62728;\" x=\"152.604261\" xlink:href=\"#mcbfbc2e438\" y=\"281.477321\"/>\r\n     <use style=\"fill:#d62728;stroke:#d62728;\" x=\"152.604261\" xlink:href=\"#mcbfbc2e438\" y=\"286.567281\"/>\r\n     <use style=\"fill:#d62728;stroke:#d62728;\" x=\"152.604261\" xlink:href=\"#mcbfbc2e438\" y=\"287.839775\"/>\r\n     <use style=\"fill:#d62728;stroke:#d62728;\" x=\"152.604261\" xlink:href=\"#mcbfbc2e438\" y=\"292.930372\"/>\r\n     <use style=\"fill:#d62728;stroke:#d62728;\" x=\"152.604261\" xlink:href=\"#mcbfbc2e438\" y=\"290.384748\"/>\r\n     <use style=\"fill:#d62728;stroke:#d62728;\" x=\"152.604261\" xlink:href=\"#mcbfbc2e438\" y=\"280.204828\"/>\r\n     <use style=\"fill:#d62728;stroke:#d62728;\" x=\"161.058807\" xlink:href=\"#mcbfbc2e438\" y=\"290.384748\"/>\r\n     <use style=\"fill:#d62728;stroke:#d62728;\" x=\"161.058807\" xlink:href=\"#mcbfbc2e438\" y=\"291.657894\"/>\r\n     <use style=\"fill:#d62728;stroke:#d62728;\" x=\"161.058807\" xlink:href=\"#mcbfbc2e438\" y=\"292.930372\"/>\r\n     <use style=\"fill:#d62728;stroke:#d62728;\" x=\"161.058807\" xlink:href=\"#mcbfbc2e438\" y=\"290.384748\"/>\r\n     <use style=\"fill:#d62728;stroke:#d62728;\" x=\"161.058807\" xlink:href=\"#mcbfbc2e438\" y=\"284.022294\"/>\r\n     <use style=\"fill:#d62728;stroke:#d62728;\" x=\"161.058807\" xlink:href=\"#mcbfbc2e438\" y=\"298.02034\"/>\r\n     <use style=\"fill:#d62728;stroke:#d62728;\" x=\"169.513352\" xlink:href=\"#mcbfbc2e438\" y=\"298.02034\"/>\r\n     <use style=\"fill:#d62728;stroke:#d62728;\" x=\"169.513352\" xlink:href=\"#mcbfbc2e438\" y=\"294.202866\"/>\r\n     <use style=\"fill:#d62728;stroke:#d62728;\" x=\"169.513352\" xlink:href=\"#mcbfbc2e438\" y=\"295.47536\"/>\r\n     <use style=\"fill:#d62728;stroke:#d62728;\" x=\"169.513352\" xlink:href=\"#mcbfbc2e438\" y=\"292.930372\"/>\r\n     <use style=\"fill:#d62728;stroke:#d62728;\" x=\"169.513352\" xlink:href=\"#mcbfbc2e438\" y=\"284.022294\"/>\r\n     <use style=\"fill:#d62728;stroke:#d62728;\" x=\"169.513352\" xlink:href=\"#mcbfbc2e438\" y=\"290.384748\"/>\r\n     <use style=\"fill:#d62728;stroke:#d62728;\" x=\"177.967898\" xlink:href=\"#mcbfbc2e438\" y=\"296.747854\"/>\r\n     <use style=\"fill:#d62728;stroke:#d62728;\" x=\"177.967898\" xlink:href=\"#mcbfbc2e438\" y=\"289.112254\"/>\r\n     <use style=\"fill:#d62728;stroke:#d62728;\" x=\"177.967898\" xlink:href=\"#mcbfbc2e438\" y=\"292.930372\"/>\r\n     <use style=\"fill:#d62728;stroke:#d62728;\" x=\"177.967898\" xlink:href=\"#mcbfbc2e438\" y=\"295.47536\"/>\r\n     <use style=\"fill:#d62728;stroke:#d62728;\" x=\"177.967898\" xlink:href=\"#mcbfbc2e438\" y=\"305.655933\"/>\r\n     <use style=\"fill:#d62728;stroke:#d62728;\" x=\"177.967898\" xlink:href=\"#mcbfbc2e438\" y=\"308.200913\"/>\r\n     <use style=\"fill:#d62728;stroke:#d62728;\" x=\"186.422443\" xlink:href=\"#mcbfbc2e438\" y=\"296.747854\"/>\r\n     <use style=\"fill:#d62728;stroke:#d62728;\" x=\"186.422443\" xlink:href=\"#mcbfbc2e438\" y=\"296.747854\"/>\r\n     <use style=\"fill:#d62728;stroke:#d62728;\" x=\"186.422443\" xlink:href=\"#mcbfbc2e438\" y=\"300.565973\"/>\r\n     <use style=\"fill:#d62728;stroke:#d62728;\" x=\"186.422443\" xlink:href=\"#mcbfbc2e438\" y=\"304.383439\"/>\r\n     <use style=\"fill:#d62728;stroke:#d62728;\" x=\"186.422443\" xlink:href=\"#mcbfbc2e438\" y=\"298.02034\"/>\r\n     <use style=\"fill:#d62728;stroke:#d62728;\" x=\"186.422443\" xlink:href=\"#mcbfbc2e438\" y=\"296.747854\"/>\r\n     <use style=\"fill:#d62728;stroke:#d62728;\" x=\"194.876989\" xlink:href=\"#mcbfbc2e438\" y=\"294.202866\"/>\r\n     <use style=\"fill:#d62728;stroke:#d62728;\" x=\"194.876989\" xlink:href=\"#mcbfbc2e438\" y=\"295.47536\"/>\r\n     <use style=\"fill:#d62728;stroke:#d62728;\" x=\"194.876989\" xlink:href=\"#mcbfbc2e438\" y=\"291.657894\"/>\r\n     <use style=\"fill:#d62728;stroke:#d62728;\" x=\"194.876989\" xlink:href=\"#mcbfbc2e438\" y=\"292.930372\"/>\r\n     <use style=\"fill:#d62728;stroke:#d62728;\" x=\"194.876989\" xlink:href=\"#mcbfbc2e438\" y=\"296.747854\"/>\r\n     <use style=\"fill:#d62728;stroke:#d62728;\" x=\"194.876989\" xlink:href=\"#mcbfbc2e438\" y=\"305.655933\"/>\r\n     <use style=\"fill:#d62728;stroke:#d62728;\" x=\"203.331534\" xlink:href=\"#mcbfbc2e438\" y=\"308.200913\"/>\r\n     <use style=\"fill:#d62728;stroke:#d62728;\" x=\"203.331534\" xlink:href=\"#mcbfbc2e438\" y=\"305.655933\"/>\r\n     <use style=\"fill:#d62728;stroke:#d62728;\" x=\"203.331534\" xlink:href=\"#mcbfbc2e438\" y=\"300.565973\"/>\r\n     <use style=\"fill:#d62728;stroke:#d62728;\" x=\"203.331534\" xlink:href=\"#mcbfbc2e438\" y=\"294.202866\"/>\r\n     <use style=\"fill:#d62728;stroke:#d62728;\" x=\"203.331534\" xlink:href=\"#mcbfbc2e438\" y=\"301.838459\"/>\r\n     <use style=\"fill:#d62728;stroke:#d62728;\" x=\"203.331534\" xlink:href=\"#mcbfbc2e438\" y=\"305.655933\"/>\r\n     <use style=\"fill:#d62728;stroke:#d62728;\" x=\"211.78608\" xlink:href=\"#mcbfbc2e438\" y=\"305.655933\"/>\r\n     <use style=\"fill:#d62728;stroke:#d62728;\" x=\"211.78608\" xlink:href=\"#mcbfbc2e438\" y=\"305.655933\"/>\r\n     <use style=\"fill:#d62728;stroke:#d62728;\" x=\"211.78608\" xlink:href=\"#mcbfbc2e438\" y=\"310.745893\"/>\r\n     <use style=\"fill:#d62728;stroke:#d62728;\" x=\"211.78608\" xlink:href=\"#mcbfbc2e438\" y=\"314.564011\"/>\r\n     <use style=\"fill:#d62728;stroke:#d62728;\" x=\"211.78608\" xlink:href=\"#mcbfbc2e438\" y=\"309.473407\"/>\r\n     <use style=\"fill:#d62728;stroke:#d62728;\" x=\"211.78608\" xlink:href=\"#mcbfbc2e438\" y=\"305.655933\"/>\r\n     <use style=\"fill:#d62728;stroke:#d62728;\" x=\"220.240625\" xlink:href=\"#mcbfbc2e438\" y=\"305.655933\"/>\r\n     <use style=\"fill:#d62728;stroke:#d62728;\" x=\"220.240625\" xlink:href=\"#mcbfbc2e438\" y=\"305.655933\"/>\r\n     <use style=\"fill:#d62728;stroke:#d62728;\" x=\"220.240625\" xlink:href=\"#mcbfbc2e438\" y=\"306.928427\"/>\r\n     <use style=\"fill:#d62728;stroke:#d62728;\" x=\"220.240625\" xlink:href=\"#mcbfbc2e438\" y=\"309.473407\"/>\r\n     <use style=\"fill:#d62728;stroke:#d62728;\" x=\"220.240625\" xlink:href=\"#mcbfbc2e438\" y=\"308.200913\"/>\r\n     <use style=\"fill:#d62728;stroke:#d62728;\" x=\"220.240625\" xlink:href=\"#mcbfbc2e438\" y=\"313.291525\"/>\r\n     <use style=\"fill:#d62728;stroke:#d62728;\" x=\"228.69517\" xlink:href=\"#mcbfbc2e438\" y=\"309.473407\"/>\r\n     <use style=\"fill:#d62728;stroke:#d62728;\" x=\"228.69517\" xlink:href=\"#mcbfbc2e438\" y=\"308.200913\"/>\r\n     <use style=\"fill:#d62728;stroke:#d62728;\" x=\"228.69517\" xlink:href=\"#mcbfbc2e438\" y=\"310.745893\"/>\r\n     <use style=\"fill:#d62728;stroke:#d62728;\" x=\"228.69517\" xlink:href=\"#mcbfbc2e438\" y=\"309.473407\"/>\r\n     <use style=\"fill:#d62728;stroke:#d62728;\" x=\"228.69517\" xlink:href=\"#mcbfbc2e438\" y=\"309.473407\"/>\r\n     <use style=\"fill:#d62728;stroke:#d62728;\" x=\"245.604261\" xlink:href=\"#mcbfbc2e438\" y=\"295.47536\"/>\r\n     <use style=\"fill:#d62728;stroke:#d62728;\" x=\"245.604261\" xlink:href=\"#mcbfbc2e438\" y=\"291.657894\"/>\r\n     <use style=\"fill:#d62728;stroke:#d62728;\" x=\"245.604261\" xlink:href=\"#mcbfbc2e438\" y=\"291.657894\"/>\r\n     <use style=\"fill:#d62728;stroke:#d62728;\" x=\"245.604261\" xlink:href=\"#mcbfbc2e438\" y=\"296.747854\"/>\r\n     <use style=\"fill:#d62728;stroke:#d62728;\" x=\"245.604261\" xlink:href=\"#mcbfbc2e438\" y=\"296.747854\"/>\r\n     <use style=\"fill:#d62728;stroke:#d62728;\" x=\"245.604261\" xlink:href=\"#mcbfbc2e438\" y=\"296.747854\"/>\r\n     <use style=\"fill:#d62728;stroke:#d62728;\" x=\"254.058807\" xlink:href=\"#mcbfbc2e438\" y=\"290.384748\"/>\r\n     <use style=\"fill:#d62728;stroke:#d62728;\" x=\"254.058807\" xlink:href=\"#mcbfbc2e438\" y=\"286.567281\"/>\r\n     <use style=\"fill:#d62728;stroke:#d62728;\" x=\"254.058807\" xlink:href=\"#mcbfbc2e438\" y=\"287.839775\"/>\r\n     <use style=\"fill:#d62728;stroke:#d62728;\" x=\"254.058807\" xlink:href=\"#mcbfbc2e438\" y=\"284.022294\"/>\r\n     <use style=\"fill:#d62728;stroke:#d62728;\" x=\"254.058807\" xlink:href=\"#mcbfbc2e438\" y=\"282.7498\"/>\r\n     <use style=\"fill:#d62728;stroke:#d62728;\" x=\"254.058807\" xlink:href=\"#mcbfbc2e438\" y=\"285.294788\"/>\r\n     <use style=\"fill:#d62728;stroke:#d62728;\" x=\"262.513352\" xlink:href=\"#mcbfbc2e438\" y=\"289.112254\"/>\r\n     <use style=\"fill:#d62728;stroke:#d62728;\" x=\"262.513352\" xlink:href=\"#mcbfbc2e438\" y=\"286.567281\"/>\r\n     <use style=\"fill:#d62728;stroke:#d62728;\" x=\"262.513352\" xlink:href=\"#mcbfbc2e438\" y=\"280.204828\"/>\r\n     <use style=\"fill:#d62728;stroke:#d62728;\" x=\"262.513352\" xlink:href=\"#mcbfbc2e438\" y=\"287.839775\"/>\r\n     <use style=\"fill:#d62728;stroke:#d62728;\" x=\"262.513352\" xlink:href=\"#mcbfbc2e438\" y=\"289.112254\"/>\r\n     <use style=\"fill:#d62728;stroke:#d62728;\" x=\"262.513352\" xlink:href=\"#mcbfbc2e438\" y=\"289.112254\"/>\r\n     <use style=\"fill:#d62728;stroke:#d62728;\" x=\"270.967898\" xlink:href=\"#mcbfbc2e438\" y=\"281.477321\"/>\r\n     <use style=\"fill:#d62728;stroke:#d62728;\" x=\"270.967898\" xlink:href=\"#mcbfbc2e438\" y=\"275.114215\"/>\r\n     <use style=\"fill:#d62728;stroke:#d62728;\" x=\"270.967898\" xlink:href=\"#mcbfbc2e438\" y=\"264.933642\"/>\r\n     <use style=\"fill:#d62728;stroke:#d62728;\" x=\"270.967898\" xlink:href=\"#mcbfbc2e438\" y=\"262.388655\"/>\r\n     <use style=\"fill:#d62728;stroke:#d62728;\" x=\"270.967898\" xlink:href=\"#mcbfbc2e438\" y=\"273.841721\"/>\r\n     <use style=\"fill:#d62728;stroke:#d62728;\" x=\"270.967898\" xlink:href=\"#mcbfbc2e438\" y=\"271.296749\"/>\r\n     <use style=\"fill:#d62728;stroke:#d62728;\" x=\"279.422443\" xlink:href=\"#mcbfbc2e438\" y=\"259.843682\"/>\r\n     <use style=\"fill:#d62728;stroke:#d62728;\" x=\"279.422443\" xlink:href=\"#mcbfbc2e438\" y=\"267.47863\"/>\r\n     <use style=\"fill:#d62728;stroke:#d62728;\" x=\"279.422443\" xlink:href=\"#mcbfbc2e438\" y=\"271.296749\"/>\r\n     <use style=\"fill:#d62728;stroke:#d62728;\" x=\"279.422443\" xlink:href=\"#mcbfbc2e438\" y=\"273.841721\"/>\r\n     <use style=\"fill:#d62728;stroke:#d62728;\" x=\"279.422443\" xlink:href=\"#mcbfbc2e438\" y=\"273.841721\"/>\r\n     <use style=\"fill:#d62728;stroke:#d62728;\" x=\"279.422443\" xlink:href=\"#mcbfbc2e438\" y=\"287.839775\"/>\r\n     <use style=\"fill:#d62728;stroke:#d62728;\" x=\"287.876989\" xlink:href=\"#mcbfbc2e438\" y=\"275.114215\"/>\r\n     <use style=\"fill:#d62728;stroke:#d62728;\" x=\"287.876989\" xlink:href=\"#mcbfbc2e438\" y=\"268.751109\"/>\r\n     <use style=\"fill:#d62728;stroke:#d62728;\" x=\"287.876989\" xlink:href=\"#mcbfbc2e438\" y=\"253.480576\"/>\r\n     <use style=\"fill:#d62728;stroke:#d62728;\" x=\"287.876989\" xlink:href=\"#mcbfbc2e438\" y=\"249.662457\"/>\r\n     <use style=\"fill:#d62728;stroke:#d62728;\" x=\"287.876989\" xlink:href=\"#mcbfbc2e438\" y=\"261.116176\"/>\r\n     <use style=\"fill:#d62728;stroke:#d62728;\" x=\"287.876989\" xlink:href=\"#mcbfbc2e438\" y=\"264.933642\"/>\r\n     <use style=\"fill:#d62728;stroke:#d62728;\" x=\"296.331534\" xlink:href=\"#mcbfbc2e438\" y=\"266.206136\"/>\r\n     <use style=\"fill:#d62728;stroke:#d62728;\" x=\"296.331534\" xlink:href=\"#mcbfbc2e438\" y=\"250.935604\"/>\r\n     <use style=\"fill:#d62728;stroke:#d62728;\" x=\"296.331534\" xlink:href=\"#mcbfbc2e438\" y=\"249.662457\"/>\r\n     <use style=\"fill:#d62728;stroke:#d62728;\" x=\"296.331534\" xlink:href=\"#mcbfbc2e438\" y=\"257.298058\"/>\r\n     <use style=\"fill:#d62728;stroke:#d62728;\" x=\"296.331534\" xlink:href=\"#mcbfbc2e438\" y=\"252.208082\"/>\r\n     <use style=\"fill:#d62728;stroke:#d62728;\" x=\"296.331534\" xlink:href=\"#mcbfbc2e438\" y=\"244.572497\"/>\r\n     <use style=\"fill:#d62728;stroke:#d62728;\" x=\"304.78608\" xlink:href=\"#mcbfbc2e438\" y=\"247.117485\"/>\r\n     <use style=\"fill:#d62728;stroke:#d62728;\" x=\"304.78608\" xlink:href=\"#mcbfbc2e438\" y=\"252.208082\"/>\r\n     <use style=\"fill:#d62728;stroke:#d62728;\" x=\"304.78608\" xlink:href=\"#mcbfbc2e438\" y=\"248.389963\"/>\r\n     <use style=\"fill:#d62728;stroke:#d62728;\" x=\"304.78608\" xlink:href=\"#mcbfbc2e438\" y=\"250.935604\"/>\r\n     <use style=\"fill:#d62728;stroke:#d62728;\" x=\"304.78608\" xlink:href=\"#mcbfbc2e438\" y=\"249.662457\"/>\r\n     <use style=\"fill:#d62728;stroke:#d62728;\" x=\"304.78608\" xlink:href=\"#mcbfbc2e438\" y=\"257.298058\"/>\r\n     <use style=\"fill:#d62728;stroke:#d62728;\" x=\"313.240625\" xlink:href=\"#mcbfbc2e438\" y=\"243.300003\"/>\r\n     <use style=\"fill:#d62728;stroke:#d62728;\" x=\"313.240625\" xlink:href=\"#mcbfbc2e438\" y=\"244.572497\"/>\r\n     <use style=\"fill:#d62728;stroke:#d62728;\" x=\"313.240625\" xlink:href=\"#mcbfbc2e438\" y=\"259.843682\"/>\r\n     <use style=\"fill:#d62728;stroke:#d62728;\" x=\"313.240625\" xlink:href=\"#mcbfbc2e438\" y=\"245.844991\"/>\r\n     <use style=\"fill:#d62728;stroke:#d62728;\" x=\"313.240625\" xlink:href=\"#mcbfbc2e438\" y=\"239.482537\"/>\r\n     <use style=\"fill:#d62728;stroke:#d62728;\" x=\"313.240625\" xlink:href=\"#mcbfbc2e438\" y=\"217.848246\"/>\r\n     <use style=\"fill:#d62728;stroke:#d62728;\" x=\"321.69517\" xlink:href=\"#mcbfbc2e438\" y=\"226.75634\"/>\r\n     <use style=\"fill:#d62728;stroke:#d62728;\" x=\"321.69517\" xlink:href=\"#mcbfbc2e438\" y=\"240.755031\"/>\r\n     <use style=\"fill:#d62728;stroke:#d62728;\" x=\"321.69517\" xlink:href=\"#mcbfbc2e438\" y=\"236.936913\"/>\r\n     <use style=\"fill:#d62728;stroke:#d62728;\" x=\"321.69517\" xlink:href=\"#mcbfbc2e438\" y=\"239.482537\"/>\r\n     <use style=\"fill:#d62728;stroke:#d62728;\" x=\"321.69517\" xlink:href=\"#mcbfbc2e438\" y=\"236.936913\"/>\r\n     <use style=\"fill:#d62728;stroke:#d62728;\" x=\"321.69517\" xlink:href=\"#mcbfbc2e438\" y=\"244.572497\"/>\r\n     <use style=\"fill:#d62728;stroke:#d62728;\" x=\"330.149716\" xlink:href=\"#mcbfbc2e438\" y=\"238.209391\"/>\r\n     <use style=\"fill:#d62728;stroke:#d62728;\" x=\"330.149716\" xlink:href=\"#mcbfbc2e438\" y=\"234.391925\"/>\r\n     <use style=\"fill:#d62728;stroke:#d62728;\" x=\"330.149716\" xlink:href=\"#mcbfbc2e438\" y=\"235.664419\"/>\r\n     <use style=\"fill:#d62728;stroke:#d62728;\" x=\"330.149716\" xlink:href=\"#mcbfbc2e438\" y=\"239.482537\"/>\r\n     <use style=\"fill:#d62728;stroke:#d62728;\" x=\"330.149716\" xlink:href=\"#mcbfbc2e438\" y=\"235.664419\"/>\r\n     <use style=\"fill:#d62728;stroke:#d62728;\" x=\"330.149716\" xlink:href=\"#mcbfbc2e438\" y=\"224.211352\"/>\r\n     <use style=\"fill:#d62728;stroke:#d62728;\" x=\"338.604261\" xlink:href=\"#mcbfbc2e438\" y=\"243.300003\"/>\r\n     <use style=\"fill:#d62728;stroke:#d62728;\" x=\"338.604261\" xlink:href=\"#mcbfbc2e438\" y=\"230.574459\"/>\r\n     <use style=\"fill:#d62728;stroke:#d62728;\" x=\"338.604261\" xlink:href=\"#mcbfbc2e438\" y=\"230.574459\"/>\r\n     <use style=\"fill:#d62728;stroke:#d62728;\" x=\"338.604261\" xlink:href=\"#mcbfbc2e438\" y=\"235.664419\"/>\r\n     <use style=\"fill:#d62728;stroke:#d62728;\" x=\"338.604261\" xlink:href=\"#mcbfbc2e438\" y=\"244.572497\"/>\r\n     <use style=\"fill:#d62728;stroke:#d62728;\" x=\"338.604261\" xlink:href=\"#mcbfbc2e438\" y=\"242.027509\"/>\r\n     <use style=\"fill:#d62728;stroke:#d62728;\" x=\"347.058807\" xlink:href=\"#mcbfbc2e438\" y=\"239.482537\"/>\r\n     <use style=\"fill:#d62728;stroke:#d62728;\" x=\"347.058807\" xlink:href=\"#mcbfbc2e438\" y=\"224.211352\"/>\r\n     <use style=\"fill:#d62728;stroke:#d62728;\" x=\"347.058807\" xlink:href=\"#mcbfbc2e438\" y=\"226.75634\"/>\r\n     <use style=\"fill:#d62728;stroke:#d62728;\" x=\"347.058807\" xlink:href=\"#mcbfbc2e438\" y=\"228.028818\"/>\r\n     <use style=\"fill:#d62728;stroke:#d62728;\" x=\"347.058807\" xlink:href=\"#mcbfbc2e438\" y=\"216.575767\"/>\r\n     <use style=\"fill:#d62728;stroke:#d62728;\" x=\"347.058807\" xlink:href=\"#mcbfbc2e438\" y=\"219.121392\"/>\r\n     <use style=\"fill:#d62728;stroke:#d62728;\" x=\"355.513352\" xlink:href=\"#mcbfbc2e438\" y=\"231.846937\"/>\r\n     <use style=\"fill:#d62728;stroke:#d62728;\" x=\"355.513352\" xlink:href=\"#mcbfbc2e438\" y=\"224.211352\"/>\r\n     <use style=\"fill:#d62728;stroke:#d62728;\" x=\"355.513352\" xlink:href=\"#mcbfbc2e438\" y=\"205.122701\"/>\r\n     <use style=\"fill:#d62728;stroke:#d62728;\" x=\"355.513352\" xlink:href=\"#mcbfbc2e438\" y=\"230.574459\"/>\r\n     <use style=\"fill:#d62728;stroke:#d62728;\" x=\"355.513352\" xlink:href=\"#mcbfbc2e438\" y=\"221.666364\"/>\r\n     <use style=\"fill:#d62728;stroke:#d62728;\" x=\"355.513352\" xlink:href=\"#mcbfbc2e438\" y=\"221.666364\"/>\r\n     <use style=\"fill:#d62728;stroke:#d62728;\" x=\"363.967898\" xlink:href=\"#mcbfbc2e438\" y=\"229.301312\"/>\r\n     <use style=\"fill:#d62728;stroke:#d62728;\" x=\"363.967898\" xlink:href=\"#mcbfbc2e438\" y=\"222.938858\"/>\r\n     <use style=\"fill:#d62728;stroke:#d62728;\" x=\"363.967898\" xlink:href=\"#mcbfbc2e438\" y=\"222.938858\"/>\r\n     <use style=\"fill:#d62728;stroke:#d62728;\" x=\"363.967898\" xlink:href=\"#mcbfbc2e438\" y=\"211.485792\"/>\r\n     <use style=\"fill:#d62728;stroke:#d62728;\" x=\"363.967898\" xlink:href=\"#mcbfbc2e438\" y=\"216.575767\"/>\r\n     <use style=\"fill:#d62728;stroke:#d62728;\" x=\"363.967898\" xlink:href=\"#mcbfbc2e438\" y=\"212.758286\"/>\r\n     <use style=\"fill:#d62728;stroke:#d62728;\" x=\"372.422443\" xlink:href=\"#mcbfbc2e438\" y=\"208.940167\"/>\r\n     <use style=\"fill:#d62728;stroke:#d62728;\" x=\"372.422443\" xlink:href=\"#mcbfbc2e438\" y=\"220.393886\"/>\r\n     <use style=\"fill:#d62728;stroke:#d62728;\" x=\"372.422443\" xlink:href=\"#mcbfbc2e438\" y=\"231.846937\"/>\r\n     <use style=\"fill:#d62728;stroke:#d62728;\" x=\"372.422443\" xlink:href=\"#mcbfbc2e438\" y=\"226.75634\"/>\r\n     <use style=\"fill:#d62728;stroke:#d62728;\" x=\"372.422443\" xlink:href=\"#mcbfbc2e438\" y=\"221.666364\"/>\r\n     <use style=\"fill:#d62728;stroke:#d62728;\" x=\"372.422443\" xlink:href=\"#mcbfbc2e438\" y=\"215.303273\"/>\r\n     <use style=\"fill:#d62728;stroke:#d62728;\" x=\"380.876989\" xlink:href=\"#mcbfbc2e438\" y=\"219.121392\"/>\r\n     <use style=\"fill:#d62728;stroke:#d62728;\" x=\"380.876989\" xlink:href=\"#mcbfbc2e438\" y=\"216.575767\"/>\r\n     <use style=\"fill:#d62728;stroke:#d62728;\" x=\"380.876989\" xlink:href=\"#mcbfbc2e438\" y=\"188.579022\"/>\r\n     <use style=\"fill:#d62728;stroke:#d62728;\" x=\"380.876989\" xlink:href=\"#mcbfbc2e438\" y=\"194.942128\"/>\r\n     <use style=\"fill:#d62728;stroke:#d62728;\" x=\"380.876989\" xlink:href=\"#mcbfbc2e438\" y=\"207.667673\"/>\r\n     <use style=\"fill:#d62728;stroke:#d62728;\" x=\"380.876989\" xlink:href=\"#mcbfbc2e438\" y=\"219.121392\"/>\r\n     <use style=\"fill:#d62728;stroke:#d62728;\" x=\"389.331534\" xlink:href=\"#mcbfbc2e438\" y=\"212.758286\"/>\r\n     <use style=\"fill:#d62728;stroke:#d62728;\" x=\"389.331534\" xlink:href=\"#mcbfbc2e438\" y=\"186.03405\"/>\r\n     <use style=\"fill:#d62728;stroke:#d62728;\" x=\"389.331534\" xlink:href=\"#mcbfbc2e438\" y=\"182.216568\"/>\r\n     <use style=\"fill:#d62728;stroke:#d62728;\" x=\"389.331534\" xlink:href=\"#mcbfbc2e438\" y=\"182.216568\"/>\r\n     <use style=\"fill:#d62728;stroke:#d62728;\" x=\"389.331534\" xlink:href=\"#mcbfbc2e438\" y=\"201.305219\"/>\r\n     <use style=\"fill:#d62728;stroke:#d62728;\" x=\"389.331534\" xlink:href=\"#mcbfbc2e438\" y=\"205.122701\"/>\r\n     <use style=\"fill:#d62728;stroke:#d62728;\" x=\"397.78608\" xlink:href=\"#mcbfbc2e438\" y=\"188.579022\"/>\r\n     <use style=\"fill:#d62728;stroke:#d62728;\" x=\"397.78608\" xlink:href=\"#mcbfbc2e438\" y=\"189.852168\"/>\r\n     <use style=\"fill:#d62728;stroke:#d62728;\" x=\"397.78608\" xlink:href=\"#mcbfbc2e438\" y=\"203.850207\"/>\r\n     <use style=\"fill:#d62728;stroke:#d62728;\" x=\"397.78608\" xlink:href=\"#mcbfbc2e438\" y=\"200.032741\"/>\r\n     <use style=\"fill:#d62728;stroke:#d62728;\" x=\"397.78608\" xlink:href=\"#mcbfbc2e438\" y=\"170.763501\"/>\r\n     <use style=\"fill:#d62728;stroke:#d62728;\" x=\"397.78608\" xlink:href=\"#mcbfbc2e438\" y=\"191.124647\"/>\r\n     <use style=\"fill:#d62728;stroke:#d62728;\" x=\"406.240625\" xlink:href=\"#mcbfbc2e438\" y=\"178.399102\"/>\r\n     <use style=\"fill:#d62728;stroke:#d62728;\" x=\"406.240625\" xlink:href=\"#mcbfbc2e438\" y=\"156.76481\"/>\r\n     <use style=\"fill:#d62728;stroke:#d62728;\" x=\"406.240625\" xlink:href=\"#mcbfbc2e438\" y=\"156.76481\"/>\r\n     <use style=\"fill:#d62728;stroke:#d62728;\" x=\"406.240625\" xlink:href=\"#mcbfbc2e438\" y=\"169.491023\"/>\r\n     <use style=\"fill:#d62728;stroke:#d62728;\" x=\"406.240625\" xlink:href=\"#mcbfbc2e438\" y=\"182.216568\"/>\r\n     <use style=\"fill:#d62728;stroke:#d62728;\" x=\"406.240625\" xlink:href=\"#mcbfbc2e438\" y=\"170.763501\"/>\r\n     <use style=\"fill:#d62728;stroke:#d62728;\" x=\"414.69517\" xlink:href=\"#mcbfbc2e438\" y=\"168.217877\"/>\r\n     <use style=\"fill:#d62728;stroke:#d62728;\" x=\"414.69517\" xlink:href=\"#mcbfbc2e438\" y=\"165.672904\"/>\r\n     <use style=\"fill:#d62728;stroke:#d62728;\" x=\"414.69517\" xlink:href=\"#mcbfbc2e438\" y=\"169.491023\"/>\r\n     <use style=\"fill:#d62728;stroke:#d62728;\" x=\"414.69517\" xlink:href=\"#mcbfbc2e438\" y=\"165.672904\"/>\r\n     <use style=\"fill:#d62728;stroke:#d62728;\" x=\"414.69517\" xlink:href=\"#mcbfbc2e438\" y=\"165.672904\"/>\r\n     <use style=\"fill:#d62728;stroke:#d62728;\" x=\"414.69517\" xlink:href=\"#mcbfbc2e438\" y=\"169.491023\"/>\r\n     <use style=\"fill:#d62728;stroke:#d62728;\" x=\"423.149716\" xlink:href=\"#mcbfbc2e438\" y=\"184.761556\"/>\r\n     <use style=\"fill:#d62728;stroke:#d62728;\" x=\"423.149716\" xlink:href=\"#mcbfbc2e438\" y=\"179.671596\"/>\r\n     <use style=\"fill:#d62728;stroke:#d62728;\" x=\"423.149716\" xlink:href=\"#mcbfbc2e438\" y=\"174.580983\"/>\r\n     <use style=\"fill:#d62728;stroke:#d62728;\" x=\"423.149716\" xlink:href=\"#mcbfbc2e438\" y=\"133.858677\"/>\r\n     <use style=\"fill:#d62728;stroke:#d62728;\" x=\"423.149716\" xlink:href=\"#mcbfbc2e438\" y=\"149.129878\"/>\r\n     <use style=\"fill:#d62728;stroke:#d62728;\" x=\"423.149716\" xlink:href=\"#mcbfbc2e438\" y=\"170.763501\"/>\r\n     <use style=\"fill:#d62728;stroke:#d62728;\" x=\"431.604261\" xlink:href=\"#mcbfbc2e438\" y=\"155.492332\"/>\r\n     <use style=\"fill:#d62728;stroke:#d62728;\" x=\"431.604261\" xlink:href=\"#mcbfbc2e438\" y=\"151.674866\"/>\r\n     <use style=\"fill:#d62728;stroke:#d62728;\" x=\"431.604261\" xlink:href=\"#mcbfbc2e438\" y=\"142.766771\"/>\r\n     <use style=\"fill:#d62728;stroke:#d62728;\" x=\"431.604261\" xlink:href=\"#mcbfbc2e438\" y=\"128.768733\"/>\r\n     <use style=\"fill:#d62728;stroke:#d62728;\" x=\"431.604261\" xlink:href=\"#mcbfbc2e438\" y=\"137.676796\"/>\r\n     <use style=\"fill:#d62728;stroke:#d62728;\" x=\"431.604261\" xlink:href=\"#mcbfbc2e438\" y=\"136.403665\"/>\r\n     <use style=\"fill:#d62728;stroke:#d62728;\" x=\"440.058807\" xlink:href=\"#mcbfbc2e438\" y=\"142.766771\"/>\r\n     <use style=\"fill:#d62728;stroke:#d62728;\" x=\"440.058807\" xlink:href=\"#mcbfbc2e438\" y=\"138.949305\"/>\r\n     <use style=\"fill:#d62728;stroke:#d62728;\" x=\"440.058807\" xlink:href=\"#mcbfbc2e438\" y=\"133.858677\"/>\r\n     <use style=\"fill:#d62728;stroke:#d62728;\" x=\"440.058807\" xlink:href=\"#mcbfbc2e438\" y=\"138.949305\"/>\r\n     <use style=\"fill:#d62728;stroke:#d62728;\" x=\"440.058807\" xlink:href=\"#mcbfbc2e438\" y=\"164.400395\"/>\r\n     <use style=\"fill:#d62728;stroke:#d62728;\" x=\"440.058807\" xlink:href=\"#mcbfbc2e438\" y=\"141.494293\"/>\r\n     <use style=\"fill:#d62728;stroke:#d62728;\" x=\"448.513352\" xlink:href=\"#mcbfbc2e438\" y=\"128.768733\"/>\r\n     <use style=\"fill:#d62728;stroke:#d62728;\" x=\"448.513352\" xlink:href=\"#mcbfbc2e438\" y=\"121.133148\"/>\r\n     <use style=\"fill:#d62728;stroke:#d62728;\" x=\"448.513352\" xlink:href=\"#mcbfbc2e438\" y=\"122.405626\"/>\r\n     <use style=\"fill:#d62728;stroke:#d62728;\" x=\"448.513352\" xlink:href=\"#mcbfbc2e438\" y=\"117.315651\"/>\r\n     <use style=\"fill:#d62728;stroke:#d62728;\" x=\"456.967898\" xlink:href=\"#mcbfbc2e438\" y=\"138.949305\"/>\r\n     <use style=\"fill:#d62728;stroke:#d62728;\" x=\"456.967898\" xlink:href=\"#mcbfbc2e438\" y=\"149.129878\"/>\r\n     <use style=\"fill:#d62728;stroke:#d62728;\" x=\"456.967898\" xlink:href=\"#mcbfbc2e438\" y=\"135.131187\"/>\r\n     <use style=\"fill:#d62728;stroke:#d62728;\" x=\"456.967898\" xlink:href=\"#mcbfbc2e438\" y=\"122.405626\"/>\r\n     <use style=\"fill:#d62728;stroke:#d62728;\" x=\"456.967898\" xlink:href=\"#mcbfbc2e438\" y=\"117.315651\"/>\r\n     <use style=\"fill:#d62728;stroke:#d62728;\" x=\"456.967898\" xlink:href=\"#mcbfbc2e438\" y=\"119.860639\"/>\r\n     <use style=\"fill:#d62728;stroke:#d62728;\" x=\"465.422443\" xlink:href=\"#mcbfbc2e438\" y=\"93.136387\"/>\r\n     <use style=\"fill:#d62728;stroke:#d62728;\" x=\"465.422443\" xlink:href=\"#mcbfbc2e438\" y=\"85.500802\"/>\r\n     <use style=\"fill:#d62728;stroke:#d62728;\" x=\"465.422443\" xlink:href=\"#mcbfbc2e438\" y=\"86.773312\"/>\r\n     <use style=\"fill:#d62728;stroke:#d62728;\" x=\"465.422443\" xlink:href=\"#mcbfbc2e438\" y=\"58.777203\"/>\r\n     <use style=\"fill:#d62728;stroke:#d62728;\" x=\"465.422443\" xlink:href=\"#mcbfbc2e438\" y=\"68.957776\"/>\r\n     <use style=\"fill:#d62728;stroke:#d62728;\" x=\"465.422443\" xlink:href=\"#mcbfbc2e438\" y=\"79.138348\"/>\r\n     <use style=\"fill:#d62728;stroke:#d62728;\" x=\"473.876989\" xlink:href=\"#mcbfbc2e438\" y=\"91.863909\"/>\r\n     <use style=\"fill:#d62728;stroke:#d62728;\" x=\"473.876989\" xlink:href=\"#mcbfbc2e438\" y=\"84.228324\"/>\r\n     <use style=\"fill:#d62728;stroke:#d62728;\" x=\"473.876989\" xlink:href=\"#mcbfbc2e438\" y=\"49.86914\"/>\r\n     <use style=\"fill:#d62728;stroke:#d62728;\" x=\"473.876989\" xlink:href=\"#mcbfbc2e438\" y=\"66.412166\"/>\r\n     <use style=\"fill:#d62728;stroke:#d62728;\" x=\"473.876989\" xlink:href=\"#mcbfbc2e438\" y=\"54.959084\"/>\r\n     <use style=\"fill:#d62728;stroke:#d62728;\" x=\"473.876989\" xlink:href=\"#mcbfbc2e438\" y=\"85.500802\"/>\r\n     <use style=\"fill:#d62728;stroke:#d62728;\" x=\"482.331534\" xlink:href=\"#mcbfbc2e438\" y=\"60.049713\"/>\r\n     <use style=\"fill:#d62728;stroke:#d62728;\" x=\"482.331534\" xlink:href=\"#mcbfbc2e438\" y=\"53.686606\"/>\r\n     <use style=\"fill:#d62728;stroke:#d62728;\" x=\"482.331534\" xlink:href=\"#mcbfbc2e438\" y=\"37.14358\"/>\r\n     <use style=\"fill:#d62728;stroke:#d62728;\" x=\"482.331534\" xlink:href=\"#mcbfbc2e438\" y=\"42.233524\"/>\r\n     <use style=\"fill:#d62728;stroke:#d62728;\" x=\"482.331534\" xlink:href=\"#mcbfbc2e438\" y=\"76.59336\"/>\r\n     <use style=\"fill:#d62728;stroke:#d62728;\" x=\"482.331534\" xlink:href=\"#mcbfbc2e438\" y=\"104.589469\"/>\r\n     <use style=\"fill:#d62728;stroke:#d62728;\" x=\"490.78608\" xlink:href=\"#mcbfbc2e438\" y=\"112.225054\"/>\r\n     <use style=\"fill:#d62728;stroke:#d62728;\" x=\"490.78608\" xlink:href=\"#mcbfbc2e438\" y=\"127.495602\"/>\r\n     <use style=\"fill:#d62728;stroke:#d62728;\" x=\"490.78608\" xlink:href=\"#mcbfbc2e438\" y=\"109.680066\"/>\r\n     <use style=\"fill:#d62728;stroke:#d62728;\" x=\"490.78608\" xlink:href=\"#mcbfbc2e438\" y=\"94.408896\"/>\r\n     <use style=\"fill:#d62728;stroke:#d62728;\" x=\"490.78608\" xlink:href=\"#mcbfbc2e438\" y=\"77.86587\"/>\r\n     <use style=\"fill:#d62728;stroke:#d62728;\" x=\"490.78608\" xlink:href=\"#mcbfbc2e438\" y=\"108.407588\"/>\r\n     <use style=\"fill:#d62728;stroke:#d62728;\" x=\"499.240625\" xlink:href=\"#mcbfbc2e438\" y=\"93.136387\"/>\r\n     <use style=\"fill:#d62728;stroke:#d62728;\" x=\"499.240625\" xlink:href=\"#mcbfbc2e438\" y=\"96.954506\"/>\r\n     <use style=\"fill:#d62728;stroke:#d62728;\" x=\"499.240625\" xlink:href=\"#mcbfbc2e438\" y=\"107.134457\"/>\r\n     <use style=\"fill:#d62728;stroke:#d62728;\" x=\"499.240625\" xlink:href=\"#mcbfbc2e438\" y=\"74.047751\"/>\r\n     <use style=\"fill:#d62728;stroke:#d62728;\" x=\"499.240625\" xlink:href=\"#mcbfbc2e438\" y=\"68.957776\"/>\r\n     <use style=\"fill:#d62728;stroke:#d62728;\" x=\"499.240625\" xlink:href=\"#mcbfbc2e438\" y=\"99.499493\"/>\r\n     <use style=\"fill:#d62728;stroke:#d62728;\" x=\"507.69517\" xlink:href=\"#mcbfbc2e438\" y=\"112.225054\"/>\r\n     <use style=\"fill:#d62728;stroke:#d62728;\" x=\"507.69517\" xlink:href=\"#mcbfbc2e438\" y=\"144.03925\"/>\r\n     <use style=\"fill:#d62728;stroke:#d62728;\" x=\"507.69517\" xlink:href=\"#mcbfbc2e438\" y=\"135.131187\"/>\r\n     <use style=\"fill:#d62728;stroke:#d62728;\" x=\"507.69517\" xlink:href=\"#mcbfbc2e438\" y=\"119.860639\"/>\r\n     <use style=\"fill:#d62728;stroke:#d62728;\" x=\"507.69517\" xlink:href=\"#mcbfbc2e438\" y=\"105.861947\"/>\r\n     <use style=\"fill:#d62728;stroke:#d62728;\" x=\"507.69517\" xlink:href=\"#mcbfbc2e438\" y=\"89.318921\"/>\r\n     <use style=\"fill:#d62728;stroke:#d62728;\" x=\"516.149716\" xlink:href=\"#mcbfbc2e438\" y=\"94.408896\"/>\r\n     <use style=\"fill:#d62728;stroke:#d62728;\" x=\"516.149716\" xlink:href=\"#mcbfbc2e438\" y=\"100.772003\"/>\r\n     <use style=\"fill:#d62728;stroke:#d62728;\" x=\"516.149716\" xlink:href=\"#mcbfbc2e438\" y=\"91.863909\"/>\r\n     <use style=\"fill:#d62728;stroke:#d62728;\" x=\"516.149716\" xlink:href=\"#mcbfbc2e438\" y=\"109.680066\"/>\r\n     <use style=\"fill:#d62728;stroke:#d62728;\" x=\"516.149716\" xlink:href=\"#mcbfbc2e438\" y=\"112.225054\"/>\r\n     <use style=\"fill:#d62728;stroke:#d62728;\" x=\"516.149716\" xlink:href=\"#mcbfbc2e438\" y=\"107.134457\"/>\r\n     <use style=\"fill:#d62728;stroke:#d62728;\" x=\"524.604261\" xlink:href=\"#mcbfbc2e438\" y=\"109.680066\"/>\r\n     <use style=\"fill:#d62728;stroke:#d62728;\" x=\"524.604261\" xlink:href=\"#mcbfbc2e438\" y=\"133.858677\"/>\r\n     <use style=\"fill:#d62728;stroke:#d62728;\" x=\"524.604261\" xlink:href=\"#mcbfbc2e438\" y=\"128.768733\"/>\r\n     <use style=\"fill:#d62728;stroke:#d62728;\" x=\"524.604261\" xlink:href=\"#mcbfbc2e438\" y=\"114.770042\"/>\r\n     <use style=\"fill:#d62728;stroke:#d62728;\" x=\"524.604261\" xlink:href=\"#mcbfbc2e438\" y=\"137.676796\"/>\r\n     <use style=\"fill:#d62728;stroke:#d62728;\" x=\"524.604261\" xlink:href=\"#mcbfbc2e438\" y=\"151.674866\"/>\r\n     <use style=\"fill:#d62728;stroke:#d62728;\" x=\"533.058807\" xlink:href=\"#mcbfbc2e438\" y=\"152.947344\"/>\r\n     <use style=\"fill:#d62728;stroke:#d62728;\" x=\"533.058807\" xlink:href=\"#mcbfbc2e438\" y=\"135.131187\"/>\r\n     <use style=\"fill:#d62728;stroke:#d62728;\" x=\"533.058807\" xlink:href=\"#mcbfbc2e438\" y=\"123.678105\"/>\r\n     <use style=\"fill:#d62728;stroke:#d62728;\" x=\"533.058807\" xlink:href=\"#mcbfbc2e438\" y=\"128.768733\"/>\r\n     <use style=\"fill:#d62728;stroke:#d62728;\" x=\"533.058807\" xlink:href=\"#mcbfbc2e438\" y=\"144.03925\"/>\r\n     <use style=\"fill:#d62728;stroke:#d62728;\" x=\"533.058807\" xlink:href=\"#mcbfbc2e438\" y=\"146.584238\"/>\r\n     <use style=\"fill:#d62728;stroke:#d62728;\" x=\"541.513352\" xlink:href=\"#mcbfbc2e438\" y=\"159.31045\"/>\r\n     <use style=\"fill:#d62728;stroke:#d62728;\" x=\"541.513352\" xlink:href=\"#mcbfbc2e438\" y=\"151.674866\"/>\r\n     <use style=\"fill:#d62728;stroke:#d62728;\" x=\"541.513352\" xlink:href=\"#mcbfbc2e438\" y=\"132.586199\"/>\r\n     <use style=\"fill:#d62728;stroke:#d62728;\" x=\"541.513352\" xlink:href=\"#mcbfbc2e438\" y=\"114.770042\"/>\r\n     <use style=\"fill:#d62728;stroke:#d62728;\" x=\"541.513352\" xlink:href=\"#mcbfbc2e438\" y=\"137.676796\"/>\r\n     <use style=\"fill:#d62728;stroke:#d62728;\" x=\"541.513352\" xlink:href=\"#mcbfbc2e438\" y=\"127.495602\"/>\r\n     <use style=\"fill:#d62728;stroke:#d62728;\" x=\"549.967898\" xlink:href=\"#mcbfbc2e438\" y=\"146.584238\"/>\r\n     <use style=\"fill:#d62728;stroke:#d62728;\" x=\"549.967898\" xlink:href=\"#mcbfbc2e438\" y=\"140.221784\"/>\r\n     <use style=\"fill:#d62728;stroke:#d62728;\" x=\"549.967898\" xlink:href=\"#mcbfbc2e438\" y=\"141.494293\"/>\r\n     <use style=\"fill:#d62728;stroke:#d62728;\" x=\"549.967898\" xlink:href=\"#mcbfbc2e438\" y=\"160.582929\"/>\r\n     <use style=\"fill:#d62728;stroke:#d62728;\" x=\"549.967898\" xlink:href=\"#mcbfbc2e438\" y=\"164.400395\"/>\r\n     <use style=\"fill:#d62728;stroke:#d62728;\" x=\"549.967898\" xlink:href=\"#mcbfbc2e438\" y=\"145.311759\"/>\r\n     <use style=\"fill:#d62728;stroke:#d62728;\" x=\"558.422443\" xlink:href=\"#mcbfbc2e438\" y=\"122.405626\"/>\r\n     <use style=\"fill:#d62728;stroke:#d62728;\" x=\"558.422443\" xlink:href=\"#mcbfbc2e438\" y=\"136.403665\"/>\r\n     <use style=\"fill:#d62728;stroke:#d62728;\" x=\"558.422443\" xlink:href=\"#mcbfbc2e438\" y=\"158.037941\"/>\r\n     <use style=\"fill:#d62728;stroke:#d62728;\" x=\"558.422443\" xlink:href=\"#mcbfbc2e438\" y=\"158.037941\"/>\r\n     <use style=\"fill:#d62728;stroke:#d62728;\" x=\"558.422443\" xlink:href=\"#mcbfbc2e438\" y=\"189.852168\"/>\r\n     <use style=\"fill:#d62728;stroke:#d62728;\" x=\"566.876989\" xlink:href=\"#mcbfbc2e438\" y=\"160.582929\"/>\r\n     <use style=\"fill:#d62728;stroke:#d62728;\" x=\"566.876989\" xlink:href=\"#mcbfbc2e438\" y=\"165.672904\"/>\r\n     <use style=\"fill:#d62728;stroke:#d62728;\" x=\"566.876989\" xlink:href=\"#mcbfbc2e438\" y=\"191.124647\"/>\r\n     <use style=\"fill:#d62728;stroke:#d62728;\" x=\"566.876989\" xlink:href=\"#mcbfbc2e438\" y=\"184.761556\"/>\r\n     <use style=\"fill:#d62728;stroke:#d62728;\" x=\"566.876989\" xlink:href=\"#mcbfbc2e438\" y=\"194.942128\"/>\r\n     <use style=\"fill:#d62728;stroke:#d62728;\" x=\"575.331534\" xlink:href=\"#mcbfbc2e438\" y=\"183.489062\"/>\r\n     <use style=\"fill:#d62728;stroke:#d62728;\" x=\"575.331534\" xlink:href=\"#mcbfbc2e438\" y=\"180.944074\"/>\r\n     <use style=\"fill:#d62728;stroke:#d62728;\" x=\"575.331534\" xlink:href=\"#mcbfbc2e438\" y=\"191.124647\"/>\r\n     <use style=\"fill:#d62728;stroke:#d62728;\" x=\"575.331534\" xlink:href=\"#mcbfbc2e438\" y=\"205.122701\"/>\r\n     <use style=\"fill:#d62728;stroke:#d62728;\" x=\"575.331534\" xlink:href=\"#mcbfbc2e438\" y=\"192.39714\"/>\r\n     <use style=\"fill:#d62728;stroke:#d62728;\" x=\"575.331534\" xlink:href=\"#mcbfbc2e438\" y=\"194.942128\"/>\r\n     <use style=\"fill:#d62728;stroke:#d62728;\" x=\"583.78608\" xlink:href=\"#mcbfbc2e438\" y=\"200.032741\"/>\r\n     <use style=\"fill:#d62728;stroke:#d62728;\" x=\"583.78608\" xlink:href=\"#mcbfbc2e438\" y=\"198.760247\"/>\r\n     <use style=\"fill:#d62728;stroke:#d62728;\" x=\"583.78608\" xlink:href=\"#mcbfbc2e438\" y=\"201.305219\"/>\r\n     <use style=\"fill:#d62728;stroke:#d62728;\" x=\"583.78608\" xlink:href=\"#mcbfbc2e438\" y=\"202.577713\"/>\r\n     <use style=\"fill:#d62728;stroke:#d62728;\" x=\"583.78608\" xlink:href=\"#mcbfbc2e438\" y=\"197.487101\"/>\r\n     <use style=\"fill:#d62728;stroke:#d62728;\" x=\"583.78608\" xlink:href=\"#mcbfbc2e438\" y=\"211.485792\"/>\r\n    </g>\r\n   </g>\r\n   <g id=\"matplotlib.axis_1\">\r\n    <g id=\"xtick_1\">\r\n     <g id=\"line2d_1\">\r\n      <defs>\r\n       <path d=\"M 0 0 \r\nL 0 3.5 \r\n\" id=\"mf30350e886\" style=\"stroke:#000000;stroke-width:0.8;\"/>\r\n      </defs>\r\n      <g>\r\n       <use style=\"stroke:#000000;stroke-width:0.8;\" x=\"34.240625\" xlink:href=\"#mf30350e886\" y=\"348.478125\"/>\r\n      </g>\r\n     </g>\r\n     <g id=\"text_1\">\r\n      <!-- 00:00 -->\r\n      <g transform=\"translate(19.83125 363.076562)scale(0.1 -0.1)\">\r\n       <defs>\r\n        <path d=\"M 31.78125 66.40625 \r\nQ 24.171875 66.40625 20.328125 58.90625 \r\nQ 16.5 51.421875 16.5 36.375 \r\nQ 16.5 21.390625 20.328125 13.890625 \r\nQ 24.171875 6.390625 31.78125 6.390625 \r\nQ 39.453125 6.390625 43.28125 13.890625 \r\nQ 47.125 21.390625 47.125 36.375 \r\nQ 47.125 51.421875 43.28125 58.90625 \r\nQ 39.453125 66.40625 31.78125 66.40625 \r\nz\r\nM 31.78125 74.21875 \r\nQ 44.046875 74.21875 50.515625 64.515625 \r\nQ 56.984375 54.828125 56.984375 36.375 \r\nQ 56.984375 17.96875 50.515625 8.265625 \r\nQ 44.046875 -1.421875 31.78125 -1.421875 \r\nQ 19.53125 -1.421875 13.0625 8.265625 \r\nQ 6.59375 17.96875 6.59375 36.375 \r\nQ 6.59375 54.828125 13.0625 64.515625 \r\nQ 19.53125 74.21875 31.78125 74.21875 \r\nz\r\n\" id=\"DejaVuSans-48\"/>\r\n        <path d=\"M 11.71875 12.40625 \r\nL 22.015625 12.40625 \r\nL 22.015625 0 \r\nL 11.71875 0 \r\nz\r\nM 11.71875 51.703125 \r\nL 22.015625 51.703125 \r\nL 22.015625 39.3125 \r\nL 11.71875 39.3125 \r\nz\r\n\" id=\"DejaVuSans-58\"/>\r\n       </defs>\r\n       <use xlink:href=\"#DejaVuSans-48\"/>\r\n       <use x=\"63.623047\" xlink:href=\"#DejaVuSans-48\"/>\r\n       <use x=\"127.246094\" xlink:href=\"#DejaVuSans-58\"/>\r\n       <use x=\"160.9375\" xlink:href=\"#DejaVuSans-48\"/>\r\n       <use x=\"224.560547\" xlink:href=\"#DejaVuSans-48\"/>\r\n      </g>\r\n      <!-- 27-Oct -->\r\n      <g transform=\"translate(17.291406 374.274375)scale(0.1 -0.1)\">\r\n       <defs>\r\n        <path d=\"M 19.1875 8.296875 \r\nL 53.609375 8.296875 \r\nL 53.609375 0 \r\nL 7.328125 0 \r\nL 7.328125 8.296875 \r\nQ 12.9375 14.109375 22.625 23.890625 \r\nQ 32.328125 33.6875 34.8125 36.53125 \r\nQ 39.546875 41.84375 41.421875 45.53125 \r\nQ 43.3125 49.21875 43.3125 52.78125 \r\nQ 43.3125 58.59375 39.234375 62.25 \r\nQ 35.15625 65.921875 28.609375 65.921875 \r\nQ 23.96875 65.921875 18.8125 64.3125 \r\nQ 13.671875 62.703125 7.8125 59.421875 \r\nL 7.8125 69.390625 \r\nQ 13.765625 71.78125 18.9375 73 \r\nQ 24.125 74.21875 28.421875 74.21875 \r\nQ 39.75 74.21875 46.484375 68.546875 \r\nQ 53.21875 62.890625 53.21875 53.421875 \r\nQ 53.21875 48.921875 51.53125 44.890625 \r\nQ 49.859375 40.875 45.40625 35.40625 \r\nQ 44.1875 33.984375 37.640625 27.21875 \r\nQ 31.109375 20.453125 19.1875 8.296875 \r\nz\r\n\" id=\"DejaVuSans-50\"/>\r\n        <path d=\"M 8.203125 72.90625 \r\nL 55.078125 72.90625 \r\nL 55.078125 68.703125 \r\nL 28.609375 0 \r\nL 18.3125 0 \r\nL 43.21875 64.59375 \r\nL 8.203125 64.59375 \r\nz\r\n\" id=\"DejaVuSans-55\"/>\r\n        <path d=\"M 4.890625 31.390625 \r\nL 31.203125 31.390625 \r\nL 31.203125 23.390625 \r\nL 4.890625 23.390625 \r\nz\r\n\" id=\"DejaVuSans-45\"/>\r\n        <path d=\"M 39.40625 66.21875 \r\nQ 28.65625 66.21875 22.328125 58.203125 \r\nQ 16.015625 50.203125 16.015625 36.375 \r\nQ 16.015625 22.609375 22.328125 14.59375 \r\nQ 28.65625 6.59375 39.40625 6.59375 \r\nQ 50.140625 6.59375 56.421875 14.59375 \r\nQ 62.703125 22.609375 62.703125 36.375 \r\nQ 62.703125 50.203125 56.421875 58.203125 \r\nQ 50.140625 66.21875 39.40625 66.21875 \r\nz\r\nM 39.40625 74.21875 \r\nQ 54.734375 74.21875 63.90625 63.9375 \r\nQ 73.09375 53.65625 73.09375 36.375 \r\nQ 73.09375 19.140625 63.90625 8.859375 \r\nQ 54.734375 -1.421875 39.40625 -1.421875 \r\nQ 24.03125 -1.421875 14.8125 8.828125 \r\nQ 5.609375 19.09375 5.609375 36.375 \r\nQ 5.609375 53.65625 14.8125 63.9375 \r\nQ 24.03125 74.21875 39.40625 74.21875 \r\nz\r\n\" id=\"DejaVuSans-79\"/>\r\n        <path d=\"M 48.78125 52.59375 \r\nL 48.78125 44.1875 \r\nQ 44.96875 46.296875 41.140625 47.34375 \r\nQ 37.3125 48.390625 33.40625 48.390625 \r\nQ 24.65625 48.390625 19.8125 42.84375 \r\nQ 14.984375 37.3125 14.984375 27.296875 \r\nQ 14.984375 17.28125 19.8125 11.734375 \r\nQ 24.65625 6.203125 33.40625 6.203125 \r\nQ 37.3125 6.203125 41.140625 7.25 \r\nQ 44.96875 8.296875 48.78125 10.40625 \r\nL 48.78125 2.09375 \r\nQ 45.015625 0.34375 40.984375 -0.53125 \r\nQ 36.96875 -1.421875 32.421875 -1.421875 \r\nQ 20.0625 -1.421875 12.78125 6.34375 \r\nQ 5.515625 14.109375 5.515625 27.296875 \r\nQ 5.515625 40.671875 12.859375 48.328125 \r\nQ 20.21875 56 33.015625 56 \r\nQ 37.15625 56 41.109375 55.140625 \r\nQ 45.0625 54.296875 48.78125 52.59375 \r\nz\r\n\" id=\"DejaVuSans-99\"/>\r\n        <path d=\"M 18.3125 70.21875 \r\nL 18.3125 54.6875 \r\nL 36.8125 54.6875 \r\nL 36.8125 47.703125 \r\nL 18.3125 47.703125 \r\nL 18.3125 18.015625 \r\nQ 18.3125 11.328125 20.140625 9.421875 \r\nQ 21.96875 7.515625 27.59375 7.515625 \r\nL 36.8125 7.515625 \r\nL 36.8125 0 \r\nL 27.59375 0 \r\nQ 17.1875 0 13.234375 3.875 \r\nQ 9.28125 7.765625 9.28125 18.015625 \r\nL 9.28125 47.703125 \r\nL 2.6875 47.703125 \r\nL 2.6875 54.6875 \r\nL 9.28125 54.6875 \r\nL 9.28125 70.21875 \r\nz\r\n\" id=\"DejaVuSans-116\"/>\r\n       </defs>\r\n       <use xlink:href=\"#DejaVuSans-50\"/>\r\n       <use x=\"63.623047\" xlink:href=\"#DejaVuSans-55\"/>\r\n       <use x=\"127.246094\" xlink:href=\"#DejaVuSans-45\"/>\r\n       <use x=\"166.080078\" xlink:href=\"#DejaVuSans-79\"/>\r\n       <use x=\"244.791016\" xlink:href=\"#DejaVuSans-99\"/>\r\n       <use x=\"299.771484\" xlink:href=\"#DejaVuSans-116\"/>\r\n      </g>\r\n      <!-- 2017 -->\r\n      <g transform=\"translate(21.515625 385.472187)scale(0.1 -0.1)\">\r\n       <defs>\r\n        <path d=\"M 12.40625 8.296875 \r\nL 28.515625 8.296875 \r\nL 28.515625 63.921875 \r\nL 10.984375 60.40625 \r\nL 10.984375 69.390625 \r\nL 28.421875 72.90625 \r\nL 38.28125 72.90625 \r\nL 38.28125 8.296875 \r\nL 54.390625 8.296875 \r\nL 54.390625 0 \r\nL 12.40625 0 \r\nz\r\n\" id=\"DejaVuSans-49\"/>\r\n       </defs>\r\n       <use xlink:href=\"#DejaVuSans-50\"/>\r\n       <use x=\"63.623047\" xlink:href=\"#DejaVuSans-48\"/>\r\n       <use x=\"127.246094\" xlink:href=\"#DejaVuSans-49\"/>\r\n       <use x=\"190.869141\" xlink:href=\"#DejaVuSans-55\"/>\r\n      </g>\r\n     </g>\r\n    </g>\r\n    <g id=\"xtick_2\">\r\n     <g id=\"line2d_2\">\r\n      <g>\r\n       <use style=\"stroke:#000000;stroke-width:0.8;\" x=\"237.149716\" xlink:href=\"#mf30350e886\" y=\"348.478125\"/>\r\n      </g>\r\n     </g>\r\n     <g id=\"text_2\">\r\n      <!-- 00:00 -->\r\n      <g transform=\"translate(222.740341 363.076562)scale(0.1 -0.1)\">\r\n       <use xlink:href=\"#DejaVuSans-48\"/>\r\n       <use x=\"63.623047\" xlink:href=\"#DejaVuSans-48\"/>\r\n       <use x=\"127.246094\" xlink:href=\"#DejaVuSans-58\"/>\r\n       <use x=\"160.9375\" xlink:href=\"#DejaVuSans-48\"/>\r\n       <use x=\"224.560547\" xlink:href=\"#DejaVuSans-48\"/>\r\n      </g>\r\n      <!-- 28-Oct -->\r\n      <g transform=\"translate(220.200497 374.274375)scale(0.1 -0.1)\">\r\n       <defs>\r\n        <path d=\"M 31.78125 34.625 \r\nQ 24.75 34.625 20.71875 30.859375 \r\nQ 16.703125 27.09375 16.703125 20.515625 \r\nQ 16.703125 13.921875 20.71875 10.15625 \r\nQ 24.75 6.390625 31.78125 6.390625 \r\nQ 38.8125 6.390625 42.859375 10.171875 \r\nQ 46.921875 13.96875 46.921875 20.515625 \r\nQ 46.921875 27.09375 42.890625 30.859375 \r\nQ 38.875 34.625 31.78125 34.625 \r\nz\r\nM 21.921875 38.8125 \r\nQ 15.578125 40.375 12.03125 44.71875 \r\nQ 8.5 49.078125 8.5 55.328125 \r\nQ 8.5 64.0625 14.71875 69.140625 \r\nQ 20.953125 74.21875 31.78125 74.21875 \r\nQ 42.671875 74.21875 48.875 69.140625 \r\nQ 55.078125 64.0625 55.078125 55.328125 \r\nQ 55.078125 49.078125 51.53125 44.71875 \r\nQ 48 40.375 41.703125 38.8125 \r\nQ 48.828125 37.15625 52.796875 32.3125 \r\nQ 56.78125 27.484375 56.78125 20.515625 \r\nQ 56.78125 9.90625 50.3125 4.234375 \r\nQ 43.84375 -1.421875 31.78125 -1.421875 \r\nQ 19.734375 -1.421875 13.25 4.234375 \r\nQ 6.78125 9.90625 6.78125 20.515625 \r\nQ 6.78125 27.484375 10.78125 32.3125 \r\nQ 14.796875 37.15625 21.921875 38.8125 \r\nz\r\nM 18.3125 54.390625 \r\nQ 18.3125 48.734375 21.84375 45.5625 \r\nQ 25.390625 42.390625 31.78125 42.390625 \r\nQ 38.140625 42.390625 41.71875 45.5625 \r\nQ 45.3125 48.734375 45.3125 54.390625 \r\nQ 45.3125 60.0625 41.71875 63.234375 \r\nQ 38.140625 66.40625 31.78125 66.40625 \r\nQ 25.390625 66.40625 21.84375 63.234375 \r\nQ 18.3125 60.0625 18.3125 54.390625 \r\nz\r\n\" id=\"DejaVuSans-56\"/>\r\n       </defs>\r\n       <use xlink:href=\"#DejaVuSans-50\"/>\r\n       <use x=\"63.623047\" xlink:href=\"#DejaVuSans-56\"/>\r\n       <use x=\"127.246094\" xlink:href=\"#DejaVuSans-45\"/>\r\n       <use x=\"166.080078\" xlink:href=\"#DejaVuSans-79\"/>\r\n       <use x=\"244.791016\" xlink:href=\"#DejaVuSans-99\"/>\r\n       <use x=\"299.771484\" xlink:href=\"#DejaVuSans-116\"/>\r\n      </g>\r\n     </g>\r\n    </g>\r\n    <g id=\"xtick_3\">\r\n     <g id=\"line2d_3\">\r\n      <g>\r\n       <use style=\"stroke:#000000;stroke-width:0.8;\" x=\"440.058807\" xlink:href=\"#mf30350e886\" y=\"348.478125\"/>\r\n      </g>\r\n     </g>\r\n     <g id=\"text_3\">\r\n      <!-- 00:00 -->\r\n      <g transform=\"translate(425.649432 363.076562)scale(0.1 -0.1)\">\r\n       <use xlink:href=\"#DejaVuSans-48\"/>\r\n       <use x=\"63.623047\" xlink:href=\"#DejaVuSans-48\"/>\r\n       <use x=\"127.246094\" xlink:href=\"#DejaVuSans-58\"/>\r\n       <use x=\"160.9375\" xlink:href=\"#DejaVuSans-48\"/>\r\n       <use x=\"224.560547\" xlink:href=\"#DejaVuSans-48\"/>\r\n      </g>\r\n      <!-- 29-Oct -->\r\n      <g transform=\"translate(423.109588 374.274375)scale(0.1 -0.1)\">\r\n       <defs>\r\n        <path d=\"M 10.984375 1.515625 \r\nL 10.984375 10.5 \r\nQ 14.703125 8.734375 18.5 7.8125 \r\nQ 22.3125 6.890625 25.984375 6.890625 \r\nQ 35.75 6.890625 40.890625 13.453125 \r\nQ 46.046875 20.015625 46.78125 33.40625 \r\nQ 43.953125 29.203125 39.59375 26.953125 \r\nQ 35.25 24.703125 29.984375 24.703125 \r\nQ 19.046875 24.703125 12.671875 31.3125 \r\nQ 6.296875 37.9375 6.296875 49.421875 \r\nQ 6.296875 60.640625 12.9375 67.421875 \r\nQ 19.578125 74.21875 30.609375 74.21875 \r\nQ 43.265625 74.21875 49.921875 64.515625 \r\nQ 56.59375 54.828125 56.59375 36.375 \r\nQ 56.59375 19.140625 48.40625 8.859375 \r\nQ 40.234375 -1.421875 26.421875 -1.421875 \r\nQ 22.703125 -1.421875 18.890625 -0.6875 \r\nQ 15.09375 0.046875 10.984375 1.515625 \r\nz\r\nM 30.609375 32.421875 \r\nQ 37.25 32.421875 41.125 36.953125 \r\nQ 45.015625 41.5 45.015625 49.421875 \r\nQ 45.015625 57.28125 41.125 61.84375 \r\nQ 37.25 66.40625 30.609375 66.40625 \r\nQ 23.96875 66.40625 20.09375 61.84375 \r\nQ 16.21875 57.28125 16.21875 49.421875 \r\nQ 16.21875 41.5 20.09375 36.953125 \r\nQ 23.96875 32.421875 30.609375 32.421875 \r\nz\r\n\" id=\"DejaVuSans-57\"/>\r\n       </defs>\r\n       <use xlink:href=\"#DejaVuSans-50\"/>\r\n       <use x=\"63.623047\" xlink:href=\"#DejaVuSans-57\"/>\r\n       <use x=\"127.246094\" xlink:href=\"#DejaVuSans-45\"/>\r\n       <use x=\"166.080078\" xlink:href=\"#DejaVuSans-79\"/>\r\n       <use x=\"244.791016\" xlink:href=\"#DejaVuSans-99\"/>\r\n       <use x=\"299.771484\" xlink:href=\"#DejaVuSans-116\"/>\r\n      </g>\r\n     </g>\r\n    </g>\r\n    <g id=\"xtick_4\">\r\n     <g id=\"line2d_4\">\r\n      <g>\r\n       <use style=\"stroke:#000000;stroke-width:0.8;\" x=\"592.240625\" xlink:href=\"#mf30350e886\" y=\"348.478125\"/>\r\n      </g>\r\n     </g>\r\n    </g>\r\n    <g id=\"xtick_5\">\r\n     <g id=\"line2d_5\">\r\n      <defs>\r\n       <path d=\"M 0 0 \r\nL 0 2 \r\n\" id=\"mc35ca4c104\" style=\"stroke:#000000;stroke-width:0.6;\"/>\r\n      </defs>\r\n      <g>\r\n       <use style=\"stroke:#000000;stroke-width:0.6;\" x=\"135.69517\" xlink:href=\"#mc35ca4c104\" y=\"348.478125\"/>\r\n      </g>\r\n     </g>\r\n     <g id=\"text_4\">\r\n      <!-- 12:00 -->\r\n      <g transform=\"translate(121.285795 361.476562)scale(0.1 -0.1)\">\r\n       <use xlink:href=\"#DejaVuSans-49\"/>\r\n       <use x=\"63.623047\" xlink:href=\"#DejaVuSans-50\"/>\r\n       <use x=\"127.246094\" xlink:href=\"#DejaVuSans-58\"/>\r\n       <use x=\"160.9375\" xlink:href=\"#DejaVuSans-48\"/>\r\n       <use x=\"224.560547\" xlink:href=\"#DejaVuSans-48\"/>\r\n      </g>\r\n     </g>\r\n    </g>\r\n    <g id=\"xtick_6\">\r\n     <g id=\"line2d_6\">\r\n      <g>\r\n       <use style=\"stroke:#000000;stroke-width:0.6;\" x=\"338.604261\" xlink:href=\"#mc35ca4c104\" y=\"348.478125\"/>\r\n      </g>\r\n     </g>\r\n     <g id=\"text_5\">\r\n      <!-- 12:00 -->\r\n      <g transform=\"translate(324.194886 361.476562)scale(0.1 -0.1)\">\r\n       <use xlink:href=\"#DejaVuSans-49\"/>\r\n       <use x=\"63.623047\" xlink:href=\"#DejaVuSans-50\"/>\r\n       <use x=\"127.246094\" xlink:href=\"#DejaVuSans-58\"/>\r\n       <use x=\"160.9375\" xlink:href=\"#DejaVuSans-48\"/>\r\n       <use x=\"224.560547\" xlink:href=\"#DejaVuSans-48\"/>\r\n      </g>\r\n     </g>\r\n    </g>\r\n    <g id=\"xtick_7\">\r\n     <g id=\"line2d_7\">\r\n      <g>\r\n       <use style=\"stroke:#000000;stroke-width:0.6;\" x=\"541.513352\" xlink:href=\"#mc35ca4c104\" y=\"348.478125\"/>\r\n      </g>\r\n     </g>\r\n     <g id=\"text_6\">\r\n      <!-- 12:00 -->\r\n      <g transform=\"translate(527.103977 361.476562)scale(0.1 -0.1)\">\r\n       <use xlink:href=\"#DejaVuSans-49\"/>\r\n       <use x=\"63.623047\" xlink:href=\"#DejaVuSans-50\"/>\r\n       <use x=\"127.246094\" xlink:href=\"#DejaVuSans-58\"/>\r\n       <use x=\"160.9375\" xlink:href=\"#DejaVuSans-48\"/>\r\n       <use x=\"224.560547\" xlink:href=\"#DejaVuSans-48\"/>\r\n      </g>\r\n     </g>\r\n    </g>\r\n   </g>\r\n   <g id=\"matplotlib.axis_2\">\r\n    <g id=\"ytick_1\">\r\n     <g id=\"line2d_8\">\r\n      <defs>\r\n       <path d=\"M 0 0 \r\nL -3.5 0 \r\n\" id=\"maa3765c199\" style=\"stroke:#000000;stroke-width:0.8;\"/>\r\n      </defs>\r\n      <g>\r\n       <use style=\"stroke:#000000;stroke-width:0.8;\" x=\"34.240625\" xlink:href=\"#maa3765c199\" y=\"297.511475\"/>\r\n      </g>\r\n     </g>\r\n     <g id=\"text_7\">\r\n      <!-- 2 -->\r\n      <g transform=\"translate(20.878125 301.310693)scale(0.1 -0.1)\">\r\n       <use xlink:href=\"#DejaVuSans-50\"/>\r\n      </g>\r\n     </g>\r\n    </g>\r\n    <g id=\"ytick_2\">\r\n     <g id=\"line2d_9\">\r\n      <g>\r\n       <use style=\"stroke:#000000;stroke-width:0.8;\" x=\"34.240625\" xlink:href=\"#maa3765c199\" y=\"232.35581\"/>\r\n      </g>\r\n     </g>\r\n     <g id=\"text_8\">\r\n      <!-- 3 -->\r\n      <g transform=\"translate(20.878125 236.155029)scale(0.1 -0.1)\">\r\n       <defs>\r\n        <path d=\"M 40.578125 39.3125 \r\nQ 47.65625 37.796875 51.625 33 \r\nQ 55.609375 28.21875 55.609375 21.1875 \r\nQ 55.609375 10.40625 48.1875 4.484375 \r\nQ 40.765625 -1.421875 27.09375 -1.421875 \r\nQ 22.515625 -1.421875 17.65625 -0.515625 \r\nQ 12.796875 0.390625 7.625 2.203125 \r\nL 7.625 11.71875 \r\nQ 11.71875 9.328125 16.59375 8.109375 \r\nQ 21.484375 6.890625 26.8125 6.890625 \r\nQ 36.078125 6.890625 40.9375 10.546875 \r\nQ 45.796875 14.203125 45.796875 21.1875 \r\nQ 45.796875 27.640625 41.28125 31.265625 \r\nQ 36.765625 34.90625 28.71875 34.90625 \r\nL 20.21875 34.90625 \r\nL 20.21875 43.015625 \r\nL 29.109375 43.015625 \r\nQ 36.375 43.015625 40.234375 45.921875 \r\nQ 44.09375 48.828125 44.09375 54.296875 \r\nQ 44.09375 59.90625 40.109375 62.90625 \r\nQ 36.140625 65.921875 28.71875 65.921875 \r\nQ 24.65625 65.921875 20.015625 65.03125 \r\nQ 15.375 64.15625 9.8125 62.3125 \r\nL 9.8125 71.09375 \r\nQ 15.4375 72.65625 20.34375 73.4375 \r\nQ 25.25 74.21875 29.59375 74.21875 \r\nQ 40.828125 74.21875 47.359375 69.109375 \r\nQ 53.90625 64.015625 53.90625 55.328125 \r\nQ 53.90625 49.265625 50.4375 45.09375 \r\nQ 46.96875 40.921875 40.578125 39.3125 \r\nz\r\n\" id=\"DejaVuSans-51\"/>\r\n       </defs>\r\n       <use xlink:href=\"#DejaVuSans-51\"/>\r\n      </g>\r\n     </g>\r\n    </g>\r\n    <g id=\"ytick_3\">\r\n     <g id=\"line2d_10\">\r\n      <g>\r\n       <use style=\"stroke:#000000;stroke-width:0.8;\" x=\"34.240625\" xlink:href=\"#maa3765c199\" y=\"167.200146\"/>\r\n      </g>\r\n     </g>\r\n     <g id=\"text_9\">\r\n      <!-- 4 -->\r\n      <g transform=\"translate(20.878125 170.999364)scale(0.1 -0.1)\">\r\n       <defs>\r\n        <path d=\"M 37.796875 64.3125 \r\nL 12.890625 25.390625 \r\nL 37.796875 25.390625 \r\nz\r\nM 35.203125 72.90625 \r\nL 47.609375 72.90625 \r\nL 47.609375 25.390625 \r\nL 58.015625 25.390625 \r\nL 58.015625 17.1875 \r\nL 47.609375 17.1875 \r\nL 47.609375 0 \r\nL 37.796875 0 \r\nL 37.796875 17.1875 \r\nL 4.890625 17.1875 \r\nL 4.890625 26.703125 \r\nz\r\n\" id=\"DejaVuSans-52\"/>\r\n       </defs>\r\n       <use xlink:href=\"#DejaVuSans-52\"/>\r\n      </g>\r\n     </g>\r\n    </g>\r\n    <g id=\"ytick_4\">\r\n     <g id=\"line2d_11\">\r\n      <g>\r\n       <use style=\"stroke:#000000;stroke-width:0.8;\" x=\"34.240625\" xlink:href=\"#maa3765c199\" y=\"102.044481\"/>\r\n      </g>\r\n     </g>\r\n     <g id=\"text_10\">\r\n      <!-- 5 -->\r\n      <g transform=\"translate(20.878125 105.8437)scale(0.1 -0.1)\">\r\n       <defs>\r\n        <path d=\"M 10.796875 72.90625 \r\nL 49.515625 72.90625 \r\nL 49.515625 64.59375 \r\nL 19.828125 64.59375 \r\nL 19.828125 46.734375 \r\nQ 21.96875 47.46875 24.109375 47.828125 \r\nQ 26.265625 48.1875 28.421875 48.1875 \r\nQ 40.625 48.1875 47.75 41.5 \r\nQ 54.890625 34.8125 54.890625 23.390625 \r\nQ 54.890625 11.625 47.5625 5.09375 \r\nQ 40.234375 -1.421875 26.90625 -1.421875 \r\nQ 22.3125 -1.421875 17.546875 -0.640625 \r\nQ 12.796875 0.140625 7.71875 1.703125 \r\nL 7.71875 11.625 \r\nQ 12.109375 9.234375 16.796875 8.0625 \r\nQ 21.484375 6.890625 26.703125 6.890625 \r\nQ 35.15625 6.890625 40.078125 11.328125 \r\nQ 45.015625 15.765625 45.015625 23.390625 \r\nQ 45.015625 31 40.078125 35.4375 \r\nQ 35.15625 39.890625 26.703125 39.890625 \r\nQ 22.75 39.890625 18.8125 39.015625 \r\nQ 14.890625 38.140625 10.796875 36.28125 \r\nz\r\n\" id=\"DejaVuSans-53\"/>\r\n       </defs>\r\n       <use xlink:href=\"#DejaVuSans-53\"/>\r\n      </g>\r\n     </g>\r\n    </g>\r\n    <g id=\"ytick_5\">\r\n     <g id=\"line2d_12\">\r\n      <g>\r\n       <use style=\"stroke:#000000;stroke-width:0.8;\" x=\"34.240625\" xlink:href=\"#maa3765c199\" y=\"36.888817\"/>\r\n      </g>\r\n     </g>\r\n     <g id=\"text_11\">\r\n      <!-- 6 -->\r\n      <g transform=\"translate(20.878125 40.688035)scale(0.1 -0.1)\">\r\n       <defs>\r\n        <path d=\"M 33.015625 40.375 \r\nQ 26.375 40.375 22.484375 35.828125 \r\nQ 18.609375 31.296875 18.609375 23.390625 \r\nQ 18.609375 15.53125 22.484375 10.953125 \r\nQ 26.375 6.390625 33.015625 6.390625 \r\nQ 39.65625 6.390625 43.53125 10.953125 \r\nQ 47.40625 15.53125 47.40625 23.390625 \r\nQ 47.40625 31.296875 43.53125 35.828125 \r\nQ 39.65625 40.375 33.015625 40.375 \r\nz\r\nM 52.59375 71.296875 \r\nL 52.59375 62.3125 \r\nQ 48.875 64.0625 45.09375 64.984375 \r\nQ 41.3125 65.921875 37.59375 65.921875 \r\nQ 27.828125 65.921875 22.671875 59.328125 \r\nQ 17.53125 52.734375 16.796875 39.40625 \r\nQ 19.671875 43.65625 24.015625 45.921875 \r\nQ 28.375 48.1875 33.59375 48.1875 \r\nQ 44.578125 48.1875 50.953125 41.515625 \r\nQ 57.328125 34.859375 57.328125 23.390625 \r\nQ 57.328125 12.15625 50.6875 5.359375 \r\nQ 44.046875 -1.421875 33.015625 -1.421875 \r\nQ 20.359375 -1.421875 13.671875 8.265625 \r\nQ 6.984375 17.96875 6.984375 36.375 \r\nQ 6.984375 53.65625 15.1875 63.9375 \r\nQ 23.390625 74.21875 37.203125 74.21875 \r\nQ 40.921875 74.21875 44.703125 73.484375 \r\nQ 48.484375 72.75 52.59375 71.296875 \r\nz\r\n\" id=\"DejaVuSans-54\"/>\r\n       </defs>\r\n       <use xlink:href=\"#DejaVuSans-54\"/>\r\n      </g>\r\n     </g>\r\n    </g>\r\n    <g id=\"text_12\">\r\n     <!-- Significant wave height [m] -->\r\n     <g transform=\"translate(14.798438 254.450469)rotate(-90)scale(0.1 -0.1)\">\r\n      <defs>\r\n       <path d=\"M 53.515625 70.515625 \r\nL 53.515625 60.890625 \r\nQ 47.90625 63.578125 42.921875 64.890625 \r\nQ 37.9375 66.21875 33.296875 66.21875 \r\nQ 25.25 66.21875 20.875 63.09375 \r\nQ 16.5 59.96875 16.5 54.203125 \r\nQ 16.5 49.359375 19.40625 46.890625 \r\nQ 22.3125 44.4375 30.421875 42.921875 \r\nL 36.375 41.703125 \r\nQ 47.40625 39.59375 52.65625 34.296875 \r\nQ 57.90625 29 57.90625 20.125 \r\nQ 57.90625 9.515625 50.796875 4.046875 \r\nQ 43.703125 -1.421875 29.984375 -1.421875 \r\nQ 24.8125 -1.421875 18.96875 -0.25 \r\nQ 13.140625 0.921875 6.890625 3.21875 \r\nL 6.890625 13.375 \r\nQ 12.890625 10.015625 18.65625 8.296875 \r\nQ 24.421875 6.59375 29.984375 6.59375 \r\nQ 38.421875 6.59375 43.015625 9.90625 \r\nQ 47.609375 13.234375 47.609375 19.390625 \r\nQ 47.609375 24.75 44.3125 27.78125 \r\nQ 41.015625 30.8125 33.5 32.328125 \r\nL 27.484375 33.5 \r\nQ 16.453125 35.6875 11.515625 40.375 \r\nQ 6.59375 45.0625 6.59375 53.421875 \r\nQ 6.59375 63.09375 13.40625 68.65625 \r\nQ 20.21875 74.21875 32.171875 74.21875 \r\nQ 37.3125 74.21875 42.625 73.28125 \r\nQ 47.953125 72.359375 53.515625 70.515625 \r\nz\r\n\" id=\"DejaVuSans-83\"/>\r\n       <path d=\"M 9.421875 54.6875 \r\nL 18.40625 54.6875 \r\nL 18.40625 0 \r\nL 9.421875 0 \r\nz\r\nM 9.421875 75.984375 \r\nL 18.40625 75.984375 \r\nL 18.40625 64.59375 \r\nL 9.421875 64.59375 \r\nz\r\n\" id=\"DejaVuSans-105\"/>\r\n       <path d=\"M 45.40625 27.984375 \r\nQ 45.40625 37.75 41.375 43.109375 \r\nQ 37.359375 48.484375 30.078125 48.484375 \r\nQ 22.859375 48.484375 18.828125 43.109375 \r\nQ 14.796875 37.75 14.796875 27.984375 \r\nQ 14.796875 18.265625 18.828125 12.890625 \r\nQ 22.859375 7.515625 30.078125 7.515625 \r\nQ 37.359375 7.515625 41.375 12.890625 \r\nQ 45.40625 18.265625 45.40625 27.984375 \r\nz\r\nM 54.390625 6.78125 \r\nQ 54.390625 -7.171875 48.1875 -13.984375 \r\nQ 42 -20.796875 29.203125 -20.796875 \r\nQ 24.46875 -20.796875 20.265625 -20.09375 \r\nQ 16.0625 -19.390625 12.109375 -17.921875 \r\nL 12.109375 -9.1875 \r\nQ 16.0625 -11.328125 19.921875 -12.34375 \r\nQ 23.78125 -13.375 27.78125 -13.375 \r\nQ 36.625 -13.375 41.015625 -8.765625 \r\nQ 45.40625 -4.15625 45.40625 5.171875 \r\nL 45.40625 9.625 \r\nQ 42.625 4.78125 38.28125 2.390625 \r\nQ 33.9375 0 27.875 0 \r\nQ 17.828125 0 11.671875 7.65625 \r\nQ 5.515625 15.328125 5.515625 27.984375 \r\nQ 5.515625 40.671875 11.671875 48.328125 \r\nQ 17.828125 56 27.875 56 \r\nQ 33.9375 56 38.28125 53.609375 \r\nQ 42.625 51.21875 45.40625 46.390625 \r\nL 45.40625 54.6875 \r\nL 54.390625 54.6875 \r\nz\r\n\" id=\"DejaVuSans-103\"/>\r\n       <path d=\"M 54.890625 33.015625 \r\nL 54.890625 0 \r\nL 45.90625 0 \r\nL 45.90625 32.71875 \r\nQ 45.90625 40.484375 42.875 44.328125 \r\nQ 39.84375 48.1875 33.796875 48.1875 \r\nQ 26.515625 48.1875 22.3125 43.546875 \r\nQ 18.109375 38.921875 18.109375 30.90625 \r\nL 18.109375 0 \r\nL 9.078125 0 \r\nL 9.078125 54.6875 \r\nL 18.109375 54.6875 \r\nL 18.109375 46.1875 \r\nQ 21.34375 51.125 25.703125 53.5625 \r\nQ 30.078125 56 35.796875 56 \r\nQ 45.21875 56 50.046875 50.171875 \r\nQ 54.890625 44.34375 54.890625 33.015625 \r\nz\r\n\" id=\"DejaVuSans-110\"/>\r\n       <path d=\"M 37.109375 75.984375 \r\nL 37.109375 68.5 \r\nL 28.515625 68.5 \r\nQ 23.6875 68.5 21.796875 66.546875 \r\nQ 19.921875 64.59375 19.921875 59.515625 \r\nL 19.921875 54.6875 \r\nL 34.71875 54.6875 \r\nL 34.71875 47.703125 \r\nL 19.921875 47.703125 \r\nL 19.921875 0 \r\nL 10.890625 0 \r\nL 10.890625 47.703125 \r\nL 2.296875 47.703125 \r\nL 2.296875 54.6875 \r\nL 10.890625 54.6875 \r\nL 10.890625 58.5 \r\nQ 10.890625 67.625 15.140625 71.796875 \r\nQ 19.390625 75.984375 28.609375 75.984375 \r\nz\r\n\" id=\"DejaVuSans-102\"/>\r\n       <path d=\"M 34.28125 27.484375 \r\nQ 23.390625 27.484375 19.1875 25 \r\nQ 14.984375 22.515625 14.984375 16.5 \r\nQ 14.984375 11.71875 18.140625 8.90625 \r\nQ 21.296875 6.109375 26.703125 6.109375 \r\nQ 34.1875 6.109375 38.703125 11.40625 \r\nQ 43.21875 16.703125 43.21875 25.484375 \r\nL 43.21875 27.484375 \r\nz\r\nM 52.203125 31.203125 \r\nL 52.203125 0 \r\nL 43.21875 0 \r\nL 43.21875 8.296875 \r\nQ 40.140625 3.328125 35.546875 0.953125 \r\nQ 30.953125 -1.421875 24.3125 -1.421875 \r\nQ 15.921875 -1.421875 10.953125 3.296875 \r\nQ 6 8.015625 6 15.921875 \r\nQ 6 25.140625 12.171875 29.828125 \r\nQ 18.359375 34.515625 30.609375 34.515625 \r\nL 43.21875 34.515625 \r\nL 43.21875 35.40625 \r\nQ 43.21875 41.609375 39.140625 45 \r\nQ 35.0625 48.390625 27.6875 48.390625 \r\nQ 23 48.390625 18.546875 47.265625 \r\nQ 14.109375 46.140625 10.015625 43.890625 \r\nL 10.015625 52.203125 \r\nQ 14.9375 54.109375 19.578125 55.046875 \r\nQ 24.21875 56 28.609375 56 \r\nQ 40.484375 56 46.34375 49.84375 \r\nQ 52.203125 43.703125 52.203125 31.203125 \r\nz\r\n\" id=\"DejaVuSans-97\"/>\r\n       <path id=\"DejaVuSans-32\"/>\r\n       <path d=\"M 4.203125 54.6875 \r\nL 13.1875 54.6875 \r\nL 24.421875 12.015625 \r\nL 35.59375 54.6875 \r\nL 46.1875 54.6875 \r\nL 57.421875 12.015625 \r\nL 68.609375 54.6875 \r\nL 77.59375 54.6875 \r\nL 63.28125 0 \r\nL 52.6875 0 \r\nL 40.921875 44.828125 \r\nL 29.109375 0 \r\nL 18.5 0 \r\nz\r\n\" id=\"DejaVuSans-119\"/>\r\n       <path d=\"M 2.984375 54.6875 \r\nL 12.5 54.6875 \r\nL 29.59375 8.796875 \r\nL 46.6875 54.6875 \r\nL 56.203125 54.6875 \r\nL 35.6875 0 \r\nL 23.484375 0 \r\nz\r\n\" id=\"DejaVuSans-118\"/>\r\n       <path d=\"M 56.203125 29.59375 \r\nL 56.203125 25.203125 \r\nL 14.890625 25.203125 \r\nQ 15.484375 15.921875 20.484375 11.0625 \r\nQ 25.484375 6.203125 34.421875 6.203125 \r\nQ 39.59375 6.203125 44.453125 7.46875 \r\nQ 49.3125 8.734375 54.109375 11.28125 \r\nL 54.109375 2.78125 \r\nQ 49.265625 0.734375 44.1875 -0.34375 \r\nQ 39.109375 -1.421875 33.890625 -1.421875 \r\nQ 20.796875 -1.421875 13.15625 6.1875 \r\nQ 5.515625 13.8125 5.515625 26.8125 \r\nQ 5.515625 40.234375 12.765625 48.109375 \r\nQ 20.015625 56 32.328125 56 \r\nQ 43.359375 56 49.78125 48.890625 \r\nQ 56.203125 41.796875 56.203125 29.59375 \r\nz\r\nM 47.21875 32.234375 \r\nQ 47.125 39.59375 43.09375 43.984375 \r\nQ 39.0625 48.390625 32.421875 48.390625 \r\nQ 24.90625 48.390625 20.390625 44.140625 \r\nQ 15.875 39.890625 15.1875 32.171875 \r\nz\r\n\" id=\"DejaVuSans-101\"/>\r\n       <path d=\"M 54.890625 33.015625 \r\nL 54.890625 0 \r\nL 45.90625 0 \r\nL 45.90625 32.71875 \r\nQ 45.90625 40.484375 42.875 44.328125 \r\nQ 39.84375 48.1875 33.796875 48.1875 \r\nQ 26.515625 48.1875 22.3125 43.546875 \r\nQ 18.109375 38.921875 18.109375 30.90625 \r\nL 18.109375 0 \r\nL 9.078125 0 \r\nL 9.078125 75.984375 \r\nL 18.109375 75.984375 \r\nL 18.109375 46.1875 \r\nQ 21.34375 51.125 25.703125 53.5625 \r\nQ 30.078125 56 35.796875 56 \r\nQ 45.21875 56 50.046875 50.171875 \r\nQ 54.890625 44.34375 54.890625 33.015625 \r\nz\r\n\" id=\"DejaVuSans-104\"/>\r\n       <path d=\"M 8.59375 75.984375 \r\nL 29.296875 75.984375 \r\nL 29.296875 69 \r\nL 17.578125 69 \r\nL 17.578125 -6.203125 \r\nL 29.296875 -6.203125 \r\nL 29.296875 -13.1875 \r\nL 8.59375 -13.1875 \r\nz\r\n\" id=\"DejaVuSans-91\"/>\r\n       <path d=\"M 52 44.1875 \r\nQ 55.375 50.25 60.0625 53.125 \r\nQ 64.75 56 71.09375 56 \r\nQ 79.640625 56 84.28125 50.015625 \r\nQ 88.921875 44.046875 88.921875 33.015625 \r\nL 88.921875 0 \r\nL 79.890625 0 \r\nL 79.890625 32.71875 \r\nQ 79.890625 40.578125 77.09375 44.375 \r\nQ 74.3125 48.1875 68.609375 48.1875 \r\nQ 61.625 48.1875 57.5625 43.546875 \r\nQ 53.515625 38.921875 53.515625 30.90625 \r\nL 53.515625 0 \r\nL 44.484375 0 \r\nL 44.484375 32.71875 \r\nQ 44.484375 40.625 41.703125 44.40625 \r\nQ 38.921875 48.1875 33.109375 48.1875 \r\nQ 26.21875 48.1875 22.15625 43.53125 \r\nQ 18.109375 38.875 18.109375 30.90625 \r\nL 18.109375 0 \r\nL 9.078125 0 \r\nL 9.078125 54.6875 \r\nL 18.109375 54.6875 \r\nL 18.109375 46.1875 \r\nQ 21.1875 51.21875 25.484375 53.609375 \r\nQ 29.78125 56 35.6875 56 \r\nQ 41.65625 56 45.828125 52.96875 \r\nQ 50 49.953125 52 44.1875 \r\nz\r\n\" id=\"DejaVuSans-109\"/>\r\n       <path d=\"M 30.421875 75.984375 \r\nL 30.421875 -13.1875 \r\nL 9.71875 -13.1875 \r\nL 9.71875 -6.203125 \r\nL 21.390625 -6.203125 \r\nL 21.390625 69 \r\nL 9.71875 69 \r\nL 9.71875 75.984375 \r\nz\r\n\" id=\"DejaVuSans-93\"/>\r\n      </defs>\r\n      <use xlink:href=\"#DejaVuSans-83\"/>\r\n      <use x=\"63.476562\" xlink:href=\"#DejaVuSans-105\"/>\r\n      <use x=\"91.259766\" xlink:href=\"#DejaVuSans-103\"/>\r\n      <use x=\"154.736328\" xlink:href=\"#DejaVuSans-110\"/>\r\n      <use x=\"218.115234\" xlink:href=\"#DejaVuSans-105\"/>\r\n      <use x=\"245.898438\" xlink:href=\"#DejaVuSans-102\"/>\r\n      <use x=\"281.103516\" xlink:href=\"#DejaVuSans-105\"/>\r\n      <use x=\"308.886719\" xlink:href=\"#DejaVuSans-99\"/>\r\n      <use x=\"363.867188\" xlink:href=\"#DejaVuSans-97\"/>\r\n      <use x=\"425.146484\" xlink:href=\"#DejaVuSans-110\"/>\r\n      <use x=\"488.525391\" xlink:href=\"#DejaVuSans-116\"/>\r\n      <use x=\"527.734375\" xlink:href=\"#DejaVuSans-32\"/>\r\n      <use x=\"559.521484\" xlink:href=\"#DejaVuSans-119\"/>\r\n      <use x=\"641.308594\" xlink:href=\"#DejaVuSans-97\"/>\r\n      <use x=\"702.587891\" xlink:href=\"#DejaVuSans-118\"/>\r\n      <use x=\"761.767578\" xlink:href=\"#DejaVuSans-101\"/>\r\n      <use x=\"823.291016\" xlink:href=\"#DejaVuSans-32\"/>\r\n      <use x=\"855.078125\" xlink:href=\"#DejaVuSans-104\"/>\r\n      <use x=\"918.457031\" xlink:href=\"#DejaVuSans-101\"/>\r\n      <use x=\"979.980469\" xlink:href=\"#DejaVuSans-105\"/>\r\n      <use x=\"1007.763672\" xlink:href=\"#DejaVuSans-103\"/>\r\n      <use x=\"1071.240234\" xlink:href=\"#DejaVuSans-104\"/>\r\n      <use x=\"1134.619141\" xlink:href=\"#DejaVuSans-116\"/>\r\n      <use x=\"1173.828125\" xlink:href=\"#DejaVuSans-32\"/>\r\n      <use x=\"1205.615234\" xlink:href=\"#DejaVuSans-91\"/>\r\n      <use x=\"1244.628906\" xlink:href=\"#DejaVuSans-109\"/>\r\n      <use x=\"1342.041016\" xlink:href=\"#DejaVuSans-93\"/>\r\n     </g>\r\n    </g>\r\n   </g>\r\n   <g id=\"line2d_13\">\r\n    <path clip-path=\"url(#p3678506cd9)\" d=\"M 34.240625 324.894529 \r\nL 59.604261 310.900343 \r\nL 84.967898 297.94374 \r\nL 110.331534 281.323283 \r\nL 135.69517 286.924602 \r\nL 161.058807 304.481375 \r\nL 186.422443 305.291443 \r\nL 211.78608 311.721681 \r\nL 237.149716 309.271732 \r\nL 262.513352 289.738007 \r\nL 287.876989 264.529999 \r\nL 313.240625 256.440998 \r\nL 338.604261 251.043241 \r\nL 363.967898 228.875982 \r\nL 389.331534 192.812451 \r\nL 414.69517 177.804557 \r\nL 440.058807 143.04729 \r\nL 465.422443 115.581554 \r\nL 490.78608 126.131285 \r\nL 516.149716 157.212634 \r\nL 541.513352 169.771884 \r\nL 566.876989 194.696872 \r\nL 592.240625 216.09293 \r\n\" style=\"fill:none;stroke:#004165;stroke-linecap:square;stroke-width:1.5;\"/>\r\n   </g>\r\n   <g id=\"line2d_14\">\r\n    <path clip-path=\"url(#p3678506cd9)\" d=\"M 34.240625 324.856672 \r\nL 59.604261 309.882891 \r\nL 84.967898 296.019325 \r\nL 110.331534 278.235433 \r\nL 135.69517 284.228854 \r\nL 161.058807 303.014601 \r\nL 186.422443 303.88137 \r\nL 211.78608 310.761722 \r\nL 237.149716 308.140282 \r\nL 262.513352 287.239187 \r\nL 287.876989 260.26662 \r\nL 313.240625 251.611393 \r\nL 338.604261 245.835795 \r\nL 363.967898 222.116829 \r\nL 389.331534 183.528845 \r\nL 414.69517 167.470396 \r\nL 440.058807 130.280129 \r\nL 465.422443 100.891804 \r\nL 490.78608 112.180004 \r\nL 516.149716 145.437059 \r\nL 541.513352 158.875427 \r\nL 566.876989 185.545185 \r\nL 592.240625 208.438968 \r\n\" style=\"fill:none;stroke:#63ceff;stroke-linecap:square;stroke-width:1.5;\"/>\r\n   </g>\r\n   <g id=\"patch_3\">\r\n    <path d=\"M 34.240625 348.478125 \r\nL 34.240625 22.318125 \r\n\" style=\"fill:none;stroke:#000000;stroke-linecap:square;stroke-linejoin:miter;stroke-width:0.8;\"/>\r\n   </g>\r\n   <g id=\"patch_4\">\r\n    <path d=\"M 592.240625 348.478125 \r\nL 592.240625 22.318125 \r\n\" style=\"fill:none;stroke:#000000;stroke-linecap:square;stroke-linejoin:miter;stroke-width:0.8;\"/>\r\n   </g>\r\n   <g id=\"patch_5\">\r\n    <path d=\"M 34.240625 348.478125 \r\nL 592.240625 348.478125 \r\n\" style=\"fill:none;stroke:#000000;stroke-linecap:square;stroke-linejoin:miter;stroke-width:0.8;\"/>\r\n   </g>\r\n   <g id=\"patch_6\">\r\n    <path d=\"M 34.240625 22.318125 \r\nL 592.240625 22.318125 \r\n\" style=\"fill:none;stroke:#000000;stroke-linecap:square;stroke-linejoin:miter;stroke-width:0.8;\"/>\r\n   </g>\r\n   <g id=\"text_13\">\r\n    <!-- HKNA -->\r\n    <g transform=\"translate(296.200625 16.318125)scale(0.12 -0.12)\">\r\n     <defs>\r\n      <path d=\"M 9.8125 72.90625 \r\nL 19.671875 72.90625 \r\nL 19.671875 43.015625 \r\nL 55.515625 43.015625 \r\nL 55.515625 72.90625 \r\nL 65.375 72.90625 \r\nL 65.375 0 \r\nL 55.515625 0 \r\nL 55.515625 34.71875 \r\nL 19.671875 34.71875 \r\nL 19.671875 0 \r\nL 9.8125 0 \r\nz\r\n\" id=\"DejaVuSans-72\"/>\r\n      <path d=\"M 9.8125 72.90625 \r\nL 19.671875 72.90625 \r\nL 19.671875 42.09375 \r\nL 52.390625 72.90625 \r\nL 65.09375 72.90625 \r\nL 28.90625 38.921875 \r\nL 67.671875 0 \r\nL 54.6875 0 \r\nL 19.671875 35.109375 \r\nL 19.671875 0 \r\nL 9.8125 0 \r\nz\r\n\" id=\"DejaVuSans-75\"/>\r\n      <path d=\"M 9.8125 72.90625 \r\nL 23.09375 72.90625 \r\nL 55.421875 11.921875 \r\nL 55.421875 72.90625 \r\nL 64.984375 72.90625 \r\nL 64.984375 0 \r\nL 51.703125 0 \r\nL 19.390625 60.984375 \r\nL 19.390625 0 \r\nL 9.8125 0 \r\nz\r\n\" id=\"DejaVuSans-78\"/>\r\n      <path d=\"M 34.1875 63.1875 \r\nL 20.796875 26.90625 \r\nL 47.609375 26.90625 \r\nz\r\nM 28.609375 72.90625 \r\nL 39.796875 72.90625 \r\nL 67.578125 0 \r\nL 57.328125 0 \r\nL 50.6875 18.703125 \r\nL 17.828125 18.703125 \r\nL 11.1875 0 \r\nL 0.78125 0 \r\nz\r\n\" id=\"DejaVuSans-65\"/>\r\n     </defs>\r\n     <use xlink:href=\"#DejaVuSans-72\"/>\r\n     <use x=\"75.195312\" xlink:href=\"#DejaVuSans-75\"/>\r\n     <use x=\"140.771484\" xlink:href=\"#DejaVuSans-78\"/>\r\n     <use x=\"215.576172\" xlink:href=\"#DejaVuSans-65\"/>\r\n    </g>\r\n   </g>\r\n   <g id=\"legend_1\">\r\n    <g id=\"patch_7\">\r\n     <path d=\"M 41.240625 74.90875 \r\nL 134.135938 74.90875 \r\nQ 136.135938 74.90875 136.135938 72.90875 \r\nL 136.135938 29.318125 \r\nQ 136.135938 27.318125 134.135938 27.318125 \r\nL 41.240625 27.318125 \r\nQ 39.240625 27.318125 39.240625 29.318125 \r\nL 39.240625 72.90875 \r\nQ 39.240625 74.90875 41.240625 74.90875 \r\nz\r\n\" style=\"fill:#ffffff;opacity:0.8;stroke:#cccccc;stroke-linejoin:miter;\"/>\r\n    </g>\r\n    <g id=\"line2d_15\">\r\n     <path d=\"M 43.240625 35.416562 \r\nL 63.240625 35.416562 \r\n\" style=\"fill:none;stroke:#004165;stroke-linecap:square;stroke-width:1.5;\"/>\r\n    </g>\r\n    <g id=\"line2d_16\"/>\r\n    <g id=\"text_14\">\r\n     <!-- SW_1 -->\r\n     <g transform=\"translate(71.240625 38.916562)scale(0.1 -0.1)\">\r\n      <defs>\r\n       <path d=\"M 3.328125 72.90625 \r\nL 13.28125 72.90625 \r\nL 28.609375 11.28125 \r\nL 43.890625 72.90625 \r\nL 54.984375 72.90625 \r\nL 70.3125 11.28125 \r\nL 85.59375 72.90625 \r\nL 95.609375 72.90625 \r\nL 77.296875 0 \r\nL 64.890625 0 \r\nL 49.515625 63.28125 \r\nL 33.984375 0 \r\nL 21.578125 0 \r\nz\r\n\" id=\"DejaVuSans-87\"/>\r\n       <path d=\"M 50.984375 -16.609375 \r\nL 50.984375 -23.578125 \r\nL -0.984375 -23.578125 \r\nL -0.984375 -16.609375 \r\nz\r\n\" id=\"DejaVuSans-95\"/>\r\n      </defs>\r\n      <use xlink:href=\"#DejaVuSans-83\"/>\r\n      <use x=\"63.476562\" xlink:href=\"#DejaVuSans-87\"/>\r\n      <use x=\"162.353516\" xlink:href=\"#DejaVuSans-95\"/>\r\n      <use x=\"212.353516\" xlink:href=\"#DejaVuSans-49\"/>\r\n     </g>\r\n    </g>\r\n    <g id=\"line2d_17\">\r\n     <path d=\"M 43.240625 50.372812 \r\nL 63.240625 50.372812 \r\n\" style=\"fill:none;stroke:#63ceff;stroke-linecap:square;stroke-width:1.5;\"/>\r\n    </g>\r\n    <g id=\"line2d_18\"/>\r\n    <g id=\"text_15\">\r\n     <!-- SW_2 -->\r\n     <g transform=\"translate(71.240625 53.872812)scale(0.1 -0.1)\">\r\n      <use xlink:href=\"#DejaVuSans-83\"/>\r\n      <use x=\"63.476562\" xlink:href=\"#DejaVuSans-87\"/>\r\n      <use x=\"162.353516\" xlink:href=\"#DejaVuSans-95\"/>\r\n      <use x=\"212.353516\" xlink:href=\"#DejaVuSans-50\"/>\r\n     </g>\r\n    </g>\r\n    <g id=\"PathCollection_2\">\r\n     <g>\r\n      <use style=\"fill:#d62728;stroke:#d62728;\" x=\"53.240625\" xlink:href=\"#mcbfbc2e438\" y=\"66.204062\"/>\r\n     </g>\r\n    </g>\r\n    <g id=\"text_16\">\r\n     <!-- Observation -->\r\n     <g transform=\"translate(71.240625 68.829062)scale(0.1 -0.1)\">\r\n      <defs>\r\n       <path d=\"M 48.6875 27.296875 \r\nQ 48.6875 37.203125 44.609375 42.84375 \r\nQ 40.53125 48.484375 33.40625 48.484375 \r\nQ 26.265625 48.484375 22.1875 42.84375 \r\nQ 18.109375 37.203125 18.109375 27.296875 \r\nQ 18.109375 17.390625 22.1875 11.75 \r\nQ 26.265625 6.109375 33.40625 6.109375 \r\nQ 40.53125 6.109375 44.609375 11.75 \r\nQ 48.6875 17.390625 48.6875 27.296875 \r\nz\r\nM 18.109375 46.390625 \r\nQ 20.953125 51.265625 25.265625 53.625 \r\nQ 29.59375 56 35.59375 56 \r\nQ 45.5625 56 51.78125 48.09375 \r\nQ 58.015625 40.1875 58.015625 27.296875 \r\nQ 58.015625 14.40625 51.78125 6.484375 \r\nQ 45.5625 -1.421875 35.59375 -1.421875 \r\nQ 29.59375 -1.421875 25.265625 0.953125 \r\nQ 20.953125 3.328125 18.109375 8.203125 \r\nL 18.109375 0 \r\nL 9.078125 0 \r\nL 9.078125 75.984375 \r\nL 18.109375 75.984375 \r\nz\r\n\" id=\"DejaVuSans-98\"/>\r\n       <path d=\"M 44.28125 53.078125 \r\nL 44.28125 44.578125 \r\nQ 40.484375 46.53125 36.375 47.5 \r\nQ 32.28125 48.484375 27.875 48.484375 \r\nQ 21.1875 48.484375 17.84375 46.4375 \r\nQ 14.5 44.390625 14.5 40.28125 \r\nQ 14.5 37.15625 16.890625 35.375 \r\nQ 19.28125 33.59375 26.515625 31.984375 \r\nL 29.59375 31.296875 \r\nQ 39.15625 29.25 43.1875 25.515625 \r\nQ 47.21875 21.78125 47.21875 15.09375 \r\nQ 47.21875 7.46875 41.1875 3.015625 \r\nQ 35.15625 -1.421875 24.609375 -1.421875 \r\nQ 20.21875 -1.421875 15.453125 -0.5625 \r\nQ 10.6875 0.296875 5.421875 2 \r\nL 5.421875 11.28125 \r\nQ 10.40625 8.6875 15.234375 7.390625 \r\nQ 20.0625 6.109375 24.8125 6.109375 \r\nQ 31.15625 6.109375 34.5625 8.28125 \r\nQ 37.984375 10.453125 37.984375 14.40625 \r\nQ 37.984375 18.0625 35.515625 20.015625 \r\nQ 33.0625 21.96875 24.703125 23.78125 \r\nL 21.578125 24.515625 \r\nQ 13.234375 26.265625 9.515625 29.90625 \r\nQ 5.8125 33.546875 5.8125 39.890625 \r\nQ 5.8125 47.609375 11.28125 51.796875 \r\nQ 16.75 56 26.8125 56 \r\nQ 31.78125 56 36.171875 55.265625 \r\nQ 40.578125 54.546875 44.28125 53.078125 \r\nz\r\n\" id=\"DejaVuSans-115\"/>\r\n       <path d=\"M 41.109375 46.296875 \r\nQ 39.59375 47.171875 37.8125 47.578125 \r\nQ 36.03125 48 33.890625 48 \r\nQ 26.265625 48 22.1875 43.046875 \r\nQ 18.109375 38.09375 18.109375 28.8125 \r\nL 18.109375 0 \r\nL 9.078125 0 \r\nL 9.078125 54.6875 \r\nL 18.109375 54.6875 \r\nL 18.109375 46.1875 \r\nQ 20.953125 51.171875 25.484375 53.578125 \r\nQ 30.03125 56 36.53125 56 \r\nQ 37.453125 56 38.578125 55.875 \r\nQ 39.703125 55.765625 41.0625 55.515625 \r\nz\r\n\" id=\"DejaVuSans-114\"/>\r\n       <path d=\"M 30.609375 48.390625 \r\nQ 23.390625 48.390625 19.1875 42.75 \r\nQ 14.984375 37.109375 14.984375 27.296875 \r\nQ 14.984375 17.484375 19.15625 11.84375 \r\nQ 23.34375 6.203125 30.609375 6.203125 \r\nQ 37.796875 6.203125 41.984375 11.859375 \r\nQ 46.1875 17.53125 46.1875 27.296875 \r\nQ 46.1875 37.015625 41.984375 42.703125 \r\nQ 37.796875 48.390625 30.609375 48.390625 \r\nz\r\nM 30.609375 56 \r\nQ 42.328125 56 49.015625 48.375 \r\nQ 55.71875 40.765625 55.71875 27.296875 \r\nQ 55.71875 13.875 49.015625 6.21875 \r\nQ 42.328125 -1.421875 30.609375 -1.421875 \r\nQ 18.84375 -1.421875 12.171875 6.21875 \r\nQ 5.515625 13.875 5.515625 27.296875 \r\nQ 5.515625 40.765625 12.171875 48.375 \r\nQ 18.84375 56 30.609375 56 \r\nz\r\n\" id=\"DejaVuSans-111\"/>\r\n      </defs>\r\n      <use xlink:href=\"#DejaVuSans-79\"/>\r\n      <use x=\"78.710938\" xlink:href=\"#DejaVuSans-98\"/>\r\n      <use x=\"142.1875\" xlink:href=\"#DejaVuSans-115\"/>\r\n      <use x=\"194.287109\" xlink:href=\"#DejaVuSans-101\"/>\r\n      <use x=\"255.810547\" xlink:href=\"#DejaVuSans-114\"/>\r\n      <use x=\"296.923828\" xlink:href=\"#DejaVuSans-118\"/>\r\n      <use x=\"356.103516\" xlink:href=\"#DejaVuSans-97\"/>\r\n      <use x=\"417.382812\" xlink:href=\"#DejaVuSans-116\"/>\r\n      <use x=\"456.591797\" xlink:href=\"#DejaVuSans-105\"/>\r\n      <use x=\"484.375\" xlink:href=\"#DejaVuSans-111\"/>\r\n      <use x=\"545.556641\" xlink:href=\"#DejaVuSans-110\"/>\r\n     </g>\r\n    </g>\r\n   </g>\r\n  </g>\r\n </g>\r\n <defs>\r\n  <clipPath id=\"p3678506cd9\">\r\n   <rect height=\"326.16\" width=\"558\" x=\"34.240625\" y=\"22.318125\"/>\r\n  </clipPath>\r\n </defs>\r\n</svg>\r\n",
      "image/png": "[encoded data removed]"
     },
     "metadata": {
      "needs_background": "light"
     }
    }
   ],
   "source": [
    "mmc.plot_timeseries(figsize=(10,6))"
   ]
  },
  {
   "cell_type": "code",
   "execution_count": 17,
   "metadata": {},
   "outputs": [
    {
     "output_type": "display_data",
     "data": {
      "application/vnd.plotly.v1+json": {
       "config": {
        "plotlyServerURL": "https://plot.ly"
       },
       "data": [
        {
         "line": {
          "color": "#004165"
         },
         "name": "SW_1",
         "type": "scatter",
         "x": [
          "2017-10-27T00:00:00",
          "2017-10-27T03:00:00",
          "2017-10-27T06:00:00",
          "2017-10-27T09:00:00",
          "2017-10-27T12:00:00",
          "2017-10-27T15:00:00",
          "2017-10-27T18:00:00",
          "2017-10-27T21:00:00",
          "2017-10-28T00:00:00",
          "2017-10-28T03:00:00",
          "2017-10-28T06:00:00",
          "2017-10-28T09:00:00",
          "2017-10-28T12:00:00",
          "2017-10-28T15:00:00",
          "2017-10-28T18:00:00",
          "2017-10-28T21:00:00",
          "2017-10-29T00:00:00",
          "2017-10-29T03:00:00",
          "2017-10-29T06:00:00",
          "2017-10-29T09:00:00",
          "2017-10-29T12:00:00",
          "2017-10-29T15:00:00",
          "2017-10-29T18:00:00"
         ],
         "y": [
          1.5797287225723267,
          1.7945095300674438,
          1.9933656454086304,
          2.2484540939331055,
          2.1624858379364014,
          1.8930269479751587,
          1.8805941343307495,
          1.7819037437438965,
          1.819505214691162,
          2.1193060874938965,
          2.506195068359375,
          2.6303439140319824,
          2.7131879329681396,
          3.053407907485962,
          3.606905937194824,
          3.837244987487793,
          4.370694637298584,
          4.792234897613525,
          4.630319118499756,
          4.153286933898926,
          3.960529327392578,
          3.577984094619751,
          3.249600410461426
         ]
        },
        {
         "line": {
          "color": "#63CEFF"
         },
         "name": "SW_2",
         "type": "scatter",
         "x": [
          "2017-10-27T00:00:00",
          "2017-10-27T03:00:00",
          "2017-10-27T06:00:00",
          "2017-10-27T09:00:00",
          "2017-10-27T12:00:00",
          "2017-10-27T15:00:00",
          "2017-10-27T18:00:00",
          "2017-10-27T21:00:00",
          "2017-10-28T00:00:00",
          "2017-10-28T03:00:00",
          "2017-10-28T06:00:00",
          "2017-10-28T09:00:00",
          "2017-10-28T12:00:00",
          "2017-10-28T15:00:00",
          "2017-10-28T18:00:00",
          "2017-10-28T21:00:00",
          "2017-10-29T00:00:00",
          "2017-10-29T03:00:00",
          "2017-10-29T06:00:00",
          "2017-10-29T09:00:00",
          "2017-10-29T12:00:00",
          "2017-10-29T15:00:00",
          "2017-10-29T18:00:00"
         ],
         "y": [
          1.5803097486495972,
          1.8101252317428589,
          2.0229012966156006,
          2.2958459854125977,
          2.203859806060791,
          1.9155387878417969,
          1.902235746383667,
          1.7966370582580566,
          1.836870551109314,
          2.1576576232910156,
          2.5716288089752197,
          2.704468011856079,
          2.7931110858917236,
          3.157146453857422,
          3.749389410018921,
          3.99585223197937,
          4.566643238067627,
          5.017691135406494,
          4.8444414138793945,
          4.334016799926758,
          4.1277666091918945,
          3.718442916870117,
          3.367072343826294
         ]
        },
        {
         "marker": {
          "color": "#d62728"
         },
         "mode": "markers",
         "name": "Observation",
         "type": "scatter",
         "x": [
          "2017-10-27T00:10:00",
          "2017-10-27T00:19:59.999994",
          "2017-10-27T00:29:59.999999",
          "2017-10-27T00:39:59.999993",
          "2017-10-27T00:49:59.999998",
          "2017-10-27T00:59:59.999992",
          "2017-10-27T01:09:59.999997",
          "2017-10-27T01:19:59.999991",
          "2017-10-27T01:29:59.999996",
          "2017-10-27T01:40:00",
          "2017-10-27T01:49:59.999994",
          "2017-10-27T01:59:59.999999",
          "2017-10-27T02:09:59.999993",
          "2017-10-27T02:19:59.999998",
          "2017-10-27T02:29:59.999992",
          "2017-10-27T02:39:59.999997",
          "2017-10-27T02:49:59.999991",
          "2017-10-27T02:59:59.999996",
          "2017-10-27T03:10:00",
          "2017-10-27T03:19:59.999994",
          "2017-10-27T03:29:59.999999",
          "2017-10-27T03:39:59.999993",
          "2017-10-27T03:49:59.999998",
          "2017-10-27T03:59:59.999992",
          "2017-10-27T04:09:59.999997",
          "2017-10-27T04:19:59.999991",
          "2017-10-27T04:29:59.999996",
          "2017-10-27T04:40:00",
          "2017-10-27T04:49:59.999994",
          "2017-10-27T04:59:59.999999",
          "2017-10-27T05:09:59.999993",
          "2017-10-27T05:19:59.999998",
          "2017-10-27T05:29:59.999992",
          "2017-10-27T05:39:59.999997",
          "2017-10-27T05:49:59.999991",
          "2017-10-27T05:59:59.999996",
          "2017-10-27T06:10:00",
          "2017-10-27T06:19:59.999994",
          "2017-10-27T06:29:59.999999",
          "2017-10-27T06:39:59.999993",
          "2017-10-27T06:49:59.999998",
          "2017-10-27T06:59:59.999992",
          "2017-10-27T07:09:59.999997",
          "2017-10-27T07:19:59.999991",
          "2017-10-27T07:29:59.999996",
          "2017-10-27T07:40:00",
          "2017-10-27T07:49:59.999994",
          "2017-10-27T07:59:59.999999",
          "2017-10-27T08:09:59.999993",
          "2017-10-27T08:19:59.999998",
          "2017-10-27T08:29:59.999992",
          "2017-10-27T08:39:59.999997",
          "2017-10-27T08:49:59.999991",
          "2017-10-27T08:59:59.999996",
          "2017-10-27T09:10:00",
          "2017-10-27T09:19:59.999994",
          "2017-10-27T09:29:59.999999",
          "2017-10-27T09:39:59.999993",
          "2017-10-27T09:49:59.999998",
          "2017-10-27T09:59:59.999992",
          "2017-10-27T10:09:59.999997",
          "2017-10-27T10:19:59.999991",
          "2017-10-27T10:29:59.999996",
          "2017-10-27T10:40:00",
          "2017-10-27T10:49:59.999994",
          "2017-10-27T10:59:59.999999",
          "2017-10-27T11:09:59.999993",
          "2017-10-27T11:19:59.999998",
          "2017-10-27T11:29:59.999992",
          "2017-10-27T11:39:59.999997",
          "2017-10-27T11:49:59.999991",
          "2017-10-27T11:59:59.999996",
          "2017-10-27T12:10:00",
          "2017-10-27T12:19:59.999994",
          "2017-10-27T12:29:59.999999",
          "2017-10-27T12:39:59.999993",
          "2017-10-27T12:49:59.999998",
          "2017-10-27T12:59:59.999992",
          "2017-10-27T13:09:59.999997",
          "2017-10-27T13:19:59.999991",
          "2017-10-27T13:29:59.999996",
          "2017-10-27T13:40:00",
          "2017-10-27T13:49:59.999994",
          "2017-10-27T13:59:59.999999",
          "2017-10-27T14:09:59.999993",
          "2017-10-27T14:19:59.999998",
          "2017-10-27T14:29:59.999992",
          "2017-10-27T14:39:59.999997",
          "2017-10-27T14:49:59.999991",
          "2017-10-27T14:59:59.999996",
          "2017-10-27T15:10:00",
          "2017-10-27T15:19:59.999994",
          "2017-10-27T15:29:59.999999",
          "2017-10-27T15:39:59.999993",
          "2017-10-27T15:49:59.999998",
          "2017-10-27T15:59:59.999992",
          "2017-10-27T16:09:59.999997",
          "2017-10-27T16:19:59.999991",
          "2017-10-27T16:29:59.999996",
          "2017-10-27T16:40:00",
          "2017-10-27T16:49:59.999994",
          "2017-10-27T16:59:59.999999",
          "2017-10-27T17:09:59.999993",
          "2017-10-27T17:19:59.999998",
          "2017-10-27T17:29:59.999992",
          "2017-10-27T17:39:59.999997",
          "2017-10-27T17:49:59.999991",
          "2017-10-27T17:59:59.999996",
          "2017-10-27T18:10:00",
          "2017-10-27T18:19:59.999994",
          "2017-10-27T18:29:59.999999",
          "2017-10-27T18:39:59.999993",
          "2017-10-27T18:49:59.999998",
          "2017-10-27T18:59:59.999992",
          "2017-10-27T19:09:59.999997",
          "2017-10-27T19:19:59.999991",
          "2017-10-27T19:29:59.999996",
          "2017-10-27T19:40:00",
          "2017-10-27T19:49:59.999994",
          "2017-10-27T19:59:59.999999",
          "2017-10-27T20:09:59.999993",
          "2017-10-27T20:19:59.999998",
          "2017-10-27T20:29:59.999992",
          "2017-10-27T20:39:59.999997",
          "2017-10-27T20:49:59.999991",
          "2017-10-27T20:59:59.999996",
          "2017-10-27T21:10:00",
          "2017-10-27T21:19:59.999994",
          "2017-10-27T21:29:59.999999",
          "2017-10-27T21:39:59.999993",
          "2017-10-27T21:49:59.999998",
          "2017-10-27T21:59:59.999992",
          "2017-10-27T22:09:59.999997",
          "2017-10-27T22:19:59.999991",
          "2017-10-27T22:29:59.999996",
          "2017-10-27T22:40:00",
          "2017-10-27T22:49:59.999994",
          "2017-10-27T22:59:59.999999",
          "2017-10-27T23:09:59.999993",
          "2017-10-27T23:19:59.999998",
          "2017-10-27T23:29:59.999992",
          "2017-10-27T23:39:59.999997",
          "2017-10-27T23:49:59.999991",
          "2017-10-28T01:09:59.999997",
          "2017-10-28T01:19:59.999991",
          "2017-10-28T01:29:59.999996",
          "2017-10-28T01:40:00",
          "2017-10-28T01:49:59.999994",
          "2017-10-28T01:59:59.999999",
          "2017-10-28T02:09:59.999993",
          "2017-10-28T02:19:59.999998",
          "2017-10-28T02:29:59.999992",
          "2017-10-28T02:39:59.999997",
          "2017-10-28T02:49:59.999991",
          "2017-10-28T02:59:59.999996",
          "2017-10-28T03:10:00",
          "2017-10-28T03:19:59.999994",
          "2017-10-28T03:29:59.999999",
          "2017-10-28T03:39:59.999993",
          "2017-10-28T03:49:59.999998",
          "2017-10-28T03:59:59.999992",
          "2017-10-28T04:09:59.999997",
          "2017-10-28T04:19:59.999991",
          "2017-10-28T04:29:59.999996",
          "2017-10-28T04:40:00",
          "2017-10-28T04:49:59.999994",
          "2017-10-28T04:59:59.999999",
          "2017-10-28T05:09:59.999993",
          "2017-10-28T05:19:59.999998",
          "2017-10-28T05:29:59.999992",
          "2017-10-28T05:39:59.999997",
          "2017-10-28T05:49:59.999991",
          "2017-10-28T05:59:59.999996",
          "2017-10-28T06:10:00",
          "2017-10-28T06:19:59.999994",
          "2017-10-28T06:29:59.999999",
          "2017-10-28T06:39:59.999993",
          "2017-10-28T06:49:59.999998",
          "2017-10-28T06:59:59.999992",
          "2017-10-28T07:09:59.999997",
          "2017-10-28T07:19:59.999991",
          "2017-10-28T07:29:59.999996",
          "2017-10-28T07:40:00",
          "2017-10-28T07:49:59.999994",
          "2017-10-28T07:59:59.999999",
          "2017-10-28T08:09:59.999993",
          "2017-10-28T08:19:59.999998",
          "2017-10-28T08:29:59.999992",
          "2017-10-28T08:39:59.999997",
          "2017-10-28T08:49:59.999991",
          "2017-10-28T08:59:59.999996",
          "2017-10-28T09:10:00",
          "2017-10-28T09:19:59.999994",
          "2017-10-28T09:29:59.999999",
          "2017-10-28T09:39:59.999993",
          "2017-10-28T09:49:59.999998",
          "2017-10-28T09:59:59.999992",
          "2017-10-28T10:09:59.999997",
          "2017-10-28T10:19:59.999991",
          "2017-10-28T10:29:59.999996",
          "2017-10-28T10:40:00",
          "2017-10-28T10:49:59.999994",
          "2017-10-28T10:59:59.999999",
          "2017-10-28T11:09:59.999993",
          "2017-10-28T11:19:59.999998",
          "2017-10-28T11:29:59.999992",
          "2017-10-28T11:39:59.999997",
          "2017-10-28T11:49:59.999991",
          "2017-10-28T11:59:59.999996",
          "2017-10-28T12:10:00",
          "2017-10-28T12:19:59.999994",
          "2017-10-28T12:29:59.999999",
          "2017-10-28T12:39:59.999993",
          "2017-10-28T12:49:59.999998",
          "2017-10-28T12:59:59.999992",
          "2017-10-28T13:09:59.999997",
          "2017-10-28T13:19:59.999991",
          "2017-10-28T13:29:59.999996",
          "2017-10-28T13:40:00",
          "2017-10-28T13:49:59.999994",
          "2017-10-28T13:59:59.999999",
          "2017-10-28T14:09:59.999993",
          "2017-10-28T14:19:59.999998",
          "2017-10-28T14:29:59.999992",
          "2017-10-28T14:39:59.999997",
          "2017-10-28T14:49:59.999991",
          "2017-10-28T14:59:59.999996",
          "2017-10-28T15:10:00",
          "2017-10-28T15:19:59.999994",
          "2017-10-28T15:29:59.999999",
          "2017-10-28T15:39:59.999993",
          "2017-10-28T15:49:59.999998",
          "2017-10-28T15:59:59.999992",
          "2017-10-28T16:09:59.999997",
          "2017-10-28T16:19:59.999991",
          "2017-10-28T16:29:59.999996",
          "2017-10-28T16:40:00",
          "2017-10-28T16:49:59.999994",
          "2017-10-28T16:59:59.999999",
          "2017-10-28T17:09:59.999993",
          "2017-10-28T17:19:59.999998",
          "2017-10-28T17:29:59.999992",
          "2017-10-28T17:39:59.999997",
          "2017-10-28T17:49:59.999991",
          "2017-10-28T17:59:59.999996",
          "2017-10-28T18:10:00",
          "2017-10-28T18:19:59.999994",
          "2017-10-28T18:29:59.999999",
          "2017-10-28T18:39:59.999993",
          "2017-10-28T18:49:59.999998",
          "2017-10-28T18:59:59.999992",
          "2017-10-28T19:09:59.999997",
          "2017-10-28T19:19:59.999991",
          "2017-10-28T19:29:59.999996",
          "2017-10-28T19:40:00",
          "2017-10-28T19:49:59.999994",
          "2017-10-28T19:59:59.999999",
          "2017-10-28T20:09:59.999993",
          "2017-10-28T20:19:59.999998",
          "2017-10-28T20:29:59.999992",
          "2017-10-28T20:39:59.999997",
          "2017-10-28T20:49:59.999991",
          "2017-10-28T20:59:59.999996",
          "2017-10-28T21:10:00",
          "2017-10-28T21:19:59.999994",
          "2017-10-28T21:29:59.999999",
          "2017-10-28T21:39:59.999993",
          "2017-10-28T21:49:59.999998",
          "2017-10-28T21:59:59.999992",
          "2017-10-28T22:09:59.999997",
          "2017-10-28T22:19:59.999991",
          "2017-10-28T22:29:59.999996",
          "2017-10-28T22:40:00",
          "2017-10-28T22:49:59.999994",
          "2017-10-28T22:59:59.999999",
          "2017-10-28T23:09:59.999993",
          "2017-10-28T23:19:59.999998",
          "2017-10-28T23:29:59.999992",
          "2017-10-28T23:39:59.999997",
          "2017-10-28T23:49:59.999991",
          "2017-10-28T23:59:59.999996",
          "2017-10-29T00:10:00",
          "2017-10-29T00:19:59.999994",
          "2017-10-29T00:29:59.999999",
          "2017-10-29T00:39:59.999993",
          "2017-10-29T00:49:59.999998",
          "2017-10-29T00:59:59.999992",
          "2017-10-29T01:09:59.999997",
          "2017-10-29T01:19:59.999991",
          "2017-10-29T01:49:59.999994",
          "2017-10-29T01:59:59.999999",
          "2017-10-29T02:09:59.999993",
          "2017-10-29T02:19:59.999998",
          "2017-10-29T02:29:59.999992",
          "2017-10-29T02:39:59.999997",
          "2017-10-29T02:49:59.999991",
          "2017-10-29T02:59:59.999996",
          "2017-10-29T03:10:00",
          "2017-10-29T03:19:59.999994",
          "2017-10-29T03:29:59.999999",
          "2017-10-29T03:39:59.999993",
          "2017-10-29T03:49:59.999998",
          "2017-10-29T03:59:59.999992",
          "2017-10-29T04:09:59.999997",
          "2017-10-29T04:19:59.999991",
          "2017-10-29T04:29:59.999996",
          "2017-10-29T04:40:00",
          "2017-10-29T04:49:59.999994",
          "2017-10-29T04:59:59.999999",
          "2017-10-29T05:09:59.999993",
          "2017-10-29T05:19:59.999998",
          "2017-10-29T05:29:59.999992",
          "2017-10-29T05:39:59.999997",
          "2017-10-29T05:49:59.999991",
          "2017-10-29T05:59:59.999996",
          "2017-10-29T06:10:00",
          "2017-10-29T06:19:59.999994",
          "2017-10-29T06:29:59.999999",
          "2017-10-29T06:39:59.999993",
          "2017-10-29T06:49:59.999998",
          "2017-10-29T06:59:59.999992",
          "2017-10-29T07:09:59.999997",
          "2017-10-29T07:19:59.999991",
          "2017-10-29T07:29:59.999996",
          "2017-10-29T07:40:00",
          "2017-10-29T07:49:59.999994",
          "2017-10-29T07:59:59.999999",
          "2017-10-29T08:09:59.999993",
          "2017-10-29T08:19:59.999998",
          "2017-10-29T08:29:59.999992",
          "2017-10-29T08:39:59.999997",
          "2017-10-29T08:49:59.999991",
          "2017-10-29T08:59:59.999996",
          "2017-10-29T09:10:00",
          "2017-10-29T09:19:59.999994",
          "2017-10-29T09:29:59.999999",
          "2017-10-29T09:39:59.999993",
          "2017-10-29T09:49:59.999998",
          "2017-10-29T09:59:59.999992",
          "2017-10-29T10:09:59.999997",
          "2017-10-29T10:19:59.999991",
          "2017-10-29T10:29:59.999996",
          "2017-10-29T10:40:00",
          "2017-10-29T10:49:59.999994",
          "2017-10-29T10:59:59.999999",
          "2017-10-29T11:09:59.999993",
          "2017-10-29T11:19:59.999998",
          "2017-10-29T11:29:59.999992",
          "2017-10-29T11:39:59.999997",
          "2017-10-29T11:49:59.999991",
          "2017-10-29T11:59:59.999996",
          "2017-10-29T12:10:00",
          "2017-10-29T12:19:59.999994",
          "2017-10-29T12:29:59.999999",
          "2017-10-29T12:39:59.999993",
          "2017-10-29T12:49:59.999998",
          "2017-10-29T12:59:59.999992",
          "2017-10-29T13:09:59.999997",
          "2017-10-29T13:19:59.999991",
          "2017-10-29T13:29:59.999996",
          "2017-10-29T13:40:00",
          "2017-10-29T13:49:59.999994",
          "2017-10-29T13:59:59.999999",
          "2017-10-29T14:09:59.999993",
          "2017-10-29T14:19:59.999998",
          "2017-10-29T14:29:59.999992",
          "2017-10-29T14:39:59.999997",
          "2017-10-29T14:49:59.999991",
          "2017-10-29T15:10:00",
          "2017-10-29T15:19:59.999994",
          "2017-10-29T15:29:59.999999",
          "2017-10-29T15:39:59.999993",
          "2017-10-29T15:59:59.999992",
          "2017-10-29T16:09:59.999997",
          "2017-10-29T16:19:59.999991",
          "2017-10-29T16:29:59.999996",
          "2017-10-29T16:40:00",
          "2017-10-29T16:49:59.999994",
          "2017-10-29T16:59:59.999999",
          "2017-10-29T17:09:59.999993",
          "2017-10-29T17:19:59.999998",
          "2017-10-29T17:29:59.999992",
          "2017-10-29T17:39:59.999997",
          "2017-10-29T17:49:59.999991",
          "2017-10-29T17:59:59.999996"
         ],
         "y": [
          1.464840054512024,
          1.503909945487976,
          1.4453099966049194,
          1.4453099966049194,
          1.5234400033950806,
          1.5429699420928955,
          1.503909945487976,
          1.464840054512024,
          1.5234400033950806,
          1.5625,
          1.5820300579071045,
          1.660159945487976,
          1.660159945487976,
          1.621090054512024,
          1.5625,
          1.7382800579071045,
          1.777340054512024,
          1.816409945487976,
          1.7382800579071045,
          1.71875,
          1.7578099966049194,
          1.71875,
          1.816409945487976,
          1.933590054512024,
          1.9531199932098389,
          1.8554699420928955,
          1.816409945487976,
          1.933590054512024,
          1.972659945487976,
          2.0507800579071045,
          1.875,
          1.9921900033950806,
          2.0898399353027344,
          2.265619993209839,
          2.2851600646972656,
          2.109380006790161,
          2.148439884185791,
          2.382810115814209,
          2.4023399353027344,
          2.34375,
          2.4804699420928955,
          2.6367199420928955,
          2.5585899353027344,
          2.5585899353027344,
          2.5195300579071045,
          2.578119993209839,
          2.4023399353027344,
          2.5585899353027344,
          2.578119993209839,
          2.34375,
          2.4414100646972656,
          2.5195300579071045,
          2.6757800579071045,
          2.9101600646972656,
          2.6367199420928955,
          2.4414100646972656,
          2.382810115814209,
          2.34375,
          2.5585899353027344,
          2.5195300579071045,
          2.4023399353027344,
          2.5195300579071045,
          2.421880006790161,
          2.539060115814209,
          2.5,
          2.460939884185791,
          2.460939884185791,
          2.3632800579071045,
          2.382810115814209,
          2.3242199420928955,
          2.226560115814209,
          2.070310115814209,
          2.2460899353027344,
          2.4804699420928955,
          2.460939884185791,
          2.2851600646972656,
          2.0507800579071045,
          2.304689884185791,
          2.265619993209839,
          2.304689884185791,
          2.382810115814209,
          2.382810115814209,
          2.1875,
          2.2070300579071045,
          2.2460899353027344,
          2.1679699420928955,
          2.148439884185791,
          2.070310115814209,
          2.109380006790161,
          2.265619993209839,
          2.109380006790161,
          2.0898399353027344,
          2.070310115814209,
          2.109380006790161,
          2.2070300579071045,
          1.9921900033950806,
          1.9921900033950806,
          2.0507800579071045,
          2.03125,
          2.070310115814209,
          2.2070300579071045,
          2.109380006790161,
          2.0117199420928955,
          2.1289100646972656,
          2.070310115814209,
          2.03125,
          1.875,
          1.8359400033950806,
          2.0117199420928955,
          2.0117199420928955,
          1.9531199932098389,
          1.8945300579071045,
          1.9921900033950806,
          2.0117199420928955,
          2.0507800579071045,
          2.03125,
          2.0898399353027344,
          2.070310115814209,
          2.0117199420928955,
          1.875,
          1.8359400033950806,
          1.875,
          1.9531199932098389,
          2.0507800579071045,
          1.933590054512024,
          1.875,
          1.875,
          1.875,
          1.7968800067901611,
          1.7382800579071045,
          1.816409945487976,
          1.875,
          1.875,
          1.875,
          1.8554699420928955,
          1.816409945487976,
          1.8359400033950806,
          1.7578099966049194,
          1.816409945487976,
          1.8359400033950806,
          1.7968800067901611,
          1.816409945487976,
          1.816409945487976,
          2.03125,
          2.0898399353027344,
          2.0898399353027344,
          2.0117199420928955,
          2.0117199420928955,
          2.0117199420928955,
          2.109380006790161,
          2.1679699420928955,
          2.148439884185791,
          2.2070300579071045,
          2.226560115814209,
          2.1875,
          2.1289100646972656,
          2.1679699420928955,
          2.265619993209839,
          2.148439884185791,
          2.1289100646972656,
          2.1289100646972656,
          2.2460899353027344,
          2.34375,
          2.5,
          2.539060115814209,
          2.3632800579071045,
          2.4023399353027344,
          2.578119993209839,
          2.460939884185791,
          2.4023399353027344,
          2.3632800579071045,
          2.3632800579071045,
          2.148439884185791,
          2.34375,
          2.4414100646972656,
          2.6757800579071045,
          2.734380006790161,
          2.5585899353027344,
          2.5,
          2.4804699420928955,
          2.7148399353027344,
          2.734380006790161,
          2.617189884185791,
          2.695310115814209,
          2.8125,
          2.773439884185791,
          2.695310115814209,
          2.7539100646972656,
          2.7148399353027344,
          2.734380006790161,
          2.617189884185791,
          2.8320300579071045,
          2.8125,
          2.578119993209839,
          2.7929699420928955,
          2.890619993209839,
          3.2226600646972656,
          3.085939884185791,
          2.8710899353027344,
          2.929689884185791,
          2.890619993209839,
          2.929689884185791,
          2.8125,
          2.9101600646972656,
          2.96875,
          2.9492199420928955,
          2.890619993209839,
          2.9492199420928955,
          3.125,
          2.8320300579071045,
          3.0273399353027344,
          3.0273399353027344,
          2.9492199420928955,
          2.8125,
          2.851560115814209,
          2.890619993209839,
          3.125,
          3.085939884185791,
          3.0664100646972656,
          3.242189884185791,
          3.203119993209839,
          3.007810115814209,
          3.125,
          3.4179699420928955,
          3.0273399353027344,
          3.164060115814209,
          3.164060115814209,
          3.046880006790161,
          3.1445300579071045,
          3.1445300579071045,
          3.320310115814209,
          3.242189884185791,
          3.3007800579071045,
          3.359380006790161,
          3.1835899353027344,
          3.007810115814209,
          3.085939884185791,
          3.164060115814209,
          3.2617199420928955,
          3.203119993209839,
          3.242189884185791,
          3.671880006790161,
          3.5742199420928955,
          3.3789100646972656,
          3.203119993209839,
          3.3007800579071045,
          3.710939884185791,
          3.7695300579071045,
          3.7695300579071045,
          3.476560115814209,
          3.4179699420928955,
          3.671880006790161,
          3.6523399353027344,
          3.4375,
          3.4960899353027344,
          3.945310115814209,
          3.632810115814209,
          3.828119993209839,
          4.160160064697266,
          4.160160064697266,
          3.9648399353027344,
          3.7695300579071045,
          3.945310115814209,
          3.984380006790161,
          4.023439884185791,
          3.9648399353027344,
          4.023439884185791,
          4.023439884185791,
          3.9648399353027344,
          3.7304699420928955,
          3.8085899353027344,
          3.8867199420928955,
          4.511720180511475,
          4.277339935302734,
          3.945310115814209,
          4.179689884185791,
          4.238279819488525,
          4.375,
          4.589839935302734,
          4.453120231628418,
          4.472660064697266,
          4.375,
          4.433589935302734,
          4.511720180511475,
          4.433589935302734,
          4.042970180511475,
          4.394529819488525,
          4.589839935302734,
          4.707029819488525,
          4.6875,
          4.765620231628418,
          4.433589935302734,
          4.277339935302734,
          4.492189884185791,
          4.6875,
          4.765620231628418,
          4.726560115814209,
          5.136720180511475,
          5.253910064697266,
          5.234379768371582,
          5.664060115814209,
          5.507810115814209,
          5.351560115814209,
          5.15625,
          5.273439884185791,
          5.800779819488525,
          5.546879768371582,
          5.722660064697266,
          5.253910064697266,
          5.644529819488525,
          5.742189884185791,
          5.996089935302734,
          5.917970180511475,
          5.390620231628418,
          4.960939884185791,
          4.84375,
          4.609379768371582,
          4.882810115814209,
          5.117189884185791,
          5.371089935302734,
          4.902339935302734,
          5.136720180511475,
          5.078120231628418,
          4.921879768371582,
          5.429689884185791,
          5.507810115814209,
          5.039060115814209,
          4.84375,
          4.355470180511475,
          4.492189884185791,
          4.726560115814209,
          4.941410064697266,
          5.195310115814209,
          5.117189884185791,
          5.019529819488525,
          5.15625,
          4.882810115814209,
          4.84375,
          4.921879768371582,
          4.882810115814209,
          4.511720180511475,
          4.589839935302734,
          4.804689884185791,
          4.453120231628418,
          4.238279819488525,
          4.21875,
          4.492189884185791,
          4.667970180511475,
          4.589839935302734,
          4.355470180511475,
          4.316410064697266,
          4.121089935302734,
          4.238279819488525,
          4.53125,
          4.804689884185791,
          4.453120231628418,
          4.609379768371582,
          4.316410064697266,
          4.414060115814209,
          4.394529819488525,
          4.101560115814209,
          4.042970180511475,
          4.335939884185791,
          4.6875,
          4.472660064697266,
          4.140620231628418,
          4.140620231628418,
          3.6523399353027344,
          4.101560115814209,
          4.023439884185791,
          3.632810115814209,
          3.7304699420928955,
          3.5742199420928955,
          3.75,
          3.789060115814209,
          3.632810115814209,
          3.4179699420928955,
          3.6132800579071045,
          3.5742199420928955,
          3.4960899353027344,
          3.515619993209839,
          3.476560115814209,
          3.4570300579071045,
          3.5351600646972656,
          3.320310115814209
         ]
        }
       ],
       "layout": {
        "template": {
         "data": {
          "bar": [
           {
            "error_x": {
             "color": "#2a3f5f"
            },
            "error_y": {
             "color": "#2a3f5f"
            },
            "marker": {
             "line": {
              "color": "#E5ECF6",
              "width": 0.5
             }
            },
            "type": "bar"
           }
          ],
          "barpolar": [
           {
            "marker": {
             "line": {
              "color": "#E5ECF6",
              "width": 0.5
             }
            },
            "type": "barpolar"
           }
          ],
          "carpet": [
           {
            "aaxis": {
             "endlinecolor": "#2a3f5f",
             "gridcolor": "white",
             "linecolor": "white",
             "minorgridcolor": "white",
             "startlinecolor": "#2a3f5f"
            },
            "baxis": {
             "endlinecolor": "#2a3f5f",
             "gridcolor": "white",
             "linecolor": "white",
             "minorgridcolor": "white",
             "startlinecolor": "#2a3f5f"
            },
            "type": "carpet"
           }
          ],
          "choropleth": [
           {
            "colorbar": {
             "outlinewidth": 0,
             "ticks": ""
            },
            "type": "choropleth"
           }
          ],
          "contour": [
           {
            "colorbar": {
             "outlinewidth": 0,
             "ticks": ""
            },
            "colorscale": [
             [
              0,
              "#0d0887"
             ],
             [
              0.1111111111111111,
              "#46039f"
             ],
             [
              0.2222222222222222,
              "#7201a8"
             ],
             [
              0.3333333333333333,
              "#9c179e"
             ],
             [
              0.4444444444444444,
              "#bd3786"
             ],
             [
              0.5555555555555556,
              "#d8576b"
             ],
             [
              0.6666666666666666,
              "#ed7953"
             ],
             [
              0.7777777777777778,
              "#fb9f3a"
             ],
             [
              0.8888888888888888,
              "#fdca26"
             ],
             [
              1,
              "#f0f921"
             ]
            ],
            "type": "contour"
           }
          ],
          "contourcarpet": [
           {
            "colorbar": {
             "outlinewidth": 0,
             "ticks": ""
            },
            "type": "contourcarpet"
           }
          ],
          "heatmap": [
           {
            "colorbar": {
             "outlinewidth": 0,
             "ticks": ""
            },
            "colorscale": [
             [
              0,
              "#0d0887"
             ],
             [
              0.1111111111111111,
              "#46039f"
             ],
             [
              0.2222222222222222,
              "#7201a8"
             ],
             [
              0.3333333333333333,
              "#9c179e"
             ],
             [
              0.4444444444444444,
              "#bd3786"
             ],
             [
              0.5555555555555556,
              "#d8576b"
             ],
             [
              0.6666666666666666,
              "#ed7953"
             ],
             [
              0.7777777777777778,
              "#fb9f3a"
             ],
             [
              0.8888888888888888,
              "#fdca26"
             ],
             [
              1,
              "#f0f921"
             ]
            ],
            "type": "heatmap"
           }
          ],
          "heatmapgl": [
           {
            "colorbar": {
             "outlinewidth": 0,
             "ticks": ""
            },
            "colorscale": [
             [
              0,
              "#0d0887"
             ],
             [
              0.1111111111111111,
              "#46039f"
             ],
             [
              0.2222222222222222,
              "#7201a8"
             ],
             [
              0.3333333333333333,
              "#9c179e"
             ],
             [
              0.4444444444444444,
              "#bd3786"
             ],
             [
              0.5555555555555556,
              "#d8576b"
             ],
             [
              0.6666666666666666,
              "#ed7953"
             ],
             [
              0.7777777777777778,
              "#fb9f3a"
             ],
             [
              0.8888888888888888,
              "#fdca26"
             ],
             [
              1,
              "#f0f921"
             ]
            ],
            "type": "heatmapgl"
           }
          ],
          "histogram": [
           {
            "marker": {
             "colorbar": {
              "outlinewidth": 0,
              "ticks": ""
             }
            },
            "type": "histogram"
           }
          ],
          "histogram2d": [
           {
            "colorbar": {
             "outlinewidth": 0,
             "ticks": ""
            },
            "colorscale": [
             [
              0,
              "#0d0887"
             ],
             [
              0.1111111111111111,
              "#46039f"
             ],
             [
              0.2222222222222222,
              "#7201a8"
             ],
             [
              0.3333333333333333,
              "#9c179e"
             ],
             [
              0.4444444444444444,
              "#bd3786"
             ],
             [
              0.5555555555555556,
              "#d8576b"
             ],
             [
              0.6666666666666666,
              "#ed7953"
             ],
             [
              0.7777777777777778,
              "#fb9f3a"
             ],
             [
              0.8888888888888888,
              "#fdca26"
             ],
             [
              1,
              "#f0f921"
             ]
            ],
            "type": "histogram2d"
           }
          ],
          "histogram2dcontour": [
           {
            "colorbar": {
             "outlinewidth": 0,
             "ticks": ""
            },
            "colorscale": [
             [
              0,
              "#0d0887"
             ],
             [
              0.1111111111111111,
              "#46039f"
             ],
             [
              0.2222222222222222,
              "#7201a8"
             ],
             [
              0.3333333333333333,
              "#9c179e"
             ],
             [
              0.4444444444444444,
              "#bd3786"
             ],
             [
              0.5555555555555556,
              "#d8576b"
             ],
             [
              0.6666666666666666,
              "#ed7953"
             ],
             [
              0.7777777777777778,
              "#fb9f3a"
             ],
             [
              0.8888888888888888,
              "#fdca26"
             ],
             [
              1,
              "#f0f921"
             ]
            ],
            "type": "histogram2dcontour"
           }
          ],
          "mesh3d": [
           {
            "colorbar": {
             "outlinewidth": 0,
             "ticks": ""
            },
            "type": "mesh3d"
           }
          ],
          "parcoords": [
           {
            "line": {
             "colorbar": {
              "outlinewidth": 0,
              "ticks": ""
             }
            },
            "type": "parcoords"
           }
          ],
          "pie": [
           {
            "automargin": true,
            "type": "pie"
           }
          ],
          "scatter": [
           {
            "marker": {
             "colorbar": {
              "outlinewidth": 0,
              "ticks": ""
             }
            },
            "type": "scatter"
           }
          ],
          "scatter3d": [
           {
            "line": {
             "colorbar": {
              "outlinewidth": 0,
              "ticks": ""
             }
            },
            "marker": {
             "colorbar": {
              "outlinewidth": 0,
              "ticks": ""
             }
            },
            "type": "scatter3d"
           }
          ],
          "scattercarpet": [
           {
            "marker": {
             "colorbar": {
              "outlinewidth": 0,
              "ticks": ""
             }
            },
            "type": "scattercarpet"
           }
          ],
          "scattergeo": [
           {
            "marker": {
             "colorbar": {
              "outlinewidth": 0,
              "ticks": ""
             }
            },
            "type": "scattergeo"
           }
          ],
          "scattergl": [
           {
            "marker": {
             "colorbar": {
              "outlinewidth": 0,
              "ticks": ""
             }
            },
            "type": "scattergl"
           }
          ],
          "scattermapbox": [
           {
            "marker": {
             "colorbar": {
              "outlinewidth": 0,
              "ticks": ""
             }
            },
            "type": "scattermapbox"
           }
          ],
          "scatterpolar": [
           {
            "marker": {
             "colorbar": {
              "outlinewidth": 0,
              "ticks": ""
             }
            },
            "type": "scatterpolar"
           }
          ],
          "scatterpolargl": [
           {
            "marker": {
             "colorbar": {
              "outlinewidth": 0,
              "ticks": ""
             }
            },
            "type": "scatterpolargl"
           }
          ],
          "scatterternary": [
           {
            "marker": {
             "colorbar": {
              "outlinewidth": 0,
              "ticks": ""
             }
            },
            "type": "scatterternary"
           }
          ],
          "surface": [
           {
            "colorbar": {
             "outlinewidth": 0,
             "ticks": ""
            },
            "colorscale": [
             [
              0,
              "#0d0887"
             ],
             [
              0.1111111111111111,
              "#46039f"
             ],
             [
              0.2222222222222222,
              "#7201a8"
             ],
             [
              0.3333333333333333,
              "#9c179e"
             ],
             [
              0.4444444444444444,
              "#bd3786"
             ],
             [
              0.5555555555555556,
              "#d8576b"
             ],
             [
              0.6666666666666666,
              "#ed7953"
             ],
             [
              0.7777777777777778,
              "#fb9f3a"
             ],
             [
              0.8888888888888888,
              "#fdca26"
             ],
             [
              1,
              "#f0f921"
             ]
            ],
            "type": "surface"
           }
          ],
          "table": [
           {
            "cells": {
             "fill": {
              "color": "#EBF0F8"
             },
             "line": {
              "color": "white"
             }
            },
            "header": {
             "fill": {
              "color": "#C8D4E3"
             },
             "line": {
              "color": "white"
             }
            },
            "type": "table"
           }
          ]
         },
         "layout": {
          "annotationdefaults": {
           "arrowcolor": "#2a3f5f",
           "arrowhead": 0,
           "arrowwidth": 1
          },
          "autotypenumbers": "strict",
          "coloraxis": {
           "colorbar": {
            "outlinewidth": 0,
            "ticks": ""
           }
          },
          "colorscale": {
           "diverging": [
            [
             0,
             "#8e0152"
            ],
            [
             0.1,
             "#c51b7d"
            ],
            [
             0.2,
             "#de77ae"
            ],
            [
             0.3,
             "#f1b6da"
            ],
            [
             0.4,
             "#fde0ef"
            ],
            [
             0.5,
             "#f7f7f7"
            ],
            [
             0.6,
             "#e6f5d0"
            ],
            [
             0.7,
             "#b8e186"
            ],
            [
             0.8,
             "#7fbc41"
            ],
            [
             0.9,
             "#4d9221"
            ],
            [
             1,
             "#276419"
            ]
           ],
           "sequential": [
            [
             0,
             "#0d0887"
            ],
            [
             0.1111111111111111,
             "#46039f"
            ],
            [
             0.2222222222222222,
             "#7201a8"
            ],
            [
             0.3333333333333333,
             "#9c179e"
            ],
            [
             0.4444444444444444,
             "#bd3786"
            ],
            [
             0.5555555555555556,
             "#d8576b"
            ],
            [
             0.6666666666666666,
             "#ed7953"
            ],
            [
             0.7777777777777778,
             "#fb9f3a"
            ],
            [
             0.8888888888888888,
             "#fdca26"
            ],
            [
             1,
             "#f0f921"
            ]
           ],
           "sequentialminus": [
            [
             0,
             "#0d0887"
            ],
            [
             0.1111111111111111,
             "#46039f"
            ],
            [
             0.2222222222222222,
             "#7201a8"
            ],
            [
             0.3333333333333333,
             "#9c179e"
            ],
            [
             0.4444444444444444,
             "#bd3786"
            ],
            [
             0.5555555555555556,
             "#d8576b"
            ],
            [
             0.6666666666666666,
             "#ed7953"
            ],
            [
             0.7777777777777778,
             "#fb9f3a"
            ],
            [
             0.8888888888888888,
             "#fdca26"
            ],
            [
             1,
             "#f0f921"
            ]
           ]
          },
          "colorway": [
           "#636efa",
           "#EF553B",
           "#00cc96",
           "#ab63fa",
           "#FFA15A",
           "#19d3f3",
           "#FF6692",
           "#B6E880",
           "#FF97FF",
           "#FECB52"
          ],
          "font": {
           "color": "#2a3f5f"
          },
          "geo": {
           "bgcolor": "white",
           "lakecolor": "white",
           "landcolor": "#E5ECF6",
           "showlakes": true,
           "showland": true,
           "subunitcolor": "white"
          },
          "hoverlabel": {
           "align": "left"
          },
          "hovermode": "closest",
          "mapbox": {
           "style": "light"
          },
          "paper_bgcolor": "white",
          "plot_bgcolor": "#E5ECF6",
          "polar": {
           "angularaxis": {
            "gridcolor": "white",
            "linecolor": "white",
            "ticks": ""
           },
           "bgcolor": "#E5ECF6",
           "radialaxis": {
            "gridcolor": "white",
            "linecolor": "white",
            "ticks": ""
           }
          },
          "scene": {
           "xaxis": {
            "backgroundcolor": "#E5ECF6",
            "gridcolor": "white",
            "gridwidth": 2,
            "linecolor": "white",
            "showbackground": true,
            "ticks": "",
            "zerolinecolor": "white"
           },
           "yaxis": {
            "backgroundcolor": "#E5ECF6",
            "gridcolor": "white",
            "gridwidth": 2,
            "linecolor": "white",
            "showbackground": true,
            "ticks": "",
            "zerolinecolor": "white"
           },
           "zaxis": {
            "backgroundcolor": "#E5ECF6",
            "gridcolor": "white",
            "gridwidth": 2,
            "linecolor": "white",
            "showbackground": true,
            "ticks": "",
            "zerolinecolor": "white"
           }
          },
          "shapedefaults": {
           "line": {
            "color": "#2a3f5f"
           }
          },
          "ternary": {
           "aaxis": {
            "gridcolor": "white",
            "linecolor": "white",
            "ticks": ""
           },
           "baxis": {
            "gridcolor": "white",
            "linecolor": "white",
            "ticks": ""
           },
           "bgcolor": "#E5ECF6",
           "caxis": {
            "gridcolor": "white",
            "linecolor": "white",
            "ticks": ""
           }
          },
          "title": {
           "x": 0.05
          },
          "xaxis": {
           "automargin": true,
           "gridcolor": "white",
           "linecolor": "white",
           "ticks": "",
           "title": {
            "standoff": 15
           },
           "zerolinecolor": "white",
           "zerolinewidth": 2
          },
          "yaxis": {
           "automargin": true,
           "gridcolor": "white",
           "linecolor": "white",
           "ticks": "",
           "title": {
            "standoff": 15
           },
           "zerolinecolor": "white",
           "zerolinewidth": 2
          }
         }
        },
        "title": {
         "text": "HKNA"
        },
        "width": 800,
        "yaxis": {
         "title": {
          "text": "Significant wave height [m]"
         }
        }
       }
      }
     },
     "metadata": {}
    }
   ],
   "source": [
    "mmc.plot_timeseries(backend='plotly', width=800);"
   ]
  },
  {
   "cell_type": "code",
   "execution_count": null,
   "metadata": {},
   "outputs": [],
   "source": []
  }
 ]
}