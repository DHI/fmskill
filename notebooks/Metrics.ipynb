{
 "cells": [
  {
   "cell_type": "code",
   "execution_count": 1,
   "source": [
    "import numpy as np\r\n",
    "import matplotlib.pyplot as plt\r\n",
    "from ipywidgets import interact\r\n",
    "import fmskill.metrics as mtr"
   ],
   "outputs": [],
   "metadata": {}
  },
  {
   "cell_type": "code",
   "execution_count": 2,
   "source": [
    "metrics = [mtr.bias, mtr.rmse, mtr.urmse, mtr.mae, mtr.mape, mtr.nse, mtr.mef, mtr.si, mtr.cc, mtr.spearmanr, mtr.r2, mtr.lin_slope]"
   ],
   "outputs": [],
   "metadata": {}
  },
  {
   "cell_type": "code",
   "execution_count": 3,
   "source": [
    "n = 20\r\n",
    "x = np.linspace(2.0, 6.0, num=n)\r\n",
    "noise_vec = np.random.randn(n)"
   ],
   "outputs": [],
   "metadata": {}
  },
  {
   "cell_type": "code",
   "execution_count": 4,
   "source": [
    "def plot_metrics(bias, noise_level):\r\n",
    "    y = x + bias + noise_level*noise_vec\r\n",
    "    plt.plot(x, x, 'r.-', label=\"obs\")\r\n",
    "    plt.plot(x, y, 'o-', label=\"model\")\r\n",
    "    plt.title(f\"y = x + {bias} + {noise_level}*noise\")\r\n",
    "    ypos = max(max(x),max(y))\r\n",
    "    ystep = 1.2*(ypos - min(min(x), min(y)))/len(metrics)\r\n",
    "    for m in metrics:\r\n",
    "        plt.text(6.5, ypos, f\"{m.__name__}:\")\r\n",
    "        plt.text(7.4, ypos, f\"{m(x,y):.4f}\")\r\n",
    "        ypos = ypos - ystep\r\n",
    "    plt.legend()\r\n",
    "    plt.show()"
   ],
   "outputs": [],
   "metadata": {}
  },
  {
   "cell_type": "code",
   "execution_count": 5,
   "source": [
    "interact(plot_metrics, bias = (-1,3,0.1), noise_level=(0,2,0.05));"
   ],
   "outputs": [
    {
     "output_type": "display_data",
     "data": {
      "application/vnd.jupyter.widget-view+json": {
       "version_major": 2,
       "version_minor": 0,
       "model_id": "f4e9157d0e3b4a5aa0eb95e78c5e2df7"
      },
      "text/plain": [
       "interactive(children=(FloatSlider(value=1.0, description='bias', max=3.0, min=-1.0), FloatSlider(value=1.0, de…"
      ]
     },
     "metadata": {}
    }
   ],
   "metadata": {}
  },
  {
   "cell_type": "code",
   "execution_count": null,
   "source": [],
   "outputs": [],
   "metadata": {}
  }
 ],
 "metadata": {
  "orig_nbformat": 4,
  "language_info": {
   "name": "python",
   "version": "3.8.10",
   "mimetype": "text/x-python",
   "codemirror_mode": {
    "name": "ipython",
    "version": 3
   },
   "pygments_lexer": "ipython3",
   "nbconvert_exporter": "python",
   "file_extension": ".py"
  },
  "kernelspec": {
   "name": "python3",
   "display_name": "Python 3.8.10 64-bit ('base': conda)"
  },
  "interpreter": {
   "hash": "fa576ebcd40e010bdc0ae86b06ce09151f3424f9e9aed6893ff04f39a9299d89"
  }
 },
 "nbformat": 4,
 "nbformat_minor": 2
}