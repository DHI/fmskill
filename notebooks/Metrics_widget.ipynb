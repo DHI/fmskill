{
 "cells": [
  {
   "cell_type": "markdown",
   "source": [
    "# Metrics widget\r\n",
    "\r\n",
    "Execute this notebook to test out the different metrics. "
   ],
   "metadata": {}
  },
  {
   "cell_type": "code",
   "execution_count": 1,
   "source": [
    "import numpy as np\r\n",
    "import matplotlib.pyplot as plt\r\n",
    "from ipywidgets import interact   # pip install ipywidgets\r\n",
    "import fmskill.metrics as mtr"
   ],
   "outputs": [],
   "metadata": {}
  },
  {
   "cell_type": "code",
   "execution_count": 2,
   "source": [
    "metrics = [mtr.bias, mtr.rmse, mtr.urmse, mtr.mae, mtr.mape, mtr.mef, mtr.si, mtr.cc, mtr.spearmanr, mtr.r2, mtr.lin_slope]"
   ],
   "outputs": [],
   "metadata": {}
  },
  {
   "cell_type": "code",
   "execution_count": 3,
   "source": [
    "n = 50\r\n",
    "x = np.linspace(0.0, 6.0, num=n)\r\n",
    "y_obs = 2.0+3*np.sin(x/2.4)\r\n",
    "noise_vec = np.random.randn(n)\r\n",
    "noise_vec = noise_vec - noise_vec.mean()"
   ],
   "outputs": [],
   "metadata": {}
  },
  {
   "cell_type": "code",
   "execution_count": 4,
   "source": [
    "def plot_metrics(bias, noise_level):\r\n",
    "    y_mod = y_obs + bias + noise_level*noise_vec\r\n",
    "    plt.plot(x, y_obs, 'r.-', label=\"obs\")\r\n",
    "    plt.plot(x, y_mod, 'o-', label=\"model\")\r\n",
    "    plt.title(f\"y_model = y_obs + {bias} + {noise_level}*noise\")\r\n",
    "    ypos = max(max(y_obs),max(y_mod))\r\n",
    "    ystep = 1.2*(ypos - min(min(y_obs), min(y_mod)))/len(metrics)\r\n",
    "    for m in metrics:\r\n",
    "        plt.text(6.5, ypos, f\"{m.__name__}:\")\r\n",
    "        plt.text(8.0, ypos, f\"{m(y_obs,y_mod):.4f}\")\r\n",
    "        ypos = ypos - ystep\r\n",
    "    plt.legend()\r\n",
    "    plt.show()"
   ],
   "outputs": [],
   "metadata": {}
  },
  {
   "cell_type": "code",
   "execution_count": 6,
   "source": [
    "interact(plot_metrics, bias = (-1,3,0.1), noise_level=(0,2,0.05));"
   ],
   "outputs": [
    {
     "output_type": "display_data",
     "data": {
      "application/vnd.jupyter.widget-view+json": {
       "version_major": 2,
       "version_minor": 0,
       "model_id": "938373eaada64e89835ed75d6e640e36"
      },
      "text/plain": [
       "interactive(children=(FloatSlider(value=1.0, description='bias', max=3.0, min=-1.0), FloatSlider(value=10.0, d…"
      ]
     },
     "metadata": {}
    }
   ],
   "metadata": {}
  }
 ],
 "metadata": {
  "orig_nbformat": 4,
  "language_info": {
   "name": "python",
   "version": "3.8.10",
   "mimetype": "text/x-python",
   "codemirror_mode": {
    "name": "ipython",
    "version": 3
   },
   "pygments_lexer": "ipython3",
   "nbconvert_exporter": "python",
   "file_extension": ".py"
  },
  "kernelspec": {
   "name": "python3",
   "display_name": "Python 3.8.10 64-bit ('base': conda)"
  },
  "interpreter": {
   "hash": "fa576ebcd40e010bdc0ae86b06ce09151f3424f9e9aed6893ff04f39a9299d89"
  }
 },
 "nbformat": 4,
 "nbformat_minor": 2
}