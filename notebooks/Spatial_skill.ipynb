{
 "metadata": {
  "language_info": {
   "codemirror_mode": {
    "name": "ipython",
    "version": 3
   },
   "file_extension": ".py",
   "mimetype": "text/x-python",
   "name": "python",
   "nbconvert_exporter": "python",
   "pygments_lexer": "ipython3",
   "version": "3.8.5"
  },
  "orig_nbformat": 2,
  "kernelspec": {
   "name": "python385jvsc74a57bd01b27a185e5e38addd349bee67c436665dc7832e161e2a923b2540665280bf8fe",
   "display_name": "Python 3.8.5 64-bit ('base': conda)"
  }
 },
 "nbformat": 4,
 "nbformat_minor": 2,
 "cells": [
  {
   "source": [
    "# Spatial skill\n",
    "Demonstrate nice plotting functionality etc by the SpatialSkill class"
   ],
   "cell_type": "markdown",
   "metadata": {}
  },
  {
   "cell_type": "code",
   "execution_count": 1,
   "metadata": {},
   "outputs": [],
   "source": [
    "%load_ext autoreload\n",
    "%autoreload 2"
   ]
  },
  {
   "cell_type": "code",
   "execution_count": 2,
   "metadata": {},
   "outputs": [],
   "source": [
    "import pandas as pd\n",
    "import matplotlib.pyplot as plt\n",
    "from IPython.display import set_matplotlib_formats\n",
    "set_matplotlib_formats('png')\n",
    "\n",
    "from fmskill import ModelResult, ModelResultCollection\n",
    "from fmskill import PointObservation, TrackObservation"
   ]
  },
  {
   "cell_type": "code",
   "execution_count": 3,
   "metadata": {},
   "outputs": [
    {
     "output_type": "stream",
     "name": "stderr",
     "text": [
      "c:\\users\\jem\\source\\fmskill\\fmskill\\model.py:152: UserWarning: alti: Cannot validate as type is Undefined.\n  warnings.warn(f\"{observation.name}: Cannot validate as type is Undefined.\")\n"
     ]
    }
   ],
   "source": [
    "fn = '../tests/testdata/NorthSeaHD_and_windspeed.dfsu'\n",
    "mr = ModelResult(fn, name='HD')\n",
    "fn = '../tests/testdata/altimetry_NorthSea_20171027.csv'\n",
    "df = pd.read_csv(fn, index_col=0, parse_dates=True)\n",
    "o1 = TrackObservation(df, item=2, name='alti')\n",
    "mr.add_observation(o1, item=0)\n",
    "cc = mr.extract()"
   ]
  },
  {
   "cell_type": "code",
   "execution_count": 4,
   "metadata": {},
   "outputs": [],
   "source": [
    "ss = cc.spatial_skill()"
   ]
  },
  {
   "cell_type": "code",
   "execution_count": 5,
   "metadata": {},
   "outputs": [
    {
     "output_type": "execute_result",
     "data": {
      "text/plain": [
       "<xarray.Dataset>\n",
       "Dimensions:      (x: 5, y: 5)\n",
       "Coordinates:\n",
       "  * y            (y) float64 50.6 51.66 52.7 53.75 54.8\n",
       "  * x            (x) float64 -0.436 1.543 3.517 5.492 7.466\n",
       "    observation  <U4 'alti'\n",
       "Data variables:\n",
       "    n            (y, x) int32 3 17 0 0 0 0 50 9 0 ... 72 33 15 28 37 83 0 20 76\n",
       "    bias         (y, x) float64 -0.02626 -0.188 nan nan ... nan -0.2475 -0.1143\n",
       "    rmse         (y, x) float64 0.03291 0.2105 nan nan ... nan 0.2635 0.1466\n",
       "    urmse        (y, x) float64 0.01984 0.09468 nan nan ... nan 0.09066 0.09181\n",
       "    mae          (y, x) float64 0.02626 0.1923 nan nan ... nan 0.2475 0.1203\n",
       "    cc           (y, x) float64 0.9973 0.996 nan nan ... 0.9869 nan 0.6293 0.984\n",
       "    si           (y, x) float64 0.04662 0.08053 nan nan ... nan 0.08427 0.117\n",
       "    r2           (y, x) float64 0.994 0.9679 nan nan ... 0.9845 nan 0.94 0.9651"
      ]
     },
     "metadata": {},
     "execution_count": 5
    }
   ],
   "source": [
    "ss"
   ]
  },
  {
   "cell_type": "code",
   "execution_count": 6,
   "metadata": {},
   "outputs": [
    {
     "output_type": "display_data",
     "data": {
      "text/plain": "<Figure size 432x288 with 2 Axes>",
      "image/png": "[encoded data removed]"
     },
     "metadata": {
      "needs_background": "light"
     }
    }
   ],
   "source": [
    "ss.plot('rmse');"
   ]
  },
  {
   "cell_type": "code",
   "execution_count": 7,
   "metadata": {},
   "outputs": [
    {
     "output_type": "execute_result",
     "data": {
      "text/plain": [
       "<matplotlib.collections.QuadMesh at 0x193d6f49f40>"
      ]
     },
     "metadata": {},
     "execution_count": 7
    },
    {
     "output_type": "display_data",
     "data": {
      "text/plain": "<Figure size 432x288 with 2 Axes>",
      "image/png": "[encoded data removed]"
     },
     "metadata": {
      "needs_background": "light"
     }
    }
   ],
   "source": [
    "ss.plot('n')"
   ]
  },
  {
   "source": [
    "## Multi models"
   ],
   "cell_type": "markdown",
   "metadata": {}
  },
  {
   "cell_type": "code",
   "execution_count": 8,
   "metadata": {},
   "outputs": [],
   "source": [
    "fn = \"../tests/testdata/SW/HKZN_local_2017_DutchCoast.dfsu\"\n",
    "mr1 = ModelResult(fn, name=\"SW_1\")\n",
    "fn = \"../tests/testdata/SW/HKZN_local_2017_DutchCoast_v2.dfsu\"\n",
    "mr2 = ModelResult(fn, name=\"SW_2\")\n",
    "mr = ModelResultCollection([mr1, mr2])"
   ]
  },
  {
   "cell_type": "code",
   "execution_count": 9,
   "metadata": {},
   "outputs": [],
   "source": [
    "o1 = PointObservation(\"../tests/testdata/SW/HKNA_Hm0.dfs0\", item=0, x=4.2420, y=52.6887, name=\"HKNA\")\n",
    "mr.add_observation(o1, item=0)\n",
    "o2 = PointObservation(\"../tests/testdata/SW/eur_Hm0.dfs0\", item=0, x=3.2760, y=51.9990, name=\"EPL\")\n",
    "mr.add_observation(o2, item=0)\n",
    "o3 = TrackObservation(\"../tests/testdata/SW/Alti_c2_Dutch.dfs0\", item=3, name=\"c2\")\n",
    "mr.add_observation(o3, item=0)\n",
    "cc = mr.extract()"
   ]
  },
  {
   "source": [
    "## Spatial_skill\n",
    "Group by model"
   ],
   "cell_type": "markdown",
   "metadata": {}
  },
  {
   "cell_type": "code",
   "execution_count": 10,
   "metadata": {},
   "outputs": [],
   "source": [
    "ss = cc.spatial_skill(by='model', bins=6)"
   ]
  },
  {
   "cell_type": "code",
   "execution_count": 11,
   "metadata": {},
   "outputs": [
    {
     "output_type": "execute_result",
     "data": {
      "text/plain": [
       "array(['SW_1', 'SW_2'], dtype=object)"
      ]
     },
     "metadata": {},
     "execution_count": 11
    }
   ],
   "source": [
    "ss.mod_names"
   ]
  },
  {
   "cell_type": "code",
   "execution_count": 12,
   "metadata": {},
   "outputs": [
    {
     "output_type": "display_data",
     "data": {
      "text/plain": "<Figure size 504x216 with 3 Axes>",
      "image/png": "[encoded data removed]"
     },
     "metadata": {
      "needs_background": "light"
     }
    }
   ],
   "source": [
    "ss.plot(\"bias\");"
   ]
  },
  {
   "cell_type": "code",
   "execution_count": 13,
   "metadata": {},
   "outputs": [
    {
     "output_type": "display_data",
     "data": {
      "text/plain": "<Figure size 432x288 with 2 Axes>",
      "image/png": "[encoded data removed]"
     },
     "metadata": {
      "needs_background": "light"
     }
    }
   ],
   "source": [
    "ss.plot(\"rmse\", model='SW_1');"
   ]
  }
 ]
}