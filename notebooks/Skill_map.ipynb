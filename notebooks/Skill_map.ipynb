{
 "cells": [
  {
   "cell_type": "code",
   "execution_count": 1,
   "metadata": {},
   "outputs": [
    {
     "ename": "UnboundLocalError",
     "evalue": "cannot access local variable 'df' where it is not associated with a value",
     "output_type": "error",
     "traceback": [
      "\u001b[0;31m---------------------------------------------------------------------------\u001b[0m",
      "\u001b[0;31mUnboundLocalError\u001b[0m                         Traceback (most recent call last)",
      "Cell \u001b[0;32mIn[1], line 6\u001b[0m\n\u001b[1;32m      2\u001b[0m \u001b[39mimport\u001b[39;00m \u001b[39mmodelskill\u001b[39;00m \u001b[39mas\u001b[39;00m \u001b[39mms\u001b[39;00m\n\u001b[1;32m      4\u001b[0m fldr \u001b[39m=\u001b[39m Path(\u001b[39m\"\u001b[39m\u001b[39m../tests/testdata/SW\u001b[39m\u001b[39m\"\u001b[39m)\n\u001b[0;32m----> 6\u001b[0m o1 \u001b[39m=\u001b[39m ms\u001b[39m.\u001b[39;49mPointObservation(fldr \u001b[39m/\u001b[39;49m \u001b[39m\"\u001b[39;49m\u001b[39mHKNA_Hm0.dfs0\u001b[39;49m\u001b[39m\"\u001b[39;49m, item\u001b[39m=\u001b[39;49m\u001b[39m0\u001b[39;49m, x\u001b[39m=\u001b[39;49m\u001b[39m4.2420\u001b[39;49m, y\u001b[39m=\u001b[39;49m\u001b[39m52.6887\u001b[39;49m, name\u001b[39m=\u001b[39;49m\u001b[39m\"\u001b[39;49m\u001b[39mHKNA\u001b[39;49m\u001b[39m\"\u001b[39;49m)\n\u001b[1;32m      7\u001b[0m o2 \u001b[39m=\u001b[39m ms\u001b[39m.\u001b[39mPointObservation(fldr \u001b[39m/\u001b[39m \u001b[39m\"\u001b[39m\u001b[39meur_Hm0.dfs0\u001b[39m\u001b[39m\"\u001b[39m, item\u001b[39m=\u001b[39m\u001b[39m0\u001b[39m, x\u001b[39m=\u001b[39m\u001b[39m3.2760\u001b[39m, y\u001b[39m=\u001b[39m\u001b[39m51.9990\u001b[39m, name\u001b[39m=\u001b[39m\u001b[39m\"\u001b[39m\u001b[39mEPL\u001b[39m\u001b[39m\"\u001b[39m)\n\u001b[1;32m      9\u001b[0m mr1 \u001b[39m=\u001b[39m ms\u001b[39m.\u001b[39mDfsuModelResult(\n\u001b[1;32m     10\u001b[0m         fldr \u001b[39m/\u001b[39m \u001b[39m\"\u001b[39m\u001b[39mHKZN_local_2017_DutchCoast.dfsu\u001b[39m\u001b[39m\"\u001b[39m, item\u001b[39m=\u001b[39m\u001b[39m0\u001b[39m, name\u001b[39m=\u001b[39m\u001b[39m\"\u001b[39m\u001b[39mSW_1\u001b[39m\u001b[39m\"\u001b[39m\n\u001b[1;32m     11\u001b[0m     )\n",
      "File \u001b[0;32m~/src/modelskill/modelskill/observation.py:205\u001b[0m, in \u001b[0;36mPointObservation.__init__\u001b[0;34m(self, data, item, x, y, z, name, quantity)\u001b[0m\n\u001b[1;32m    200\u001b[0m \u001b[39melse\u001b[39;00m:\n\u001b[1;32m    201\u001b[0m     \u001b[39mraise\u001b[39;00m \u001b[39mTypeError\u001b[39;00m(\n\u001b[1;32m    202\u001b[0m         \u001b[39mf\u001b[39m\u001b[39m\"\u001b[39m\u001b[39minput must be str, mikeio.DataArray/Dataset or pandas Series/DataFrame! Given input has type \u001b[39m\u001b[39m{\u001b[39;00m\u001b[39mtype\u001b[39m(data)\u001b[39m}\u001b[39;00m\u001b[39m\"\u001b[39m\n\u001b[1;32m    203\u001b[0m     )\n\u001b[0;32m--> 205\u001b[0m \u001b[39mif\u001b[39;00m \u001b[39mnot\u001b[39;00m df\u001b[39m.\u001b[39mindex\u001b[39m.\u001b[39mis_unique:\n\u001b[1;32m    206\u001b[0m     \u001b[39m# TODO: duplicates_keep=\"mean\",\"first\",\"last\"\u001b[39;00m\n\u001b[1;32m    207\u001b[0m     \u001b[39mraise\u001b[39;00m \u001b[39mValueError\u001b[39;00m(\n\u001b[1;32m    208\u001b[0m         \u001b[39m\"\u001b[39m\u001b[39mTime axis has duplicate entries. It must be monotonically increasing.\u001b[39m\u001b[39m\"\u001b[39m\n\u001b[1;32m    209\u001b[0m     )\n\u001b[1;32m    211\u001b[0m \u001b[39msuper\u001b[39m()\u001b[39m.\u001b[39m\u001b[39m__init__\u001b[39m(\n\u001b[1;32m    212\u001b[0m     name\u001b[39m=\u001b[39mname,\n\u001b[1;32m    213\u001b[0m     data\u001b[39m=\u001b[39mdf,\n\u001b[1;32m    214\u001b[0m     quantity\u001b[39m=\u001b[39mquantity,\n\u001b[1;32m    215\u001b[0m )\n",
      "\u001b[0;31mUnboundLocalError\u001b[0m: cannot access local variable 'df' where it is not associated with a value"
     ]
    }
   ],
   "source": [
    "from pathlib import Path\n",
    "import modelskill as ms\n",
    "\n",
    "fldr = Path(\"../tests/testdata/SW\")\n",
    "\n",
    "o1 = ms.PointObservation(\"../tests/testdata/SW/HKNA_Hm0.dfs0\", item=0, x=4.2420, y=52.6887, name=\"HKNA\")\n",
    "o2 = ms.PointObservation(\"../tests/testdata/SW/eur_Hm0.dfs0\", item=0, x=3.2760, y=51.9990, name=\"EPL\")\n",
    "\n",
    "mr1 = ms.DfsuModelResult(\n",
    "        \"../tests/testdata/SW/HKZN_local_2017_DutchCoast.dfsu\", item=0, name=\"SW_1\"\n",
    "    )\n",
    "cmp = ms.compare(obs=[o1, o2], mod=mr1)\n",
    "cmp\n",
    "#s = cmp.skill()\n",
    "#gdf = s.to_geo_dataframe()"
   ]
  },
  {
   "cell_type": "code",
   "execution_count": null,
   "metadata": {},
   "outputs": [],
   "source": []
  }
 ],
 "metadata": {
  "kernelspec": {
   "display_name": "Python 3",
   "language": "python",
   "name": "python3"
  },
  "language_info": {
   "codemirror_mode": {
    "name": "ipython",
    "version": 3
   },
   "file_extension": ".py",
   "mimetype": "text/x-python",
   "name": "python",
   "nbconvert_exporter": "python",
   "pygments_lexer": "ipython3",
   "version": "3.11.1"
  },
  "orig_nbformat": 4
 },
 "nbformat": 4,
 "nbformat_minor": 2
}
