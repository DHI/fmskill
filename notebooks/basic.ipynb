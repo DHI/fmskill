{
 "metadata": {
  "language_info": {
   "codemirror_mode": {
    "name": "ipython",
    "version": 3
   },
   "file_extension": ".py",
   "mimetype": "text/x-python",
   "name": "python",
   "nbconvert_exporter": "python",
   "pygments_lexer": "ipython3",
   "version": "3.8.5-final"
  },
  "orig_nbformat": 2,
  "kernelspec": {
   "name": "python3",
   "display_name": "Python 3",
   "language": "python"
  }
 },
 "nbformat": 4,
 "nbformat_minor": 2,
 "cells": [
  {
   "cell_type": "code",
   "execution_count": 2,
   "metadata": {},
   "outputs": [],
   "source": [
    "import numpy as np\n",
    "from mikefm_skill.model import ModelResult\n",
    "from mikefm_skill.observation import PointObservation"
   ]
  },
  {
   "cell_type": "code",
   "execution_count": 3,
   "metadata": {},
   "outputs": [],
   "source": [
    "%load_ext autoreload\n",
    "%autoreload 2"
   ]
  },
  {
   "cell_type": "code",
   "execution_count": 23,
   "metadata": {},
   "outputs": [
    {
     "output_type": "execute_result",
     "data": {
      "text/plain": [
       "Dfsu2D\n",
       "Number of elements: 3612\n",
       "Number of nodes: 2046\n",
       "Projection: UTM-33\n",
       "Items:\n",
       "  0:  Surface elevation <Surface Elevation> (meter)\n",
       "  1:  Total water depth <Water Depth> (meter)\n",
       "  2:  U velocity <u velocity component> (meter per sec)\n",
       "  3:  V velocity <v velocity component> (meter per sec)\n",
       "  4:  Wind U velocity <Wind Velocity> (meter per sec)\n",
       "  5:  Wind V velocity <Wind Velocity> (meter per sec)\n",
       "  6:  Air pressure <Pressure2> (pascal)\n",
       "Time: 51 steps with dt=12000.0s\n",
       "      2018-03-04 00:00:00 -- 2018-03-10 22:40:00"
      ]
     },
     "metadata": {},
     "execution_count": 23
    }
   ],
   "source": [
    "fn = '../tests/testdata/Oresund2D.dfsu'\n",
    "mr = ModelResult(fn)\n",
    "mr.dfs"
   ]
  },
  {
   "cell_type": "code",
   "execution_count": 14,
   "metadata": {},
   "outputs": [
    {
     "output_type": "execute_result",
     "data": {
      "text/plain": [
       "PointObservation: smhi_2095_klagshamn, x=366844.15, y=6154291.6"
      ]
     },
     "metadata": {},
     "execution_count": 14
    }
   ],
   "source": [
    "fn = '../tests/testdata/smhi_2095_klagshamn.dfs0'\n",
    "o1 = PointObservation(fn, 0.36684415E+06, 0.61542916E+07, item=0) \n",
    "o1"
   ]
  },
  {
   "cell_type": "code",
   "execution_count": 18,
   "metadata": {},
   "outputs": [
    {
     "output_type": "execute_result",
     "data": {
      "text/plain": [
       "datetime.datetime(2020, 9, 28, 0, 0)"
      ]
     },
     "metadata": {},
     "execution_count": 18
    }
   ],
   "source": [
    "o1.end_time"
   ]
  },
  {
   "cell_type": "code",
   "execution_count": 19,
   "metadata": {},
   "outputs": [
    {
     "output_type": "execute_result",
     "data": {
      "text/plain": [
       "745"
      ]
     },
     "metadata": {},
     "execution_count": 19
    }
   ],
   "source": [
    "o1.subset_time(start='2018-03-01', end='2018-04-01')\n",
    "o1.n"
   ]
  },
  {
   "cell_type": "code",
   "execution_count": 25,
   "metadata": {},
   "outputs": [],
   "source": [
    "mr.add_observation(o1, item='Surface elevation')"
   ]
  },
  {
   "cell_type": "code",
   "execution_count": 27,
   "metadata": {},
   "outputs": [
    {
     "output_type": "execute_result",
     "data": {
      "text/plain": [
       "[PointObservation: smhi_2095_klagshamn, x=366844.15, y=6154291.6]"
      ]
     },
     "metadata": {},
     "execution_count": 27
    }
   ],
   "source": [
    "mr.observations"
   ]
  },
  {
   "cell_type": "code",
   "execution_count": 40,
   "metadata": {},
   "outputs": [
    {
     "output_type": "execute_result",
     "data": {
      "text/plain": [
       "array([1854])"
      ]
     },
     "metadata": {},
     "execution_count": 40
    }
   ],
   "source": [
    "xy = [o1.x, o1.y]\n",
    "#ids, dists = mr.dfs._find_n_nearest_2d_elements(xy, n=2)\n",
    "#print(ids, dists)\n",
    "elemids, _ = mr.dfs.get_2d_interpolant(xy, n_nearest=1)\n",
    "elemids"
   ]
  },
  {
   "cell_type": "code",
   "execution_count": 43,
   "metadata": {},
   "outputs": [
    {
     "output_type": "stream",
     "name": "stderr",
     "text": [
      "100%|██████████| 51/51 [00:00<00:00, 4249.04it/s]\n"
     ]
    }
   ],
   "source": [
    "mrp = mr._extract_point_observation(o1, item=0)"
   ]
  },
  {
   "cell_type": "code",
   "execution_count": 28,
   "metadata": {},
   "outputs": [],
   "source": [
    "import matplotlib.pyplot as plt"
   ]
  },
  {
   "cell_type": "code",
   "execution_count": null,
   "metadata": {},
   "outputs": [],
   "source": [
    "\n",
    "plt.plot"
   ]
  }
 ]
}