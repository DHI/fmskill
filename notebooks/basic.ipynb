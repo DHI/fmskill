{
 "metadata": {
  "language_info": {
   "codemirror_mode": {
    "name": "ipython",
    "version": 3
   },
   "file_extension": ".py",
   "mimetype": "text/x-python",
   "name": "python",
   "nbconvert_exporter": "python",
   "pygments_lexer": "ipython3",
   "version": "3.8.5-final"
  },
  "orig_nbformat": 2,
  "kernelspec": {
   "name": "python3",
   "display_name": "Python 3",
   "language": "python"
  }
 },
 "nbformat": 4,
 "nbformat_minor": 2,
 "cells": [
  {
   "cell_type": "code",
   "execution_count": 1,
   "metadata": {},
   "outputs": [],
   "source": [
    "import numpy as np\n",
    "from mikefm_skill.model import ModelResult\n",
    "from mikefm_skill.observation import PointObservation"
   ]
  },
  {
   "cell_type": "code",
   "execution_count": 2,
   "metadata": {},
   "outputs": [],
   "source": [
    "%load_ext autoreload\n",
    "%autoreload 2"
   ]
  },
  {
   "cell_type": "code",
   "execution_count": 3,
   "metadata": {},
   "outputs": [
    {
     "output_type": "execute_result",
     "data": {
      "text/plain": [
       "ModelResult\n",
       "../tests/testdata/Oresund2D.dfsu"
      ]
     },
     "metadata": {},
     "execution_count": 3
    }
   ],
   "source": [
    "fn = '../tests/testdata/Oresund2D.dfsu'\n",
    "mr = ModelResult(fn)\n",
    "mr"
   ]
  },
  {
   "cell_type": "code",
   "execution_count": 9,
   "metadata": {},
   "outputs": [
    {
     "output_type": "execute_result",
     "data": {
      "text/plain": [
       "PointObservation: smhi_2095_klagshamn, x=366844.15, y=6154291.6"
      ]
     },
     "metadata": {},
     "execution_count": 9
    }
   ],
   "source": [
    "fn = '../tests/testdata/smhi_2095_klagshamn.dfs0'\n",
    "o1 = PointObservation(fn, 0.36684415E+06, 0.61542916E+07, item=0) #lon=12.89106996, lat=55.5165157\n",
    "o1"
   ]
  },
  {
   "cell_type": "code",
   "execution_count": 57,
   "metadata": {},
   "outputs": [],
   "source": [
    "o1.subset_time(start='2016-01-01', end='2016-01-02')"
   ]
  },
  {
   "cell_type": "code",
   "execution_count": 16,
   "metadata": {},
   "outputs": [],
   "source": [
    "mr.add_observation(o1, item=0)"
   ]
  },
  {
   "cell_type": "code",
   "execution_count": 40,
   "metadata": {},
   "outputs": [
    {
     "output_type": "execute_result",
     "data": {
      "text/plain": [
       "array([1854])"
      ]
     },
     "metadata": {},
     "execution_count": 40
    }
   ],
   "source": [
    "xy = [o1.x, o1.y]\n",
    "#ids, dists = mr.dfs._find_n_nearest_2d_elements(xy, n=2)\n",
    "#print(ids, dists)\n",
    "elemids, _ = mr.dfs.get_2d_interpolant(xy, n_nearest=1)\n",
    "elemids"
   ]
  },
  {
   "cell_type": "code",
   "execution_count": 43,
   "metadata": {},
   "outputs": [
    {
     "output_type": "stream",
     "name": "stderr",
     "text": [
      "100%|██████████| 51/51 [00:00<00:00, 4249.04it/s]\n"
     ]
    }
   ],
   "source": [
    "mrp = mr._extract_point_observation(o1, item=0)"
   ]
  },
  {
   "cell_type": "code",
   "execution_count": null,
   "metadata": {},
   "outputs": [],
   "source": []
  }
 ]
}