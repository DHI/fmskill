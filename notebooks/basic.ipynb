{
 "metadata": {
  "language_info": {
   "codemirror_mode": {
    "name": "ipython",
    "version": 3
   },
   "file_extension": ".py",
   "mimetype": "text/x-python",
   "name": "python",
   "nbconvert_exporter": "python",
   "pygments_lexer": "ipython3",
   "version": "3.8.5-final"
  },
  "orig_nbformat": 2,
  "kernelspec": {
   "name": "python3",
   "display_name": "Python 3",
   "language": "python"
  }
 },
 "nbformat": 4,
 "nbformat_minor": 2,
 "cells": [
  {
   "cell_type": "code",
   "execution_count": 1,
   "metadata": {},
   "outputs": [],
   "source": [
    "from mikefm_skill.model import ModelResult\n",
    "from mikefm_skill.observation import PointObservation"
   ]
  },
  {
   "cell_type": "code",
   "execution_count": 2,
   "metadata": {},
   "outputs": [],
   "source": [
    "%load_ext autoreload\n",
    "%autoreload 2"
   ]
  },
  {
   "cell_type": "code",
   "execution_count": 4,
   "metadata": {},
   "outputs": [
    {
     "output_type": "execute_result",
     "data": {
      "text/plain": [
       "ModelResult\n",
       "../tests/testdata/Oresund2D.dfsu"
      ]
     },
     "metadata": {},
     "execution_count": 4
    }
   ],
   "source": [
    "fn = '../tests/testdata/Oresund2D.dfsu'\n",
    "mr = ModelResult(fn)\n",
    "mr"
   ]
  },
  {
   "cell_type": "code",
   "execution_count": 5,
   "metadata": {},
   "outputs": [
    {
     "output_type": "execute_result",
     "data": {
      "text/plain": [
       "PointObservation\n",
       "../tests/testdata/smhi_2095_klagshamn.dfs0"
      ]
     },
     "metadata": {},
     "execution_count": 5
    }
   ],
   "source": [
    "fn = '../tests/testdata/smhi_2095_klagshamn.dfs0'\n",
    "o1 = PointObservation(fn, 12.89106996, 55.5165157)\n",
    "o1"
   ]
  },
  {
   "cell_type": "code",
   "execution_count": null,
   "metadata": {},
   "outputs": [],
   "source": []
  }
 ]
}