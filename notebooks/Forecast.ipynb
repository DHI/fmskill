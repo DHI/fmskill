{
 "cells": [
  {
   "cell_type": "markdown",
   "metadata": {},
   "source": [
    "## Forecast skill WIP"
   ]
  },
  {
   "cell_type": "code",
   "execution_count": 1,
   "metadata": {},
   "outputs": [],
   "source": [
    "import polars as pl"
   ]
  },
  {
   "cell_type": "markdown",
   "metadata": {},
   "source": [
    "Let's grab some data and make some simple forecasts. Just to start thinking about the workflow and how to format data."
   ]
  },
  {
   "cell_type": "code",
   "execution_count": 2,
   "metadata": {},
   "outputs": [],
   "source": [
    "df = pl.read_csv(\"../tests/testdata/Vistula/sim1/6158100.csv\", try_parse_dates=True, columns=[\"Date\", \"Qobs\"])"
   ]
  },
  {
   "cell_type": "code",
   "execution_count": 3,
   "metadata": {},
   "outputs": [],
   "source": [
    "from datetime import timedelta\n",
    "\n",
    "data = []\n",
    "\n",
    "# inefficient way, but pre-mature optimization is the root of all evil\n",
    "for row in df.rows(named=True):\n",
    "    for i in range(1, 8):\n",
    "        data.append(\n",
    "            {\n",
    "                \"time_of_forecast\": row[\"Date\"],\n",
    "                \"valid_time\": row[\"Date\"] + timedelta(days=i),\n",
    "                \"persistence\": row[\"Qobs\"],\n",
    "            }\n",
    "        )"
   ]
  },
  {
   "cell_type": "code",
   "execution_count": 4,
   "metadata": {},
   "outputs": [
    {
     "data": {
      "text/html": [
       "<div><style>\n",
       ".dataframe > thead > tr,\n",
       ".dataframe > tbody > tr {\n",
       "  text-align: right;\n",
       "  white-space: pre-wrap;\n",
       "}\n",
       "</style>\n",
       "<small>shape: (5, 6)</small><table border=\"1\" class=\"dataframe\"><thead><tr><th>lead_time</th><th>time_of_forecast</th><th>valid_time</th><th>persistence</th><th>climatology</th><th>observed</th></tr><tr><td>i64</td><td>date</td><td>date</td><td>f64</td><td>f64</td><td>f64</td></tr></thead><tbody><tr><td>144</td><td>2007-06-30</td><td>2007-07-06</td><td>8.206</td><td>16.077526</td><td>14.7</td></tr><tr><td>168</td><td>2003-12-26</td><td>2004-01-02</td><td>3.228</td><td>16.077526</td><td>3.4</td></tr><tr><td>48</td><td>2009-10-25</td><td>2009-10-27</td><td>33.07</td><td>16.077526</td><td>25.86</td></tr><tr><td>144</td><td>2006-07-08</td><td>2006-07-14</td><td>18.7</td><td>16.077526</td><td>13.68</td></tr><tr><td>24</td><td>2001-04-01</td><td>2001-04-02</td><td>11.83</td><td>16.077526</td><td>10.8</td></tr></tbody></table></div>"
      ],
      "text/plain": [
       "shape: (5, 6)\n",
       "┌───────────┬──────────────────┬────────────┬─────────────┬─────────────┬──────────┐\n",
       "│ lead_time ┆ time_of_forecast ┆ valid_time ┆ persistence ┆ climatology ┆ observed │\n",
       "│ ---       ┆ ---              ┆ ---        ┆ ---         ┆ ---         ┆ ---      │\n",
       "│ i64       ┆ date             ┆ date       ┆ f64         ┆ f64         ┆ f64      │\n",
       "╞═══════════╪══════════════════╪════════════╪═════════════╪═════════════╪══════════╡\n",
       "│ 144       ┆ 2007-06-30       ┆ 2007-07-06 ┆ 8.206       ┆ 16.077526   ┆ 14.7     │\n",
       "│ 168       ┆ 2003-12-26       ┆ 2004-01-02 ┆ 3.228       ┆ 16.077526   ┆ 3.4      │\n",
       "│ 48        ┆ 2009-10-25       ┆ 2009-10-27 ┆ 33.07       ┆ 16.077526   ┆ 25.86    │\n",
       "│ 144       ┆ 2006-07-08       ┆ 2006-07-14 ┆ 18.7        ┆ 16.077526   ┆ 13.68    │\n",
       "│ 24        ┆ 2001-04-01       ┆ 2001-04-02 ┆ 11.83       ┆ 16.077526   ┆ 10.8     │\n",
       "└───────────┴──────────────────┴────────────┴─────────────┴─────────────┴──────────┘"
      ]
     },
     "execution_count": 4,
     "metadata": {},
     "output_type": "execute_result"
    }
   ],
   "source": [
    "fcast_df = (\n",
    "    pl.DataFrame(data)\n",
    "    .join(df, left_on=\"valid_time\", right_on=\"Date\")\n",
    "    .with_columns(pl.col(\"Qobs\").mean().alias(\"climatology\"),\n",
    "                  (pl.col(\"valid_time\") - pl.col(\"time_of_forecast\")).dt.total_hours().alias(\"lead_time\"))\n",
    "    .select([\"lead_time\",pl.col(\"time_of_forecast\").dt.date(), pl.col(\"valid_time\").dt.date(), \"persistence\", \"climatology\", pl.col(\"Qobs\").alias(\"observed\")])\n",
    ")\n",
    "fcast_df.sample(5)"
   ]
  },
  {
   "cell_type": "code",
   "execution_count": 5,
   "metadata": {},
   "outputs": [
    {
     "name": "stderr",
     "output_type": "stream",
     "text": [
      "/home/jan/src/modelskill/.venv/lib/python3.12/site-packages/pandas/core/generic.py:3328: UserWarning: Converting non-nanosecond precision datetime values to nanosecond precision. This behavior can eventually be relaxed in xarray, as it is an artifact from pandas which is now beginning to support non-nanosecond precision values. This warning is caused by passing non-nanosecond np.datetime64 or np.timedelta64 values to the DataArray or Variable constructor; it can be silenced by converting the values to nanosecond precision ahead of time.\n",
      "  return xarray.Dataset.from_dataframe(self)\n",
      "/home/jan/src/modelskill/.venv/lib/python3.12/site-packages/pandas/core/generic.py:3328: UserWarning: Converting non-nanosecond precision datetime values to nanosecond precision. This behavior can eventually be relaxed in xarray, as it is an artifact from pandas which is now beginning to support non-nanosecond precision values. This warning is caused by passing non-nanosecond np.datetime64 or np.timedelta64 values to the DataArray or Variable constructor; it can be silenced by converting the values to nanosecond precision ahead of time.\n",
      "  return xarray.Dataset.from_dataframe(self)\n"
     ]
    }
   ],
   "source": [
    "import modelskill as ms\n",
    "\n",
    "cmp = ms.from_matched(fcast_df.to_pandas().set_index(\"valid_time\"), obs_item=\"observed\", mod_items=[\"persistence\", \"climatology\"], aux_items=[\"time_of_forecast\",\"lead_time\"])"
   ]
  },
  {
   "cell_type": "code",
   "execution_count": 6,
   "metadata": {},
   "outputs": [
    {
     "data": {
      "text/plain": [
       "<Comparer>\n",
       "Quantity:  []\n",
       "Observation: observed, n_points=25543\n",
       "Model(s):\n",
       "0: persistence\n",
       "1: climatology\n",
       " Auxiliary: time_of_forecast\n",
       " Auxiliary: lead_time"
      ]
     },
     "execution_count": 6,
     "metadata": {},
     "output_type": "execute_result"
    }
   ],
   "source": [
    "cmp"
   ]
  },
  {
   "cell_type": "code",
   "execution_count": 7,
   "metadata": {},
   "outputs": [
    {
     "data": {
      "text/html": [
       "<div>\n",
       "<style scoped>\n",
       "    .dataframe tbody tr th:only-of-type {\n",
       "        vertical-align: middle;\n",
       "    }\n",
       "\n",
       "    .dataframe tbody tr th {\n",
       "        vertical-align: top;\n",
       "    }\n",
       "\n",
       "    .dataframe thead th {\n",
       "        text-align: right;\n",
       "    }\n",
       "</style>\n",
       "<table border=\"1\" class=\"dataframe\">\n",
       "  <thead>\n",
       "    <tr style=\"text-align: right;\">\n",
       "      <th></th>\n",
       "      <th>observation</th>\n",
       "      <th>n</th>\n",
       "      <th>bias</th>\n",
       "      <th>rmse</th>\n",
       "      <th>urmse</th>\n",
       "      <th>mae</th>\n",
       "      <th>cc</th>\n",
       "      <th>si</th>\n",
       "      <th>r2</th>\n",
       "    </tr>\n",
       "    <tr>\n",
       "      <th>lead_time</th>\n",
       "      <th></th>\n",
       "      <th></th>\n",
       "      <th></th>\n",
       "      <th></th>\n",
       "      <th></th>\n",
       "      <th></th>\n",
       "      <th></th>\n",
       "      <th></th>\n",
       "      <th></th>\n",
       "    </tr>\n",
       "  </thead>\n",
       "  <tbody>\n",
       "    <tr>\n",
       "      <th>24</th>\n",
       "      <td>observed</td>\n",
       "      <td>7304</td>\n",
       "      <td>0.003085</td>\n",
       "      <td>13.038795</td>\n",
       "      <td>13.038795</td>\n",
       "      <td>6.204844</td>\n",
       "      <td>0.635496</td>\n",
       "      <td>0.811446</td>\n",
       "      <td>0.398721</td>\n",
       "    </tr>\n",
       "    <tr>\n",
       "      <th>48</th>\n",
       "      <td>observed</td>\n",
       "      <td>7302</td>\n",
       "      <td>0.000276</td>\n",
       "      <td>14.926719</td>\n",
       "      <td>14.926719</td>\n",
       "      <td>7.224847</td>\n",
       "      <td>0.503567</td>\n",
       "      <td>0.928766</td>\n",
       "      <td>0.212119</td>\n",
       "    </tr>\n",
       "    <tr>\n",
       "      <th>72</th>\n",
       "      <td>observed</td>\n",
       "      <td>7300</td>\n",
       "      <td>-0.002651</td>\n",
       "      <td>16.218168</td>\n",
       "      <td>16.218168</td>\n",
       "      <td>7.906793</td>\n",
       "      <td>0.403128</td>\n",
       "      <td>1.008935</td>\n",
       "      <td>0.070036</td>\n",
       "    </tr>\n",
       "    <tr>\n",
       "      <th>96</th>\n",
       "      <td>observed</td>\n",
       "      <td>7298</td>\n",
       "      <td>-0.005966</td>\n",
       "      <td>17.063058</td>\n",
       "      <td>17.063057</td>\n",
       "      <td>8.346980</td>\n",
       "      <td>0.332978</td>\n",
       "      <td>1.061299</td>\n",
       "      <td>-0.029218</td>\n",
       "    </tr>\n",
       "    <tr>\n",
       "      <th>120</th>\n",
       "      <td>observed</td>\n",
       "      <td>7296</td>\n",
       "      <td>-0.009780</td>\n",
       "      <td>17.637476</td>\n",
       "      <td>17.637473</td>\n",
       "      <td>8.652966</td>\n",
       "      <td>0.283305</td>\n",
       "      <td>1.096823</td>\n",
       "      <td>-0.099505</td>\n",
       "    </tr>\n",
       "    <tr>\n",
       "      <th>144</th>\n",
       "      <td>observed</td>\n",
       "      <td>7294</td>\n",
       "      <td>-0.014550</td>\n",
       "      <td>17.966940</td>\n",
       "      <td>17.966934</td>\n",
       "      <td>8.851793</td>\n",
       "      <td>0.254114</td>\n",
       "      <td>1.117104</td>\n",
       "      <td>-0.140784</td>\n",
       "    </tr>\n",
       "    <tr>\n",
       "      <th>168</th>\n",
       "      <td>observed</td>\n",
       "      <td>7292</td>\n",
       "      <td>-0.018521</td>\n",
       "      <td>18.126364</td>\n",
       "      <td>18.126354</td>\n",
       "      <td>9.032625</td>\n",
       "      <td>0.239885</td>\n",
       "      <td>1.126807</td>\n",
       "      <td>-0.160933</td>\n",
       "    </tr>\n",
       "  </tbody>\n",
       "</table>\n",
       "</div>"
      ],
      "text/plain": [
       "          observation     n      bias       rmse      urmse       mae  \\\n",
       "lead_time                                                               \n",
       "24           observed  7304  0.003085  13.038795  13.038795  6.204844   \n",
       "48           observed  7302  0.000276  14.926719  14.926719  7.224847   \n",
       "72           observed  7300 -0.002651  16.218168  16.218168  7.906793   \n",
       "96           observed  7298 -0.005966  17.063058  17.063057  8.346980   \n",
       "120          observed  7296 -0.009780  17.637476  17.637473  8.652966   \n",
       "144          observed  7294 -0.014550  17.966940  17.966934  8.851793   \n",
       "168          observed  7292 -0.018521  18.126364  18.126354  9.032625   \n",
       "\n",
       "                 cc        si        r2  \n",
       "lead_time                                \n",
       "24         0.635496  0.811446  0.398721  \n",
       "48         0.503567  0.928766  0.212119  \n",
       "72         0.403128  1.008935  0.070036  \n",
       "96         0.332978  1.061299 -0.029218  \n",
       "120        0.283305  1.096823 -0.099505  \n",
       "144        0.254114  1.117104 -0.140784  \n",
       "168        0.239885  1.126807 -0.160933  "
      ]
     },
     "execution_count": 7,
     "metadata": {},
     "output_type": "execute_result"
    }
   ],
   "source": [
    "cmp.skill(by=\"lead_time\")"
   ]
  },
  {
   "cell_type": "code",
   "execution_count": 8,
   "metadata": {},
   "outputs": [
    {
     "data": {
      "image/png": "[encoded data removed]",
      "text/plain": [
       "<Figure size 1200x400 with 2 Axes>"
      ]
     },
     "metadata": {},
     "output_type": "display_data"
    }
   ],
   "source": [
    "import matplotlib.pyplot as plt\n",
    "fig, ax = plt.subplots(ncols=2, figsize=(12, 4))\n",
    "\n",
    "cmp.skill(by=\"lead_time\").rmse.plot.bar(ax=ax[0]);\n",
    "cmp.skill(by=\"lead_time\").rmse.plot.line(ax=ax[1]);"
   ]
  },
  {
   "cell_type": "code",
   "execution_count": null,
   "metadata": {},
   "outputs": [],
   "source": []
  }
 ],
 "metadata": {
  "kernelspec": {
   "display_name": ".venv",
   "language": "python",
   "name": "python3"
  },
  "language_info": {
   "codemirror_mode": {
    "name": "ipython",
    "version": 3
   },
   "file_extension": ".py",
   "mimetype": "text/x-python",
   "name": "python",
   "nbconvert_exporter": "python",
   "pygments_lexer": "ipython3",
   "version": "3.12.1"
  }
 },
 "nbformat": 4,
 "nbformat_minor": 2
}
