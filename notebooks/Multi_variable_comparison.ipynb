{
 "metadata": {
  "language_info": {
   "codemirror_mode": {
    "name": "ipython",
    "version": 3
   },
   "file_extension": ".py",
   "mimetype": "text/x-python",
   "name": "python",
   "nbconvert_exporter": "python",
   "pygments_lexer": "ipython3",
   "version": "3.8.5"
  },
  "orig_nbformat": 2,
  "kernelspec": {
   "name": "python385jvsc74a57bd01b27a185e5e38addd349bee67c436665dc7832e161e2a923b2540665280bf8fe",
   "display_name": "Python 3.8.5 64-bit ('base': conda)"
  }
 },
 "nbformat": 4,
 "nbformat_minor": 2,
 "cells": [
  {
   "source": [
    "# Multi variable comparison\n",
    "Assessing both wave height and wind speed at the same time"
   ],
   "cell_type": "markdown",
   "metadata": {}
  },
  {
   "cell_type": "code",
   "execution_count": 1,
   "metadata": {},
   "outputs": [],
   "source": [
    "import matplotlib.pyplot as plt\n",
    "import pandas as pd\n",
    "import numpy as np\n",
    "from fmskill import ModelResult, ModelResultCollection, PointObservation, TrackObservation"
   ]
  },
  {
   "cell_type": "code",
   "execution_count": 2,
   "metadata": {},
   "outputs": [],
   "source": [
    "%load_ext autoreload\n",
    "%autoreload 2"
   ]
  },
  {
   "source": [
    "## Define observations"
   ],
   "cell_type": "markdown",
   "metadata": {}
  },
  {
   "cell_type": "code",
   "execution_count": 3,
   "metadata": {},
   "outputs": [],
   "source": [
    "# wave height\n",
    "o1 = PointObservation('../tests/testdata/SW/HKNA_Hm0.dfs0', item=0, x=4.2420, y=52.6887, name=\"HKNA_Hm0\")\n",
    "o2 = PointObservation(\"../tests/testdata/SW/eur_Hm0.dfs0\", item=0, x=3.2760, y=51.9990, name=\"EPL_Hm0\")\n",
    "o3 = TrackObservation(\"../tests/testdata/SW/Alti_c2_Dutch.dfs0\", item=3, name=\"c2_Hm0\")\n",
    "\n",
    "# wind speed\n",
    "wind1 = PointObservation('../tests/testdata/SW/HKNA_wind.dfs0', item=0, x=4.2420, y=52.6887, name=\"HKNA_wind\")\n",
    "wind2 = PointObservation('../tests/testdata/SW/F16_wind.dfs0', item=0, x=4.01222, y=54.1167, name=\"F16_wind\")\n",
    "wind3 = TrackObservation(\"../tests/testdata/SW/Alti_c2_Dutch.dfs0\", item=2, name=\"c2_wind\")"
   ]
  },
  {
   "cell_type": "code",
   "execution_count": 4,
   "metadata": {},
   "outputs": [
    {
     "output_type": "execute_result",
     "data": {
      "text/plain": [
       "'Significant_wave_height'"
      ]
     },
     "metadata": {},
     "execution_count": 4
    }
   ],
   "source": [
    "o1.variable_name"
   ]
  },
  {
   "source": [
    "## Define model results"
   ],
   "cell_type": "markdown",
   "metadata": {}
  },
  {
   "cell_type": "code",
   "execution_count": 5,
   "metadata": {},
   "outputs": [],
   "source": [
    "mr1 = ModelResult('../tests/testdata/SW/HKZN_local_2017_DutchCoast.dfsu', name='SW_1')\n",
    "mr2 = ModelResult('../tests/testdata/SW/HKZN_local_2017_DutchCoast_v2.dfsu', name='SW_2')"
   ]
  },
  {
   "cell_type": "code",
   "execution_count": 6,
   "metadata": {},
   "outputs": [
    {
     "output_type": "execute_result",
     "data": {
      "text/plain": [
       "[Sign. Wave Height <Significant wave height> (meter),\n",
       " Max. Wave Height <Maximum wave height> (meter),\n",
       " Peak Wave Period <Wave period> (second),\n",
       " Wave Period, T01 <Wave period> (second),\n",
       " Wave Period, T02 <Wave period> (second),\n",
       " Peak Wave Direction <Wave direction> (radian),\n",
       " Mean Wave Direction <Mean Wave Direction> (degree),\n",
       " Dir. Stand. Deviation <Directional Standard Deviation> (degree),\n",
       " x-comp. of wave height vector <u velocity component> (meter per sec),\n",
       " y-comp. of wave height vector <v velocity component> (meter per sec),\n",
       " Surface elevation <Surface Elevation> (meter),\n",
       " Current velocity, U <u velocity component> (meter per sec),\n",
       " Current velocity, V <v velocity component> (meter per sec),\n",
       " Wind speed <Wind speed> (meter per sec),\n",
       " Wind direction <Wind Direction> (degree)]"
      ]
     },
     "metadata": {},
     "execution_count": 6
    }
   ],
   "source": [
    "mr1.dfs.items"
   ]
  },
  {
   "source": [
    "## Associate model and observations and extract"
   ],
   "cell_type": "markdown",
   "metadata": {}
  },
  {
   "cell_type": "code",
   "execution_count": 7,
   "metadata": {},
   "outputs": [],
   "source": [
    "mr = ModelResultCollection([mr1, mr2])\n",
    "#mr = mr1"
   ]
  },
  {
   "cell_type": "code",
   "execution_count": 8,
   "metadata": {},
   "outputs": [
    {
     "output_type": "execute_result",
     "data": {
      "text/plain": [
       "{'HKNA_Hm0': PointObservation: HKNA_Hm0, x=4.242, y=52.6887,\n",
       " 'EPL_Hm0': PointObservation: EPL_Hm0, x=3.276, y=51.999,\n",
       " 'c2_Hm0': TrackObservation: c2_Hm0, n=298,\n",
       " 'HKNA_wind': PointObservation: HKNA_wind, x=4.242, y=52.6887,\n",
       " 'F16_wind': PointObservation: F16_wind, x=4.01222, y=54.1167,\n",
       " 'c2_wind': TrackObservation: c2_wind, n=298}"
      ]
     },
     "metadata": {},
     "execution_count": 8
    }
   ],
   "source": [
    "mr.add_observation(o1, item='Sign. Wave Height')\n",
    "mr.add_observation(o2, item='Sign. Wave Height')\n",
    "mr.add_observation(o3, item='Sign. Wave Height')\n",
    "mr.add_observation(wind1, item='Wind speed')\n",
    "mr.add_observation(wind2, item='Wind speed')\n",
    "mr.add_observation(wind3, item='Wind speed')\n",
    "mr.observations"
   ]
  },
  {
   "cell_type": "code",
   "execution_count": 9,
   "metadata": {},
   "outputs": [],
   "source": [
    "cc = mr.extract() "
   ]
  },
  {
   "cell_type": "code",
   "execution_count": 10,
   "metadata": {},
   "outputs": [
    {
     "output_type": "execute_result",
     "data": {
      "text/plain": [
       "2"
      ]
     },
     "metadata": {},
     "execution_count": 10
    }
   ],
   "source": [
    "cc.n_variables"
   ]
  },
  {
   "source": [
    "## Analysis"
   ],
   "cell_type": "markdown",
   "metadata": {}
  },
  {
   "cell_type": "code",
   "execution_count": 11,
   "metadata": {},
   "outputs": [
    {
     "output_type": "execute_result",
     "data": {
      "text/plain": [
       "                     n      bias      rmse     urmse       mae        cc  \\\n",
       "model observation                                                          \n",
       "SW_1  F16_wind      67  2.102049  2.775330  1.812140  2.196785  0.824620   \n",
       "      HKNA_wind    277 -0.880928  1.276179  0.923363  1.023092  0.962845   \n",
       "      c2_wind      113  0.408558  0.637718  0.489657  0.505665  0.960284   \n",
       "SW_2  F16_wind      67  2.102049  2.775330  1.812140  2.196785  0.824620   \n",
       "      HKNA_wind    277 -0.880928  1.276179  0.923363  1.023092  0.962845   \n",
       "      c2_wind      113  0.408558  0.637718  0.489657  0.505665  0.960284   \n",
       "\n",
       "                         si        r2  \n",
       "model observation                      \n",
       "SW_1  F16_wind     0.136781  0.956117  \n",
       "      HKNA_wind    0.064528  0.992046  \n",
       "      c2_wind      0.049998  0.995760  \n",
       "SW_2  F16_wind     0.136781  0.956117  \n",
       "      HKNA_wind    0.064528  0.992046  \n",
       "      c2_wind      0.049998  0.995760  "
      ],
      "text/html": "<div>\n<style scoped>\n    .dataframe tbody tr th:only-of-type {\n        vertical-align: middle;\n    }\n\n    .dataframe tbody tr th {\n        vertical-align: top;\n    }\n\n    .dataframe thead th {\n        text-align: right;\n    }\n</style>\n<table border=\"1\" class=\"dataframe\">\n  <thead>\n    <tr style=\"text-align: right;\">\n      <th></th>\n      <th></th>\n      <th>n</th>\n      <th>bias</th>\n      <th>rmse</th>\n      <th>urmse</th>\n      <th>mae</th>\n      <th>cc</th>\n      <th>si</th>\n      <th>r2</th>\n    </tr>\n    <tr>\n      <th>model</th>\n      <th>observation</th>\n      <th></th>\n      <th></th>\n      <th></th>\n      <th></th>\n      <th></th>\n      <th></th>\n      <th></th>\n      <th></th>\n    </tr>\n  </thead>\n  <tbody>\n    <tr>\n      <th rowspan=\"3\" valign=\"top\">SW_1</th>\n      <th>F16_wind</th>\n      <td>67</td>\n      <td>2.102049</td>\n      <td>2.775330</td>\n      <td>1.812140</td>\n      <td>2.196785</td>\n      <td>0.824620</td>\n      <td>0.136781</td>\n      <td>0.956117</td>\n    </tr>\n    <tr>\n      <th>HKNA_wind</th>\n      <td>277</td>\n      <td>-0.880928</td>\n      <td>1.276179</td>\n      <td>0.923363</td>\n      <td>1.023092</td>\n      <td>0.962845</td>\n      <td>0.064528</td>\n      <td>0.992046</td>\n    </tr>\n    <tr>\n      <th>c2_wind</th>\n      <td>113</td>\n      <td>0.408558</td>\n      <td>0.637718</td>\n      <td>0.489657</td>\n      <td>0.505665</td>\n      <td>0.960284</td>\n      <td>0.049998</td>\n      <td>0.995760</td>\n    </tr>\n    <tr>\n      <th rowspan=\"3\" valign=\"top\">SW_2</th>\n      <th>F16_wind</th>\n      <td>67</td>\n      <td>2.102049</td>\n      <td>2.775330</td>\n      <td>1.812140</td>\n      <td>2.196785</td>\n      <td>0.824620</td>\n      <td>0.136781</td>\n      <td>0.956117</td>\n    </tr>\n    <tr>\n      <th>HKNA_wind</th>\n      <td>277</td>\n      <td>-0.880928</td>\n      <td>1.276179</td>\n      <td>0.923363</td>\n      <td>1.023092</td>\n      <td>0.962845</td>\n      <td>0.064528</td>\n      <td>0.992046</td>\n    </tr>\n    <tr>\n      <th>c2_wind</th>\n      <td>113</td>\n      <td>0.408558</td>\n      <td>0.637718</td>\n      <td>0.489657</td>\n      <td>0.505665</td>\n      <td>0.960284</td>\n      <td>0.049998</td>\n      <td>0.995760</td>\n    </tr>\n  </tbody>\n</table>\n</div>"
     },
     "metadata": {},
     "execution_count": 11
    }
   ],
   "source": [
    "cc.skill(variable='Wind_speed')"
   ]
  },
  {
   "cell_type": "code",
   "execution_count": 12,
   "metadata": {},
   "outputs": [
    {
     "output_type": "execute_result",
     "data": {
      "text/plain": [
       "                     n      bias      rmse     urmse       mae        cc  \\\n",
       "model observation                                                          \n",
       "SW_1  F16_wind      67  2.102049  2.775330  1.812140  2.196785  0.824620   \n",
       "      HKNA_wind    277 -0.880928  1.276179  0.923363  1.023092  0.962845   \n",
       "      c2_wind      113  0.408558  0.637718  0.489657  0.505665  0.960284   \n",
       "SW_2  F16_wind      67  2.102049  2.775330  1.812140  2.196785  0.824620   \n",
       "      HKNA_wind    277 -0.880928  1.276179  0.923363  1.023092  0.962845   \n",
       "      c2_wind      113  0.408558  0.637718  0.489657  0.505665  0.960284   \n",
       "\n",
       "                         si        r2  \n",
       "model observation                      \n",
       "SW_1  F16_wind     0.136781  0.956117  \n",
       "      HKNA_wind    0.064528  0.992046  \n",
       "      c2_wind      0.049998  0.995760  \n",
       "SW_2  F16_wind     0.136781  0.956117  \n",
       "      HKNA_wind    0.064528  0.992046  \n",
       "      c2_wind      0.049998  0.995760  "
      ],
      "text/html": "<div>\n<style scoped>\n    .dataframe tbody tr th:only-of-type {\n        vertical-align: middle;\n    }\n\n    .dataframe tbody tr th {\n        vertical-align: top;\n    }\n\n    .dataframe thead th {\n        text-align: right;\n    }\n</style>\n<table border=\"1\" class=\"dataframe\">\n  <thead>\n    <tr style=\"text-align: right;\">\n      <th></th>\n      <th></th>\n      <th>n</th>\n      <th>bias</th>\n      <th>rmse</th>\n      <th>urmse</th>\n      <th>mae</th>\n      <th>cc</th>\n      <th>si</th>\n      <th>r2</th>\n    </tr>\n    <tr>\n      <th>model</th>\n      <th>observation</th>\n      <th></th>\n      <th></th>\n      <th></th>\n      <th></th>\n      <th></th>\n      <th></th>\n      <th></th>\n      <th></th>\n    </tr>\n  </thead>\n  <tbody>\n    <tr>\n      <th rowspan=\"3\" valign=\"top\">SW_1</th>\n      <th>F16_wind</th>\n      <td>67</td>\n      <td>2.102049</td>\n      <td>2.775330</td>\n      <td>1.812140</td>\n      <td>2.196785</td>\n      <td>0.824620</td>\n      <td>0.136781</td>\n      <td>0.956117</td>\n    </tr>\n    <tr>\n      <th>HKNA_wind</th>\n      <td>277</td>\n      <td>-0.880928</td>\n      <td>1.276179</td>\n      <td>0.923363</td>\n      <td>1.023092</td>\n      <td>0.962845</td>\n      <td>0.064528</td>\n      <td>0.992046</td>\n    </tr>\n    <tr>\n      <th>c2_wind</th>\n      <td>113</td>\n      <td>0.408558</td>\n      <td>0.637718</td>\n      <td>0.489657</td>\n      <td>0.505665</td>\n      <td>0.960284</td>\n      <td>0.049998</td>\n      <td>0.995760</td>\n    </tr>\n    <tr>\n      <th rowspan=\"3\" valign=\"top\">SW_2</th>\n      <th>F16_wind</th>\n      <td>67</td>\n      <td>2.102049</td>\n      <td>2.775330</td>\n      <td>1.812140</td>\n      <td>2.196785</td>\n      <td>0.824620</td>\n      <td>0.136781</td>\n      <td>0.956117</td>\n    </tr>\n    <tr>\n      <th>HKNA_wind</th>\n      <td>277</td>\n      <td>-0.880928</td>\n      <td>1.276179</td>\n      <td>0.923363</td>\n      <td>1.023092</td>\n      <td>0.962845</td>\n      <td>0.064528</td>\n      <td>0.992046</td>\n    </tr>\n    <tr>\n      <th>c2_wind</th>\n      <td>113</td>\n      <td>0.408558</td>\n      <td>0.637718</td>\n      <td>0.489657</td>\n      <td>0.505665</td>\n      <td>0.960284</td>\n      <td>0.049998</td>\n      <td>0.995760</td>\n    </tr>\n  </tbody>\n</table>\n</div>"
     },
     "metadata": {},
     "execution_count": 12
    }
   ],
   "source": [
    "df = cc.skill(variable=1)\n",
    "df"
   ]
  },
  {
   "cell_type": "code",
   "execution_count": 13,
   "metadata": {},
   "outputs": [
    {
     "output_type": "execute_result",
     "data": {
      "text/plain": [
       "1.2761789445483072"
      ]
     },
     "metadata": {},
     "execution_count": 13
    }
   ],
   "source": [
    "df.loc[('SW_1','HKNA_wind')].rmse"
   ]
  },
  {
   "cell_type": "code",
   "execution_count": 14,
   "metadata": {},
   "outputs": [
    {
     "output_type": "execute_result",
     "data": {
      "text/plain": [
       "FrozenList(['model', 'observation'])"
      ]
     },
     "metadata": {},
     "execution_count": 14
    }
   ],
   "source": [
    "df.index.names"
   ]
  },
  {
   "source": [
    "## mean_skill"
   ],
   "cell_type": "markdown",
   "metadata": {}
  },
  {
   "cell_type": "code",
   "execution_count": 15,
   "metadata": {},
   "outputs": [
    {
     "output_type": "execute_result",
     "data": {
      "text/plain": [
       "         n      bias      rmse     urmse       mae        cc        si  \\\n",
       "model                                                                    \n",
       "SW_1   564 -0.090604  0.306812  0.282609  0.243406  0.972628  0.093634   \n",
       "SW_2   564 -0.009180  0.316503  0.307863  0.255111  0.972628  0.102563   \n",
       "\n",
       "             r2  \n",
       "model            \n",
       "SW_1   0.989479  \n",
       "SW_2   0.988126  "
      ],
      "text/html": "<div>\n<style scoped>\n    .dataframe tbody tr th:only-of-type {\n        vertical-align: middle;\n    }\n\n    .dataframe tbody tr th {\n        vertical-align: top;\n    }\n\n    .dataframe thead th {\n        text-align: right;\n    }\n</style>\n<table border=\"1\" class=\"dataframe\">\n  <thead>\n    <tr style=\"text-align: right;\">\n      <th></th>\n      <th>n</th>\n      <th>bias</th>\n      <th>rmse</th>\n      <th>urmse</th>\n      <th>mae</th>\n      <th>cc</th>\n      <th>si</th>\n      <th>r2</th>\n    </tr>\n    <tr>\n      <th>model</th>\n      <th></th>\n      <th></th>\n      <th></th>\n      <th></th>\n      <th></th>\n      <th></th>\n      <th></th>\n      <th></th>\n    </tr>\n  </thead>\n  <tbody>\n    <tr>\n      <th>SW_1</th>\n      <td>564</td>\n      <td>-0.090604</td>\n      <td>0.306812</td>\n      <td>0.282609</td>\n      <td>0.243406</td>\n      <td>0.972628</td>\n      <td>0.093634</td>\n      <td>0.989479</td>\n    </tr>\n    <tr>\n      <th>SW_2</th>\n      <td>564</td>\n      <td>-0.009180</td>\n      <td>0.316503</td>\n      <td>0.307863</td>\n      <td>0.255111</td>\n      <td>0.972628</td>\n      <td>0.102563</td>\n      <td>0.988126</td>\n    </tr>\n  </tbody>\n</table>\n</div>"
     },
     "metadata": {},
     "execution_count": 15
    }
   ],
   "source": [
    "df = cc.mean_skill(variable=0)\n",
    "df"
   ]
  },
  {
   "cell_type": "code",
   "execution_count": 16,
   "metadata": {},
   "outputs": [
    {
     "output_type": "execute_result",
     "data": {
      "text/plain": [
       "0.30681206472504524"
      ]
     },
     "metadata": {},
     "execution_count": 16
    }
   ],
   "source": [
    "df = cc.mean_skill(variable=0)\n",
    "df\n",
    "df.loc[\"SW_1\"]['rmse']"
   ]
  },
  {
   "cell_type": "code",
   "execution_count": 17,
   "metadata": {},
   "outputs": [
    {
     "output_type": "execute_result",
     "data": {
      "text/plain": [
       "0.9726280611219673"
      ]
     },
     "metadata": {},
     "execution_count": 17
    }
   ],
   "source": [
    "df.loc[\"SW_1\"].cc"
   ]
  },
  {
   "source": [
    "## score"
   ],
   "cell_type": "markdown",
   "metadata": {}
  },
  {
   "cell_type": "code",
   "execution_count": 18,
   "metadata": {},
   "outputs": [
    {
     "output_type": "execute_result",
     "data": {
      "text/plain": [
       "{'SW_1': 0.9349438989181208, 'SW_2': 0.9397895582539258}"
      ]
     },
     "metadata": {},
     "execution_count": 18
    }
   ],
   "source": [
    "cc.score()"
   ]
  },
  {
   "cell_type": "code",
   "execution_count": null,
   "metadata": {},
   "outputs": [],
   "source": []
  }
 ]
}