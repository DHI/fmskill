{
 "metadata": {
  "language_info": {
   "codemirror_mode": {
    "name": "ipython",
    "version": 3
   },
   "file_extension": ".py",
   "mimetype": "text/x-python",
   "name": "python",
   "nbconvert_exporter": "python",
   "pygments_lexer": "ipython3",
   "version": "3.8.5"
  },
  "orig_nbformat": 2,
  "kernelspec": {
   "name": "python385jvsc74a57bd01b27a185e5e38addd349bee67c436665dc7832e161e2a923b2540665280bf8fe",
   "display_name": "Python 3.8.5 64-bit ('base': conda)"
  }
 },
 "nbformat": 4,
 "nbformat_minor": 2,
 "cells": [
  {
   "source": [
    "# Multi variable comparison\n",
    "Assessing both wave height and wind speed at the same time"
   ],
   "cell_type": "markdown",
   "metadata": {}
  },
  {
   "cell_type": "code",
   "execution_count": 1,
   "metadata": {},
   "outputs": [],
   "source": [
    "import matplotlib.pyplot as plt\n",
    "import pandas as pd\n",
    "import numpy as np\n",
    "from fmskill import ModelResult, ModelResultCollection, PointObservation, TrackObservation"
   ]
  },
  {
   "cell_type": "code",
   "execution_count": 2,
   "metadata": {},
   "outputs": [],
   "source": [
    "%load_ext autoreload\n",
    "%autoreload 2"
   ]
  },
  {
   "source": [
    "## Define observations"
   ],
   "cell_type": "markdown",
   "metadata": {}
  },
  {
   "cell_type": "code",
   "execution_count": 3,
   "metadata": {},
   "outputs": [],
   "source": [
    "# wave height\n",
    "o1 = PointObservation('../tests/testdata/SW/HKNA_Hm0.dfs0', item=0, x=4.2420, y=52.6887, name=\"HKNA_Hm0\")\n",
    "o2 = PointObservation(\"../tests/testdata/SW/eur_Hm0.dfs0\", item=0, x=3.2760, y=51.9990, name=\"EPL_Hm0\")\n",
    "o3 = TrackObservation(\"../tests/testdata/SW/Alti_c2_Dutch.dfs0\", item=3, name=\"c2_Hm0\")\n",
    "\n",
    "# wind speed\n",
    "wind1 = PointObservation('../tests/testdata/SW/HKNA_wind.dfs0', item=0, x=4.2420, y=52.6887, name=\"HKNA_wind\")\n",
    "wind2 = PointObservation('../tests/testdata/SW/F16_wind.dfs0', item=0, x=4.01222, y=54.1167, name=\"F16_wind\")\n",
    "wind3 = TrackObservation(\"../tests/testdata/SW/Alti_c2_Dutch.dfs0\", item=2, name=\"c2_wind\")"
   ]
  },
  {
   "cell_type": "code",
   "execution_count": 4,
   "metadata": {},
   "outputs": [
    {
     "output_type": "execute_result",
     "data": {
      "text/plain": [
       "'Significant_wave_height'"
      ]
     },
     "metadata": {},
     "execution_count": 4
    }
   ],
   "source": [
    "o1.variable_name"
   ]
  },
  {
   "source": [
    "## Define model results"
   ],
   "cell_type": "markdown",
   "metadata": {}
  },
  {
   "cell_type": "code",
   "execution_count": 5,
   "metadata": {},
   "outputs": [],
   "source": [
    "mr1 = ModelResult('../tests/testdata/SW/HKZN_local_2017_DutchCoast.dfsu', name='SW_1')\n",
    "mr2 = ModelResult('../tests/testdata/SW/HKZN_local_2017_DutchCoast_v2.dfsu', name='SW_2')"
   ]
  },
  {
   "cell_type": "code",
   "execution_count": 6,
   "metadata": {},
   "outputs": [
    {
     "output_type": "execute_result",
     "data": {
      "text/plain": [
       "[Sign. Wave Height <Significant wave height> (meter),\n",
       " Max. Wave Height <Maximum wave height> (meter),\n",
       " Peak Wave Period <Wave period> (second),\n",
       " Wave Period, T01 <Wave period> (second),\n",
       " Wave Period, T02 <Wave period> (second),\n",
       " Peak Wave Direction <Wave direction> (radian),\n",
       " Mean Wave Direction <Mean Wave Direction> (degree),\n",
       " Dir. Stand. Deviation <Directional Standard Deviation> (degree),\n",
       " x-comp. of wave height vector <u velocity component> (meter per sec),\n",
       " y-comp. of wave height vector <v velocity component> (meter per sec),\n",
       " Surface elevation <Surface Elevation> (meter),\n",
       " Current velocity, U <u velocity component> (meter per sec),\n",
       " Current velocity, V <v velocity component> (meter per sec),\n",
       " Wind speed <Wind speed> (meter per sec),\n",
       " Wind direction <Wind Direction> (degree)]"
      ]
     },
     "metadata": {},
     "execution_count": 6
    }
   ],
   "source": [
    "mr1.dfs.items"
   ]
  },
  {
   "source": [
    "## Associate model and observations and extract"
   ],
   "cell_type": "markdown",
   "metadata": {}
  },
  {
   "cell_type": "code",
   "execution_count": 7,
   "metadata": {},
   "outputs": [],
   "source": [
    "mr = ModelResultCollection([mr1, mr2])\n",
    "#mr = mr1"
   ]
  },
  {
   "cell_type": "code",
   "execution_count": 8,
   "metadata": {},
   "outputs": [
    {
     "output_type": "execute_result",
     "data": {
      "text/plain": [
       "{'HKNA_Hm0': PointObservation: HKNA_Hm0, x=4.242, y=52.6887,\n",
       " 'EPL_Hm0': PointObservation: EPL_Hm0, x=3.276, y=51.999,\n",
       " 'c2_Hm0': TrackObservation: c2_Hm0, n=298,\n",
       " 'HKNA_wind': PointObservation: HKNA_wind, x=4.242, y=52.6887,\n",
       " 'F16_wind': PointObservation: F16_wind, x=4.01222, y=54.1167,\n",
       " 'c2_wind': TrackObservation: c2_wind, n=298}"
      ]
     },
     "metadata": {},
     "execution_count": 8
    }
   ],
   "source": [
    "mr.add_observation(o1, item='Sign. Wave Height')\n",
    "mr.add_observation(o2, item='Sign. Wave Height')\n",
    "mr.add_observation(o3, item='Sign. Wave Height')\n",
    "mr.add_observation(wind1, item='Wind speed')\n",
    "mr.add_observation(wind2, item='Wind speed')\n",
    "mr.add_observation(wind3, item='Wind speed')\n",
    "mr.observations"
   ]
  },
  {
   "cell_type": "code",
   "execution_count": 9,
   "metadata": {},
   "outputs": [],
   "source": [
    "cc = mr.extract() "
   ]
  },
  {
   "cell_type": "code",
   "execution_count": 10,
   "metadata": {},
   "outputs": [
    {
     "output_type": "execute_result",
     "data": {
      "text/plain": [
       "2"
      ]
     },
     "metadata": {},
     "execution_count": 10
    }
   ],
   "source": [
    "cc.n_variables"
   ]
  },
  {
   "source": [
    "## Analysis"
   ],
   "cell_type": "markdown",
   "metadata": {}
  },
  {
   "cell_type": "code",
   "execution_count": 11,
   "metadata": {},
   "outputs": [
    {
     "output_type": "execute_result",
     "data": {
      "text/plain": [
       "                     n      bias      rmse     urmse       mae        cc  \\\n",
       "model observation                                                          \n",
       "SW_1  F16_wind      67  2.102049  2.775330  1.812140  2.196785  0.824620   \n",
       "      HKNA_wind    277 -0.880928  1.276179  0.923363  1.023092  0.962845   \n",
       "      c2_wind      113  0.408558  0.637718  0.489657  0.505665  0.960284   \n",
       "SW_2  F16_wind      67  2.102049  2.775330  1.812140  2.196785  0.824620   \n",
       "      HKNA_wind    277 -0.880928  1.276179  0.923363  1.023092  0.962845   \n",
       "      c2_wind      113  0.408558  0.637718  0.489657  0.505665  0.960284   \n",
       "\n",
       "                         si        r2  \n",
       "model observation                      \n",
       "SW_1  F16_wind     0.136781  0.956117  \n",
       "      HKNA_wind    0.064528  0.992046  \n",
       "      c2_wind      0.049998  0.995760  \n",
       "SW_2  F16_wind     0.136781  0.956117  \n",
       "      HKNA_wind    0.064528  0.992046  \n",
       "      c2_wind      0.049998  0.995760  "
      ],
      "text/html": "<div>\n<style scoped>\n    .dataframe tbody tr th:only-of-type {\n        vertical-align: middle;\n    }\n\n    .dataframe tbody tr th {\n        vertical-align: top;\n    }\n\n    .dataframe thead th {\n        text-align: right;\n    }\n</style>\n<table border=\"1\" class=\"dataframe\">\n  <thead>\n    <tr style=\"text-align: right;\">\n      <th></th>\n      <th></th>\n      <th>n</th>\n      <th>bias</th>\n      <th>rmse</th>\n      <th>urmse</th>\n      <th>mae</th>\n      <th>cc</th>\n      <th>si</th>\n      <th>r2</th>\n    </tr>\n    <tr>\n      <th>model</th>\n      <th>observation</th>\n      <th></th>\n      <th></th>\n      <th></th>\n      <th></th>\n      <th></th>\n      <th></th>\n      <th></th>\n      <th></th>\n    </tr>\n  </thead>\n  <tbody>\n    <tr>\n      <th rowspan=\"3\" valign=\"top\">SW_1</th>\n      <th>F16_wind</th>\n      <td>67</td>\n      <td>2.102049</td>\n      <td>2.775330</td>\n      <td>1.812140</td>\n      <td>2.196785</td>\n      <td>0.824620</td>\n      <td>0.136781</td>\n      <td>0.956117</td>\n    </tr>\n    <tr>\n      <th>HKNA_wind</th>\n      <td>277</td>\n      <td>-0.880928</td>\n      <td>1.276179</td>\n      <td>0.923363</td>\n      <td>1.023092</td>\n      <td>0.962845</td>\n      <td>0.064528</td>\n      <td>0.992046</td>\n    </tr>\n    <tr>\n      <th>c2_wind</th>\n      <td>113</td>\n      <td>0.408558</td>\n      <td>0.637718</td>\n      <td>0.489657</td>\n      <td>0.505665</td>\n      <td>0.960284</td>\n      <td>0.049998</td>\n      <td>0.995760</td>\n    </tr>\n    <tr>\n      <th rowspan=\"3\" valign=\"top\">SW_2</th>\n      <th>F16_wind</th>\n      <td>67</td>\n      <td>2.102049</td>\n      <td>2.775330</td>\n      <td>1.812140</td>\n      <td>2.196785</td>\n      <td>0.824620</td>\n      <td>0.136781</td>\n      <td>0.956117</td>\n    </tr>\n    <tr>\n      <th>HKNA_wind</th>\n      <td>277</td>\n      <td>-0.880928</td>\n      <td>1.276179</td>\n      <td>0.923363</td>\n      <td>1.023092</td>\n      <td>0.962845</td>\n      <td>0.064528</td>\n      <td>0.992046</td>\n    </tr>\n    <tr>\n      <th>c2_wind</th>\n      <td>113</td>\n      <td>0.408558</td>\n      <td>0.637718</td>\n      <td>0.489657</td>\n      <td>0.505665</td>\n      <td>0.960284</td>\n      <td>0.049998</td>\n      <td>0.995760</td>\n    </tr>\n  </tbody>\n</table>\n</div>"
     },
     "metadata": {},
     "execution_count": 11
    }
   ],
   "source": [
    "cc.skill(variable='Wind_speed')"
   ]
  },
  {
   "cell_type": "code",
   "execution_count": 12,
   "metadata": {},
   "outputs": [
    {
     "output_type": "execute_result",
     "data": {
      "text/plain": [
       "                                             n      bias      rmse     urmse  \\\n",
       "model observation variable                                                     \n",
       "SW_1  EPL_Hm0     Significant_wave_height   66 -0.075335  0.216357  0.202817   \n",
       "      F16_wind    Wind_speed                67  2.102049  2.775330  1.812140   \n",
       "      HKNA_Hm0    Significant_wave_height  385 -0.195266  0.352283  0.293214   \n",
       "      HKNA_wind   Wind_speed               277 -0.880928  1.276179  0.923363   \n",
       "      c2_Hm0      Significant_wave_height  113 -0.001210  0.351796  0.351794   \n",
       "      c2_wind     Wind_speed               113  0.408558  0.637718  0.489657   \n",
       "SW_2  EPL_Hm0     Significant_wave_height   66 -0.007782  0.225996  0.225862   \n",
       "      F16_wind    Wind_speed                67  2.102049  2.775330  1.812140   \n",
       "      HKNA_Hm0    Significant_wave_height  385 -0.101189  0.293247  0.275235   \n",
       "      HKNA_wind   Wind_speed               277 -0.880928  1.276179  0.923363   \n",
       "      c2_Hm0      Significant_wave_height  113  0.081431  0.430268  0.422492   \n",
       "      c2_wind     Wind_speed               113  0.408558  0.637718  0.489657   \n",
       "\n",
       "                                                mae        cc        si  \\\n",
       "model observation variable                                                \n",
       "SW_1  EPL_Hm0     Significant_wave_height  0.183641  0.972467  0.073902   \n",
       "      F16_wind    Wind_speed               2.196785  0.824620  0.136781   \n",
       "      HKNA_Hm0    Significant_wave_height  0.251992  0.971082  0.088488   \n",
       "      HKNA_wind   Wind_speed               1.023092  0.962845  0.064528   \n",
       "      c2_Hm0      Significant_wave_height  0.294585  0.974335  0.118511   \n",
       "      c2_wind     Wind_speed               0.505665  0.960284  0.049998   \n",
       "SW_2  EPL_Hm0     Significant_wave_height  0.193719  0.972467  0.082298   \n",
       "      F16_wind    Wind_speed               2.196785  0.824620  0.136781   \n",
       "      HKNA_Hm0    Significant_wave_height  0.214476  0.971082  0.083062   \n",
       "      HKNA_wind   Wind_speed               1.023092  0.962845  0.064528   \n",
       "      c2_Hm0      Significant_wave_height  0.357138  0.974335  0.142327   \n",
       "      c2_wind     Wind_speed               0.505665  0.960284  0.049998   \n",
       "\n",
       "                                                 r2  \n",
       "model observation variable                           \n",
       "SW_1  EPL_Hm0     Significant_wave_height  0.993785  \n",
       "      F16_wind    Wind_speed               0.956117  \n",
       "      HKNA_Hm0    Significant_wave_height  0.988697  \n",
       "      HKNA_wind   Wind_speed               0.992046  \n",
       "      c2_Hm0      Significant_wave_height  0.985955  \n",
       "      c2_wind     Wind_speed               0.995760  \n",
       "SW_2  EPL_Hm0     Significant_wave_height  0.993219  \n",
       "      F16_wind    Wind_speed               0.956117  \n",
       "      HKNA_Hm0    Significant_wave_height  0.992168  \n",
       "      HKNA_wind   Wind_speed               0.992046  \n",
       "      c2_Hm0      Significant_wave_height  0.978991  \n",
       "      c2_wind     Wind_speed               0.995760  "
      ],
      "text/html": "<div>\n<style scoped>\n    .dataframe tbody tr th:only-of-type {\n        vertical-align: middle;\n    }\n\n    .dataframe tbody tr th {\n        vertical-align: top;\n    }\n\n    .dataframe thead th {\n        text-align: right;\n    }\n</style>\n<table border=\"1\" class=\"dataframe\">\n  <thead>\n    <tr style=\"text-align: right;\">\n      <th></th>\n      <th></th>\n      <th></th>\n      <th>n</th>\n      <th>bias</th>\n      <th>rmse</th>\n      <th>urmse</th>\n      <th>mae</th>\n      <th>cc</th>\n      <th>si</th>\n      <th>r2</th>\n    </tr>\n    <tr>\n      <th>model</th>\n      <th>observation</th>\n      <th>variable</th>\n      <th></th>\n      <th></th>\n      <th></th>\n      <th></th>\n      <th></th>\n      <th></th>\n      <th></th>\n      <th></th>\n    </tr>\n  </thead>\n  <tbody>\n    <tr>\n      <th rowspan=\"6\" valign=\"top\">SW_1</th>\n      <th>EPL_Hm0</th>\n      <th>Significant_wave_height</th>\n      <td>66</td>\n      <td>-0.075335</td>\n      <td>0.216357</td>\n      <td>0.202817</td>\n      <td>0.183641</td>\n      <td>0.972467</td>\n      <td>0.073902</td>\n      <td>0.993785</td>\n    </tr>\n    <tr>\n      <th>F16_wind</th>\n      <th>Wind_speed</th>\n      <td>67</td>\n      <td>2.102049</td>\n      <td>2.775330</td>\n      <td>1.812140</td>\n      <td>2.196785</td>\n      <td>0.824620</td>\n      <td>0.136781</td>\n      <td>0.956117</td>\n    </tr>\n    <tr>\n      <th>HKNA_Hm0</th>\n      <th>Significant_wave_height</th>\n      <td>385</td>\n      <td>-0.195266</td>\n      <td>0.352283</td>\n      <td>0.293214</td>\n      <td>0.251992</td>\n      <td>0.971082</td>\n      <td>0.088488</td>\n      <td>0.988697</td>\n    </tr>\n    <tr>\n      <th>HKNA_wind</th>\n      <th>Wind_speed</th>\n      <td>277</td>\n      <td>-0.880928</td>\n      <td>1.276179</td>\n      <td>0.923363</td>\n      <td>1.023092</td>\n      <td>0.962845</td>\n      <td>0.064528</td>\n      <td>0.992046</td>\n    </tr>\n    <tr>\n      <th>c2_Hm0</th>\n      <th>Significant_wave_height</th>\n      <td>113</td>\n      <td>-0.001210</td>\n      <td>0.351796</td>\n      <td>0.351794</td>\n      <td>0.294585</td>\n      <td>0.974335</td>\n      <td>0.118511</td>\n      <td>0.985955</td>\n    </tr>\n    <tr>\n      <th>c2_wind</th>\n      <th>Wind_speed</th>\n      <td>113</td>\n      <td>0.408558</td>\n      <td>0.637718</td>\n      <td>0.489657</td>\n      <td>0.505665</td>\n      <td>0.960284</td>\n      <td>0.049998</td>\n      <td>0.995760</td>\n    </tr>\n    <tr>\n      <th rowspan=\"6\" valign=\"top\">SW_2</th>\n      <th>EPL_Hm0</th>\n      <th>Significant_wave_height</th>\n      <td>66</td>\n      <td>-0.007782</td>\n      <td>0.225996</td>\n      <td>0.225862</td>\n      <td>0.193719</td>\n      <td>0.972467</td>\n      <td>0.082298</td>\n      <td>0.993219</td>\n    </tr>\n    <tr>\n      <th>F16_wind</th>\n      <th>Wind_speed</th>\n      <td>67</td>\n      <td>2.102049</td>\n      <td>2.775330</td>\n      <td>1.812140</td>\n      <td>2.196785</td>\n      <td>0.824620</td>\n      <td>0.136781</td>\n      <td>0.956117</td>\n    </tr>\n    <tr>\n      <th>HKNA_Hm0</th>\n      <th>Significant_wave_height</th>\n      <td>385</td>\n      <td>-0.101189</td>\n      <td>0.293247</td>\n      <td>0.275235</td>\n      <td>0.214476</td>\n      <td>0.971082</td>\n      <td>0.083062</td>\n      <td>0.992168</td>\n    </tr>\n    <tr>\n      <th>HKNA_wind</th>\n      <th>Wind_speed</th>\n      <td>277</td>\n      <td>-0.880928</td>\n      <td>1.276179</td>\n      <td>0.923363</td>\n      <td>1.023092</td>\n      <td>0.962845</td>\n      <td>0.064528</td>\n      <td>0.992046</td>\n    </tr>\n    <tr>\n      <th>c2_Hm0</th>\n      <th>Significant_wave_height</th>\n      <td>113</td>\n      <td>0.081431</td>\n      <td>0.430268</td>\n      <td>0.422492</td>\n      <td>0.357138</td>\n      <td>0.974335</td>\n      <td>0.142327</td>\n      <td>0.978991</td>\n    </tr>\n    <tr>\n      <th>c2_wind</th>\n      <th>Wind_speed</th>\n      <td>113</td>\n      <td>0.408558</td>\n      <td>0.637718</td>\n      <td>0.489657</td>\n      <td>0.505665</td>\n      <td>0.960284</td>\n      <td>0.049998</td>\n      <td>0.995760</td>\n    </tr>\n  </tbody>\n</table>\n</div>"
     },
     "metadata": {},
     "execution_count": 12
    }
   ],
   "source": [
    "cc.skill()"
   ]
  },
  {
   "source": [
    "## mean_skill"
   ],
   "cell_type": "markdown",
   "metadata": {}
  },
  {
   "cell_type": "code",
   "execution_count": 13,
   "metadata": {},
   "outputs": [
    {
     "output_type": "execute_result",
     "data": {
      "text/plain": [
       "         n      bias      rmse     urmse       mae        cc        si  \\\n",
       "model                                                                    \n",
       "SW_1   564 -0.090604  0.306812  0.282609  0.243406  0.972628  0.093634   \n",
       "SW_2   564 -0.009180  0.316503  0.307863  0.255111  0.972628  0.102563   \n",
       "\n",
       "             r2  \n",
       "model            \n",
       "SW_1   0.989479  \n",
       "SW_2   0.988126  "
      ],
      "text/html": "<div>\n<style scoped>\n    .dataframe tbody tr th:only-of-type {\n        vertical-align: middle;\n    }\n\n    .dataframe tbody tr th {\n        vertical-align: top;\n    }\n\n    .dataframe thead th {\n        text-align: right;\n    }\n</style>\n<table border=\"1\" class=\"dataframe\">\n  <thead>\n    <tr style=\"text-align: right;\">\n      <th></th>\n      <th>n</th>\n      <th>bias</th>\n      <th>rmse</th>\n      <th>urmse</th>\n      <th>mae</th>\n      <th>cc</th>\n      <th>si</th>\n      <th>r2</th>\n    </tr>\n    <tr>\n      <th>model</th>\n      <th></th>\n      <th></th>\n      <th></th>\n      <th></th>\n      <th></th>\n      <th></th>\n      <th></th>\n      <th></th>\n    </tr>\n  </thead>\n  <tbody>\n    <tr>\n      <th>SW_1</th>\n      <td>564</td>\n      <td>-0.090604</td>\n      <td>0.306812</td>\n      <td>0.282609</td>\n      <td>0.243406</td>\n      <td>0.972628</td>\n      <td>0.093634</td>\n      <td>0.989479</td>\n    </tr>\n    <tr>\n      <th>SW_2</th>\n      <td>564</td>\n      <td>-0.009180</td>\n      <td>0.316503</td>\n      <td>0.307863</td>\n      <td>0.255111</td>\n      <td>0.972628</td>\n      <td>0.102563</td>\n      <td>0.988126</td>\n    </tr>\n  </tbody>\n</table>\n</div>"
     },
     "metadata": {},
     "execution_count": 13
    }
   ],
   "source": [
    "cc.mean_skill(variable=0)"
   ]
  },
  {
   "cell_type": "code",
   "execution_count": 14,
   "metadata": {},
   "outputs": [
    {
     "output_type": "execute_result",
     "data": {
      "text/plain": [
       "                                 n      bias      rmse     urmse       mae  \\\n",
       "model variable                                                               \n",
       "SW_1  Significant_wave_height  564 -0.090604  0.306812  0.282609  0.243406   \n",
       "      Wind_speed               457  0.543226  1.563076  1.075053  1.241847   \n",
       "SW_2  Significant_wave_height  564 -0.009180  0.316503  0.307863  0.255111   \n",
       "      Wind_speed               457  0.543226  1.563076  1.075053  1.241847   \n",
       "\n",
       "                                     cc        si        r2  \n",
       "model variable                                               \n",
       "SW_1  Significant_wave_height  0.972628  0.093634  0.989479  \n",
       "      Wind_speed               0.915916  0.083769  0.981308  \n",
       "SW_2  Significant_wave_height  0.972628  0.102563  0.988126  \n",
       "      Wind_speed               0.915916  0.083769  0.981308  "
      ],
      "text/html": "<div>\n<style scoped>\n    .dataframe tbody tr th:only-of-type {\n        vertical-align: middle;\n    }\n\n    .dataframe tbody tr th {\n        vertical-align: top;\n    }\n\n    .dataframe thead th {\n        text-align: right;\n    }\n</style>\n<table border=\"1\" class=\"dataframe\">\n  <thead>\n    <tr style=\"text-align: right;\">\n      <th></th>\n      <th></th>\n      <th>n</th>\n      <th>bias</th>\n      <th>rmse</th>\n      <th>urmse</th>\n      <th>mae</th>\n      <th>cc</th>\n      <th>si</th>\n      <th>r2</th>\n    </tr>\n    <tr>\n      <th>model</th>\n      <th>variable</th>\n      <th></th>\n      <th></th>\n      <th></th>\n      <th></th>\n      <th></th>\n      <th></th>\n      <th></th>\n      <th></th>\n    </tr>\n  </thead>\n  <tbody>\n    <tr>\n      <th rowspan=\"2\" valign=\"top\">SW_1</th>\n      <th>Significant_wave_height</th>\n      <td>564</td>\n      <td>-0.090604</td>\n      <td>0.306812</td>\n      <td>0.282609</td>\n      <td>0.243406</td>\n      <td>0.972628</td>\n      <td>0.093634</td>\n      <td>0.989479</td>\n    </tr>\n    <tr>\n      <th>Wind_speed</th>\n      <td>457</td>\n      <td>0.543226</td>\n      <td>1.563076</td>\n      <td>1.075053</td>\n      <td>1.241847</td>\n      <td>0.915916</td>\n      <td>0.083769</td>\n      <td>0.981308</td>\n    </tr>\n    <tr>\n      <th rowspan=\"2\" valign=\"top\">SW_2</th>\n      <th>Significant_wave_height</th>\n      <td>564</td>\n      <td>-0.009180</td>\n      <td>0.316503</td>\n      <td>0.307863</td>\n      <td>0.255111</td>\n      <td>0.972628</td>\n      <td>0.102563</td>\n      <td>0.988126</td>\n    </tr>\n    <tr>\n      <th>Wind_speed</th>\n      <td>457</td>\n      <td>0.543226</td>\n      <td>1.563076</td>\n      <td>1.075053</td>\n      <td>1.241847</td>\n      <td>0.915916</td>\n      <td>0.083769</td>\n      <td>0.981308</td>\n    </tr>\n  </tbody>\n</table>\n</div>"
     },
     "metadata": {},
     "execution_count": 14
    }
   ],
   "source": [
    "cc.mean_skill()"
   ]
  },
  {
   "source": [
    "## score"
   ],
   "cell_type": "markdown",
   "metadata": {}
  },
  {
   "cell_type": "code",
   "execution_count": 16,
   "metadata": {},
   "outputs": [
    {
     "output_type": "execute_result",
     "data": {
      "text/plain": [
       "array([0.30681206, 1.56307573, 0.31650338, 1.56307573])"
      ]
     },
     "metadata": {},
     "execution_count": 16
    }
   ],
   "source": [
    "cc.score()"
   ]
  },
  {
   "cell_type": "code",
   "execution_count": null,
   "metadata": {},
   "outputs": [],
   "source": []
  }
 ]
}