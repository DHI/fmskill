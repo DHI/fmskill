{
    "cells": [
        {
            "attachments": {},
            "cell_type": "markdown",
            "metadata": {},
            "source": [
                "# Multi variable comparison\n",
                "Assessing both wave height and wind speed at the same time"
            ]
        },
        {
            "cell_type": "code",
            "execution_count": 1,
            "metadata": {},
            "outputs": [],
            "source": [
                "from modelskill import ModelResult, PointObservation, TrackObservation, Connector"
            ]
        },
        {
            "attachments": {},
            "cell_type": "markdown",
            "metadata": {},
            "source": [
                "## Define observations\n",
                "Below, the observations will take the default variable names from the eum type of the item. Alternatively, the user can give another variable name by providing the `variable_name` argument."
            ]
        },
        {
            "cell_type": "code",
            "execution_count": 2,
            "metadata": {},
            "outputs": [],
            "source": [
                "# wave height\n",
                "o1 = PointObservation('../tests/testdata/SW/HKNA_Hm0.dfs0', item=0, x=4.2420, y=52.6887, name=\"HKNA_Hm0\")\n",
                "o2 = PointObservation(\"../tests/testdata/SW/eur_Hm0.dfs0\", item=0, x=3.2760, y=51.9990, name=\"EPL_Hm0\")\n",
                "o3 = TrackObservation(\"../tests/testdata/SW/Alti_c2_Dutch.dfs0\", item=3, name=\"c2_Hm0\")\n",
                "\n",
                "# wind speed\n",
                "wind1 = PointObservation('../tests/testdata/SW/HKNA_wind.dfs0', item=0, x=4.2420, y=52.6887, name=\"HKNA_wind\")\n",
                "wind2 = PointObservation('../tests/testdata/SW/F16_wind.dfs0', item=0, x=4.01222, y=54.1167, name=\"F16_wind\")\n",
                "wind3 = TrackObservation(\"../tests/testdata/SW/Alti_c2_Dutch.dfs0\", item=2, name=\"c2_wind\")"
            ]
        },
        {
            "cell_type": "code",
            "execution_count": 3,
            "metadata": {},
            "outputs": [
                {
                    "data": {
                        "text/plain": [
                            "Quantity(name='Significant wave height', unit='meter')"
                        ]
                    },
                    "execution_count": 3,
                    "metadata": {},
                    "output_type": "execute_result"
                }
            ],
            "source": [
                "o1.quantity"
            ]
        },
        {
            "attachments": {},
            "cell_type": "markdown",
            "metadata": {},
            "source": [
                "## Define model results\n",
                "Two different simulation runs are used to create four model results:"
            ]
        },
        {
            "cell_type": "code",
            "execution_count": 4,
            "metadata": {},
            "outputs": [],
            "source": [
                "fn1 = \"../tests/testdata/SW/HKZN_local_2017_DutchCoast.dfsu\"\n",
                "mr1Hm0 = ModelResult(fn1, name='SW_1', item='Sign. Wave Height')\n",
                "mr1WS = ModelResult(fn1, name='SW_1', item='Wind speed')\n",
                "fn2 = \"../tests/testdata/SW/HKZN_local_2017_DutchCoast_v2.dfsu\"\n",
                "mr2Hm0 = ModelResult(fn2, name='SW_2', item='Sign. Wave Height')\n",
                "mr2WS = ModelResult(fn2, name='SW_2', item='Wind speed')"
            ]
        },
        {
            "cell_type": "code",
            "execution_count": 5,
            "metadata": {},
            "outputs": [
                {
                    "data": {
                        "text/plain": [
                            "<DfsuModelResult> 'SW_1'"
                        ]
                    },
                    "execution_count": 5,
                    "metadata": {},
                    "output_type": "execute_result"
                }
            ],
            "source": [
                "mr1WS"
            ]
        },
        {
            "attachments": {},
            "cell_type": "markdown",
            "metadata": {},
            "source": [
                "## Connect model and observations and extract\n",
                "We connect the observation item and model item by refering to the item name in the ModelResult. Item number can also be used."
            ]
        },
        {
            "cell_type": "code",
            "execution_count": 6,
            "metadata": {},
            "outputs": [
                {
                    "data": {
                        "text/plain": [
                            "<Connector> with \n",
                            " -<PointConnector> obs=HKNA_Hm0(n=564) :: 2 models=[SW_1, SW_2]\n",
                            " -<PointConnector> obs=EPL_Hm0(n=95) :: 2 models=[SW_1, SW_2]\n",
                            " -<TrackConnector> obs=c2_Hm0(n=298) :: 2 models=[SW_1, SW_2]\n",
                            " -<PointConnector> obs=HKNA_wind(n=1484) :: 2 models=[SW_1, SW_2]\n",
                            " -<PointConnector> obs=F16_wind(n=312) :: 2 models=[SW_1, SW_2]\n",
                            " -<TrackConnector> obs=c2_wind(n=298) :: 2 models=[SW_1, SW_2]"
                        ]
                    },
                    "execution_count": 6,
                    "metadata": {},
                    "output_type": "execute_result"
                }
            ],
            "source": [
                "con = Connector()\n",
                "con.add([o1, o2, o3], [mr1Hm0, mr2Hm0])\n",
                "con.add([wind1, wind2, wind3], [mr1WS, mr2WS])\n",
                "con"
            ]
        },
        {
            "cell_type": "code",
            "execution_count": 7,
            "metadata": {},
            "outputs": [
                {
                    "name": "stderr",
                    "output_type": "stream",
                    "text": [
                        "/home/jan/src/modelskill/modelskill/comparison.py:381: UserWarning: no (spatial) overlap between model and observation points\n",
                        "  warnings.warn(\"no (spatial) overlap between model and observation points\")\n",
                        "/home/jan/src/modelskill/modelskill/comparison.py:381: UserWarning: no (spatial) overlap between model and observation points\n",
                        "  warnings.warn(\"no (spatial) overlap between model and observation points\")\n",
                        "/home/jan/src/modelskill/modelskill/comparison.py:381: UserWarning: no (spatial) overlap between model and observation points\n",
                        "  warnings.warn(\"no (spatial) overlap between model and observation points\")\n",
                        "/home/jan/src/modelskill/modelskill/comparison.py:381: UserWarning: no (spatial) overlap between model and observation points\n",
                        "  warnings.warn(\"no (spatial) overlap between model and observation points\")\n"
                    ]
                }
            ],
            "source": [
                "cc = con.extract()"
            ]
        },
        {
            "cell_type": "code",
            "execution_count": 8,
            "metadata": {},
            "outputs": [
                {
                    "data": {
                        "text/plain": [
                            "2"
                        ]
                    },
                    "execution_count": 8,
                    "metadata": {},
                    "output_type": "execute_result"
                }
            ],
            "source": [
                "cc.n_variables"
            ]
        },
        {
            "cell_type": "code",
            "execution_count": 9,
            "metadata": {},
            "outputs": [
                {
                    "data": {
                        "text/plain": [
                            "['Significant wave height', 'Wind speed']"
                        ]
                    },
                    "execution_count": 9,
                    "metadata": {},
                    "output_type": "execute_result"
                }
            ],
            "source": [
                "cc.var_names"
            ]
        },
        {
            "attachments": {},
            "cell_type": "markdown",
            "metadata": {},
            "source": [
                "## Analysis\n",
                "Now that the result has been extracted, we can do analysis. Multiple variables means an extra level in the multi-index of the skill dataframe. "
            ]
        },
        {
            "cell_type": "code",
            "execution_count": 10,
            "metadata": {},
            "outputs": [
                {
                    "data": {
                        "text/html": [
                            "<div>\n",
                            "<style scoped>\n",
                            "    .dataframe tbody tr th:only-of-type {\n",
                            "        vertical-align: middle;\n",
                            "    }\n",
                            "\n",
                            "    .dataframe tbody tr th {\n",
                            "        vertical-align: top;\n",
                            "    }\n",
                            "\n",
                            "    .dataframe thead th {\n",
                            "        text-align: right;\n",
                            "    }\n",
                            "</style>\n",
                            "<table border=\"1\" class=\"dataframe\">\n",
                            "  <thead>\n",
                            "    <tr style=\"text-align: right;\">\n",
                            "      <th></th>\n",
                            "      <th></th>\n",
                            "      <th></th>\n",
                            "      <th>n</th>\n",
                            "      <th>bias</th>\n",
                            "      <th>rmse</th>\n",
                            "      <th>urmse</th>\n",
                            "      <th>mae</th>\n",
                            "      <th>cc</th>\n",
                            "      <th>si</th>\n",
                            "      <th>r2</th>\n",
                            "    </tr>\n",
                            "    <tr>\n",
                            "      <th>model</th>\n",
                            "      <th>observation</th>\n",
                            "      <th>variable</th>\n",
                            "      <th></th>\n",
                            "      <th></th>\n",
                            "      <th></th>\n",
                            "      <th></th>\n",
                            "      <th></th>\n",
                            "      <th></th>\n",
                            "      <th></th>\n",
                            "      <th></th>\n",
                            "    </tr>\n",
                            "  </thead>\n",
                            "  <tbody>\n",
                            "    <tr>\n",
                            "      <th rowspan=\"6\" valign=\"top\">SW_1</th>\n",
                            "      <th>EPL_Hm0</th>\n",
                            "      <th>Significant wave height</th>\n",
                            "      <td>67</td>\n",
                            "      <td>-0.067</td>\n",
                            "      <td>0.224</td>\n",
                            "      <td>0.213</td>\n",
                            "      <td>0.189</td>\n",
                            "      <td>0.970</td>\n",
                            "      <td>0.083</td>\n",
                            "      <td>0.933</td>\n",
                            "    </tr>\n",
                            "    <tr>\n",
                            "      <th>F16_wind</th>\n",
                            "      <th>Wind speed</th>\n",
                            "      <td>67</td>\n",
                            "      <td>2.102</td>\n",
                            "      <td>2.775</td>\n",
                            "      <td>1.812</td>\n",
                            "      <td>2.197</td>\n",
                            "      <td>0.825</td>\n",
                            "      <td>0.141</td>\n",
                            "      <td>0.230</td>\n",
                            "    </tr>\n",
                            "    <tr>\n",
                            "      <th>HKNA_Hm0</th>\n",
                            "      <th>Significant wave height</th>\n",
                            "      <td>386</td>\n",
                            "      <td>-0.194</td>\n",
                            "      <td>0.352</td>\n",
                            "      <td>0.293</td>\n",
                            "      <td>0.252</td>\n",
                            "      <td>0.971</td>\n",
                            "      <td>0.094</td>\n",
                            "      <td>0.905</td>\n",
                            "    </tr>\n",
                            "    <tr>\n",
                            "      <th>HKNA_wind</th>\n",
                            "      <th>Wind speed</th>\n",
                            "      <td>277</td>\n",
                            "      <td>-0.881</td>\n",
                            "      <td>1.276</td>\n",
                            "      <td>0.923</td>\n",
                            "      <td>1.023</td>\n",
                            "      <td>0.963</td>\n",
                            "      <td>0.066</td>\n",
                            "      <td>0.861</td>\n",
                            "    </tr>\n",
                            "    <tr>\n",
                            "      <th>c2_Hm0</th>\n",
                            "      <th>Significant wave height</th>\n",
                            "      <td>113</td>\n",
                            "      <td>-0.001</td>\n",
                            "      <td>0.352</td>\n",
                            "      <td>0.352</td>\n",
                            "      <td>0.295</td>\n",
                            "      <td>0.974</td>\n",
                            "      <td>0.128</td>\n",
                            "      <td>0.900</td>\n",
                            "    </tr>\n",
                            "    <tr>\n",
                            "      <th>c2_wind</th>\n",
                            "      <th>Wind speed</th>\n",
                            "      <td>113</td>\n",
                            "      <td>0.409</td>\n",
                            "      <td>0.638</td>\n",
                            "      <td>0.490</td>\n",
                            "      <td>0.506</td>\n",
                            "      <td>0.960</td>\n",
                            "      <td>0.051</td>\n",
                            "      <td>0.867</td>\n",
                            "    </tr>\n",
                            "    <tr>\n",
                            "      <th rowspan=\"6\" valign=\"top\">SW_2</th>\n",
                            "      <th>EPL_Hm0</th>\n",
                            "      <th>Significant wave height</th>\n",
                            "      <td>67</td>\n",
                            "      <td>-0.000</td>\n",
                            "      <td>0.232</td>\n",
                            "      <td>0.232</td>\n",
                            "      <td>0.198</td>\n",
                            "      <td>0.970</td>\n",
                            "      <td>0.090</td>\n",
                            "      <td>0.927</td>\n",
                            "    </tr>\n",
                            "    <tr>\n",
                            "      <th>F16_wind</th>\n",
                            "      <th>Wind speed</th>\n",
                            "      <td>67</td>\n",
                            "      <td>2.102</td>\n",
                            "      <td>2.775</td>\n",
                            "      <td>1.812</td>\n",
                            "      <td>2.197</td>\n",
                            "      <td>0.825</td>\n",
                            "      <td>0.141</td>\n",
                            "      <td>0.230</td>\n",
                            "    </tr>\n",
                            "    <tr>\n",
                            "      <th>HKNA_Hm0</th>\n",
                            "      <th>Significant wave height</th>\n",
                            "      <td>386</td>\n",
                            "      <td>-0.100</td>\n",
                            "      <td>0.293</td>\n",
                            "      <td>0.275</td>\n",
                            "      <td>0.214</td>\n",
                            "      <td>0.971</td>\n",
                            "      <td>0.089</td>\n",
                            "      <td>0.934</td>\n",
                            "    </tr>\n",
                            "    <tr>\n",
                            "      <th>HKNA_wind</th>\n",
                            "      <th>Wind speed</th>\n",
                            "      <td>277</td>\n",
                            "      <td>-0.881</td>\n",
                            "      <td>1.276</td>\n",
                            "      <td>0.923</td>\n",
                            "      <td>1.023</td>\n",
                            "      <td>0.963</td>\n",
                            "      <td>0.066</td>\n",
                            "      <td>0.861</td>\n",
                            "    </tr>\n",
                            "    <tr>\n",
                            "      <th>c2_Hm0</th>\n",
                            "      <th>Significant wave height</th>\n",
                            "      <td>113</td>\n",
                            "      <td>0.081</td>\n",
                            "      <td>0.430</td>\n",
                            "      <td>0.422</td>\n",
                            "      <td>0.357</td>\n",
                            "      <td>0.974</td>\n",
                            "      <td>0.153</td>\n",
                            "      <td>0.850</td>\n",
                            "    </tr>\n",
                            "    <tr>\n",
                            "      <th>c2_wind</th>\n",
                            "      <th>Wind speed</th>\n",
                            "      <td>113</td>\n",
                            "      <td>0.409</td>\n",
                            "      <td>0.638</td>\n",
                            "      <td>0.490</td>\n",
                            "      <td>0.506</td>\n",
                            "      <td>0.960</td>\n",
                            "      <td>0.051</td>\n",
                            "      <td>0.867</td>\n",
                            "    </tr>\n",
                            "  </tbody>\n",
                            "</table>\n",
                            "</div>"
                        ],
                        "text/plain": [
                            "                                             n   bias   rmse  urmse    mae  \\\n",
                            "model observation variable                                                   \n",
                            "SW_1  EPL_Hm0     Significant wave height   67 -0.067  0.224  0.213  0.189   \n",
                            "      F16_wind    Wind speed                67  2.102  2.775  1.812  2.197   \n",
                            "      HKNA_Hm0    Significant wave height  386 -0.194  0.352  0.293  0.252   \n",
                            "      HKNA_wind   Wind speed               277 -0.881  1.276  0.923  1.023   \n",
                            "      c2_Hm0      Significant wave height  113 -0.001  0.352  0.352  0.295   \n",
                            "      c2_wind     Wind speed               113  0.409  0.638  0.490  0.506   \n",
                            "SW_2  EPL_Hm0     Significant wave height   67 -0.000  0.232  0.232  0.198   \n",
                            "      F16_wind    Wind speed                67  2.102  2.775  1.812  2.197   \n",
                            "      HKNA_Hm0    Significant wave height  386 -0.100  0.293  0.275  0.214   \n",
                            "      HKNA_wind   Wind speed               277 -0.881  1.276  0.923  1.023   \n",
                            "      c2_Hm0      Significant wave height  113  0.081  0.430  0.422  0.357   \n",
                            "      c2_wind     Wind speed               113  0.409  0.638  0.490  0.506   \n",
                            "\n",
                            "                                              cc     si     r2  \n",
                            "model observation variable                                      \n",
                            "SW_1  EPL_Hm0     Significant wave height  0.970  0.083  0.933  \n",
                            "      F16_wind    Wind speed               0.825  0.141  0.230  \n",
                            "      HKNA_Hm0    Significant wave height  0.971  0.094  0.905  \n",
                            "      HKNA_wind   Wind speed               0.963  0.066  0.861  \n",
                            "      c2_Hm0      Significant wave height  0.974  0.128  0.900  \n",
                            "      c2_wind     Wind speed               0.960  0.051  0.867  \n",
                            "SW_2  EPL_Hm0     Significant wave height  0.970  0.090  0.927  \n",
                            "      F16_wind    Wind speed               0.825  0.141  0.230  \n",
                            "      HKNA_Hm0    Significant wave height  0.971  0.089  0.934  \n",
                            "      HKNA_wind   Wind speed               0.963  0.066  0.861  \n",
                            "      c2_Hm0      Significant wave height  0.974  0.153  0.850  \n",
                            "      c2_wind     Wind speed               0.960  0.051  0.867  "
                        ]
                    },
                    "execution_count": 10,
                    "metadata": {},
                    "output_type": "execute_result"
                }
            ],
            "source": [
                "s = cc.skill()\n",
                "s.round(3)"
            ]
        },
        {
            "cell_type": "code",
            "execution_count": 11,
            "metadata": {},
            "outputs": [
                {
                    "data": {
                        "text/plain": [
                            "FrozenList(['model', 'observation', 'variable'])"
                        ]
                    },
                    "execution_count": 11,
                    "metadata": {},
                    "output_type": "execute_result"
                }
            ],
            "source": [
                "s.index.names"
            ]
        },
        {
            "cell_type": "code",
            "execution_count": 12,
            "metadata": {},
            "outputs": [
                {
                    "data": {
                        "text/html": [
                            "<style type=\"text/css\">\n",
                            "#T_706ed_row0_col1 {\n",
                            "  background-color: #a9c6fd;\n",
                            "  color: #000000;\n",
                            "}\n",
                            "#T_706ed_row0_col2, #T_706ed_row0_col3, #T_706ed_row0_col4, #T_706ed_row0_col6, #T_706ed_row4_col7, #T_706ed_row5_col5 {\n",
                            "  background-color: #fff7ec;\n",
                            "  color: #000000;\n",
                            "  text-decoration: underline;\n",
                            "  font-style: italic;\n",
                            "  font-weight: bold;\n",
                            "}\n",
                            "#T_706ed_row0_col5, #T_706ed_row3_col5, #T_706ed_row5_col2, #T_706ed_row5_col3, #T_706ed_row5_col4, #T_706ed_row5_col6, #T_706ed_row5_col7 {\n",
                            "  background-color: #7f0000;\n",
                            "  color: #f1f1f1;\n",
                            "}\n",
                            "#T_706ed_row0_col7 {\n",
                            "  background-color: #fff5e6;\n",
                            "  color: #000000;\n",
                            "}\n",
                            "#T_706ed_row1_col1 {\n",
                            "  background-color: #3b4cc0;\n",
                            "  color: #f1f1f1;\n",
                            "}\n",
                            "#T_706ed_row1_col2 {\n",
                            "  background-color: #ef6548;\n",
                            "  color: #f1f1f1;\n",
                            "}\n",
                            "#T_706ed_row1_col3 {\n",
                            "  background-color: #fdb881;\n",
                            "  color: #000000;\n",
                            "}\n",
                            "#T_706ed_row1_col4 {\n",
                            "  background-color: #fdba83;\n",
                            "  color: #000000;\n",
                            "}\n",
                            "#T_706ed_row1_col5, #T_706ed_row4_col5 {\n",
                            "  background-color: #e0442f;\n",
                            "  color: #f1f1f1;\n",
                            "}\n",
                            "#T_706ed_row1_col6 {\n",
                            "  background-color: #fee1b9;\n",
                            "  color: #000000;\n",
                            "}\n",
                            "#T_706ed_row1_col7 {\n",
                            "  background-color: #fdc28b;\n",
                            "  color: #000000;\n",
                            "}\n",
                            "#T_706ed_row2_col1 {\n",
                            "  background-color: #dcdddd;\n",
                            "  color: #000000;\n",
                            "}\n",
                            "#T_706ed_row2_col2 {\n",
                            "  background-color: #f06749;\n",
                            "  color: #f1f1f1;\n",
                            "}\n",
                            "#T_706ed_row2_col3 {\n",
                            "  background-color: #e8553c;\n",
                            "  color: #f1f1f1;\n",
                            "}\n",
                            "#T_706ed_row2_col4 {\n",
                            "  background-color: #ee6246;\n",
                            "  color: #f1f1f1;\n",
                            "}\n",
                            "#T_706ed_row2_col5 {\n",
                            "  background-color: #fff7ec;\n",
                            "  color: #000000;\n",
                            "}\n",
                            "#T_706ed_row2_col6 {\n",
                            "  background-color: #ec5f43;\n",
                            "  color: #f1f1f1;\n",
                            "}\n",
                            "#T_706ed_row2_col7 {\n",
                            "  background-color: #fdad77;\n",
                            "  color: #000000;\n",
                            "}\n",
                            "#T_706ed_row3_col1 {\n",
                            "  background-color: #dcdddd;\n",
                            "  color: #000000;\n",
                            "  text-decoration: underline;\n",
                            "  font-style: italic;\n",
                            "  font-weight: bold;\n",
                            "}\n",
                            "#T_706ed_row3_col2 {\n",
                            "  background-color: #fff2e0;\n",
                            "  color: #000000;\n",
                            "}\n",
                            "#T_706ed_row3_col3 {\n",
                            "  background-color: #feecd2;\n",
                            "  color: #000000;\n",
                            "}\n",
                            "#T_706ed_row3_col4 {\n",
                            "  background-color: #fff0dc;\n",
                            "  color: #000000;\n",
                            "}\n",
                            "#T_706ed_row3_col6 {\n",
                            "  background-color: #feebcf;\n",
                            "  color: #000000;\n",
                            "}\n",
                            "#T_706ed_row3_col7 {\n",
                            "  background-color: #feedd4;\n",
                            "  color: #000000;\n",
                            "}\n",
                            "#T_706ed_row4_col1 {\n",
                            "  background-color: #89acfd;\n",
                            "  color: #000000;\n",
                            "}\n",
                            "#T_706ed_row4_col2 {\n",
                            "  background-color: #fdc38c;\n",
                            "  color: #000000;\n",
                            "}\n",
                            "#T_706ed_row4_col3 {\n",
                            "  background-color: #fdcb95;\n",
                            "  color: #000000;\n",
                            "}\n",
                            "#T_706ed_row4_col4 {\n",
                            "  background-color: #fee4bf;\n",
                            "  color: #000000;\n",
                            "}\n",
                            "#T_706ed_row4_col6 {\n",
                            "  background-color: #feedd3;\n",
                            "  color: #000000;\n",
                            "}\n",
                            "#T_706ed_row5_col1 {\n",
                            "  background-color: #f7a98b;\n",
                            "  color: #000000;\n",
                            "}\n",
                            "</style>\n",
                            "<table id=\"T_706ed\">\n",
                            "  <thead>\n",
                            "    <tr>\n",
                            "      <th class=\"blank\" >&nbsp;</th>\n",
                            "      <th class=\"blank level0\" >&nbsp;</th>\n",
                            "      <th id=\"T_706ed_level0_col0\" class=\"col_heading level0 col0\" >n</th>\n",
                            "      <th id=\"T_706ed_level0_col1\" class=\"col_heading level0 col1\" >bias</th>\n",
                            "      <th id=\"T_706ed_level0_col2\" class=\"col_heading level0 col2\" >rmse</th>\n",
                            "      <th id=\"T_706ed_level0_col3\" class=\"col_heading level0 col3\" >urmse</th>\n",
                            "      <th id=\"T_706ed_level0_col4\" class=\"col_heading level0 col4\" >mae</th>\n",
                            "      <th id=\"T_706ed_level0_col5\" class=\"col_heading level0 col5\" >cc</th>\n",
                            "      <th id=\"T_706ed_level0_col6\" class=\"col_heading level0 col6\" >si</th>\n",
                            "      <th id=\"T_706ed_level0_col7\" class=\"col_heading level0 col7\" >r2</th>\n",
                            "    </tr>\n",
                            "    <tr>\n",
                            "      <th class=\"index_name level0\" >model</th>\n",
                            "      <th class=\"index_name level1\" >observation</th>\n",
                            "      <th class=\"blank col0\" >&nbsp;</th>\n",
                            "      <th class=\"blank col1\" >&nbsp;</th>\n",
                            "      <th class=\"blank col2\" >&nbsp;</th>\n",
                            "      <th class=\"blank col3\" >&nbsp;</th>\n",
                            "      <th class=\"blank col4\" >&nbsp;</th>\n",
                            "      <th class=\"blank col5\" >&nbsp;</th>\n",
                            "      <th class=\"blank col6\" >&nbsp;</th>\n",
                            "      <th class=\"blank col7\" >&nbsp;</th>\n",
                            "    </tr>\n",
                            "  </thead>\n",
                            "  <tbody>\n",
                            "    <tr>\n",
                            "      <th id=\"T_706ed_level0_row0\" class=\"row_heading level0 row0\" rowspan=\"3\">SW_1</th>\n",
                            "      <th id=\"T_706ed_level1_row0\" class=\"row_heading level1 row0\" >EPL_Hm0</th>\n",
                            "      <td id=\"T_706ed_row0_col0\" class=\"data row0 col0\" >67</td>\n",
                            "      <td id=\"T_706ed_row0_col1\" class=\"data row0 col1\" >-0.067</td>\n",
                            "      <td id=\"T_706ed_row0_col2\" class=\"data row0 col2\" >0.224</td>\n",
                            "      <td id=\"T_706ed_row0_col3\" class=\"data row0 col3\" >0.213</td>\n",
                            "      <td id=\"T_706ed_row0_col4\" class=\"data row0 col4\" >0.189</td>\n",
                            "      <td id=\"T_706ed_row0_col5\" class=\"data row0 col5\" >0.970</td>\n",
                            "      <td id=\"T_706ed_row0_col6\" class=\"data row0 col6\" >0.083</td>\n",
                            "      <td id=\"T_706ed_row0_col7\" class=\"data row0 col7\" >0.933</td>\n",
                            "    </tr>\n",
                            "    <tr>\n",
                            "      <th id=\"T_706ed_level1_row1\" class=\"row_heading level1 row1\" >HKNA_Hm0</th>\n",
                            "      <td id=\"T_706ed_row1_col0\" class=\"data row1 col0\" >386</td>\n",
                            "      <td id=\"T_706ed_row1_col1\" class=\"data row1 col1\" >-0.194</td>\n",
                            "      <td id=\"T_706ed_row1_col2\" class=\"data row1 col2\" >0.352</td>\n",
                            "      <td id=\"T_706ed_row1_col3\" class=\"data row1 col3\" >0.293</td>\n",
                            "      <td id=\"T_706ed_row1_col4\" class=\"data row1 col4\" >0.252</td>\n",
                            "      <td id=\"T_706ed_row1_col5\" class=\"data row1 col5\" >0.971</td>\n",
                            "      <td id=\"T_706ed_row1_col6\" class=\"data row1 col6\" >0.094</td>\n",
                            "      <td id=\"T_706ed_row1_col7\" class=\"data row1 col7\" >0.905</td>\n",
                            "    </tr>\n",
                            "    <tr>\n",
                            "      <th id=\"T_706ed_level1_row2\" class=\"row_heading level1 row2\" >c2_Hm0</th>\n",
                            "      <td id=\"T_706ed_row2_col0\" class=\"data row2 col0\" >113</td>\n",
                            "      <td id=\"T_706ed_row2_col1\" class=\"data row2 col1\" >-0.001</td>\n",
                            "      <td id=\"T_706ed_row2_col2\" class=\"data row2 col2\" >0.352</td>\n",
                            "      <td id=\"T_706ed_row2_col3\" class=\"data row2 col3\" >0.352</td>\n",
                            "      <td id=\"T_706ed_row2_col4\" class=\"data row2 col4\" >0.295</td>\n",
                            "      <td id=\"T_706ed_row2_col5\" class=\"data row2 col5\" >0.974</td>\n",
                            "      <td id=\"T_706ed_row2_col6\" class=\"data row2 col6\" >0.128</td>\n",
                            "      <td id=\"T_706ed_row2_col7\" class=\"data row2 col7\" >0.900</td>\n",
                            "    </tr>\n",
                            "    <tr>\n",
                            "      <th id=\"T_706ed_level0_row3\" class=\"row_heading level0 row3\" rowspan=\"3\">SW_2</th>\n",
                            "      <th id=\"T_706ed_level1_row3\" class=\"row_heading level1 row3\" >EPL_Hm0</th>\n",
                            "      <td id=\"T_706ed_row3_col0\" class=\"data row3 col0\" >67</td>\n",
                            "      <td id=\"T_706ed_row3_col1\" class=\"data row3 col1\" >-0.000</td>\n",
                            "      <td id=\"T_706ed_row3_col2\" class=\"data row3 col2\" >0.232</td>\n",
                            "      <td id=\"T_706ed_row3_col3\" class=\"data row3 col3\" >0.232</td>\n",
                            "      <td id=\"T_706ed_row3_col4\" class=\"data row3 col4\" >0.198</td>\n",
                            "      <td id=\"T_706ed_row3_col5\" class=\"data row3 col5\" >0.970</td>\n",
                            "      <td id=\"T_706ed_row3_col6\" class=\"data row3 col6\" >0.090</td>\n",
                            "      <td id=\"T_706ed_row3_col7\" class=\"data row3 col7\" >0.927</td>\n",
                            "    </tr>\n",
                            "    <tr>\n",
                            "      <th id=\"T_706ed_level1_row4\" class=\"row_heading level1 row4\" >HKNA_Hm0</th>\n",
                            "      <td id=\"T_706ed_row4_col0\" class=\"data row4 col0\" >386</td>\n",
                            "      <td id=\"T_706ed_row4_col1\" class=\"data row4 col1\" >-0.100</td>\n",
                            "      <td id=\"T_706ed_row4_col2\" class=\"data row4 col2\" >0.293</td>\n",
                            "      <td id=\"T_706ed_row4_col3\" class=\"data row4 col3\" >0.275</td>\n",
                            "      <td id=\"T_706ed_row4_col4\" class=\"data row4 col4\" >0.214</td>\n",
                            "      <td id=\"T_706ed_row4_col5\" class=\"data row4 col5\" >0.971</td>\n",
                            "      <td id=\"T_706ed_row4_col6\" class=\"data row4 col6\" >0.089</td>\n",
                            "      <td id=\"T_706ed_row4_col7\" class=\"data row4 col7\" >0.934</td>\n",
                            "    </tr>\n",
                            "    <tr>\n",
                            "      <th id=\"T_706ed_level1_row5\" class=\"row_heading level1 row5\" >c2_Hm0</th>\n",
                            "      <td id=\"T_706ed_row5_col0\" class=\"data row5 col0\" >113</td>\n",
                            "      <td id=\"T_706ed_row5_col1\" class=\"data row5 col1\" >0.081</td>\n",
                            "      <td id=\"T_706ed_row5_col2\" class=\"data row5 col2\" >0.430</td>\n",
                            "      <td id=\"T_706ed_row5_col3\" class=\"data row5 col3\" >0.422</td>\n",
                            "      <td id=\"T_706ed_row5_col4\" class=\"data row5 col4\" >0.357</td>\n",
                            "      <td id=\"T_706ed_row5_col5\" class=\"data row5 col5\" >0.974</td>\n",
                            "      <td id=\"T_706ed_row5_col6\" class=\"data row5 col6\" >0.153</td>\n",
                            "      <td id=\"T_706ed_row5_col7\" class=\"data row5 col7\" >0.850</td>\n",
                            "    </tr>\n",
                            "  </tbody>\n",
                            "</table>\n"
                        ],
                        "text/plain": [
                            "<pandas.io.formats.style.Styler at 0x7f75a5dabb50>"
                        ]
                    },
                    "execution_count": 12,
                    "metadata": {},
                    "output_type": "execute_result"
                }
            ],
            "source": [
                "s = cc.skill(variable='Significant wave height')\n",
                "s.style()"
            ]
        },
        {
            "cell_type": "code",
            "execution_count": 13,
            "metadata": {},
            "outputs": [
                {
                    "data": {
                        "text/html": [
                            "<style type=\"text/css\">\n",
                            "#T_3d689_row0_col2, #T_3d689_row0_col4, #T_3d689_row0_col5, #T_3d689_row0_col7, #T_3d689_row0_col8, #T_3d689_row1_col6 {\n",
                            "  text-decoration: underline;\n",
                            "  font-style: italic;\n",
                            "  font-weight: bold;\n",
                            "}\n",
                            "#T_3d689_row0_col3 {\n",
                            "  background-color: #fff7ec;\n",
                            "  color: #000000;\n",
                            "  text-decoration: underline;\n",
                            "  font-style: italic;\n",
                            "  font-weight: bold;\n",
                            "}\n",
                            "#T_3d689_row1_col3 {\n",
                            "  background-color: #7f0000;\n",
                            "  color: #f1f1f1;\n",
                            "}\n",
                            "</style>\n",
                            "<table id=\"T_3d689\">\n",
                            "  <thead>\n",
                            "    <tr>\n",
                            "      <th class=\"blank level0\" >&nbsp;</th>\n",
                            "      <th id=\"T_3d689_level0_col0\" class=\"col_heading level0 col0\" >observation</th>\n",
                            "      <th id=\"T_3d689_level0_col1\" class=\"col_heading level0 col1\" >n</th>\n",
                            "      <th id=\"T_3d689_level0_col2\" class=\"col_heading level0 col2\" >bias</th>\n",
                            "      <th id=\"T_3d689_level0_col3\" class=\"col_heading level0 col3\" >rmse</th>\n",
                            "      <th id=\"T_3d689_level0_col4\" class=\"col_heading level0 col4\" >urmse</th>\n",
                            "      <th id=\"T_3d689_level0_col5\" class=\"col_heading level0 col5\" >mae</th>\n",
                            "      <th id=\"T_3d689_level0_col6\" class=\"col_heading level0 col6\" >cc</th>\n",
                            "      <th id=\"T_3d689_level0_col7\" class=\"col_heading level0 col7\" >si</th>\n",
                            "      <th id=\"T_3d689_level0_col8\" class=\"col_heading level0 col8\" >r2</th>\n",
                            "    </tr>\n",
                            "    <tr>\n",
                            "      <th class=\"index_name level0\" >model</th>\n",
                            "      <th class=\"blank col0\" >&nbsp;</th>\n",
                            "      <th class=\"blank col1\" >&nbsp;</th>\n",
                            "      <th class=\"blank col2\" >&nbsp;</th>\n",
                            "      <th class=\"blank col3\" >&nbsp;</th>\n",
                            "      <th class=\"blank col4\" >&nbsp;</th>\n",
                            "      <th class=\"blank col5\" >&nbsp;</th>\n",
                            "      <th class=\"blank col6\" >&nbsp;</th>\n",
                            "      <th class=\"blank col7\" >&nbsp;</th>\n",
                            "      <th class=\"blank col8\" >&nbsp;</th>\n",
                            "    </tr>\n",
                            "  </thead>\n",
                            "  <tbody>\n",
                            "    <tr>\n",
                            "      <th id=\"T_3d689_level0_row0\" class=\"row_heading level0 row0\" >SW_1</th>\n",
                            "      <td id=\"T_3d689_row0_col0\" class=\"data row0 col0\" >c2_Hm0</td>\n",
                            "      <td id=\"T_3d689_row0_col1\" class=\"data row0 col1\" >113</td>\n",
                            "      <td id=\"T_3d689_row0_col2\" class=\"data row0 col2\" >-0.001</td>\n",
                            "      <td id=\"T_3d689_row0_col3\" class=\"data row0 col3\" >0.352</td>\n",
                            "      <td id=\"T_3d689_row0_col4\" class=\"data row0 col4\" >0.352</td>\n",
                            "      <td id=\"T_3d689_row0_col5\" class=\"data row0 col5\" >0.295</td>\n",
                            "      <td id=\"T_3d689_row0_col6\" class=\"data row0 col6\" >0.974</td>\n",
                            "      <td id=\"T_3d689_row0_col7\" class=\"data row0 col7\" >0.128</td>\n",
                            "      <td id=\"T_3d689_row0_col8\" class=\"data row0 col8\" >0.900</td>\n",
                            "    </tr>\n",
                            "    <tr>\n",
                            "      <th id=\"T_3d689_level0_row1\" class=\"row_heading level0 row1\" >SW_2</th>\n",
                            "      <td id=\"T_3d689_row1_col0\" class=\"data row1 col0\" >c2_Hm0</td>\n",
                            "      <td id=\"T_3d689_row1_col1\" class=\"data row1 col1\" >113</td>\n",
                            "      <td id=\"T_3d689_row1_col2\" class=\"data row1 col2\" >0.081</td>\n",
                            "      <td id=\"T_3d689_row1_col3\" class=\"data row1 col3\" >0.430</td>\n",
                            "      <td id=\"T_3d689_row1_col4\" class=\"data row1 col4\" >0.422</td>\n",
                            "      <td id=\"T_3d689_row1_col5\" class=\"data row1 col5\" >0.357</td>\n",
                            "      <td id=\"T_3d689_row1_col6\" class=\"data row1 col6\" >0.974</td>\n",
                            "      <td id=\"T_3d689_row1_col7\" class=\"data row1 col7\" >0.153</td>\n",
                            "      <td id=\"T_3d689_row1_col8\" class=\"data row1 col8\" >0.850</td>\n",
                            "    </tr>\n",
                            "  </tbody>\n",
                            "</table>\n"
                        ],
                        "text/plain": [
                            "<pandas.io.formats.style.Styler at 0x7f75a5cde910>"
                        ]
                    },
                    "execution_count": 13,
                    "metadata": {},
                    "output_type": "execute_result"
                }
            ],
            "source": [
                "s.sel(observation='c2_Hm0').style(columns='rmse')"
            ]
        },
        {
            "cell_type": "code",
            "execution_count": 14,
            "metadata": {},
            "outputs": [
                {
                    "data": {
                        "image/png": "[encoded data removed]",
                        "text/plain": [
                            "<Figure size 640x480 with 1 Axes>"
                        ]
                    },
                    "metadata": {},
                    "output_type": "display_data"
                }
            ],
            "source": [
                "s.plot_line('rmse', ylabel='Hm0 RMSE [m]');"
            ]
        },
        {
            "cell_type": "code",
            "execution_count": 15,
            "metadata": {},
            "outputs": [
                {
                    "data": {
                        "image/png": "[encoded data removed]",
                        "text/plain": [
                            "<Figure size 800x800 with 2 Axes>"
                        ]
                    },
                    "metadata": {},
                    "output_type": "display_data"
                }
            ],
            "source": [
                "cc.scatter(model=1);"
            ]
        },
        {
            "attachments": {},
            "cell_type": "markdown",
            "metadata": {},
            "source": [
                "## mean skill\n",
                "The `mean_skill()` method will return a weighted average of the skill score per model and variable. You can get the \"normal\" mean_skill (per model) by selecting a specific variable either by id or name."
            ]
        },
        {
            "cell_type": "code",
            "execution_count": 16,
            "metadata": {},
            "outputs": [
                {
                    "data": {
                        "text/html": [
                            "<div>\n",
                            "<style scoped>\n",
                            "    .dataframe tbody tr th:only-of-type {\n",
                            "        vertical-align: middle;\n",
                            "    }\n",
                            "\n",
                            "    .dataframe tbody tr th {\n",
                            "        vertical-align: top;\n",
                            "    }\n",
                            "\n",
                            "    .dataframe thead th {\n",
                            "        text-align: right;\n",
                            "    }\n",
                            "</style>\n",
                            "<table border=\"1\" class=\"dataframe\">\n",
                            "  <thead>\n",
                            "    <tr style=\"text-align: right;\">\n",
                            "      <th></th>\n",
                            "      <th></th>\n",
                            "      <th>n</th>\n",
                            "      <th>bias</th>\n",
                            "      <th>rmse</th>\n",
                            "      <th>urmse</th>\n",
                            "      <th>mae</th>\n",
                            "      <th>cc</th>\n",
                            "      <th>si</th>\n",
                            "      <th>r2</th>\n",
                            "    </tr>\n",
                            "    <tr>\n",
                            "      <th>model</th>\n",
                            "      <th>variable</th>\n",
                            "      <th></th>\n",
                            "      <th></th>\n",
                            "      <th></th>\n",
                            "      <th></th>\n",
                            "      <th></th>\n",
                            "      <th></th>\n",
                            "      <th></th>\n",
                            "      <th></th>\n",
                            "    </tr>\n",
                            "  </thead>\n",
                            "  <tbody>\n",
                            "    <tr>\n",
                            "      <th rowspan=\"2\" valign=\"top\">SW_1</th>\n",
                            "      <th>Significant wave height</th>\n",
                            "      <td>566</td>\n",
                            "      <td>-0.087356</td>\n",
                            "      <td>0.309119</td>\n",
                            "      <td>0.286247</td>\n",
                            "      <td>0.244979</td>\n",
                            "      <td>0.971791</td>\n",
                            "      <td>0.101595</td>\n",
                            "      <td>0.912468</td>\n",
                            "    </tr>\n",
                            "    <tr>\n",
                            "      <th>Wind speed</th>\n",
                            "      <td>457</td>\n",
                            "      <td>0.543226</td>\n",
                            "      <td>1.563076</td>\n",
                            "      <td>1.075053</td>\n",
                            "      <td>1.241847</td>\n",
                            "      <td>0.915916</td>\n",
                            "      <td>0.086039</td>\n",
                            "      <td>0.652388</td>\n",
                            "    </tr>\n",
                            "    <tr>\n",
                            "      <th rowspan=\"2\" valign=\"top\">SW_2</th>\n",
                            "      <th>Significant wave height</th>\n",
                            "      <td>566</td>\n",
                            "      <td>-0.006398</td>\n",
                            "      <td>0.318593</td>\n",
                            "      <td>0.310086</td>\n",
                            "      <td>0.256618</td>\n",
                            "      <td>0.971791</td>\n",
                            "      <td>0.110653</td>\n",
                            "      <td>0.903722</td>\n",
                            "    </tr>\n",
                            "    <tr>\n",
                            "      <th>Wind speed</th>\n",
                            "      <td>457</td>\n",
                            "      <td>0.543226</td>\n",
                            "      <td>1.563076</td>\n",
                            "      <td>1.075053</td>\n",
                            "      <td>1.241847</td>\n",
                            "      <td>0.915916</td>\n",
                            "      <td>0.086039</td>\n",
                            "      <td>0.652388</td>\n",
                            "    </tr>\n",
                            "  </tbody>\n",
                            "</table>\n",
                            "</div>"
                        ],
                        "text/plain": [
                            "                                 n      bias      rmse     urmse       mae  \\\n",
                            "model variable                                                               \n",
                            "SW_1  Significant wave height  566 -0.087356  0.309119  0.286247  0.244979   \n",
                            "      Wind speed               457  0.543226  1.563076  1.075053  1.241847   \n",
                            "SW_2  Significant wave height  566 -0.006398  0.318593  0.310086  0.256618   \n",
                            "      Wind speed               457  0.543226  1.563076  1.075053  1.241847   \n",
                            "\n",
                            "                                     cc        si        r2  \n",
                            "model variable                                               \n",
                            "SW_1  Significant wave height  0.971791  0.101595  0.912468  \n",
                            "      Wind speed               0.915916  0.086039  0.652388  \n",
                            "SW_2  Significant wave height  0.971791  0.110653  0.903722  \n",
                            "      Wind speed               0.915916  0.086039  0.652388  "
                        ]
                    },
                    "execution_count": 16,
                    "metadata": {},
                    "output_type": "execute_result"
                }
            ],
            "source": [
                "s = cc.mean_skill()\n",
                "s"
            ]
        },
        {
            "cell_type": "code",
            "execution_count": 17,
            "metadata": {},
            "outputs": [
                {
                    "data": {
                        "image/png": "[encoded data removed]",
                        "text/plain": [
                            "<Figure size 640x480 with 1 Axes>"
                        ]
                    },
                    "metadata": {},
                    "output_type": "display_data"
                }
            ],
            "source": [
                "s.plot_bar('si', title='scatter index');"
            ]
        },
        {
            "cell_type": "code",
            "execution_count": 18,
            "metadata": {},
            "outputs": [
                {
                    "data": {
                        "text/html": [
                            "<div>\n",
                            "<style scoped>\n",
                            "    .dataframe tbody tr th:only-of-type {\n",
                            "        vertical-align: middle;\n",
                            "    }\n",
                            "\n",
                            "    .dataframe tbody tr th {\n",
                            "        vertical-align: top;\n",
                            "    }\n",
                            "\n",
                            "    .dataframe thead th {\n",
                            "        text-align: right;\n",
                            "    }\n",
                            "</style>\n",
                            "<table border=\"1\" class=\"dataframe\">\n",
                            "  <thead>\n",
                            "    <tr style=\"text-align: right;\">\n",
                            "      <th></th>\n",
                            "      <th>n</th>\n",
                            "      <th>bias</th>\n",
                            "      <th>rmse</th>\n",
                            "      <th>urmse</th>\n",
                            "      <th>mae</th>\n",
                            "      <th>cc</th>\n",
                            "      <th>si</th>\n",
                            "      <th>r2</th>\n",
                            "    </tr>\n",
                            "    <tr>\n",
                            "      <th>variable</th>\n",
                            "      <th></th>\n",
                            "      <th></th>\n",
                            "      <th></th>\n",
                            "      <th></th>\n",
                            "      <th></th>\n",
                            "      <th></th>\n",
                            "      <th></th>\n",
                            "      <th></th>\n",
                            "    </tr>\n",
                            "  </thead>\n",
                            "  <tbody>\n",
                            "    <tr>\n",
                            "      <th>Significant wave height</th>\n",
                            "      <td>566</td>\n",
                            "      <td>-0.006398</td>\n",
                            "      <td>0.318593</td>\n",
                            "      <td>0.310086</td>\n",
                            "      <td>0.256618</td>\n",
                            "      <td>0.971791</td>\n",
                            "      <td>0.110653</td>\n",
                            "      <td>0.903722</td>\n",
                            "    </tr>\n",
                            "    <tr>\n",
                            "      <th>Wind speed</th>\n",
                            "      <td>457</td>\n",
                            "      <td>0.543226</td>\n",
                            "      <td>1.563076</td>\n",
                            "      <td>1.075053</td>\n",
                            "      <td>1.241847</td>\n",
                            "      <td>0.915916</td>\n",
                            "      <td>0.086039</td>\n",
                            "      <td>0.652388</td>\n",
                            "    </tr>\n",
                            "  </tbody>\n",
                            "</table>\n",
                            "</div>"
                        ],
                        "text/plain": [
                            "                           n      bias      rmse     urmse       mae  \\\n",
                            "variable                                                               \n",
                            "Significant wave height  566 -0.006398  0.318593  0.310086  0.256618   \n",
                            "Wind speed               457  0.543226  1.563076  1.075053  1.241847   \n",
                            "\n",
                            "                               cc        si        r2  \n",
                            "variable                                               \n",
                            "Significant wave height  0.971791  0.110653  0.903722  \n",
                            "Wind speed               0.915916  0.086039  0.652388  "
                        ]
                    },
                    "execution_count": 18,
                    "metadata": {},
                    "output_type": "execute_result"
                }
            ],
            "source": [
                "cc.mean_skill(model='SW_2')"
            ]
        },
        {
            "cell_type": "code",
            "execution_count": 19,
            "metadata": {},
            "outputs": [
                {
                    "data": {
                        "text/html": [
                            "<style type=\"text/css\">\n",
                            "#T_47ada_row0_col2, #T_47ada_row0_col3, #T_47ada_row0_col4, #T_47ada_row0_col5, #T_47ada_row0_col6, #T_47ada_row0_col7, #T_47ada_row1_col1 {\n",
                            "  text-decoration: underline;\n",
                            "  font-style: italic;\n",
                            "  font-weight: bold;\n",
                            "}\n",
                            "</style>\n",
                            "<table id=\"T_47ada\">\n",
                            "  <thead>\n",
                            "    <tr>\n",
                            "      <th class=\"blank level0\" >&nbsp;</th>\n",
                            "      <th id=\"T_47ada_level0_col0\" class=\"col_heading level0 col0\" >n</th>\n",
                            "      <th id=\"T_47ada_level0_col1\" class=\"col_heading level0 col1\" >bias</th>\n",
                            "      <th id=\"T_47ada_level0_col2\" class=\"col_heading level0 col2\" >rmse</th>\n",
                            "      <th id=\"T_47ada_level0_col3\" class=\"col_heading level0 col3\" >urmse</th>\n",
                            "      <th id=\"T_47ada_level0_col4\" class=\"col_heading level0 col4\" >mae</th>\n",
                            "      <th id=\"T_47ada_level0_col5\" class=\"col_heading level0 col5\" >cc</th>\n",
                            "      <th id=\"T_47ada_level0_col6\" class=\"col_heading level0 col6\" >si</th>\n",
                            "      <th id=\"T_47ada_level0_col7\" class=\"col_heading level0 col7\" >r2</th>\n",
                            "    </tr>\n",
                            "    <tr>\n",
                            "      <th class=\"index_name level0\" >model</th>\n",
                            "      <th class=\"blank col0\" >&nbsp;</th>\n",
                            "      <th class=\"blank col1\" >&nbsp;</th>\n",
                            "      <th class=\"blank col2\" >&nbsp;</th>\n",
                            "      <th class=\"blank col3\" >&nbsp;</th>\n",
                            "      <th class=\"blank col4\" >&nbsp;</th>\n",
                            "      <th class=\"blank col5\" >&nbsp;</th>\n",
                            "      <th class=\"blank col6\" >&nbsp;</th>\n",
                            "      <th class=\"blank col7\" >&nbsp;</th>\n",
                            "    </tr>\n",
                            "  </thead>\n",
                            "  <tbody>\n",
                            "    <tr>\n",
                            "      <th id=\"T_47ada_level0_row0\" class=\"row_heading level0 row0\" >SW_1</th>\n",
                            "      <td id=\"T_47ada_row0_col0\" class=\"data row0 col0\" >566</td>\n",
                            "      <td id=\"T_47ada_row0_col1\" class=\"data row0 col1\" >-0.087</td>\n",
                            "      <td id=\"T_47ada_row0_col2\" class=\"data row0 col2\" >0.309</td>\n",
                            "      <td id=\"T_47ada_row0_col3\" class=\"data row0 col3\" >0.286</td>\n",
                            "      <td id=\"T_47ada_row0_col4\" class=\"data row0 col4\" >0.245</td>\n",
                            "      <td id=\"T_47ada_row0_col5\" class=\"data row0 col5\" >0.972</td>\n",
                            "      <td id=\"T_47ada_row0_col6\" class=\"data row0 col6\" >0.102</td>\n",
                            "      <td id=\"T_47ada_row0_col7\" class=\"data row0 col7\" >0.912</td>\n",
                            "    </tr>\n",
                            "    <tr>\n",
                            "      <th id=\"T_47ada_level0_row1\" class=\"row_heading level0 row1\" >SW_2</th>\n",
                            "      <td id=\"T_47ada_row1_col0\" class=\"data row1 col0\" >566</td>\n",
                            "      <td id=\"T_47ada_row1_col1\" class=\"data row1 col1\" >-0.006</td>\n",
                            "      <td id=\"T_47ada_row1_col2\" class=\"data row1 col2\" >0.319</td>\n",
                            "      <td id=\"T_47ada_row1_col3\" class=\"data row1 col3\" >0.310</td>\n",
                            "      <td id=\"T_47ada_row1_col4\" class=\"data row1 col4\" >0.257</td>\n",
                            "      <td id=\"T_47ada_row1_col5\" class=\"data row1 col5\" >0.972</td>\n",
                            "      <td id=\"T_47ada_row1_col6\" class=\"data row1 col6\" >0.111</td>\n",
                            "      <td id=\"T_47ada_row1_col7\" class=\"data row1 col7\" >0.904</td>\n",
                            "    </tr>\n",
                            "  </tbody>\n",
                            "</table>\n"
                        ],
                        "text/plain": [
                            "<pandas.io.formats.style.Styler at 0x7f759b6eb950>"
                        ]
                    },
                    "execution_count": 19,
                    "metadata": {},
                    "output_type": "execute_result"
                }
            ],
            "source": [
                "cc.mean_skill(variable='Significant wave height').style(columns=[])"
            ]
        },
        {
            "attachments": {},
            "cell_type": "markdown",
            "metadata": {},
            "source": [
                "## score"
            ]
        },
        {
            "cell_type": "code",
            "execution_count": 20,
            "metadata": {},
            "outputs": [
                {
                    "data": {
                        "text/plain": [
                            "{'SW_1': 0.9360973333549103, 'SW_2': 0.9408344021305475}"
                        ]
                    },
                    "execution_count": 20,
                    "metadata": {},
                    "output_type": "execute_result"
                }
            ],
            "source": [
                "cc.score()"
            ]
        },
        {
            "cell_type": "code",
            "execution_count": 21,
            "metadata": {},
            "outputs": [
                {
                    "data": {
                        "text/plain": [
                            "0.9360973333549103"
                        ]
                    },
                    "execution_count": 21,
                    "metadata": {},
                    "output_type": "execute_result"
                }
            ],
            "source": [
                "cc.score(model='SW_1')"
            ]
        },
        {
            "cell_type": "code",
            "execution_count": 22,
            "metadata": {},
            "outputs": [
                {
                    "data": {
                        "text/plain": [
                            "{'SW_1': 1.5630757237072406, 'SW_2': 1.5630757237072406}"
                        ]
                    },
                    "execution_count": 22,
                    "metadata": {},
                    "output_type": "execute_result"
                }
            ],
            "source": [
                "cc.score(variable='Wind speed')"
            ]
        }
    ],
    "metadata": {
        "kernelspec": {
            "display_name": "base",
            "language": "python",
            "name": "python3"
        },
        "language_info": {
            "codemirror_mode": {
                "name": "ipython",
                "version": 3
            },
            "file_extension": ".py",
            "mimetype": "text/x-python",
            "name": "python",
            "nbconvert_exporter": "python",
            "pygments_lexer": "ipython3",
            "version": "3.11.1"
        },
        "orig_nbformat": 2,
        "vscode": {
            "interpreter": {
                "hash": "7aec4f91c09090e98e6ae8203c38529831bb4a3ce54cd1b69639b53cb01a6aa9"
            }
        }
    },
    "nbformat": 4,
    "nbformat_minor": 2
}