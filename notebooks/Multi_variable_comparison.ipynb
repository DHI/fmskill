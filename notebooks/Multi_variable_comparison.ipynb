{
 "metadata": {
  "language_info": {
   "codemirror_mode": {
    "name": "ipython",
    "version": 3
   },
   "file_extension": ".py",
   "mimetype": "text/x-python",
   "name": "python",
   "nbconvert_exporter": "python",
   "pygments_lexer": "ipython3",
   "version": "3.8.5"
  },
  "orig_nbformat": 2,
  "kernelspec": {
   "name": "python385jvsc74a57bd01b27a185e5e38addd349bee67c436665dc7832e161e2a923b2540665280bf8fe",
   "display_name": "Python 3.8.5 64-bit ('base': conda)"
  }
 },
 "nbformat": 4,
 "nbformat_minor": 2,
 "cells": [
  {
   "source": [
    "# Multi variable comparison\n",
    "Assessing both wave height and wind speed at the same time"
   ],
   "cell_type": "markdown",
   "metadata": {}
  },
  {
   "cell_type": "code",
   "execution_count": 1,
   "metadata": {},
   "outputs": [],
   "source": [
    "import matplotlib.pyplot as plt\n",
    "import pandas as pd\n",
    "import numpy as np\n",
    "from fmskill import ModelResult, PointObservation, TrackObservation"
   ]
  },
  {
   "cell_type": "code",
   "execution_count": 2,
   "metadata": {},
   "outputs": [],
   "source": [
    "%load_ext autoreload\n",
    "%autoreload 2"
   ]
  },
  {
   "source": [
    "## Define observations"
   ],
   "cell_type": "markdown",
   "metadata": {}
  },
  {
   "cell_type": "code",
   "execution_count": 16,
   "metadata": {},
   "outputs": [],
   "source": [
    "# wave height\n",
    "o1 = PointObservation('../tests/testdata/SW/HKNA_Hm0.dfs0', item=0, x=4.2420, y=52.6887, name=\"HKNA_Hm0\")\n",
    "o2 = PointObservation(\"../tests/testdata/SW/eur_Hm0.dfs0\", item=0, x=3.2760, y=51.9990, name=\"EPL_Hm0\")\n",
    "o3 = TrackObservation(\"../tests/testdata/SW/Alti_c2_Dutch.dfs0\", item=3, name=\"c2_Hm0\")\n",
    "\n",
    "# wind speed\n",
    "wind1 = PointObservation('../tests/testdata/SW/HKNA_wind.dfs0', item=0, x=4.2420, y=52.6887, name=\"HKNA_wind\")\n",
    "wind2 = PointObservation('../tests/testdata/SW/F16_wind.dfs0', item=0, x=4.01222, y=54.1167, name=\"F16_wind\")\n",
    "wind3 = TrackObservation(\"../tests/testdata/SW/Alti_c2_Dutch.dfs0\", item=2, name=\"c2_wind\")"
   ]
  },
  {
   "cell_type": "code",
   "execution_count": 15,
   "metadata": {},
   "outputs": [
    {
     "output_type": "execute_result",
     "data": {
      "text/plain": [
       "ws <Wind speed> (meter per sec)"
      ]
     },
     "metadata": {},
     "execution_count": 15
    }
   ],
   "source": [
    "wind3.itemInfo"
   ]
  },
  {
   "source": [
    "## Define model results"
   ],
   "cell_type": "markdown",
   "metadata": {}
  },
  {
   "cell_type": "code",
   "execution_count": 6,
   "metadata": {},
   "outputs": [],
   "source": [
    "mr1 = ModelResult('../tests/testdata/SW/HKZN_local_2017_DutchCoast.dfsu', name='SW_1')\n",
    "mr2 = ModelResult('../tests/testdata/SW/HKZN_local_2017_DutchCoast_v2.dfsu', name='SW_2')"
   ]
  },
  {
   "cell_type": "code",
   "execution_count": 12,
   "metadata": {},
   "outputs": [
    {
     "output_type": "execute_result",
     "data": {
      "text/plain": [
       "[Sign. Wave Height <Significant wave height> (meter),\n",
       " Max. Wave Height <Maximum wave height> (meter),\n",
       " Peak Wave Period <Wave period> (second),\n",
       " Wave Period, T01 <Wave period> (second),\n",
       " Wave Period, T02 <Wave period> (second),\n",
       " Peak Wave Direction <Wave direction> (radian),\n",
       " Mean Wave Direction <Mean Wave Direction> (degree),\n",
       " Dir. Stand. Deviation <Directional Standard Deviation> (degree),\n",
       " x-comp. of wave height vector <u velocity component> (meter per sec),\n",
       " y-comp. of wave height vector <v velocity component> (meter per sec),\n",
       " Surface elevation <Surface Elevation> (meter),\n",
       " Current velocity, U <u velocity component> (meter per sec),\n",
       " Current velocity, V <v velocity component> (meter per sec),\n",
       " Wind speed <Wind speed> (meter per sec),\n",
       " Wind direction <Wind Direction> (degree)]"
      ]
     },
     "metadata": {},
     "execution_count": 12
    }
   ],
   "source": [
    "mr1.dfs.items"
   ]
  },
  {
   "source": [
    "## Associate model and observations and extract"
   ],
   "cell_type": "markdown",
   "metadata": {}
  },
  {
   "cell_type": "code",
   "execution_count": 19,
   "metadata": {},
   "outputs": [],
   "source": [
    "#mr = [mr1, mr2]\n",
    "mr = mr1"
   ]
  },
  {
   "cell_type": "code",
   "execution_count": 20,
   "metadata": {},
   "outputs": [
    {
     "output_type": "execute_result",
     "data": {
      "text/plain": [
       "{'HKNA_Hm0': PointObservation: HKNA_Hm0, x=4.242, y=52.6887,\n",
       " 'EPL_Hm0': PointObservation: EPL_Hm0, x=3.276, y=51.999,\n",
       " 'HKNA_wind': PointObservation: HKNA_wind, x=4.242, y=52.6887}"
      ]
     },
     "metadata": {},
     "execution_count": 20
    }
   ],
   "source": [
    "mr.add_observation(o1, item='Sign. Wave Height')\n",
    "mr.add_observation(o2, item='Sign. Wave Height')\n",
    "mr.add_observation(wind1, item='Wind speed')\n",
    "mr.observations"
   ]
  },
  {
   "cell_type": "code",
   "execution_count": 21,
   "metadata": {},
   "outputs": [],
   "source": [
    "cc = mr.extract() "
   ]
  },
  {
   "source": [
    "## Analysis"
   ],
   "cell_type": "markdown",
   "metadata": {}
  },
  {
   "cell_type": "code",
   "execution_count": 22,
   "metadata": {},
   "outputs": [
    {
     "output_type": "execute_result",
     "data": {
      "text/plain": [
       "               n      bias      rmse     urmse       mae        cc        si  \\\n",
       "observation                                                                    \n",
       "EPL_Hm0       66 -0.075335  0.216357  0.202817  0.183641  0.972467  0.073902   \n",
       "HKNA_Hm0     385 -0.195266  0.352283  0.293214  0.251992  0.971082  0.088488   \n",
       "HKNA_wind    277 -0.880928  1.276179  0.923363  1.023092  0.962845  0.064528   \n",
       "\n",
       "                   r2  \n",
       "observation            \n",
       "EPL_Hm0      0.993785  \n",
       "HKNA_Hm0     0.988697  \n",
       "HKNA_wind    0.992046  "
      ],
      "text/html": "<div>\n<style scoped>\n    .dataframe tbody tr th:only-of-type {\n        vertical-align: middle;\n    }\n\n    .dataframe tbody tr th {\n        vertical-align: top;\n    }\n\n    .dataframe thead th {\n        text-align: right;\n    }\n</style>\n<table border=\"1\" class=\"dataframe\">\n  <thead>\n    <tr style=\"text-align: right;\">\n      <th></th>\n      <th>n</th>\n      <th>bias</th>\n      <th>rmse</th>\n      <th>urmse</th>\n      <th>mae</th>\n      <th>cc</th>\n      <th>si</th>\n      <th>r2</th>\n    </tr>\n    <tr>\n      <th>observation</th>\n      <th></th>\n      <th></th>\n      <th></th>\n      <th></th>\n      <th></th>\n      <th></th>\n      <th></th>\n      <th></th>\n    </tr>\n  </thead>\n  <tbody>\n    <tr>\n      <th>EPL_Hm0</th>\n      <td>66</td>\n      <td>-0.075335</td>\n      <td>0.216357</td>\n      <td>0.202817</td>\n      <td>0.183641</td>\n      <td>0.972467</td>\n      <td>0.073902</td>\n      <td>0.993785</td>\n    </tr>\n    <tr>\n      <th>HKNA_Hm0</th>\n      <td>385</td>\n      <td>-0.195266</td>\n      <td>0.352283</td>\n      <td>0.293214</td>\n      <td>0.251992</td>\n      <td>0.971082</td>\n      <td>0.088488</td>\n      <td>0.988697</td>\n    </tr>\n    <tr>\n      <th>HKNA_wind</th>\n      <td>277</td>\n      <td>-0.880928</td>\n      <td>1.276179</td>\n      <td>0.923363</td>\n      <td>1.023092</td>\n      <td>0.962845</td>\n      <td>0.064528</td>\n      <td>0.992046</td>\n    </tr>\n  </tbody>\n</table>\n</div>"
     },
     "metadata": {},
     "execution_count": 22
    }
   ],
   "source": [
    "cc.skill()"
   ]
  },
  {
   "cell_type": "code",
   "execution_count": null,
   "metadata": {},
   "outputs": [],
   "source": []
  }
 ]
}