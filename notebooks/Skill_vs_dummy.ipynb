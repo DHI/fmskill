{
 "cells": [
  {
   "cell_type": "markdown",
   "metadata": {},
   "source": [
    "# Is my model better than predicting the mean?\n",
    "\n",
    "It is easy to be convinced that a model is good if it has a low error.\n",
    "\n",
    "But it is always a good idea to compare your model to a baseline, to see if it is actually better than just predicting the mean.\n",
    "\n",
    "This can be done easily in `modelskill` thanks to the `DummyModelResult` class.\n"
   ]
  },
  {
   "cell_type": "code",
   "execution_count": 1,
   "metadata": {},
   "outputs": [
    {
     "data": {
      "text/plain": [
       "<DfsuModelResult> 'Oresund2D'"
      ]
     },
     "execution_count": 1,
     "metadata": {},
     "output_type": "execute_result"
    }
   ],
   "source": [
    "import modelskill as ms\n",
    "\n",
    "fn = '../tests/testdata/Oresund2D.dfsu'\n",
    "mr = ms.model_result(fn, item='Surface elevation')\n",
    "mr"
   ]
  },
  {
   "cell_type": "code",
   "execution_count": 2,
   "metadata": {},
   "outputs": [
    {
     "data": {
      "text/plain": [
       "PointObservation: smhi_2095_klagshamn, x=366844.15, y=6154291.6"
      ]
     },
     "execution_count": 2,
     "metadata": {},
     "output_type": "execute_result"
    }
   ],
   "source": [
    "fn = '../tests/testdata/smhi_2095_klagshamn.dfs0'\n",
    "obs = ms.PointObservation(fn, x=366844.15, y=6154291.6, item=0)\n",
    "obs\n"
   ]
  },
  {
   "cell_type": "code",
   "execution_count": 3,
   "metadata": {},
   "outputs": [
    {
     "data": {
      "text/plain": [
       "DummyModelResult(name='dummy', data=0.0, strategy='constant')"
      ]
     },
     "execution_count": 3,
     "metadata": {},
     "output_type": "execute_result"
    }
   ],
   "source": [
    "dmr = ms.DummyModelResult(data=0.0)\n",
    "dmr"
   ]
  },
  {
   "cell_type": "code",
   "execution_count": 4,
   "metadata": {},
   "outputs": [
    {
     "data": {
      "text/html": [
       "<div>\n",
       "<style scoped>\n",
       "    .dataframe tbody tr th:only-of-type {\n",
       "        vertical-align: middle;\n",
       "    }\n",
       "\n",
       "    .dataframe tbody tr th {\n",
       "        vertical-align: top;\n",
       "    }\n",
       "\n",
       "    .dataframe thead th {\n",
       "        text-align: right;\n",
       "    }\n",
       "</style>\n",
       "<table border=\"1\" class=\"dataframe\">\n",
       "  <thead>\n",
       "    <tr style=\"text-align: right;\">\n",
       "      <th></th>\n",
       "      <th>observation</th>\n",
       "      <th>n</th>\n",
       "      <th>bias</th>\n",
       "      <th>rmse</th>\n",
       "      <th>urmse</th>\n",
       "      <th>mae</th>\n",
       "      <th>cc</th>\n",
       "      <th>si</th>\n",
       "      <th>r2</th>\n",
       "    </tr>\n",
       "    <tr>\n",
       "      <th>model</th>\n",
       "      <th></th>\n",
       "      <th></th>\n",
       "      <th></th>\n",
       "      <th></th>\n",
       "      <th></th>\n",
       "      <th></th>\n",
       "      <th></th>\n",
       "      <th></th>\n",
       "      <th></th>\n",
       "    </tr>\n",
       "  </thead>\n",
       "  <tbody>\n",
       "    <tr>\n",
       "      <th>Oresund2D</th>\n",
       "      <td>smhi_2095_klagshamn</td>\n",
       "      <td>167</td>\n",
       "      <td>-0.0</td>\n",
       "      <td>0.041</td>\n",
       "      <td>0.041</td>\n",
       "      <td>0.033</td>\n",
       "      <td>0.838</td>\n",
       "      <td>0.379</td>\n",
       "      <td>0.702</td>\n",
       "    </tr>\n",
       "    <tr>\n",
       "      <th>dummy</th>\n",
       "      <td>smhi_2095_klagshamn</td>\n",
       "      <td>167</td>\n",
       "      <td>-0.0</td>\n",
       "      <td>0.075</td>\n",
       "      <td>0.075</td>\n",
       "      <td>0.061</td>\n",
       "      <td>-0.000</td>\n",
       "      <td>0.695</td>\n",
       "      <td>0.000</td>\n",
       "    </tr>\n",
       "  </tbody>\n",
       "</table>\n",
       "</div>"
      ],
      "text/plain": [
       "                   observation    n  bias   rmse  urmse    mae     cc     si  \\\n",
       "model                                                                          \n",
       "Oresund2D  smhi_2095_klagshamn  167  -0.0  0.041  0.041  0.033  0.838  0.379   \n",
       "dummy      smhi_2095_klagshamn  167  -0.0  0.075  0.075  0.061 -0.000  0.695   \n",
       "\n",
       "              r2  \n",
       "model             \n",
       "Oresund2D  0.702  \n",
       "dummy      0.000  "
      ]
     },
     "execution_count": 4,
     "metadata": {},
     "output_type": "execute_result"
    }
   ],
   "source": [
    "cmp = ms.match(obs=obs, mod=[mr, dmr]).remove_bias()\n",
    "cmp.skill().round(3)"
   ]
  },
  {
   "cell_type": "code",
   "execution_count": 5,
   "metadata": {},
   "outputs": [
    {
     "data": {
      "image/png": "[encoded data removed]",
      "text/plain": [
       "<Figure size 640x480 with 1 Axes>"
      ]
     },
     "metadata": {},
     "output_type": "display_data"
    }
   ],
   "source": [
    "cmp.skill().rmse.plot.barh(title=\"Better than predicting 0.0\");"
   ]
  },
  {
   "cell_type": "markdown",
   "metadata": {},
   "source": [
    "Above we created a DummyModelResult which always predicts 0.0.\n",
    "\n",
    "But we can be even more lazy and just use the `DummyModelResult` with the `mean` strategy, which will predict the mean of the observed values."
   ]
  },
  {
   "cell_type": "code",
   "execution_count": 6,
   "metadata": {},
   "outputs": [
    {
     "data": {
      "text/plain": [
       "DummyModelResult(name='dummy', data=None, strategy='mean')"
      ]
     },
     "execution_count": 6,
     "metadata": {},
     "output_type": "execute_result"
    }
   ],
   "source": [
    "dmr2 = ms.DummyModelResult(strategy='mean')\n",
    "dmr2"
   ]
  },
  {
   "cell_type": "code",
   "execution_count": 7,
   "metadata": {},
   "outputs": [
    {
     "data": {
      "text/html": [
       "<div>\n",
       "<style scoped>\n",
       "    .dataframe tbody tr th:only-of-type {\n",
       "        vertical-align: middle;\n",
       "    }\n",
       "\n",
       "    .dataframe tbody tr th {\n",
       "        vertical-align: top;\n",
       "    }\n",
       "\n",
       "    .dataframe thead th {\n",
       "        text-align: right;\n",
       "    }\n",
       "</style>\n",
       "<table border=\"1\" class=\"dataframe\">\n",
       "  <thead>\n",
       "    <tr style=\"text-align: right;\">\n",
       "      <th></th>\n",
       "      <th>observation</th>\n",
       "      <th>n</th>\n",
       "      <th>bias</th>\n",
       "      <th>rmse</th>\n",
       "      <th>urmse</th>\n",
       "      <th>mae</th>\n",
       "      <th>cc</th>\n",
       "      <th>si</th>\n",
       "      <th>r2</th>\n",
       "    </tr>\n",
       "    <tr>\n",
       "      <th>model</th>\n",
       "      <th></th>\n",
       "      <th></th>\n",
       "      <th></th>\n",
       "      <th></th>\n",
       "      <th></th>\n",
       "      <th></th>\n",
       "      <th></th>\n",
       "      <th></th>\n",
       "      <th></th>\n",
       "    </tr>\n",
       "  </thead>\n",
       "  <tbody>\n",
       "    <tr>\n",
       "      <th>Oresund2D</th>\n",
       "      <td>smhi_2095_klagshamn</td>\n",
       "      <td>167</td>\n",
       "      <td>-0.0</td>\n",
       "      <td>0.041</td>\n",
       "      <td>0.041</td>\n",
       "      <td>0.033</td>\n",
       "      <td>0.838</td>\n",
       "      <td>0.379</td>\n",
       "      <td>0.702</td>\n",
       "    </tr>\n",
       "    <tr>\n",
       "      <th>dummy</th>\n",
       "      <td>smhi_2095_klagshamn</td>\n",
       "      <td>167</td>\n",
       "      <td>-0.0</td>\n",
       "      <td>0.075</td>\n",
       "      <td>0.075</td>\n",
       "      <td>0.061</td>\n",
       "      <td>0.000</td>\n",
       "      <td>0.695</td>\n",
       "      <td>0.000</td>\n",
       "    </tr>\n",
       "  </tbody>\n",
       "</table>\n",
       "</div>"
      ],
      "text/plain": [
       "                   observation    n  bias   rmse  urmse    mae     cc     si  \\\n",
       "model                                                                          \n",
       "Oresund2D  smhi_2095_klagshamn  167  -0.0  0.041  0.041  0.033  0.838  0.379   \n",
       "dummy      smhi_2095_klagshamn  167  -0.0  0.075  0.075  0.061  0.000  0.695   \n",
       "\n",
       "              r2  \n",
       "model             \n",
       "Oresund2D  0.702  \n",
       "dummy      0.000  "
      ]
     },
     "execution_count": 7,
     "metadata": {},
     "output_type": "execute_result"
    }
   ],
   "source": [
    "cmp2 = ms.match(obs=obs, mod=[mr, dmr2]).remove_bias()\n",
    "cmp2.skill().round(3)"
   ]
  }
 ],
 "metadata": {
  "kernelspec": {
   "display_name": "Python 3",
   "language": "python",
   "name": "python3"
  },
  "language_info": {
   "codemirror_mode": {
    "name": "ipython",
    "version": 3
   },
   "file_extension": ".py",
   "mimetype": "text/x-python",
   "name": "python",
   "nbconvert_exporter": "python",
   "pygments_lexer": "ipython3",
   "version": "3.10.12"
  }
 },
 "nbformat": 4,
 "nbformat_minor": 2
}
