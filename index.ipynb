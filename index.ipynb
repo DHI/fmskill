{
  "cells": [
    {
      "cell_type": "markdown",
      "metadata": {},
      "source": [
        "# \n",
        "\n",
        "![](https://raw.githubusercontent.com/DHI/modelskill/main/images/logo/modelskill.svg)\n",
        "\n",
        "# ModelSkill: Assess the skill of your simulations\n",
        "\n",
        "![OS](https://img.shields.io/badge/OS-Windows%20%7C%20Linux-blue.png)\n",
        "![Python version](https://img.shields.io/pypi/pyversions/modelskill.svg)\n",
        "![PyPI version](https://badge.fury.io/py/modelskill.svg)\n",
        "\n",
        "##  **Set up in 5 minutes**\n",
        "\n",
        "Install **ModelSkill** with\n",
        "[`pip`](https://pypi.org/project/modelskill/) and get up and running in\n",
        "minutes\n",
        "\n",
        "[**Getting started**](user-guide/getting-started.qmd)\n",
        "\n",
        "##  **It’s just Python**\n",
        "\n",
        "Focus on your modelling and less on generate a validation report\n",
        "\n",
        "[**API Reference**](api/index.qmd)\n",
        "\n",
        "##  **Made to measure**\n",
        "\n",
        "Choose amongst different skill metrics, tables and charts\n",
        "\n",
        "[**Metrics**](api/metrics.qmd)\n",
        "\n",
        "##  **Open Source, MIT**\n",
        "\n",
        "ModelSkill is licensed under MIT and available on\n",
        "[GitHub](https://github.com/DHI/modelskill)\n",
        "\n",
        "[**License**](license.qmd)"
      ],
      "id": "3725eb8e-167b-456f-ac2c-0176fc2f9f7a"
    }
  ],
  "nbformat": 4,
  "nbformat_minor": 5,
  "metadata": {
    "kernelspec": {
      "display_name": "Python 3",
      "language": "python",
      "name": "python3"
    }
  }
}