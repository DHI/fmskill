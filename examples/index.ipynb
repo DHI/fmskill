{
  "cells": [
    {
      "cell_type": "markdown",
      "metadata": {},
      "source": [
        "# Examples"
      ],
      "id": "31bef204-adb5-4c62-90e4-a669e7ead8c8"
    }
  ],
  "nbformat": 4,
  "nbformat_minor": 5,
  "metadata": {
    "kernelspec": {
      "display_name": "Python 3",
      "language": "python",
      "name": "python3"
    }
  }
}