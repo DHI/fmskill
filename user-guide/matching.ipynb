{
  "cells": [
    {
      "cell_type": "markdown",
      "metadata": {},
      "source": [
        "# Matching\n",
        "\n",
        "Once observations and model results have been defined, the next step is\n",
        "to match them. This is done using the `match()` function which handles\n",
        "the allignment of the observation and model result data in space and\n",
        "time. Note that if the data is already matched, the `from_matched()`\n",
        "function can be used to create a `Comparer` directly from the matched\n",
        "data and the matching described here is not needed.\n",
        "\n",
        "> **Important**\n",
        ">\n",
        "> The observation is considered the *truth* and the model result data is\n",
        "> therefore interpolated to the observation data positions.\n",
        "\n",
        "The matching process will be different depending on the geometry of\n",
        "observation and model result:\n",
        "\n",
        "-   Geometries are the *same* (e.g. both are point time series): only\n",
        "    temporal matching is needed\n",
        "-   Geometries are *different* (e.g. observation is a point time series\n",
        "    and model result is a grid): data is first spatially *extracted*\n",
        "    from the model result and *then* matched in time.\n",
        "\n",
        "## Temporal matching\n",
        "\n",
        "Temporal matching is done by interpolating the model result data to the\n",
        "observation data time points; it is carried out after spatial matching\n",
        "when applicable. The interpolation is *linear* in time and done inside\n",
        "the `match()` function.\n",
        "\n",
        "## Matching of time series\n",
        "\n",
        "If observation and model result are of the same geometry, the matching\n",
        "is done *one* observation at a time. Several model results can be\n",
        "matched to the same observation. The result of the matching process is a\n",
        "`Comparer` object which contains the matched data.\n",
        "\n",
        "In the most simple cases, one observation to one model result, the\n",
        "`match()` function can be used directly, without creating Observation\n",
        "and ModelResult objects first:"
      ],
      "id": "f37adc75-c6b2-4e6c-90c7-a29293c24805"
    },
    {
      "cell_type": "code",
      "execution_count": 1,
      "metadata": {},
      "outputs": [
        {
          "output_type": "display_data",
          "metadata": {},
          "data": {
            "text/plain": [
              "<Comparer>\n",
              "Quantity: Significant wave height [m]\n",
              "Observation: HKNA_Hm0, n_points=554\n",
              "Model(s):\n",
              "0: HKNA_Hm0_Model"
            ]
          }
        }
      ],
      "source": [
        "import modelskill as ms\n",
        "cmp = ms.match(\"../data/SW/HKNA_Hm0.dfs0\", \"../data/SW/HKNA_Hm0_Model.dfs0\", gtype='point')\n",
        "cmp"
      ],
      "id": "a46805e7"
    },
    {
      "cell_type": "markdown",
      "metadata": {},
      "source": [
        "In all other cases, the observations and model results needs to be\n",
        "defined first.\n",
        "\n",
        "## Matching with dfsu or grid model result\n",
        "\n",
        "If the model result is a SpatialField, i.e., either a `GridModelResult`\n",
        "or a `DfsuModelResult`, and the observation is of lower dimension\n",
        "(e.g. point), then the model result needs to be *extracted* before\n",
        "matching can be done. This can be done “offline” before using\n",
        "ModelSkill, e.g., using [MIKE](https://www.mikepoweredbydhi.com/) tools\n",
        "or [MIKE IO](https://github.com/DHI/mikeio), or as part of the matching\n",
        "process using ModelSkill. We will here focus on the latter.\n",
        "\n",
        "In this situation, *multiple* observations can be matched to the same\n",
        "model result, in which case the `match` function returns a\n",
        "`ComparerCollection` instead of a `Comparer` which is the returned\n",
        "object for single observation matching."
      ],
      "id": "f5e114d5-b50a-4fcf-bb98-b176671b7f9c"
    },
    {
      "cell_type": "code",
      "execution_count": 2,
      "metadata": {},
      "outputs": [
        {
          "output_type": "display_data",
          "metadata": {},
          "data": {
            "text/plain": [
              "<Comparer>\n",
              "Quantity: Significant wave height [m]\n",
              "Observation: HKNA, n_points=120\n",
              "Model(s):\n",
              "0: HKZN_local\n",
              "1: CMEMS"
            ]
          }
        }
      ],
      "source": [
        "o1 = ms.observation(\"../data/SW/HKNA_Hm0.dfs0\", item=0,\n",
        "                    x=4.2420, y=52.6887,\n",
        "                    name=\"HKNA\")\n",
        "mr_dfsu = ms.model_result(\"../data/SW/HKZN_local_2017_DutchCoast.dfsu\", \n",
        "                      item=\"Sign. Wave Height\",\n",
        "                      name=\"HKZN_local\")\n",
        "mr_nc = ms.model_result(\"../data/SW/CMEMS_DutchCoast_2017-10-28.nc\", \n",
        "                      item=\"VHM0\",\n",
        "                      name=\"CMEMS\")\n",
        "cmp = ms.match(o1, [mr_dfsu, mr_nc])\n",
        "cmp"
      ],
      "id": "e1e7de7e"
    },
    {
      "cell_type": "markdown",
      "metadata": {},
      "source": [
        "In most cases, *several* observations needs to matched with several\n",
        "model results. This can be done by constructing a list of `Comparer`\n",
        "objects and then combining them into a `ComparerCollection`:"
      ],
      "id": "b2c0dbd4-a819-479f-99e2-929c5efb7e72"
    },
    {
      "cell_type": "code",
      "execution_count": 3,
      "metadata": {},
      "outputs": [
        {
          "output_type": "display_data",
          "metadata": {},
          "data": {
            "text/plain": [
              "<ComparerCollection>\n",
              "Comparers:\n",
              "0: HKNA - Significant wave height [m]\n",
              "1: EPL - Significant wave height [m]"
            ]
          }
        }
      ],
      "source": [
        "o2 = ms.observation(\"../data/SW/eur_Hm0.dfs0\", item=0,\n",
        "                     x=3.2760, y=51.9990,\n",
        "                     name=\"EPL\")\n",
        "                     \n",
        "observations = [o1, o2]\n",
        "cmps = []\n",
        "for o in observations:\n",
        "     cmps.append(ms.match(o, [mr_dfsu, mr_nc]))\n",
        "cc = ms.ComparerCollection(cmps)\n",
        "cc"
      ],
      "id": "880f9ab9"
    },
    {
      "cell_type": "markdown",
      "metadata": {},
      "source": [
        "Matching `PointObservation` with `SpatialField` model results consists\n",
        "of two steps:\n",
        "\n",
        "1.  Extracting data from the model result at the spatial position of the\n",
        "    observation, which returns a PointModelResult\n",
        "2.  Matching the extracted data with the observation data in time\n",
        "\n",
        "Matching `TrackObservation` with `SpatialField` model results is for\n",
        "technical reasons handled in *one* step, i.e., the data is extracted in\n",
        "both space and time.\n",
        "\n",
        "The spatial matching method (selection or interpolation) can be\n",
        "specified using the `spatial_method` argument of the `match()` function.\n",
        "The default method depends on the type of observation and model result\n",
        "as specified in the sections below.\n",
        "\n",
        "### Extracting data from a DfsuModelResult\n",
        "\n",
        "Extracting data for a specific point position from the flexible mesh\n",
        "dfsu files can be done in several ways (specified by the\n",
        "`spatial_method` argument of the `match()` function):\n",
        "\n",
        "-   Selection of the “contained” element\n",
        "-   Selection of the “nearest” element (often the same as the contained\n",
        "    element, but not always)\n",
        "-   Interpolation with “inverse_distance” weighting (IDW) using the five\n",
        "    nearest elements (default)\n",
        "\n",
        "The default (inverse_distance) is not necessarily the best method in all\n",
        "cases. When the extracted position is close to the model boundary,\n",
        "“contained” may be a better choice."
      ],
      "id": "4e9a6b43-da19-4973-a8c7-790fe3b1d809"
    },
    {
      "cell_type": "code",
      "execution_count": 4,
      "metadata": {},
      "outputs": [],
      "source": [
        "cc = ms.match([o1, o2], mr_dfsu, spatial_method='contained')   "
      ],
      "id": "dd59b07c"
    },
    {
      "cell_type": "markdown",
      "metadata": {},
      "source": [
        "> **Note**\n",
        ">\n",
        "> -   Extraction of *track* data does not currently support the\n",
        ">     “contained” method.\n",
        "> -   Extraction of point data from 3D dfsu files is not yet fully\n",
        ">     supported. It is recommended to extract the data “offline” prior\n",
        ">     to using ModelSkill.\n",
        "\n",
        "### Extracting data from a GridModelResult\n",
        "\n",
        "Extracting data from a GridModelResult is done through xarray’s\n",
        "`interp()` function. The `spatial_method` argument of the `match()`\n",
        "function is passed on to the `interp()` function as the `method`\n",
        "argument. The default method is “linear” which is the recommended method\n",
        "for most cases. Close to land where the grid model result data is often\n",
        "missing, “nearest” may be a better choice."
      ],
      "id": "b2efa165-9ed7-470b-8020-0ce417732ce5"
    },
    {
      "cell_type": "code",
      "execution_count": 5,
      "metadata": {},
      "outputs": [],
      "source": [
        "cc = ms.match([o1, o2], mr_nc, spatial_method='nearest')   "
      ],
      "id": "87a59aae"
    },
    {
      "cell_type": "markdown",
      "metadata": {},
      "source": [
        "## Event-based matching and handling of gaps\n",
        "\n",
        "If the model result data contains gaps either because only events are\n",
        "stored or because of missing data, the `max_model_gap` argument of the\n",
        "`match()` function can be used to specify the maximum allowed gap (in\n",
        "seconds) in the model result data. This will avoid interpolating model\n",
        "data over long gaps in the model result data!\n",
        "\n",
        "## Multiple model results with different temporal coverage\n",
        "\n",
        "If the model results have different temporal coverage, the `match()`\n",
        "function will only match the overlapping time period to ensure that the\n",
        "model results are comparable. The `Comparer` object will contain the\n",
        "matched data for the overlapping period only."
      ],
      "id": "b991f7ba-b281-443b-b320-a74ce8c5e4f9"
    }
  ],
  "nbformat": 4,
  "nbformat_minor": 5,
  "metadata": {
    "kernelspec": {
      "name": "python3",
      "display_name": "Python 3 (ipykernel)",
      "language": "python",
      "path": "/opt/hostedtoolcache/Python/3.11.11/x64/share/jupyter/kernels/python3"
    },
    "language_info": {
      "name": "python",
      "codemirror_mode": {
        "name": "ipython",
        "version": "3"
      },
      "file_extension": ".py",
      "mimetype": "text/x-python",
      "nbconvert_exporter": "python",
      "pygments_lexer": "ipython3",
      "version": "3.11.11"
    }
  }
}