{
  "cells": [
    {
      "cell_type": "markdown",
      "metadata": {},
      "source": [
        "# \n",
        "\n",
        "# Skill\n",
        "\n",
        "Matched data can be analysed statistically using the `skill()` function.\n",
        "The function returns a `Skill` object which contains the statistical\n",
        "results. The `Skill` object can be printed to the console or saved to a\n",
        "file using the `save()` function.\n",
        "\n",
        "\\`\\`\\`python"
      ],
      "id": "707f3b68-d84c-4df9-aab9-21de11276148"
    }
  ],
  "nbformat": 4,
  "nbformat_minor": 5,
  "metadata": {
    "kernelspec": {
      "display_name": "Python 3",
      "language": "python",
      "name": "python3"
    }
  }
}