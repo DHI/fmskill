{
  "cells": [
    {
      "cell_type": "markdown",
      "metadata": {},
      "source": [
        "# \n",
        "\n",
        "# Skill\n",
        "\n",
        "Matched data can be analysed statistically using the `skill()` function.\n",
        "The function returns a `Skill` object which contains the statistical\n",
        "results. The `Skill` object can be printed to the console or saved to a\n",
        "file using the `save()` function.\n",
        "\n",
        "\\`\\`\\`python"
      ],
      "id": "3ecb10ce-5146-4e81-a239-d6f0b76b6167"
    }
  ],
  "nbformat": 4,
  "nbformat_minor": 5,
  "metadata": {
    "kernelspec": {
      "display_name": "Python 3",
      "language": "python",
      "name": "python3"
    }
  }
}