{
  "cells": [
    {
      "cell_type": "markdown",
      "metadata": {},
      "source": [
        "# \n",
        "\n",
        "# Skill\n",
        "\n",
        "Matched data can be analysed statistically using the `skill()` function.\n",
        "The function returns a `Skill` object which contains the statistical\n",
        "results. The `Skill` object can be printed to the console or saved to a\n",
        "file using the `save()` function.\n",
        "\n",
        "\\`\\`\\`python"
      ],
      "id": "1203de07-f904-49fa-bda0-5d6517df40e6"
    }
  ],
  "nbformat": 4,
  "nbformat_minor": 5,
  "metadata": {
    "kernelspec": {
      "display_name": "Python 3",
      "language": "python",
      "name": "python3"
    }
  }
}