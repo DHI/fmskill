{
  "cells": [
    {
      "cell_type": "markdown",
      "metadata": {},
      "source": [
        "# Selecting data\n",
        "\n",
        "The primary data filtering method of ModelSkill is the `sel()` method\n",
        "which is accesible on most ModelSkill data structures. The `sel()`\n",
        "method is a wrapper around\n",
        "[`xarray.Dataset.sel`](https://xarray.pydata.org/en/stable/generated/xarray.Dataset.sel.html#xarray.Dataset.sel)\n",
        "and can be used to select data based on time, location and/or variable.\n",
        "The `sel()` method returns a new data structure of the same type with\n",
        "the selected data.\n",
        "\n",
        "## TimeSeries data\n",
        "\n",
        "Point and track timeseries data of both observation and model result\n",
        "kinds are stored in\n",
        "[`TimeSeries`](../api/TimeSeries.html#modelskill.TimeSeries) objects\n",
        "which uses\n",
        "[`xarray.Dataset`](https://xarray.pydata.org/en/stable/generated/xarray.Dataset.html#xarray.Dataset)\n",
        "as data container. The\n",
        "[`sel()`](../api/TimeSeries.html#modelskill.TimeSeries.sel) method can\n",
        "be used to select data based on time and returns a new\n",
        "[`TimeSeries`](../api/TimeSeries.html#modelskill.TimeSeries) object with\n",
        "the selected data."
      ],
      "id": "02fd41ad-dfcb-497e-ac7b-45fb6c04f1b9"
    },
    {
      "cell_type": "code",
      "execution_count": 1,
      "metadata": {},
      "outputs": [
        {
          "output_type": "display_data",
          "metadata": {},
          "data": {
            "text/plain": [
              "<PointObservation>: obs\n",
              "Location: nan, nan\n",
              "Time: 2018-01-01 00:00:00 - 2018-02-01 23:00:00\n",
              "Quantity:  []"
            ]
          }
        }
      ],
      "source": [
        "import modelskill as ms\n",
        "o = ms.observation(\"../data/obs.nc\", item=\"waterlevel\", gtype='point')\n",
        "o_1month = o.sel(time=slice(\"2018-01-01\", \"2018-02-01\"))\n",
        "o_1month"
      ],
      "id": "7f0fd193"
    },
    {
      "cell_type": "markdown",
      "metadata": {},
      "source": [
        "## Comparer objects\n",
        "\n",
        "[`Comparer`](../api/Comparer.html#modelskill.Comparer) and\n",
        "[`ComparerCollection`](../api/ComparerCollection.html#modelskill.ComparerCollection)\n",
        "contain matched data from observations and model results. The `sel()`\n",
        "method can be used to select data based on time, model, quantity or\n",
        "other criteria and returns a new comparer object with the selected data."
      ],
      "id": "38454ead-77bf-41f1-a4de-8f0e52240d8f"
    },
    {
      "cell_type": "code",
      "execution_count": 2,
      "metadata": {},
      "outputs": [],
      "source": [
        "o = ms.observation(\"../data/SW/HKNA_Hm0.dfs0\", item=0,\n",
        "                    x=4.2420, y=52.6887,\n",
        "                    name=\"HKNA\")\n",
        "m1 = ms.model_result(\"../data/SW/HKZN_local_2017_DutchCoast.dfsu\", \n",
        "                      item=\"Sign. Wave Height\",\n",
        "                      name=\"m1\")\n",
        "m2 = ms.model_result(\"../data/SW/CMEMS_DutchCoast_2017-10-28.nc\", \n",
        "                      item=\"VHM0\",\n",
        "                      name=\"m2\")"
      ],
      "id": "a2b38a92"
    },
    {
      "cell_type": "code",
      "execution_count": 3,
      "metadata": {},
      "outputs": [],
      "source": [
        "cmp = ms.match(o, [m1, m2])\n",
        "cmp_1month = cmp.sel(time=slice('2018-01-01', '2018-02-01'))\n",
        "cmp_m1 = cmp.sel(model='m1')"
      ],
      "id": "3374706d"
    },
    {
      "cell_type": "markdown",
      "metadata": {},
      "source": [
        "## Skill objects\n",
        "\n",
        "The [`skill()`](../api/Comparer.html#modelskill.Comparer.skill) and\n",
        "[`mean_skill()`](../api/ComparerCollection.html#modelskill.ComparerCollection.mean_skill)\n",
        "methods return a\n",
        "[`SkillTable`](../api/SkillTable.html#modelskill.SkillTable) object with\n",
        "skill scores from comparing observation and model result data using\n",
        "different metrics (e.g. root mean square error). The data of the\n",
        "[`SkillTable`](../api/SkillTable.html#modelskill.SkillTable) object is\n",
        "stored in a (MultiIndex)\n",
        "[`pandas.DataFrame`](https://pandas.pydata.org/docs/reference/api/pandas.DataFrame.html#pandas.DataFrame)\n",
        "which can be accessed via the `data` attribute. The `sel()` method can\n",
        "be used to select specific rows and returns a new\n",
        "[`SkillTable`](../api/SkillTable.html#modelskill.SkillTable) object with\n",
        "the selected data."
      ],
      "id": "14ce5e7b-7384-4f92-b82d-327046e79874"
    },
    {
      "cell_type": "code",
      "execution_count": 4,
      "metadata": {},
      "outputs": [],
      "source": [
        "sk = cmp.skill()\n",
        "sk_m1 = sk.sel(model='m1')"
      ],
      "id": "4bd9eb5d"
    }
  ],
  "nbformat": 4,
  "nbformat_minor": 5,
  "metadata": {
    "kernelspec": {
      "name": "python3",
      "display_name": "Python 3 (ipykernel)",
      "language": "python",
      "path": "/opt/hostedtoolcache/Python/3.11.11/x64/share/jupyter/kernels/python3"
    },
    "language_info": {
      "name": "python",
      "codemirror_mode": {
        "name": "ipython",
        "version": "3"
      },
      "file_extension": ".py",
      "mimetype": "text/x-python",
      "nbconvert_exporter": "python",
      "pygments_lexer": "ipython3",
      "version": "3.11.11"
    }
  }
}